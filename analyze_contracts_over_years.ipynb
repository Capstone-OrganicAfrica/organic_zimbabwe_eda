{
 "cells": [
  {
   "cell_type": "code",
   "execution_count": 240,
   "metadata": {},
   "outputs": [],
   "source": [
    "import pandas as pd\n",
    "import sql_functions as sf\n",
    "import numpy as np\n",
    "import matplotlib.pyplot as plt\n",
    "\n",
    "schema = 'organic_africa' # UPDATE 'TABLE_SCHEMA' based on schema used in class \n",
    "engine = sf.get_engine()"
   ]
  },
  {
   "cell_type": "code",
   "execution_count": 242,
   "metadata": {},
   "outputs": [
    {
     "data": {
      "text/plain": [
       "(20610, 27)"
      ]
     },
     "execution_count": 242,
     "metadata": {},
     "output_type": "execute_result"
    }
   ],
   "source": [
    "farmers_df = sf.get_dataframe(f'SELECT * FROM {schema}.all_farmers')\n",
    "farmers_df.shape"
   ]
  },
  {
   "cell_type": "code",
   "execution_count": 243,
   "metadata": {},
   "outputs": [
    {
     "data": {
      "text/html": [
       "<div>\n",
       "<style scoped>\n",
       "    .dataframe tbody tr th:only-of-type {\n",
       "        vertical-align: middle;\n",
       "    }\n",
       "\n",
       "    .dataframe tbody tr th {\n",
       "        vertical-align: top;\n",
       "    }\n",
       "\n",
       "    .dataframe thead th {\n",
       "        text-align: right;\n",
       "    }\n",
       "</style>\n",
       "<table border=\"1\" class=\"dataframe\">\n",
       "  <thead>\n",
       "    <tr style=\"text-align: right;\">\n",
       "      <th></th>\n",
       "      <th>org_table</th>\n",
       "      <th>org_table_ind</th>\n",
       "      <th>id</th>\n",
       "      <th>og_nr</th>\n",
       "      <th>og_code</th>\n",
       "      <th>production_unit</th>\n",
       "      <th>area</th>\n",
       "      <th>ward_nr/name</th>\n",
       "      <th>species</th>\n",
       "      <th>surname</th>\n",
       "      <th>...</th>\n",
       "      <th>address</th>\n",
       "      <th>organic_status</th>\n",
       "      <th>organic_status_from_date</th>\n",
       "      <th>fairtrade</th>\n",
       "      <th>ward_nr</th>\n",
       "      <th>wc_nr</th>\n",
       "      <th>wc_code</th>\n",
       "      <th>contract_duration</th>\n",
       "      <th>age_at_date_contracted</th>\n",
       "      <th>type</th>\n",
       "    </tr>\n",
       "  </thead>\n",
       "  <tbody>\n",
       "    <tr>\n",
       "      <th>11490</th>\n",
       "      <td>wc_info_bayoba_1_df</td>\n",
       "      <td>2396</td>\n",
       "      <td>8482</td>\n",
       "      <td>NaN</td>\n",
       "      <td>None</td>\n",
       "      <td>Northern Eastern region</td>\n",
       "      <td>Mt Darwin</td>\n",
       "      <td>4</td>\n",
       "      <td>baobab</td>\n",
       "      <td>Tsingano</td>\n",
       "      <td>...</td>\n",
       "      <td>Kapiripiri Pry Sch, Box 411, Mt Darwin</td>\n",
       "      <td>org</td>\n",
       "      <td>NaT</td>\n",
       "      <td>False</td>\n",
       "      <td>4.0</td>\n",
       "      <td>41453.0</td>\n",
       "      <td>MTWC</td>\n",
       "      <td>NaN</td>\n",
       "      <td>NaN</td>\n",
       "      <td>wc</td>\n",
       "    </tr>\n",
       "  </tbody>\n",
       "</table>\n",
       "<p>1 rows × 27 columns</p>\n",
       "</div>"
      ],
      "text/plain": [
       "                 org_table  org_table_ind    id  og_nr og_code  \\\n",
       "11490  wc_info_bayoba_1_df           2396  8482    NaN    None   \n",
       "\n",
       "               production_unit       area ward_nr/name species   surname  ...  \\\n",
       "11490  Northern Eastern region  Mt Darwin            4  baobab  Tsingano  ...   \n",
       "\n",
       "                                      address organic_status  \\\n",
       "11490  Kapiripiri Pry Sch, Box 411, Mt Darwin            org   \n",
       "\n",
       "      organic_status_from_date fairtrade ward_nr    wc_nr wc_code  \\\n",
       "11490                      NaT     False     4.0  41453.0    MTWC   \n",
       "\n",
       "      contract_duration age_at_date_contracted type  \n",
       "11490               NaN                    NaN   wc  \n",
       "\n",
       "[1 rows x 27 columns]"
      ]
     },
     "execution_count": 243,
     "metadata": {},
     "output_type": "execute_result"
    }
   ],
   "source": [
    "\n",
    "farmers_df[farmers_df['wc_nr']==41453.0]"
   ]
  },
  {
   "cell_type": "code",
   "execution_count": 244,
   "metadata": {},
   "outputs": [
    {
     "data": {
      "text/html": [
       "<div>\n",
       "<style scoped>\n",
       "    .dataframe tbody tr th:only-of-type {\n",
       "        vertical-align: middle;\n",
       "    }\n",
       "\n",
       "    .dataframe tbody tr th {\n",
       "        vertical-align: top;\n",
       "    }\n",
       "\n",
       "    .dataframe thead th {\n",
       "        text-align: right;\n",
       "    }\n",
       "</style>\n",
       "<table border=\"1\" class=\"dataframe\">\n",
       "  <thead>\n",
       "    <tr style=\"text-align: right;\">\n",
       "      <th></th>\n",
       "      <th>org_table</th>\n",
       "      <th>org_table_ind</th>\n",
       "      <th>id</th>\n",
       "      <th>og_nr</th>\n",
       "      <th>og_code</th>\n",
       "      <th>production_unit</th>\n",
       "      <th>area</th>\n",
       "      <th>ward_nr/name</th>\n",
       "      <th>species</th>\n",
       "      <th>surname</th>\n",
       "      <th>...</th>\n",
       "      <th>address</th>\n",
       "      <th>organic_status</th>\n",
       "      <th>organic_status_from_date</th>\n",
       "      <th>fairtrade</th>\n",
       "      <th>ward_nr</th>\n",
       "      <th>wc_nr</th>\n",
       "      <th>wc_code</th>\n",
       "      <th>contract_duration</th>\n",
       "      <th>age_at_date_contracted</th>\n",
       "      <th>type</th>\n",
       "    </tr>\n",
       "  </thead>\n",
       "  <tbody>\n",
       "    <tr>\n",
       "      <th>7948</th>\n",
       "      <td>OG_Info_reserve__OGOrg_1_df</td>\n",
       "      <td>288</td>\n",
       "      <td>1905</td>\n",
       "      <td>14046.0</td>\n",
       "      <td>BNOG</td>\n",
       "      <td>Matabeleland North</td>\n",
       "      <td>Binga</td>\n",
       "      <td>5 Sinakoma</td>\n",
       "      <td>rosella</td>\n",
       "      <td>Munkuli</td>\n",
       "      <td>...</td>\n",
       "      <td>Dongamuse Pri school</td>\n",
       "      <td>org</td>\n",
       "      <td>2018-08-31</td>\n",
       "      <td>False</td>\n",
       "      <td>5.0</td>\n",
       "      <td>NaN</td>\n",
       "      <td>None</td>\n",
       "      <td>NaN</td>\n",
       "      <td>33.0</td>\n",
       "      <td>og</td>\n",
       "    </tr>\n",
       "  </tbody>\n",
       "</table>\n",
       "<p>1 rows × 27 columns</p>\n",
       "</div>"
      ],
      "text/plain": [
       "                        org_table  org_table_ind    id    og_nr og_code  \\\n",
       "7948  OG_Info_reserve__OGOrg_1_df            288  1905  14046.0    BNOG   \n",
       "\n",
       "         production_unit   area ward_nr/name  species  surname  ...  \\\n",
       "7948  Matabeleland North  Binga   5 Sinakoma  rosella  Munkuli  ...   \n",
       "\n",
       "                   address organic_status organic_status_from_date fairtrade  \\\n",
       "7948  Dongamuse Pri school            org               2018-08-31     False   \n",
       "\n",
       "     ward_nr wc_nr wc_code contract_duration age_at_date_contracted type  \n",
       "7948     5.0   NaN    None               NaN                   33.0   og  \n",
       "\n",
       "[1 rows x 27 columns]"
      ]
     },
     "execution_count": 244,
     "metadata": {},
     "output_type": "execute_result"
    }
   ],
   "source": [
    "\n",
    "farmers_df[farmers_df['og_nr']==14046.0]"
   ]
  },
  {
   "attachments": {},
   "cell_type": "markdown",
   "metadata": {},
   "source": [
    "One of the OA Goal is to **offer long-term contracts**. That is following KPI are analyzed:"
   ]
  },
  {
   "attachments": {},
   "cell_type": "markdown",
   "metadata": {},
   "source": [
    "### How many partner farmers does Organic Africa have?\n",
    "\n",
    "- OA has **20610** total farmers registered. \n",
    "- OA had **20609** contracts over the years and **1** farmers have no info about contracts.\n",
    "- From total *20609 contracts* **44%** were with **OGs** and **56%** with **WCs**\n",
    "- OA had **9298** drop outs from contracts.\n",
    "- OA has currently total **11312** partner farmers.\n"
   ]
  },
  {
   "cell_type": "code",
   "execution_count": 245,
   "metadata": {},
   "outputs": [],
   "source": [
    "contracted = farmers_df[~farmers_df['date_contracted'].isna() | ~farmers_df['date_dropped_out'].isna()]\n",
    "dropped = farmers_df[~farmers_df['date_dropped_out'].isna()]\n",
    "\n",
    "og = farmers_df[~farmers_df['og_nr'].isna()]\n",
    "wc = farmers_df[~farmers_df['wc_nr'].isna()]\n",
    "still_contracted = farmers_df[farmers_df['date_dropped_out'].isna()]\n"
   ]
  },
  {
   "cell_type": "code",
   "execution_count": 258,
   "metadata": {},
   "outputs": [
    {
     "data": {
      "text/plain": [
       "wc    11517\n",
       "og     9093\n",
       "Name: type, dtype: int64"
      ]
     },
     "execution_count": 258,
     "metadata": {},
     "output_type": "execute_result"
    }
   ],
   "source": [
    "farmers_df['type'].value_counts()"
   ]
  },
  {
   "cell_type": "code",
   "execution_count": 248,
   "metadata": {},
   "outputs": [
    {
     "data": {
      "text/plain": [
       "{'contracts': 20609,\n",
       " 'og': '44.12%',\n",
       " 'wc': '55.88%',\n",
       " 'dropped': 9301,\n",
       " 'current': 11309}"
      ]
     },
     "execution_count": 248,
     "metadata": {},
     "output_type": "execute_result"
    }
   ],
   "source": [
    "overview = {\n",
    "    'contracts': contracted.shape[0],\n",
    "    'og': '{:,.2%}'.format(og.shape[0]/contracted.shape[0]),\n",
    "    'wc': '{:,.2%}'.format(wc.shape[0]/contracted.shape[0]),\n",
    "    'dropped': dropped.shape[0],\n",
    "    'current':still_contracted.shape[0]\n",
    "}\n",
    "\n",
    "overview"
   ]
  },
  {
   "cell_type": "code",
   "execution_count": 249,
   "metadata": {},
   "outputs": [],
   "source": [
    "# reason_dropped_out over years"
   ]
  },
  {
   "attachments": {},
   "cell_type": "markdown",
   "metadata": {},
   "source": [
    "Regarding **contracts** 10 farmers of total 20610 registered farmers don't have date_contracted but 9 have a date_dropped out\n",
    "\n",
    "Most of them are **wildcollectors** of the species **wild gotu kola** from the area **Chimanimani** with a **organic status**"
   ]
  },
  {
   "cell_type": "code",
   "execution_count": 250,
   "metadata": {},
   "outputs": [
    {
     "data": {
      "text/html": [
       "<div>\n",
       "<style scoped>\n",
       "    .dataframe tbody tr th:only-of-type {\n",
       "        vertical-align: middle;\n",
       "    }\n",
       "\n",
       "    .dataframe tbody tr th {\n",
       "        vertical-align: top;\n",
       "    }\n",
       "\n",
       "    .dataframe thead th {\n",
       "        text-align: right;\n",
       "    }\n",
       "</style>\n",
       "<table border=\"1\" class=\"dataframe\">\n",
       "  <thead>\n",
       "    <tr style=\"text-align: right;\">\n",
       "      <th></th>\n",
       "      <th>surname</th>\n",
       "      <th>og_nr</th>\n",
       "      <th>wc_nr</th>\n",
       "      <th>area</th>\n",
       "      <th>species</th>\n",
       "      <th>organic_status</th>\n",
       "      <th>fairtrade</th>\n",
       "      <th>date_contracted</th>\n",
       "      <th>date_dropped_out</th>\n",
       "      <th>reason_dropped_out</th>\n",
       "    </tr>\n",
       "  </thead>\n",
       "  <tbody>\n",
       "    <tr>\n",
       "      <th>9126</th>\n",
       "      <td>Nyamayaro</td>\n",
       "      <td>13137.0</td>\n",
       "      <td>NaN</td>\n",
       "      <td>Mbire</td>\n",
       "      <td>rosella</td>\n",
       "      <td>dropout</td>\n",
       "      <td>False</td>\n",
       "      <td>NaT</td>\n",
       "      <td>2020-02-05</td>\n",
       "      <td>own choice</td>\n",
       "    </tr>\n",
       "    <tr>\n",
       "      <th>9127</th>\n",
       "      <td>Karimazaza</td>\n",
       "      <td>25706.0</td>\n",
       "      <td>NaN</td>\n",
       "      <td>Mbire</td>\n",
       "      <td>rosella</td>\n",
       "      <td>mabagrown</td>\n",
       "      <td>False</td>\n",
       "      <td>NaT</td>\n",
       "      <td>NaT</td>\n",
       "      <td>None</td>\n",
       "    </tr>\n",
       "    <tr>\n",
       "      <th>16484</th>\n",
       "      <td>Navaya</td>\n",
       "      <td>NaN</td>\n",
       "      <td>50881.0</td>\n",
       "      <td>Mudzi</td>\n",
       "      <td>baobab, ximenia</td>\n",
       "      <td>new</td>\n",
       "      <td>False</td>\n",
       "      <td>NaT</td>\n",
       "      <td>2021-07-05</td>\n",
       "      <td>None</td>\n",
       "    </tr>\n",
       "    <tr>\n",
       "      <th>20603</th>\n",
       "      <td>Chikati</td>\n",
       "      <td>NaN</td>\n",
       "      <td>1871.0</td>\n",
       "      <td>Chimanimani</td>\n",
       "      <td>wild gotu kola</td>\n",
       "      <td>reinstated</td>\n",
       "      <td>False</td>\n",
       "      <td>NaT</td>\n",
       "      <td>2021-01-29</td>\n",
       "      <td>None</td>\n",
       "    </tr>\n",
       "    <tr>\n",
       "      <th>20604</th>\n",
       "      <td>Faifi</td>\n",
       "      <td>NaN</td>\n",
       "      <td>1861.0</td>\n",
       "      <td>Chimanimani</td>\n",
       "      <td>wild gotu kola</td>\n",
       "      <td>reinstated</td>\n",
       "      <td>False</td>\n",
       "      <td>NaT</td>\n",
       "      <td>2021-01-29</td>\n",
       "      <td>None</td>\n",
       "    </tr>\n",
       "    <tr>\n",
       "      <th>20605</th>\n",
       "      <td>Zaranyika</td>\n",
       "      <td>NaN</td>\n",
       "      <td>1057.0</td>\n",
       "      <td>Chimanimani</td>\n",
       "      <td>wild gotu kola</td>\n",
       "      <td>reinstated</td>\n",
       "      <td>False</td>\n",
       "      <td>NaT</td>\n",
       "      <td>2021-01-29</td>\n",
       "      <td>None</td>\n",
       "    </tr>\n",
       "    <tr>\n",
       "      <th>20606</th>\n",
       "      <td>Chibawana</td>\n",
       "      <td>NaN</td>\n",
       "      <td>21040.0</td>\n",
       "      <td>Chimanimani</td>\n",
       "      <td>wild gotu kola</td>\n",
       "      <td>reinstated</td>\n",
       "      <td>False</td>\n",
       "      <td>NaT</td>\n",
       "      <td>2021-01-29</td>\n",
       "      <td>None</td>\n",
       "    </tr>\n",
       "    <tr>\n",
       "      <th>20607</th>\n",
       "      <td>Hofisi</td>\n",
       "      <td>NaN</td>\n",
       "      <td>2555.0</td>\n",
       "      <td>Chimanimani</td>\n",
       "      <td>wild gotu kola</td>\n",
       "      <td>reinstated</td>\n",
       "      <td>False</td>\n",
       "      <td>NaT</td>\n",
       "      <td>2021-01-29</td>\n",
       "      <td>None</td>\n",
       "    </tr>\n",
       "    <tr>\n",
       "      <th>20608</th>\n",
       "      <td>Mudada</td>\n",
       "      <td>NaN</td>\n",
       "      <td>2066.0</td>\n",
       "      <td>Chimanimani</td>\n",
       "      <td>wild gotu kola</td>\n",
       "      <td>reinstated</td>\n",
       "      <td>False</td>\n",
       "      <td>NaT</td>\n",
       "      <td>2021-01-29</td>\n",
       "      <td>None</td>\n",
       "    </tr>\n",
       "    <tr>\n",
       "      <th>20609</th>\n",
       "      <td>Nyamwazha</td>\n",
       "      <td>NaN</td>\n",
       "      <td>1069.0</td>\n",
       "      <td>Chimanimani</td>\n",
       "      <td>wild gotu kola</td>\n",
       "      <td>reinstated</td>\n",
       "      <td>False</td>\n",
       "      <td>NaT</td>\n",
       "      <td>2021-01-29</td>\n",
       "      <td>None</td>\n",
       "    </tr>\n",
       "  </tbody>\n",
       "</table>\n",
       "</div>"
      ],
      "text/plain": [
       "          surname    og_nr    wc_nr         area          species  \\\n",
       "9126    Nyamayaro  13137.0      NaN        Mbire          rosella   \n",
       "9127   Karimazaza  25706.0      NaN        Mbire          rosella   \n",
       "16484      Navaya      NaN  50881.0        Mudzi  baobab, ximenia   \n",
       "20603     Chikati      NaN   1871.0  Chimanimani   wild gotu kola   \n",
       "20604       Faifi      NaN   1861.0  Chimanimani   wild gotu kola   \n",
       "20605   Zaranyika      NaN   1057.0  Chimanimani   wild gotu kola   \n",
       "20606   Chibawana      NaN  21040.0  Chimanimani   wild gotu kola   \n",
       "20607      Hofisi      NaN   2555.0  Chimanimani   wild gotu kola   \n",
       "20608      Mudada      NaN   2066.0  Chimanimani   wild gotu kola   \n",
       "20609   Nyamwazha      NaN   1069.0  Chimanimani   wild gotu kola   \n",
       "\n",
       "      organic_status  fairtrade date_contracted date_dropped_out  \\\n",
       "9126         dropout      False             NaT       2020-02-05   \n",
       "9127       mabagrown      False             NaT              NaT   \n",
       "16484            new      False             NaT       2021-07-05   \n",
       "20603     reinstated      False             NaT       2021-01-29   \n",
       "20604     reinstated      False             NaT       2021-01-29   \n",
       "20605     reinstated      False             NaT       2021-01-29   \n",
       "20606     reinstated      False             NaT       2021-01-29   \n",
       "20607     reinstated      False             NaT       2021-01-29   \n",
       "20608     reinstated      False             NaT       2021-01-29   \n",
       "20609     reinstated      False             NaT       2021-01-29   \n",
       "\n",
       "      reason_dropped_out  \n",
       "9126          own choice  \n",
       "9127                None  \n",
       "16484               None  \n",
       "20603               None  \n",
       "20604               None  \n",
       "20605               None  \n",
       "20606               None  \n",
       "20607               None  \n",
       "20608               None  \n",
       "20609               None  "
      ]
     },
     "execution_count": 250,
     "metadata": {},
     "output_type": "execute_result"
    }
   ],
   "source": [
    "# 10 farmers with date_contracted NaT but 9 have a date_dropped out\n",
    "\n",
    "na_contracts_farmers = farmers_df[farmers_df['date_contracted'].isna()]\n",
    "na_contracts_farmers[['surname','og_nr','wc_nr', 'area', 'species', 'organic_status','fairtrade', 'date_contracted', 'date_dropped_out', 'reason_dropped_out']]"
   ]
  },
  {
   "attachments": {},
   "cell_type": "markdown",
   "metadata": {},
   "source": [
    "## Trend of contracted farmers over year "
   ]
  },
  {
   "cell_type": "code",
   "execution_count": 251,
   "metadata": {},
   "outputs": [
    {
     "name": "stderr",
     "output_type": "stream",
     "text": [
      "/var/folders/x5/v1d8l9v94679fhr8vd07ys9c0000gn/T/ipykernel_13236/328347199.py:1: FutureWarning: Indexing with multiple keys (implicitly converted to a tuple of keys) will be deprecated, use a list instead.\n",
      "  contracts_over_year = contracted.groupby([contracted['date_contracted'].dt.year.astype('Int64')])['date_contracted', 'og_nr', 'wc_nr', 'date_dropped_out'].count()\n"
     ]
    }
   ],
   "source": [
    "contracts_over_year = contracted.groupby([contracted['date_contracted'].dt.year.astype('Int64')])['date_contracted', 'og_nr', 'wc_nr', 'date_dropped_out'].count()"
   ]
  },
  {
   "attachments": {},
   "cell_type": "markdown",
   "metadata": {},
   "source": [
    "The following table has the number of contracts and drops each year:"
   ]
  },
  {
   "cell_type": "code",
   "execution_count": 252,
   "metadata": {},
   "outputs": [
    {
     "data": {
      "text/html": [
       "<div>\n",
       "<style scoped>\n",
       "    .dataframe tbody tr th:only-of-type {\n",
       "        vertical-align: middle;\n",
       "    }\n",
       "\n",
       "    .dataframe tbody tr th {\n",
       "        vertical-align: top;\n",
       "    }\n",
       "\n",
       "    .dataframe thead th {\n",
       "        text-align: right;\n",
       "    }\n",
       "</style>\n",
       "<table border=\"1\" class=\"dataframe\">\n",
       "  <thead>\n",
       "    <tr style=\"text-align: right;\">\n",
       "      <th></th>\n",
       "      <th>total_contracted</th>\n",
       "      <th>num_og</th>\n",
       "      <th>num_wc</th>\n",
       "      <th>total_dropped</th>\n",
       "    </tr>\n",
       "    <tr>\n",
       "      <th>YEAR</th>\n",
       "      <th></th>\n",
       "      <th></th>\n",
       "      <th></th>\n",
       "      <th></th>\n",
       "    </tr>\n",
       "  </thead>\n",
       "  <tbody>\n",
       "    <tr>\n",
       "      <th>1979</th>\n",
       "      <td>1</td>\n",
       "      <td>0</td>\n",
       "      <td>1</td>\n",
       "      <td>0</td>\n",
       "    </tr>\n",
       "    <tr>\n",
       "      <th>1982</th>\n",
       "      <td>1</td>\n",
       "      <td>0</td>\n",
       "      <td>1</td>\n",
       "      <td>0</td>\n",
       "    </tr>\n",
       "    <tr>\n",
       "      <th>1985</th>\n",
       "      <td>1</td>\n",
       "      <td>1</td>\n",
       "      <td>0</td>\n",
       "      <td>1</td>\n",
       "    </tr>\n",
       "    <tr>\n",
       "      <th>1989</th>\n",
       "      <td>1</td>\n",
       "      <td>0</td>\n",
       "      <td>1</td>\n",
       "      <td>0</td>\n",
       "    </tr>\n",
       "    <tr>\n",
       "      <th>2011</th>\n",
       "      <td>11</td>\n",
       "      <td>11</td>\n",
       "      <td>0</td>\n",
       "      <td>5</td>\n",
       "    </tr>\n",
       "    <tr>\n",
       "      <th>2012</th>\n",
       "      <td>512</td>\n",
       "      <td>90</td>\n",
       "      <td>422</td>\n",
       "      <td>104</td>\n",
       "    </tr>\n",
       "    <tr>\n",
       "      <th>2013</th>\n",
       "      <td>413</td>\n",
       "      <td>52</td>\n",
       "      <td>361</td>\n",
       "      <td>71</td>\n",
       "    </tr>\n",
       "    <tr>\n",
       "      <th>2014</th>\n",
       "      <td>1507</td>\n",
       "      <td>41</td>\n",
       "      <td>1466</td>\n",
       "      <td>839</td>\n",
       "    </tr>\n",
       "    <tr>\n",
       "      <th>2015</th>\n",
       "      <td>1128</td>\n",
       "      <td>47</td>\n",
       "      <td>1081</td>\n",
       "      <td>54</td>\n",
       "    </tr>\n",
       "    <tr>\n",
       "      <th>2016</th>\n",
       "      <td>2420</td>\n",
       "      <td>0</td>\n",
       "      <td>2420</td>\n",
       "      <td>595</td>\n",
       "    </tr>\n",
       "    <tr>\n",
       "      <th>2017</th>\n",
       "      <td>1443</td>\n",
       "      <td>581</td>\n",
       "      <td>862</td>\n",
       "      <td>512</td>\n",
       "    </tr>\n",
       "    <tr>\n",
       "      <th>2018</th>\n",
       "      <td>4788</td>\n",
       "      <td>3390</td>\n",
       "      <td>1398</td>\n",
       "      <td>3409</td>\n",
       "    </tr>\n",
       "    <tr>\n",
       "      <th>2019</th>\n",
       "      <td>2772</td>\n",
       "      <td>1546</td>\n",
       "      <td>1226</td>\n",
       "      <td>1656</td>\n",
       "    </tr>\n",
       "    <tr>\n",
       "      <th>2020</th>\n",
       "      <td>2274</td>\n",
       "      <td>2134</td>\n",
       "      <td>140</td>\n",
       "      <td>1812</td>\n",
       "    </tr>\n",
       "    <tr>\n",
       "      <th>2021</th>\n",
       "      <td>1849</td>\n",
       "      <td>389</td>\n",
       "      <td>1460</td>\n",
       "      <td>225</td>\n",
       "    </tr>\n",
       "    <tr>\n",
       "      <th>2022</th>\n",
       "      <td>1176</td>\n",
       "      <td>506</td>\n",
       "      <td>670</td>\n",
       "      <td>9</td>\n",
       "    </tr>\n",
       "    <tr>\n",
       "      <th>2023</th>\n",
       "      <td>303</td>\n",
       "      <td>303</td>\n",
       "      <td>0</td>\n",
       "      <td>0</td>\n",
       "    </tr>\n",
       "  </tbody>\n",
       "</table>\n",
       "</div>"
      ],
      "text/plain": [
       "      total_contracted  num_og  num_wc  total_dropped\n",
       "YEAR                                                 \n",
       "1979                 1       0       1              0\n",
       "1982                 1       0       1              0\n",
       "1985                 1       1       0              1\n",
       "1989                 1       0       1              0\n",
       "2011                11      11       0              5\n",
       "2012               512      90     422            104\n",
       "2013               413      52     361             71\n",
       "2014              1507      41    1466            839\n",
       "2015              1128      47    1081             54\n",
       "2016              2420       0    2420            595\n",
       "2017              1443     581     862            512\n",
       "2018              4788    3390    1398           3409\n",
       "2019              2772    1546    1226           1656\n",
       "2020              2274    2134     140           1812\n",
       "2021              1849     389    1460            225\n",
       "2022              1176     506     670              9\n",
       "2023               303     303       0              0"
      ]
     },
     "execution_count": 252,
     "metadata": {},
     "output_type": "execute_result"
    }
   ],
   "source": [
    "contracts_over_year.columns = ['total_contracted','num_og', 'num_wc', 'total_dropped']\n",
    "contracts_over_year.index.names = ['YEAR']\n",
    "contracts_over_year"
   ]
  },
  {
   "attachments": {},
   "cell_type": "markdown",
   "metadata": {},
   "source": [
    "The graphic shows a peak in 2018 for new contracts AND dropouts!"
   ]
  },
  {
   "cell_type": "code",
   "execution_count": 253,
   "metadata": {},
   "outputs": [
    {
     "data": {
      "text/plain": [
       "<Axes: xlabel='YEAR'>"
      ]
     },
     "execution_count": 253,
     "metadata": {},
     "output_type": "execute_result"
    },
    {
     "data": {
      "image/png": "[encoded data removed]",
      "text/plain": [
       "<Figure size 640x480 with 1 Axes>"
      ]
     },
     "metadata": {},
     "output_type": "display_data"
    }
   ],
   "source": [
    "contracts_over_year[contracts_over_year.index>2012][['total_contracted', 'total_dropped']].plot()"
   ]
  },
  {
   "cell_type": "code",
   "execution_count": 255,
   "metadata": {},
   "outputs": [],
   "source": [
    "#contracts_over_year.plot.scatter(x='total', y='total_dropped', alpha=0.5)"
   ]
  },
  {
   "attachments": {},
   "cell_type": "markdown",
   "metadata": {},
   "source": [
    "**Dropped** has similar statistics like **og** "
   ]
  },
  {
   "cell_type": "code",
   "execution_count": null,
   "metadata": {},
   "outputs": [
    {
     "data": {
      "text/html": [
       "<div>\n",
       "<style scoped>\n",
       "    .dataframe tbody tr th:only-of-type {\n",
       "        vertical-align: middle;\n",
       "    }\n",
       "\n",
       "    .dataframe tbody tr th {\n",
       "        vertical-align: top;\n",
       "    }\n",
       "\n",
       "    .dataframe thead th {\n",
       "        text-align: right;\n",
       "    }\n",
       "</style>\n",
       "<table border=\"1\" class=\"dataframe\">\n",
       "  <thead>\n",
       "    <tr style=\"text-align: right;\">\n",
       "      <th></th>\n",
       "      <th>total</th>\n",
       "      <th>og</th>\n",
       "      <th>wc</th>\n",
       "      <th>total_dropped</th>\n",
       "    </tr>\n",
       "  </thead>\n",
       "  <tbody>\n",
       "    <tr>\n",
       "      <th>count</th>\n",
       "      <td>17.000000</td>\n",
       "      <td>17.000000</td>\n",
       "      <td>17.000000</td>\n",
       "      <td>17.000000</td>\n",
       "    </tr>\n",
       "    <tr>\n",
       "      <th>mean</th>\n",
       "      <td>1051.117647</td>\n",
       "      <td>516.411765</td>\n",
       "      <td>534.705882</td>\n",
       "      <td>546.588235</td>\n",
       "    </tr>\n",
       "    <tr>\n",
       "      <th>std</th>\n",
       "      <td>1319.511315</td>\n",
       "      <td>957.281572</td>\n",
       "      <td>589.823784</td>\n",
       "      <td>933.998733</td>\n",
       "    </tr>\n",
       "    <tr>\n",
       "      <th>min</th>\n",
       "      <td>1.000000</td>\n",
       "      <td>0.000000</td>\n",
       "      <td>0.000000</td>\n",
       "      <td>0.000000</td>\n",
       "    </tr>\n",
       "    <tr>\n",
       "      <th>25%</th>\n",
       "      <td>1.000000</td>\n",
       "      <td>1.000000</td>\n",
       "      <td>1.000000</td>\n",
       "      <td>1.000000</td>\n",
       "    </tr>\n",
       "    <tr>\n",
       "      <th>50%</th>\n",
       "      <td>512.000000</td>\n",
       "      <td>47.000000</td>\n",
       "      <td>361.000000</td>\n",
       "      <td>71.000000</td>\n",
       "    </tr>\n",
       "    <tr>\n",
       "      <th>75%</th>\n",
       "      <td>1507.000000</td>\n",
       "      <td>506.000000</td>\n",
       "      <td>1081.000000</td>\n",
       "      <td>595.000000</td>\n",
       "    </tr>\n",
       "    <tr>\n",
       "      <th>max</th>\n",
       "      <td>4788.000000</td>\n",
       "      <td>3390.000000</td>\n",
       "      <td>1466.000000</td>\n",
       "      <td>3409.000000</td>\n",
       "    </tr>\n",
       "  </tbody>\n",
       "</table>\n",
       "</div>"
      ],
      "text/plain": [
       "             total           og           wc  total_dropped\n",
       "count    17.000000    17.000000    17.000000      17.000000\n",
       "mean   1051.117647   516.411765   534.705882     546.588235\n",
       "std    1319.511315   957.281572   589.823784     933.998733\n",
       "min       1.000000     0.000000     0.000000       0.000000\n",
       "25%       1.000000     1.000000     1.000000       1.000000\n",
       "50%     512.000000    47.000000   361.000000      71.000000\n",
       "75%    1507.000000   506.000000  1081.000000     595.000000\n",
       "max    4788.000000  3390.000000  1466.000000    3409.000000"
      ]
     },
     "execution_count": 220,
     "metadata": {},
     "output_type": "execute_result"
    }
   ],
   "source": [
    "contracts_over_year.describe()"
   ]
  },
  {
   "cell_type": "code",
   "execution_count": null,
   "metadata": {},
   "outputs": [
    {
     "data": {
      "text/plain": [
       "YEAR\n",
       "1979       1\n",
       "1982       1\n",
       "1985       1\n",
       "1989       1\n",
       "2011       1\n",
       "2012     512\n",
       "2013     413\n",
       "2014    1507\n",
       "2015    1128\n",
       "2016       1\n",
       "2017    1443\n",
       "2018    4788\n",
       "2019    2772\n",
       "2020    2274\n",
       "2021    1849\n",
       "2022    1176\n",
       "2023       1\n",
       "Name: total, dtype: int64"
      ]
     },
     "execution_count": 221,
     "metadata": {},
     "output_type": "execute_result"
    }
   ],
   "source": [
    "contracts_over_year['total']"
   ]
  },
  {
   "cell_type": "code",
   "execution_count": null,
   "metadata": {},
   "outputs": [
    {
     "data": {
      "text/plain": [
       "<Axes: xlabel='og', ylabel='total_dropped'>"
      ]
     },
     "execution_count": 225,
     "metadata": {},
     "output_type": "execute_result"
    },
    {
     "data": {
      "image/png": "[encoded data removed]",
      "text/plain": [
       "<Figure size 640x480 with 1 Axes>"
      ]
     },
     "metadata": {},
     "output_type": "display_data"
    }
   ],
   "source": [
    "contracts_over_year.plot.scatter(x='og', y='total_dropped', alpha=0.5)"
   ]
  },
  {
   "cell_type": "code",
   "execution_count": null,
   "metadata": {},
   "outputs": [],
   "source": []
  },
  {
   "cell_type": "code",
   "execution_count": null,
   "metadata": {},
   "outputs": [],
   "source": [
    "def calc_distr(row):\n",
    "     row['og'] = round(row['og']/row['total'], 4)\n",
    "     row['wc'] = round(row['wc']/row['total'], 4)\n",
    "     row['total'] = row[\"og\"]+row[\"wc\"]\n",
    "     return row"
   ]
  },
  {
   "cell_type": "code",
   "execution_count": null,
   "metadata": {},
   "outputs": [
    {
     "data": {
      "text/html": [
       "<div>\n",
       "<style scoped>\n",
       "    .dataframe tbody tr th:only-of-type {\n",
       "        vertical-align: middle;\n",
       "    }\n",
       "\n",
       "    .dataframe tbody tr th {\n",
       "        vertical-align: top;\n",
       "    }\n",
       "\n",
       "    .dataframe thead th {\n",
       "        text-align: right;\n",
       "    }\n",
       "</style>\n",
       "<table border=\"1\" class=\"dataframe\">\n",
       "  <thead>\n",
       "    <tr style=\"text-align: right;\">\n",
       "      <th></th>\n",
       "      <th>og</th>\n",
       "      <th>wc</th>\n",
       "      <th>total</th>\n",
       "      <th>majority</th>\n",
       "    </tr>\n",
       "    <tr>\n",
       "      <th>YEAR</th>\n",
       "      <th></th>\n",
       "      <th></th>\n",
       "      <th></th>\n",
       "      <th></th>\n",
       "    </tr>\n",
       "  </thead>\n",
       "  <tbody>\n",
       "    <tr>\n",
       "      <th>1979</th>\n",
       "      <td>0%</td>\n",
       "      <td>100%</td>\n",
       "      <td>100%</td>\n",
       "      <td>wc</td>\n",
       "    </tr>\n",
       "    <tr>\n",
       "      <th>1982</th>\n",
       "      <td>0%</td>\n",
       "      <td>100%</td>\n",
       "      <td>100%</td>\n",
       "      <td>wc</td>\n",
       "    </tr>\n",
       "    <tr>\n",
       "      <th>1985</th>\n",
       "      <td>100%</td>\n",
       "      <td>0%</td>\n",
       "      <td>100%</td>\n",
       "      <td>og</td>\n",
       "    </tr>\n",
       "    <tr>\n",
       "      <th>1989</th>\n",
       "      <td>0%</td>\n",
       "      <td>100%</td>\n",
       "      <td>100%</td>\n",
       "      <td>wc</td>\n",
       "    </tr>\n",
       "    <tr>\n",
       "      <th>2011</th>\n",
       "      <td>100%</td>\n",
       "      <td>0%</td>\n",
       "      <td>100%</td>\n",
       "      <td>og</td>\n",
       "    </tr>\n",
       "    <tr>\n",
       "      <th>2012</th>\n",
       "      <td>18%</td>\n",
       "      <td>82%</td>\n",
       "      <td>100%</td>\n",
       "      <td>wc</td>\n",
       "    </tr>\n",
       "    <tr>\n",
       "      <th>2013</th>\n",
       "      <td>13%</td>\n",
       "      <td>87%</td>\n",
       "      <td>100%</td>\n",
       "      <td>wc</td>\n",
       "    </tr>\n",
       "    <tr>\n",
       "      <th>2014</th>\n",
       "      <td>3%</td>\n",
       "      <td>97%</td>\n",
       "      <td>100%</td>\n",
       "      <td>wc</td>\n",
       "    </tr>\n",
       "    <tr>\n",
       "      <th>2015</th>\n",
       "      <td>4%</td>\n",
       "      <td>96%</td>\n",
       "      <td>100%</td>\n",
       "      <td>wc</td>\n",
       "    </tr>\n",
       "    <tr>\n",
       "      <th>2016</th>\n",
       "      <td>0%</td>\n",
       "      <td>100%</td>\n",
       "      <td>100%</td>\n",
       "      <td>wc</td>\n",
       "    </tr>\n",
       "    <tr>\n",
       "      <th>2017</th>\n",
       "      <td>40%</td>\n",
       "      <td>60%</td>\n",
       "      <td>100%</td>\n",
       "      <td>wc</td>\n",
       "    </tr>\n",
       "    <tr>\n",
       "      <th>2018</th>\n",
       "      <td>71%</td>\n",
       "      <td>29%</td>\n",
       "      <td>100%</td>\n",
       "      <td>og</td>\n",
       "    </tr>\n",
       "    <tr>\n",
       "      <th>2019</th>\n",
       "      <td>56%</td>\n",
       "      <td>44%</td>\n",
       "      <td>100%</td>\n",
       "      <td>og</td>\n",
       "    </tr>\n",
       "    <tr>\n",
       "      <th>2020</th>\n",
       "      <td>94%</td>\n",
       "      <td>6%</td>\n",
       "      <td>100%</td>\n",
       "      <td>og</td>\n",
       "    </tr>\n",
       "    <tr>\n",
       "      <th>2021</th>\n",
       "      <td>21%</td>\n",
       "      <td>79%</td>\n",
       "      <td>100%</td>\n",
       "      <td>wc</td>\n",
       "    </tr>\n",
       "    <tr>\n",
       "      <th>2022</th>\n",
       "      <td>43%</td>\n",
       "      <td>57%</td>\n",
       "      <td>100%</td>\n",
       "      <td>wc</td>\n",
       "    </tr>\n",
       "    <tr>\n",
       "      <th>2023</th>\n",
       "      <td>100%</td>\n",
       "      <td>0%</td>\n",
       "      <td>100%</td>\n",
       "      <td>og</td>\n",
       "    </tr>\n",
       "  </tbody>\n",
       "</table>\n",
       "</div>"
      ],
      "text/plain": [
       "        og    wc total majority\n",
       "YEAR                           \n",
       "1979    0%  100%  100%       wc\n",
       "1982    0%  100%  100%       wc\n",
       "1985  100%    0%  100%       og\n",
       "1989    0%  100%  100%       wc\n",
       "2011  100%    0%  100%       og\n",
       "2012   18%   82%  100%       wc\n",
       "2013   13%   87%  100%       wc\n",
       "2014    3%   97%  100%       wc\n",
       "2015    4%   96%  100%       wc\n",
       "2016    0%  100%  100%       wc\n",
       "2017   40%   60%  100%       wc\n",
       "2018   71%   29%  100%       og\n",
       "2019   56%   44%  100%       og\n",
       "2020   94%    6%  100%       og\n",
       "2021   21%   79%  100%       wc\n",
       "2022   43%   57%  100%       wc\n",
       "2023  100%    0%  100%       og"
      ]
     },
     "execution_count": 133,
     "metadata": {},
     "output_type": "execute_result"
    }
   ],
   "source": [
    "contracts_over_year_percent = contracts_over_year\n",
    "contracts_over_year_percent.columns = ['total','og','wc','total_dropped']\n",
    "\n",
    "contracts_over_year_percent = contracts_over_year_percent.apply(calc_distr, axis=1)\n",
    "\n",
    "contracts_over_year_percent['majority'] = contracts_over_year_percent[['og','wc']].idxmax(axis=1)\n",
    "\n",
    "contracts_over_year_percent['og'] = contracts_over_year_percent['og'].transform(lambda x: '{:,.0%}'.format(x), axis=0)\n",
    "contracts_over_year_percent['wc'] = contracts_over_year_percent['wc'].transform(lambda x: '{:,.0%}'.format(x))\n",
    "contracts_over_year_percent['total'] = contracts_over_year_percent['total'].transform(lambda x: '{:,.0%}'.format(x))\n",
    "del contracts_over_year_percent['total_dropped']\n",
    "\n",
    "contracts_over_year_percent = contracts_over_year_percent[['og','wc','total','majority']]\n",
    "contracts_over_year_percent"
   ]
  },
  {
   "cell_type": "code",
   "execution_count": null,
   "metadata": {},
   "outputs": [],
   "source": [
    "# contracs-dropped per year"
   ]
  },
  {
   "attachments": {},
   "cell_type": "markdown",
   "metadata": {},
   "source": [
    "Over the years **~ 64,7%** of the partner farmers of OA are **Wildcollector**\n",
    "\n",
    "But since 2018 many **OG** are contracted -> "
   ]
  },
  {
   "cell_type": "code",
   "execution_count": null,
   "metadata": {},
   "outputs": [
    {
     "data": {
      "text/plain": [
       "0.6470588235294118"
      ]
     },
     "execution_count": 135,
     "metadata": {},
     "output_type": "execute_result"
    }
   ],
   "source": [
    "# From 1979 to 2023\n",
    "# wc majority    11 times\n",
    "# og majority     6 times\n",
    "\n",
    "maj = contracts_over_year_percent['majority'].value_counts()\n",
    "maj[0]/(maj[0]+maj[1])"
   ]
  },
  {
   "attachments": {},
   "cell_type": "markdown",
   "metadata": {},
   "source": [
    "contracts_over_year_from_2012 = contracts_over_year[contracts_over_year.index>2012]\n",
    "contracts_over_year_from_2012\n",
    "\n",
    "over_years_from_2012 = contracts_over_year_from_2012.index\n",
    "contracted_farmers_type = {\n",
    "    'WC': contracts_over_year_from_2012['num_wc'],\n",
    "    'OG': contracts_over_year_from_2012['num_og'],\n",
    "}\n",
    "width = 0.85  # the width of the bars: can also be len(x) sequence\n",
    "\n",
    "\n",
    "fig, ax = plt.subplots()\n",
    "bottom = np.zeros(3)\n",
    "\n",
    "for farmer_type, type_count in contracted_farmers_type.items():\n",
    "    p = ax.bar(over_years_from_2012, type_count, width, label=farmer_type, bottom=bottom)\n",
    "    bottom += type_count\n",
    "\n",
    "    ax.bar_label(p, label_type='center')\n",
    "\n",
    "ax.set_title('Number of contracts by partners farmers type')\n",
    "ax.legend()\n",
    "\n",
    "plt.show()"
   ]
  },
  {
   "attachments": {},
   "cell_type": "markdown",
   "metadata": {},
   "source": [
    "#### Cumulative sum"
   ]
  },
  {
   "cell_type": "code",
   "execution_count": null,
   "metadata": {},
   "outputs": [
    {
     "data": {
      "text/html": [
       "<div>\n",
       "<style scoped>\n",
       "    .dataframe tbody tr th:only-of-type {\n",
       "        vertical-align: middle;\n",
       "    }\n",
       "\n",
       "    .dataframe tbody tr th {\n",
       "        vertical-align: top;\n",
       "    }\n",
       "\n",
       "    .dataframe thead th {\n",
       "        text-align: right;\n",
       "    }\n",
       "</style>\n",
       "<table border=\"1\" class=\"dataframe\">\n",
       "  <thead>\n",
       "    <tr style=\"text-align: right;\">\n",
       "      <th></th>\n",
       "      <th>cum_sum_contracted</th>\n",
       "      <th>cum_sum_og</th>\n",
       "      <th>cum_sum_wc</th>\n",
       "      <th>cum_sum_dropped</th>\n",
       "    </tr>\n",
       "    <tr>\n",
       "      <th>YEAR</th>\n",
       "      <th></th>\n",
       "      <th></th>\n",
       "      <th></th>\n",
       "      <th></th>\n",
       "    </tr>\n",
       "  </thead>\n",
       "  <tbody>\n",
       "    <tr>\n",
       "      <th>1979</th>\n",
       "      <td>1</td>\n",
       "      <td>0</td>\n",
       "      <td>1</td>\n",
       "      <td>0</td>\n",
       "    </tr>\n",
       "    <tr>\n",
       "      <th>1982</th>\n",
       "      <td>2</td>\n",
       "      <td>0</td>\n",
       "      <td>2</td>\n",
       "      <td>0</td>\n",
       "    </tr>\n",
       "    <tr>\n",
       "      <th>1985</th>\n",
       "      <td>3</td>\n",
       "      <td>1</td>\n",
       "      <td>2</td>\n",
       "      <td>1</td>\n",
       "    </tr>\n",
       "    <tr>\n",
       "      <th>1989</th>\n",
       "      <td>4</td>\n",
       "      <td>1</td>\n",
       "      <td>3</td>\n",
       "      <td>1</td>\n",
       "    </tr>\n",
       "    <tr>\n",
       "      <th>2011</th>\n",
       "      <td>5</td>\n",
       "      <td>2</td>\n",
       "      <td>3</td>\n",
       "      <td>6</td>\n",
       "    </tr>\n",
       "    <tr>\n",
       "      <th>2012</th>\n",
       "      <td>517</td>\n",
       "      <td>92</td>\n",
       "      <td>425</td>\n",
       "      <td>110</td>\n",
       "    </tr>\n",
       "    <tr>\n",
       "      <th>2013</th>\n",
       "      <td>930</td>\n",
       "      <td>144</td>\n",
       "      <td>786</td>\n",
       "      <td>181</td>\n",
       "    </tr>\n",
       "    <tr>\n",
       "      <th>2014</th>\n",
       "      <td>2437</td>\n",
       "      <td>185</td>\n",
       "      <td>2252</td>\n",
       "      <td>1020</td>\n",
       "    </tr>\n",
       "    <tr>\n",
       "      <th>2015</th>\n",
       "      <td>3565</td>\n",
       "      <td>232</td>\n",
       "      <td>3333</td>\n",
       "      <td>1074</td>\n",
       "    </tr>\n",
       "    <tr>\n",
       "      <th>2016</th>\n",
       "      <td>3566</td>\n",
       "      <td>232</td>\n",
       "      <td>3334</td>\n",
       "      <td>1669</td>\n",
       "    </tr>\n",
       "    <tr>\n",
       "      <th>2017</th>\n",
       "      <td>5009</td>\n",
       "      <td>813</td>\n",
       "      <td>4196</td>\n",
       "      <td>2181</td>\n",
       "    </tr>\n",
       "    <tr>\n",
       "      <th>2018</th>\n",
       "      <td>9797</td>\n",
       "      <td>4203</td>\n",
       "      <td>5594</td>\n",
       "      <td>5590</td>\n",
       "    </tr>\n",
       "    <tr>\n",
       "      <th>2019</th>\n",
       "      <td>12569</td>\n",
       "      <td>5749</td>\n",
       "      <td>6820</td>\n",
       "      <td>7246</td>\n",
       "    </tr>\n",
       "    <tr>\n",
       "      <th>2020</th>\n",
       "      <td>14843</td>\n",
       "      <td>7883</td>\n",
       "      <td>6960</td>\n",
       "      <td>9058</td>\n",
       "    </tr>\n",
       "    <tr>\n",
       "      <th>2021</th>\n",
       "      <td>16692</td>\n",
       "      <td>8272</td>\n",
       "      <td>8420</td>\n",
       "      <td>9283</td>\n",
       "    </tr>\n",
       "    <tr>\n",
       "      <th>2022</th>\n",
       "      <td>17868</td>\n",
       "      <td>8778</td>\n",
       "      <td>9090</td>\n",
       "      <td>9292</td>\n",
       "    </tr>\n",
       "    <tr>\n",
       "      <th>2023</th>\n",
       "      <td>17869</td>\n",
       "      <td>8779</td>\n",
       "      <td>9090</td>\n",
       "      <td>9292</td>\n",
       "    </tr>\n",
       "  </tbody>\n",
       "</table>\n",
       "</div>"
      ],
      "text/plain": [
       "      cum_sum_contracted  cum_sum_og  cum_sum_wc  cum_sum_dropped\n",
       "YEAR                                                             \n",
       "1979                   1           0           1                0\n",
       "1982                   2           0           2                0\n",
       "1985                   3           1           2                1\n",
       "1989                   4           1           3                1\n",
       "2011                   5           2           3                6\n",
       "2012                 517          92         425              110\n",
       "2013                 930         144         786              181\n",
       "2014                2437         185        2252             1020\n",
       "2015                3565         232        3333             1074\n",
       "2016                3566         232        3334             1669\n",
       "2017                5009         813        4196             2181\n",
       "2018                9797        4203        5594             5590\n",
       "2019               12569        5749        6820             7246\n",
       "2020               14843        7883        6960             9058\n",
       "2021               16692        8272        8420             9283\n",
       "2022               17868        8778        9090             9292\n",
       "2023               17869        8779        9090             9292"
      ]
     },
     "execution_count": 136,
     "metadata": {},
     "output_type": "execute_result"
    }
   ],
   "source": [
    "cum_contracts_over_year = contracts_over_year.cumsum()\n",
    "cum_contracts_over_year.columns = ['cum_sum_contracted','cum_sum_og', 'cum_sum_wc', 'cum_sum_dropped']\n",
    "cum_contracts_over_year"
   ]
  },
  {
   "cell_type": "code",
   "execution_count": null,
   "metadata": {},
   "outputs": [
    {
     "data": {
      "text/plain": [
       "<Axes: xlabel='YEAR'>"
      ]
     },
     "execution_count": 137,
     "metadata": {},
     "output_type": "execute_result"
    },
    {
     "data": {
      "image/png": "[encoded data removed]",
      "text/plain": [
       "<Figure size 640x480 with 1 Axes>"
      ]
     },
     "metadata": {},
     "output_type": "display_data"
    }
   ],
   "source": [
    "cum_contracts_over_year[cum_contracts_over_year.index>2012][['cum_sum_contracted', 'cum_sum_dropped']].plot()"
   ]
  },
  {
   "cell_type": "code",
   "execution_count": null,
   "metadata": {},
   "outputs": [
    {
     "data": {
      "text/plain": [
       "<Axes: xlabel='YEAR'>"
      ]
     },
     "execution_count": 138,
     "metadata": {},
     "output_type": "execute_result"
    },
    {
     "data": {
      "image/png": "[encoded data removed]",
      "text/plain": [
       "<Figure size 640x480 with 1 Axes>"
      ]
     },
     "metadata": {},
     "output_type": "display_data"
    }
   ],
   "source": [
    "cum_contracts_over_year[cum_contracts_over_year.index>2012][['cum_sum_og', 'cum_sum_wc']].plot()"
   ]
  },
  {
   "attachments": {},
   "cell_type": "markdown",
   "metadata": {},
   "source": [
    "over_years_from_2012 = cum_contracts_over_year_from_2012.index\n",
    "contracted_farmers_type = {\n",
    "    'WC': cum_contracts_over_year_from_2012['cum_sum_wc'],\n",
    "    'OG': cum_contracts_over_year_from_2012['cum_sum_og'],\n",
    "}\n",
    "width = 0.85  # the width of the bars: can also be len(x) sequence\n",
    "\n",
    "\n",
    "fig, ax = plt.subplots()\n",
    "\n",
    "for farmer_type, type_count in contracted_farmers_type.items():\n",
    "    p = ax.bar(over_years_from_2012, type_count, width, label=farmer_type)\n",
    "    #bottom += type_count\n",
    "\n",
    "    ax.bar_label(p, label_type='center')\n",
    "\n",
    "ax.set_title('Number of contracts by partners farmers type')\n",
    "ax.legend()\n",
    "\n",
    "plt.show()"
   ]
  },
  {
   "attachments": {},
   "cell_type": "markdown",
   "metadata": {},
   "source": [
    "## How long do farmers stick with OA?"
   ]
  },
  {
   "cell_type": "code",
   "execution_count": null,
   "metadata": {},
   "outputs": [
    {
     "data": {
      "text/plain": [
       "614       0.0\n",
       "766       3.0\n",
       "775       3.0\n",
       "777       3.0\n",
       "779       6.0\n",
       "         ... \n",
       "20598    27.0\n",
       "20599    27.0\n",
       "20600    27.0\n",
       "20601    27.0\n",
       "20602    27.0\n",
       "Length: 9292, dtype: float64"
      ]
     },
     "execution_count": 142,
     "metadata": {},
     "output_type": "execute_result"
    }
   ],
   "source": [
    "duration = 12 * (farmers_df['date_dropped_out'].dt.year - farmers_df['date_contracted'].dt.year) + farmers_df['date_dropped_out'].dt.month - farmers_df['date_contracted'].dt.month\n",
    "duration = duration[~duration.isna()]\n",
    "duration"
   ]
  },
  {
   "cell_type": "code",
   "execution_count": null,
   "metadata": {},
   "outputs": [
    {
     "name": "stdout",
     "output_type": "stream",
     "text": [
      "<class 'pandas.core.series.Series'>\n",
      "Int64Index: 9292 entries, 614 to 20602\n",
      "Series name: None\n",
      "Non-Null Count  Dtype  \n",
      "--------------  -----  \n",
      "9292 non-null   float64\n",
      "dtypes: float64(1)\n",
      "memory usage: 403.2 KB\n"
     ]
    }
   ],
   "source": [
    "duration.info()"
   ]
  },
  {
   "cell_type": "code",
   "execution_count": null,
   "metadata": {},
   "outputs": [
    {
     "data": {
      "text/plain": [
       "count    9292.000000\n",
       "mean       20.728046\n",
       "std        13.937534\n",
       "min         0.000000\n",
       "25%        14.000000\n",
       "50%        17.000000\n",
       "75%        26.000000\n",
       "max       398.000000\n",
       "dtype: float64"
      ]
     },
     "execution_count": 141,
     "metadata": {},
     "output_type": "execute_result"
    }
   ],
   "source": [
    "duration.describe()"
   ]
  },
  {
   "cell_type": "code",
   "execution_count": null,
   "metadata": {},
   "outputs": [
    {
     "data": {
      "text/plain": [
       "17.0"
      ]
     },
     "execution_count": 174,
     "metadata": {},
     "output_type": "execute_result"
    }
   ],
   "source": [
    "duration.median()"
   ]
  },
  {
   "cell_type": "code",
   "execution_count": null,
   "metadata": {},
   "outputs": [],
   "source": [
    "duration_without_max = duration.drop(duration.idxmax())"
   ]
  },
  {
   "cell_type": "code",
   "execution_count": null,
   "metadata": {},
   "outputs": [
    {
     "data": {
      "text/plain": [
       "<Axes: title={'center': 'Distribution of Contract Duration'}, xlabel='Months'>"
      ]
     },
     "execution_count": 175,
     "metadata": {},
     "output_type": "execute_result"
    },
    {
     "data": {
      "image/png": "[encoded data removed]",
      "text/plain": [
       "<Figure size 1000x200 with 1 Axes>"
      ]
     },
     "metadata": {},
     "output_type": "display_data"
    }
   ],
   "source": [
    "plt.figure(figsize=(10,2))\n",
    "plt.title(\"Distribution of Contract Duration\")\n",
    "plt.xlabel('Months')\n",
    "# PLOT of duration\n",
    "duration_without_max.plot(kind='box', vert=False)\n"
   ]
  },
  {
   "cell_type": "code",
   "execution_count": null,
   "metadata": {},
   "outputs": [],
   "source": [
    "# Compare OG and WC"
   ]
  },
  {
   "cell_type": "code",
   "execution_count": null,
   "metadata": {},
   "outputs": [],
   "source": [
    "farmers_df['reason_dropped_out'] = farmers_df['reason_dropped_out'].replace('no production 2016','insufficient production')\n",
    "farmers_df['reason_dropped_out'] = farmers_df['reason_dropped_out'].replace('no production 2015','insufficient production')\n",
    "farmers_df['reason_dropped_out'] = farmers_df['reason_dropped_out'].replace('insufficient production 2015','insufficient production')\n",
    "farmers_df['reason_dropped_out'] = farmers_df['reason_dropped_out'].replace('not externally inspected','not inspected')\n",
    "farmers_df['reason_dropped_out'] = farmers_df['reason_dropped_out'].replace('high contamination risk','high risk')"
   ]
  },
  {
   "cell_type": "code",
   "execution_count": null,
   "metadata": {},
   "outputs": [
    {
     "data": {
      "text/plain": [
       "own choice                     3776\n",
       "area closed                    2397\n",
       "insufficient production        1131\n",
       "not inspected                   144\n",
       "transfer to another db          114\n",
       "insufficient documentation       20\n",
       "duplicate                        17\n",
       "high risk                        16\n",
       "insufficient buffer zone         10\n",
       "collection in banana plants       8\n",
       "deceased                          5\n",
       "health reasons                    5\n",
       "two outgrowers in family          1\n",
       "Name: reason_dropped_out, dtype: int64"
      ]
     },
     "execution_count": 201,
     "metadata": {},
     "output_type": "execute_result"
    }
   ],
   "source": [
    "# Reason for dropping out\n",
    "reasons = farmers_df['reason_dropped_out'].value_counts()\n",
    "reasons"
   ]
  },
  {
   "cell_type": "code",
   "execution_count": null,
   "metadata": {},
   "outputs": [],
   "source": [
    "labels = reasons.index"
   ]
  },
  {
   "cell_type": "code",
   "execution_count": null,
   "metadata": {},
   "outputs": [
    {
     "data": {
      "text/plain": [
       "([<matplotlib.patches.Wedge at 0x164170cd0>,\n",
       "  <matplotlib.patches.Wedge at 0x16415e490>,\n",
       "  <matplotlib.patches.Wedge at 0x164277820>,\n",
       "  <matplotlib.patches.Wedge at 0x164277ca0>,\n",
       "  <matplotlib.patches.Wedge at 0x164286160>,\n",
       "  <matplotlib.patches.Wedge at 0x1642865e0>,\n",
       "  <matplotlib.patches.Wedge at 0x164286a60>,\n",
       "  <matplotlib.patches.Wedge at 0x164286ee0>,\n",
       "  <matplotlib.patches.Wedge at 0x1642933a0>,\n",
       "  <matplotlib.patches.Wedge at 0x164293820>,\n",
       "  <matplotlib.patches.Wedge at 0x163fc3220>,\n",
       "  <matplotlib.patches.Wedge at 0x1642a0130>,\n",
       "  <matplotlib.patches.Wedge at 0x1642a05b0>],\n",
       " [Text(0.02079479943546925, 1.0998034262159937, 'own choice'),\n",
       "  Text(-0.6422404214408716, -0.8930438069140012, 'area closed'),\n",
       "  Text(0.8091190240080027, -0.7452022577719001, 'insufficient production'),\n",
       "  Text(1.073417638856943, -0.24036341774651504, 'not inspected'),\n",
       "  Text(1.0928280389009681, -0.1254068474680087, 'transfer to another db'),\n",
       "  Text(1.0980741661074704, -0.06506247557066694, 'insufficient documentation'),\n",
       "  Text(1.0989365476871713, -0.04835766906501697, 'duplicate'),\n",
       "  Text(1.0994913135707214, -0.03344923590353062, 'high risk'),\n",
       "  Text(1.0997859633695695, -0.021698727503431547, 'insufficient buffer zone'),\n",
       "  Text(1.0999163904439098, -0.013562228166529413, 'collection in banana plants'),\n",
       "  Text(1.0999731519132974, -0.007685380272052376, 'deceased'),\n",
       "  Text(1.0999954479435203, -0.0031645700394047787, 'health reasons'),\n",
       "  Text(1.0999999071126203, -0.0004520533451126793, 'two outgrowers in family')])"
      ]
     },
     "execution_count": 226,
     "metadata": {},
     "output_type": "execute_result"
    },
    {
     "data": {
      "text/plain": [
       "<Figure size 300x300 with 0 Axes>"
      ]
     },
     "metadata": {},
     "output_type": "display_data"
    },
    {
     "data": {
      "image/png": "[encoded data removed]",
      "text/plain": [
       "<Figure size 640x480 with 1 Axes>"
      ]
     },
     "metadata": {},
     "output_type": "display_data"
    }
   ],
   "source": [
    "plt.figure(figsize=(3,3))\n",
    "fig, ax = plt.subplots()\n",
    "ax.pie(reasons, labels=labels)"
   ]
  },
  {
   "attachments": {},
   "cell_type": "markdown",
   "metadata": {},
   "source": [
    "## Do organic certified farmers grow over time?"
   ]
  },
  {
   "cell_type": "code",
   "execution_count": null,
   "metadata": {},
   "outputs": [
    {
     "data": {
      "text/plain": [
       "org             9532\n",
       "dropout         6984\n",
       "new             2697\n",
       "mabagrown       1047\n",
       "reinstated       190\n",
       "uncertified      149\n",
       "under review      10\n",
       "Name: organic_status, dtype: int64"
      ]
     },
     "execution_count": 87,
     "metadata": {},
     "output_type": "execute_result"
    }
   ],
   "source": [
    "farmers_df['organic_status'].value_counts()"
   ]
  },
  {
   "cell_type": "code",
   "execution_count": null,
   "metadata": {},
   "outputs": [],
   "source": [
    "organic_df = farmers_df[['og_nr', 'wc_nr', 'organic_status', 'organic_status_from_date']]"
   ]
  },
  {
   "cell_type": "code",
   "execution_count": null,
   "metadata": {},
   "outputs": [
    {
     "data": {
      "text/html": [
       "<div>\n",
       "<style scoped>\n",
       "    .dataframe tbody tr th:only-of-type {\n",
       "        vertical-align: middle;\n",
       "    }\n",
       "\n",
       "    .dataframe tbody tr th {\n",
       "        vertical-align: top;\n",
       "    }\n",
       "\n",
       "    .dataframe thead th {\n",
       "        text-align: right;\n",
       "    }\n",
       "</style>\n",
       "<table border=\"1\" class=\"dataframe\">\n",
       "  <thead>\n",
       "    <tr style=\"text-align: right;\">\n",
       "      <th></th>\n",
       "      <th>og_nr</th>\n",
       "      <th>wc_nr</th>\n",
       "      <th>organic_status_from_date</th>\n",
       "    </tr>\n",
       "    <tr>\n",
       "      <th>organic_status</th>\n",
       "      <th></th>\n",
       "      <th></th>\n",
       "      <th></th>\n",
       "    </tr>\n",
       "  </thead>\n",
       "  <tbody>\n",
       "    <tr>\n",
       "      <th>new</th>\n",
       "      <td>20183.0</td>\n",
       "      <td>NaN</td>\n",
       "      <td>2023-02-24</td>\n",
       "    </tr>\n",
       "    <tr>\n",
       "      <th>new</th>\n",
       "      <td>20290.0</td>\n",
       "      <td>NaN</td>\n",
       "      <td>2023-02-24</td>\n",
       "    </tr>\n",
       "    <tr>\n",
       "      <th>new</th>\n",
       "      <td>20254.0</td>\n",
       "      <td>NaN</td>\n",
       "      <td>2023-02-24</td>\n",
       "    </tr>\n",
       "    <tr>\n",
       "      <th>new</th>\n",
       "      <td>20255.0</td>\n",
       "      <td>NaN</td>\n",
       "      <td>2023-02-24</td>\n",
       "    </tr>\n",
       "    <tr>\n",
       "      <th>new</th>\n",
       "      <td>20256.0</td>\n",
       "      <td>NaN</td>\n",
       "      <td>2023-02-24</td>\n",
       "    </tr>\n",
       "    <tr>\n",
       "      <th>...</th>\n",
       "      <td>...</td>\n",
       "      <td>...</td>\n",
       "      <td>...</td>\n",
       "    </tr>\n",
       "    <tr>\n",
       "      <th>reinstated</th>\n",
       "      <td>NaN</td>\n",
       "      <td>1057.0</td>\n",
       "      <td>2019-03-09</td>\n",
       "    </tr>\n",
       "    <tr>\n",
       "      <th>reinstated</th>\n",
       "      <td>NaN</td>\n",
       "      <td>21040.0</td>\n",
       "      <td>2019-03-09</td>\n",
       "    </tr>\n",
       "    <tr>\n",
       "      <th>reinstated</th>\n",
       "      <td>NaN</td>\n",
       "      <td>2555.0</td>\n",
       "      <td>NaT</td>\n",
       "    </tr>\n",
       "    <tr>\n",
       "      <th>reinstated</th>\n",
       "      <td>NaN</td>\n",
       "      <td>2066.0</td>\n",
       "      <td>2019-03-09</td>\n",
       "    </tr>\n",
       "    <tr>\n",
       "      <th>reinstated</th>\n",
       "      <td>NaN</td>\n",
       "      <td>1069.0</td>\n",
       "      <td>2019-03-09</td>\n",
       "    </tr>\n",
       "  </tbody>\n",
       "</table>\n",
       "<p>20610 rows × 3 columns</p>\n",
       "</div>"
      ],
      "text/plain": [
       "                  og_nr    wc_nr organic_status_from_date\n",
       "organic_status                                           \n",
       "new             20183.0      NaN               2023-02-24\n",
       "new             20290.0      NaN               2023-02-24\n",
       "new             20254.0      NaN               2023-02-24\n",
       "new             20255.0      NaN               2023-02-24\n",
       "new             20256.0      NaN               2023-02-24\n",
       "...                 ...      ...                      ...\n",
       "reinstated          NaN   1057.0               2019-03-09\n",
       "reinstated          NaN  21040.0               2019-03-09\n",
       "reinstated          NaN   2555.0                      NaT\n",
       "reinstated          NaN   2066.0               2019-03-09\n",
       "reinstated          NaN   1069.0               2019-03-09\n",
       "\n",
       "[20610 rows x 3 columns]"
      ]
     },
     "execution_count": 97,
     "metadata": {},
     "output_type": "execute_result"
    }
   ],
   "source": [
    "organic_df.set_index(['organic_status'])"
   ]
  },
  {
   "cell_type": "code",
   "execution_count": null,
   "metadata": {},
   "outputs": [],
   "source": []
  },
  {
   "cell_type": "code",
   "execution_count": null,
   "metadata": {},
   "outputs": [
    {
     "data": {
      "text/html": [
       "<div>\n",
       "<style scoped>\n",
       "    .dataframe tbody tr th:only-of-type {\n",
       "        vertical-align: middle;\n",
       "    }\n",
       "\n",
       "    .dataframe tbody tr th {\n",
       "        vertical-align: top;\n",
       "    }\n",
       "\n",
       "    .dataframe thead th {\n",
       "        text-align: right;\n",
       "    }\n",
       "</style>\n",
       "<table border=\"1\" class=\"dataframe\">\n",
       "  <thead>\n",
       "    <tr style=\"text-align: right;\">\n",
       "      <th></th>\n",
       "      <th>og_nr</th>\n",
       "      <th>wc_nr</th>\n",
       "      <th>organic_status</th>\n",
       "      <th>organic_status_from_date</th>\n",
       "    </tr>\n",
       "  </thead>\n",
       "  <tbody>\n",
       "    <tr>\n",
       "      <th>0</th>\n",
       "      <td>20183.0</td>\n",
       "      <td>NaN</td>\n",
       "      <td>new</td>\n",
       "      <td>2023-02-24</td>\n",
       "    </tr>\n",
       "    <tr>\n",
       "      <th>1</th>\n",
       "      <td>20290.0</td>\n",
       "      <td>NaN</td>\n",
       "      <td>new</td>\n",
       "      <td>2023-02-24</td>\n",
       "    </tr>\n",
       "    <tr>\n",
       "      <th>2</th>\n",
       "      <td>20254.0</td>\n",
       "      <td>NaN</td>\n",
       "      <td>new</td>\n",
       "      <td>2023-02-24</td>\n",
       "    </tr>\n",
       "    <tr>\n",
       "      <th>3</th>\n",
       "      <td>20255.0</td>\n",
       "      <td>NaN</td>\n",
       "      <td>new</td>\n",
       "      <td>2023-02-24</td>\n",
       "    </tr>\n",
       "    <tr>\n",
       "      <th>4</th>\n",
       "      <td>20256.0</td>\n",
       "      <td>NaN</td>\n",
       "      <td>new</td>\n",
       "      <td>2023-02-24</td>\n",
       "    </tr>\n",
       "    <tr>\n",
       "      <th>...</th>\n",
       "      <td>...</td>\n",
       "      <td>...</td>\n",
       "      <td>...</td>\n",
       "      <td>...</td>\n",
       "    </tr>\n",
       "    <tr>\n",
       "      <th>20604</th>\n",
       "      <td>NaN</td>\n",
       "      <td>1861.0</td>\n",
       "      <td>reinstated</td>\n",
       "      <td>2019-03-09</td>\n",
       "    </tr>\n",
       "    <tr>\n",
       "      <th>20605</th>\n",
       "      <td>NaN</td>\n",
       "      <td>1057.0</td>\n",
       "      <td>reinstated</td>\n",
       "      <td>2019-03-09</td>\n",
       "    </tr>\n",
       "    <tr>\n",
       "      <th>20606</th>\n",
       "      <td>NaN</td>\n",
       "      <td>21040.0</td>\n",
       "      <td>reinstated</td>\n",
       "      <td>2019-03-09</td>\n",
       "    </tr>\n",
       "    <tr>\n",
       "      <th>20608</th>\n",
       "      <td>NaN</td>\n",
       "      <td>2066.0</td>\n",
       "      <td>reinstated</td>\n",
       "      <td>2019-03-09</td>\n",
       "    </tr>\n",
       "    <tr>\n",
       "      <th>20609</th>\n",
       "      <td>NaN</td>\n",
       "      <td>1069.0</td>\n",
       "      <td>reinstated</td>\n",
       "      <td>2019-03-09</td>\n",
       "    </tr>\n",
       "  </tbody>\n",
       "</table>\n",
       "<p>16507 rows × 4 columns</p>\n",
       "</div>"
      ],
      "text/plain": [
       "         og_nr    wc_nr organic_status organic_status_from_date\n",
       "0      20183.0      NaN            new               2023-02-24\n",
       "1      20290.0      NaN            new               2023-02-24\n",
       "2      20254.0      NaN            new               2023-02-24\n",
       "3      20255.0      NaN            new               2023-02-24\n",
       "4      20256.0      NaN            new               2023-02-24\n",
       "...        ...      ...            ...                      ...\n",
       "20604      NaN   1861.0     reinstated               2019-03-09\n",
       "20605      NaN   1057.0     reinstated               2019-03-09\n",
       "20606      NaN  21040.0     reinstated               2019-03-09\n",
       "20608      NaN   2066.0     reinstated               2019-03-09\n",
       "20609      NaN   1069.0     reinstated               2019-03-09\n",
       "\n",
       "[16507 rows x 4 columns]"
      ]
     },
     "execution_count": 90,
     "metadata": {},
     "output_type": "execute_result"
    }
   ],
   "source": [
    "farmers_df[~farmers_df['organic_status_from_date'].isna()][['og_nr', 'wc_nr', 'organic_status', 'organic_status_from_date']]"
   ]
  },
  {
   "cell_type": "code",
   "execution_count": null,
   "metadata": {},
   "outputs": [
    {
     "data": {
      "text/html": [
       "<div>\n",
       "<style scoped>\n",
       "    .dataframe tbody tr th:only-of-type {\n",
       "        vertical-align: middle;\n",
       "    }\n",
       "\n",
       "    .dataframe tbody tr th {\n",
       "        vertical-align: top;\n",
       "    }\n",
       "\n",
       "    .dataframe thead th {\n",
       "        text-align: right;\n",
       "    }\n",
       "</style>\n",
       "<table border=\"1\" class=\"dataframe\">\n",
       "  <thead>\n",
       "    <tr style=\"text-align: right;\">\n",
       "      <th></th>\n",
       "      <th>organic_status</th>\n",
       "      <th>organic_status_from_date</th>\n",
       "    </tr>\n",
       "  </thead>\n",
       "  <tbody>\n",
       "    <tr>\n",
       "      <th>0</th>\n",
       "      <td>new</td>\n",
       "      <td>2023-02-24</td>\n",
       "    </tr>\n",
       "    <tr>\n",
       "      <th>1</th>\n",
       "      <td>new</td>\n",
       "      <td>2023-02-24</td>\n",
       "    </tr>\n",
       "    <tr>\n",
       "      <th>2</th>\n",
       "      <td>new</td>\n",
       "      <td>2023-02-24</td>\n",
       "    </tr>\n",
       "    <tr>\n",
       "      <th>3</th>\n",
       "      <td>new</td>\n",
       "      <td>2023-02-24</td>\n",
       "    </tr>\n",
       "    <tr>\n",
       "      <th>4</th>\n",
       "      <td>new</td>\n",
       "      <td>2023-02-24</td>\n",
       "    </tr>\n",
       "    <tr>\n",
       "      <th>...</th>\n",
       "      <td>...</td>\n",
       "      <td>...</td>\n",
       "    </tr>\n",
       "    <tr>\n",
       "      <th>20605</th>\n",
       "      <td>reinstated</td>\n",
       "      <td>2019-03-09</td>\n",
       "    </tr>\n",
       "    <tr>\n",
       "      <th>20606</th>\n",
       "      <td>reinstated</td>\n",
       "      <td>2019-03-09</td>\n",
       "    </tr>\n",
       "    <tr>\n",
       "      <th>20607</th>\n",
       "      <td>reinstated</td>\n",
       "      <td>NaT</td>\n",
       "    </tr>\n",
       "    <tr>\n",
       "      <th>20608</th>\n",
       "      <td>reinstated</td>\n",
       "      <td>2019-03-09</td>\n",
       "    </tr>\n",
       "    <tr>\n",
       "      <th>20609</th>\n",
       "      <td>reinstated</td>\n",
       "      <td>2019-03-09</td>\n",
       "    </tr>\n",
       "  </tbody>\n",
       "</table>\n",
       "<p>20609 rows × 2 columns</p>\n",
       "</div>"
      ],
      "text/plain": [
       "      organic_status organic_status_from_date\n",
       "0                new               2023-02-24\n",
       "1                new               2023-02-24\n",
       "2                new               2023-02-24\n",
       "3                new               2023-02-24\n",
       "4                new               2023-02-24\n",
       "...              ...                      ...\n",
       "20605     reinstated               2019-03-09\n",
       "20606     reinstated               2019-03-09\n",
       "20607     reinstated                      NaT\n",
       "20608     reinstated               2019-03-09\n",
       "20609     reinstated               2019-03-09\n",
       "\n",
       "[20609 rows x 2 columns]"
      ]
     },
     "execution_count": 86,
     "metadata": {},
     "output_type": "execute_result"
    }
   ],
   "source": [
    "farmers_df[~farmers_df['organic_status_from_date'].isna()][['organic_status','organic_status_from_date']]\n"
   ]
  }
 ],
 "metadata": {
  "kernelspec": {
   "display_name": "nf_sql",
   "language": "python",
   "name": "python3"
  },
  "language_info": {
   "codemirror_mode": {
    "name": "ipython",
    "version": 3
   },
   "file_extension": ".py",
   "mimetype": "text/x-python",
   "name": "python",
   "nbconvert_exporter": "python",
   "pygments_lexer": "ipython3",
   "version": "3.9.16"
  },
  "orig_nbformat": 4
 },
 "nbformat": 4,
 "nbformat_minor": 2
}
