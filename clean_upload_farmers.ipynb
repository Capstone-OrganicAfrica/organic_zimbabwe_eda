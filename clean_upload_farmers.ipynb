{
 "cells": [
  {
   "cell_type": "code",
   "execution_count": 2010,
   "metadata": {},
   "outputs": [],
   "source": [
    "import pandas as pd\n",
    "import sql_functions as sf"
   ]
  },
  {
   "cell_type": "code",
   "execution_count": 2011,
   "metadata": {},
   "outputs": [],
   "source": [
    "schema = 'organic_africa' # UPDATE 'TABLE_SCHEMA' based on schema used in class \n",
    "engine = sf.get_engine()"
   ]
  },
  {
   "attachments": {},
   "cell_type": "markdown",
   "metadata": {},
   "source": [
    "**Importing tables of farmer data as Dataframes**\n",
    "\n",
    "5 Dfs stored in one Dictionary "
   ]
  },
  {
   "cell_type": "code",
   "execution_count": 2012,
   "metadata": {},
   "outputs": [],
   "source": [
    "all_farmers = {}\n",
    "\n",
    "all_farmers['OGInfo__OGMB_1_df'] = sf.get_dataframe(f'SELECT * FROM {schema}.\"OGInfo__OGMB_1\"')\n",
    "all_farmers['OG_Info__OGOrg_1_df'] = sf.get_dataframe(f'SELECT * FROM {schema}.\"OG_Info__OGOrg_1\"')\n",
    "all_farmers['wc_info_bayoba_1_df'] = sf.get_dataframe(f'SELECT * FROM {schema}.\"wc_info_bayoba_1\"')\n",
    "all_farmers['wc_info__WCOrg_1_df'] = sf.get_dataframe(f'SELECT * FROM {schema}.\"wc_info__WCOrg_1\"')\n",
    "all_farmers['OG_Info_reserve__OGOrg_1_df'] = sf.get_dataframe(f'SELECT * FROM {schema}.\"OG_Info_reserve__OGOrg_1\"')\n"
   ]
  },
  {
   "attachments": {},
   "cell_type": "markdown",
   "metadata": {},
   "source": [
    "## Preparing imported farmer dataframes"
   ]
  },
  {
   "attachments": {},
   "cell_type": "markdown",
   "metadata": {},
   "source": [
    "**Preparing farmer dfs to concat them to one big df**\n",
    "\n",
    "1. Reduce all farmer df to the necessary ~20 columns \n",
    "2. Set all column names to lowercase\n",
    "3. Renaming equal columns with equal column names\n",
    "4. Checking and converting data types"
   ]
  },
  {
   "cell_type": "code",
   "execution_count": 2013,
   "metadata": {},
   "outputs": [],
   "source": [
    "# Reduce all farmer df to the necessary ~20 columns\n",
    "all_farmers['OGInfo__OGMB_1_df'] = all_farmers['OGInfo__OGMB_1_df'][['ID', 'OG_Nr', 'OG_code', 'Production_Unit', 'Area', 'Ward_Nr/Name',\n",
    "                                                                   'Species', 'Surname', 'First_names', 'Sex', 'ID_Number',\n",
    "                                                                   'Date_of_Birth', 'date_contracted', 'Date_dropped_out', 'Reason_dropped_out',\n",
    "                                                                   'Address', 'OG_Organic_Status', 'OG_Organic_Status_from_Date', 'Fairtrade']]\n",
    "\n",
    "all_farmers['OG_Info__OGOrg_1_df'] = all_farmers['OG_Info__OGOrg_1_df'][['ID', 'OG_Nr', 'OG_code', 'Production_Unit', 'Area', 'Ward_Nr/Name',\n",
    "                                                                       'Species', 'Surname', 'First_names', 'Sex', 'ID_Number', 'Date_of_Birth',\n",
    "                                                                       'Date_contracted', 'Date_dropped_out', 'Reason_dropped_out', \n",
    "                                                                       'OG_Organic_Status', 'Address', 'OG_Organic_Status_from_Date',\n",
    "                                                                       'Fairtrade','ward_nr']]\n",
    "\n",
    "all_farmers['wc_info_bayoba_1_df'] = all_farmers['wc_info_bayoba_1_df'][['ID', 'WC_Nr', 'WC_code', 'Production_Unit', 'Area', 'Ward_Nr/Name',\n",
    "                                                                       'Species', 'Surname', 'First_names', 'Sex', 'ID_Number', \n",
    "                                                                       'Date_contracted', 'Date_dropped_out',\n",
    "                                                                       'Reason_dropped_out', 'Address', 'Organic_Status', \n",
    "                                                                       'Organic_Status_from_Date', 'Fairtrade', 'Date_of_Birth', 'ward_nr']]\n",
    "\n",
    "all_farmers['wc_info__WCOrg_1_df'] = all_farmers['wc_info__WCOrg_1_df'][['ID', 'WC_Nr', 'WC_code', 'Production_Unit', 'Area', 'Ward_Nr/Name',\n",
    "                                                                       'Species', 'Surname', 'First_names', 'Sex', 'ID_Number',\n",
    "                                                                       'Date_contracted', 'Reason_dropped_out', 'Address', 'Organic_Status', \n",
    "                                                                       'Organic_Status_from_Date', 'Fairtrade', 'Date_dropped_out', 'ward_nr']]\n",
    "\n",
    "all_farmers['OG_Info_reserve__OGOrg_1_df'] = all_farmers['OG_Info_reserve__OGOrg_1_df'][['ID', 'OG_Nr', 'OG_code', 'Production_Unit', 'Area', \n",
    "                                                                                       'Ward_Nr/Name', 'Species', 'Surname', 'First_names',\n",
    "                                                                                       'Sex', 'ID_Number', 'Date_of_Birth', 'Date_contracted',\n",
    "                                                                                       'Date_dropped_out', 'Reason_dropped_out', 'Address',\n",
    "                                                                                       'OG_Organic_Status', 'OG_Organic_Status_from_Date', \n",
    "                                                                                       'Fairtrade', 'ward_nr']]"
   ]
  },
  {
   "cell_type": "code",
   "execution_count": 2014,
   "metadata": {},
   "outputs": [],
   "source": [
    "# Set all column names to lowercase\n",
    "\n",
    "for df in all_farmers.values():\n",
    "    #print(df)\n",
    "    df.columns = map(str.lower, df.columns)"
   ]
  },
  {
   "cell_type": "code",
   "execution_count": 2015,
   "metadata": {},
   "outputs": [
    {
     "data": {
      "text/plain": [
       "Index(['id', 'og_nr', 'og_code', 'production_unit', 'area', 'ward_nr/name',\n",
       "       'species', 'surname', 'first_names', 'sex', 'id_number',\n",
       "       'date_of_birth', 'date_contracted', 'date_dropped_out',\n",
       "       'reason_dropped_out', 'address', 'og_organic_status',\n",
       "       'og_organic_status_from_date', 'fairtrade'],\n",
       "      dtype='object')"
      ]
     },
     "execution_count": 2015,
     "metadata": {},
     "output_type": "execute_result"
    }
   ],
   "source": [
    "all_farmers['OGInfo__OGMB_1_df'].columns"
   ]
  },
  {
   "cell_type": "code",
   "execution_count": 2016,
   "metadata": {},
   "outputs": [],
   "source": [
    "# Renaming equal columns with equal column names\n",
    "all_farmers['OGInfo__OGMB_1_df'].rename(columns={'og_organic_status':'organic_status', 'og_organic_status_from_date':'organic_status_from_date'}, inplace=True)\n",
    "all_farmers['OG_Info__OGOrg_1_df'].rename(columns={'og_organic_status':'organic_status', 'og_organic_status_from_date':'organic_status_from_date'}, inplace=True)\n",
    "all_farmers['OG_Info_reserve__OGOrg_1_df'].rename(columns={'og_organic_status':'organic_status', 'og_organic_status_from_date':'organic_status_from_date'}, inplace=True)"
   ]
  },
  {
   "attachments": {},
   "cell_type": "markdown",
   "metadata": {},
   "source": [
    "**4. Checking and converting data types**\n",
    "\n",
    ".info() .dtype() type()\n",
    "\n",
    "pd.to_datetime()"
   ]
  },
  {
   "attachments": {},
   "cell_type": "markdown",
   "metadata": {},
   "source": [
    "#### OGInfo__OGMB_1"
   ]
  },
  {
   "cell_type": "code",
   "execution_count": 2017,
   "metadata": {},
   "outputs": [
    {
     "name": "stdout",
     "output_type": "stream",
     "text": [
      "<class 'pandas.core.frame.DataFrame'>\n",
      "RangeIndex: 8166 entries, 0 to 8165\n",
      "Data columns (total 19 columns):\n",
      " #   Column                    Non-Null Count  Dtype         \n",
      "---  ------                    --------------  -----         \n",
      " 0   id                        8166 non-null   int64         \n",
      " 1   og_nr                     8166 non-null   int64         \n",
      " 2   og_code                   8166 non-null   object        \n",
      " 3   production_unit           8166 non-null   object        \n",
      " 4   area                      8166 non-null   object        \n",
      " 5   ward_nr/name              8166 non-null   int64         \n",
      " 6   species                   8166 non-null   object        \n",
      " 7   surname                   8166 non-null   object        \n",
      " 8   first_names               8166 non-null   object        \n",
      " 9   sex                       8166 non-null   object        \n",
      " 10  id_number                 7073 non-null   object        \n",
      " 11  date_of_birth             657 non-null    datetime64[ns]\n",
      " 12  date_contracted           8164 non-null   datetime64[ns]\n",
      " 13  date_dropped_out          7053 non-null   datetime64[ns]\n",
      " 14  reason_dropped_out        6587 non-null   object        \n",
      " 15  address                   8111 non-null   object        \n",
      " 16  organic_status            8166 non-null   object        \n",
      " 17  organic_status_from_date  8166 non-null   object        \n",
      " 18  fairtrade                 8166 non-null   bool          \n",
      "dtypes: bool(1), datetime64[ns](3), int64(3), object(12)\n",
      "memory usage: 1.1+ MB\n"
     ]
    }
   ],
   "source": [
    "all_farmers['OGInfo__OGMB_1_df'].info()\n",
    "\n",
    "# looks good!"
   ]
  },
  {
   "cell_type": "code",
   "execution_count": 2018,
   "metadata": {},
   "outputs": [
    {
     "data": {
      "text/plain": [
       "pandas._libs.tslibs.timestamps.Timestamp"
      ]
     },
     "execution_count": 2018,
     "metadata": {},
     "output_type": "execute_result"
    }
   ],
   "source": [
    "type(all_farmers['OGInfo__OGMB_1_df']['date_contracted'][2])"
   ]
  },
  {
   "cell_type": "code",
   "execution_count": 2019,
   "metadata": {},
   "outputs": [
    {
     "data": {
      "text/plain": [
       "'12/07/2022'"
      ]
     },
     "execution_count": 2019,
     "metadata": {},
     "output_type": "execute_result"
    }
   ],
   "source": [
    "all_farmers['OG_Info__OGOrg_1_df']['date_contracted'][0]"
   ]
  },
  {
   "attachments": {},
   "cell_type": "markdown",
   "metadata": {},
   "source": [
    "#### OG_Info__OGOrg_1_df"
   ]
  },
  {
   "cell_type": "code",
   "execution_count": 2020,
   "metadata": {},
   "outputs": [
    {
     "name": "stdout",
     "output_type": "stream",
     "text": [
      "<class 'pandas.core.frame.DataFrame'>\n",
      "RangeIndex: 1403 entries, 0 to 1402\n",
      "Data columns (total 20 columns):\n",
      " #   Column                    Non-Null Count  Dtype \n",
      "---  ------                    --------------  ----- \n",
      " 0   id                        1403 non-null   int64 \n",
      " 1   og_nr                     1403 non-null   int64 \n",
      " 2   og_code                   1403 non-null   object\n",
      " 3   production_unit           1403 non-null   object\n",
      " 4   area                      1403 non-null   object\n",
      " 5   ward_nr/name              1403 non-null   object\n",
      " 6   species                   1403 non-null   object\n",
      " 7   surname                   1403 non-null   object\n",
      " 8   first_names               1403 non-null   object\n",
      " 9   sex                       1403 non-null   object\n",
      " 10  id_number                 1310 non-null   object\n",
      " 11  date_of_birth             930 non-null    object\n",
      " 12  date_contracted           1403 non-null   object\n",
      " 13  date_dropped_out          405 non-null    object\n",
      " 14  reason_dropped_out        264 non-null    object\n",
      " 15  organic_status            1403 non-null   object\n",
      " 16  address                   1192 non-null   object\n",
      " 17  organic_status_from_date  1403 non-null   object\n",
      " 18  fairtrade                 1403 non-null   bool  \n",
      " 19  ward_nr                   1403 non-null   int64 \n",
      "dtypes: bool(1), int64(3), object(16)\n",
      "memory usage: 209.8+ KB\n"
     ]
    }
   ],
   "source": [
    "all_farmers['OG_Info__OGOrg_1_df'].info()\n",
    "\n",
    "# need to convert date_of_birth, date_contracted and date_dropped_out"
   ]
  },
  {
   "cell_type": "code",
   "execution_count": 2021,
   "metadata": {},
   "outputs": [],
   "source": [
    "# converted date_of_birth\n",
    "all_farmers['OG_Info__OGOrg_1_df']['date_of_birth'] = pd.to_datetime(all_farmers['OG_Info__OGOrg_1_df']['date_of_birth'])"
   ]
  },
  {
   "attachments": {},
   "cell_type": "markdown",
   "metadata": {},
   "source": [
    "Converting 'date_contracted' to datetime"
   ]
  },
  {
   "cell_type": "code",
   "execution_count": 2022,
   "metadata": {},
   "outputs": [],
   "source": [
    "# all_farmers['OG_Info__OGOrg_1_df']['date_contracted'] = pd.to_datetime(all_farmers['OG_Info__OGOrg_1_df']['date_contracted'])\n",
    "\n",
    "# Out of bounds nanosecond timestamp: 218-08-19 00:00:00 present at position 59\n",
    "\n",
    "# all_farmers['OG_Info__OGOrg_1_df'].iloc[59,]\n",
    "# all_farmers['OG_Info__OGOrg_1_df'].loc[all_farmers['OG_Info__OGOrg_1_df']['date_contracted']=='218-08-19']\n",
    "\n",
    "# Did not found 218-08-19 at index 59 but the seems to get corrected in the next steps"
   ]
  },
  {
   "cell_type": "code",
   "execution_count": 2023,
   "metadata": {},
   "outputs": [
    {
     "data": {
      "text/plain": [
       "'31/8/18'"
      ]
     },
     "execution_count": 2023,
     "metadata": {},
     "output_type": "execute_result"
    }
   ],
   "source": [
    "all_farmers['OG_Info__OGOrg_1_df'].iloc[59]['date_contracted']"
   ]
  },
  {
   "cell_type": "code",
   "execution_count": 2024,
   "metadata": {},
   "outputs": [],
   "source": [
    "all_farmers['OG_Info__OGOrg_1_df'].replace('218-08-19', '2018-08-19', inplace=True)\n"
   ]
  },
  {
   "cell_type": "code",
   "execution_count": 2025,
   "metadata": {},
   "outputs": [
    {
     "data": {
      "text/plain": [
       "50       31/8/18\n",
       "51       31/8/18\n",
       "52    03/12/2012\n",
       "53    03/12/2012\n",
       "54       31/8/18\n",
       "55       31/8/18\n",
       "56    06/12/2012\n",
       "57      24/02/23\n",
       "58    06/12/2012\n",
       "59       31/8/18\n",
       "Name: date_contracted, dtype: object"
      ]
     },
     "execution_count": 2025,
     "metadata": {},
     "output_type": "execute_result"
    }
   ],
   "source": [
    "all_farmers['OG_Info__OGOrg_1_df'].iloc[50:60,12]"
   ]
  },
  {
   "attachments": {},
   "cell_type": "markdown",
   "metadata": {},
   "source": [
    "Solving date_contracted errors with padding strings"
   ]
  },
  {
   "cell_type": "code",
   "execution_count": 2026,
   "metadata": {},
   "outputs": [],
   "source": [
    "# Function to pad/fill to short dates like 5/3/18 to 05/03/2018\n",
    "\n",
    "def str_date_pad(val):\n",
    "    \n",
    "    if type(val) is str and len(val) < 10: \n",
    "\n",
    "        date_splitted = val.split('/')\n",
    "        \n",
    "        if len(date_splitted[1]) < 2 : \n",
    "            date_splitted[1] = '0' + date_splitted[1]\n",
    "\n",
    "        if (len(date_splitted[2]) < 4) and (int(date_splitted[2]) < 24) : \n",
    "            date_splitted[2] = '20' + date_splitted[2]\n",
    "        if len(date_splitted[2]) < 4 and int(date_splitted[2]) > 23 : \n",
    "            date_splitted[2] = '19' + date_splitted[2]\n",
    "    \n",
    "        val = '/'.join(date_splitted)\n",
    "        #print(val)\n",
    "        return val\n",
    "    \n",
    "    else:\n",
    "        return val\n"
   ]
  },
  {
   "cell_type": "code",
   "execution_count": 2027,
   "metadata": {},
   "outputs": [],
   "source": [
    "# Apply function to df\n",
    "all_farmers['OG_Info__OGOrg_1_df']['date_contracted'] = all_farmers['OG_Info__OGOrg_1_df']['date_contracted'].apply(str_date_pad)"
   ]
  },
  {
   "cell_type": "code",
   "execution_count": 2028,
   "metadata": {},
   "outputs": [
    {
     "data": {
      "text/plain": [
       "50    31/08/2018\n",
       "51    31/08/2018\n",
       "52    03/12/2012\n",
       "53    03/12/2012\n",
       "54    31/08/2018\n",
       "55    31/08/2018\n",
       "56    06/12/2012\n",
       "57    24/02/2023\n",
       "58    06/12/2012\n",
       "59    31/08/2018\n",
       "Name: date_contracted, dtype: object"
      ]
     },
     "execution_count": 2028,
     "metadata": {},
     "output_type": "execute_result"
    }
   ],
   "source": [
    "all_farmers['OG_Info__OGOrg_1_df'].iloc[50:60,12]"
   ]
  },
  {
   "cell_type": "code",
   "execution_count": 2029,
   "metadata": {},
   "outputs": [],
   "source": [
    "# Now after padding convert str to datetime gives still problem !\n",
    "# all_farmers['OG_Info__OGOrg_1_df']['date_contracted'] = pd.to_datetime(all_farmers['OG_Info__OGOrg_1_df']['date_contracted'])"
   ]
  },
  {
   "cell_type": "code",
   "execution_count": 2030,
   "metadata": {},
   "outputs": [
    {
     "data": {
      "text/html": [
       "<div>\n",
       "<style scoped>\n",
       "    .dataframe tbody tr th:only-of-type {\n",
       "        vertical-align: middle;\n",
       "    }\n",
       "\n",
       "    .dataframe tbody tr th {\n",
       "        vertical-align: top;\n",
       "    }\n",
       "\n",
       "    .dataframe thead th {\n",
       "        text-align: right;\n",
       "    }\n",
       "</style>\n",
       "<table border=\"1\" class=\"dataframe\">\n",
       "  <thead>\n",
       "    <tr style=\"text-align: right;\">\n",
       "      <th></th>\n",
       "      <th>id</th>\n",
       "      <th>og_nr</th>\n",
       "      <th>og_code</th>\n",
       "      <th>production_unit</th>\n",
       "      <th>area</th>\n",
       "      <th>ward_nr/name</th>\n",
       "      <th>species</th>\n",
       "      <th>surname</th>\n",
       "      <th>first_names</th>\n",
       "      <th>sex</th>\n",
       "      <th>id_number</th>\n",
       "      <th>date_of_birth</th>\n",
       "      <th>date_contracted</th>\n",
       "      <th>date_dropped_out</th>\n",
       "      <th>reason_dropped_out</th>\n",
       "      <th>organic_status</th>\n",
       "      <th>address</th>\n",
       "      <th>organic_status_from_date</th>\n",
       "      <th>fairtrade</th>\n",
       "      <th>ward_nr</th>\n",
       "    </tr>\n",
       "  </thead>\n",
       "  <tbody>\n",
       "    <tr>\n",
       "      <th>741</th>\n",
       "      <td>2140</td>\n",
       "      <td>19482</td>\n",
       "      <td>BNOG</td>\n",
       "      <td>Matabeleland North</td>\n",
       "      <td>Binga</td>\n",
       "      <td>5 Sinakoma</td>\n",
       "      <td>Rosella</td>\n",
       "      <td>Mpande</td>\n",
       "      <td>Josephine</td>\n",
       "      <td>female</td>\n",
       "      <td>06-010710E06</td>\n",
       "      <td>1968-10-01</td>\n",
       "      <td>19/08/19218</td>\n",
       "      <td>None</td>\n",
       "      <td>None</td>\n",
       "      <td>Org</td>\n",
       "      <td>Dongamuse Primary School Box 83 Binga</td>\n",
       "      <td>2018-08-19</td>\n",
       "      <td>True</td>\n",
       "      <td>5</td>\n",
       "    </tr>\n",
       "  </tbody>\n",
       "</table>\n",
       "</div>"
      ],
      "text/plain": [
       "       id  og_nr og_code     production_unit   area ward_nr/name  species  \\\n",
       "741  2140  19482    BNOG  Matabeleland North  Binga   5 Sinakoma  Rosella   \n",
       "\n",
       "    surname first_names     sex     id_number date_of_birth date_contracted  \\\n",
       "741  Mpande   Josephine  female  06-010710E06    1968-10-01     19/08/19218   \n",
       "\n",
       "    date_dropped_out reason_dropped_out organic_status  \\\n",
       "741             None               None            Org   \n",
       "\n",
       "                                   address organic_status_from_date  \\\n",
       "741  Dongamuse Primary School Box 83 Binga               2018-08-19   \n",
       "\n",
       "     fairtrade  ward_nr  \n",
       "741       True        5  "
      ]
     },
     "execution_count": 2030,
     "metadata": {},
     "output_type": "execute_result"
    }
   ],
   "source": [
    "# Problem with date '19/08/19218' at 54 BUT its in position/row_index 741\n",
    "all_farmers['OG_Info__OGOrg_1_df'].loc[all_farmers['OG_Info__OGOrg_1_df']['date_contracted']=='19/08/19218']\n",
    "# cause year '218' padded to '19218'"
   ]
  },
  {
   "cell_type": "code",
   "execution_count": 2031,
   "metadata": {},
   "outputs": [],
   "source": [
    "# Solve through replacing '19/08/19218' by '19/08/2018' and dropping '01/00/2022'\n",
    "all_farmers['OG_Info__OGOrg_1_df'].replace('19/08/19218', '19/08/2018', inplace=True)\n",
    "all_farmers['OG_Info__OGOrg_1_df'].replace('01/00/2022', None, inplace=True)"
   ]
  },
  {
   "cell_type": "code",
   "execution_count": 2032,
   "metadata": {},
   "outputs": [
    {
     "data": {
      "text/plain": [
       "'19/08/2018'"
      ]
     },
     "execution_count": 2032,
     "metadata": {},
     "output_type": "execute_result"
    }
   ],
   "source": [
    "all_farmers['OG_Info__OGOrg_1_df'].iloc[741]['date_contracted']"
   ]
  },
  {
   "cell_type": "code",
   "execution_count": 2033,
   "metadata": {},
   "outputs": [
    {
     "name": "stderr",
     "output_type": "stream",
     "text": [
      "/var/folders/x5/v1d8l9v94679fhr8vd07ys9c0000gn/T/ipykernel_2393/2690701254.py:2: UserWarning: Parsing dates in DD/MM/YYYY format when dayfirst=False (the default) was specified. This may lead to inconsistently parsed dates! Specify a format to ensure consistent parsing.\n",
      "  all_farmers['OG_Info__OGOrg_1_df']['date_contracted'] = pd.to_datetime(all_farmers['OG_Info__OGOrg_1_df']['date_contracted'])\n"
     ]
    }
   ],
   "source": [
    "# Ready to convert str to datetime\n",
    "all_farmers['OG_Info__OGOrg_1_df']['date_contracted'] = pd.to_datetime(all_farmers['OG_Info__OGOrg_1_df']['date_contracted'])"
   ]
  },
  {
   "cell_type": "code",
   "execution_count": 2034,
   "metadata": {},
   "outputs": [
    {
     "data": {
      "text/plain": [
       "Timestamp('2012-06-12 00:00:00')"
      ]
     },
     "execution_count": 2034,
     "metadata": {},
     "output_type": "execute_result"
    }
   ],
   "source": [
    "all_farmers['OG_Info__OGOrg_1_df'].iloc[65]['date_contracted']"
   ]
  },
  {
   "cell_type": "code",
   "execution_count": 2035,
   "metadata": {},
   "outputs": [
    {
     "name": "stderr",
     "output_type": "stream",
     "text": [
      "/var/folders/x5/v1d8l9v94679fhr8vd07ys9c0000gn/T/ipykernel_2393/3224109209.py:1: UserWarning: Parsing dates in DD/MM/YYYY format when dayfirst=False (the default) was specified. This may lead to inconsistently parsed dates! Specify a format to ensure consistent parsing.\n",
      "  all_farmers['OG_Info__OGOrg_1_df']['date_dropped_out'] = pd.to_datetime(all_farmers['OG_Info__OGOrg_1_df']['date_dropped_out'])\n"
     ]
    }
   ],
   "source": [
    "all_farmers['OG_Info__OGOrg_1_df']['date_dropped_out'] = pd.to_datetime(all_farmers['OG_Info__OGOrg_1_df']['date_dropped_out'])"
   ]
  },
  {
   "cell_type": "code",
   "execution_count": 2036,
   "metadata": {},
   "outputs": [
    {
     "name": "stdout",
     "output_type": "stream",
     "text": [
      "<class 'pandas.core.frame.DataFrame'>\n",
      "RangeIndex: 1403 entries, 0 to 1402\n",
      "Data columns (total 20 columns):\n",
      " #   Column                    Non-Null Count  Dtype         \n",
      "---  ------                    --------------  -----         \n",
      " 0   id                        1403 non-null   int64         \n",
      " 1   og_nr                     1403 non-null   int64         \n",
      " 2   og_code                   1403 non-null   object        \n",
      " 3   production_unit           1403 non-null   object        \n",
      " 4   area                      1403 non-null   object        \n",
      " 5   ward_nr/name              1403 non-null   object        \n",
      " 6   species                   1403 non-null   object        \n",
      " 7   surname                   1403 non-null   object        \n",
      " 8   first_names               1403 non-null   object        \n",
      " 9   sex                       1403 non-null   object        \n",
      " 10  id_number                 1310 non-null   object        \n",
      " 11  date_of_birth             930 non-null    datetime64[ns]\n",
      " 12  date_contracted           1402 non-null   datetime64[ns]\n",
      " 13  date_dropped_out          405 non-null    datetime64[ns]\n",
      " 14  reason_dropped_out        264 non-null    object        \n",
      " 15  organic_status            1403 non-null   object        \n",
      " 16  address                   1192 non-null   object        \n",
      " 17  organic_status_from_date  1403 non-null   object        \n",
      " 18  fairtrade                 1403 non-null   bool          \n",
      " 19  ward_nr                   1403 non-null   int64         \n",
      "dtypes: bool(1), datetime64[ns](3), int64(3), object(13)\n",
      "memory usage: 209.8+ KB\n"
     ]
    }
   ],
   "source": [
    "all_farmers['OG_Info__OGOrg_1_df'].info()"
   ]
  },
  {
   "attachments": {},
   "cell_type": "markdown",
   "metadata": {},
   "source": [
    "#### wc_info_bayoba_1_df"
   ]
  },
  {
   "cell_type": "code",
   "execution_count": 2037,
   "metadata": {},
   "outputs": [
    {
     "name": "stdout",
     "output_type": "stream",
     "text": [
      "<class 'pandas.core.frame.DataFrame'>\n",
      "RangeIndex: 10952 entries, 0 to 10951\n",
      "Data columns (total 20 columns):\n",
      " #   Column                    Non-Null Count  Dtype  \n",
      "---  ------                    --------------  -----  \n",
      " 0   id                        10952 non-null  int64  \n",
      " 1   wc_nr                     10952 non-null  int64  \n",
      " 2   wc_code                   10952 non-null  object \n",
      " 3   production_unit           10952 non-null  object \n",
      " 4   area                      10952 non-null  object \n",
      " 5   ward_nr/name              10535 non-null  object \n",
      " 6   species                   10952 non-null  object \n",
      " 7   surname                   10951 non-null  object \n",
      " 8   first_names               10949 non-null  object \n",
      " 9   sex                       10952 non-null  object \n",
      " 10  id_number                 10248 non-null  object \n",
      " 11  date_contracted           10951 non-null  object \n",
      " 12  date_dropped_out          1924 non-null   object \n",
      " 13  reason_dropped_out        1054 non-null   object \n",
      " 14  address                   10779 non-null  object \n",
      " 15  organic_status            10952 non-null  object \n",
      " 16  organic_status_from_date  6867 non-null   object \n",
      " 17  fairtrade                 10952 non-null  bool   \n",
      " 18  date_of_birth             990 non-null    object \n",
      " 19  ward_nr                   10535 non-null  float64\n",
      "dtypes: bool(1), float64(1), int64(2), object(16)\n",
      "memory usage: 1.6+ MB\n"
     ]
    }
   ],
   "source": [
    "all_farmers['wc_info_bayoba_1_df'].info()\n",
    "\n",
    "# need to convert date_of_birth, date_contracted and date_dropped_out"
   ]
  },
  {
   "cell_type": "code",
   "execution_count": 2038,
   "metadata": {},
   "outputs": [],
   "source": [
    "all_farmers['wc_info_bayoba_1_df']['date_of_birth'] = pd.to_datetime(all_farmers['wc_info_bayoba_1_df']['date_of_birth'])"
   ]
  },
  {
   "cell_type": "code",
   "execution_count": 2039,
   "metadata": {},
   "outputs": [],
   "source": [
    "all_farmers['wc_info_bayoba_1_df']['date_contracted'] = pd.to_datetime(all_farmers['wc_info_bayoba_1_df']['date_contracted'])"
   ]
  },
  {
   "cell_type": "code",
   "execution_count": 2040,
   "metadata": {},
   "outputs": [],
   "source": [
    "all_farmers['wc_info_bayoba_1_df']['date_dropped_out'] = pd.to_datetime(all_farmers['wc_info_bayoba_1_df']['date_dropped_out'])"
   ]
  },
  {
   "cell_type": "code",
   "execution_count": 2041,
   "metadata": {},
   "outputs": [
    {
     "name": "stdout",
     "output_type": "stream",
     "text": [
      "<class 'pandas.core.frame.DataFrame'>\n",
      "RangeIndex: 10952 entries, 0 to 10951\n",
      "Data columns (total 20 columns):\n",
      " #   Column                    Non-Null Count  Dtype         \n",
      "---  ------                    --------------  -----         \n",
      " 0   id                        10952 non-null  int64         \n",
      " 1   wc_nr                     10952 non-null  int64         \n",
      " 2   wc_code                   10952 non-null  object        \n",
      " 3   production_unit           10952 non-null  object        \n",
      " 4   area                      10952 non-null  object        \n",
      " 5   ward_nr/name              10535 non-null  object        \n",
      " 6   species                   10952 non-null  object        \n",
      " 7   surname                   10951 non-null  object        \n",
      " 8   first_names               10949 non-null  object        \n",
      " 9   sex                       10952 non-null  object        \n",
      " 10  id_number                 10248 non-null  object        \n",
      " 11  date_contracted           10951 non-null  datetime64[ns]\n",
      " 12  date_dropped_out          1924 non-null   datetime64[ns]\n",
      " 13  reason_dropped_out        1054 non-null   object        \n",
      " 14  address                   10779 non-null  object        \n",
      " 15  organic_status            10952 non-null  object        \n",
      " 16  organic_status_from_date  6867 non-null   object        \n",
      " 17  fairtrade                 10952 non-null  bool          \n",
      " 18  date_of_birth             990 non-null    datetime64[ns]\n",
      " 19  ward_nr                   10535 non-null  float64       \n",
      "dtypes: bool(1), datetime64[ns](3), float64(1), int64(2), object(13)\n",
      "memory usage: 1.6+ MB\n"
     ]
    }
   ],
   "source": [
    "all_farmers['wc_info_bayoba_1_df'].info()"
   ]
  },
  {
   "attachments": {},
   "cell_type": "markdown",
   "metadata": {},
   "source": [
    "#### wc_info__WCOrg_1_df"
   ]
  },
  {
   "cell_type": "code",
   "execution_count": 2042,
   "metadata": {},
   "outputs": [
    {
     "name": "stdout",
     "output_type": "stream",
     "text": [
      "<class 'pandas.core.frame.DataFrame'>\n",
      "RangeIndex: 565 entries, 0 to 564\n",
      "Data columns (total 19 columns):\n",
      " #   Column                    Non-Null Count  Dtype  \n",
      "---  ------                    --------------  -----  \n",
      " 0   id                        565 non-null    int64  \n",
      " 1   wc_nr                     565 non-null    int64  \n",
      " 2   wc_code                   565 non-null    object \n",
      " 3   production_unit           565 non-null    object \n",
      " 4   area                      565 non-null    object \n",
      " 5   ward_nr/name              563 non-null    object \n",
      " 6   species                   565 non-null    object \n",
      " 7   surname                   564 non-null    object \n",
      " 8   first_names               564 non-null    object \n",
      " 9   sex                       565 non-null    object \n",
      " 10  id_number                 472 non-null    object \n",
      " 11  date_contracted           558 non-null    object \n",
      " 12  reason_dropped_out        142 non-null    object \n",
      " 13  address                   530 non-null    object \n",
      " 14  organic_status            564 non-null    object \n",
      " 15  organic_status_from_date  547 non-null    object \n",
      " 16  fairtrade                 565 non-null    bool   \n",
      " 17  date_dropped_out          426 non-null    object \n",
      " 18  ward_nr                   563 non-null    float64\n",
      "dtypes: bool(1), float64(1), int64(2), object(15)\n",
      "memory usage: 80.1+ KB\n"
     ]
    }
   ],
   "source": [
    "all_farmers['wc_info__WCOrg_1_df'].info()\n",
    "\n",
    "# has no date_of_birth column -> 19 columns\n",
    "# need to convert date_contracted and date_dropped_out"
   ]
  },
  {
   "cell_type": "code",
   "execution_count": 2043,
   "metadata": {},
   "outputs": [],
   "source": [
    "all_farmers['wc_info__WCOrg_1_df']['date_contracted'] = pd.to_datetime(all_farmers['wc_info__WCOrg_1_df']['date_contracted'])"
   ]
  },
  {
   "cell_type": "code",
   "execution_count": 2044,
   "metadata": {},
   "outputs": [
    {
     "name": "stderr",
     "output_type": "stream",
     "text": [
      "/var/folders/x5/v1d8l9v94679fhr8vd07ys9c0000gn/T/ipykernel_2393/68422980.py:1: UserWarning: Parsing dates in DD/MM/YYYY format when dayfirst=False (the default) was specified. This may lead to inconsistently parsed dates! Specify a format to ensure consistent parsing.\n",
      "  all_farmers['wc_info__WCOrg_1_df']['date_dropped_out'] = pd.to_datetime(all_farmers['wc_info__WCOrg_1_df']['date_dropped_out'])\n"
     ]
    }
   ],
   "source": [
    "all_farmers['wc_info__WCOrg_1_df']['date_dropped_out'] = pd.to_datetime(all_farmers['wc_info__WCOrg_1_df']['date_dropped_out'])"
   ]
  },
  {
   "cell_type": "code",
   "execution_count": 2045,
   "metadata": {},
   "outputs": [
    {
     "name": "stdout",
     "output_type": "stream",
     "text": [
      "<class 'pandas.core.frame.DataFrame'>\n",
      "RangeIndex: 565 entries, 0 to 564\n",
      "Data columns (total 19 columns):\n",
      " #   Column                    Non-Null Count  Dtype         \n",
      "---  ------                    --------------  -----         \n",
      " 0   id                        565 non-null    int64         \n",
      " 1   wc_nr                     565 non-null    int64         \n",
      " 2   wc_code                   565 non-null    object        \n",
      " 3   production_unit           565 non-null    object        \n",
      " 4   area                      565 non-null    object        \n",
      " 5   ward_nr/name              563 non-null    object        \n",
      " 6   species                   565 non-null    object        \n",
      " 7   surname                   564 non-null    object        \n",
      " 8   first_names               564 non-null    object        \n",
      " 9   sex                       565 non-null    object        \n",
      " 10  id_number                 472 non-null    object        \n",
      " 11  date_contracted           558 non-null    datetime64[ns]\n",
      " 12  reason_dropped_out        142 non-null    object        \n",
      " 13  address                   530 non-null    object        \n",
      " 14  organic_status            564 non-null    object        \n",
      " 15  organic_status_from_date  547 non-null    object        \n",
      " 16  fairtrade                 565 non-null    bool          \n",
      " 17  date_dropped_out          426 non-null    datetime64[ns]\n",
      " 18  ward_nr                   563 non-null    float64       \n",
      "dtypes: bool(1), datetime64[ns](2), float64(1), int64(2), object(13)\n",
      "memory usage: 80.1+ KB\n"
     ]
    }
   ],
   "source": [
    "all_farmers['wc_info__WCOrg_1_df'].info()"
   ]
  },
  {
   "attachments": {},
   "cell_type": "markdown",
   "metadata": {},
   "source": [
    "#### OG_Info_reserve__OGOrg_1_df"
   ]
  },
  {
   "cell_type": "code",
   "execution_count": 2046,
   "metadata": {},
   "outputs": [
    {
     "name": "stdout",
     "output_type": "stream",
     "text": [
      "<class 'pandas.core.frame.DataFrame'>\n",
      "RangeIndex: 795 entries, 0 to 794\n",
      "Data columns (total 20 columns):\n",
      " #   Column                    Non-Null Count  Dtype  \n",
      "---  ------                    --------------  -----  \n",
      " 0   id                        795 non-null    int64  \n",
      " 1   og_nr                     795 non-null    int64  \n",
      " 2   og_code                   795 non-null    object \n",
      " 3   production_unit           795 non-null    object \n",
      " 4   area                      795 non-null    object \n",
      " 5   ward_nr/name              794 non-null    object \n",
      " 6   species                   795 non-null    object \n",
      " 7   surname                   795 non-null    object \n",
      " 8   first_names               795 non-null    object \n",
      " 9   sex                       795 non-null    object \n",
      " 10  id_number                 734 non-null    object \n",
      " 11  date_of_birth             267 non-null    object \n",
      " 12  date_contracted           795 non-null    object \n",
      " 13  date_dropped_out          255 non-null    object \n",
      " 14  reason_dropped_out        257 non-null    object \n",
      " 15  address                   785 non-null    object \n",
      " 16  organic_status            795 non-null    object \n",
      " 17  organic_status_from_date  795 non-null    object \n",
      " 18  fairtrade                 795 non-null    bool   \n",
      " 19  ward_nr                   794 non-null    float64\n",
      "dtypes: bool(1), float64(1), int64(2), object(16)\n",
      "memory usage: 118.9+ KB\n"
     ]
    }
   ],
   "source": [
    "all_farmers['OG_Info_reserve__OGOrg_1_df'].info()\n",
    "\n",
    "# need to convert date_of_birth, date_contracted and date_dropped_out"
   ]
  },
  {
   "cell_type": "code",
   "execution_count": 2047,
   "metadata": {},
   "outputs": [],
   "source": [
    "all_farmers['OG_Info_reserve__OGOrg_1_df']['date_of_birth'] = pd.to_datetime(all_farmers['OG_Info_reserve__OGOrg_1_df']['date_of_birth'])"
   ]
  },
  {
   "cell_type": "code",
   "execution_count": 2048,
   "metadata": {},
   "outputs": [],
   "source": [
    "all_farmers['OG_Info_reserve__OGOrg_1_df']['date_contracted'] = pd.to_datetime(all_farmers['OG_Info__OGOrg_1_df']['date_contracted'])"
   ]
  },
  {
   "cell_type": "code",
   "execution_count": 2049,
   "metadata": {},
   "outputs": [],
   "source": [
    "all_farmers['OG_Info_reserve__OGOrg_1_df']['date_dropped_out'] = pd.to_datetime(all_farmers['OG_Info_reserve__OGOrg_1_df']['date_dropped_out'])"
   ]
  },
  {
   "cell_type": "code",
   "execution_count": 2050,
   "metadata": {},
   "outputs": [
    {
     "name": "stdout",
     "output_type": "stream",
     "text": [
      "<class 'pandas.core.frame.DataFrame'>\n",
      "RangeIndex: 795 entries, 0 to 794\n",
      "Data columns (total 20 columns):\n",
      " #   Column                    Non-Null Count  Dtype         \n",
      "---  ------                    --------------  -----         \n",
      " 0   id                        795 non-null    int64         \n",
      " 1   og_nr                     795 non-null    int64         \n",
      " 2   og_code                   795 non-null    object        \n",
      " 3   production_unit           795 non-null    object        \n",
      " 4   area                      795 non-null    object        \n",
      " 5   ward_nr/name              794 non-null    object        \n",
      " 6   species                   795 non-null    object        \n",
      " 7   surname                   795 non-null    object        \n",
      " 8   first_names               795 non-null    object        \n",
      " 9   sex                       795 non-null    object        \n",
      " 10  id_number                 734 non-null    object        \n",
      " 11  date_of_birth             267 non-null    datetime64[ns]\n",
      " 12  date_contracted           795 non-null    datetime64[ns]\n",
      " 13  date_dropped_out          255 non-null    datetime64[ns]\n",
      " 14  reason_dropped_out        257 non-null    object        \n",
      " 15  address                   785 non-null    object        \n",
      " 16  organic_status            795 non-null    object        \n",
      " 17  organic_status_from_date  795 non-null    object        \n",
      " 18  fairtrade                 795 non-null    bool          \n",
      " 19  ward_nr                   794 non-null    float64       \n",
      "dtypes: bool(1), datetime64[ns](3), float64(1), int64(2), object(13)\n",
      "memory usage: 118.9+ KB\n"
     ]
    }
   ],
   "source": [
    "all_farmers['OG_Info_reserve__OGOrg_1_df'].info()"
   ]
  },
  {
   "attachments": {},
   "cell_type": "markdown",
   "metadata": {},
   "source": [
    "### Adding Birthdates to wc_info_WCOrg_1_df"
   ]
  },
  {
   "cell_type": "code",
   "execution_count": 2051,
   "metadata": {},
   "outputs": [],
   "source": [
    "all_birthdates_df = sf.get_dataframe(f'SELECT * FROM {schema}.\"all_birthdates\"')"
   ]
  },
  {
   "cell_type": "code",
   "execution_count": 2052,
   "metadata": {},
   "outputs": [
    {
     "data": {
      "text/plain": [
       "453"
      ]
     },
     "execution_count": 2052,
     "metadata": {},
     "output_type": "execute_result"
    }
   ],
   "source": [
    "len(list(set(all_birthdates_df[\"wc_nr\"]) & set(all_farmers['wc_info__WCOrg_1_df'][['wc_nr']].squeeze())))"
   ]
  },
  {
   "attachments": {},
   "cell_type": "markdown",
   "metadata": {},
   "source": [
    "#### Merge all_birthdates_df to wc_info__WCOrg_1_df"
   ]
  },
  {
   "cell_type": "code",
   "execution_count": 2053,
   "metadata": {},
   "outputs": [],
   "source": [
    "all_farmers['wc_info__WCOrg_1_df'] = pd.merge(all_farmers['wc_info__WCOrg_1_df'], all_birthdates_df, how=\"left\", on=\"wc_nr\")"
   ]
  },
  {
   "cell_type": "code",
   "execution_count": 2054,
   "metadata": {},
   "outputs": [
    {
     "data": {
      "text/html": [
       "<div>\n",
       "<style scoped>\n",
       "    .dataframe tbody tr th:only-of-type {\n",
       "        vertical-align: middle;\n",
       "    }\n",
       "\n",
       "    .dataframe tbody tr th {\n",
       "        vertical-align: top;\n",
       "    }\n",
       "\n",
       "    .dataframe thead th {\n",
       "        text-align: right;\n",
       "    }\n",
       "</style>\n",
       "<table border=\"1\" class=\"dataframe\">\n",
       "  <thead>\n",
       "    <tr style=\"text-align: right;\">\n",
       "      <th></th>\n",
       "      <th>id</th>\n",
       "      <th>wc_nr</th>\n",
       "      <th>wc_code</th>\n",
       "      <th>production_unit</th>\n",
       "      <th>area</th>\n",
       "      <th>ward_nr/name</th>\n",
       "      <th>species</th>\n",
       "      <th>surname</th>\n",
       "      <th>first_names</th>\n",
       "      <th>sex</th>\n",
       "      <th>id_number</th>\n",
       "      <th>date_contracted</th>\n",
       "      <th>reason_dropped_out</th>\n",
       "      <th>address</th>\n",
       "      <th>organic_status</th>\n",
       "      <th>organic_status_from_date</th>\n",
       "      <th>fairtrade</th>\n",
       "      <th>date_dropped_out</th>\n",
       "      <th>ward_nr</th>\n",
       "      <th>date_of_birth</th>\n",
       "    </tr>\n",
       "  </thead>\n",
       "  <tbody>\n",
       "    <tr>\n",
       "      <th>0</th>\n",
       "      <td>4942</td>\n",
       "      <td>3962</td>\n",
       "      <td>HWWC</td>\n",
       "      <td>Matabeleland North</td>\n",
       "      <td>Hwange</td>\n",
       "      <td>6 Gondwa</td>\n",
       "      <td>Devils Claw</td>\n",
       "      <td>Moyo</td>\n",
       "      <td>Pios</td>\n",
       "      <td>male</td>\n",
       "      <td>None</td>\n",
       "      <td>2014-07-07</td>\n",
       "      <td>None</td>\n",
       "      <td>Secretariat Sch Vic Falls</td>\n",
       "      <td>Org</td>\n",
       "      <td>None</td>\n",
       "      <td>False</td>\n",
       "      <td>NaT</td>\n",
       "      <td>6.0</td>\n",
       "      <td>NaT</td>\n",
       "    </tr>\n",
       "    <tr>\n",
       "      <th>1</th>\n",
       "      <td>5608</td>\n",
       "      <td>3692</td>\n",
       "      <td>HWWC</td>\n",
       "      <td>Matabeleland North</td>\n",
       "      <td>Hwange</td>\n",
       "      <td>6 Gondwa</td>\n",
       "      <td>Devils Claw</td>\n",
       "      <td>Ncube</td>\n",
       "      <td>Mwayani</td>\n",
       "      <td>male</td>\n",
       "      <td>79-124391X79</td>\n",
       "      <td>2015-03-14</td>\n",
       "      <td>None</td>\n",
       "      <td>Mironga School, Vic Falls</td>\n",
       "      <td>Org</td>\n",
       "      <td>None</td>\n",
       "      <td>False</td>\n",
       "      <td>NaT</td>\n",
       "      <td>6.0</td>\n",
       "      <td>NaT</td>\n",
       "    </tr>\n",
       "    <tr>\n",
       "      <th>2</th>\n",
       "      <td>10630</td>\n",
       "      <td>1773</td>\n",
       "      <td>HWWC</td>\n",
       "      <td>Matabeleland North</td>\n",
       "      <td>Hwange</td>\n",
       "      <td>3 Kachechete</td>\n",
       "      <td>Devils Claw</td>\n",
       "      <td>Ncube</td>\n",
       "      <td>Engel</td>\n",
       "      <td>female</td>\n",
       "      <td>08-161126N39</td>\n",
       "      <td>2012-10-06</td>\n",
       "      <td>None</td>\n",
       "      <td>Bethesda Sch, Vic-Falls</td>\n",
       "      <td>Org</td>\n",
       "      <td>2017-11-11</td>\n",
       "      <td>False</td>\n",
       "      <td>2017-11-21</td>\n",
       "      <td>3.0</td>\n",
       "      <td>NaT</td>\n",
       "    </tr>\n",
       "    <tr>\n",
       "      <th>3</th>\n",
       "      <td>1763</td>\n",
       "      <td>1772</td>\n",
       "      <td>HWWC</td>\n",
       "      <td>Matabeleland North</td>\n",
       "      <td>Hwange</td>\n",
       "      <td>3 Kachechete</td>\n",
       "      <td>Devils Claw</td>\n",
       "      <td>Dube</td>\n",
       "      <td>Samson</td>\n",
       "      <td>Male</td>\n",
       "      <td>79-031011X79</td>\n",
       "      <td>2012-10-06</td>\n",
       "      <td>None</td>\n",
       "      <td>Bethesda Sch, Vic-Falls</td>\n",
       "      <td>Org</td>\n",
       "      <td>2017-06-19</td>\n",
       "      <td>False</td>\n",
       "      <td>NaT</td>\n",
       "      <td>3.0</td>\n",
       "      <td>1957-10-02</td>\n",
       "    </tr>\n",
       "    <tr>\n",
       "      <th>4</th>\n",
       "      <td>1766</td>\n",
       "      <td>1775</td>\n",
       "      <td>HWWC</td>\n",
       "      <td>Matabeleland North</td>\n",
       "      <td>Hwange</td>\n",
       "      <td>3 Kachechete</td>\n",
       "      <td>Devils Claw</td>\n",
       "      <td>Ngwenya</td>\n",
       "      <td>Joshua</td>\n",
       "      <td>Male</td>\n",
       "      <td>79-011290L79</td>\n",
       "      <td>2012-10-06</td>\n",
       "      <td>None</td>\n",
       "      <td>Bethesda Sch, Vic-Falls</td>\n",
       "      <td>Org</td>\n",
       "      <td>2017-06-19</td>\n",
       "      <td>False</td>\n",
       "      <td>NaT</td>\n",
       "      <td>3.0</td>\n",
       "      <td>1955-10-05</td>\n",
       "    </tr>\n",
       "    <tr>\n",
       "      <th>...</th>\n",
       "      <td>...</td>\n",
       "      <td>...</td>\n",
       "      <td>...</td>\n",
       "      <td>...</td>\n",
       "      <td>...</td>\n",
       "      <td>...</td>\n",
       "      <td>...</td>\n",
       "      <td>...</td>\n",
       "      <td>...</td>\n",
       "      <td>...</td>\n",
       "      <td>...</td>\n",
       "      <td>...</td>\n",
       "      <td>...</td>\n",
       "      <td>...</td>\n",
       "      <td>...</td>\n",
       "      <td>...</td>\n",
       "      <td>...</td>\n",
       "      <td>...</td>\n",
       "      <td>...</td>\n",
       "      <td>...</td>\n",
       "    </tr>\n",
       "    <tr>\n",
       "      <th>560</th>\n",
       "      <td>11146</td>\n",
       "      <td>1057</td>\n",
       "      <td>CMWC</td>\n",
       "      <td>Manicaland</td>\n",
       "      <td>Chimanimani Rusitu</td>\n",
       "      <td>21</td>\n",
       "      <td>Wild Gotu kola</td>\n",
       "      <td>Zaranyika</td>\n",
       "      <td>Vaina</td>\n",
       "      <td>female</td>\n",
       "      <td>None</td>\n",
       "      <td>NaT</td>\n",
       "      <td>None</td>\n",
       "      <td>Hode Pry Sch, Bag 2051, Chimanimani</td>\n",
       "      <td>Reinstated</td>\n",
       "      <td>2019-03-09</td>\n",
       "      <td>False</td>\n",
       "      <td>2021-01-29</td>\n",
       "      <td>21.0</td>\n",
       "      <td>NaT</td>\n",
       "    </tr>\n",
       "    <tr>\n",
       "      <th>561</th>\n",
       "      <td>11147</td>\n",
       "      <td>21040</td>\n",
       "      <td>CMWC</td>\n",
       "      <td>Manicaland</td>\n",
       "      <td>Chimanimani Rusitu</td>\n",
       "      <td>21</td>\n",
       "      <td>Wild Gotu kola</td>\n",
       "      <td>Chibawana</td>\n",
       "      <td>Violet</td>\n",
       "      <td>female</td>\n",
       "      <td>None</td>\n",
       "      <td>NaT</td>\n",
       "      <td>None</td>\n",
       "      <td>Hode Pry Sch, Bag 2051, Chimanimani</td>\n",
       "      <td>Reinstated</td>\n",
       "      <td>2019-03-09</td>\n",
       "      <td>False</td>\n",
       "      <td>2021-01-29</td>\n",
       "      <td>21.0</td>\n",
       "      <td>NaT</td>\n",
       "    </tr>\n",
       "    <tr>\n",
       "      <th>562</th>\n",
       "      <td>11148</td>\n",
       "      <td>2555</td>\n",
       "      <td>CMWC</td>\n",
       "      <td>Manicaland</td>\n",
       "      <td>Chimanimani Rusitu</td>\n",
       "      <td>21</td>\n",
       "      <td>Wild Gotu kola</td>\n",
       "      <td>Hofisi</td>\n",
       "      <td>Christine</td>\n",
       "      <td>female</td>\n",
       "      <td>None</td>\n",
       "      <td>NaT</td>\n",
       "      <td>None</td>\n",
       "      <td>Hode Pry Sch, Bag 2051, Chimanimani</td>\n",
       "      <td>Reinstated</td>\n",
       "      <td>None</td>\n",
       "      <td>False</td>\n",
       "      <td>2021-01-29</td>\n",
       "      <td>21.0</td>\n",
       "      <td>NaT</td>\n",
       "    </tr>\n",
       "    <tr>\n",
       "      <th>563</th>\n",
       "      <td>11149</td>\n",
       "      <td>2066</td>\n",
       "      <td>CMWC</td>\n",
       "      <td>Manicaland</td>\n",
       "      <td>Chimanimani Rusitu</td>\n",
       "      <td>21</td>\n",
       "      <td>Wild Gotu Kola</td>\n",
       "      <td>Mudada</td>\n",
       "      <td>Marjorie</td>\n",
       "      <td>female</td>\n",
       "      <td>None</td>\n",
       "      <td>NaT</td>\n",
       "      <td>None</td>\n",
       "      <td>Hode Pry Sch, Bag 2051, Chimanimani</td>\n",
       "      <td>Reinstated</td>\n",
       "      <td>2019-03-09</td>\n",
       "      <td>False</td>\n",
       "      <td>2021-01-29</td>\n",
       "      <td>21.0</td>\n",
       "      <td>NaT</td>\n",
       "    </tr>\n",
       "    <tr>\n",
       "      <th>564</th>\n",
       "      <td>11150</td>\n",
       "      <td>1069</td>\n",
       "      <td>CMWC</td>\n",
       "      <td>Manicaland</td>\n",
       "      <td>Chimanimani Rusitu</td>\n",
       "      <td>21</td>\n",
       "      <td>Wild gotu kola</td>\n",
       "      <td>Nyamwazha</td>\n",
       "      <td>Martha</td>\n",
       "      <td>female</td>\n",
       "      <td>None</td>\n",
       "      <td>NaT</td>\n",
       "      <td>None</td>\n",
       "      <td>Hode Pry Sch, Bag 2051, Chimanimani</td>\n",
       "      <td>Reinstated</td>\n",
       "      <td>2019-03-09</td>\n",
       "      <td>False</td>\n",
       "      <td>2021-01-29</td>\n",
       "      <td>21.0</td>\n",
       "      <td>NaT</td>\n",
       "    </tr>\n",
       "  </tbody>\n",
       "</table>\n",
       "<p>565 rows × 20 columns</p>\n",
       "</div>"
      ],
      "text/plain": [
       "        id  wc_nr wc_code     production_unit                area  \\\n",
       "0     4942   3962    HWWC  Matabeleland North              Hwange   \n",
       "1     5608   3692    HWWC  Matabeleland North              Hwange   \n",
       "2    10630   1773    HWWC  Matabeleland North              Hwange   \n",
       "3     1763   1772    HWWC  Matabeleland North              Hwange   \n",
       "4     1766   1775    HWWC  Matabeleland North              Hwange   \n",
       "..     ...    ...     ...                 ...                 ...   \n",
       "560  11146   1057    CMWC          Manicaland  Chimanimani Rusitu   \n",
       "561  11147  21040    CMWC          Manicaland  Chimanimani Rusitu   \n",
       "562  11148   2555    CMWC          Manicaland  Chimanimani Rusitu   \n",
       "563  11149   2066    CMWC          Manicaland  Chimanimani Rusitu   \n",
       "564  11150   1069    CMWC          Manicaland  Chimanimani Rusitu   \n",
       "\n",
       "     ward_nr/name         species    surname first_names     sex  \\\n",
       "0        6 Gondwa     Devils Claw       Moyo        Pios    male   \n",
       "1        6 Gondwa     Devils Claw      Ncube     Mwayani    male   \n",
       "2    3 Kachechete     Devils Claw      Ncube       Engel  female   \n",
       "3    3 Kachechete     Devils Claw       Dube      Samson    Male   \n",
       "4    3 Kachechete     Devils Claw    Ngwenya      Joshua    Male   \n",
       "..            ...             ...        ...         ...     ...   \n",
       "560            21  Wild Gotu kola  Zaranyika       Vaina  female   \n",
       "561            21  Wild Gotu kola  Chibawana      Violet  female   \n",
       "562            21  Wild Gotu kola     Hofisi   Christine  female   \n",
       "563            21  Wild Gotu Kola     Mudada    Marjorie  female   \n",
       "564            21  Wild gotu kola  Nyamwazha      Martha  female   \n",
       "\n",
       "        id_number date_contracted reason_dropped_out  \\\n",
       "0            None      2014-07-07               None   \n",
       "1    79-124391X79      2015-03-14               None   \n",
       "2    08-161126N39      2012-10-06               None   \n",
       "3    79-031011X79      2012-10-06               None   \n",
       "4    79-011290L79      2012-10-06               None   \n",
       "..            ...             ...                ...   \n",
       "560          None             NaT               None   \n",
       "561          None             NaT               None   \n",
       "562          None             NaT               None   \n",
       "563          None             NaT               None   \n",
       "564          None             NaT               None   \n",
       "\n",
       "                                 address organic_status  \\\n",
       "0              Secretariat Sch Vic Falls            Org   \n",
       "1              Mironga School, Vic Falls            Org   \n",
       "2                Bethesda Sch, Vic-Falls            Org   \n",
       "3                Bethesda Sch, Vic-Falls            Org   \n",
       "4                Bethesda Sch, Vic-Falls            Org   \n",
       "..                                   ...            ...   \n",
       "560  Hode Pry Sch, Bag 2051, Chimanimani     Reinstated   \n",
       "561  Hode Pry Sch, Bag 2051, Chimanimani     Reinstated   \n",
       "562  Hode Pry Sch, Bag 2051, Chimanimani     Reinstated   \n",
       "563  Hode Pry Sch, Bag 2051, Chimanimani     Reinstated   \n",
       "564  Hode Pry Sch, Bag 2051, Chimanimani     Reinstated   \n",
       "\n",
       "    organic_status_from_date  fairtrade date_dropped_out  ward_nr  \\\n",
       "0                       None      False              NaT      6.0   \n",
       "1                       None      False              NaT      6.0   \n",
       "2                 2017-11-11      False       2017-11-21      3.0   \n",
       "3                 2017-06-19      False              NaT      3.0   \n",
       "4                 2017-06-19      False              NaT      3.0   \n",
       "..                       ...        ...              ...      ...   \n",
       "560               2019-03-09      False       2021-01-29     21.0   \n",
       "561               2019-03-09      False       2021-01-29     21.0   \n",
       "562                     None      False       2021-01-29     21.0   \n",
       "563               2019-03-09      False       2021-01-29     21.0   \n",
       "564               2019-03-09      False       2021-01-29     21.0   \n",
       "\n",
       "    date_of_birth  \n",
       "0             NaT  \n",
       "1             NaT  \n",
       "2             NaT  \n",
       "3      1957-10-02  \n",
       "4      1955-10-05  \n",
       "..            ...  \n",
       "560           NaT  \n",
       "561           NaT  \n",
       "562           NaT  \n",
       "563           NaT  \n",
       "564           NaT  \n",
       "\n",
       "[565 rows x 20 columns]"
      ]
     },
     "execution_count": 2054,
     "metadata": {},
     "output_type": "execute_result"
    }
   ],
   "source": [
    "all_farmers['wc_info__WCOrg_1_df']"
   ]
  },
  {
   "cell_type": "code",
   "execution_count": 2055,
   "metadata": {},
   "outputs": [
    {
     "name": "stdout",
     "output_type": "stream",
     "text": [
      "<class 'pandas.core.frame.DataFrame'>\n",
      "Int64Index: 565 entries, 0 to 564\n",
      "Data columns (total 20 columns):\n",
      " #   Column                    Non-Null Count  Dtype         \n",
      "---  ------                    --------------  -----         \n",
      " 0   id                        565 non-null    int64         \n",
      " 1   wc_nr                     565 non-null    int64         \n",
      " 2   wc_code                   565 non-null    object        \n",
      " 3   production_unit           565 non-null    object        \n",
      " 4   area                      565 non-null    object        \n",
      " 5   ward_nr/name              563 non-null    object        \n",
      " 6   species                   565 non-null    object        \n",
      " 7   surname                   564 non-null    object        \n",
      " 8   first_names               564 non-null    object        \n",
      " 9   sex                       565 non-null    object        \n",
      " 10  id_number                 472 non-null    object        \n",
      " 11  date_contracted           558 non-null    datetime64[ns]\n",
      " 12  reason_dropped_out        142 non-null    object        \n",
      " 13  address                   530 non-null    object        \n",
      " 14  organic_status            564 non-null    object        \n",
      " 15  organic_status_from_date  547 non-null    object        \n",
      " 16  fairtrade                 565 non-null    bool          \n",
      " 17  date_dropped_out          426 non-null    datetime64[ns]\n",
      " 18  ward_nr                   563 non-null    float64       \n",
      " 19  date_of_birth             39 non-null     datetime64[ns]\n",
      "dtypes: bool(1), datetime64[ns](3), float64(1), int64(2), object(13)\n",
      "memory usage: 88.8+ KB\n"
     ]
    }
   ],
   "source": [
    "all_farmers['wc_info__WCOrg_1_df'].info()"
   ]
  },
  {
   "attachments": {},
   "cell_type": "markdown",
   "metadata": {},
   "source": [
    "## Final merge of farmer dfs to concated_farmers"
   ]
  },
  {
   "attachments": {},
   "cell_type": "markdown",
   "metadata": {},
   "source": [
    "Verify shapes of dfs"
   ]
  },
  {
   "cell_type": "code",
   "execution_count": 2056,
   "metadata": {},
   "outputs": [
    {
     "name": "stdout",
     "output_type": "stream",
     "text": [
      "OGInfo__OGMB_1_df\n",
      "(8166, 19)\n",
      "OG_Info__OGOrg_1_df\n",
      "(1403, 20)\n",
      "wc_info_bayoba_1_df\n",
      "(10952, 20)\n",
      "wc_info__WCOrg_1_df\n",
      "(565, 20)\n",
      "OG_Info_reserve__OGOrg_1_df\n",
      "(795, 20)\n"
     ]
    }
   ],
   "source": [
    "for name, df in all_farmers.items():\n",
    "    print(name)\n",
    "    print(df.shape)"
   ]
  },
  {
   "cell_type": "code",
   "execution_count": 2057,
   "metadata": {},
   "outputs": [
    {
     "data": {
      "text/plain": [
       "(8166, 20)"
      ]
     },
     "execution_count": 2057,
     "metadata": {},
     "output_type": "execute_result"
    }
   ],
   "source": [
    "# ['ward_nr'] column still missing:\n",
    "\n",
    "all_farmers['OGInfo__OGMB_1_df'][['ward_nr']] = all_farmers['OGInfo__OGMB_1_df'][['ward_nr/name']]\n",
    "all_farmers['OGInfo__OGMB_1_df'].shape"
   ]
  },
  {
   "cell_type": "code",
   "execution_count": 2058,
   "metadata": {},
   "outputs": [],
   "source": [
    "concated_farmers = pd.concat(all_farmers)"
   ]
  },
  {
   "cell_type": "code",
   "execution_count": 2059,
   "metadata": {},
   "outputs": [
    {
     "name": "stdout",
     "output_type": "stream",
     "text": [
      "<class 'pandas.core.frame.DataFrame'>\n",
      "MultiIndex: 21881 entries, ('OGInfo__OGMB_1_df', 0) to ('OG_Info_reserve__OGOrg_1_df', 794)\n",
      "Data columns (total 22 columns):\n",
      " #   Column                    Non-Null Count  Dtype         \n",
      "---  ------                    --------------  -----         \n",
      " 0   id                        21881 non-null  int64         \n",
      " 1   og_nr                     10364 non-null  float64       \n",
      " 2   og_code                   10364 non-null  object        \n",
      " 3   production_unit           21881 non-null  object        \n",
      " 4   area                      21881 non-null  object        \n",
      " 5   ward_nr/name              21461 non-null  object        \n",
      " 6   species                   21881 non-null  object        \n",
      " 7   surname                   21879 non-null  object        \n",
      " 8   first_names               21877 non-null  object        \n",
      " 9   sex                       21881 non-null  object        \n",
      " 10  id_number                 19837 non-null  object        \n",
      " 11  date_of_birth             2883 non-null   datetime64[ns]\n",
      " 12  date_contracted           21870 non-null  datetime64[ns]\n",
      " 13  date_dropped_out          10063 non-null  datetime64[ns]\n",
      " 14  reason_dropped_out        8304 non-null   object        \n",
      " 15  address                   21397 non-null  object        \n",
      " 16  organic_status            21880 non-null  object        \n",
      " 17  organic_status_from_date  17778 non-null  object        \n",
      " 18  fairtrade                 21881 non-null  bool          \n",
      " 19  ward_nr                   21461 non-null  float64       \n",
      " 20  wc_nr                     11517 non-null  float64       \n",
      " 21  wc_code                   11517 non-null  object        \n",
      "dtypes: bool(1), datetime64[ns](3), float64(3), int64(1), object(14)\n",
      "memory usage: 3.9+ MB\n"
     ]
    }
   ],
   "source": [
    "concated_farmers.info()"
   ]
  },
  {
   "cell_type": "code",
   "execution_count": 2060,
   "metadata": {},
   "outputs": [
    {
     "data": {
      "text/html": [
       "<div>\n",
       "<style scoped>\n",
       "    .dataframe tbody tr th:only-of-type {\n",
       "        vertical-align: middle;\n",
       "    }\n",
       "\n",
       "    .dataframe tbody tr th {\n",
       "        vertical-align: top;\n",
       "    }\n",
       "\n",
       "    .dataframe thead th {\n",
       "        text-align: right;\n",
       "    }\n",
       "</style>\n",
       "<table border=\"1\" class=\"dataframe\">\n",
       "  <thead>\n",
       "    <tr style=\"text-align: right;\">\n",
       "      <th></th>\n",
       "      <th></th>\n",
       "      <th>id</th>\n",
       "      <th>og_nr</th>\n",
       "      <th>og_code</th>\n",
       "      <th>production_unit</th>\n",
       "      <th>area</th>\n",
       "      <th>ward_nr/name</th>\n",
       "      <th>species</th>\n",
       "      <th>surname</th>\n",
       "      <th>first_names</th>\n",
       "      <th>sex</th>\n",
       "      <th>...</th>\n",
       "      <th>date_contracted</th>\n",
       "      <th>date_dropped_out</th>\n",
       "      <th>reason_dropped_out</th>\n",
       "      <th>address</th>\n",
       "      <th>organic_status</th>\n",
       "      <th>organic_status_from_date</th>\n",
       "      <th>fairtrade</th>\n",
       "      <th>ward_nr</th>\n",
       "      <th>wc_nr</th>\n",
       "      <th>wc_code</th>\n",
       "    </tr>\n",
       "  </thead>\n",
       "  <tbody>\n",
       "    <tr>\n",
       "      <th rowspan=\"2\" valign=\"top\">OGInfo__OGMB_1_df</th>\n",
       "      <th>145</th>\n",
       "      <td>1517</td>\n",
       "      <td>13107.0</td>\n",
       "      <td>MBOGR</td>\n",
       "      <td>Mashonaland Central</td>\n",
       "      <td>Mbire</td>\n",
       "      <td>6</td>\n",
       "      <td>Rosella</td>\n",
       "      <td>Mutape</td>\n",
       "      <td>Sophia</td>\n",
       "      <td>female</td>\n",
       "      <td>...</td>\n",
       "      <td>2174-12-02</td>\n",
       "      <td>NaT</td>\n",
       "      <td>None</td>\n",
       "      <td>Kasawo sch, Box 346, Mbire D</td>\n",
       "      <td>Mabagrown</td>\n",
       "      <td>2017-12-02 00:00:00.000</td>\n",
       "      <td>False</td>\n",
       "      <td>6.0</td>\n",
       "      <td>NaN</td>\n",
       "      <td>NaN</td>\n",
       "    </tr>\n",
       "    <tr>\n",
       "      <th>239</th>\n",
       "      <td>1414</td>\n",
       "      <td>13190.0</td>\n",
       "      <td>MBOGR</td>\n",
       "      <td>Mashonaland Central</td>\n",
       "      <td>Mbire</td>\n",
       "      <td>6</td>\n",
       "      <td>Rosella</td>\n",
       "      <td>Gurupira</td>\n",
       "      <td>Vengayi</td>\n",
       "      <td>male</td>\n",
       "      <td>...</td>\n",
       "      <td>2147-12-06</td>\n",
       "      <td>2020-03-19</td>\n",
       "      <td>Own choice</td>\n",
       "      <td>Nyarutomno sch, Box 500, Mbire D</td>\n",
       "      <td>Dropout</td>\n",
       "      <td>2017-12-06 00:00:00.000</td>\n",
       "      <td>False</td>\n",
       "      <td>6.0</td>\n",
       "      <td>NaN</td>\n",
       "      <td>NaN</td>\n",
       "    </tr>\n",
       "  </tbody>\n",
       "</table>\n",
       "<p>2 rows × 22 columns</p>\n",
       "</div>"
      ],
      "text/plain": [
       "                         id    og_nr og_code      production_unit   area  \\\n",
       "OGInfo__OGMB_1_df 145  1517  13107.0   MBOGR  Mashonaland Central  Mbire   \n",
       "                  239  1414  13190.0   MBOGR  Mashonaland Central  Mbire   \n",
       "\n",
       "                      ward_nr/name  species   surname first_names     sex  \\\n",
       "OGInfo__OGMB_1_df 145            6  Rosella    Mutape      Sophia  female   \n",
       "                  239            6  Rosella  Gurupira     Vengayi    male   \n",
       "\n",
       "                       ... date_contracted date_dropped_out  \\\n",
       "OGInfo__OGMB_1_df 145  ...      2174-12-02              NaT   \n",
       "                  239  ...      2147-12-06       2020-03-19   \n",
       "\n",
       "                      reason_dropped_out                           address  \\\n",
       "OGInfo__OGMB_1_df 145               None      Kasawo sch, Box 346, Mbire D   \n",
       "                  239         Own choice  Nyarutomno sch, Box 500, Mbire D   \n",
       "\n",
       "                      organic_status organic_status_from_date fairtrade  \\\n",
       "OGInfo__OGMB_1_df 145      Mabagrown  2017-12-02 00:00:00.000     False   \n",
       "                  239        Dropout  2017-12-06 00:00:00.000     False   \n",
       "\n",
       "                      ward_nr  wc_nr  wc_code  \n",
       "OGInfo__OGMB_1_df 145     6.0    NaN      NaN  \n",
       "                  239     6.0    NaN      NaN  \n",
       "\n",
       "[2 rows x 22 columns]"
      ]
     },
     "execution_count": 2060,
     "metadata": {},
     "output_type": "execute_result"
    }
   ],
   "source": [
    "concated_farmers[concated_farmers['date_contracted'].dt.year.astype('Int64')>2023]"
   ]
  },
  {
   "cell_type": "code",
   "execution_count": 2061,
   "metadata": {},
   "outputs": [],
   "source": [
    "concated_farmers.replace('2174-12-02', '2021-07-06', inplace=True)"
   ]
  },
  {
   "cell_type": "code",
   "execution_count": 2062,
   "metadata": {},
   "outputs": [
    {
     "data": {
      "text/html": [
       "<div>\n",
       "<style scoped>\n",
       "    .dataframe tbody tr th:only-of-type {\n",
       "        vertical-align: middle;\n",
       "    }\n",
       "\n",
       "    .dataframe tbody tr th {\n",
       "        vertical-align: top;\n",
       "    }\n",
       "\n",
       "    .dataframe thead th {\n",
       "        text-align: right;\n",
       "    }\n",
       "</style>\n",
       "<table border=\"1\" class=\"dataframe\">\n",
       "  <thead>\n",
       "    <tr style=\"text-align: right;\">\n",
       "      <th></th>\n",
       "      <th></th>\n",
       "      <th>id</th>\n",
       "      <th>og_nr</th>\n",
       "      <th>og_code</th>\n",
       "      <th>production_unit</th>\n",
       "      <th>area</th>\n",
       "      <th>ward_nr/name</th>\n",
       "      <th>species</th>\n",
       "      <th>surname</th>\n",
       "      <th>first_names</th>\n",
       "      <th>sex</th>\n",
       "      <th>...</th>\n",
       "      <th>date_contracted</th>\n",
       "      <th>date_dropped_out</th>\n",
       "      <th>reason_dropped_out</th>\n",
       "      <th>address</th>\n",
       "      <th>organic_status</th>\n",
       "      <th>organic_status_from_date</th>\n",
       "      <th>fairtrade</th>\n",
       "      <th>ward_nr</th>\n",
       "      <th>wc_nr</th>\n",
       "      <th>wc_code</th>\n",
       "    </tr>\n",
       "  </thead>\n",
       "  <tbody>\n",
       "    <tr>\n",
       "      <th rowspan=\"5\" valign=\"top\">OGInfo__OGMB_1_df</th>\n",
       "      <th>0</th>\n",
       "      <td>1545</td>\n",
       "      <td>13137.0</td>\n",
       "      <td>MBOGR</td>\n",
       "      <td>Mashonaland Central</td>\n",
       "      <td>Mbire</td>\n",
       "      <td>15</td>\n",
       "      <td>Rosella</td>\n",
       "      <td>Nyamayaro</td>\n",
       "      <td>Phillip</td>\n",
       "      <td>male</td>\n",
       "      <td>...</td>\n",
       "      <td>NaT</td>\n",
       "      <td>2020-02-05</td>\n",
       "      <td>Own choice</td>\n",
       "      <td>Mahuwe sch, Box 92, Mbire D</td>\n",
       "      <td>Dropout</td>\n",
       "      <td>2017-12-02 00:00:00.000</td>\n",
       "      <td>False</td>\n",
       "      <td>15.0</td>\n",
       "      <td>NaN</td>\n",
       "      <td>NaN</td>\n",
       "    </tr>\n",
       "    <tr>\n",
       "      <th>1</th>\n",
       "      <td>12026</td>\n",
       "      <td>12116.0</td>\n",
       "      <td>MBOGR</td>\n",
       "      <td>Mashonaland Central</td>\n",
       "      <td>Mbire</td>\n",
       "      <td>6</td>\n",
       "      <td>Rosella</td>\n",
       "      <td>Funda</td>\n",
       "      <td>Jennie</td>\n",
       "      <td>female</td>\n",
       "      <td>...</td>\n",
       "      <td>2022-04-02</td>\n",
       "      <td>NaT</td>\n",
       "      <td>None</td>\n",
       "      <td>Kasuwo Primary School 346, Mbire</td>\n",
       "      <td>Mabagrown</td>\n",
       "      <td>2022-04-02 00:00:00.000</td>\n",
       "      <td>False</td>\n",
       "      <td>6.0</td>\n",
       "      <td>NaN</td>\n",
       "      <td>NaN</td>\n",
       "    </tr>\n",
       "    <tr>\n",
       "      <th>2</th>\n",
       "      <td>9914</td>\n",
       "      <td>23949.0</td>\n",
       "      <td>MBOGK</td>\n",
       "      <td>Mashonaland Central</td>\n",
       "      <td>Mbire</td>\n",
       "      <td>13</td>\n",
       "      <td>Rosella</td>\n",
       "      <td>Chingwena</td>\n",
       "      <td>Gladys</td>\n",
       "      <td>female</td>\n",
       "      <td>...</td>\n",
       "      <td>2020-03-23</td>\n",
       "      <td>2021-07-26</td>\n",
       "      <td>Area closed</td>\n",
       "      <td>Sapa Primary School P O Box 203</td>\n",
       "      <td>Dropout</td>\n",
       "      <td>2020-03-23 00:00:00.000</td>\n",
       "      <td>False</td>\n",
       "      <td>13.0</td>\n",
       "      <td>NaN</td>\n",
       "      <td>NaN</td>\n",
       "    </tr>\n",
       "    <tr>\n",
       "      <th>3</th>\n",
       "      <td>9915</td>\n",
       "      <td>23950.0</td>\n",
       "      <td>MBOGK</td>\n",
       "      <td>Mashonaland Central</td>\n",
       "      <td>Mbire</td>\n",
       "      <td>13</td>\n",
       "      <td>Rosella</td>\n",
       "      <td>Marumbe</td>\n",
       "      <td>Tariro</td>\n",
       "      <td>female</td>\n",
       "      <td>...</td>\n",
       "      <td>2020-03-23</td>\n",
       "      <td>2021-07-26</td>\n",
       "      <td>Area closed</td>\n",
       "      <td>Sapa Primary School P O Box 203</td>\n",
       "      <td>Dropout</td>\n",
       "      <td>2020-03-23 00:00:00.000</td>\n",
       "      <td>False</td>\n",
       "      <td>13.0</td>\n",
       "      <td>NaN</td>\n",
       "      <td>NaN</td>\n",
       "    </tr>\n",
       "    <tr>\n",
       "      <th>4</th>\n",
       "      <td>9916</td>\n",
       "      <td>23951.0</td>\n",
       "      <td>MBOGK</td>\n",
       "      <td>Mashonaland Central</td>\n",
       "      <td>Mbire</td>\n",
       "      <td>13</td>\n",
       "      <td>Rosella</td>\n",
       "      <td>Dambudzo</td>\n",
       "      <td>Ketai</td>\n",
       "      <td>female</td>\n",
       "      <td>...</td>\n",
       "      <td>2020-03-23</td>\n",
       "      <td>2021-07-26</td>\n",
       "      <td>Area closed</td>\n",
       "      <td>Sapa Primary School P O Box 203</td>\n",
       "      <td>Dropout</td>\n",
       "      <td>2020-03-23 00:00:00.000</td>\n",
       "      <td>False</td>\n",
       "      <td>13.0</td>\n",
       "      <td>NaN</td>\n",
       "      <td>NaN</td>\n",
       "    </tr>\n",
       "    <tr>\n",
       "      <th>...</th>\n",
       "      <th>...</th>\n",
       "      <td>...</td>\n",
       "      <td>...</td>\n",
       "      <td>...</td>\n",
       "      <td>...</td>\n",
       "      <td>...</td>\n",
       "      <td>...</td>\n",
       "      <td>...</td>\n",
       "      <td>...</td>\n",
       "      <td>...</td>\n",
       "      <td>...</td>\n",
       "      <td>...</td>\n",
       "      <td>...</td>\n",
       "      <td>...</td>\n",
       "      <td>...</td>\n",
       "      <td>...</td>\n",
       "      <td>...</td>\n",
       "      <td>...</td>\n",
       "      <td>...</td>\n",
       "      <td>...</td>\n",
       "      <td>...</td>\n",
       "      <td>...</td>\n",
       "    </tr>\n",
       "    <tr>\n",
       "      <th rowspan=\"5\" valign=\"top\">OG_Info_reserve__OGOrg_1_df</th>\n",
       "      <th>790</th>\n",
       "      <td>3546</td>\n",
       "      <td>20023.0</td>\n",
       "      <td>MUOG</td>\n",
       "      <td>Mashonaland Central</td>\n",
       "      <td>Mushumbi</td>\n",
       "      <td>3</td>\n",
       "      <td>Rosella, Chilli, Paprika</td>\n",
       "      <td>Myundia</td>\n",
       "      <td>Thandiwe</td>\n",
       "      <td>female</td>\n",
       "      <td>...</td>\n",
       "      <td>2018-08-18</td>\n",
       "      <td>NaT</td>\n",
       "      <td>None</td>\n",
       "      <td>ARDA Mushumbi, Box 210, Mbire</td>\n",
       "      <td>New</td>\n",
       "      <td>2019-02-01</td>\n",
       "      <td>False</td>\n",
       "      <td>3.0</td>\n",
       "      <td>NaN</td>\n",
       "      <td>NaN</td>\n",
       "    </tr>\n",
       "    <tr>\n",
       "      <th>791</th>\n",
       "      <td>3549</td>\n",
       "      <td>20026.0</td>\n",
       "      <td>MUOG</td>\n",
       "      <td>Mashonaland Central</td>\n",
       "      <td>Mushumbi</td>\n",
       "      <td>3</td>\n",
       "      <td>Rosella, Chilli, Paprika</td>\n",
       "      <td>Nhete</td>\n",
       "      <td>Stella</td>\n",
       "      <td>female</td>\n",
       "      <td>...</td>\n",
       "      <td>2018-08-18</td>\n",
       "      <td>NaT</td>\n",
       "      <td>None</td>\n",
       "      <td>ARDA Mushumbi, Box 210, Mbire</td>\n",
       "      <td>New</td>\n",
       "      <td>2019-02-01</td>\n",
       "      <td>False</td>\n",
       "      <td>3.0</td>\n",
       "      <td>NaN</td>\n",
       "      <td>NaN</td>\n",
       "    </tr>\n",
       "    <tr>\n",
       "      <th>792</th>\n",
       "      <td>3550</td>\n",
       "      <td>20027.0</td>\n",
       "      <td>MUOG</td>\n",
       "      <td>Mashonaland Central</td>\n",
       "      <td>Mushumbi</td>\n",
       "      <td>3</td>\n",
       "      <td>Rosella, Chilli, Paprika</td>\n",
       "      <td>Musiiwa</td>\n",
       "      <td>Admire</td>\n",
       "      <td>male</td>\n",
       "      <td>...</td>\n",
       "      <td>2019-07-31</td>\n",
       "      <td>NaT</td>\n",
       "      <td>None</td>\n",
       "      <td>ARDA Mushumbi, Box 210, Mbire</td>\n",
       "      <td>New</td>\n",
       "      <td>2019-02-01</td>\n",
       "      <td>False</td>\n",
       "      <td>3.0</td>\n",
       "      <td>NaN</td>\n",
       "      <td>NaN</td>\n",
       "    </tr>\n",
       "    <tr>\n",
       "      <th>793</th>\n",
       "      <td>3551</td>\n",
       "      <td>20028.0</td>\n",
       "      <td>MUOG</td>\n",
       "      <td>Mashonaland Central</td>\n",
       "      <td>Mushumbi</td>\n",
       "      <td>3</td>\n",
       "      <td>Rosella, Chilli, Paprika</td>\n",
       "      <td>Masodzi</td>\n",
       "      <td>Norah</td>\n",
       "      <td>female</td>\n",
       "      <td>...</td>\n",
       "      <td>2019-07-31</td>\n",
       "      <td>NaT</td>\n",
       "      <td>None</td>\n",
       "      <td>ARDA Mushumbi, Box 210, Mbire</td>\n",
       "      <td>New</td>\n",
       "      <td>2019-02-01</td>\n",
       "      <td>False</td>\n",
       "      <td>3.0</td>\n",
       "      <td>NaN</td>\n",
       "      <td>NaN</td>\n",
       "    </tr>\n",
       "    <tr>\n",
       "      <th>794</th>\n",
       "      <td>1861</td>\n",
       "      <td>14001.0</td>\n",
       "      <td>BNOG</td>\n",
       "      <td>Matabeleland North</td>\n",
       "      <td>Binga</td>\n",
       "      <td>11 Lubu</td>\n",
       "      <td>Rosella</td>\n",
       "      <td>Mwembe</td>\n",
       "      <td>Mutale</td>\n",
       "      <td>female</td>\n",
       "      <td>...</td>\n",
       "      <td>2018-08-30</td>\n",
       "      <td>NaT</td>\n",
       "      <td>None</td>\n",
       "      <td>Lubu primary School P Bag 5729 Binga</td>\n",
       "      <td>Org</td>\n",
       "      <td>2018-08-31</td>\n",
       "      <td>False</td>\n",
       "      <td>11.0</td>\n",
       "      <td>NaN</td>\n",
       "      <td>NaN</td>\n",
       "    </tr>\n",
       "  </tbody>\n",
       "</table>\n",
       "<p>21881 rows × 22 columns</p>\n",
       "</div>"
      ],
      "text/plain": [
       "                                    id    og_nr og_code      production_unit  \\\n",
       "OGInfo__OGMB_1_df           0     1545  13137.0   MBOGR  Mashonaland Central   \n",
       "                            1    12026  12116.0   MBOGR  Mashonaland Central   \n",
       "                            2     9914  23949.0   MBOGK  Mashonaland Central   \n",
       "                            3     9915  23950.0   MBOGK  Mashonaland Central   \n",
       "                            4     9916  23951.0   MBOGK  Mashonaland Central   \n",
       "...                                ...      ...     ...                  ...   \n",
       "OG_Info_reserve__OGOrg_1_df 790   3546  20023.0    MUOG  Mashonaland Central   \n",
       "                            791   3549  20026.0    MUOG  Mashonaland Central   \n",
       "                            792   3550  20027.0    MUOG  Mashonaland Central   \n",
       "                            793   3551  20028.0    MUOG  Mashonaland Central   \n",
       "                            794   1861  14001.0    BNOG   Matabeleland North   \n",
       "\n",
       "                                     area ward_nr/name  \\\n",
       "OGInfo__OGMB_1_df           0       Mbire           15   \n",
       "                            1       Mbire            6   \n",
       "                            2       Mbire           13   \n",
       "                            3       Mbire           13   \n",
       "                            4       Mbire           13   \n",
       "...                                   ...          ...   \n",
       "OG_Info_reserve__OGOrg_1_df 790  Mushumbi            3   \n",
       "                            791  Mushumbi            3   \n",
       "                            792  Mushumbi            3   \n",
       "                            793  Mushumbi            3   \n",
       "                            794     Binga      11 Lubu   \n",
       "\n",
       "                                                  species    surname  \\\n",
       "OGInfo__OGMB_1_df           0                     Rosella  Nyamayaro   \n",
       "                            1                     Rosella      Funda   \n",
       "                            2                     Rosella  Chingwena   \n",
       "                            3                     Rosella    Marumbe   \n",
       "                            4                     Rosella   Dambudzo   \n",
       "...                                                   ...        ...   \n",
       "OG_Info_reserve__OGOrg_1_df 790  Rosella, Chilli, Paprika    Myundia   \n",
       "                            791  Rosella, Chilli, Paprika      Nhete   \n",
       "                            792  Rosella, Chilli, Paprika    Musiiwa   \n",
       "                            793  Rosella, Chilli, Paprika    Masodzi   \n",
       "                            794                   Rosella     Mwembe   \n",
       "\n",
       "                                first_names     sex  ... date_contracted  \\\n",
       "OGInfo__OGMB_1_df           0       Phillip    male  ...             NaT   \n",
       "                            1        Jennie  female  ...      2022-04-02   \n",
       "                            2        Gladys  female  ...      2020-03-23   \n",
       "                            3        Tariro  female  ...      2020-03-23   \n",
       "                            4         Ketai  female  ...      2020-03-23   \n",
       "...                                     ...     ...  ...             ...   \n",
       "OG_Info_reserve__OGOrg_1_df 790    Thandiwe  female  ...      2018-08-18   \n",
       "                            791      Stella  female  ...      2018-08-18   \n",
       "                            792      Admire    male  ...      2019-07-31   \n",
       "                            793       Norah  female  ...      2019-07-31   \n",
       "                            794      Mutale  female  ...      2018-08-30   \n",
       "\n",
       "                                date_dropped_out reason_dropped_out  \\\n",
       "OGInfo__OGMB_1_df           0         2020-02-05         Own choice   \n",
       "                            1                NaT               None   \n",
       "                            2         2021-07-26        Area closed   \n",
       "                            3         2021-07-26        Area closed   \n",
       "                            4         2021-07-26        Area closed   \n",
       "...                                          ...                ...   \n",
       "OG_Info_reserve__OGOrg_1_df 790              NaT               None   \n",
       "                            791              NaT               None   \n",
       "                            792              NaT               None   \n",
       "                            793              NaT               None   \n",
       "                            794              NaT               None   \n",
       "\n",
       "                                                              address  \\\n",
       "OGInfo__OGMB_1_df           0             Mahuwe sch, Box 92, Mbire D   \n",
       "                            1        Kasuwo Primary School 346, Mbire   \n",
       "                            2         Sapa Primary School P O Box 203   \n",
       "                            3         Sapa Primary School P O Box 203   \n",
       "                            4         Sapa Primary School P O Box 203   \n",
       "...                                                               ...   \n",
       "OG_Info_reserve__OGOrg_1_df 790         ARDA Mushumbi, Box 210, Mbire   \n",
       "                            791         ARDA Mushumbi, Box 210, Mbire   \n",
       "                            792         ARDA Mushumbi, Box 210, Mbire   \n",
       "                            793         ARDA Mushumbi, Box 210, Mbire   \n",
       "                            794  Lubu primary School P Bag 5729 Binga   \n",
       "\n",
       "                                organic_status organic_status_from_date  \\\n",
       "OGInfo__OGMB_1_df           0          Dropout  2017-12-02 00:00:00.000   \n",
       "                            1        Mabagrown  2022-04-02 00:00:00.000   \n",
       "                            2          Dropout  2020-03-23 00:00:00.000   \n",
       "                            3          Dropout  2020-03-23 00:00:00.000   \n",
       "                            4          Dropout  2020-03-23 00:00:00.000   \n",
       "...                                        ...                      ...   \n",
       "OG_Info_reserve__OGOrg_1_df 790            New               2019-02-01   \n",
       "                            791            New               2019-02-01   \n",
       "                            792            New               2019-02-01   \n",
       "                            793            New               2019-02-01   \n",
       "                            794            Org               2018-08-31   \n",
       "\n",
       "                                fairtrade ward_nr  wc_nr  wc_code  \n",
       "OGInfo__OGMB_1_df           0       False    15.0    NaN      NaN  \n",
       "                            1       False     6.0    NaN      NaN  \n",
       "                            2       False    13.0    NaN      NaN  \n",
       "                            3       False    13.0    NaN      NaN  \n",
       "                            4       False    13.0    NaN      NaN  \n",
       "...                                   ...     ...    ...      ...  \n",
       "OG_Info_reserve__OGOrg_1_df 790     False     3.0    NaN      NaN  \n",
       "                            791     False     3.0    NaN      NaN  \n",
       "                            792     False     3.0    NaN      NaN  \n",
       "                            793     False     3.0    NaN      NaN  \n",
       "                            794     False    11.0    NaN      NaN  \n",
       "\n",
       "[21881 rows x 22 columns]"
      ]
     },
     "execution_count": 2062,
     "metadata": {},
     "output_type": "execute_result"
    }
   ],
   "source": [
    "concated_farmers"
   ]
  },
  {
   "cell_type": "code",
   "execution_count": 2063,
   "metadata": {},
   "outputs": [
    {
     "data": {
      "text/plain": [
       "wc_info_bayoba_1_df  0      21146.0\n",
       "                     1      21833.0\n",
       "                     2      21147.0\n",
       "                     3      22986.0\n",
       "                     4      21148.0\n",
       "                             ...   \n",
       "wc_info__WCOrg_1_df  560     1057.0\n",
       "                     561    21040.0\n",
       "                     562     2555.0\n",
       "                     563     2066.0\n",
       "                     564     1069.0\n",
       "Name: wc_nr, Length: 11517, dtype: float64"
      ]
     },
     "execution_count": 2063,
     "metadata": {},
     "output_type": "execute_result"
    }
   ],
   "source": [
    "# 11517 wc_nr\n",
    "concated_farmers[~concated_farmers['wc_nr'].isna()]['wc_nr']"
   ]
  },
  {
   "attachments": {},
   "cell_type": "markdown",
   "metadata": {},
   "source": [
    "# Clean and analyze concated_farmers"
   ]
  },
  {
   "attachments": {},
   "cell_type": "markdown",
   "metadata": {},
   "source": [
    "1. Drop duplicates (+ wc_nr and og_nr)\n",
    "2. Count number of records by category\n",
    "3. Clean column by column"
   ]
  },
  {
   "cell_type": "code",
   "execution_count": 2064,
   "metadata": {},
   "outputs": [
    {
     "data": {
      "text/plain": [
       "False    21868\n",
       "True        13\n",
       "dtype: int64"
      ]
     },
     "execution_count": 2064,
     "metadata": {},
     "output_type": "execute_result"
    }
   ],
   "source": [
    "# Looking for Duplicates\n",
    "concated_farmers.duplicated().value_counts()\n",
    "\n",
    "# 73 duplicates"
   ]
  },
  {
   "cell_type": "code",
   "execution_count": 2065,
   "metadata": {},
   "outputs": [
    {
     "data": {
      "text/html": [
       "<div>\n",
       "<style scoped>\n",
       "    .dataframe tbody tr th:only-of-type {\n",
       "        vertical-align: middle;\n",
       "    }\n",
       "\n",
       "    .dataframe tbody tr th {\n",
       "        vertical-align: top;\n",
       "    }\n",
       "\n",
       "    .dataframe thead th {\n",
       "        text-align: right;\n",
       "    }\n",
       "</style>\n",
       "<table border=\"1\" class=\"dataframe\">\n",
       "  <thead>\n",
       "    <tr style=\"text-align: right;\">\n",
       "      <th></th>\n",
       "      <th></th>\n",
       "      <th>id</th>\n",
       "      <th>og_nr</th>\n",
       "      <th>og_code</th>\n",
       "      <th>production_unit</th>\n",
       "      <th>area</th>\n",
       "      <th>ward_nr/name</th>\n",
       "      <th>species</th>\n",
       "      <th>surname</th>\n",
       "      <th>first_names</th>\n",
       "      <th>sex</th>\n",
       "      <th>...</th>\n",
       "      <th>date_contracted</th>\n",
       "      <th>date_dropped_out</th>\n",
       "      <th>reason_dropped_out</th>\n",
       "      <th>address</th>\n",
       "      <th>organic_status</th>\n",
       "      <th>organic_status_from_date</th>\n",
       "      <th>fairtrade</th>\n",
       "      <th>ward_nr</th>\n",
       "      <th>wc_nr</th>\n",
       "      <th>wc_code</th>\n",
       "    </tr>\n",
       "  </thead>\n",
       "  <tbody>\n",
       "    <tr>\n",
       "      <th rowspan=\"13\" valign=\"top\">OG_Info_reserve__OGOrg_1_df</th>\n",
       "      <th>43</th>\n",
       "      <td>47</td>\n",
       "      <td>2869.0</td>\n",
       "      <td>BNOG</td>\n",
       "      <td>Matabeleland North</td>\n",
       "      <td>Binga</td>\n",
       "      <td>5 Sinakoma</td>\n",
       "      <td>Rosella</td>\n",
       "      <td>Muchimba</td>\n",
       "      <td>Magret</td>\n",
       "      <td>female</td>\n",
       "      <td>...</td>\n",
       "      <td>2012-06-12</td>\n",
       "      <td>NaT</td>\n",
       "      <td>None</td>\n",
       "      <td>Nsenga Primary School Box 46 Binga</td>\n",
       "      <td>Org</td>\n",
       "      <td>2016-10-25</td>\n",
       "      <td>True</td>\n",
       "      <td>5.0</td>\n",
       "      <td>NaN</td>\n",
       "      <td>NaN</td>\n",
       "    </tr>\n",
       "    <tr>\n",
       "      <th>47</th>\n",
       "      <td>51</td>\n",
       "      <td>2875.0</td>\n",
       "      <td>BNOG</td>\n",
       "      <td>Matabeleland North</td>\n",
       "      <td>Binga</td>\n",
       "      <td>5 Sinakoma</td>\n",
       "      <td>Rosella</td>\n",
       "      <td>Muleya</td>\n",
       "      <td>Maria 06-020301E06</td>\n",
       "      <td>female</td>\n",
       "      <td>...</td>\n",
       "      <td>2012-06-12</td>\n",
       "      <td>NaT</td>\n",
       "      <td>None</td>\n",
       "      <td>Nsenga Primary School Box 46 Binga</td>\n",
       "      <td>Org</td>\n",
       "      <td>2016-10-25</td>\n",
       "      <td>True</td>\n",
       "      <td>5.0</td>\n",
       "      <td>NaN</td>\n",
       "      <td>NaN</td>\n",
       "    </tr>\n",
       "    <tr>\n",
       "      <th>189</th>\n",
       "      <td>133</td>\n",
       "      <td>3788.0</td>\n",
       "      <td>BNOG</td>\n",
       "      <td>Matabeleland North</td>\n",
       "      <td>Binga</td>\n",
       "      <td>15 Kariangwe</td>\n",
       "      <td>Rosella</td>\n",
       "      <td>Mumpande</td>\n",
       "      <td>Julia</td>\n",
       "      <td>female</td>\n",
       "      <td>...</td>\n",
       "      <td>2015-08-17</td>\n",
       "      <td>NaT</td>\n",
       "      <td>None</td>\n",
       "      <td>Manseme School Binga</td>\n",
       "      <td>Org</td>\n",
       "      <td>2016-10-25</td>\n",
       "      <td>True</td>\n",
       "      <td>15.0</td>\n",
       "      <td>NaN</td>\n",
       "      <td>NaN</td>\n",
       "    </tr>\n",
       "    <tr>\n",
       "      <th>192</th>\n",
       "      <td>136</td>\n",
       "      <td>3793.0</td>\n",
       "      <td>BNOG</td>\n",
       "      <td>Matabeleland North</td>\n",
       "      <td>Binga</td>\n",
       "      <td>15 Kariangwe</td>\n",
       "      <td>Rosella</td>\n",
       "      <td>Muleya</td>\n",
       "      <td>Agnes</td>\n",
       "      <td>female</td>\n",
       "      <td>...</td>\n",
       "      <td>2015-08-17</td>\n",
       "      <td>NaT</td>\n",
       "      <td>None</td>\n",
       "      <td>Manseme School Binga</td>\n",
       "      <td>Org</td>\n",
       "      <td>2015-08-17</td>\n",
       "      <td>True</td>\n",
       "      <td>15.0</td>\n",
       "      <td>NaN</td>\n",
       "      <td>NaN</td>\n",
       "    </tr>\n",
       "    <tr>\n",
       "      <th>455</th>\n",
       "      <td>1063</td>\n",
       "      <td>16138.0</td>\n",
       "      <td>MAOG</td>\n",
       "      <td>Manicaland</td>\n",
       "      <td>Makoni</td>\n",
       "      <td>21</td>\n",
       "      <td>Chillie</td>\n",
       "      <td>Magondwa</td>\n",
       "      <td>Patience</td>\n",
       "      <td>Female</td>\n",
       "      <td>...</td>\n",
       "      <td>2017-08-31</td>\n",
       "      <td>2017-10-19</td>\n",
       "      <td>High risk</td>\n",
       "      <td>Chirimutsitu Primary P Bag 8147, Rusape</td>\n",
       "      <td>Dropout</td>\n",
       "      <td>2017-10-19</td>\n",
       "      <td>False</td>\n",
       "      <td>21.0</td>\n",
       "      <td>NaN</td>\n",
       "      <td>NaN</td>\n",
       "    </tr>\n",
       "    <tr>\n",
       "      <th>487</th>\n",
       "      <td>1097</td>\n",
       "      <td>16172.0</td>\n",
       "      <td>MAOG</td>\n",
       "      <td>Manicaland</td>\n",
       "      <td>Makoni</td>\n",
       "      <td>18</td>\n",
       "      <td>Chillie</td>\n",
       "      <td>Maponde</td>\n",
       "      <td>Kelvin</td>\n",
       "      <td>male</td>\n",
       "      <td>...</td>\n",
       "      <td>2017-08-31</td>\n",
       "      <td>2018-10-18</td>\n",
       "      <td>Not inspected</td>\n",
       "      <td>Chirimutsitu Primary P Bag 8147, Rusape</td>\n",
       "      <td>Dropout</td>\n",
       "      <td>2017-08-31</td>\n",
       "      <td>False</td>\n",
       "      <td>18.0</td>\n",
       "      <td>NaN</td>\n",
       "      <td>NaN</td>\n",
       "    </tr>\n",
       "    <tr>\n",
       "      <th>545</th>\n",
       "      <td>1157</td>\n",
       "      <td>16232.0</td>\n",
       "      <td>MAOG</td>\n",
       "      <td>Manicaland</td>\n",
       "      <td>Makoni</td>\n",
       "      <td>21</td>\n",
       "      <td>Chillie</td>\n",
       "      <td>Nyamuva</td>\n",
       "      <td>Anna</td>\n",
       "      <td>Female</td>\n",
       "      <td>...</td>\n",
       "      <td>2017-08-31</td>\n",
       "      <td>2017-11-11</td>\n",
       "      <td>Not inspected</td>\n",
       "      <td>Chirimutsitu Primary P Bag 8147, Rusape</td>\n",
       "      <td>Dropout</td>\n",
       "      <td>2017-11-11</td>\n",
       "      <td>False</td>\n",
       "      <td>21.0</td>\n",
       "      <td>NaN</td>\n",
       "      <td>NaN</td>\n",
       "    </tr>\n",
       "    <tr>\n",
       "      <th>569</th>\n",
       "      <td>1181</td>\n",
       "      <td>16256.0</td>\n",
       "      <td>MAOG</td>\n",
       "      <td>Manicaland</td>\n",
       "      <td>Makoni</td>\n",
       "      <td>19</td>\n",
       "      <td>Chillie</td>\n",
       "      <td>Tekere</td>\n",
       "      <td>Marry</td>\n",
       "      <td>Female</td>\n",
       "      <td>...</td>\n",
       "      <td>2017-08-31</td>\n",
       "      <td>2017-11-11</td>\n",
       "      <td>Not inspected</td>\n",
       "      <td>Chirimutsitu Primary P Bag 8147, Rusape</td>\n",
       "      <td>Dropout</td>\n",
       "      <td>2017-11-11</td>\n",
       "      <td>False</td>\n",
       "      <td>19.0</td>\n",
       "      <td>NaN</td>\n",
       "      <td>NaN</td>\n",
       "    </tr>\n",
       "    <tr>\n",
       "      <th>348</th>\n",
       "      <td>1972</td>\n",
       "      <td>14109.0</td>\n",
       "      <td>BNOG</td>\n",
       "      <td>Matabeleland North</td>\n",
       "      <td>Binga</td>\n",
       "      <td>5 Sinakoma</td>\n",
       "      <td>Rosella</td>\n",
       "      <td>Siankali</td>\n",
       "      <td>Nolia</td>\n",
       "      <td>female</td>\n",
       "      <td>...</td>\n",
       "      <td>2018-08-31</td>\n",
       "      <td>2018-11-14</td>\n",
       "      <td>Insufficient documentation</td>\n",
       "      <td>Nsenga Primary School</td>\n",
       "      <td>Dropout</td>\n",
       "      <td>2018-08-31</td>\n",
       "      <td>False</td>\n",
       "      <td>5.0</td>\n",
       "      <td>NaN</td>\n",
       "      <td>NaN</td>\n",
       "    </tr>\n",
       "    <tr>\n",
       "      <th>360</th>\n",
       "      <td>1983</td>\n",
       "      <td>14120.0</td>\n",
       "      <td>BNOG</td>\n",
       "      <td>Matabeleland North</td>\n",
       "      <td>Binga</td>\n",
       "      <td>5 Sinakoma</td>\n",
       "      <td>Rosella</td>\n",
       "      <td>Mwembe</td>\n",
       "      <td>Jairos</td>\n",
       "      <td>female</td>\n",
       "      <td>...</td>\n",
       "      <td>2018-08-31</td>\n",
       "      <td>2018-11-14</td>\n",
       "      <td>Insufficient documentation</td>\n",
       "      <td>Nsenga Primary School</td>\n",
       "      <td>Dropout</td>\n",
       "      <td>2018-08-31</td>\n",
       "      <td>False</td>\n",
       "      <td>5.0</td>\n",
       "      <td>NaN</td>\n",
       "      <td>NaN</td>\n",
       "    </tr>\n",
       "    <tr>\n",
       "      <th>366</th>\n",
       "      <td>1988</td>\n",
       "      <td>14125.0</td>\n",
       "      <td>BNOG</td>\n",
       "      <td>Matabeleland North</td>\n",
       "      <td>Binga</td>\n",
       "      <td>5 Sinakoma</td>\n",
       "      <td>Rosella</td>\n",
       "      <td>Mudenda</td>\n",
       "      <td>Molina</td>\n",
       "      <td>female</td>\n",
       "      <td>...</td>\n",
       "      <td>2018-08-31</td>\n",
       "      <td>2018-11-16</td>\n",
       "      <td>Insufficient documentation</td>\n",
       "      <td>Nsenga Primary School</td>\n",
       "      <td>Dropout</td>\n",
       "      <td>2018-08-31</td>\n",
       "      <td>False</td>\n",
       "      <td>5.0</td>\n",
       "      <td>NaN</td>\n",
       "      <td>NaN</td>\n",
       "    </tr>\n",
       "    <tr>\n",
       "      <th>370</th>\n",
       "      <td>1992</td>\n",
       "      <td>14129.0</td>\n",
       "      <td>BNOG</td>\n",
       "      <td>Matabeleland North</td>\n",
       "      <td>Binga</td>\n",
       "      <td>5 Sinakoma</td>\n",
       "      <td>Rosella</td>\n",
       "      <td>Mugande</td>\n",
       "      <td>Harrison</td>\n",
       "      <td>male</td>\n",
       "      <td>...</td>\n",
       "      <td>2018-08-31</td>\n",
       "      <td>2018-11-14</td>\n",
       "      <td>Insufficient documentation</td>\n",
       "      <td>Nsenga Primary School</td>\n",
       "      <td>Dropout</td>\n",
       "      <td>2018-08-31</td>\n",
       "      <td>False</td>\n",
       "      <td>5.0</td>\n",
       "      <td>NaN</td>\n",
       "      <td>NaN</td>\n",
       "    </tr>\n",
       "    <tr>\n",
       "      <th>382</th>\n",
       "      <td>2048</td>\n",
       "      <td>14149.0</td>\n",
       "      <td>BNOG</td>\n",
       "      <td>Matabeleland North</td>\n",
       "      <td>Binga</td>\n",
       "      <td>5 Sinakoma</td>\n",
       "      <td>Rosella</td>\n",
       "      <td>Muleya</td>\n",
       "      <td>Julia</td>\n",
       "      <td>female</td>\n",
       "      <td>...</td>\n",
       "      <td>2018-08-31</td>\n",
       "      <td>2018-10-14</td>\n",
       "      <td>Insufficient documentation</td>\n",
       "      <td>Nsenga Primary School</td>\n",
       "      <td>Dropout</td>\n",
       "      <td>2018-08-31</td>\n",
       "      <td>False</td>\n",
       "      <td>5.0</td>\n",
       "      <td>NaN</td>\n",
       "      <td>NaN</td>\n",
       "    </tr>\n",
       "  </tbody>\n",
       "</table>\n",
       "<p>13 rows × 22 columns</p>\n",
       "</div>"
      ],
      "text/plain": [
       "                                   id    og_nr og_code     production_unit  \\\n",
       "OG_Info_reserve__OGOrg_1_df 43     47   2869.0    BNOG  Matabeleland North   \n",
       "                            47     51   2875.0    BNOG  Matabeleland North   \n",
       "                            189   133   3788.0    BNOG  Matabeleland North   \n",
       "                            192   136   3793.0    BNOG  Matabeleland North   \n",
       "                            455  1063  16138.0    MAOG          Manicaland   \n",
       "                            487  1097  16172.0    MAOG          Manicaland   \n",
       "                            545  1157  16232.0    MAOG          Manicaland   \n",
       "                            569  1181  16256.0    MAOG          Manicaland   \n",
       "                            348  1972  14109.0    BNOG  Matabeleland North   \n",
       "                            360  1983  14120.0    BNOG  Matabeleland North   \n",
       "                            366  1988  14125.0    BNOG  Matabeleland North   \n",
       "                            370  1992  14129.0    BNOG  Matabeleland North   \n",
       "                            382  2048  14149.0    BNOG  Matabeleland North   \n",
       "\n",
       "                                   area  ward_nr/name  species   surname  \\\n",
       "OG_Info_reserve__OGOrg_1_df 43    Binga    5 Sinakoma  Rosella  Muchimba   \n",
       "                            47    Binga    5 Sinakoma  Rosella    Muleya   \n",
       "                            189   Binga  15 Kariangwe  Rosella  Mumpande   \n",
       "                            192   Binga  15 Kariangwe  Rosella    Muleya   \n",
       "                            455  Makoni            21  Chillie  Magondwa   \n",
       "                            487  Makoni            18  Chillie   Maponde   \n",
       "                            545  Makoni            21  Chillie   Nyamuva   \n",
       "                            569  Makoni            19  Chillie    Tekere   \n",
       "                            348   Binga    5 Sinakoma  Rosella  Siankali   \n",
       "                            360   Binga    5 Sinakoma  Rosella    Mwembe   \n",
       "                            366   Binga    5 Sinakoma  Rosella   Mudenda   \n",
       "                            370   Binga    5 Sinakoma  Rosella   Mugande   \n",
       "                            382   Binga    5 Sinakoma  Rosella    Muleya   \n",
       "\n",
       "                                        first_names     sex  ...  \\\n",
       "OG_Info_reserve__OGOrg_1_df 43               Magret  female  ...   \n",
       "                            47   Maria 06-020301E06  female  ...   \n",
       "                            189               Julia  female  ...   \n",
       "                            192               Agnes  female  ...   \n",
       "                            455            Patience  Female  ...   \n",
       "                            487              Kelvin    male  ...   \n",
       "                            545                Anna  Female  ...   \n",
       "                            569               Marry  Female  ...   \n",
       "                            348               Nolia  female  ...   \n",
       "                            360              Jairos  female  ...   \n",
       "                            366              Molina  female  ...   \n",
       "                            370            Harrison    male  ...   \n",
       "                            382               Julia  female  ...   \n",
       "\n",
       "                                date_contracted date_dropped_out  \\\n",
       "OG_Info_reserve__OGOrg_1_df 43       2012-06-12              NaT   \n",
       "                            47       2012-06-12              NaT   \n",
       "                            189      2015-08-17              NaT   \n",
       "                            192      2015-08-17              NaT   \n",
       "                            455      2017-08-31       2017-10-19   \n",
       "                            487      2017-08-31       2018-10-18   \n",
       "                            545      2017-08-31       2017-11-11   \n",
       "                            569      2017-08-31       2017-11-11   \n",
       "                            348      2018-08-31       2018-11-14   \n",
       "                            360      2018-08-31       2018-11-14   \n",
       "                            366      2018-08-31       2018-11-16   \n",
       "                            370      2018-08-31       2018-11-14   \n",
       "                            382      2018-08-31       2018-10-14   \n",
       "\n",
       "                                         reason_dropped_out  \\\n",
       "OG_Info_reserve__OGOrg_1_df 43                         None   \n",
       "                            47                         None   \n",
       "                            189                        None   \n",
       "                            192                        None   \n",
       "                            455                   High risk   \n",
       "                            487               Not inspected   \n",
       "                            545               Not inspected   \n",
       "                            569               Not inspected   \n",
       "                            348  Insufficient documentation   \n",
       "                            360  Insufficient documentation   \n",
       "                            366  Insufficient documentation   \n",
       "                            370  Insufficient documentation   \n",
       "                            382  Insufficient documentation   \n",
       "\n",
       "                                                                 address  \\\n",
       "OG_Info_reserve__OGOrg_1_df 43        Nsenga Primary School Box 46 Binga   \n",
       "                            47        Nsenga Primary School Box 46 Binga   \n",
       "                            189                     Manseme School Binga   \n",
       "                            192                     Manseme School Binga   \n",
       "                            455  Chirimutsitu Primary P Bag 8147, Rusape   \n",
       "                            487  Chirimutsitu Primary P Bag 8147, Rusape   \n",
       "                            545  Chirimutsitu Primary P Bag 8147, Rusape   \n",
       "                            569  Chirimutsitu Primary P Bag 8147, Rusape   \n",
       "                            348                    Nsenga Primary School   \n",
       "                            360                    Nsenga Primary School   \n",
       "                            366                    Nsenga Primary School   \n",
       "                            370                    Nsenga Primary School   \n",
       "                            382                    Nsenga Primary School   \n",
       "\n",
       "                                organic_status organic_status_from_date  \\\n",
       "OG_Info_reserve__OGOrg_1_df 43             Org               2016-10-25   \n",
       "                            47             Org               2016-10-25   \n",
       "                            189            Org               2016-10-25   \n",
       "                            192            Org               2015-08-17   \n",
       "                            455        Dropout               2017-10-19   \n",
       "                            487        Dropout               2017-08-31   \n",
       "                            545        Dropout               2017-11-11   \n",
       "                            569        Dropout               2017-11-11   \n",
       "                            348        Dropout               2018-08-31   \n",
       "                            360        Dropout               2018-08-31   \n",
       "                            366        Dropout               2018-08-31   \n",
       "                            370        Dropout               2018-08-31   \n",
       "                            382        Dropout               2018-08-31   \n",
       "\n",
       "                                fairtrade ward_nr  wc_nr  wc_code  \n",
       "OG_Info_reserve__OGOrg_1_df 43       True     5.0    NaN      NaN  \n",
       "                            47       True     5.0    NaN      NaN  \n",
       "                            189      True    15.0    NaN      NaN  \n",
       "                            192      True    15.0    NaN      NaN  \n",
       "                            455     False    21.0    NaN      NaN  \n",
       "                            487     False    18.0    NaN      NaN  \n",
       "                            545     False    21.0    NaN      NaN  \n",
       "                            569     False    19.0    NaN      NaN  \n",
       "                            348     False     5.0    NaN      NaN  \n",
       "                            360     False     5.0    NaN      NaN  \n",
       "                            366     False     5.0    NaN      NaN  \n",
       "                            370     False     5.0    NaN      NaN  \n",
       "                            382     False     5.0    NaN      NaN  \n",
       "\n",
       "[13 rows x 22 columns]"
      ]
     },
     "execution_count": 2065,
     "metadata": {},
     "output_type": "execute_result"
    }
   ],
   "source": [
    "# All duplicates in OG_Info_reserve__OGOrg_1_df\n",
    "df_dup = concated_farmers[concated_farmers.duplicated()].sort_values('id')\n",
    "df_dup"
   ]
  },
  {
   "cell_type": "code",
   "execution_count": 2066,
   "metadata": {},
   "outputs": [],
   "source": [
    "ls_dup_og_nr= list(df_dup['og_nr'])"
   ]
  },
  {
   "cell_type": "code",
   "execution_count": 2067,
   "metadata": {},
   "outputs": [
    {
     "name": "stdout",
     "output_type": "stream",
     "text": [
      "                                id   og_nr og_code     production_unit   area  \\\n",
      "OG_Info__OGOrg_1_df         70  47  2869.0    BNOG  Matabeleland North  Binga   \n",
      "OG_Info_reserve__OGOrg_1_df 43  47  2869.0    BNOG  Matabeleland North  Binga   \n",
      "\n",
      "                               ward_nr/name  species   surname first_names  \\\n",
      "OG_Info__OGOrg_1_df         70   5 Sinakoma  Rosella  Muchimba      Magret   \n",
      "OG_Info_reserve__OGOrg_1_df 43   5 Sinakoma  Rosella  Muchimba      Magret   \n",
      "\n",
      "                                   sex  ... date_contracted date_dropped_out  \\\n",
      "OG_Info__OGOrg_1_df         70  female  ...      2012-06-12              NaT   \n",
      "OG_Info_reserve__OGOrg_1_df 43  female  ...      2012-06-12              NaT   \n",
      "\n",
      "                               reason_dropped_out  \\\n",
      "OG_Info__OGOrg_1_df         70               None   \n",
      "OG_Info_reserve__OGOrg_1_df 43               None   \n",
      "\n",
      "                                                           address  \\\n",
      "OG_Info__OGOrg_1_df         70  Nsenga Primary School Box 46 Binga   \n",
      "OG_Info_reserve__OGOrg_1_df 43  Nsenga Primary School Box 46 Binga   \n",
      "\n",
      "                               organic_status organic_status_from_date  \\\n",
      "OG_Info__OGOrg_1_df         70            Org               2016-10-25   \n",
      "OG_Info_reserve__OGOrg_1_df 43            Org               2016-10-25   \n",
      "\n",
      "                               fairtrade ward_nr  wc_nr  wc_code  \n",
      "OG_Info__OGOrg_1_df         70      True     5.0    NaN      NaN  \n",
      "OG_Info_reserve__OGOrg_1_df 43      True     5.0    NaN      NaN  \n",
      "\n",
      "[2 rows x 22 columns]\n",
      "                                id   og_nr og_code     production_unit   area  \\\n",
      "OG_Info__OGOrg_1_df         74  51  2875.0    BNOG  Matabeleland North  Binga   \n",
      "OG_Info_reserve__OGOrg_1_df 47  51  2875.0    BNOG  Matabeleland North  Binga   \n",
      "\n",
      "                               ward_nr/name  species surname  \\\n",
      "OG_Info__OGOrg_1_df         74   5 Sinakoma  Rosella  Muleya   \n",
      "OG_Info_reserve__OGOrg_1_df 47   5 Sinakoma  Rosella  Muleya   \n",
      "\n",
      "                                       first_names     sex  ...  \\\n",
      "OG_Info__OGOrg_1_df         74  Maria 06-020301E06  female  ...   \n",
      "OG_Info_reserve__OGOrg_1_df 47  Maria 06-020301E06  female  ...   \n",
      "\n",
      "                               date_contracted date_dropped_out  \\\n",
      "OG_Info__OGOrg_1_df         74      2012-06-12              NaT   \n",
      "OG_Info_reserve__OGOrg_1_df 47      2012-06-12              NaT   \n",
      "\n",
      "                               reason_dropped_out  \\\n",
      "OG_Info__OGOrg_1_df         74               None   \n",
      "OG_Info_reserve__OGOrg_1_df 47               None   \n",
      "\n",
      "                                                           address  \\\n",
      "OG_Info__OGOrg_1_df         74  Nsenga Primary School Box 46 Binga   \n",
      "OG_Info_reserve__OGOrg_1_df 47  Nsenga Primary School Box 46 Binga   \n",
      "\n",
      "                               organic_status organic_status_from_date  \\\n",
      "OG_Info__OGOrg_1_df         74            Org               2016-10-25   \n",
      "OG_Info_reserve__OGOrg_1_df 47            Org               2016-10-25   \n",
      "\n",
      "                               fairtrade ward_nr  wc_nr  wc_code  \n",
      "OG_Info__OGOrg_1_df         74      True     5.0    NaN      NaN  \n",
      "OG_Info_reserve__OGOrg_1_df 47      True     5.0    NaN      NaN  \n",
      "\n",
      "[2 rows x 22 columns]\n",
      "                                  id   og_nr og_code     production_unit  \\\n",
      "OG_Info__OGOrg_1_df         196  133  3788.0    BNOG  Matabeleland North   \n",
      "OG_Info_reserve__OGOrg_1_df 189  133  3788.0    BNOG  Matabeleland North   \n",
      "\n",
      "                                  area  ward_nr/name  species   surname  \\\n",
      "OG_Info__OGOrg_1_df         196  Binga  15 Kariangwe  Rosella  Mumpande   \n",
      "OG_Info_reserve__OGOrg_1_df 189  Binga  15 Kariangwe  Rosella  Mumpande   \n",
      "\n",
      "                                first_names     sex  ... date_contracted  \\\n",
      "OG_Info__OGOrg_1_df         196       Julia  female  ...      2015-08-17   \n",
      "OG_Info_reserve__OGOrg_1_df 189       Julia  female  ...      2015-08-17   \n",
      "\n",
      "                                date_dropped_out reason_dropped_out  \\\n",
      "OG_Info__OGOrg_1_df         196              NaT               None   \n",
      "OG_Info_reserve__OGOrg_1_df 189              NaT               None   \n",
      "\n",
      "                                              address organic_status  \\\n",
      "OG_Info__OGOrg_1_df         196  Manseme School Binga            Org   \n",
      "OG_Info_reserve__OGOrg_1_df 189  Manseme School Binga            Org   \n",
      "\n",
      "                                organic_status_from_date fairtrade ward_nr  \\\n",
      "OG_Info__OGOrg_1_df         196               2016-10-25      True    15.0   \n",
      "OG_Info_reserve__OGOrg_1_df 189               2016-10-25      True    15.0   \n",
      "\n",
      "                                 wc_nr  wc_code  \n",
      "OG_Info__OGOrg_1_df         196    NaN      NaN  \n",
      "OG_Info_reserve__OGOrg_1_df 189    NaN      NaN  \n",
      "\n",
      "[2 rows x 22 columns]\n",
      "                                  id   og_nr og_code     production_unit  \\\n",
      "OG_Info__OGOrg_1_df         200  136  3793.0    BNOG  Matabeleland North   \n",
      "OG_Info_reserve__OGOrg_1_df 192  136  3793.0    BNOG  Matabeleland North   \n",
      "\n",
      "                                  area  ward_nr/name  species surname  \\\n",
      "OG_Info__OGOrg_1_df         200  Binga  15 Kariangwe  Rosella  Muleya   \n",
      "OG_Info_reserve__OGOrg_1_df 192  Binga  15 Kariangwe  Rosella  Muleya   \n",
      "\n",
      "                                first_names     sex  ... date_contracted  \\\n",
      "OG_Info__OGOrg_1_df         200       Agnes  female  ...      2015-08-17   \n",
      "OG_Info_reserve__OGOrg_1_df 192       Agnes  female  ...      2015-08-17   \n",
      "\n",
      "                                date_dropped_out reason_dropped_out  \\\n",
      "OG_Info__OGOrg_1_df         200              NaT               None   \n",
      "OG_Info_reserve__OGOrg_1_df 192              NaT               None   \n",
      "\n",
      "                                              address organic_status  \\\n",
      "OG_Info__OGOrg_1_df         200  Manseme School Binga            Org   \n",
      "OG_Info_reserve__OGOrg_1_df 192  Manseme School Binga            Org   \n",
      "\n",
      "                                organic_status_from_date fairtrade ward_nr  \\\n",
      "OG_Info__OGOrg_1_df         200               2015-08-17      True    15.0   \n",
      "OG_Info_reserve__OGOrg_1_df 192               2015-08-17      True    15.0   \n",
      "\n",
      "                                 wc_nr  wc_code  \n",
      "OG_Info__OGOrg_1_df         200    NaN      NaN  \n",
      "OG_Info_reserve__OGOrg_1_df 192    NaN      NaN  \n",
      "\n",
      "[2 rows x 22 columns]\n",
      "                                   id    og_nr og_code production_unit  \\\n",
      "OG_Info__OGOrg_1_df         526  1063  16138.0    MAOG      Manicaland   \n",
      "OG_Info_reserve__OGOrg_1_df 455  1063  16138.0    MAOG      Manicaland   \n",
      "\n",
      "                                   area ward_nr/name  species   surname  \\\n",
      "OG_Info__OGOrg_1_df         526  Makoni           21  Chillie  Magondwa   \n",
      "OG_Info_reserve__OGOrg_1_df 455  Makoni           21  Chillie  Magondwa   \n",
      "\n",
      "                                first_names     sex  ... date_contracted  \\\n",
      "OG_Info__OGOrg_1_df         526    Patience  Female  ...      2017-08-31   \n",
      "OG_Info_reserve__OGOrg_1_df 455    Patience  Female  ...      2017-08-31   \n",
      "\n",
      "                                date_dropped_out reason_dropped_out  \\\n",
      "OG_Info__OGOrg_1_df         526       2017-10-19          High risk   \n",
      "OG_Info_reserve__OGOrg_1_df 455       2017-10-19          High risk   \n",
      "\n",
      "                                                                 address  \\\n",
      "OG_Info__OGOrg_1_df         526  Chirimutsitu Primary P Bag 8147, Rusape   \n",
      "OG_Info_reserve__OGOrg_1_df 455  Chirimutsitu Primary P Bag 8147, Rusape   \n",
      "\n",
      "                                organic_status organic_status_from_date  \\\n",
      "OG_Info__OGOrg_1_df         526        Dropout               2017-10-19   \n",
      "OG_Info_reserve__OGOrg_1_df 455        Dropout               2017-10-19   \n",
      "\n",
      "                                fairtrade ward_nr  wc_nr  wc_code  \n",
      "OG_Info__OGOrg_1_df         526     False    21.0    NaN      NaN  \n",
      "OG_Info_reserve__OGOrg_1_df 455     False    21.0    NaN      NaN  \n",
      "\n",
      "[2 rows x 22 columns]\n",
      "                                   id    og_nr og_code production_unit  \\\n",
      "OG_Info__OGOrg_1_df         559  1097  16172.0    MAOG      Manicaland   \n",
      "OG_Info_reserve__OGOrg_1_df 487  1097  16172.0    MAOG      Manicaland   \n",
      "\n",
      "                                   area ward_nr/name  species  surname  \\\n",
      "OG_Info__OGOrg_1_df         559  Makoni           18  Chillie  Maponde   \n",
      "OG_Info_reserve__OGOrg_1_df 487  Makoni           18  Chillie  Maponde   \n",
      "\n",
      "                                first_names   sex  ... date_contracted  \\\n",
      "OG_Info__OGOrg_1_df         559      Kelvin  male  ...      2017-08-31   \n",
      "OG_Info_reserve__OGOrg_1_df 487      Kelvin  male  ...      2017-08-31   \n",
      "\n",
      "                                date_dropped_out reason_dropped_out  \\\n",
      "OG_Info__OGOrg_1_df         559       2018-10-18      Not inspected   \n",
      "OG_Info_reserve__OGOrg_1_df 487       2018-10-18      Not inspected   \n",
      "\n",
      "                                                                 address  \\\n",
      "OG_Info__OGOrg_1_df         559  Chirimutsitu Primary P Bag 8147, Rusape   \n",
      "OG_Info_reserve__OGOrg_1_df 487  Chirimutsitu Primary P Bag 8147, Rusape   \n",
      "\n",
      "                                organic_status organic_status_from_date  \\\n",
      "OG_Info__OGOrg_1_df         559        Dropout               2017-08-31   \n",
      "OG_Info_reserve__OGOrg_1_df 487        Dropout               2017-08-31   \n",
      "\n",
      "                                fairtrade ward_nr  wc_nr  wc_code  \n",
      "OG_Info__OGOrg_1_df         559     False    18.0    NaN      NaN  \n",
      "OG_Info_reserve__OGOrg_1_df 487     False    18.0    NaN      NaN  \n",
      "\n",
      "[2 rows x 22 columns]\n",
      "                                   id    og_nr og_code production_unit  \\\n",
      "OG_Info__OGOrg_1_df         617  1157  16232.0    MAOG      Manicaland   \n",
      "OG_Info_reserve__OGOrg_1_df 545  1157  16232.0    MAOG      Manicaland   \n",
      "\n",
      "                                   area ward_nr/name  species  surname  \\\n",
      "OG_Info__OGOrg_1_df         617  Makoni           21  Chillie  Nyamuva   \n",
      "OG_Info_reserve__OGOrg_1_df 545  Makoni           21  Chillie  Nyamuva   \n",
      "\n",
      "                                first_names     sex  ... date_contracted  \\\n",
      "OG_Info__OGOrg_1_df         617        Anna  Female  ...      2017-08-31   \n",
      "OG_Info_reserve__OGOrg_1_df 545        Anna  Female  ...      2017-08-31   \n",
      "\n",
      "                                date_dropped_out reason_dropped_out  \\\n",
      "OG_Info__OGOrg_1_df         617       2017-11-11      Not inspected   \n",
      "OG_Info_reserve__OGOrg_1_df 545       2017-11-11      Not inspected   \n",
      "\n",
      "                                                                 address  \\\n",
      "OG_Info__OGOrg_1_df         617  Chirimutsitu Primary P Bag 8147, Rusape   \n",
      "OG_Info_reserve__OGOrg_1_df 545  Chirimutsitu Primary P Bag 8147, Rusape   \n",
      "\n",
      "                                organic_status organic_status_from_date  \\\n",
      "OG_Info__OGOrg_1_df         617        Dropout               2017-11-11   \n",
      "OG_Info_reserve__OGOrg_1_df 545        Dropout               2017-11-11   \n",
      "\n",
      "                                fairtrade ward_nr  wc_nr  wc_code  \n",
      "OG_Info__OGOrg_1_df         617     False    21.0    NaN      NaN  \n",
      "OG_Info_reserve__OGOrg_1_df 545     False    21.0    NaN      NaN  \n",
      "\n",
      "[2 rows x 22 columns]\n",
      "                                   id    og_nr og_code production_unit  \\\n",
      "OG_Info__OGOrg_1_df         642  1181  16256.0    MAOG      Manicaland   \n",
      "OG_Info_reserve__OGOrg_1_df 569  1181  16256.0    MAOG      Manicaland   \n",
      "\n",
      "                                   area ward_nr/name  species surname  \\\n",
      "OG_Info__OGOrg_1_df         642  Makoni           19  Chillie  Tekere   \n",
      "OG_Info_reserve__OGOrg_1_df 569  Makoni           19  Chillie  Tekere   \n",
      "\n",
      "                                first_names     sex  ... date_contracted  \\\n",
      "OG_Info__OGOrg_1_df         642       Marry  Female  ...      2017-08-31   \n",
      "OG_Info_reserve__OGOrg_1_df 569       Marry  Female  ...      2017-08-31   \n",
      "\n",
      "                                date_dropped_out reason_dropped_out  \\\n",
      "OG_Info__OGOrg_1_df         642       2017-11-11      Not inspected   \n",
      "OG_Info_reserve__OGOrg_1_df 569       2017-11-11      Not inspected   \n",
      "\n",
      "                                                                 address  \\\n",
      "OG_Info__OGOrg_1_df         642  Chirimutsitu Primary P Bag 8147, Rusape   \n",
      "OG_Info_reserve__OGOrg_1_df 569  Chirimutsitu Primary P Bag 8147, Rusape   \n",
      "\n",
      "                                organic_status organic_status_from_date  \\\n",
      "OG_Info__OGOrg_1_df         642        Dropout               2017-11-11   \n",
      "OG_Info_reserve__OGOrg_1_df 569        Dropout               2017-11-11   \n",
      "\n",
      "                                fairtrade ward_nr  wc_nr  wc_code  \n",
      "OG_Info__OGOrg_1_df         642     False    19.0    NaN      NaN  \n",
      "OG_Info_reserve__OGOrg_1_df 569     False    19.0    NaN      NaN  \n",
      "\n",
      "[2 rows x 22 columns]\n",
      "                                   id    og_nr og_code     production_unit  \\\n",
      "OG_Info__OGOrg_1_df         415  1972  14109.0    BNOG  Matabeleland North   \n",
      "OG_Info_reserve__OGOrg_1_df 348  1972  14109.0    BNOG  Matabeleland North   \n",
      "\n",
      "                                  area ward_nr/name  species   surname  \\\n",
      "OG_Info__OGOrg_1_df         415  Binga   5 Sinakoma  Rosella  Siankali   \n",
      "OG_Info_reserve__OGOrg_1_df 348  Binga   5 Sinakoma  Rosella  Siankali   \n",
      "\n",
      "                                first_names     sex  ... date_contracted  \\\n",
      "OG_Info__OGOrg_1_df         415       Nolia  female  ...      2018-08-31   \n",
      "OG_Info_reserve__OGOrg_1_df 348       Nolia  female  ...      2018-08-31   \n",
      "\n",
      "                                date_dropped_out          reason_dropped_out  \\\n",
      "OG_Info__OGOrg_1_df         415       2018-11-14  Insufficient documentation   \n",
      "OG_Info_reserve__OGOrg_1_df 348       2018-11-14  Insufficient documentation   \n",
      "\n",
      "                                               address organic_status  \\\n",
      "OG_Info__OGOrg_1_df         415  Nsenga Primary School        Dropout   \n",
      "OG_Info_reserve__OGOrg_1_df 348  Nsenga Primary School        Dropout   \n",
      "\n",
      "                                organic_status_from_date fairtrade ward_nr  \\\n",
      "OG_Info__OGOrg_1_df         415               2018-08-31     False     5.0   \n",
      "OG_Info_reserve__OGOrg_1_df 348               2018-08-31     False     5.0   \n",
      "\n",
      "                                 wc_nr  wc_code  \n",
      "OG_Info__OGOrg_1_df         415    NaN      NaN  \n",
      "OG_Info_reserve__OGOrg_1_df 348    NaN      NaN  \n",
      "\n",
      "[2 rows x 22 columns]\n",
      "                                   id    og_nr og_code     production_unit  \\\n",
      "OG_Info__OGOrg_1_df         426  1983  14120.0    BNOG  Matabeleland North   \n",
      "OG_Info_reserve__OGOrg_1_df 360  1983  14120.0    BNOG  Matabeleland North   \n",
      "\n",
      "                                  area ward_nr/name  species surname  \\\n",
      "OG_Info__OGOrg_1_df         426  Binga   5 Sinakoma  Rosella  Mwembe   \n",
      "OG_Info_reserve__OGOrg_1_df 360  Binga   5 Sinakoma  Rosella  Mwembe   \n",
      "\n",
      "                                first_names     sex  ... date_contracted  \\\n",
      "OG_Info__OGOrg_1_df         426      Jairos  female  ...      2018-08-31   \n",
      "OG_Info_reserve__OGOrg_1_df 360      Jairos  female  ...      2018-08-31   \n",
      "\n",
      "                                date_dropped_out          reason_dropped_out  \\\n",
      "OG_Info__OGOrg_1_df         426       2018-11-14  Insufficient documentation   \n",
      "OG_Info_reserve__OGOrg_1_df 360       2018-11-14  Insufficient documentation   \n",
      "\n",
      "                                               address organic_status  \\\n",
      "OG_Info__OGOrg_1_df         426  Nsenga Primary School        Dropout   \n",
      "OG_Info_reserve__OGOrg_1_df 360  Nsenga Primary School        Dropout   \n",
      "\n",
      "                                organic_status_from_date fairtrade ward_nr  \\\n",
      "OG_Info__OGOrg_1_df         426               2018-08-31     False     5.0   \n",
      "OG_Info_reserve__OGOrg_1_df 360               2018-08-31     False     5.0   \n",
      "\n",
      "                                 wc_nr  wc_code  \n",
      "OG_Info__OGOrg_1_df         426    NaN      NaN  \n",
      "OG_Info_reserve__OGOrg_1_df 360    NaN      NaN  \n",
      "\n",
      "[2 rows x 22 columns]\n",
      "                                   id    og_nr og_code     production_unit  \\\n",
      "OG_Info__OGOrg_1_df         432  1988  14125.0    BNOG  Matabeleland North   \n",
      "OG_Info_reserve__OGOrg_1_df 366  1988  14125.0    BNOG  Matabeleland North   \n",
      "\n",
      "                                  area ward_nr/name  species  surname  \\\n",
      "OG_Info__OGOrg_1_df         432  Binga   5 Sinakoma  Rosella  Mudenda   \n",
      "OG_Info_reserve__OGOrg_1_df 366  Binga   5 Sinakoma  Rosella  Mudenda   \n",
      "\n",
      "                                first_names     sex  ... date_contracted  \\\n",
      "OG_Info__OGOrg_1_df         432      Molina  female  ...      2018-08-31   \n",
      "OG_Info_reserve__OGOrg_1_df 366      Molina  female  ...      2018-08-31   \n",
      "\n",
      "                                date_dropped_out          reason_dropped_out  \\\n",
      "OG_Info__OGOrg_1_df         432       2018-11-16  Insufficient documentation   \n",
      "OG_Info_reserve__OGOrg_1_df 366       2018-11-16  Insufficient documentation   \n",
      "\n",
      "                                               address organic_status  \\\n",
      "OG_Info__OGOrg_1_df         432  Nsenga Primary School        Dropout   \n",
      "OG_Info_reserve__OGOrg_1_df 366  Nsenga Primary School        Dropout   \n",
      "\n",
      "                                organic_status_from_date fairtrade ward_nr  \\\n",
      "OG_Info__OGOrg_1_df         432               2018-08-31     False     5.0   \n",
      "OG_Info_reserve__OGOrg_1_df 366               2018-08-31     False     5.0   \n",
      "\n",
      "                                 wc_nr  wc_code  \n",
      "OG_Info__OGOrg_1_df         432    NaN      NaN  \n",
      "OG_Info_reserve__OGOrg_1_df 366    NaN      NaN  \n",
      "\n",
      "[2 rows x 22 columns]\n",
      "                                   id    og_nr og_code     production_unit  \\\n",
      "OG_Info__OGOrg_1_df         436  1992  14129.0    BNOG  Matabeleland North   \n",
      "OG_Info_reserve__OGOrg_1_df 370  1992  14129.0    BNOG  Matabeleland North   \n",
      "\n",
      "                                  area ward_nr/name  species  surname  \\\n",
      "OG_Info__OGOrg_1_df         436  Binga   5 Sinakoma  Rosella  Mugande   \n",
      "OG_Info_reserve__OGOrg_1_df 370  Binga   5 Sinakoma  Rosella  Mugande   \n",
      "\n",
      "                                first_names   sex  ... date_contracted  \\\n",
      "OG_Info__OGOrg_1_df         436    Harrison  male  ...      2018-08-31   \n",
      "OG_Info_reserve__OGOrg_1_df 370    Harrison  male  ...      2018-08-31   \n",
      "\n",
      "                                date_dropped_out          reason_dropped_out  \\\n",
      "OG_Info__OGOrg_1_df         436       2018-11-14  Insufficient documentation   \n",
      "OG_Info_reserve__OGOrg_1_df 370       2018-11-14  Insufficient documentation   \n",
      "\n",
      "                                               address organic_status  \\\n",
      "OG_Info__OGOrg_1_df         436  Nsenga Primary School        Dropout   \n",
      "OG_Info_reserve__OGOrg_1_df 370  Nsenga Primary School        Dropout   \n",
      "\n",
      "                                organic_status_from_date fairtrade ward_nr  \\\n",
      "OG_Info__OGOrg_1_df         436               2018-08-31     False     5.0   \n",
      "OG_Info_reserve__OGOrg_1_df 370               2018-08-31     False     5.0   \n",
      "\n",
      "                                 wc_nr  wc_code  \n",
      "OG_Info__OGOrg_1_df         436    NaN      NaN  \n",
      "OG_Info_reserve__OGOrg_1_df 370    NaN      NaN  \n",
      "\n",
      "[2 rows x 22 columns]\n",
      "                                   id    og_nr og_code     production_unit  \\\n",
      "OG_Info__OGOrg_1_df         448  2048  14149.0    BNOG  Matabeleland North   \n",
      "OG_Info_reserve__OGOrg_1_df 382  2048  14149.0    BNOG  Matabeleland North   \n",
      "\n",
      "                                  area ward_nr/name  species surname  \\\n",
      "OG_Info__OGOrg_1_df         448  Binga   5 Sinakoma  Rosella  Muleya   \n",
      "OG_Info_reserve__OGOrg_1_df 382  Binga   5 Sinakoma  Rosella  Muleya   \n",
      "\n",
      "                                first_names     sex  ... date_contracted  \\\n",
      "OG_Info__OGOrg_1_df         448       Julia  female  ...      2018-08-31   \n",
      "OG_Info_reserve__OGOrg_1_df 382       Julia  female  ...      2018-08-31   \n",
      "\n",
      "                                date_dropped_out          reason_dropped_out  \\\n",
      "OG_Info__OGOrg_1_df         448       2018-10-14  Insufficient documentation   \n",
      "OG_Info_reserve__OGOrg_1_df 382       2018-10-14  Insufficient documentation   \n",
      "\n",
      "                                               address organic_status  \\\n",
      "OG_Info__OGOrg_1_df         448  Nsenga Primary School        Dropout   \n",
      "OG_Info_reserve__OGOrg_1_df 382  Nsenga Primary School        Dropout   \n",
      "\n",
      "                                organic_status_from_date fairtrade ward_nr  \\\n",
      "OG_Info__OGOrg_1_df         448               2018-08-31     False     5.0   \n",
      "OG_Info_reserve__OGOrg_1_df 382               2018-08-31     False     5.0   \n",
      "\n",
      "                                 wc_nr  wc_code  \n",
      "OG_Info__OGOrg_1_df         448    NaN      NaN  \n",
      "OG_Info_reserve__OGOrg_1_df 382    NaN      NaN  \n",
      "\n",
      "[2 rows x 22 columns]\n"
     ]
    }
   ],
   "source": [
    "for ognr in ls_dup_og_nr:\n",
    "    print(concated_farmers[concated_farmers['og_nr'] == ognr])\n",
    "\n",
    "# duplicates trough OG_Info__OGOrg_1_df und OG_Info_reserve__OGOrg_1_df -> DROP duplicates in allfarmers"
   ]
  },
  {
   "cell_type": "code",
   "execution_count": 2068,
   "metadata": {},
   "outputs": [],
   "source": [
    "# Droping duplicates\n",
    "concated_farmers.drop_duplicates(subset=None, keep='first', inplace=True)"
   ]
  },
  {
   "cell_type": "code",
   "execution_count": 2069,
   "metadata": {},
   "outputs": [
    {
     "data": {
      "text/plain": [
       "False    21868\n",
       "dtype: int64"
      ]
     },
     "execution_count": 2069,
     "metadata": {},
     "output_type": "execute_result"
    }
   ],
   "source": [
    "concated_farmers.duplicated().value_counts()"
   ]
  },
  {
   "attachments": {},
   "cell_type": "markdown",
   "metadata": {},
   "source": [
    "### Dropping duplicates of wc_nr"
   ]
  },
  {
   "cell_type": "code",
   "execution_count": 2070,
   "metadata": {},
   "outputs": [
    {
     "data": {
      "text/html": [
       "<div>\n",
       "<style scoped>\n",
       "    .dataframe tbody tr th:only-of-type {\n",
       "        vertical-align: middle;\n",
       "    }\n",
       "\n",
       "    .dataframe tbody tr th {\n",
       "        vertical-align: top;\n",
       "    }\n",
       "\n",
       "    .dataframe thead th {\n",
       "        text-align: right;\n",
       "    }\n",
       "</style>\n",
       "<table border=\"1\" class=\"dataframe\">\n",
       "  <thead>\n",
       "    <tr style=\"text-align: right;\">\n",
       "      <th></th>\n",
       "      <th></th>\n",
       "      <th>wc_nr</th>\n",
       "    </tr>\n",
       "  </thead>\n",
       "  <tbody>\n",
       "    <tr>\n",
       "      <th rowspan=\"5\" valign=\"top\">wc_info_bayoba_1_df</th>\n",
       "      <th>0</th>\n",
       "      <td>21146.0</td>\n",
       "    </tr>\n",
       "    <tr>\n",
       "      <th>1</th>\n",
       "      <td>21833.0</td>\n",
       "    </tr>\n",
       "    <tr>\n",
       "      <th>2</th>\n",
       "      <td>21147.0</td>\n",
       "    </tr>\n",
       "    <tr>\n",
       "      <th>3</th>\n",
       "      <td>22986.0</td>\n",
       "    </tr>\n",
       "    <tr>\n",
       "      <th>4</th>\n",
       "      <td>21148.0</td>\n",
       "    </tr>\n",
       "    <tr>\n",
       "      <th>...</th>\n",
       "      <th>...</th>\n",
       "      <td>...</td>\n",
       "    </tr>\n",
       "    <tr>\n",
       "      <th rowspan=\"5\" valign=\"top\">wc_info__WCOrg_1_df</th>\n",
       "      <th>560</th>\n",
       "      <td>1057.0</td>\n",
       "    </tr>\n",
       "    <tr>\n",
       "      <th>561</th>\n",
       "      <td>21040.0</td>\n",
       "    </tr>\n",
       "    <tr>\n",
       "      <th>562</th>\n",
       "      <td>2555.0</td>\n",
       "    </tr>\n",
       "    <tr>\n",
       "      <th>563</th>\n",
       "      <td>2066.0</td>\n",
       "    </tr>\n",
       "    <tr>\n",
       "      <th>564</th>\n",
       "      <td>1069.0</td>\n",
       "    </tr>\n",
       "  </tbody>\n",
       "</table>\n",
       "<p>11517 rows × 1 columns</p>\n",
       "</div>"
      ],
      "text/plain": [
       "                           wc_nr\n",
       "wc_info_bayoba_1_df 0    21146.0\n",
       "                    1    21833.0\n",
       "                    2    21147.0\n",
       "                    3    22986.0\n",
       "                    4    21148.0\n",
       "...                          ...\n",
       "wc_info__WCOrg_1_df 560   1057.0\n",
       "                    561  21040.0\n",
       "                    562   2555.0\n",
       "                    563   2066.0\n",
       "                    564   1069.0\n",
       "\n",
       "[11517 rows x 1 columns]"
      ]
     },
     "execution_count": 2070,
     "metadata": {},
     "output_type": "execute_result"
    }
   ],
   "source": [
    "# 11517 wc_nr\n",
    "wc_nr_df = concated_farmers[~concated_farmers['wc_nr'].isna()][['wc_nr']]\n",
    "wc_nr_df"
   ]
  },
  {
   "attachments": {},
   "cell_type": "markdown",
   "metadata": {},
   "source": [
    "#### wc_nr is unique!"
   ]
  },
  {
   "cell_type": "code",
   "execution_count": 2071,
   "metadata": {},
   "outputs": [
    {
     "data": {
      "text/plain": [
       "True"
      ]
     },
     "execution_count": 2071,
     "metadata": {},
     "output_type": "execute_result"
    }
   ],
   "source": [
    "wc_nr_df.squeeze().is_unique"
   ]
  },
  {
   "cell_type": "code",
   "execution_count": 2072,
   "metadata": {},
   "outputs": [
    {
     "data": {
      "text/plain": [
       "(21868, 22)"
      ]
     },
     "execution_count": 2072,
     "metadata": {},
     "output_type": "execute_result"
    }
   ],
   "source": [
    "# 21868 rows have og_nr or wc_nr!\n",
    "concated_farmers[~concated_farmers['og_nr'].isna() | ~concated_farmers['wc_nr'].isna()].shape"
   ]
  },
  {
   "cell_type": "code",
   "execution_count": 2073,
   "metadata": {},
   "outputs": [],
   "source": [
    "wc_df = concated_farmers[~concated_farmers['wc_nr'].isna()]"
   ]
  },
  {
   "cell_type": "code",
   "execution_count": 2074,
   "metadata": {},
   "outputs": [
    {
     "data": {
      "text/plain": [
       "(11517, 22)"
      ]
     },
     "execution_count": 2074,
     "metadata": {},
     "output_type": "execute_result"
    }
   ],
   "source": [
    "wc_df.shape"
   ]
  },
  {
   "attachments": {},
   "cell_type": "markdown",
   "metadata": {},
   "source": [
    "### Dropping duplicates of og_nr"
   ]
  },
  {
   "cell_type": "code",
   "execution_count": 2075,
   "metadata": {},
   "outputs": [
    {
     "data": {
      "text/html": [
       "<div>\n",
       "<style scoped>\n",
       "    .dataframe tbody tr th:only-of-type {\n",
       "        vertical-align: middle;\n",
       "    }\n",
       "\n",
       "    .dataframe tbody tr th {\n",
       "        vertical-align: top;\n",
       "    }\n",
       "\n",
       "    .dataframe thead th {\n",
       "        text-align: right;\n",
       "    }\n",
       "</style>\n",
       "<table border=\"1\" class=\"dataframe\">\n",
       "  <thead>\n",
       "    <tr style=\"text-align: right;\">\n",
       "      <th></th>\n",
       "      <th></th>\n",
       "      <th>og_nr</th>\n",
       "      <th>date_contracted</th>\n",
       "    </tr>\n",
       "  </thead>\n",
       "  <tbody>\n",
       "    <tr>\n",
       "      <th rowspan=\"5\" valign=\"top\">OGInfo__OGMB_1_df</th>\n",
       "      <th>0</th>\n",
       "      <td>13137.0</td>\n",
       "      <td>NaT</td>\n",
       "    </tr>\n",
       "    <tr>\n",
       "      <th>1</th>\n",
       "      <td>12116.0</td>\n",
       "      <td>2022-04-02</td>\n",
       "    </tr>\n",
       "    <tr>\n",
       "      <th>2</th>\n",
       "      <td>23949.0</td>\n",
       "      <td>2020-03-23</td>\n",
       "    </tr>\n",
       "    <tr>\n",
       "      <th>3</th>\n",
       "      <td>23950.0</td>\n",
       "      <td>2020-03-23</td>\n",
       "    </tr>\n",
       "    <tr>\n",
       "      <th>4</th>\n",
       "      <td>23951.0</td>\n",
       "      <td>2020-03-23</td>\n",
       "    </tr>\n",
       "    <tr>\n",
       "      <th>...</th>\n",
       "      <th>...</th>\n",
       "      <td>...</td>\n",
       "      <td>...</td>\n",
       "    </tr>\n",
       "    <tr>\n",
       "      <th rowspan=\"5\" valign=\"top\">OG_Info_reserve__OGOrg_1_df</th>\n",
       "      <th>790</th>\n",
       "      <td>20023.0</td>\n",
       "      <td>2018-08-18</td>\n",
       "    </tr>\n",
       "    <tr>\n",
       "      <th>791</th>\n",
       "      <td>20026.0</td>\n",
       "      <td>2018-08-18</td>\n",
       "    </tr>\n",
       "    <tr>\n",
       "      <th>792</th>\n",
       "      <td>20027.0</td>\n",
       "      <td>2019-07-31</td>\n",
       "    </tr>\n",
       "    <tr>\n",
       "      <th>793</th>\n",
       "      <td>20028.0</td>\n",
       "      <td>2019-07-31</td>\n",
       "    </tr>\n",
       "    <tr>\n",
       "      <th>794</th>\n",
       "      <td>14001.0</td>\n",
       "      <td>2018-08-30</td>\n",
       "    </tr>\n",
       "  </tbody>\n",
       "</table>\n",
       "<p>10351 rows × 2 columns</p>\n",
       "</div>"
      ],
      "text/plain": [
       "                                   og_nr date_contracted\n",
       "OGInfo__OGMB_1_df           0    13137.0             NaT\n",
       "                            1    12116.0      2022-04-02\n",
       "                            2    23949.0      2020-03-23\n",
       "                            3    23950.0      2020-03-23\n",
       "                            4    23951.0      2020-03-23\n",
       "...                                  ...             ...\n",
       "OG_Info_reserve__OGOrg_1_df 790  20023.0      2018-08-18\n",
       "                            791  20026.0      2018-08-18\n",
       "                            792  20027.0      2019-07-31\n",
       "                            793  20028.0      2019-07-31\n",
       "                            794  14001.0      2018-08-30\n",
       "\n",
       "[10351 rows x 2 columns]"
      ]
     },
     "execution_count": 2075,
     "metadata": {},
     "output_type": "execute_result"
    }
   ],
   "source": [
    "# 10351 \n",
    "og_nr_df = concated_farmers[~concated_farmers['og_nr'].isna()][['og_nr', 'date_contracted']]\n",
    "og_nr_df"
   ]
  },
  {
   "cell_type": "code",
   "execution_count": 2076,
   "metadata": {},
   "outputs": [
    {
     "data": {
      "text/plain": [
       "False"
      ]
     },
     "execution_count": 2076,
     "metadata": {},
     "output_type": "execute_result"
    }
   ],
   "source": [
    "# og_nr NOT unique\n",
    "og_nr_df['og_nr'].squeeze().is_unique"
   ]
  },
  {
   "cell_type": "code",
   "execution_count": 2077,
   "metadata": {},
   "outputs": [
    {
     "data": {
      "text/plain": [
       "False    9093\n",
       "True     1258\n",
       "Name: og_nr, dtype: int64"
      ]
     },
     "execution_count": 2077,
     "metadata": {},
     "output_type": "execute_result"
    }
   ],
   "source": [
    "concated_farmers[~concated_farmers['og_nr'].isna()]['og_nr'].duplicated(keep='first').value_counts()"
   ]
  },
  {
   "cell_type": "code",
   "execution_count": 2078,
   "metadata": {},
   "outputs": [
    {
     "data": {
      "text/plain": [
       "True     12774\n",
       "False     9094\n",
       "Name: og_nr, dtype: int64"
      ]
     },
     "execution_count": 2078,
     "metadata": {},
     "output_type": "execute_result"
    }
   ],
   "source": [
    "concated_farmers['og_nr'].duplicated(keep='first').value_counts()"
   ]
  },
  {
   "cell_type": "code",
   "execution_count": 2079,
   "metadata": {},
   "outputs": [
    {
     "data": {
      "text/plain": [
       "(10351, 22)"
      ]
     },
     "execution_count": 2079,
     "metadata": {},
     "output_type": "execute_result"
    }
   ],
   "source": [
    "concated_farmers[~concated_farmers['og_nr'].isna()].shape"
   ]
  },
  {
   "cell_type": "code",
   "execution_count": 2080,
   "metadata": {},
   "outputs": [],
   "source": [
    "concated_farmers.sort_values('date_contracted', ascending=False, inplace=True)"
   ]
  },
  {
   "cell_type": "code",
   "execution_count": 2081,
   "metadata": {},
   "outputs": [
    {
     "data": {
      "text/html": [
       "<div>\n",
       "<style scoped>\n",
       "    .dataframe tbody tr th:only-of-type {\n",
       "        vertical-align: middle;\n",
       "    }\n",
       "\n",
       "    .dataframe tbody tr th {\n",
       "        vertical-align: top;\n",
       "    }\n",
       "\n",
       "    .dataframe thead th {\n",
       "        text-align: right;\n",
       "    }\n",
       "</style>\n",
       "<table border=\"1\" class=\"dataframe\">\n",
       "  <thead>\n",
       "    <tr style=\"text-align: right;\">\n",
       "      <th></th>\n",
       "      <th></th>\n",
       "      <th>og_nr</th>\n",
       "      <th>date_contracted</th>\n",
       "    </tr>\n",
       "  </thead>\n",
       "  <tbody>\n",
       "    <tr>\n",
       "      <th>OG_Info_reserve__OGOrg_1_df</th>\n",
       "      <th>793</th>\n",
       "      <td>20028.0</td>\n",
       "      <td>2019-07-31</td>\n",
       "    </tr>\n",
       "    <tr>\n",
       "      <th>OGInfo__OGMB_1_df</th>\n",
       "      <th>5506</th>\n",
       "      <td>20028.0</td>\n",
       "      <td>2019-02-01</td>\n",
       "    </tr>\n",
       "    <tr>\n",
       "      <th>OG_Info__OGOrg_1_df</th>\n",
       "      <th>981</th>\n",
       "      <td>20028.0</td>\n",
       "      <td>2019-01-02</td>\n",
       "    </tr>\n",
       "  </tbody>\n",
       "</table>\n",
       "</div>"
      ],
      "text/plain": [
       "                                    og_nr date_contracted\n",
       "OG_Info_reserve__OGOrg_1_df 793   20028.0      2019-07-31\n",
       "OGInfo__OGMB_1_df           5506  20028.0      2019-02-01\n",
       "OG_Info__OGOrg_1_df         981   20028.0      2019-01-02"
      ]
     },
     "execution_count": 2081,
     "metadata": {},
     "output_type": "execute_result"
    }
   ],
   "source": [
    "concated_farmers[concated_farmers['og_nr'] == 20028.0][['og_nr', 'date_contracted']]"
   ]
  },
  {
   "cell_type": "code",
   "execution_count": 2082,
   "metadata": {},
   "outputs": [],
   "source": [
    "#concated_farmers[concated_farmers['og_nr'].isna()] "
   ]
  },
  {
   "cell_type": "code",
   "execution_count": 2083,
   "metadata": {},
   "outputs": [
    {
     "data": {
      "text/plain": [
       "(21868, 22)"
      ]
     },
     "execution_count": 2083,
     "metadata": {},
     "output_type": "execute_result"
    }
   ],
   "source": [
    "df = concated_farmers.copy()\n",
    "df.shape"
   ]
  },
  {
   "cell_type": "code",
   "execution_count": 2084,
   "metadata": {},
   "outputs": [],
   "source": [
    "df = df[~df['og_nr'].isna()]"
   ]
  },
  {
   "cell_type": "code",
   "execution_count": 2085,
   "metadata": {},
   "outputs": [
    {
     "data": {
      "text/plain": [
       "(10351, 22)"
      ]
     },
     "execution_count": 2085,
     "metadata": {},
     "output_type": "execute_result"
    }
   ],
   "source": [
    "df.shape"
   ]
  },
  {
   "cell_type": "code",
   "execution_count": 2086,
   "metadata": {},
   "outputs": [],
   "source": [
    "df = df[~df['og_nr'].isna()].drop_duplicates('og_nr', keep='first')"
   ]
  },
  {
   "cell_type": "code",
   "execution_count": 2087,
   "metadata": {},
   "outputs": [
    {
     "data": {
      "text/plain": [
       "(9093, 22)"
      ]
     },
     "execution_count": 2087,
     "metadata": {},
     "output_type": "execute_result"
    }
   ],
   "source": [
    "df.shape"
   ]
  },
  {
   "cell_type": "code",
   "execution_count": 2088,
   "metadata": {},
   "outputs": [
    {
     "data": {
      "text/plain": [
       "20610"
      ]
     },
     "execution_count": 2088,
     "metadata": {},
     "output_type": "execute_result"
    }
   ],
   "source": [
    "21868-(10351-9093)"
   ]
  },
  {
   "cell_type": "code",
   "execution_count": 2089,
   "metadata": {},
   "outputs": [
    {
     "data": {
      "text/html": [
       "<div>\n",
       "<style scoped>\n",
       "    .dataframe tbody tr th:only-of-type {\n",
       "        vertical-align: middle;\n",
       "    }\n",
       "\n",
       "    .dataframe tbody tr th {\n",
       "        vertical-align: top;\n",
       "    }\n",
       "\n",
       "    .dataframe thead th {\n",
       "        text-align: right;\n",
       "    }\n",
       "</style>\n",
       "<table border=\"1\" class=\"dataframe\">\n",
       "  <thead>\n",
       "    <tr style=\"text-align: right;\">\n",
       "      <th></th>\n",
       "      <th></th>\n",
       "      <th>id</th>\n",
       "      <th>og_nr</th>\n",
       "      <th>og_code</th>\n",
       "      <th>production_unit</th>\n",
       "      <th>area</th>\n",
       "      <th>ward_nr/name</th>\n",
       "      <th>species</th>\n",
       "      <th>surname</th>\n",
       "      <th>first_names</th>\n",
       "      <th>sex</th>\n",
       "      <th>...</th>\n",
       "      <th>date_contracted</th>\n",
       "      <th>date_dropped_out</th>\n",
       "      <th>reason_dropped_out</th>\n",
       "      <th>address</th>\n",
       "      <th>organic_status</th>\n",
       "      <th>organic_status_from_date</th>\n",
       "      <th>fairtrade</th>\n",
       "      <th>ward_nr</th>\n",
       "      <th>wc_nr</th>\n",
       "      <th>wc_code</th>\n",
       "    </tr>\n",
       "  </thead>\n",
       "  <tbody>\n",
       "    <tr>\n",
       "      <th>OG_Info_reserve__OGOrg_1_df</th>\n",
       "      <th>793</th>\n",
       "      <td>3551</td>\n",
       "      <td>20028.0</td>\n",
       "      <td>MUOG</td>\n",
       "      <td>Mashonaland Central</td>\n",
       "      <td>Mushumbi</td>\n",
       "      <td>3</td>\n",
       "      <td>Rosella, Chilli, Paprika</td>\n",
       "      <td>Masodzi</td>\n",
       "      <td>Norah</td>\n",
       "      <td>female</td>\n",
       "      <td>...</td>\n",
       "      <td>2019-07-31</td>\n",
       "      <td>NaT</td>\n",
       "      <td>None</td>\n",
       "      <td>ARDA Mushumbi, Box 210, Mbire</td>\n",
       "      <td>New</td>\n",
       "      <td>2019-02-01</td>\n",
       "      <td>False</td>\n",
       "      <td>3.0</td>\n",
       "      <td>NaN</td>\n",
       "      <td>NaN</td>\n",
       "    </tr>\n",
       "  </tbody>\n",
       "</table>\n",
       "<p>1 rows × 22 columns</p>\n",
       "</div>"
      ],
      "text/plain": [
       "                                   id    og_nr og_code      production_unit  \\\n",
       "OG_Info_reserve__OGOrg_1_df 793  3551  20028.0    MUOG  Mashonaland Central   \n",
       "\n",
       "                                     area ward_nr/name  \\\n",
       "OG_Info_reserve__OGOrg_1_df 793  Mushumbi            3   \n",
       "\n",
       "                                                  species  surname  \\\n",
       "OG_Info_reserve__OGOrg_1_df 793  Rosella, Chilli, Paprika  Masodzi   \n",
       "\n",
       "                                first_names     sex  ... date_contracted  \\\n",
       "OG_Info_reserve__OGOrg_1_df 793       Norah  female  ...      2019-07-31   \n",
       "\n",
       "                                date_dropped_out reason_dropped_out  \\\n",
       "OG_Info_reserve__OGOrg_1_df 793              NaT               None   \n",
       "\n",
       "                                                       address organic_status  \\\n",
       "OG_Info_reserve__OGOrg_1_df 793  ARDA Mushumbi, Box 210, Mbire            New   \n",
       "\n",
       "                                organic_status_from_date fairtrade ward_nr  \\\n",
       "OG_Info_reserve__OGOrg_1_df 793               2019-02-01     False     3.0   \n",
       "\n",
       "                                 wc_nr  wc_code  \n",
       "OG_Info_reserve__OGOrg_1_df 793    NaN      NaN  \n",
       "\n",
       "[1 rows x 22 columns]"
      ]
     },
     "execution_count": 2089,
     "metadata": {},
     "output_type": "execute_result"
    }
   ],
   "source": [
    "df[df['og_nr'] == 20028.0]"
   ]
  },
  {
   "attachments": {},
   "cell_type": "markdown",
   "metadata": {},
   "source": [
    "#### Now og_nr is unique!"
   ]
  },
  {
   "cell_type": "code",
   "execution_count": 2090,
   "metadata": {},
   "outputs": [
    {
     "data": {
      "text/plain": [
       "True"
      ]
     },
     "execution_count": 2090,
     "metadata": {},
     "output_type": "execute_result"
    }
   ],
   "source": [
    "og_not_na_df = df[~df['og_nr'].isna()]\n",
    "og_not_na_df['og_nr'].squeeze().is_unique"
   ]
  },
  {
   "cell_type": "code",
   "execution_count": 2091,
   "metadata": {},
   "outputs": [
    {
     "data": {
      "text/plain": [
       "(20610, 22)"
      ]
     },
     "execution_count": 2091,
     "metadata": {},
     "output_type": "execute_result"
    }
   ],
   "source": [
    "wc_og_df = pd.concat([df, wc_df])\n",
    "wc_og_df.shape"
   ]
  },
  {
   "cell_type": "code",
   "execution_count": 2092,
   "metadata": {},
   "outputs": [],
   "source": [
    "concated_farmers = wc_og_df.copy()"
   ]
  },
  {
   "cell_type": "code",
   "execution_count": 2093,
   "metadata": {},
   "outputs": [
    {
     "data": {
      "text/html": [
       "<div>\n",
       "<style scoped>\n",
       "    .dataframe tbody tr th:only-of-type {\n",
       "        vertical-align: middle;\n",
       "    }\n",
       "\n",
       "    .dataframe tbody tr th {\n",
       "        vertical-align: top;\n",
       "    }\n",
       "\n",
       "    .dataframe thead th {\n",
       "        text-align: right;\n",
       "    }\n",
       "</style>\n",
       "<table border=\"1\" class=\"dataframe\">\n",
       "  <thead>\n",
       "    <tr style=\"text-align: right;\">\n",
       "      <th></th>\n",
       "      <th></th>\n",
       "      <th>og_nr</th>\n",
       "      <th>date_contracted</th>\n",
       "    </tr>\n",
       "  </thead>\n",
       "  <tbody>\n",
       "    <tr>\n",
       "      <th>OG_Info_reserve__OGOrg_1_df</th>\n",
       "      <th>793</th>\n",
       "      <td>20028.0</td>\n",
       "      <td>2019-07-31</td>\n",
       "    </tr>\n",
       "  </tbody>\n",
       "</table>\n",
       "</div>"
      ],
      "text/plain": [
       "                                   og_nr date_contracted\n",
       "OG_Info_reserve__OGOrg_1_df 793  20028.0      2019-07-31"
      ]
     },
     "execution_count": 2093,
     "metadata": {},
     "output_type": "execute_result"
    }
   ],
   "source": [
    "concated_farmers[concated_farmers['og_nr'] == 20028.0][['og_nr', 'date_contracted']]"
   ]
  },
  {
   "cell_type": "code",
   "execution_count": 2094,
   "metadata": {},
   "outputs": [
    {
     "data": {
      "text/plain": [
       "True     11516\n",
       "False     9094\n",
       "Name: og_nr, dtype: int64"
      ]
     },
     "execution_count": 2094,
     "metadata": {},
     "output_type": "execute_result"
    }
   ],
   "source": [
    "concated_farmers['og_nr'].duplicated().value_counts()"
   ]
  },
  {
   "cell_type": "code",
   "execution_count": 2095,
   "metadata": {},
   "outputs": [
    {
     "name": "stdout",
     "output_type": "stream",
     "text": [
      "<class 'pandas.core.frame.DataFrame'>\n",
      "MultiIndex: 20610 entries, ('OGInfo__OGMB_1_df', 239) to ('wc_info__WCOrg_1_df', 564)\n",
      "Data columns (total 22 columns):\n",
      " #   Column                    Non-Null Count  Dtype         \n",
      "---  ------                    --------------  -----         \n",
      " 0   id                        20610 non-null  int64         \n",
      " 1   og_nr                     9093 non-null   float64       \n",
      " 2   og_code                   9093 non-null   object        \n",
      " 3   production_unit           20610 non-null  object        \n",
      " 4   area                      20610 non-null  object        \n",
      " 5   ward_nr/name              20190 non-null  object        \n",
      " 6   species                   20610 non-null  object        \n",
      " 7   surname                   20608 non-null  object        \n",
      " 8   first_names               20606 non-null  object        \n",
      " 9   sex                       20610 non-null  object        \n",
      " 10  id_number                 18657 non-null  object        \n",
      " 11  date_of_birth             2544 non-null   datetime64[ns]\n",
      " 12  date_contracted           20600 non-null  datetime64[ns]\n",
      " 13  date_dropped_out          9298 non-null   datetime64[ns]\n",
      " 14  reason_dropped_out        7637 non-null   object        \n",
      " 15  address                   20136 non-null  object        \n",
      " 16  organic_status            20609 non-null  object        \n",
      " 17  organic_status_from_date  16507 non-null  object        \n",
      " 18  fairtrade                 20610 non-null  bool          \n",
      " 19  ward_nr                   20190 non-null  float64       \n",
      " 20  wc_nr                     11517 non-null  float64       \n",
      " 21  wc_code                   11517 non-null  object        \n",
      "dtypes: bool(1), datetime64[ns](3), float64(3), int64(1), object(14)\n",
      "memory usage: 3.7+ MB\n"
     ]
    }
   ],
   "source": [
    "concated_farmers.info()"
   ]
  },
  {
   "cell_type": "code",
   "execution_count": 2096,
   "metadata": {},
   "outputs": [
    {
     "data": {
      "text/html": [
       "<div>\n",
       "<style scoped>\n",
       "    .dataframe tbody tr th:only-of-type {\n",
       "        vertical-align: middle;\n",
       "    }\n",
       "\n",
       "    .dataframe tbody tr th {\n",
       "        vertical-align: top;\n",
       "    }\n",
       "\n",
       "    .dataframe thead th {\n",
       "        text-align: right;\n",
       "    }\n",
       "</style>\n",
       "<table border=\"1\" class=\"dataframe\">\n",
       "  <thead>\n",
       "    <tr style=\"text-align: right;\">\n",
       "      <th></th>\n",
       "      <th></th>\n",
       "      <th>id</th>\n",
       "      <th>og_nr</th>\n",
       "      <th>og_code</th>\n",
       "      <th>production_unit</th>\n",
       "      <th>area</th>\n",
       "      <th>ward_nr/name</th>\n",
       "      <th>species</th>\n",
       "      <th>surname</th>\n",
       "      <th>first_names</th>\n",
       "      <th>sex</th>\n",
       "      <th>...</th>\n",
       "      <th>date_contracted</th>\n",
       "      <th>date_dropped_out</th>\n",
       "      <th>reason_dropped_out</th>\n",
       "      <th>address</th>\n",
       "      <th>organic_status</th>\n",
       "      <th>organic_status_from_date</th>\n",
       "      <th>fairtrade</th>\n",
       "      <th>ward_nr</th>\n",
       "      <th>wc_nr</th>\n",
       "      <th>wc_code</th>\n",
       "    </tr>\n",
       "  </thead>\n",
       "  <tbody>\n",
       "    <tr>\n",
       "      <th rowspan=\"5\" valign=\"top\">OGInfo__OGMB_1_df</th>\n",
       "      <th>0</th>\n",
       "      <td>1545</td>\n",
       "      <td>13137.0</td>\n",
       "      <td>MBOGR</td>\n",
       "      <td>Mashonaland Central</td>\n",
       "      <td>Mbire</td>\n",
       "      <td>15</td>\n",
       "      <td>Rosella</td>\n",
       "      <td>Nyamayaro</td>\n",
       "      <td>Phillip</td>\n",
       "      <td>male</td>\n",
       "      <td>...</td>\n",
       "      <td>NaT</td>\n",
       "      <td>2020-02-05</td>\n",
       "      <td>Own choice</td>\n",
       "      <td>Mahuwe sch, Box 92, Mbire D</td>\n",
       "      <td>Dropout</td>\n",
       "      <td>2017-12-02 00:00:00.000</td>\n",
       "      <td>False</td>\n",
       "      <td>15.0</td>\n",
       "      <td>NaN</td>\n",
       "      <td>NaN</td>\n",
       "    </tr>\n",
       "    <tr>\n",
       "      <th>1</th>\n",
       "      <td>12026</td>\n",
       "      <td>12116.0</td>\n",
       "      <td>MBOGR</td>\n",
       "      <td>Mashonaland Central</td>\n",
       "      <td>Mbire</td>\n",
       "      <td>6</td>\n",
       "      <td>Rosella</td>\n",
       "      <td>Funda</td>\n",
       "      <td>Jennie</td>\n",
       "      <td>female</td>\n",
       "      <td>...</td>\n",
       "      <td>2022-04-02</td>\n",
       "      <td>NaT</td>\n",
       "      <td>None</td>\n",
       "      <td>Kasuwo Primary School 346, Mbire</td>\n",
       "      <td>Mabagrown</td>\n",
       "      <td>2022-04-02 00:00:00.000</td>\n",
       "      <td>False</td>\n",
       "      <td>6.0</td>\n",
       "      <td>NaN</td>\n",
       "      <td>NaN</td>\n",
       "    </tr>\n",
       "    <tr>\n",
       "      <th>2</th>\n",
       "      <td>9914</td>\n",
       "      <td>23949.0</td>\n",
       "      <td>MBOGK</td>\n",
       "      <td>Mashonaland Central</td>\n",
       "      <td>Mbire</td>\n",
       "      <td>13</td>\n",
       "      <td>Rosella</td>\n",
       "      <td>Chingwena</td>\n",
       "      <td>Gladys</td>\n",
       "      <td>female</td>\n",
       "      <td>...</td>\n",
       "      <td>2020-03-23</td>\n",
       "      <td>2021-07-26</td>\n",
       "      <td>Area closed</td>\n",
       "      <td>Sapa Primary School P O Box 203</td>\n",
       "      <td>Dropout</td>\n",
       "      <td>2020-03-23 00:00:00.000</td>\n",
       "      <td>False</td>\n",
       "      <td>13.0</td>\n",
       "      <td>NaN</td>\n",
       "      <td>NaN</td>\n",
       "    </tr>\n",
       "    <tr>\n",
       "      <th>3</th>\n",
       "      <td>9915</td>\n",
       "      <td>23950.0</td>\n",
       "      <td>MBOGK</td>\n",
       "      <td>Mashonaland Central</td>\n",
       "      <td>Mbire</td>\n",
       "      <td>13</td>\n",
       "      <td>Rosella</td>\n",
       "      <td>Marumbe</td>\n",
       "      <td>Tariro</td>\n",
       "      <td>female</td>\n",
       "      <td>...</td>\n",
       "      <td>2020-03-23</td>\n",
       "      <td>2021-07-26</td>\n",
       "      <td>Area closed</td>\n",
       "      <td>Sapa Primary School P O Box 203</td>\n",
       "      <td>Dropout</td>\n",
       "      <td>2020-03-23 00:00:00.000</td>\n",
       "      <td>False</td>\n",
       "      <td>13.0</td>\n",
       "      <td>NaN</td>\n",
       "      <td>NaN</td>\n",
       "    </tr>\n",
       "    <tr>\n",
       "      <th>4</th>\n",
       "      <td>9916</td>\n",
       "      <td>23951.0</td>\n",
       "      <td>MBOGK</td>\n",
       "      <td>Mashonaland Central</td>\n",
       "      <td>Mbire</td>\n",
       "      <td>13</td>\n",
       "      <td>Rosella</td>\n",
       "      <td>Dambudzo</td>\n",
       "      <td>Ketai</td>\n",
       "      <td>female</td>\n",
       "      <td>...</td>\n",
       "      <td>2020-03-23</td>\n",
       "      <td>2021-07-26</td>\n",
       "      <td>Area closed</td>\n",
       "      <td>Sapa Primary School P O Box 203</td>\n",
       "      <td>Dropout</td>\n",
       "      <td>2020-03-23 00:00:00.000</td>\n",
       "      <td>False</td>\n",
       "      <td>13.0</td>\n",
       "      <td>NaN</td>\n",
       "      <td>NaN</td>\n",
       "    </tr>\n",
       "    <tr>\n",
       "      <th>...</th>\n",
       "      <th>...</th>\n",
       "      <td>...</td>\n",
       "      <td>...</td>\n",
       "      <td>...</td>\n",
       "      <td>...</td>\n",
       "      <td>...</td>\n",
       "      <td>...</td>\n",
       "      <td>...</td>\n",
       "      <td>...</td>\n",
       "      <td>...</td>\n",
       "      <td>...</td>\n",
       "      <td>...</td>\n",
       "      <td>...</td>\n",
       "      <td>...</td>\n",
       "      <td>...</td>\n",
       "      <td>...</td>\n",
       "      <td>...</td>\n",
       "      <td>...</td>\n",
       "      <td>...</td>\n",
       "      <td>...</td>\n",
       "      <td>...</td>\n",
       "      <td>...</td>\n",
       "    </tr>\n",
       "    <tr>\n",
       "      <th rowspan=\"5\" valign=\"top\">wc_info_bayoba_1_df</th>\n",
       "      <th>10947</th>\n",
       "      <td>1131</td>\n",
       "      <td>NaN</td>\n",
       "      <td>NaN</td>\n",
       "      <td>South Eastern region</td>\n",
       "      <td>Chimanimani</td>\n",
       "      <td>5</td>\n",
       "      <td>Baobab</td>\n",
       "      <td>Mugebe</td>\n",
       "      <td>Tradder</td>\n",
       "      <td>male</td>\n",
       "      <td>...</td>\n",
       "      <td>2012-06-26</td>\n",
       "      <td>NaT</td>\n",
       "      <td>None</td>\n",
       "      <td>Chibuwe</td>\n",
       "      <td>Org</td>\n",
       "      <td>None</td>\n",
       "      <td>False</td>\n",
       "      <td>5.0</td>\n",
       "      <td>21141.0</td>\n",
       "      <td>CMWC</td>\n",
       "    </tr>\n",
       "    <tr>\n",
       "      <th>10948</th>\n",
       "      <td>1134</td>\n",
       "      <td>NaN</td>\n",
       "      <td>NaN</td>\n",
       "      <td>South Eastern region</td>\n",
       "      <td>Chimanimani</td>\n",
       "      <td>5</td>\n",
       "      <td>Baobab</td>\n",
       "      <td>Chibuwe</td>\n",
       "      <td>Silvia</td>\n",
       "      <td>female</td>\n",
       "      <td>...</td>\n",
       "      <td>2012-06-26</td>\n",
       "      <td>NaT</td>\n",
       "      <td>None</td>\n",
       "      <td>Chibuwe</td>\n",
       "      <td>Org</td>\n",
       "      <td>None</td>\n",
       "      <td>False</td>\n",
       "      <td>5.0</td>\n",
       "      <td>21144.0</td>\n",
       "      <td>CMWC</td>\n",
       "    </tr>\n",
       "    <tr>\n",
       "      <th>10949</th>\n",
       "      <td>32782</td>\n",
       "      <td>NaN</td>\n",
       "      <td>NaN</td>\n",
       "      <td>Northern Eastern region</td>\n",
       "      <td>Mt Darwin</td>\n",
       "      <td>None</td>\n",
       "      <td>Baobab + ximenia</td>\n",
       "      <td>Nyatito</td>\n",
       "      <td>Lucia</td>\n",
       "      <td>female</td>\n",
       "      <td>...</td>\n",
       "      <td>2022-08-30</td>\n",
       "      <td>NaT</td>\n",
       "      <td>None</td>\n",
       "      <td>Gungwe Primary School Bag 338, Mt Darwin</td>\n",
       "      <td>New</td>\n",
       "      <td>2022-08-30</td>\n",
       "      <td>False</td>\n",
       "      <td>NaN</td>\n",
       "      <td>16499.0</td>\n",
       "      <td>MTWC</td>\n",
       "    </tr>\n",
       "    <tr>\n",
       "      <th>10950</th>\n",
       "      <td>32783</td>\n",
       "      <td>NaN</td>\n",
       "      <td>NaN</td>\n",
       "      <td>Northern Eastern region</td>\n",
       "      <td>Mt Darwin</td>\n",
       "      <td>None</td>\n",
       "      <td>Baobab + ximenia</td>\n",
       "      <td>Kanocheringa</td>\n",
       "      <td>Abgal</td>\n",
       "      <td>female</td>\n",
       "      <td>...</td>\n",
       "      <td>2022-08-30</td>\n",
       "      <td>NaT</td>\n",
       "      <td>None</td>\n",
       "      <td>Gungwe Primary School Bag 338, Mt Darwin</td>\n",
       "      <td>New</td>\n",
       "      <td>2022-08-30</td>\n",
       "      <td>False</td>\n",
       "      <td>NaN</td>\n",
       "      <td>16500.0</td>\n",
       "      <td>MTWC</td>\n",
       "    </tr>\n",
       "    <tr>\n",
       "      <th>10951</th>\n",
       "      <td>4065</td>\n",
       "      <td>NaN</td>\n",
       "      <td>NaN</td>\n",
       "      <td>Northern Eastern region</td>\n",
       "      <td>Mudzi</td>\n",
       "      <td>None</td>\n",
       "      <td>Baobab + ximenia</td>\n",
       "      <td>Nyamauta</td>\n",
       "      <td>Locadia</td>\n",
       "      <td>female</td>\n",
       "      <td>...</td>\n",
       "      <td>2014-08-04</td>\n",
       "      <td>NaT</td>\n",
       "      <td>no production 2016</td>\n",
       "      <td>Zambezi Primary School, Box70, Siyanzyundu</td>\n",
       "      <td>Org</td>\n",
       "      <td>None</td>\n",
       "      <td>False</td>\n",
       "      <td>NaN</td>\n",
       "      <td>40101.0</td>\n",
       "      <td>BNWC</td>\n",
       "    </tr>\n",
       "  </tbody>\n",
       "</table>\n",
       "<p>20610 rows × 22 columns</p>\n",
       "</div>"
      ],
      "text/plain": [
       "                              id    og_nr og_code          production_unit  \\\n",
       "OGInfo__OGMB_1_df   0       1545  13137.0   MBOGR      Mashonaland Central   \n",
       "                    1      12026  12116.0   MBOGR      Mashonaland Central   \n",
       "                    2       9914  23949.0   MBOGK      Mashonaland Central   \n",
       "                    3       9915  23950.0   MBOGK      Mashonaland Central   \n",
       "                    4       9916  23951.0   MBOGK      Mashonaland Central   \n",
       "...                          ...      ...     ...                      ...   \n",
       "wc_info_bayoba_1_df 10947   1131      NaN     NaN     South Eastern region   \n",
       "                    10948   1134      NaN     NaN     South Eastern region   \n",
       "                    10949  32782      NaN     NaN  Northern Eastern region   \n",
       "                    10950  32783      NaN     NaN  Northern Eastern region   \n",
       "                    10951   4065      NaN     NaN  Northern Eastern region   \n",
       "\n",
       "                                  area ward_nr/name           species  \\\n",
       "OGInfo__OGMB_1_df   0            Mbire           15           Rosella   \n",
       "                    1            Mbire            6           Rosella   \n",
       "                    2            Mbire           13           Rosella   \n",
       "                    3            Mbire           13           Rosella   \n",
       "                    4            Mbire           13           Rosella   \n",
       "...                                ...          ...               ...   \n",
       "wc_info_bayoba_1_df 10947  Chimanimani            5            Baobab   \n",
       "                    10948  Chimanimani            5            Baobab   \n",
       "                    10949    Mt Darwin         None  Baobab + ximenia   \n",
       "                    10950    Mt Darwin         None  Baobab + ximenia   \n",
       "                    10951        Mudzi         None  Baobab + ximenia   \n",
       "\n",
       "                                surname first_names     sex  ...  \\\n",
       "OGInfo__OGMB_1_df   0         Nyamayaro     Phillip    male  ...   \n",
       "                    1             Funda      Jennie  female  ...   \n",
       "                    2         Chingwena      Gladys  female  ...   \n",
       "                    3           Marumbe      Tariro  female  ...   \n",
       "                    4          Dambudzo       Ketai  female  ...   \n",
       "...                                 ...         ...     ...  ...   \n",
       "wc_info_bayoba_1_df 10947        Mugebe     Tradder    male  ...   \n",
       "                    10948       Chibuwe      Silvia  female  ...   \n",
       "                    10949       Nyatito       Lucia  female  ...   \n",
       "                    10950  Kanocheringa       Abgal  female  ...   \n",
       "                    10951      Nyamauta     Locadia  female  ...   \n",
       "\n",
       "                          date_contracted date_dropped_out  \\\n",
       "OGInfo__OGMB_1_df   0                 NaT       2020-02-05   \n",
       "                    1          2022-04-02              NaT   \n",
       "                    2          2020-03-23       2021-07-26   \n",
       "                    3          2020-03-23       2021-07-26   \n",
       "                    4          2020-03-23       2021-07-26   \n",
       "...                                   ...              ...   \n",
       "wc_info_bayoba_1_df 10947      2012-06-26              NaT   \n",
       "                    10948      2012-06-26              NaT   \n",
       "                    10949      2022-08-30              NaT   \n",
       "                    10950      2022-08-30              NaT   \n",
       "                    10951      2014-08-04              NaT   \n",
       "\n",
       "                           reason_dropped_out  \\\n",
       "OGInfo__OGMB_1_df   0              Own choice   \n",
       "                    1                    None   \n",
       "                    2             Area closed   \n",
       "                    3             Area closed   \n",
       "                    4             Area closed   \n",
       "...                                       ...   \n",
       "wc_info_bayoba_1_df 10947                None   \n",
       "                    10948                None   \n",
       "                    10949                None   \n",
       "                    10950                None   \n",
       "                    10951  no production 2016   \n",
       "\n",
       "                                                              address  \\\n",
       "OGInfo__OGMB_1_df   0                     Mahuwe sch, Box 92, Mbire D   \n",
       "                    1                Kasuwo Primary School 346, Mbire   \n",
       "                    2                 Sapa Primary School P O Box 203   \n",
       "                    3                 Sapa Primary School P O Box 203   \n",
       "                    4                 Sapa Primary School P O Box 203   \n",
       "...                                                               ...   \n",
       "wc_info_bayoba_1_df 10947                                     Chibuwe   \n",
       "                    10948                                     Chibuwe   \n",
       "                    10949    Gungwe Primary School Bag 338, Mt Darwin   \n",
       "                    10950    Gungwe Primary School Bag 338, Mt Darwin   \n",
       "                    10951  Zambezi Primary School, Box70, Siyanzyundu   \n",
       "\n",
       "                          organic_status organic_status_from_date fairtrade  \\\n",
       "OGInfo__OGMB_1_df   0            Dropout  2017-12-02 00:00:00.000     False   \n",
       "                    1          Mabagrown  2022-04-02 00:00:00.000     False   \n",
       "                    2            Dropout  2020-03-23 00:00:00.000     False   \n",
       "                    3            Dropout  2020-03-23 00:00:00.000     False   \n",
       "                    4            Dropout  2020-03-23 00:00:00.000     False   \n",
       "...                                  ...                      ...       ...   \n",
       "wc_info_bayoba_1_df 10947            Org                     None     False   \n",
       "                    10948            Org                     None     False   \n",
       "                    10949            New               2022-08-30     False   \n",
       "                    10950            New               2022-08-30     False   \n",
       "                    10951            Org                     None     False   \n",
       "\n",
       "                          ward_nr    wc_nr  wc_code  \n",
       "OGInfo__OGMB_1_df   0        15.0      NaN      NaN  \n",
       "                    1         6.0      NaN      NaN  \n",
       "                    2        13.0      NaN      NaN  \n",
       "                    3        13.0      NaN      NaN  \n",
       "                    4        13.0      NaN      NaN  \n",
       "...                           ...      ...      ...  \n",
       "wc_info_bayoba_1_df 10947     5.0  21141.0     CMWC  \n",
       "                    10948     5.0  21144.0     CMWC  \n",
       "                    10949     NaN  16499.0     MTWC  \n",
       "                    10950     NaN  16500.0     MTWC  \n",
       "                    10951     NaN  40101.0     BNWC  \n",
       "\n",
       "[20610 rows x 22 columns]"
      ]
     },
     "execution_count": 2096,
     "metadata": {},
     "output_type": "execute_result"
    }
   ],
   "source": [
    "# Sorting back with index\n",
    "concated_farmers.sort_index()"
   ]
  },
  {
   "attachments": {},
   "cell_type": "markdown",
   "metadata": {},
   "source": [
    "### Further Cleaning"
   ]
  },
  {
   "cell_type": "code",
   "execution_count": 2097,
   "metadata": {},
   "outputs": [
    {
     "data": {
      "text/plain": [
       "Org             9544\n",
       "Dropout         6946\n",
       "New             2693\n",
       "Mabagrown       1048\n",
       "Reinstated       190\n",
       "Uncertified      149\n",
       "dropout           33\n",
       "Under review       6\n",
       "Name: organic_status, dtype: int64"
      ]
     },
     "execution_count": 2097,
     "metadata": {},
     "output_type": "execute_result"
    }
   ],
   "source": [
    "concated_farmers['organic_status'].value_counts()"
   ]
  },
  {
   "cell_type": "code",
   "execution_count": 2098,
   "metadata": {},
   "outputs": [
    {
     "data": {
      "text/html": [
       "<div>\n",
       "<style scoped>\n",
       "    .dataframe tbody tr th:only-of-type {\n",
       "        vertical-align: middle;\n",
       "    }\n",
       "\n",
       "    .dataframe tbody tr th {\n",
       "        vertical-align: top;\n",
       "    }\n",
       "\n",
       "    .dataframe thead th {\n",
       "        text-align: right;\n",
       "    }\n",
       "</style>\n",
       "<table border=\"1\" class=\"dataframe\">\n",
       "  <thead>\n",
       "    <tr style=\"text-align: right;\">\n",
       "      <th></th>\n",
       "      <th></th>\n",
       "      <th>id</th>\n",
       "      <th>og_nr</th>\n",
       "      <th>og_code</th>\n",
       "      <th>production_unit</th>\n",
       "      <th>area</th>\n",
       "      <th>ward_nr/name</th>\n",
       "      <th>species</th>\n",
       "      <th>surname</th>\n",
       "      <th>first_names</th>\n",
       "      <th>sex</th>\n",
       "      <th>...</th>\n",
       "      <th>date_contracted</th>\n",
       "      <th>date_dropped_out</th>\n",
       "      <th>reason_dropped_out</th>\n",
       "      <th>address</th>\n",
       "      <th>organic_status</th>\n",
       "      <th>organic_status_from_date</th>\n",
       "      <th>fairtrade</th>\n",
       "      <th>ward_nr</th>\n",
       "      <th>wc_nr</th>\n",
       "      <th>wc_code</th>\n",
       "    </tr>\n",
       "  </thead>\n",
       "  <tbody>\n",
       "  </tbody>\n",
       "</table>\n",
       "<p>0 rows × 22 columns</p>\n",
       "</div>"
      ],
      "text/plain": [
       "Empty DataFrame\n",
       "Columns: [id, og_nr, og_code, production_unit, area, ward_nr/name, species, surname, first_names, sex, id_number, date_of_birth, date_contracted, date_dropped_out, reason_dropped_out, address, organic_status, organic_status_from_date, fairtrade, ward_nr, wc_nr, wc_code]\n",
       "Index: []\n",
       "\n",
       "[0 rows x 22 columns]"
      ]
     },
     "execution_count": 2098,
     "metadata": {},
     "output_type": "execute_result"
    }
   ],
   "source": [
    "concated_farmers[concated_farmers['id'].isna()]"
   ]
  },
  {
   "cell_type": "code",
   "execution_count": 2099,
   "metadata": {},
   "outputs": [
    {
     "data": {
      "text/plain": [
       "False"
      ]
     },
     "execution_count": 2099,
     "metadata": {},
     "output_type": "execute_result"
    }
   ],
   "source": [
    "df = concated_farmers[~concated_farmers['id_number'].isna()][['id_number']]\n",
    "df.squeeze().is_unique"
   ]
  },
  {
   "cell_type": "code",
   "execution_count": 2100,
   "metadata": {},
   "outputs": [],
   "source": [
    "concated_farmers['area'] = concated_farmers['area'].str.title()"
   ]
  },
  {
   "cell_type": "code",
   "execution_count": 2101,
   "metadata": {},
   "outputs": [],
   "source": [
    "concated_farmers['area'].replace('Mt Darwin ','Mt Darwin', inplace=True)\n",
    "concated_farmers['area'].replace('Beitbridge ','Beitbridge', inplace=True)\n",
    "concated_farmers['area'].replace('Hwange ','Hwange', inplace=True)\n",
    "concated_farmers['area'].replace('Makoni Mt Shalom','Makoni', inplace=True)\n",
    "concated_farmers['area'].replace('Chimanimani Rusitu','Chimanimani', inplace=True)\n",
    "concated_farmers['area'].replace('Chimanimani Tilbury','Chimanimani', inplace=True)"
   ]
  },
  {
   "cell_type": "code",
   "execution_count": 2102,
   "metadata": {},
   "outputs": [
    {
     "data": {
      "text/plain": [
       "Mbire                   7685\n",
       "Binga                   2195\n",
       "Rushinga                1750\n",
       "Chimanimani             1660\n",
       "Mudzi                   1590\n",
       "Buhera                  1152\n",
       "Chipinge                 977\n",
       "Mt Darwin                968\n",
       "Beitbridge               613\n",
       "Makoni                   297\n",
       "Hwange                   289\n",
       "Kwekwe                   270\n",
       "Uzumbamarambapfungwe     257\n",
       "Mwenezi                  173\n",
       "Karoi                    163\n",
       "Triangle                 163\n",
       "Mutoko                   126\n",
       "Mberengwa                115\n",
       "Chivi                     94\n",
       "Matobo                    44\n",
       "Mushumbi                  29\n",
       "Name: area, dtype: int64"
      ]
     },
     "execution_count": 2102,
     "metadata": {},
     "output_type": "execute_result"
    }
   ],
   "source": [
    "concated_farmers['area'].value_counts()"
   ]
  },
  {
   "cell_type": "code",
   "execution_count": 2103,
   "metadata": {},
   "outputs": [
    {
     "data": {
      "text/plain": [
       "array(['Mbire', 'Binga', 'Makoni', 'Mushumbi', 'Triangle', 'Karoi',\n",
       "       'Chimanimani', 'Chipinge', 'Chivi', 'Buhera', 'Mt Darwin',\n",
       "       'Beitbridge', 'Mudzi', 'Rushinga', 'Kwekwe', 'Mwenezi',\n",
       "       'Uzumbamarambapfungwe', 'Mutoko', 'Mberengwa', 'Matobo', 'Hwange'],\n",
       "      dtype=object)"
      ]
     },
     "execution_count": 2103,
     "metadata": {},
     "output_type": "execute_result"
    }
   ],
   "source": [
    "concated_farmers['area'].unique()\n",
    "# Correct 'chipinge' first upper"
   ]
  },
  {
   "cell_type": "code",
   "execution_count": 2104,
   "metadata": {},
   "outputs": [],
   "source": [
    "concated_farmers['production_unit'] = concated_farmers['production_unit'].replace('Mashonaland Centra','Mashonaland Central')"
   ]
  },
  {
   "cell_type": "code",
   "execution_count": 2105,
   "metadata": {},
   "outputs": [
    {
     "data": {
      "text/plain": [
       "Mashonaland Central        7713\n",
       "Northern Eastern region    4691\n",
       "South Eastern region       3498\n",
       "Matabeleland North         2485\n",
       "Southern region             995\n",
       "Manicaland                  588\n",
       "Midlands                    270\n",
       "Masvingo                    163\n",
       "Mashonaland West            163\n",
       "Matabeleland South           44\n",
       "Name: production_unit, dtype: int64"
      ]
     },
     "execution_count": 2105,
     "metadata": {},
     "output_type": "execute_result"
    }
   ],
   "source": [
    "concated_farmers['production_unit'].value_counts()"
   ]
  },
  {
   "cell_type": "code",
   "execution_count": 2106,
   "metadata": {},
   "outputs": [
    {
     "data": {
      "text/plain": [
       "array([ 6.,  5., 19., 11.,  3., 15., 17.,  7.,  2., 16., 10.,  8.,  9.,\n",
       "       12.,  4., 13., 14., 18., 21., 23., 27., nan,  1., 25., 20., 29.,\n",
       "       33., 24., 28., 30., 31., 34., 32., 22.])"
      ]
     },
     "execution_count": 2106,
     "metadata": {},
     "output_type": "execute_result"
    }
   ],
   "source": [
    "concated_farmers['ward_nr'].unique()\n",
    "\n",
    "# correct to int"
   ]
  },
  {
   "cell_type": "code",
   "execution_count": 2107,
   "metadata": {},
   "outputs": [
    {
     "data": {
      "text/plain": [
       "False    18205\n",
       "True      2405\n",
       "Name: id_number, dtype: int64"
      ]
     },
     "execution_count": 2107,
     "metadata": {},
     "output_type": "execute_result"
    }
   ],
   "source": [
    "# 'id_number has not unique and has 3254 duplicates'\n",
    "#concated_farmers['id_number'].is_unique\n",
    "concated_farmers['id_number'].duplicated().value_counts()"
   ]
  },
  {
   "attachments": {},
   "cell_type": "markdown",
   "metadata": {},
   "source": [
    "#### Setting values of species, sex, reason_droppen_out and organic_status to lower case"
   ]
  },
  {
   "cell_type": "code",
   "execution_count": 2108,
   "metadata": {},
   "outputs": [],
   "source": [
    "concated_farmers['species'] = concated_farmers['species'].str.lower()\n",
    "concated_farmers['sex'] = concated_farmers['sex'].str.lower()\n",
    "\n",
    "concated_farmers['reason_dropped_out'] = concated_farmers['reason_dropped_out'].str.lower()\n",
    "concated_farmers['organic_status'] = concated_farmers['organic_status'].str.lower()"
   ]
  },
  {
   "cell_type": "code",
   "execution_count": 2109,
   "metadata": {},
   "outputs": [
    {
     "data": {
      "text/plain": [
       "array(['dropout', 'new', 'org', 'under review', 'mabagrown', 'reinstated',\n",
       "       'uncertified', None], dtype=object)"
      ]
     },
     "execution_count": 2109,
     "metadata": {},
     "output_type": "execute_result"
    }
   ],
   "source": [
    "concated_farmers['organic_status'].unique()"
   ]
  },
  {
   "cell_type": "code",
   "execution_count": 2110,
   "metadata": {},
   "outputs": [
    {
     "data": {
      "text/plain": [
       "array(['rosella', '5 sinakoma', 'chillie', 'rosella, chilli, paprika',\n",
       "       'paprika', 'chilli, paprika', 'rosell', 'ronald', 'roseela',\n",
       "       'chilli', 'chilli,paprika', 'rosella, strophantus',\n",
       "       'chillie/paprica ', 'paprika, chilli', 'chili', 'baobab', 'marula',\n",
       "       'baobab + ximenia', 'trichillia', 'baobab+kms+ximenia',\n",
       "       'kalahari melon seed', 'ximenia caffra', 'kms + ximenia',\n",
       "       'ximenia americana', 'devils claw', 'wild gotu kola'], dtype=object)"
      ]
     },
     "execution_count": 2110,
     "metadata": {},
     "output_type": "execute_result"
    }
   ],
   "source": [
    "concated_farmers['species'].unique()\n",
    "\n",
    "# correct to types rosella, chili, paprika,  \n",
    "\n",
    "# '5 sinakoma', 'robert' correct to None"
   ]
  },
  {
   "cell_type": "code",
   "execution_count": 2111,
   "metadata": {},
   "outputs": [],
   "source": [
    "concated_farmers['species'] = concated_farmers['species'].replace({'5 sinakoma': 'None', 'ronald':  'None','roseela': 'rosella', 'rosell': 'rosella', \n",
    "                                                                   'paprika, chilli': 'chilli, paprika', 'chili': 'chilli',\n",
    "                                                                    'chilli,paprika':'chilli, paprika', 'chillie': 'chilli', \n",
    "                                                                    'chillie/paprica ': 'chilli, paprika',\n",
    "                                                                    'baobab + ximenia': 'baobab, ximenia', 'baobab+kms+ximenia': 'baobab, kms, ximenia',\n",
    "                                                                    'kalahari melon seed': 'kalahari, melon, seed', 'kms + ximenia': 'kms, ximenia'\n",
    "                                                                    })"
   ]
  },
  {
   "cell_type": "code",
   "execution_count": 2112,
   "metadata": {},
   "outputs": [
    {
     "data": {
      "text/plain": [
       "False    11518\n",
       "True      9092\n",
       "Name: wc_nr, dtype: int64"
      ]
     },
     "execution_count": 2112,
     "metadata": {},
     "output_type": "execute_result"
    }
   ],
   "source": [
    "concated_farmers['wc_nr'].duplicated().value_counts()"
   ]
  },
  {
   "cell_type": "code",
   "execution_count": 2113,
   "metadata": {},
   "outputs": [
    {
     "data": {
      "text/plain": [
       "wc_info_bayoba_1_df  0      21146.0\n",
       "                     1      21833.0\n",
       "                     2      21147.0\n",
       "                     3      22986.0\n",
       "                     4      21148.0\n",
       "                             ...   \n",
       "wc_info__WCOrg_1_df  560     1057.0\n",
       "                     561    21040.0\n",
       "                     562     2555.0\n",
       "                     563     2066.0\n",
       "                     564     1069.0\n",
       "Name: wc_nr, Length: 11517, dtype: float64"
      ]
     },
     "execution_count": 2113,
     "metadata": {},
     "output_type": "execute_result"
    }
   ],
   "source": [
    "# 11517 wc_nr\n",
    "concated_farmers[~concated_farmers['wc_nr'].isna()]['wc_nr']"
   ]
  },
  {
   "cell_type": "code",
   "execution_count": 2114,
   "metadata": {},
   "outputs": [
    {
     "data": {
      "text/plain": [
       "True     20576\n",
       "False       34\n",
       "Name: ward_nr, dtype: int64"
      ]
     },
     "execution_count": 2114,
     "metadata": {},
     "output_type": "execute_result"
    }
   ],
   "source": [
    "concated_farmers['ward_nr'].duplicated().value_counts()"
   ]
  },
  {
   "cell_type": "code",
   "execution_count": 2115,
   "metadata": {},
   "outputs": [
    {
     "data": {
      "text/plain": [
       "False"
      ]
     },
     "execution_count": 2115,
     "metadata": {},
     "output_type": "execute_result"
    }
   ],
   "source": [
    "concated_farmers['ward_nr'].is_unique"
   ]
  },
  {
   "cell_type": "code",
   "execution_count": 2116,
   "metadata": {},
   "outputs": [
    {
     "data": {
      "text/plain": [
       "array([ 6.,  5., 19., 11.,  3., 15., 17.,  7.,  2., 16., 10.,  8.,  9.,\n",
       "       12.,  4., 13., 14., 18., 21., 23., 27., nan,  1., 25., 20., 29.,\n",
       "       33., 24., 28., 30., 31., 34., 32., 22.])"
      ]
     },
     "execution_count": 2116,
     "metadata": {},
     "output_type": "execute_result"
    }
   ],
   "source": [
    "concated_farmers['ward_nr'].unique()"
   ]
  },
  {
   "cell_type": "code",
   "execution_count": 2117,
   "metadata": {},
   "outputs": [
    {
     "data": {
      "text/plain": [
       "id                                                      1414\n",
       "og_nr                                                13190.0\n",
       "og_code                                                MBOGR\n",
       "production_unit                          Mashonaland Central\n",
       "area                                                   Mbire\n",
       "ward_nr/name                                               6\n",
       "species                                              rosella\n",
       "surname                                             Gurupira\n",
       "first_names                                          Vengayi\n",
       "sex                                                     male\n",
       "id_number                                       71-083974N71\n",
       "date_of_birth                                            NaT\n",
       "date_contracted                          2147-12-06 00:00:00\n",
       "date_dropped_out                         2020-03-19 00:00:00\n",
       "reason_dropped_out                                own choice\n",
       "address                     Nyarutomno sch, Box 500, Mbire D\n",
       "organic_status                                       dropout\n",
       "organic_status_from_date             2017-12-06 00:00:00.000\n",
       "fairtrade                                              False\n",
       "ward_nr                                                  6.0\n",
       "wc_nr                                                    NaN\n",
       "wc_code                                                  NaN\n",
       "Name: (OGInfo__OGMB_1_df, 239), dtype: object"
      ]
     },
     "execution_count": 2117,
     "metadata": {},
     "output_type": "execute_result"
    }
   ],
   "source": [
    "concated_farmers.iloc[0]"
   ]
  },
  {
   "cell_type": "code",
   "execution_count": 2118,
   "metadata": {},
   "outputs": [],
   "source": [
    "# concated_farmers has 9094 rows × 22 columns"
   ]
  },
  {
   "cell_type": "code",
   "execution_count": 2119,
   "metadata": {},
   "outputs": [
    {
     "name": "stdout",
     "output_type": "stream",
     "text": [
      "<class 'pandas.core.frame.DataFrame'>\n",
      "MultiIndex: 20610 entries, ('OGInfo__OGMB_1_df', 239) to ('wc_info__WCOrg_1_df', 564)\n",
      "Data columns (total 22 columns):\n",
      " #   Column                    Non-Null Count  Dtype         \n",
      "---  ------                    --------------  -----         \n",
      " 0   id                        20610 non-null  int64         \n",
      " 1   og_nr                     9093 non-null   float64       \n",
      " 2   og_code                   9093 non-null   object        \n",
      " 3   production_unit           20610 non-null  object        \n",
      " 4   area                      20610 non-null  object        \n",
      " 5   ward_nr/name              20190 non-null  object        \n",
      " 6   species                   20610 non-null  object        \n",
      " 7   surname                   20608 non-null  object        \n",
      " 8   first_names               20606 non-null  object        \n",
      " 9   sex                       20610 non-null  object        \n",
      " 10  id_number                 18657 non-null  object        \n",
      " 11  date_of_birth             2544 non-null   datetime64[ns]\n",
      " 12  date_contracted           20600 non-null  datetime64[ns]\n",
      " 13  date_dropped_out          9298 non-null   datetime64[ns]\n",
      " 14  reason_dropped_out        7637 non-null   object        \n",
      " 15  address                   20136 non-null  object        \n",
      " 16  organic_status            20609 non-null  object        \n",
      " 17  organic_status_from_date  16507 non-null  object        \n",
      " 18  fairtrade                 20610 non-null  bool          \n",
      " 19  ward_nr                   20190 non-null  float64       \n",
      " 20  wc_nr                     11517 non-null  float64       \n",
      " 21  wc_code                   11517 non-null  object        \n",
      "dtypes: bool(1), datetime64[ns](3), float64(3), int64(1), object(14)\n",
      "memory usage: 3.7+ MB\n"
     ]
    }
   ],
   "source": [
    "concated_farmers.info()"
   ]
  },
  {
   "attachments": {},
   "cell_type": "markdown",
   "metadata": {},
   "source": [
    "#### Upload the prepared farmer data"
   ]
  },
  {
   "cell_type": "code",
   "execution_count": 2120,
   "metadata": {},
   "outputs": [
    {
     "name": "stdout",
     "output_type": "stream",
     "text": [
      "The all_farmers table was imported successfully.\n"
     ]
    }
   ],
   "source": [
    "table_name = 'all_farmers'\n",
    "\n",
    "if engine!=None:\n",
    "    try:\n",
    "        concated_farmers.to_sql(name=table_name, # Name of SQL table\n",
    "                                con=engine, # Engine or connection\n",
    "                                if_exists='replace', # Drop the table before inserting new values \n",
    "                                schema=schema, # Use schmea that was defined earlier\n",
    "                                index=False, # Write DataFrame index as a column\n",
    "                                chunksize=5000, # Specify the number of rows in each batch to be written at a time\n",
    "                                method='multi') # Pass multiple values in a single INSERT clause\n",
    "        print(f\"The {table_name} table was imported successfully.\")\n",
    "    # Error handling\n",
    "    except (Exception, psycopg2.DatabaseError) as error:\n",
    "        print(error)\n",
    "        engine = None"
   ]
  }
 ],
 "metadata": {
  "kernelspec": {
   "display_name": "nf_sql",
   "language": "python",
   "name": "python3"
  },
  "language_info": {
   "codemirror_mode": {
    "name": "ipython",
    "version": 3
   },
   "file_extension": ".py",
   "mimetype": "text/x-python",
   "name": "python",
   "nbconvert_exporter": "python",
   "pygments_lexer": "ipython3",
   "version": "3.9.16"
  },
  "orig_nbformat": 4
 },
 "nbformat": 4,
 "nbformat_minor": 2
}
