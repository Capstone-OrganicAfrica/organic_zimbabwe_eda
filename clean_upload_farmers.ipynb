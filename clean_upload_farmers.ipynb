{
 "cells": [
  {
   "cell_type": "code",
   "execution_count": 898,
   "metadata": {},
   "outputs": [],
   "source": [
    "import pandas as pd\n",
    "import sql_functions as sf"
   ]
  },
  {
   "cell_type": "code",
   "execution_count": 899,
   "metadata": {},
   "outputs": [],
   "source": [
    "schema = 'organic_africa' # UPDATE 'TABLE_SCHEMA' based on schema used in class \n",
    "engine = sf.get_engine()"
   ]
  },
  {
   "attachments": {},
   "cell_type": "markdown",
   "metadata": {},
   "source": [
    "**Importing tables of farmer data as Dataframes**\n",
    "\n",
    "5 Dfs stored in one Dictionary "
   ]
  },
  {
   "cell_type": "code",
   "execution_count": 900,
   "metadata": {},
   "outputs": [],
   "source": [
    "all_farmers = {}\n",
    "\n",
    "all_farmers['OGInfo__OGMB_1_df'] = sf.get_dataframe(f'SELECT * FROM {schema}.\"OGInfo__OGMB_1\"')\n",
    "all_farmers['OG_Info__OGOrg_1_df'] = sf.get_dataframe(f'SELECT * FROM {schema}.\"OG_Info__OGOrg_1\"')\n",
    "all_farmers['wc_info_bayoba_1_df'] = sf.get_dataframe(f'SELECT * FROM {schema}.\"wc_info_bayoba_1\"')\n",
    "all_farmers['wc_info__WCOrg_1_df'] = sf.get_dataframe(f'SELECT * FROM {schema}.\"wc_info__WCOrg_1\"')\n",
    "all_farmers['OG_Info_reserve__OGOrg_1_df'] = sf.get_dataframe(f'SELECT * FROM {schema}.\"OG_Info_reserve__OGOrg_1\"')\n"
   ]
  },
  {
   "attachments": {},
   "cell_type": "markdown",
   "metadata": {},
   "source": [
    "## Preparing imported farmer dataframes"
   ]
  },
  {
   "attachments": {},
   "cell_type": "markdown",
   "metadata": {},
   "source": [
    "**Preparing farmer dfs to concat them to one big df**\n",
    "\n",
    "1. Reduce all farmer df to the necessary ~20 columns \n",
    "2. Set all column names to lowercase\n",
    "3. Renaming equal columns with equal column names\n",
    "4. Checking and converting data types"
   ]
  },
  {
   "cell_type": "code",
   "execution_count": 901,
   "metadata": {},
   "outputs": [],
   "source": [
    "# Reduce all farmer df to the necessary ~20 columns\n",
    "all_farmers['OGInfo__OGMB_1_df'] = all_farmers['OGInfo__OGMB_1_df'][['ID', 'OG_Nr', 'OG_code', 'Production_Unit', 'Area', 'Ward_Nr/Name',\n",
    "                                                                   'Species', 'Surname', 'First_names', 'Sex', 'ID_Number',\n",
    "                                                                   'Date_of_Birth', 'date_contracted', 'Date_dropped_out', 'Reason_dropped_out',\n",
    "                                                                   'Address', 'OG_Organic_Status', 'OG_Organic_Status_from_Date', 'Fairtrade']]\n",
    "\n",
    "all_farmers['OG_Info__OGOrg_1_df'] = all_farmers['OG_Info__OGOrg_1_df'][['ID', 'OG_Nr', 'OG_code', 'Production_Unit', 'Area', 'Ward_Nr/Name',\n",
    "                                                                       'Species', 'Surname', 'First_names', 'Sex', 'ID_Number', 'Date_of_Birth',\n",
    "                                                                       'Date_contracted', 'Date_dropped_out', 'Reason_dropped_out', \n",
    "                                                                       'OG_Organic_Status', 'Address', 'OG_Organic_Status_from_Date',\n",
    "                                                                       'Fairtrade','ward_nr']]\n",
    "\n",
    "all_farmers['wc_info_bayoba_1_df'] = all_farmers['wc_info_bayoba_1_df'][['ID', 'WC_Nr', 'WC_code', 'Production_Unit', 'Area', 'Ward_Nr/Name',\n",
    "                                                                       'Species', 'Surname', 'First_names', 'Sex', 'ID_Number', \n",
    "                                                                       'Date_contracted', 'Date_dropped_out',\n",
    "                                                                       'Reason_dropped_out', 'Address', 'Organic_Status', \n",
    "                                                                       'Organic_Status_from_Date', 'Fairtrade', 'Date_of_Birth', 'ward_nr']]\n",
    "\n",
    "all_farmers['wc_info__WCOrg_1_df'] = all_farmers['wc_info__WCOrg_1_df'][['ID', 'WC_Nr', 'WC_code', 'Production_Unit', 'Area', 'Ward_Nr/Name',\n",
    "                                                                       'Species', 'Surname', 'First_names', 'Sex', 'ID_Number',\n",
    "                                                                       'Date_contracted', 'Reason_dropped_out', 'Address', 'Organic_Status', \n",
    "                                                                       'Organic_Status_from_Date', 'Fairtrade', 'Date_dropped_out', 'ward_nr']]\n",
    "\n",
    "all_farmers['OG_Info_reserve__OGOrg_1_df'] = all_farmers['OG_Info_reserve__OGOrg_1_df'][['ID', 'OG_Nr', 'OG_code', 'Production_Unit', 'Area', \n",
    "                                                                                       'Ward_Nr/Name', 'Species', 'Surname', 'First_names',\n",
    "                                                                                       'Sex', 'ID_Number', 'Date_of_Birth', 'Date_contracted',\n",
    "                                                                                       'Date_dropped_out', 'Reason_dropped_out', 'Address',\n",
    "                                                                                       'OG_Organic_Status', 'OG_Organic_Status_from_Date', \n",
    "                                                                                       'Fairtrade', 'ward_nr']]"
   ]
  },
  {
   "cell_type": "code",
   "execution_count": 902,
   "metadata": {},
   "outputs": [],
   "source": [
    "# Set all column names to lowercase\n",
    "\n",
    "for df in all_farmers.values():\n",
    "    #print(df)\n",
    "    df.columns = map(str.lower, df.columns)"
   ]
  },
  {
   "cell_type": "code",
   "execution_count": 903,
   "metadata": {},
   "outputs": [
    {
     "data": {
      "text/plain": [
       "Index(['id', 'og_nr', 'og_code', 'production_unit', 'area', 'ward_nr/name',\n",
       "       'species', 'surname', 'first_names', 'sex', 'id_number',\n",
       "       'date_of_birth', 'date_contracted', 'date_dropped_out',\n",
       "       'reason_dropped_out', 'address', 'og_organic_status',\n",
       "       'og_organic_status_from_date', 'fairtrade'],\n",
       "      dtype='object')"
      ]
     },
     "execution_count": 903,
     "metadata": {},
     "output_type": "execute_result"
    }
   ],
   "source": [
    "all_farmers['OGInfo__OGMB_1_df'].columns"
   ]
  },
  {
   "cell_type": "code",
   "execution_count": 904,
   "metadata": {},
   "outputs": [],
   "source": [
    "# Renaming equal columns with equal column names\n",
    "all_farmers['OGInfo__OGMB_1_df'].rename(columns={'og_organic_status':'organic_status', 'og_organic_status_from_date':'organic_status_from_date'}, inplace=True)\n",
    "all_farmers['OG_Info__OGOrg_1_df'].rename(columns={'og_organic_status':'organic_status', 'og_organic_status_from_date':'organic_status_from_date'}, inplace=True)\n",
    "all_farmers['OG_Info_reserve__OGOrg_1_df'].rename(columns={'og_organic_status':'organic_status', 'og_organic_status_from_date':'organic_status_from_date'}, inplace=True)"
   ]
  },
  {
   "attachments": {},
   "cell_type": "markdown",
   "metadata": {},
   "source": [
    "**4. Checking and converting data types**\n",
    "\n",
    ".info() .dtype() type()\n",
    "\n",
    "pd.to_datetime()"
   ]
  },
  {
   "attachments": {},
   "cell_type": "markdown",
   "metadata": {},
   "source": [
    "#### OGInfo__OGMB_1"
   ]
  },
  {
   "cell_type": "code",
   "execution_count": 905,
   "metadata": {},
   "outputs": [
    {
     "name": "stdout",
     "output_type": "stream",
     "text": [
      "<class 'pandas.core.frame.DataFrame'>\n",
      "RangeIndex: 8166 entries, 0 to 8165\n",
      "Data columns (total 19 columns):\n",
      " #   Column                    Non-Null Count  Dtype         \n",
      "---  ------                    --------------  -----         \n",
      " 0   id                        8166 non-null   int64         \n",
      " 1   og_nr                     8166 non-null   int64         \n",
      " 2   og_code                   8166 non-null   object        \n",
      " 3   production_unit           8166 non-null   object        \n",
      " 4   area                      8166 non-null   object        \n",
      " 5   ward_nr/name              8166 non-null   int64         \n",
      " 6   species                   8166 non-null   object        \n",
      " 7   surname                   8166 non-null   object        \n",
      " 8   first_names               8166 non-null   object        \n",
      " 9   sex                       8166 non-null   object        \n",
      " 10  id_number                 7073 non-null   object        \n",
      " 11  date_of_birth             657 non-null    datetime64[ns]\n",
      " 12  date_contracted           8164 non-null   datetime64[ns]\n",
      " 13  date_dropped_out          7053 non-null   datetime64[ns]\n",
      " 14  reason_dropped_out        6587 non-null   object        \n",
      " 15  address                   8111 non-null   object        \n",
      " 16  organic_status            8166 non-null   object        \n",
      " 17  organic_status_from_date  8166 non-null   object        \n",
      " 18  fairtrade                 8166 non-null   bool          \n",
      "dtypes: bool(1), datetime64[ns](3), int64(3), object(12)\n",
      "memory usage: 1.1+ MB\n"
     ]
    }
   ],
   "source": [
    "all_farmers['OGInfo__OGMB_1_df'].info()\n",
    "\n",
    "# looks good!"
   ]
  },
  {
   "cell_type": "code",
   "execution_count": 906,
   "metadata": {},
   "outputs": [
    {
     "data": {
      "text/plain": [
       "pandas._libs.tslibs.timestamps.Timestamp"
      ]
     },
     "execution_count": 906,
     "metadata": {},
     "output_type": "execute_result"
    }
   ],
   "source": [
    "type(all_farmers['OGInfo__OGMB_1_df']['date_contracted'][2])"
   ]
  },
  {
   "cell_type": "code",
   "execution_count": 907,
   "metadata": {},
   "outputs": [
    {
     "data": {
      "text/plain": [
       "'12/07/2022'"
      ]
     },
     "execution_count": 907,
     "metadata": {},
     "output_type": "execute_result"
    }
   ],
   "source": [
    "all_farmers['OG_Info__OGOrg_1_df']['date_contracted'][0]"
   ]
  },
  {
   "attachments": {},
   "cell_type": "markdown",
   "metadata": {},
   "source": [
    "#### OG_Info__OGOrg_1_df"
   ]
  },
  {
   "cell_type": "code",
   "execution_count": 908,
   "metadata": {},
   "outputs": [
    {
     "name": "stdout",
     "output_type": "stream",
     "text": [
      "<class 'pandas.core.frame.DataFrame'>\n",
      "RangeIndex: 1403 entries, 0 to 1402\n",
      "Data columns (total 20 columns):\n",
      " #   Column                    Non-Null Count  Dtype \n",
      "---  ------                    --------------  ----- \n",
      " 0   id                        1403 non-null   int64 \n",
      " 1   og_nr                     1403 non-null   int64 \n",
      " 2   og_code                   1403 non-null   object\n",
      " 3   production_unit           1403 non-null   object\n",
      " 4   area                      1403 non-null   object\n",
      " 5   ward_nr/name              1403 non-null   object\n",
      " 6   species                   1403 non-null   object\n",
      " 7   surname                   1403 non-null   object\n",
      " 8   first_names               1403 non-null   object\n",
      " 9   sex                       1403 non-null   object\n",
      " 10  id_number                 1310 non-null   object\n",
      " 11  date_of_birth             930 non-null    object\n",
      " 12  date_contracted           1403 non-null   object\n",
      " 13  date_dropped_out          405 non-null    object\n",
      " 14  reason_dropped_out        264 non-null    object\n",
      " 15  organic_status            1403 non-null   object\n",
      " 16  address                   1192 non-null   object\n",
      " 17  organic_status_from_date  1403 non-null   object\n",
      " 18  fairtrade                 1403 non-null   bool  \n",
      " 19  ward_nr                   1403 non-null   int64 \n",
      "dtypes: bool(1), int64(3), object(16)\n",
      "memory usage: 209.8+ KB\n"
     ]
    }
   ],
   "source": [
    "all_farmers['OG_Info__OGOrg_1_df'].info()\n",
    "\n",
    "# need to convert date_of_birth, date_contracted and date_dropped_out"
   ]
  },
  {
   "cell_type": "code",
   "execution_count": 909,
   "metadata": {},
   "outputs": [],
   "source": [
    "# converted date_of_birth\n",
    "all_farmers['OG_Info__OGOrg_1_df']['date_of_birth'] = pd.to_datetime(all_farmers['OG_Info__OGOrg_1_df']['date_of_birth'])"
   ]
  },
  {
   "attachments": {},
   "cell_type": "markdown",
   "metadata": {},
   "source": [
    "Converting 'date_contracted' to datetime"
   ]
  },
  {
   "cell_type": "code",
   "execution_count": 910,
   "metadata": {},
   "outputs": [],
   "source": [
    "# all_farmers['OG_Info__OGOrg_1_df']['date_contracted'] = pd.to_datetime(all_farmers['OG_Info__OGOrg_1_df']['date_contracted'])\n",
    "\n",
    "# Out of bounds nanosecond timestamp: 218-08-19 00:00:00 present at position 59\n",
    "\n",
    "# all_farmers['OG_Info__OGOrg_1_df'].iloc[59,]\n",
    "# all_farmers['OG_Info__OGOrg_1_df'].loc[all_farmers['OG_Info__OGOrg_1_df']['date_contracted']=='218-08-19']\n",
    "\n",
    "# Did not found 218-08-19 at index 59 but the seems to get corrected in the next steps"
   ]
  },
  {
   "cell_type": "code",
   "execution_count": 911,
   "metadata": {},
   "outputs": [
    {
     "data": {
      "text/plain": [
       "'31/8/18'"
      ]
     },
     "execution_count": 911,
     "metadata": {},
     "output_type": "execute_result"
    }
   ],
   "source": [
    "all_farmers['OG_Info__OGOrg_1_df'].iloc[59]['date_contracted']"
   ]
  },
  {
   "cell_type": "code",
   "execution_count": 912,
   "metadata": {},
   "outputs": [],
   "source": [
    "all_farmers['OG_Info__OGOrg_1_df'].replace('218-08-19', '2018-08-19', inplace=True)\n"
   ]
  },
  {
   "cell_type": "code",
   "execution_count": 913,
   "metadata": {},
   "outputs": [
    {
     "data": {
      "text/plain": [
       "50       31/8/18\n",
       "51       31/8/18\n",
       "52    03/12/2012\n",
       "53    03/12/2012\n",
       "54       31/8/18\n",
       "55       31/8/18\n",
       "56    06/12/2012\n",
       "57      24/02/23\n",
       "58    06/12/2012\n",
       "59       31/8/18\n",
       "Name: date_contracted, dtype: object"
      ]
     },
     "execution_count": 913,
     "metadata": {},
     "output_type": "execute_result"
    }
   ],
   "source": [
    "all_farmers['OG_Info__OGOrg_1_df'].iloc[50:60,12]"
   ]
  },
  {
   "attachments": {},
   "cell_type": "markdown",
   "metadata": {},
   "source": [
    "Solving date_contracted errors with padding strings"
   ]
  },
  {
   "cell_type": "code",
   "execution_count": 914,
   "metadata": {},
   "outputs": [],
   "source": [
    "# Function to pad/fill to short dates like 5/3/18 to 05/03/2018\n",
    "\n",
    "def str_date_pad(val):\n",
    "    \n",
    "    if type(val) is str and len(val) < 10: \n",
    "\n",
    "        date_splitted = val.split('/')\n",
    "        \n",
    "        if len(date_splitted[1]) < 2 : \n",
    "            date_splitted[1] = '0' + date_splitted[1]\n",
    "\n",
    "        if (len(date_splitted[2]) < 4) and (int(date_splitted[2]) < 24) : \n",
    "            date_splitted[2] = '20' + date_splitted[2]\n",
    "        if len(date_splitted[2]) < 4 and int(date_splitted[2]) > 23 : \n",
    "            date_splitted[2] = '19' + date_splitted[2]\n",
    "    \n",
    "        val = '/'.join(date_splitted)\n",
    "        #print(val)\n",
    "        return val\n",
    "    \n",
    "    else:\n",
    "        return val\n"
   ]
  },
  {
   "cell_type": "code",
   "execution_count": 915,
   "metadata": {},
   "outputs": [],
   "source": [
    "# Apply function to df\n",
    "all_farmers['OG_Info__OGOrg_1_df']['date_contracted'] = all_farmers['OG_Info__OGOrg_1_df']['date_contracted'].apply(str_date_pad)"
   ]
  },
  {
   "cell_type": "code",
   "execution_count": 916,
   "metadata": {},
   "outputs": [
    {
     "data": {
      "text/plain": [
       "50    31/08/2018\n",
       "51    31/08/2018\n",
       "52    03/12/2012\n",
       "53    03/12/2012\n",
       "54    31/08/2018\n",
       "55    31/08/2018\n",
       "56    06/12/2012\n",
       "57    24/02/2023\n",
       "58    06/12/2012\n",
       "59    31/08/2018\n",
       "Name: date_contracted, dtype: object"
      ]
     },
     "execution_count": 916,
     "metadata": {},
     "output_type": "execute_result"
    }
   ],
   "source": [
    "all_farmers['OG_Info__OGOrg_1_df'].iloc[50:60,12]"
   ]
  },
  {
   "cell_type": "code",
   "execution_count": 917,
   "metadata": {},
   "outputs": [],
   "source": [
    "# Now after padding convert str to datetime gives still problem !\n",
    "# all_farmers['OG_Info__OGOrg_1_df']['date_contracted'] = pd.to_datetime(all_farmers['OG_Info__OGOrg_1_df']['date_contracted'])"
   ]
  },
  {
   "cell_type": "code",
   "execution_count": 918,
   "metadata": {},
   "outputs": [
    {
     "data": {
      "text/html": [
       "<div>\n",
       "<style scoped>\n",
       "    .dataframe tbody tr th:only-of-type {\n",
       "        vertical-align: middle;\n",
       "    }\n",
       "\n",
       "    .dataframe tbody tr th {\n",
       "        vertical-align: top;\n",
       "    }\n",
       "\n",
       "    .dataframe thead th {\n",
       "        text-align: right;\n",
       "    }\n",
       "</style>\n",
       "<table border=\"1\" class=\"dataframe\">\n",
       "  <thead>\n",
       "    <tr style=\"text-align: right;\">\n",
       "      <th></th>\n",
       "      <th>id</th>\n",
       "      <th>og_nr</th>\n",
       "      <th>og_code</th>\n",
       "      <th>production_unit</th>\n",
       "      <th>area</th>\n",
       "      <th>ward_nr/name</th>\n",
       "      <th>species</th>\n",
       "      <th>surname</th>\n",
       "      <th>first_names</th>\n",
       "      <th>sex</th>\n",
       "      <th>id_number</th>\n",
       "      <th>date_of_birth</th>\n",
       "      <th>date_contracted</th>\n",
       "      <th>date_dropped_out</th>\n",
       "      <th>reason_dropped_out</th>\n",
       "      <th>organic_status</th>\n",
       "      <th>address</th>\n",
       "      <th>organic_status_from_date</th>\n",
       "      <th>fairtrade</th>\n",
       "      <th>ward_nr</th>\n",
       "    </tr>\n",
       "  </thead>\n",
       "  <tbody>\n",
       "    <tr>\n",
       "      <th>741</th>\n",
       "      <td>2140</td>\n",
       "      <td>19482</td>\n",
       "      <td>BNOG</td>\n",
       "      <td>Matabeleland North</td>\n",
       "      <td>Binga</td>\n",
       "      <td>5 Sinakoma</td>\n",
       "      <td>Rosella</td>\n",
       "      <td>Mpande</td>\n",
       "      <td>Josephine</td>\n",
       "      <td>female</td>\n",
       "      <td>06-010710E06</td>\n",
       "      <td>1968-10-01</td>\n",
       "      <td>19/08/19218</td>\n",
       "      <td>None</td>\n",
       "      <td>None</td>\n",
       "      <td>Org</td>\n",
       "      <td>Dongamuse Primary School Box 83 Binga</td>\n",
       "      <td>2018-08-19</td>\n",
       "      <td>True</td>\n",
       "      <td>5</td>\n",
       "    </tr>\n",
       "  </tbody>\n",
       "</table>\n",
       "</div>"
      ],
      "text/plain": [
       "       id  og_nr og_code     production_unit   area ward_nr/name  species  \\\n",
       "741  2140  19482    BNOG  Matabeleland North  Binga   5 Sinakoma  Rosella   \n",
       "\n",
       "    surname first_names     sex     id_number date_of_birth date_contracted  \\\n",
       "741  Mpande   Josephine  female  06-010710E06    1968-10-01     19/08/19218   \n",
       "\n",
       "    date_dropped_out reason_dropped_out organic_status  \\\n",
       "741             None               None            Org   \n",
       "\n",
       "                                   address organic_status_from_date  \\\n",
       "741  Dongamuse Primary School Box 83 Binga               2018-08-19   \n",
       "\n",
       "     fairtrade  ward_nr  \n",
       "741       True        5  "
      ]
     },
     "execution_count": 918,
     "metadata": {},
     "output_type": "execute_result"
    }
   ],
   "source": [
    "# Problem with date '19/08/19218' at 54 BUT its in position/row_index 741\n",
    "all_farmers['OG_Info__OGOrg_1_df'].loc[all_farmers['OG_Info__OGOrg_1_df']['date_contracted']=='19/08/19218']\n",
    "\n",
    "# cause year '218' padded to '19218'"
   ]
  },
  {
   "cell_type": "code",
   "execution_count": 919,
   "metadata": {},
   "outputs": [],
   "source": [
    "# Solve through replacing '19/08/19218' by '19/08/2018' and dropping '01/00/2022'\n",
    "all_farmers['OG_Info__OGOrg_1_df'].replace('19/08/19218', '19/08/2018', inplace=True)\n",
    "all_farmers['OG_Info__OGOrg_1_df'].replace('01/00/2022', None, inplace=True)"
   ]
  },
  {
   "cell_type": "code",
   "execution_count": 920,
   "metadata": {},
   "outputs": [
    {
     "data": {
      "text/plain": [
       "'19/08/2018'"
      ]
     },
     "execution_count": 920,
     "metadata": {},
     "output_type": "execute_result"
    }
   ],
   "source": [
    "all_farmers['OG_Info__OGOrg_1_df'].iloc[741]['date_contracted']"
   ]
  },
  {
   "cell_type": "code",
   "execution_count": 921,
   "metadata": {},
   "outputs": [
    {
     "name": "stderr",
     "output_type": "stream",
     "text": [
      "/var/folders/x5/v1d8l9v94679fhr8vd07ys9c0000gn/T/ipykernel_2393/2690701254.py:2: UserWarning: Parsing dates in DD/MM/YYYY format when dayfirst=False (the default) was specified. This may lead to inconsistently parsed dates! Specify a format to ensure consistent parsing.\n",
      "  all_farmers['OG_Info__OGOrg_1_df']['date_contracted'] = pd.to_datetime(all_farmers['OG_Info__OGOrg_1_df']['date_contracted'])\n"
     ]
    }
   ],
   "source": [
    "# Ready to convert str to datetime\n",
    "all_farmers['OG_Info__OGOrg_1_df']['date_contracted'] = pd.to_datetime(all_farmers['OG_Info__OGOrg_1_df']['date_contracted'])"
   ]
  },
  {
   "cell_type": "code",
   "execution_count": 922,
   "metadata": {},
   "outputs": [
    {
     "data": {
      "text/plain": [
       "Timestamp('2012-06-12 00:00:00')"
      ]
     },
     "execution_count": 922,
     "metadata": {},
     "output_type": "execute_result"
    }
   ],
   "source": [
    "all_farmers['OG_Info__OGOrg_1_df'].iloc[65]['date_contracted']"
   ]
  },
  {
   "cell_type": "code",
   "execution_count": 923,
   "metadata": {},
   "outputs": [
    {
     "name": "stderr",
     "output_type": "stream",
     "text": [
      "/var/folders/x5/v1d8l9v94679fhr8vd07ys9c0000gn/T/ipykernel_2393/3224109209.py:1: UserWarning: Parsing dates in DD/MM/YYYY format when dayfirst=False (the default) was specified. This may lead to inconsistently parsed dates! Specify a format to ensure consistent parsing.\n",
      "  all_farmers['OG_Info__OGOrg_1_df']['date_dropped_out'] = pd.to_datetime(all_farmers['OG_Info__OGOrg_1_df']['date_dropped_out'])\n"
     ]
    }
   ],
   "source": [
    "all_farmers['OG_Info__OGOrg_1_df']['date_dropped_out'] = pd.to_datetime(all_farmers['OG_Info__OGOrg_1_df']['date_dropped_out'])"
   ]
  },
  {
   "cell_type": "code",
   "execution_count": 924,
   "metadata": {},
   "outputs": [
    {
     "name": "stdout",
     "output_type": "stream",
     "text": [
      "<class 'pandas.core.frame.DataFrame'>\n",
      "RangeIndex: 1403 entries, 0 to 1402\n",
      "Data columns (total 20 columns):\n",
      " #   Column                    Non-Null Count  Dtype         \n",
      "---  ------                    --------------  -----         \n",
      " 0   id                        1403 non-null   int64         \n",
      " 1   og_nr                     1403 non-null   int64         \n",
      " 2   og_code                   1403 non-null   object        \n",
      " 3   production_unit           1403 non-null   object        \n",
      " 4   area                      1403 non-null   object        \n",
      " 5   ward_nr/name              1403 non-null   object        \n",
      " 6   species                   1403 non-null   object        \n",
      " 7   surname                   1403 non-null   object        \n",
      " 8   first_names               1403 non-null   object        \n",
      " 9   sex                       1403 non-null   object        \n",
      " 10  id_number                 1310 non-null   object        \n",
      " 11  date_of_birth             930 non-null    datetime64[ns]\n",
      " 12  date_contracted           1402 non-null   datetime64[ns]\n",
      " 13  date_dropped_out          405 non-null    datetime64[ns]\n",
      " 14  reason_dropped_out        264 non-null    object        \n",
      " 15  organic_status            1403 non-null   object        \n",
      " 16  address                   1192 non-null   object        \n",
      " 17  organic_status_from_date  1403 non-null   object        \n",
      " 18  fairtrade                 1403 non-null   bool          \n",
      " 19  ward_nr                   1403 non-null   int64         \n",
      "dtypes: bool(1), datetime64[ns](3), int64(3), object(13)\n",
      "memory usage: 209.8+ KB\n"
     ]
    }
   ],
   "source": [
    "all_farmers['OG_Info__OGOrg_1_df'].info()"
   ]
  },
  {
   "attachments": {},
   "cell_type": "markdown",
   "metadata": {},
   "source": [
    "#### wc_info_bayoba_1_df"
   ]
  },
  {
   "cell_type": "code",
   "execution_count": 925,
   "metadata": {},
   "outputs": [
    {
     "name": "stdout",
     "output_type": "stream",
     "text": [
      "<class 'pandas.core.frame.DataFrame'>\n",
      "RangeIndex: 10952 entries, 0 to 10951\n",
      "Data columns (total 20 columns):\n",
      " #   Column                    Non-Null Count  Dtype  \n",
      "---  ------                    --------------  -----  \n",
      " 0   id                        10952 non-null  int64  \n",
      " 1   wc_nr                     10952 non-null  int64  \n",
      " 2   wc_code                   10952 non-null  object \n",
      " 3   production_unit           10952 non-null  object \n",
      " 4   area                      10952 non-null  object \n",
      " 5   ward_nr/name              10535 non-null  object \n",
      " 6   species                   10952 non-null  object \n",
      " 7   surname                   10951 non-null  object \n",
      " 8   first_names               10949 non-null  object \n",
      " 9   sex                       10952 non-null  object \n",
      " 10  id_number                 10248 non-null  object \n",
      " 11  date_contracted           10951 non-null  object \n",
      " 12  date_dropped_out          1924 non-null   object \n",
      " 13  reason_dropped_out        1054 non-null   object \n",
      " 14  address                   10779 non-null  object \n",
      " 15  organic_status            10952 non-null  object \n",
      " 16  organic_status_from_date  6867 non-null   object \n",
      " 17  fairtrade                 10952 non-null  bool   \n",
      " 18  date_of_birth             990 non-null    object \n",
      " 19  ward_nr                   10535 non-null  float64\n",
      "dtypes: bool(1), float64(1), int64(2), object(16)\n",
      "memory usage: 1.6+ MB\n"
     ]
    }
   ],
   "source": [
    "all_farmers['wc_info_bayoba_1_df'].info()\n",
    "\n",
    "# need to convert date_of_birth, date_contracted and date_dropped_out"
   ]
  },
  {
   "cell_type": "code",
   "execution_count": 926,
   "metadata": {},
   "outputs": [],
   "source": [
    "all_farmers['wc_info_bayoba_1_df']['date_of_birth'] = pd.to_datetime(all_farmers['wc_info_bayoba_1_df']['date_of_birth'])"
   ]
  },
  {
   "cell_type": "code",
   "execution_count": 927,
   "metadata": {},
   "outputs": [],
   "source": [
    "all_farmers['wc_info_bayoba_1_df']['date_contracted'] = pd.to_datetime(all_farmers['wc_info_bayoba_1_df']['date_contracted'])"
   ]
  },
  {
   "cell_type": "code",
   "execution_count": 928,
   "metadata": {},
   "outputs": [],
   "source": [
    "all_farmers['wc_info_bayoba_1_df']['date_dropped_out'] = pd.to_datetime(all_farmers['wc_info_bayoba_1_df']['date_dropped_out'])"
   ]
  },
  {
   "cell_type": "code",
   "execution_count": 929,
   "metadata": {},
   "outputs": [
    {
     "name": "stdout",
     "output_type": "stream",
     "text": [
      "<class 'pandas.core.frame.DataFrame'>\n",
      "RangeIndex: 10952 entries, 0 to 10951\n",
      "Data columns (total 20 columns):\n",
      " #   Column                    Non-Null Count  Dtype         \n",
      "---  ------                    --------------  -----         \n",
      " 0   id                        10952 non-null  int64         \n",
      " 1   wc_nr                     10952 non-null  int64         \n",
      " 2   wc_code                   10952 non-null  object        \n",
      " 3   production_unit           10952 non-null  object        \n",
      " 4   area                      10952 non-null  object        \n",
      " 5   ward_nr/name              10535 non-null  object        \n",
      " 6   species                   10952 non-null  object        \n",
      " 7   surname                   10951 non-null  object        \n",
      " 8   first_names               10949 non-null  object        \n",
      " 9   sex                       10952 non-null  object        \n",
      " 10  id_number                 10248 non-null  object        \n",
      " 11  date_contracted           10951 non-null  datetime64[ns]\n",
      " 12  date_dropped_out          1924 non-null   datetime64[ns]\n",
      " 13  reason_dropped_out        1054 non-null   object        \n",
      " 14  address                   10779 non-null  object        \n",
      " 15  organic_status            10952 non-null  object        \n",
      " 16  organic_status_from_date  6867 non-null   object        \n",
      " 17  fairtrade                 10952 non-null  bool          \n",
      " 18  date_of_birth             990 non-null    datetime64[ns]\n",
      " 19  ward_nr                   10535 non-null  float64       \n",
      "dtypes: bool(1), datetime64[ns](3), float64(1), int64(2), object(13)\n",
      "memory usage: 1.6+ MB\n"
     ]
    }
   ],
   "source": [
    "all_farmers['wc_info_bayoba_1_df'].info()"
   ]
  },
  {
   "attachments": {},
   "cell_type": "markdown",
   "metadata": {},
   "source": [
    "#### wc_info__WCOrg_1_df"
   ]
  },
  {
   "cell_type": "code",
   "execution_count": 930,
   "metadata": {},
   "outputs": [
    {
     "name": "stdout",
     "output_type": "stream",
     "text": [
      "<class 'pandas.core.frame.DataFrame'>\n",
      "RangeIndex: 565 entries, 0 to 564\n",
      "Data columns (total 19 columns):\n",
      " #   Column                    Non-Null Count  Dtype  \n",
      "---  ------                    --------------  -----  \n",
      " 0   id                        565 non-null    int64  \n",
      " 1   wc_nr                     565 non-null    int64  \n",
      " 2   wc_code                   565 non-null    object \n",
      " 3   production_unit           565 non-null    object \n",
      " 4   area                      565 non-null    object \n",
      " 5   ward_nr/name              563 non-null    object \n",
      " 6   species                   565 non-null    object \n",
      " 7   surname                   564 non-null    object \n",
      " 8   first_names               564 non-null    object \n",
      " 9   sex                       565 non-null    object \n",
      " 10  id_number                 472 non-null    object \n",
      " 11  date_contracted           558 non-null    object \n",
      " 12  reason_dropped_out        142 non-null    object \n",
      " 13  address                   530 non-null    object \n",
      " 14  organic_status            564 non-null    object \n",
      " 15  organic_status_from_date  547 non-null    object \n",
      " 16  fairtrade                 565 non-null    bool   \n",
      " 17  date_dropped_out          426 non-null    object \n",
      " 18  ward_nr                   563 non-null    float64\n",
      "dtypes: bool(1), float64(1), int64(2), object(15)\n",
      "memory usage: 80.1+ KB\n"
     ]
    }
   ],
   "source": [
    "all_farmers['wc_info__WCOrg_1_df'].info()\n",
    "\n",
    "# has no date_of_birth column -> 19 columns\n",
    "# need to convert date_contracted and date_dropped_out"
   ]
  },
  {
   "cell_type": "code",
   "execution_count": 931,
   "metadata": {},
   "outputs": [],
   "source": [
    "all_farmers['wc_info__WCOrg_1_df']['date_contracted'] = pd.to_datetime(all_farmers['wc_info__WCOrg_1_df']['date_contracted'])"
   ]
  },
  {
   "cell_type": "code",
   "execution_count": 932,
   "metadata": {},
   "outputs": [
    {
     "name": "stderr",
     "output_type": "stream",
     "text": [
      "/var/folders/x5/v1d8l9v94679fhr8vd07ys9c0000gn/T/ipykernel_2393/68422980.py:1: UserWarning: Parsing dates in DD/MM/YYYY format when dayfirst=False (the default) was specified. This may lead to inconsistently parsed dates! Specify a format to ensure consistent parsing.\n",
      "  all_farmers['wc_info__WCOrg_1_df']['date_dropped_out'] = pd.to_datetime(all_farmers['wc_info__WCOrg_1_df']['date_dropped_out'])\n"
     ]
    }
   ],
   "source": [
    "all_farmers['wc_info__WCOrg_1_df']['date_dropped_out'] = pd.to_datetime(all_farmers['wc_info__WCOrg_1_df']['date_dropped_out'])"
   ]
  },
  {
   "cell_type": "code",
   "execution_count": 933,
   "metadata": {},
   "outputs": [
    {
     "name": "stdout",
     "output_type": "stream",
     "text": [
      "<class 'pandas.core.frame.DataFrame'>\n",
      "RangeIndex: 565 entries, 0 to 564\n",
      "Data columns (total 19 columns):\n",
      " #   Column                    Non-Null Count  Dtype         \n",
      "---  ------                    --------------  -----         \n",
      " 0   id                        565 non-null    int64         \n",
      " 1   wc_nr                     565 non-null    int64         \n",
      " 2   wc_code                   565 non-null    object        \n",
      " 3   production_unit           565 non-null    object        \n",
      " 4   area                      565 non-null    object        \n",
      " 5   ward_nr/name              563 non-null    object        \n",
      " 6   species                   565 non-null    object        \n",
      " 7   surname                   564 non-null    object        \n",
      " 8   first_names               564 non-null    object        \n",
      " 9   sex                       565 non-null    object        \n",
      " 10  id_number                 472 non-null    object        \n",
      " 11  date_contracted           558 non-null    datetime64[ns]\n",
      " 12  reason_dropped_out        142 non-null    object        \n",
      " 13  address                   530 non-null    object        \n",
      " 14  organic_status            564 non-null    object        \n",
      " 15  organic_status_from_date  547 non-null    object        \n",
      " 16  fairtrade                 565 non-null    bool          \n",
      " 17  date_dropped_out          426 non-null    datetime64[ns]\n",
      " 18  ward_nr                   563 non-null    float64       \n",
      "dtypes: bool(1), datetime64[ns](2), float64(1), int64(2), object(13)\n",
      "memory usage: 80.1+ KB\n"
     ]
    }
   ],
   "source": [
    "all_farmers['wc_info__WCOrg_1_df'].info()"
   ]
  },
  {
   "attachments": {},
   "cell_type": "markdown",
   "metadata": {},
   "source": [
    "#### OG_Info_reserve__OGOrg_1_df"
   ]
  },
  {
   "cell_type": "code",
   "execution_count": 934,
   "metadata": {},
   "outputs": [
    {
     "name": "stdout",
     "output_type": "stream",
     "text": [
      "<class 'pandas.core.frame.DataFrame'>\n",
      "RangeIndex: 795 entries, 0 to 794\n",
      "Data columns (total 20 columns):\n",
      " #   Column                    Non-Null Count  Dtype  \n",
      "---  ------                    --------------  -----  \n",
      " 0   id                        795 non-null    int64  \n",
      " 1   og_nr                     795 non-null    int64  \n",
      " 2   og_code                   795 non-null    object \n",
      " 3   production_unit           795 non-null    object \n",
      " 4   area                      795 non-null    object \n",
      " 5   ward_nr/name              794 non-null    object \n",
      " 6   species                   795 non-null    object \n",
      " 7   surname                   795 non-null    object \n",
      " 8   first_names               795 non-null    object \n",
      " 9   sex                       795 non-null    object \n",
      " 10  id_number                 734 non-null    object \n",
      " 11  date_of_birth             267 non-null    object \n",
      " 12  date_contracted           795 non-null    object \n",
      " 13  date_dropped_out          255 non-null    object \n",
      " 14  reason_dropped_out        257 non-null    object \n",
      " 15  address                   785 non-null    object \n",
      " 16  organic_status            795 non-null    object \n",
      " 17  organic_status_from_date  795 non-null    object \n",
      " 18  fairtrade                 795 non-null    bool   \n",
      " 19  ward_nr                   794 non-null    float64\n",
      "dtypes: bool(1), float64(1), int64(2), object(16)\n",
      "memory usage: 118.9+ KB\n"
     ]
    }
   ],
   "source": [
    "all_farmers['OG_Info_reserve__OGOrg_1_df'].info()\n",
    "\n",
    "# need to convert date_of_birth, date_contracted and date_dropped_out"
   ]
  },
  {
   "cell_type": "code",
   "execution_count": 935,
   "metadata": {},
   "outputs": [],
   "source": [
    "all_farmers['OG_Info_reserve__OGOrg_1_df']['date_of_birth'] = pd.to_datetime(all_farmers['OG_Info_reserve__OGOrg_1_df']['date_of_birth'])"
   ]
  },
  {
   "cell_type": "code",
   "execution_count": 936,
   "metadata": {},
   "outputs": [],
   "source": [
    "all_farmers['OG_Info_reserve__OGOrg_1_df']['date_contracted'] = pd.to_datetime(all_farmers['OG_Info__OGOrg_1_df']['date_contracted'])"
   ]
  },
  {
   "cell_type": "code",
   "execution_count": 937,
   "metadata": {},
   "outputs": [],
   "source": [
    "all_farmers['OG_Info_reserve__OGOrg_1_df']['date_dropped_out'] = pd.to_datetime(all_farmers['OG_Info_reserve__OGOrg_1_df']['date_dropped_out'])"
   ]
  },
  {
   "cell_type": "code",
   "execution_count": 938,
   "metadata": {},
   "outputs": [
    {
     "name": "stdout",
     "output_type": "stream",
     "text": [
      "<class 'pandas.core.frame.DataFrame'>\n",
      "RangeIndex: 795 entries, 0 to 794\n",
      "Data columns (total 20 columns):\n",
      " #   Column                    Non-Null Count  Dtype         \n",
      "---  ------                    --------------  -----         \n",
      " 0   id                        795 non-null    int64         \n",
      " 1   og_nr                     795 non-null    int64         \n",
      " 2   og_code                   795 non-null    object        \n",
      " 3   production_unit           795 non-null    object        \n",
      " 4   area                      795 non-null    object        \n",
      " 5   ward_nr/name              794 non-null    object        \n",
      " 6   species                   795 non-null    object        \n",
      " 7   surname                   795 non-null    object        \n",
      " 8   first_names               795 non-null    object        \n",
      " 9   sex                       795 non-null    object        \n",
      " 10  id_number                 734 non-null    object        \n",
      " 11  date_of_birth             267 non-null    datetime64[ns]\n",
      " 12  date_contracted           795 non-null    datetime64[ns]\n",
      " 13  date_dropped_out          255 non-null    datetime64[ns]\n",
      " 14  reason_dropped_out        257 non-null    object        \n",
      " 15  address                   785 non-null    object        \n",
      " 16  organic_status            795 non-null    object        \n",
      " 17  organic_status_from_date  795 non-null    object        \n",
      " 18  fairtrade                 795 non-null    bool          \n",
      " 19  ward_nr                   794 non-null    float64       \n",
      "dtypes: bool(1), datetime64[ns](3), float64(1), int64(2), object(13)\n",
      "memory usage: 118.9+ KB\n"
     ]
    }
   ],
   "source": [
    "all_farmers['OG_Info_reserve__OGOrg_1_df'].info()"
   ]
  },
  {
   "attachments": {},
   "cell_type": "markdown",
   "metadata": {},
   "source": [
    "### Adding Birthdates to wc_info_WCOrg_1_df"
   ]
  },
  {
   "cell_type": "code",
   "execution_count": 939,
   "metadata": {},
   "outputs": [],
   "source": [
    "all_birthdates_df = sf.get_dataframe(f'SELECT * FROM {schema}.\"all_birthdates\"')"
   ]
  },
  {
   "cell_type": "code",
   "execution_count": 940,
   "metadata": {},
   "outputs": [
    {
     "data": {
      "text/plain": [
       "453"
      ]
     },
     "execution_count": 940,
     "metadata": {},
     "output_type": "execute_result"
    }
   ],
   "source": [
    "len(list(set(all_birthdates_df[\"wc_nr\"]) & set(all_farmers['wc_info__WCOrg_1_df'][['wc_nr']].squeeze())))"
   ]
  },
  {
   "attachments": {},
   "cell_type": "markdown",
   "metadata": {},
   "source": [
    "#### Merge all_birthdates_df to wc_info__WCOrg_1_df"
   ]
  },
  {
   "cell_type": "code",
   "execution_count": 941,
   "metadata": {},
   "outputs": [],
   "source": [
    "all_farmers['wc_info__WCOrg_1_df'] = pd.merge(all_farmers['wc_info__WCOrg_1_df'], all_birthdates_df, how=\"left\", on=\"wc_nr\")"
   ]
  },
  {
   "cell_type": "code",
   "execution_count": 942,
   "metadata": {},
   "outputs": [
    {
     "data": {
      "text/html": [
       "<div>\n",
       "<style scoped>\n",
       "    .dataframe tbody tr th:only-of-type {\n",
       "        vertical-align: middle;\n",
       "    }\n",
       "\n",
       "    .dataframe tbody tr th {\n",
       "        vertical-align: top;\n",
       "    }\n",
       "\n",
       "    .dataframe thead th {\n",
       "        text-align: right;\n",
       "    }\n",
       "</style>\n",
       "<table border=\"1\" class=\"dataframe\">\n",
       "  <thead>\n",
       "    <tr style=\"text-align: right;\">\n",
       "      <th></th>\n",
       "      <th>id</th>\n",
       "      <th>wc_nr</th>\n",
       "      <th>wc_code</th>\n",
       "      <th>production_unit</th>\n",
       "      <th>area</th>\n",
       "      <th>ward_nr/name</th>\n",
       "      <th>species</th>\n",
       "      <th>surname</th>\n",
       "      <th>first_names</th>\n",
       "      <th>sex</th>\n",
       "      <th>id_number</th>\n",
       "      <th>date_contracted</th>\n",
       "      <th>reason_dropped_out</th>\n",
       "      <th>address</th>\n",
       "      <th>organic_status</th>\n",
       "      <th>organic_status_from_date</th>\n",
       "      <th>fairtrade</th>\n",
       "      <th>date_dropped_out</th>\n",
       "      <th>ward_nr</th>\n",
       "      <th>date_of_birth</th>\n",
       "    </tr>\n",
       "  </thead>\n",
       "  <tbody>\n",
       "    <tr>\n",
       "      <th>0</th>\n",
       "      <td>4942</td>\n",
       "      <td>3962</td>\n",
       "      <td>HWWC</td>\n",
       "      <td>Matabeleland North</td>\n",
       "      <td>Hwange</td>\n",
       "      <td>6 Gondwa</td>\n",
       "      <td>Devils Claw</td>\n",
       "      <td>Moyo</td>\n",
       "      <td>Pios</td>\n",
       "      <td>male</td>\n",
       "      <td>None</td>\n",
       "      <td>2014-07-07</td>\n",
       "      <td>None</td>\n",
       "      <td>Secretariat Sch Vic Falls</td>\n",
       "      <td>Org</td>\n",
       "      <td>None</td>\n",
       "      <td>False</td>\n",
       "      <td>NaT</td>\n",
       "      <td>6.0</td>\n",
       "      <td>NaT</td>\n",
       "    </tr>\n",
       "    <tr>\n",
       "      <th>1</th>\n",
       "      <td>5608</td>\n",
       "      <td>3692</td>\n",
       "      <td>HWWC</td>\n",
       "      <td>Matabeleland North</td>\n",
       "      <td>Hwange</td>\n",
       "      <td>6 Gondwa</td>\n",
       "      <td>Devils Claw</td>\n",
       "      <td>Ncube</td>\n",
       "      <td>Mwayani</td>\n",
       "      <td>male</td>\n",
       "      <td>79-124391X79</td>\n",
       "      <td>2015-03-14</td>\n",
       "      <td>None</td>\n",
       "      <td>Mironga School, Vic Falls</td>\n",
       "      <td>Org</td>\n",
       "      <td>None</td>\n",
       "      <td>False</td>\n",
       "      <td>NaT</td>\n",
       "      <td>6.0</td>\n",
       "      <td>NaT</td>\n",
       "    </tr>\n",
       "    <tr>\n",
       "      <th>2</th>\n",
       "      <td>10630</td>\n",
       "      <td>1773</td>\n",
       "      <td>HWWC</td>\n",
       "      <td>Matabeleland North</td>\n",
       "      <td>Hwange</td>\n",
       "      <td>3 Kachechete</td>\n",
       "      <td>Devils Claw</td>\n",
       "      <td>Ncube</td>\n",
       "      <td>Engel</td>\n",
       "      <td>female</td>\n",
       "      <td>08-161126N39</td>\n",
       "      <td>2012-10-06</td>\n",
       "      <td>None</td>\n",
       "      <td>Bethesda Sch, Vic-Falls</td>\n",
       "      <td>Org</td>\n",
       "      <td>2017-11-11</td>\n",
       "      <td>False</td>\n",
       "      <td>2017-11-21</td>\n",
       "      <td>3.0</td>\n",
       "      <td>NaT</td>\n",
       "    </tr>\n",
       "    <tr>\n",
       "      <th>3</th>\n",
       "      <td>1763</td>\n",
       "      <td>1772</td>\n",
       "      <td>HWWC</td>\n",
       "      <td>Matabeleland North</td>\n",
       "      <td>Hwange</td>\n",
       "      <td>3 Kachechete</td>\n",
       "      <td>Devils Claw</td>\n",
       "      <td>Dube</td>\n",
       "      <td>Samson</td>\n",
       "      <td>Male</td>\n",
       "      <td>79-031011X79</td>\n",
       "      <td>2012-10-06</td>\n",
       "      <td>None</td>\n",
       "      <td>Bethesda Sch, Vic-Falls</td>\n",
       "      <td>Org</td>\n",
       "      <td>2017-06-19</td>\n",
       "      <td>False</td>\n",
       "      <td>NaT</td>\n",
       "      <td>3.0</td>\n",
       "      <td>1957-10-02</td>\n",
       "    </tr>\n",
       "    <tr>\n",
       "      <th>4</th>\n",
       "      <td>1766</td>\n",
       "      <td>1775</td>\n",
       "      <td>HWWC</td>\n",
       "      <td>Matabeleland North</td>\n",
       "      <td>Hwange</td>\n",
       "      <td>3 Kachechete</td>\n",
       "      <td>Devils Claw</td>\n",
       "      <td>Ngwenya</td>\n",
       "      <td>Joshua</td>\n",
       "      <td>Male</td>\n",
       "      <td>79-011290L79</td>\n",
       "      <td>2012-10-06</td>\n",
       "      <td>None</td>\n",
       "      <td>Bethesda Sch, Vic-Falls</td>\n",
       "      <td>Org</td>\n",
       "      <td>2017-06-19</td>\n",
       "      <td>False</td>\n",
       "      <td>NaT</td>\n",
       "      <td>3.0</td>\n",
       "      <td>1955-10-05</td>\n",
       "    </tr>\n",
       "    <tr>\n",
       "      <th>...</th>\n",
       "      <td>...</td>\n",
       "      <td>...</td>\n",
       "      <td>...</td>\n",
       "      <td>...</td>\n",
       "      <td>...</td>\n",
       "      <td>...</td>\n",
       "      <td>...</td>\n",
       "      <td>...</td>\n",
       "      <td>...</td>\n",
       "      <td>...</td>\n",
       "      <td>...</td>\n",
       "      <td>...</td>\n",
       "      <td>...</td>\n",
       "      <td>...</td>\n",
       "      <td>...</td>\n",
       "      <td>...</td>\n",
       "      <td>...</td>\n",
       "      <td>...</td>\n",
       "      <td>...</td>\n",
       "      <td>...</td>\n",
       "    </tr>\n",
       "    <tr>\n",
       "      <th>560</th>\n",
       "      <td>11146</td>\n",
       "      <td>1057</td>\n",
       "      <td>CMWC</td>\n",
       "      <td>Manicaland</td>\n",
       "      <td>Chimanimani Rusitu</td>\n",
       "      <td>21</td>\n",
       "      <td>Wild Gotu kola</td>\n",
       "      <td>Zaranyika</td>\n",
       "      <td>Vaina</td>\n",
       "      <td>female</td>\n",
       "      <td>None</td>\n",
       "      <td>NaT</td>\n",
       "      <td>None</td>\n",
       "      <td>Hode Pry Sch, Bag 2051, Chimanimani</td>\n",
       "      <td>Reinstated</td>\n",
       "      <td>2019-03-09</td>\n",
       "      <td>False</td>\n",
       "      <td>2021-01-29</td>\n",
       "      <td>21.0</td>\n",
       "      <td>NaT</td>\n",
       "    </tr>\n",
       "    <tr>\n",
       "      <th>561</th>\n",
       "      <td>11147</td>\n",
       "      <td>21040</td>\n",
       "      <td>CMWC</td>\n",
       "      <td>Manicaland</td>\n",
       "      <td>Chimanimani Rusitu</td>\n",
       "      <td>21</td>\n",
       "      <td>Wild Gotu kola</td>\n",
       "      <td>Chibawana</td>\n",
       "      <td>Violet</td>\n",
       "      <td>female</td>\n",
       "      <td>None</td>\n",
       "      <td>NaT</td>\n",
       "      <td>None</td>\n",
       "      <td>Hode Pry Sch, Bag 2051, Chimanimani</td>\n",
       "      <td>Reinstated</td>\n",
       "      <td>2019-03-09</td>\n",
       "      <td>False</td>\n",
       "      <td>2021-01-29</td>\n",
       "      <td>21.0</td>\n",
       "      <td>NaT</td>\n",
       "    </tr>\n",
       "    <tr>\n",
       "      <th>562</th>\n",
       "      <td>11148</td>\n",
       "      <td>2555</td>\n",
       "      <td>CMWC</td>\n",
       "      <td>Manicaland</td>\n",
       "      <td>Chimanimani Rusitu</td>\n",
       "      <td>21</td>\n",
       "      <td>Wild Gotu kola</td>\n",
       "      <td>Hofisi</td>\n",
       "      <td>Christine</td>\n",
       "      <td>female</td>\n",
       "      <td>None</td>\n",
       "      <td>NaT</td>\n",
       "      <td>None</td>\n",
       "      <td>Hode Pry Sch, Bag 2051, Chimanimani</td>\n",
       "      <td>Reinstated</td>\n",
       "      <td>None</td>\n",
       "      <td>False</td>\n",
       "      <td>2021-01-29</td>\n",
       "      <td>21.0</td>\n",
       "      <td>NaT</td>\n",
       "    </tr>\n",
       "    <tr>\n",
       "      <th>563</th>\n",
       "      <td>11149</td>\n",
       "      <td>2066</td>\n",
       "      <td>CMWC</td>\n",
       "      <td>Manicaland</td>\n",
       "      <td>Chimanimani Rusitu</td>\n",
       "      <td>21</td>\n",
       "      <td>Wild Gotu Kola</td>\n",
       "      <td>Mudada</td>\n",
       "      <td>Marjorie</td>\n",
       "      <td>female</td>\n",
       "      <td>None</td>\n",
       "      <td>NaT</td>\n",
       "      <td>None</td>\n",
       "      <td>Hode Pry Sch, Bag 2051, Chimanimani</td>\n",
       "      <td>Reinstated</td>\n",
       "      <td>2019-03-09</td>\n",
       "      <td>False</td>\n",
       "      <td>2021-01-29</td>\n",
       "      <td>21.0</td>\n",
       "      <td>NaT</td>\n",
       "    </tr>\n",
       "    <tr>\n",
       "      <th>564</th>\n",
       "      <td>11150</td>\n",
       "      <td>1069</td>\n",
       "      <td>CMWC</td>\n",
       "      <td>Manicaland</td>\n",
       "      <td>Chimanimani Rusitu</td>\n",
       "      <td>21</td>\n",
       "      <td>Wild gotu kola</td>\n",
       "      <td>Nyamwazha</td>\n",
       "      <td>Martha</td>\n",
       "      <td>female</td>\n",
       "      <td>None</td>\n",
       "      <td>NaT</td>\n",
       "      <td>None</td>\n",
       "      <td>Hode Pry Sch, Bag 2051, Chimanimani</td>\n",
       "      <td>Reinstated</td>\n",
       "      <td>2019-03-09</td>\n",
       "      <td>False</td>\n",
       "      <td>2021-01-29</td>\n",
       "      <td>21.0</td>\n",
       "      <td>NaT</td>\n",
       "    </tr>\n",
       "  </tbody>\n",
       "</table>\n",
       "<p>565 rows × 20 columns</p>\n",
       "</div>"
      ],
      "text/plain": [
       "        id  wc_nr wc_code     production_unit                area  \\\n",
       "0     4942   3962    HWWC  Matabeleland North              Hwange   \n",
       "1     5608   3692    HWWC  Matabeleland North              Hwange   \n",
       "2    10630   1773    HWWC  Matabeleland North              Hwange   \n",
       "3     1763   1772    HWWC  Matabeleland North              Hwange   \n",
       "4     1766   1775    HWWC  Matabeleland North              Hwange   \n",
       "..     ...    ...     ...                 ...                 ...   \n",
       "560  11146   1057    CMWC          Manicaland  Chimanimani Rusitu   \n",
       "561  11147  21040    CMWC          Manicaland  Chimanimani Rusitu   \n",
       "562  11148   2555    CMWC          Manicaland  Chimanimani Rusitu   \n",
       "563  11149   2066    CMWC          Manicaland  Chimanimani Rusitu   \n",
       "564  11150   1069    CMWC          Manicaland  Chimanimani Rusitu   \n",
       "\n",
       "     ward_nr/name         species    surname first_names     sex  \\\n",
       "0        6 Gondwa     Devils Claw       Moyo        Pios    male   \n",
       "1        6 Gondwa     Devils Claw      Ncube     Mwayani    male   \n",
       "2    3 Kachechete     Devils Claw      Ncube       Engel  female   \n",
       "3    3 Kachechete     Devils Claw       Dube      Samson    Male   \n",
       "4    3 Kachechete     Devils Claw    Ngwenya      Joshua    Male   \n",
       "..            ...             ...        ...         ...     ...   \n",
       "560            21  Wild Gotu kola  Zaranyika       Vaina  female   \n",
       "561            21  Wild Gotu kola  Chibawana      Violet  female   \n",
       "562            21  Wild Gotu kola     Hofisi   Christine  female   \n",
       "563            21  Wild Gotu Kola     Mudada    Marjorie  female   \n",
       "564            21  Wild gotu kola  Nyamwazha      Martha  female   \n",
       "\n",
       "        id_number date_contracted reason_dropped_out  \\\n",
       "0            None      2014-07-07               None   \n",
       "1    79-124391X79      2015-03-14               None   \n",
       "2    08-161126N39      2012-10-06               None   \n",
       "3    79-031011X79      2012-10-06               None   \n",
       "4    79-011290L79      2012-10-06               None   \n",
       "..            ...             ...                ...   \n",
       "560          None             NaT               None   \n",
       "561          None             NaT               None   \n",
       "562          None             NaT               None   \n",
       "563          None             NaT               None   \n",
       "564          None             NaT               None   \n",
       "\n",
       "                                 address organic_status  \\\n",
       "0              Secretariat Sch Vic Falls            Org   \n",
       "1              Mironga School, Vic Falls            Org   \n",
       "2                Bethesda Sch, Vic-Falls            Org   \n",
       "3                Bethesda Sch, Vic-Falls            Org   \n",
       "4                Bethesda Sch, Vic-Falls            Org   \n",
       "..                                   ...            ...   \n",
       "560  Hode Pry Sch, Bag 2051, Chimanimani     Reinstated   \n",
       "561  Hode Pry Sch, Bag 2051, Chimanimani     Reinstated   \n",
       "562  Hode Pry Sch, Bag 2051, Chimanimani     Reinstated   \n",
       "563  Hode Pry Sch, Bag 2051, Chimanimani     Reinstated   \n",
       "564  Hode Pry Sch, Bag 2051, Chimanimani     Reinstated   \n",
       "\n",
       "    organic_status_from_date  fairtrade date_dropped_out  ward_nr  \\\n",
       "0                       None      False              NaT      6.0   \n",
       "1                       None      False              NaT      6.0   \n",
       "2                 2017-11-11      False       2017-11-21      3.0   \n",
       "3                 2017-06-19      False              NaT      3.0   \n",
       "4                 2017-06-19      False              NaT      3.0   \n",
       "..                       ...        ...              ...      ...   \n",
       "560               2019-03-09      False       2021-01-29     21.0   \n",
       "561               2019-03-09      False       2021-01-29     21.0   \n",
       "562                     None      False       2021-01-29     21.0   \n",
       "563               2019-03-09      False       2021-01-29     21.0   \n",
       "564               2019-03-09      False       2021-01-29     21.0   \n",
       "\n",
       "    date_of_birth  \n",
       "0             NaT  \n",
       "1             NaT  \n",
       "2             NaT  \n",
       "3      1957-10-02  \n",
       "4      1955-10-05  \n",
       "..            ...  \n",
       "560           NaT  \n",
       "561           NaT  \n",
       "562           NaT  \n",
       "563           NaT  \n",
       "564           NaT  \n",
       "\n",
       "[565 rows x 20 columns]"
      ]
     },
     "execution_count": 942,
     "metadata": {},
     "output_type": "execute_result"
    }
   ],
   "source": [
    "all_farmers['wc_info__WCOrg_1_df']"
   ]
  },
  {
   "cell_type": "code",
   "execution_count": 943,
   "metadata": {},
   "outputs": [
    {
     "name": "stdout",
     "output_type": "stream",
     "text": [
      "<class 'pandas.core.frame.DataFrame'>\n",
      "Int64Index: 565 entries, 0 to 564\n",
      "Data columns (total 20 columns):\n",
      " #   Column                    Non-Null Count  Dtype         \n",
      "---  ------                    --------------  -----         \n",
      " 0   id                        565 non-null    int64         \n",
      " 1   wc_nr                     565 non-null    int64         \n",
      " 2   wc_code                   565 non-null    object        \n",
      " 3   production_unit           565 non-null    object        \n",
      " 4   area                      565 non-null    object        \n",
      " 5   ward_nr/name              563 non-null    object        \n",
      " 6   species                   565 non-null    object        \n",
      " 7   surname                   564 non-null    object        \n",
      " 8   first_names               564 non-null    object        \n",
      " 9   sex                       565 non-null    object        \n",
      " 10  id_number                 472 non-null    object        \n",
      " 11  date_contracted           558 non-null    datetime64[ns]\n",
      " 12  reason_dropped_out        142 non-null    object        \n",
      " 13  address                   530 non-null    object        \n",
      " 14  organic_status            564 non-null    object        \n",
      " 15  organic_status_from_date  547 non-null    object        \n",
      " 16  fairtrade                 565 non-null    bool          \n",
      " 17  date_dropped_out          426 non-null    datetime64[ns]\n",
      " 18  ward_nr                   563 non-null    float64       \n",
      " 19  date_of_birth             39 non-null     datetime64[ns]\n",
      "dtypes: bool(1), datetime64[ns](3), float64(1), int64(2), object(13)\n",
      "memory usage: 88.8+ KB\n"
     ]
    }
   ],
   "source": [
    "all_farmers['wc_info__WCOrg_1_df'].info()"
   ]
  },
  {
   "attachments": {},
   "cell_type": "markdown",
   "metadata": {},
   "source": [
    "## Final merge of farmer dfs to concated_farmers"
   ]
  },
  {
   "attachments": {},
   "cell_type": "markdown",
   "metadata": {},
   "source": [
    "Verify shapes of dfs"
   ]
  },
  {
   "cell_type": "code",
   "execution_count": 944,
   "metadata": {},
   "outputs": [
    {
     "name": "stdout",
     "output_type": "stream",
     "text": [
      "OGInfo__OGMB_1_df\n",
      "(8166, 19)\n",
      "OG_Info__OGOrg_1_df\n",
      "(1403, 20)\n",
      "wc_info_bayoba_1_df\n",
      "(10952, 20)\n",
      "wc_info__WCOrg_1_df\n",
      "(565, 20)\n",
      "OG_Info_reserve__OGOrg_1_df\n",
      "(795, 20)\n"
     ]
    }
   ],
   "source": [
    "for name, df in all_farmers.items():\n",
    "    print(name)\n",
    "    print(df.shape)"
   ]
  },
  {
   "cell_type": "code",
   "execution_count": 945,
   "metadata": {},
   "outputs": [
    {
     "data": {
      "text/plain": [
       "(8166, 20)"
      ]
     },
     "execution_count": 945,
     "metadata": {},
     "output_type": "execute_result"
    }
   ],
   "source": [
    "# ['ward_nr'] column still missing:\n",
    "\n",
    "all_farmers['OGInfo__OGMB_1_df'][['ward_nr']] = all_farmers['OGInfo__OGMB_1_df'][['ward_nr/name']]\n",
    "all_farmers['OGInfo__OGMB_1_df'].shape"
   ]
  },
  {
   "cell_type": "code",
   "execution_count": 946,
   "metadata": {},
   "outputs": [],
   "source": [
    "concated_farmers = pd.concat(all_farmers)"
   ]
  },
  {
   "cell_type": "code",
   "execution_count": 947,
   "metadata": {},
   "outputs": [
    {
     "name": "stdout",
     "output_type": "stream",
     "text": [
      "<class 'pandas.core.frame.DataFrame'>\n",
      "MultiIndex: 21881 entries, ('OGInfo__OGMB_1_df', 0) to ('OG_Info_reserve__OGOrg_1_df', 794)\n",
      "Data columns (total 22 columns):\n",
      " #   Column                    Non-Null Count  Dtype         \n",
      "---  ------                    --------------  -----         \n",
      " 0   id                        21881 non-null  int64         \n",
      " 1   og_nr                     10364 non-null  float64       \n",
      " 2   og_code                   10364 non-null  object        \n",
      " 3   production_unit           21881 non-null  object        \n",
      " 4   area                      21881 non-null  object        \n",
      " 5   ward_nr/name              21461 non-null  object        \n",
      " 6   species                   21881 non-null  object        \n",
      " 7   surname                   21879 non-null  object        \n",
      " 8   first_names               21877 non-null  object        \n",
      " 9   sex                       21881 non-null  object        \n",
      " 10  id_number                 19837 non-null  object        \n",
      " 11  date_of_birth             2883 non-null   datetime64[ns]\n",
      " 12  date_contracted           21870 non-null  datetime64[ns]\n",
      " 13  date_dropped_out          10063 non-null  datetime64[ns]\n",
      " 14  reason_dropped_out        8304 non-null   object        \n",
      " 15  address                   21397 non-null  object        \n",
      " 16  organic_status            21880 non-null  object        \n",
      " 17  organic_status_from_date  17778 non-null  object        \n",
      " 18  fairtrade                 21881 non-null  bool          \n",
      " 19  ward_nr                   21461 non-null  float64       \n",
      " 20  wc_nr                     11517 non-null  float64       \n",
      " 21  wc_code                   11517 non-null  object        \n",
      "dtypes: bool(1), datetime64[ns](3), float64(3), int64(1), object(14)\n",
      "memory usage: 3.9+ MB\n"
     ]
    }
   ],
   "source": [
    "concated_farmers.info()"
   ]
  },
  {
   "cell_type": "code",
   "execution_count": 948,
   "metadata": {},
   "outputs": [
    {
     "data": {
      "text/html": [
       "<div>\n",
       "<style scoped>\n",
       "    .dataframe tbody tr th:only-of-type {\n",
       "        vertical-align: middle;\n",
       "    }\n",
       "\n",
       "    .dataframe tbody tr th {\n",
       "        vertical-align: top;\n",
       "    }\n",
       "\n",
       "    .dataframe thead th {\n",
       "        text-align: right;\n",
       "    }\n",
       "</style>\n",
       "<table border=\"1\" class=\"dataframe\">\n",
       "  <thead>\n",
       "    <tr style=\"text-align: right;\">\n",
       "      <th></th>\n",
       "      <th></th>\n",
       "      <th>id</th>\n",
       "      <th>og_nr</th>\n",
       "      <th>og_code</th>\n",
       "      <th>production_unit</th>\n",
       "      <th>area</th>\n",
       "      <th>ward_nr/name</th>\n",
       "      <th>species</th>\n",
       "      <th>surname</th>\n",
       "      <th>first_names</th>\n",
       "      <th>sex</th>\n",
       "      <th>...</th>\n",
       "      <th>date_contracted</th>\n",
       "      <th>date_dropped_out</th>\n",
       "      <th>reason_dropped_out</th>\n",
       "      <th>address</th>\n",
       "      <th>organic_status</th>\n",
       "      <th>organic_status_from_date</th>\n",
       "      <th>fairtrade</th>\n",
       "      <th>ward_nr</th>\n",
       "      <th>wc_nr</th>\n",
       "      <th>wc_code</th>\n",
       "    </tr>\n",
       "  </thead>\n",
       "  <tbody>\n",
       "    <tr>\n",
       "      <th rowspan=\"5\" valign=\"top\">OGInfo__OGMB_1_df</th>\n",
       "      <th>0</th>\n",
       "      <td>1545</td>\n",
       "      <td>13137.0</td>\n",
       "      <td>MBOGR</td>\n",
       "      <td>Mashonaland Central</td>\n",
       "      <td>Mbire</td>\n",
       "      <td>15</td>\n",
       "      <td>Rosella</td>\n",
       "      <td>Nyamayaro</td>\n",
       "      <td>Phillip</td>\n",
       "      <td>male</td>\n",
       "      <td>...</td>\n",
       "      <td>NaT</td>\n",
       "      <td>2020-02-05</td>\n",
       "      <td>Own choice</td>\n",
       "      <td>Mahuwe sch, Box 92, Mbire D</td>\n",
       "      <td>Dropout</td>\n",
       "      <td>2017-12-02 00:00:00.000</td>\n",
       "      <td>False</td>\n",
       "      <td>15.0</td>\n",
       "      <td>NaN</td>\n",
       "      <td>NaN</td>\n",
       "    </tr>\n",
       "    <tr>\n",
       "      <th>1</th>\n",
       "      <td>12026</td>\n",
       "      <td>12116.0</td>\n",
       "      <td>MBOGR</td>\n",
       "      <td>Mashonaland Central</td>\n",
       "      <td>Mbire</td>\n",
       "      <td>6</td>\n",
       "      <td>Rosella</td>\n",
       "      <td>Funda</td>\n",
       "      <td>Jennie</td>\n",
       "      <td>female</td>\n",
       "      <td>...</td>\n",
       "      <td>2022-04-02</td>\n",
       "      <td>NaT</td>\n",
       "      <td>None</td>\n",
       "      <td>Kasuwo Primary School 346, Mbire</td>\n",
       "      <td>Mabagrown</td>\n",
       "      <td>2022-04-02 00:00:00.000</td>\n",
       "      <td>False</td>\n",
       "      <td>6.0</td>\n",
       "      <td>NaN</td>\n",
       "      <td>NaN</td>\n",
       "    </tr>\n",
       "    <tr>\n",
       "      <th>2</th>\n",
       "      <td>9914</td>\n",
       "      <td>23949.0</td>\n",
       "      <td>MBOGK</td>\n",
       "      <td>Mashonaland Central</td>\n",
       "      <td>Mbire</td>\n",
       "      <td>13</td>\n",
       "      <td>Rosella</td>\n",
       "      <td>Chingwena</td>\n",
       "      <td>Gladys</td>\n",
       "      <td>female</td>\n",
       "      <td>...</td>\n",
       "      <td>2020-03-23</td>\n",
       "      <td>2021-07-26</td>\n",
       "      <td>Area closed</td>\n",
       "      <td>Sapa Primary School P O Box 203</td>\n",
       "      <td>Dropout</td>\n",
       "      <td>2020-03-23 00:00:00.000</td>\n",
       "      <td>False</td>\n",
       "      <td>13.0</td>\n",
       "      <td>NaN</td>\n",
       "      <td>NaN</td>\n",
       "    </tr>\n",
       "    <tr>\n",
       "      <th>3</th>\n",
       "      <td>9915</td>\n",
       "      <td>23950.0</td>\n",
       "      <td>MBOGK</td>\n",
       "      <td>Mashonaland Central</td>\n",
       "      <td>Mbire</td>\n",
       "      <td>13</td>\n",
       "      <td>Rosella</td>\n",
       "      <td>Marumbe</td>\n",
       "      <td>Tariro</td>\n",
       "      <td>female</td>\n",
       "      <td>...</td>\n",
       "      <td>2020-03-23</td>\n",
       "      <td>2021-07-26</td>\n",
       "      <td>Area closed</td>\n",
       "      <td>Sapa Primary School P O Box 203</td>\n",
       "      <td>Dropout</td>\n",
       "      <td>2020-03-23 00:00:00.000</td>\n",
       "      <td>False</td>\n",
       "      <td>13.0</td>\n",
       "      <td>NaN</td>\n",
       "      <td>NaN</td>\n",
       "    </tr>\n",
       "    <tr>\n",
       "      <th>4</th>\n",
       "      <td>9916</td>\n",
       "      <td>23951.0</td>\n",
       "      <td>MBOGK</td>\n",
       "      <td>Mashonaland Central</td>\n",
       "      <td>Mbire</td>\n",
       "      <td>13</td>\n",
       "      <td>Rosella</td>\n",
       "      <td>Dambudzo</td>\n",
       "      <td>Ketai</td>\n",
       "      <td>female</td>\n",
       "      <td>...</td>\n",
       "      <td>2020-03-23</td>\n",
       "      <td>2021-07-26</td>\n",
       "      <td>Area closed</td>\n",
       "      <td>Sapa Primary School P O Box 203</td>\n",
       "      <td>Dropout</td>\n",
       "      <td>2020-03-23 00:00:00.000</td>\n",
       "      <td>False</td>\n",
       "      <td>13.0</td>\n",
       "      <td>NaN</td>\n",
       "      <td>NaN</td>\n",
       "    </tr>\n",
       "    <tr>\n",
       "      <th>...</th>\n",
       "      <th>...</th>\n",
       "      <td>...</td>\n",
       "      <td>...</td>\n",
       "      <td>...</td>\n",
       "      <td>...</td>\n",
       "      <td>...</td>\n",
       "      <td>...</td>\n",
       "      <td>...</td>\n",
       "      <td>...</td>\n",
       "      <td>...</td>\n",
       "      <td>...</td>\n",
       "      <td>...</td>\n",
       "      <td>...</td>\n",
       "      <td>...</td>\n",
       "      <td>...</td>\n",
       "      <td>...</td>\n",
       "      <td>...</td>\n",
       "      <td>...</td>\n",
       "      <td>...</td>\n",
       "      <td>...</td>\n",
       "      <td>...</td>\n",
       "      <td>...</td>\n",
       "    </tr>\n",
       "    <tr>\n",
       "      <th rowspan=\"5\" valign=\"top\">OG_Info_reserve__OGOrg_1_df</th>\n",
       "      <th>790</th>\n",
       "      <td>3546</td>\n",
       "      <td>20023.0</td>\n",
       "      <td>MUOG</td>\n",
       "      <td>Mashonaland Central</td>\n",
       "      <td>Mushumbi</td>\n",
       "      <td>3</td>\n",
       "      <td>Rosella, Chilli, Paprika</td>\n",
       "      <td>Myundia</td>\n",
       "      <td>Thandiwe</td>\n",
       "      <td>female</td>\n",
       "      <td>...</td>\n",
       "      <td>2018-08-18</td>\n",
       "      <td>NaT</td>\n",
       "      <td>None</td>\n",
       "      <td>ARDA Mushumbi, Box 210, Mbire</td>\n",
       "      <td>New</td>\n",
       "      <td>2019-02-01</td>\n",
       "      <td>False</td>\n",
       "      <td>3.0</td>\n",
       "      <td>NaN</td>\n",
       "      <td>NaN</td>\n",
       "    </tr>\n",
       "    <tr>\n",
       "      <th>791</th>\n",
       "      <td>3549</td>\n",
       "      <td>20026.0</td>\n",
       "      <td>MUOG</td>\n",
       "      <td>Mashonaland Central</td>\n",
       "      <td>Mushumbi</td>\n",
       "      <td>3</td>\n",
       "      <td>Rosella, Chilli, Paprika</td>\n",
       "      <td>Nhete</td>\n",
       "      <td>Stella</td>\n",
       "      <td>female</td>\n",
       "      <td>...</td>\n",
       "      <td>2018-08-18</td>\n",
       "      <td>NaT</td>\n",
       "      <td>None</td>\n",
       "      <td>ARDA Mushumbi, Box 210, Mbire</td>\n",
       "      <td>New</td>\n",
       "      <td>2019-02-01</td>\n",
       "      <td>False</td>\n",
       "      <td>3.0</td>\n",
       "      <td>NaN</td>\n",
       "      <td>NaN</td>\n",
       "    </tr>\n",
       "    <tr>\n",
       "      <th>792</th>\n",
       "      <td>3550</td>\n",
       "      <td>20027.0</td>\n",
       "      <td>MUOG</td>\n",
       "      <td>Mashonaland Central</td>\n",
       "      <td>Mushumbi</td>\n",
       "      <td>3</td>\n",
       "      <td>Rosella, Chilli, Paprika</td>\n",
       "      <td>Musiiwa</td>\n",
       "      <td>Admire</td>\n",
       "      <td>male</td>\n",
       "      <td>...</td>\n",
       "      <td>2019-07-31</td>\n",
       "      <td>NaT</td>\n",
       "      <td>None</td>\n",
       "      <td>ARDA Mushumbi, Box 210, Mbire</td>\n",
       "      <td>New</td>\n",
       "      <td>2019-02-01</td>\n",
       "      <td>False</td>\n",
       "      <td>3.0</td>\n",
       "      <td>NaN</td>\n",
       "      <td>NaN</td>\n",
       "    </tr>\n",
       "    <tr>\n",
       "      <th>793</th>\n",
       "      <td>3551</td>\n",
       "      <td>20028.0</td>\n",
       "      <td>MUOG</td>\n",
       "      <td>Mashonaland Central</td>\n",
       "      <td>Mushumbi</td>\n",
       "      <td>3</td>\n",
       "      <td>Rosella, Chilli, Paprika</td>\n",
       "      <td>Masodzi</td>\n",
       "      <td>Norah</td>\n",
       "      <td>female</td>\n",
       "      <td>...</td>\n",
       "      <td>2019-07-31</td>\n",
       "      <td>NaT</td>\n",
       "      <td>None</td>\n",
       "      <td>ARDA Mushumbi, Box 210, Mbire</td>\n",
       "      <td>New</td>\n",
       "      <td>2019-02-01</td>\n",
       "      <td>False</td>\n",
       "      <td>3.0</td>\n",
       "      <td>NaN</td>\n",
       "      <td>NaN</td>\n",
       "    </tr>\n",
       "    <tr>\n",
       "      <th>794</th>\n",
       "      <td>1861</td>\n",
       "      <td>14001.0</td>\n",
       "      <td>BNOG</td>\n",
       "      <td>Matabeleland North</td>\n",
       "      <td>Binga</td>\n",
       "      <td>11 Lubu</td>\n",
       "      <td>Rosella</td>\n",
       "      <td>Mwembe</td>\n",
       "      <td>Mutale</td>\n",
       "      <td>female</td>\n",
       "      <td>...</td>\n",
       "      <td>2018-08-30</td>\n",
       "      <td>NaT</td>\n",
       "      <td>None</td>\n",
       "      <td>Lubu primary School P Bag 5729 Binga</td>\n",
       "      <td>Org</td>\n",
       "      <td>2018-08-31</td>\n",
       "      <td>False</td>\n",
       "      <td>11.0</td>\n",
       "      <td>NaN</td>\n",
       "      <td>NaN</td>\n",
       "    </tr>\n",
       "  </tbody>\n",
       "</table>\n",
       "<p>21881 rows × 22 columns</p>\n",
       "</div>"
      ],
      "text/plain": [
       "                                    id    og_nr og_code      production_unit  \\\n",
       "OGInfo__OGMB_1_df           0     1545  13137.0   MBOGR  Mashonaland Central   \n",
       "                            1    12026  12116.0   MBOGR  Mashonaland Central   \n",
       "                            2     9914  23949.0   MBOGK  Mashonaland Central   \n",
       "                            3     9915  23950.0   MBOGK  Mashonaland Central   \n",
       "                            4     9916  23951.0   MBOGK  Mashonaland Central   \n",
       "...                                ...      ...     ...                  ...   \n",
       "OG_Info_reserve__OGOrg_1_df 790   3546  20023.0    MUOG  Mashonaland Central   \n",
       "                            791   3549  20026.0    MUOG  Mashonaland Central   \n",
       "                            792   3550  20027.0    MUOG  Mashonaland Central   \n",
       "                            793   3551  20028.0    MUOG  Mashonaland Central   \n",
       "                            794   1861  14001.0    BNOG   Matabeleland North   \n",
       "\n",
       "                                     area ward_nr/name  \\\n",
       "OGInfo__OGMB_1_df           0       Mbire           15   \n",
       "                            1       Mbire            6   \n",
       "                            2       Mbire           13   \n",
       "                            3       Mbire           13   \n",
       "                            4       Mbire           13   \n",
       "...                                   ...          ...   \n",
       "OG_Info_reserve__OGOrg_1_df 790  Mushumbi            3   \n",
       "                            791  Mushumbi            3   \n",
       "                            792  Mushumbi            3   \n",
       "                            793  Mushumbi            3   \n",
       "                            794     Binga      11 Lubu   \n",
       "\n",
       "                                                  species    surname  \\\n",
       "OGInfo__OGMB_1_df           0                     Rosella  Nyamayaro   \n",
       "                            1                     Rosella      Funda   \n",
       "                            2                     Rosella  Chingwena   \n",
       "                            3                     Rosella    Marumbe   \n",
       "                            4                     Rosella   Dambudzo   \n",
       "...                                                   ...        ...   \n",
       "OG_Info_reserve__OGOrg_1_df 790  Rosella, Chilli, Paprika    Myundia   \n",
       "                            791  Rosella, Chilli, Paprika      Nhete   \n",
       "                            792  Rosella, Chilli, Paprika    Musiiwa   \n",
       "                            793  Rosella, Chilli, Paprika    Masodzi   \n",
       "                            794                   Rosella     Mwembe   \n",
       "\n",
       "                                first_names     sex  ... date_contracted  \\\n",
       "OGInfo__OGMB_1_df           0       Phillip    male  ...             NaT   \n",
       "                            1        Jennie  female  ...      2022-04-02   \n",
       "                            2        Gladys  female  ...      2020-03-23   \n",
       "                            3        Tariro  female  ...      2020-03-23   \n",
       "                            4         Ketai  female  ...      2020-03-23   \n",
       "...                                     ...     ...  ...             ...   \n",
       "OG_Info_reserve__OGOrg_1_df 790    Thandiwe  female  ...      2018-08-18   \n",
       "                            791      Stella  female  ...      2018-08-18   \n",
       "                            792      Admire    male  ...      2019-07-31   \n",
       "                            793       Norah  female  ...      2019-07-31   \n",
       "                            794      Mutale  female  ...      2018-08-30   \n",
       "\n",
       "                                date_dropped_out reason_dropped_out  \\\n",
       "OGInfo__OGMB_1_df           0         2020-02-05         Own choice   \n",
       "                            1                NaT               None   \n",
       "                            2         2021-07-26        Area closed   \n",
       "                            3         2021-07-26        Area closed   \n",
       "                            4         2021-07-26        Area closed   \n",
       "...                                          ...                ...   \n",
       "OG_Info_reserve__OGOrg_1_df 790              NaT               None   \n",
       "                            791              NaT               None   \n",
       "                            792              NaT               None   \n",
       "                            793              NaT               None   \n",
       "                            794              NaT               None   \n",
       "\n",
       "                                                              address  \\\n",
       "OGInfo__OGMB_1_df           0             Mahuwe sch, Box 92, Mbire D   \n",
       "                            1        Kasuwo Primary School 346, Mbire   \n",
       "                            2         Sapa Primary School P O Box 203   \n",
       "                            3         Sapa Primary School P O Box 203   \n",
       "                            4         Sapa Primary School P O Box 203   \n",
       "...                                                               ...   \n",
       "OG_Info_reserve__OGOrg_1_df 790         ARDA Mushumbi, Box 210, Mbire   \n",
       "                            791         ARDA Mushumbi, Box 210, Mbire   \n",
       "                            792         ARDA Mushumbi, Box 210, Mbire   \n",
       "                            793         ARDA Mushumbi, Box 210, Mbire   \n",
       "                            794  Lubu primary School P Bag 5729 Binga   \n",
       "\n",
       "                                organic_status organic_status_from_date  \\\n",
       "OGInfo__OGMB_1_df           0          Dropout  2017-12-02 00:00:00.000   \n",
       "                            1        Mabagrown  2022-04-02 00:00:00.000   \n",
       "                            2          Dropout  2020-03-23 00:00:00.000   \n",
       "                            3          Dropout  2020-03-23 00:00:00.000   \n",
       "                            4          Dropout  2020-03-23 00:00:00.000   \n",
       "...                                        ...                      ...   \n",
       "OG_Info_reserve__OGOrg_1_df 790            New               2019-02-01   \n",
       "                            791            New               2019-02-01   \n",
       "                            792            New               2019-02-01   \n",
       "                            793            New               2019-02-01   \n",
       "                            794            Org               2018-08-31   \n",
       "\n",
       "                                fairtrade ward_nr  wc_nr  wc_code  \n",
       "OGInfo__OGMB_1_df           0       False    15.0    NaN      NaN  \n",
       "                            1       False     6.0    NaN      NaN  \n",
       "                            2       False    13.0    NaN      NaN  \n",
       "                            3       False    13.0    NaN      NaN  \n",
       "                            4       False    13.0    NaN      NaN  \n",
       "...                                   ...     ...    ...      ...  \n",
       "OG_Info_reserve__OGOrg_1_df 790     False     3.0    NaN      NaN  \n",
       "                            791     False     3.0    NaN      NaN  \n",
       "                            792     False     3.0    NaN      NaN  \n",
       "                            793     False     3.0    NaN      NaN  \n",
       "                            794     False    11.0    NaN      NaN  \n",
       "\n",
       "[21881 rows x 22 columns]"
      ]
     },
     "execution_count": 948,
     "metadata": {},
     "output_type": "execute_result"
    }
   ],
   "source": [
    "concated_farmers"
   ]
  },
  {
   "cell_type": "code",
   "execution_count": 949,
   "metadata": {},
   "outputs": [
    {
     "data": {
      "text/plain": [
       "wc_info_bayoba_1_df  0      21146.0\n",
       "                     1      21833.0\n",
       "                     2      21147.0\n",
       "                     3      22986.0\n",
       "                     4      21148.0\n",
       "                             ...   \n",
       "wc_info__WCOrg_1_df  560     1057.0\n",
       "                     561    21040.0\n",
       "                     562     2555.0\n",
       "                     563     2066.0\n",
       "                     564     1069.0\n",
       "Name: wc_nr, Length: 11517, dtype: float64"
      ]
     },
     "execution_count": 949,
     "metadata": {},
     "output_type": "execute_result"
    }
   ],
   "source": [
    "# 11517 wc_nr\n",
    "concated_farmers[~concated_farmers['wc_nr'].isna()]['wc_nr']"
   ]
  },
  {
   "attachments": {},
   "cell_type": "markdown",
   "metadata": {},
   "source": [
    "# Clean and analyze concated_farmers"
   ]
  },
  {
   "attachments": {},
   "cell_type": "markdown",
   "metadata": {},
   "source": [
    "1. Drop duplicates (+ wc_nr and og_nr)\n",
    "2. Count number of records by category\n",
    "3. Clean column by column"
   ]
  },
  {
   "cell_type": "code",
   "execution_count": 950,
   "metadata": {},
   "outputs": [
    {
     "data": {
      "text/plain": [
       "False    21868\n",
       "True        13\n",
       "dtype: int64"
      ]
     },
     "execution_count": 950,
     "metadata": {},
     "output_type": "execute_result"
    }
   ],
   "source": [
    "# Looking for Duplicates\n",
    "concated_farmers.duplicated().value_counts()\n",
    "\n",
    "# 73 duplicates"
   ]
  },
  {
   "cell_type": "code",
   "execution_count": 951,
   "metadata": {},
   "outputs": [
    {
     "data": {
      "text/html": [
       "<div>\n",
       "<style scoped>\n",
       "    .dataframe tbody tr th:only-of-type {\n",
       "        vertical-align: middle;\n",
       "    }\n",
       "\n",
       "    .dataframe tbody tr th {\n",
       "        vertical-align: top;\n",
       "    }\n",
       "\n",
       "    .dataframe thead th {\n",
       "        text-align: right;\n",
       "    }\n",
       "</style>\n",
       "<table border=\"1\" class=\"dataframe\">\n",
       "  <thead>\n",
       "    <tr style=\"text-align: right;\">\n",
       "      <th></th>\n",
       "      <th></th>\n",
       "      <th>id</th>\n",
       "      <th>og_nr</th>\n",
       "      <th>og_code</th>\n",
       "      <th>production_unit</th>\n",
       "      <th>area</th>\n",
       "      <th>ward_nr/name</th>\n",
       "      <th>species</th>\n",
       "      <th>surname</th>\n",
       "      <th>first_names</th>\n",
       "      <th>sex</th>\n",
       "      <th>...</th>\n",
       "      <th>date_contracted</th>\n",
       "      <th>date_dropped_out</th>\n",
       "      <th>reason_dropped_out</th>\n",
       "      <th>address</th>\n",
       "      <th>organic_status</th>\n",
       "      <th>organic_status_from_date</th>\n",
       "      <th>fairtrade</th>\n",
       "      <th>ward_nr</th>\n",
       "      <th>wc_nr</th>\n",
       "      <th>wc_code</th>\n",
       "    </tr>\n",
       "  </thead>\n",
       "  <tbody>\n",
       "    <tr>\n",
       "      <th rowspan=\"13\" valign=\"top\">OG_Info_reserve__OGOrg_1_df</th>\n",
       "      <th>43</th>\n",
       "      <td>47</td>\n",
       "      <td>2869.0</td>\n",
       "      <td>BNOG</td>\n",
       "      <td>Matabeleland North</td>\n",
       "      <td>Binga</td>\n",
       "      <td>5 Sinakoma</td>\n",
       "      <td>Rosella</td>\n",
       "      <td>Muchimba</td>\n",
       "      <td>Magret</td>\n",
       "      <td>female</td>\n",
       "      <td>...</td>\n",
       "      <td>2012-06-12</td>\n",
       "      <td>NaT</td>\n",
       "      <td>None</td>\n",
       "      <td>Nsenga Primary School Box 46 Binga</td>\n",
       "      <td>Org</td>\n",
       "      <td>2016-10-25</td>\n",
       "      <td>True</td>\n",
       "      <td>5.0</td>\n",
       "      <td>NaN</td>\n",
       "      <td>NaN</td>\n",
       "    </tr>\n",
       "    <tr>\n",
       "      <th>47</th>\n",
       "      <td>51</td>\n",
       "      <td>2875.0</td>\n",
       "      <td>BNOG</td>\n",
       "      <td>Matabeleland North</td>\n",
       "      <td>Binga</td>\n",
       "      <td>5 Sinakoma</td>\n",
       "      <td>Rosella</td>\n",
       "      <td>Muleya</td>\n",
       "      <td>Maria 06-020301E06</td>\n",
       "      <td>female</td>\n",
       "      <td>...</td>\n",
       "      <td>2012-06-12</td>\n",
       "      <td>NaT</td>\n",
       "      <td>None</td>\n",
       "      <td>Nsenga Primary School Box 46 Binga</td>\n",
       "      <td>Org</td>\n",
       "      <td>2016-10-25</td>\n",
       "      <td>True</td>\n",
       "      <td>5.0</td>\n",
       "      <td>NaN</td>\n",
       "      <td>NaN</td>\n",
       "    </tr>\n",
       "    <tr>\n",
       "      <th>189</th>\n",
       "      <td>133</td>\n",
       "      <td>3788.0</td>\n",
       "      <td>BNOG</td>\n",
       "      <td>Matabeleland North</td>\n",
       "      <td>Binga</td>\n",
       "      <td>15 Kariangwe</td>\n",
       "      <td>Rosella</td>\n",
       "      <td>Mumpande</td>\n",
       "      <td>Julia</td>\n",
       "      <td>female</td>\n",
       "      <td>...</td>\n",
       "      <td>2015-08-17</td>\n",
       "      <td>NaT</td>\n",
       "      <td>None</td>\n",
       "      <td>Manseme School Binga</td>\n",
       "      <td>Org</td>\n",
       "      <td>2016-10-25</td>\n",
       "      <td>True</td>\n",
       "      <td>15.0</td>\n",
       "      <td>NaN</td>\n",
       "      <td>NaN</td>\n",
       "    </tr>\n",
       "    <tr>\n",
       "      <th>192</th>\n",
       "      <td>136</td>\n",
       "      <td>3793.0</td>\n",
       "      <td>BNOG</td>\n",
       "      <td>Matabeleland North</td>\n",
       "      <td>Binga</td>\n",
       "      <td>15 Kariangwe</td>\n",
       "      <td>Rosella</td>\n",
       "      <td>Muleya</td>\n",
       "      <td>Agnes</td>\n",
       "      <td>female</td>\n",
       "      <td>...</td>\n",
       "      <td>2015-08-17</td>\n",
       "      <td>NaT</td>\n",
       "      <td>None</td>\n",
       "      <td>Manseme School Binga</td>\n",
       "      <td>Org</td>\n",
       "      <td>2015-08-17</td>\n",
       "      <td>True</td>\n",
       "      <td>15.0</td>\n",
       "      <td>NaN</td>\n",
       "      <td>NaN</td>\n",
       "    </tr>\n",
       "    <tr>\n",
       "      <th>455</th>\n",
       "      <td>1063</td>\n",
       "      <td>16138.0</td>\n",
       "      <td>MAOG</td>\n",
       "      <td>Manicaland</td>\n",
       "      <td>Makoni</td>\n",
       "      <td>21</td>\n",
       "      <td>Chillie</td>\n",
       "      <td>Magondwa</td>\n",
       "      <td>Patience</td>\n",
       "      <td>Female</td>\n",
       "      <td>...</td>\n",
       "      <td>2017-08-31</td>\n",
       "      <td>2017-10-19</td>\n",
       "      <td>High risk</td>\n",
       "      <td>Chirimutsitu Primary P Bag 8147, Rusape</td>\n",
       "      <td>Dropout</td>\n",
       "      <td>2017-10-19</td>\n",
       "      <td>False</td>\n",
       "      <td>21.0</td>\n",
       "      <td>NaN</td>\n",
       "      <td>NaN</td>\n",
       "    </tr>\n",
       "    <tr>\n",
       "      <th>487</th>\n",
       "      <td>1097</td>\n",
       "      <td>16172.0</td>\n",
       "      <td>MAOG</td>\n",
       "      <td>Manicaland</td>\n",
       "      <td>Makoni</td>\n",
       "      <td>18</td>\n",
       "      <td>Chillie</td>\n",
       "      <td>Maponde</td>\n",
       "      <td>Kelvin</td>\n",
       "      <td>male</td>\n",
       "      <td>...</td>\n",
       "      <td>2017-08-31</td>\n",
       "      <td>2018-10-18</td>\n",
       "      <td>Not inspected</td>\n",
       "      <td>Chirimutsitu Primary P Bag 8147, Rusape</td>\n",
       "      <td>Dropout</td>\n",
       "      <td>2017-08-31</td>\n",
       "      <td>False</td>\n",
       "      <td>18.0</td>\n",
       "      <td>NaN</td>\n",
       "      <td>NaN</td>\n",
       "    </tr>\n",
       "    <tr>\n",
       "      <th>545</th>\n",
       "      <td>1157</td>\n",
       "      <td>16232.0</td>\n",
       "      <td>MAOG</td>\n",
       "      <td>Manicaland</td>\n",
       "      <td>Makoni</td>\n",
       "      <td>21</td>\n",
       "      <td>Chillie</td>\n",
       "      <td>Nyamuva</td>\n",
       "      <td>Anna</td>\n",
       "      <td>Female</td>\n",
       "      <td>...</td>\n",
       "      <td>2017-08-31</td>\n",
       "      <td>2017-11-11</td>\n",
       "      <td>Not inspected</td>\n",
       "      <td>Chirimutsitu Primary P Bag 8147, Rusape</td>\n",
       "      <td>Dropout</td>\n",
       "      <td>2017-11-11</td>\n",
       "      <td>False</td>\n",
       "      <td>21.0</td>\n",
       "      <td>NaN</td>\n",
       "      <td>NaN</td>\n",
       "    </tr>\n",
       "    <tr>\n",
       "      <th>569</th>\n",
       "      <td>1181</td>\n",
       "      <td>16256.0</td>\n",
       "      <td>MAOG</td>\n",
       "      <td>Manicaland</td>\n",
       "      <td>Makoni</td>\n",
       "      <td>19</td>\n",
       "      <td>Chillie</td>\n",
       "      <td>Tekere</td>\n",
       "      <td>Marry</td>\n",
       "      <td>Female</td>\n",
       "      <td>...</td>\n",
       "      <td>2017-08-31</td>\n",
       "      <td>2017-11-11</td>\n",
       "      <td>Not inspected</td>\n",
       "      <td>Chirimutsitu Primary P Bag 8147, Rusape</td>\n",
       "      <td>Dropout</td>\n",
       "      <td>2017-11-11</td>\n",
       "      <td>False</td>\n",
       "      <td>19.0</td>\n",
       "      <td>NaN</td>\n",
       "      <td>NaN</td>\n",
       "    </tr>\n",
       "    <tr>\n",
       "      <th>348</th>\n",
       "      <td>1972</td>\n",
       "      <td>14109.0</td>\n",
       "      <td>BNOG</td>\n",
       "      <td>Matabeleland North</td>\n",
       "      <td>Binga</td>\n",
       "      <td>5 Sinakoma</td>\n",
       "      <td>Rosella</td>\n",
       "      <td>Siankali</td>\n",
       "      <td>Nolia</td>\n",
       "      <td>female</td>\n",
       "      <td>...</td>\n",
       "      <td>2018-08-31</td>\n",
       "      <td>2018-11-14</td>\n",
       "      <td>Insufficient documentation</td>\n",
       "      <td>Nsenga Primary School</td>\n",
       "      <td>Dropout</td>\n",
       "      <td>2018-08-31</td>\n",
       "      <td>False</td>\n",
       "      <td>5.0</td>\n",
       "      <td>NaN</td>\n",
       "      <td>NaN</td>\n",
       "    </tr>\n",
       "    <tr>\n",
       "      <th>360</th>\n",
       "      <td>1983</td>\n",
       "      <td>14120.0</td>\n",
       "      <td>BNOG</td>\n",
       "      <td>Matabeleland North</td>\n",
       "      <td>Binga</td>\n",
       "      <td>5 Sinakoma</td>\n",
       "      <td>Rosella</td>\n",
       "      <td>Mwembe</td>\n",
       "      <td>Jairos</td>\n",
       "      <td>female</td>\n",
       "      <td>...</td>\n",
       "      <td>2018-08-31</td>\n",
       "      <td>2018-11-14</td>\n",
       "      <td>Insufficient documentation</td>\n",
       "      <td>Nsenga Primary School</td>\n",
       "      <td>Dropout</td>\n",
       "      <td>2018-08-31</td>\n",
       "      <td>False</td>\n",
       "      <td>5.0</td>\n",
       "      <td>NaN</td>\n",
       "      <td>NaN</td>\n",
       "    </tr>\n",
       "    <tr>\n",
       "      <th>366</th>\n",
       "      <td>1988</td>\n",
       "      <td>14125.0</td>\n",
       "      <td>BNOG</td>\n",
       "      <td>Matabeleland North</td>\n",
       "      <td>Binga</td>\n",
       "      <td>5 Sinakoma</td>\n",
       "      <td>Rosella</td>\n",
       "      <td>Mudenda</td>\n",
       "      <td>Molina</td>\n",
       "      <td>female</td>\n",
       "      <td>...</td>\n",
       "      <td>2018-08-31</td>\n",
       "      <td>2018-11-16</td>\n",
       "      <td>Insufficient documentation</td>\n",
       "      <td>Nsenga Primary School</td>\n",
       "      <td>Dropout</td>\n",
       "      <td>2018-08-31</td>\n",
       "      <td>False</td>\n",
       "      <td>5.0</td>\n",
       "      <td>NaN</td>\n",
       "      <td>NaN</td>\n",
       "    </tr>\n",
       "    <tr>\n",
       "      <th>370</th>\n",
       "      <td>1992</td>\n",
       "      <td>14129.0</td>\n",
       "      <td>BNOG</td>\n",
       "      <td>Matabeleland North</td>\n",
       "      <td>Binga</td>\n",
       "      <td>5 Sinakoma</td>\n",
       "      <td>Rosella</td>\n",
       "      <td>Mugande</td>\n",
       "      <td>Harrison</td>\n",
       "      <td>male</td>\n",
       "      <td>...</td>\n",
       "      <td>2018-08-31</td>\n",
       "      <td>2018-11-14</td>\n",
       "      <td>Insufficient documentation</td>\n",
       "      <td>Nsenga Primary School</td>\n",
       "      <td>Dropout</td>\n",
       "      <td>2018-08-31</td>\n",
       "      <td>False</td>\n",
       "      <td>5.0</td>\n",
       "      <td>NaN</td>\n",
       "      <td>NaN</td>\n",
       "    </tr>\n",
       "    <tr>\n",
       "      <th>382</th>\n",
       "      <td>2048</td>\n",
       "      <td>14149.0</td>\n",
       "      <td>BNOG</td>\n",
       "      <td>Matabeleland North</td>\n",
       "      <td>Binga</td>\n",
       "      <td>5 Sinakoma</td>\n",
       "      <td>Rosella</td>\n",
       "      <td>Muleya</td>\n",
       "      <td>Julia</td>\n",
       "      <td>female</td>\n",
       "      <td>...</td>\n",
       "      <td>2018-08-31</td>\n",
       "      <td>2018-10-14</td>\n",
       "      <td>Insufficient documentation</td>\n",
       "      <td>Nsenga Primary School</td>\n",
       "      <td>Dropout</td>\n",
       "      <td>2018-08-31</td>\n",
       "      <td>False</td>\n",
       "      <td>5.0</td>\n",
       "      <td>NaN</td>\n",
       "      <td>NaN</td>\n",
       "    </tr>\n",
       "  </tbody>\n",
       "</table>\n",
       "<p>13 rows × 22 columns</p>\n",
       "</div>"
      ],
      "text/plain": [
       "                                   id    og_nr og_code     production_unit  \\\n",
       "OG_Info_reserve__OGOrg_1_df 43     47   2869.0    BNOG  Matabeleland North   \n",
       "                            47     51   2875.0    BNOG  Matabeleland North   \n",
       "                            189   133   3788.0    BNOG  Matabeleland North   \n",
       "                            192   136   3793.0    BNOG  Matabeleland North   \n",
       "                            455  1063  16138.0    MAOG          Manicaland   \n",
       "                            487  1097  16172.0    MAOG          Manicaland   \n",
       "                            545  1157  16232.0    MAOG          Manicaland   \n",
       "                            569  1181  16256.0    MAOG          Manicaland   \n",
       "                            348  1972  14109.0    BNOG  Matabeleland North   \n",
       "                            360  1983  14120.0    BNOG  Matabeleland North   \n",
       "                            366  1988  14125.0    BNOG  Matabeleland North   \n",
       "                            370  1992  14129.0    BNOG  Matabeleland North   \n",
       "                            382  2048  14149.0    BNOG  Matabeleland North   \n",
       "\n",
       "                                   area  ward_nr/name  species   surname  \\\n",
       "OG_Info_reserve__OGOrg_1_df 43    Binga    5 Sinakoma  Rosella  Muchimba   \n",
       "                            47    Binga    5 Sinakoma  Rosella    Muleya   \n",
       "                            189   Binga  15 Kariangwe  Rosella  Mumpande   \n",
       "                            192   Binga  15 Kariangwe  Rosella    Muleya   \n",
       "                            455  Makoni            21  Chillie  Magondwa   \n",
       "                            487  Makoni            18  Chillie   Maponde   \n",
       "                            545  Makoni            21  Chillie   Nyamuva   \n",
       "                            569  Makoni            19  Chillie    Tekere   \n",
       "                            348   Binga    5 Sinakoma  Rosella  Siankali   \n",
       "                            360   Binga    5 Sinakoma  Rosella    Mwembe   \n",
       "                            366   Binga    5 Sinakoma  Rosella   Mudenda   \n",
       "                            370   Binga    5 Sinakoma  Rosella   Mugande   \n",
       "                            382   Binga    5 Sinakoma  Rosella    Muleya   \n",
       "\n",
       "                                        first_names     sex  ...  \\\n",
       "OG_Info_reserve__OGOrg_1_df 43               Magret  female  ...   \n",
       "                            47   Maria 06-020301E06  female  ...   \n",
       "                            189               Julia  female  ...   \n",
       "                            192               Agnes  female  ...   \n",
       "                            455            Patience  Female  ...   \n",
       "                            487              Kelvin    male  ...   \n",
       "                            545                Anna  Female  ...   \n",
       "                            569               Marry  Female  ...   \n",
       "                            348               Nolia  female  ...   \n",
       "                            360              Jairos  female  ...   \n",
       "                            366              Molina  female  ...   \n",
       "                            370            Harrison    male  ...   \n",
       "                            382               Julia  female  ...   \n",
       "\n",
       "                                date_contracted date_dropped_out  \\\n",
       "OG_Info_reserve__OGOrg_1_df 43       2012-06-12              NaT   \n",
       "                            47       2012-06-12              NaT   \n",
       "                            189      2015-08-17              NaT   \n",
       "                            192      2015-08-17              NaT   \n",
       "                            455      2017-08-31       2017-10-19   \n",
       "                            487      2017-08-31       2018-10-18   \n",
       "                            545      2017-08-31       2017-11-11   \n",
       "                            569      2017-08-31       2017-11-11   \n",
       "                            348      2018-08-31       2018-11-14   \n",
       "                            360      2018-08-31       2018-11-14   \n",
       "                            366      2018-08-31       2018-11-16   \n",
       "                            370      2018-08-31       2018-11-14   \n",
       "                            382      2018-08-31       2018-10-14   \n",
       "\n",
       "                                         reason_dropped_out  \\\n",
       "OG_Info_reserve__OGOrg_1_df 43                         None   \n",
       "                            47                         None   \n",
       "                            189                        None   \n",
       "                            192                        None   \n",
       "                            455                   High risk   \n",
       "                            487               Not inspected   \n",
       "                            545               Not inspected   \n",
       "                            569               Not inspected   \n",
       "                            348  Insufficient documentation   \n",
       "                            360  Insufficient documentation   \n",
       "                            366  Insufficient documentation   \n",
       "                            370  Insufficient documentation   \n",
       "                            382  Insufficient documentation   \n",
       "\n",
       "                                                                 address  \\\n",
       "OG_Info_reserve__OGOrg_1_df 43        Nsenga Primary School Box 46 Binga   \n",
       "                            47        Nsenga Primary School Box 46 Binga   \n",
       "                            189                     Manseme School Binga   \n",
       "                            192                     Manseme School Binga   \n",
       "                            455  Chirimutsitu Primary P Bag 8147, Rusape   \n",
       "                            487  Chirimutsitu Primary P Bag 8147, Rusape   \n",
       "                            545  Chirimutsitu Primary P Bag 8147, Rusape   \n",
       "                            569  Chirimutsitu Primary P Bag 8147, Rusape   \n",
       "                            348                    Nsenga Primary School   \n",
       "                            360                    Nsenga Primary School   \n",
       "                            366                    Nsenga Primary School   \n",
       "                            370                    Nsenga Primary School   \n",
       "                            382                    Nsenga Primary School   \n",
       "\n",
       "                                organic_status organic_status_from_date  \\\n",
       "OG_Info_reserve__OGOrg_1_df 43             Org               2016-10-25   \n",
       "                            47             Org               2016-10-25   \n",
       "                            189            Org               2016-10-25   \n",
       "                            192            Org               2015-08-17   \n",
       "                            455        Dropout               2017-10-19   \n",
       "                            487        Dropout               2017-08-31   \n",
       "                            545        Dropout               2017-11-11   \n",
       "                            569        Dropout               2017-11-11   \n",
       "                            348        Dropout               2018-08-31   \n",
       "                            360        Dropout               2018-08-31   \n",
       "                            366        Dropout               2018-08-31   \n",
       "                            370        Dropout               2018-08-31   \n",
       "                            382        Dropout               2018-08-31   \n",
       "\n",
       "                                fairtrade ward_nr  wc_nr  wc_code  \n",
       "OG_Info_reserve__OGOrg_1_df 43       True     5.0    NaN      NaN  \n",
       "                            47       True     5.0    NaN      NaN  \n",
       "                            189      True    15.0    NaN      NaN  \n",
       "                            192      True    15.0    NaN      NaN  \n",
       "                            455     False    21.0    NaN      NaN  \n",
       "                            487     False    18.0    NaN      NaN  \n",
       "                            545     False    21.0    NaN      NaN  \n",
       "                            569     False    19.0    NaN      NaN  \n",
       "                            348     False     5.0    NaN      NaN  \n",
       "                            360     False     5.0    NaN      NaN  \n",
       "                            366     False     5.0    NaN      NaN  \n",
       "                            370     False     5.0    NaN      NaN  \n",
       "                            382     False     5.0    NaN      NaN  \n",
       "\n",
       "[13 rows x 22 columns]"
      ]
     },
     "execution_count": 951,
     "metadata": {},
     "output_type": "execute_result"
    }
   ],
   "source": [
    "# All duplicates in OG_Info_reserve__OGOrg_1_df\n",
    "df_dup = concated_farmers[concated_farmers.duplicated()].sort_values('id')\n",
    "df_dup"
   ]
  },
  {
   "cell_type": "code",
   "execution_count": 952,
   "metadata": {},
   "outputs": [],
   "source": [
    "ls_dup_og_nr= list(df_dup['og_nr'])"
   ]
  },
  {
   "cell_type": "code",
   "execution_count": 953,
   "metadata": {},
   "outputs": [
    {
     "name": "stdout",
     "output_type": "stream",
     "text": [
      "                                id   og_nr og_code     production_unit   area  \\\n",
      "OG_Info__OGOrg_1_df         70  47  2869.0    BNOG  Matabeleland North  Binga   \n",
      "OG_Info_reserve__OGOrg_1_df 43  47  2869.0    BNOG  Matabeleland North  Binga   \n",
      "\n",
      "                               ward_nr/name  species   surname first_names  \\\n",
      "OG_Info__OGOrg_1_df         70   5 Sinakoma  Rosella  Muchimba      Magret   \n",
      "OG_Info_reserve__OGOrg_1_df 43   5 Sinakoma  Rosella  Muchimba      Magret   \n",
      "\n",
      "                                   sex  ... date_contracted date_dropped_out  \\\n",
      "OG_Info__OGOrg_1_df         70  female  ...      2012-06-12              NaT   \n",
      "OG_Info_reserve__OGOrg_1_df 43  female  ...      2012-06-12              NaT   \n",
      "\n",
      "                               reason_dropped_out  \\\n",
      "OG_Info__OGOrg_1_df         70               None   \n",
      "OG_Info_reserve__OGOrg_1_df 43               None   \n",
      "\n",
      "                                                           address  \\\n",
      "OG_Info__OGOrg_1_df         70  Nsenga Primary School Box 46 Binga   \n",
      "OG_Info_reserve__OGOrg_1_df 43  Nsenga Primary School Box 46 Binga   \n",
      "\n",
      "                               organic_status organic_status_from_date  \\\n",
      "OG_Info__OGOrg_1_df         70            Org               2016-10-25   \n",
      "OG_Info_reserve__OGOrg_1_df 43            Org               2016-10-25   \n",
      "\n",
      "                               fairtrade ward_nr  wc_nr  wc_code  \n",
      "OG_Info__OGOrg_1_df         70      True     5.0    NaN      NaN  \n",
      "OG_Info_reserve__OGOrg_1_df 43      True     5.0    NaN      NaN  \n",
      "\n",
      "[2 rows x 22 columns]\n",
      "                                id   og_nr og_code     production_unit   area  \\\n",
      "OG_Info__OGOrg_1_df         74  51  2875.0    BNOG  Matabeleland North  Binga   \n",
      "OG_Info_reserve__OGOrg_1_df 47  51  2875.0    BNOG  Matabeleland North  Binga   \n",
      "\n",
      "                               ward_nr/name  species surname  \\\n",
      "OG_Info__OGOrg_1_df         74   5 Sinakoma  Rosella  Muleya   \n",
      "OG_Info_reserve__OGOrg_1_df 47   5 Sinakoma  Rosella  Muleya   \n",
      "\n",
      "                                       first_names     sex  ...  \\\n",
      "OG_Info__OGOrg_1_df         74  Maria 06-020301E06  female  ...   \n",
      "OG_Info_reserve__OGOrg_1_df 47  Maria 06-020301E06  female  ...   \n",
      "\n",
      "                               date_contracted date_dropped_out  \\\n",
      "OG_Info__OGOrg_1_df         74      2012-06-12              NaT   \n",
      "OG_Info_reserve__OGOrg_1_df 47      2012-06-12              NaT   \n",
      "\n",
      "                               reason_dropped_out  \\\n",
      "OG_Info__OGOrg_1_df         74               None   \n",
      "OG_Info_reserve__OGOrg_1_df 47               None   \n",
      "\n",
      "                                                           address  \\\n",
      "OG_Info__OGOrg_1_df         74  Nsenga Primary School Box 46 Binga   \n",
      "OG_Info_reserve__OGOrg_1_df 47  Nsenga Primary School Box 46 Binga   \n",
      "\n",
      "                               organic_status organic_status_from_date  \\\n",
      "OG_Info__OGOrg_1_df         74            Org               2016-10-25   \n",
      "OG_Info_reserve__OGOrg_1_df 47            Org               2016-10-25   \n",
      "\n",
      "                               fairtrade ward_nr  wc_nr  wc_code  \n",
      "OG_Info__OGOrg_1_df         74      True     5.0    NaN      NaN  \n",
      "OG_Info_reserve__OGOrg_1_df 47      True     5.0    NaN      NaN  \n",
      "\n",
      "[2 rows x 22 columns]\n",
      "                                  id   og_nr og_code     production_unit  \\\n",
      "OG_Info__OGOrg_1_df         196  133  3788.0    BNOG  Matabeleland North   \n",
      "OG_Info_reserve__OGOrg_1_df 189  133  3788.0    BNOG  Matabeleland North   \n",
      "\n",
      "                                  area  ward_nr/name  species   surname  \\\n",
      "OG_Info__OGOrg_1_df         196  Binga  15 Kariangwe  Rosella  Mumpande   \n",
      "OG_Info_reserve__OGOrg_1_df 189  Binga  15 Kariangwe  Rosella  Mumpande   \n",
      "\n",
      "                                first_names     sex  ... date_contracted  \\\n",
      "OG_Info__OGOrg_1_df         196       Julia  female  ...      2015-08-17   \n",
      "OG_Info_reserve__OGOrg_1_df 189       Julia  female  ...      2015-08-17   \n",
      "\n",
      "                                date_dropped_out reason_dropped_out  \\\n",
      "OG_Info__OGOrg_1_df         196              NaT               None   \n",
      "OG_Info_reserve__OGOrg_1_df 189              NaT               None   \n",
      "\n",
      "                                              address organic_status  \\\n",
      "OG_Info__OGOrg_1_df         196  Manseme School Binga            Org   \n",
      "OG_Info_reserve__OGOrg_1_df 189  Manseme School Binga            Org   \n",
      "\n",
      "                                organic_status_from_date fairtrade ward_nr  \\\n",
      "OG_Info__OGOrg_1_df         196               2016-10-25      True    15.0   \n",
      "OG_Info_reserve__OGOrg_1_df 189               2016-10-25      True    15.0   \n",
      "\n",
      "                                 wc_nr  wc_code  \n",
      "OG_Info__OGOrg_1_df         196    NaN      NaN  \n",
      "OG_Info_reserve__OGOrg_1_df 189    NaN      NaN  \n",
      "\n",
      "[2 rows x 22 columns]\n",
      "                                  id   og_nr og_code     production_unit  \\\n",
      "OG_Info__OGOrg_1_df         200  136  3793.0    BNOG  Matabeleland North   \n",
      "OG_Info_reserve__OGOrg_1_df 192  136  3793.0    BNOG  Matabeleland North   \n",
      "\n",
      "                                  area  ward_nr/name  species surname  \\\n",
      "OG_Info__OGOrg_1_df         200  Binga  15 Kariangwe  Rosella  Muleya   \n",
      "OG_Info_reserve__OGOrg_1_df 192  Binga  15 Kariangwe  Rosella  Muleya   \n",
      "\n",
      "                                first_names     sex  ... date_contracted  \\\n",
      "OG_Info__OGOrg_1_df         200       Agnes  female  ...      2015-08-17   \n",
      "OG_Info_reserve__OGOrg_1_df 192       Agnes  female  ...      2015-08-17   \n",
      "\n",
      "                                date_dropped_out reason_dropped_out  \\\n",
      "OG_Info__OGOrg_1_df         200              NaT               None   \n",
      "OG_Info_reserve__OGOrg_1_df 192              NaT               None   \n",
      "\n",
      "                                              address organic_status  \\\n",
      "OG_Info__OGOrg_1_df         200  Manseme School Binga            Org   \n",
      "OG_Info_reserve__OGOrg_1_df 192  Manseme School Binga            Org   \n",
      "\n",
      "                                organic_status_from_date fairtrade ward_nr  \\\n",
      "OG_Info__OGOrg_1_df         200               2015-08-17      True    15.0   \n",
      "OG_Info_reserve__OGOrg_1_df 192               2015-08-17      True    15.0   \n",
      "\n",
      "                                 wc_nr  wc_code  \n",
      "OG_Info__OGOrg_1_df         200    NaN      NaN  \n",
      "OG_Info_reserve__OGOrg_1_df 192    NaN      NaN  \n",
      "\n",
      "[2 rows x 22 columns]\n",
      "                                   id    og_nr og_code production_unit  \\\n",
      "OG_Info__OGOrg_1_df         526  1063  16138.0    MAOG      Manicaland   \n",
      "OG_Info_reserve__OGOrg_1_df 455  1063  16138.0    MAOG      Manicaland   \n",
      "\n",
      "                                   area ward_nr/name  species   surname  \\\n",
      "OG_Info__OGOrg_1_df         526  Makoni           21  Chillie  Magondwa   \n",
      "OG_Info_reserve__OGOrg_1_df 455  Makoni           21  Chillie  Magondwa   \n",
      "\n",
      "                                first_names     sex  ... date_contracted  \\\n",
      "OG_Info__OGOrg_1_df         526    Patience  Female  ...      2017-08-31   \n",
      "OG_Info_reserve__OGOrg_1_df 455    Patience  Female  ...      2017-08-31   \n",
      "\n",
      "                                date_dropped_out reason_dropped_out  \\\n",
      "OG_Info__OGOrg_1_df         526       2017-10-19          High risk   \n",
      "OG_Info_reserve__OGOrg_1_df 455       2017-10-19          High risk   \n",
      "\n",
      "                                                                 address  \\\n",
      "OG_Info__OGOrg_1_df         526  Chirimutsitu Primary P Bag 8147, Rusape   \n",
      "OG_Info_reserve__OGOrg_1_df 455  Chirimutsitu Primary P Bag 8147, Rusape   \n",
      "\n",
      "                                organic_status organic_status_from_date  \\\n",
      "OG_Info__OGOrg_1_df         526        Dropout               2017-10-19   \n",
      "OG_Info_reserve__OGOrg_1_df 455        Dropout               2017-10-19   \n",
      "\n",
      "                                fairtrade ward_nr  wc_nr  wc_code  \n",
      "OG_Info__OGOrg_1_df         526     False    21.0    NaN      NaN  \n",
      "OG_Info_reserve__OGOrg_1_df 455     False    21.0    NaN      NaN  \n",
      "\n",
      "[2 rows x 22 columns]\n",
      "                                   id    og_nr og_code production_unit  \\\n",
      "OG_Info__OGOrg_1_df         559  1097  16172.0    MAOG      Manicaland   \n",
      "OG_Info_reserve__OGOrg_1_df 487  1097  16172.0    MAOG      Manicaland   \n",
      "\n",
      "                                   area ward_nr/name  species  surname  \\\n",
      "OG_Info__OGOrg_1_df         559  Makoni           18  Chillie  Maponde   \n",
      "OG_Info_reserve__OGOrg_1_df 487  Makoni           18  Chillie  Maponde   \n",
      "\n",
      "                                first_names   sex  ... date_contracted  \\\n",
      "OG_Info__OGOrg_1_df         559      Kelvin  male  ...      2017-08-31   \n",
      "OG_Info_reserve__OGOrg_1_df 487      Kelvin  male  ...      2017-08-31   \n",
      "\n",
      "                                date_dropped_out reason_dropped_out  \\\n",
      "OG_Info__OGOrg_1_df         559       2018-10-18      Not inspected   \n",
      "OG_Info_reserve__OGOrg_1_df 487       2018-10-18      Not inspected   \n",
      "\n",
      "                                                                 address  \\\n",
      "OG_Info__OGOrg_1_df         559  Chirimutsitu Primary P Bag 8147, Rusape   \n",
      "OG_Info_reserve__OGOrg_1_df 487  Chirimutsitu Primary P Bag 8147, Rusape   \n",
      "\n",
      "                                organic_status organic_status_from_date  \\\n",
      "OG_Info__OGOrg_1_df         559        Dropout               2017-08-31   \n",
      "OG_Info_reserve__OGOrg_1_df 487        Dropout               2017-08-31   \n",
      "\n",
      "                                fairtrade ward_nr  wc_nr  wc_code  \n",
      "OG_Info__OGOrg_1_df         559     False    18.0    NaN      NaN  \n",
      "OG_Info_reserve__OGOrg_1_df 487     False    18.0    NaN      NaN  \n",
      "\n",
      "[2 rows x 22 columns]\n",
      "                                   id    og_nr og_code production_unit  \\\n",
      "OG_Info__OGOrg_1_df         617  1157  16232.0    MAOG      Manicaland   \n",
      "OG_Info_reserve__OGOrg_1_df 545  1157  16232.0    MAOG      Manicaland   \n",
      "\n",
      "                                   area ward_nr/name  species  surname  \\\n",
      "OG_Info__OGOrg_1_df         617  Makoni           21  Chillie  Nyamuva   \n",
      "OG_Info_reserve__OGOrg_1_df 545  Makoni           21  Chillie  Nyamuva   \n",
      "\n",
      "                                first_names     sex  ... date_contracted  \\\n",
      "OG_Info__OGOrg_1_df         617        Anna  Female  ...      2017-08-31   \n",
      "OG_Info_reserve__OGOrg_1_df 545        Anna  Female  ...      2017-08-31   \n",
      "\n",
      "                                date_dropped_out reason_dropped_out  \\\n",
      "OG_Info__OGOrg_1_df         617       2017-11-11      Not inspected   \n",
      "OG_Info_reserve__OGOrg_1_df 545       2017-11-11      Not inspected   \n",
      "\n",
      "                                                                 address  \\\n",
      "OG_Info__OGOrg_1_df         617  Chirimutsitu Primary P Bag 8147, Rusape   \n",
      "OG_Info_reserve__OGOrg_1_df 545  Chirimutsitu Primary P Bag 8147, Rusape   \n",
      "\n",
      "                                organic_status organic_status_from_date  \\\n",
      "OG_Info__OGOrg_1_df         617        Dropout               2017-11-11   \n",
      "OG_Info_reserve__OGOrg_1_df 545        Dropout               2017-11-11   \n",
      "\n",
      "                                fairtrade ward_nr  wc_nr  wc_code  \n",
      "OG_Info__OGOrg_1_df         617     False    21.0    NaN      NaN  \n",
      "OG_Info_reserve__OGOrg_1_df 545     False    21.0    NaN      NaN  \n",
      "\n",
      "[2 rows x 22 columns]\n",
      "                                   id    og_nr og_code production_unit  \\\n",
      "OG_Info__OGOrg_1_df         642  1181  16256.0    MAOG      Manicaland   \n",
      "OG_Info_reserve__OGOrg_1_df 569  1181  16256.0    MAOG      Manicaland   \n",
      "\n",
      "                                   area ward_nr/name  species surname  \\\n",
      "OG_Info__OGOrg_1_df         642  Makoni           19  Chillie  Tekere   \n",
      "OG_Info_reserve__OGOrg_1_df 569  Makoni           19  Chillie  Tekere   \n",
      "\n",
      "                                first_names     sex  ... date_contracted  \\\n",
      "OG_Info__OGOrg_1_df         642       Marry  Female  ...      2017-08-31   \n",
      "OG_Info_reserve__OGOrg_1_df 569       Marry  Female  ...      2017-08-31   \n",
      "\n",
      "                                date_dropped_out reason_dropped_out  \\\n",
      "OG_Info__OGOrg_1_df         642       2017-11-11      Not inspected   \n",
      "OG_Info_reserve__OGOrg_1_df 569       2017-11-11      Not inspected   \n",
      "\n",
      "                                                                 address  \\\n",
      "OG_Info__OGOrg_1_df         642  Chirimutsitu Primary P Bag 8147, Rusape   \n",
      "OG_Info_reserve__OGOrg_1_df 569  Chirimutsitu Primary P Bag 8147, Rusape   \n",
      "\n",
      "                                organic_status organic_status_from_date  \\\n",
      "OG_Info__OGOrg_1_df         642        Dropout               2017-11-11   \n",
      "OG_Info_reserve__OGOrg_1_df 569        Dropout               2017-11-11   \n",
      "\n",
      "                                fairtrade ward_nr  wc_nr  wc_code  \n",
      "OG_Info__OGOrg_1_df         642     False    19.0    NaN      NaN  \n",
      "OG_Info_reserve__OGOrg_1_df 569     False    19.0    NaN      NaN  \n",
      "\n",
      "[2 rows x 22 columns]\n",
      "                                   id    og_nr og_code     production_unit  \\\n",
      "OG_Info__OGOrg_1_df         415  1972  14109.0    BNOG  Matabeleland North   \n",
      "OG_Info_reserve__OGOrg_1_df 348  1972  14109.0    BNOG  Matabeleland North   \n",
      "\n",
      "                                  area ward_nr/name  species   surname  \\\n",
      "OG_Info__OGOrg_1_df         415  Binga   5 Sinakoma  Rosella  Siankali   \n",
      "OG_Info_reserve__OGOrg_1_df 348  Binga   5 Sinakoma  Rosella  Siankali   \n",
      "\n",
      "                                first_names     sex  ... date_contracted  \\\n",
      "OG_Info__OGOrg_1_df         415       Nolia  female  ...      2018-08-31   \n",
      "OG_Info_reserve__OGOrg_1_df 348       Nolia  female  ...      2018-08-31   \n",
      "\n",
      "                                date_dropped_out          reason_dropped_out  \\\n",
      "OG_Info__OGOrg_1_df         415       2018-11-14  Insufficient documentation   \n",
      "OG_Info_reserve__OGOrg_1_df 348       2018-11-14  Insufficient documentation   \n",
      "\n",
      "                                               address organic_status  \\\n",
      "OG_Info__OGOrg_1_df         415  Nsenga Primary School        Dropout   \n",
      "OG_Info_reserve__OGOrg_1_df 348  Nsenga Primary School        Dropout   \n",
      "\n",
      "                                organic_status_from_date fairtrade ward_nr  \\\n",
      "OG_Info__OGOrg_1_df         415               2018-08-31     False     5.0   \n",
      "OG_Info_reserve__OGOrg_1_df 348               2018-08-31     False     5.0   \n",
      "\n",
      "                                 wc_nr  wc_code  \n",
      "OG_Info__OGOrg_1_df         415    NaN      NaN  \n",
      "OG_Info_reserve__OGOrg_1_df 348    NaN      NaN  \n",
      "\n",
      "[2 rows x 22 columns]\n",
      "                                   id    og_nr og_code     production_unit  \\\n",
      "OG_Info__OGOrg_1_df         426  1983  14120.0    BNOG  Matabeleland North   \n",
      "OG_Info_reserve__OGOrg_1_df 360  1983  14120.0    BNOG  Matabeleland North   \n",
      "\n",
      "                                  area ward_nr/name  species surname  \\\n",
      "OG_Info__OGOrg_1_df         426  Binga   5 Sinakoma  Rosella  Mwembe   \n",
      "OG_Info_reserve__OGOrg_1_df 360  Binga   5 Sinakoma  Rosella  Mwembe   \n",
      "\n",
      "                                first_names     sex  ... date_contracted  \\\n",
      "OG_Info__OGOrg_1_df         426      Jairos  female  ...      2018-08-31   \n",
      "OG_Info_reserve__OGOrg_1_df 360      Jairos  female  ...      2018-08-31   \n",
      "\n",
      "                                date_dropped_out          reason_dropped_out  \\\n",
      "OG_Info__OGOrg_1_df         426       2018-11-14  Insufficient documentation   \n",
      "OG_Info_reserve__OGOrg_1_df 360       2018-11-14  Insufficient documentation   \n",
      "\n",
      "                                               address organic_status  \\\n",
      "OG_Info__OGOrg_1_df         426  Nsenga Primary School        Dropout   \n",
      "OG_Info_reserve__OGOrg_1_df 360  Nsenga Primary School        Dropout   \n",
      "\n",
      "                                organic_status_from_date fairtrade ward_nr  \\\n",
      "OG_Info__OGOrg_1_df         426               2018-08-31     False     5.0   \n",
      "OG_Info_reserve__OGOrg_1_df 360               2018-08-31     False     5.0   \n",
      "\n",
      "                                 wc_nr  wc_code  \n",
      "OG_Info__OGOrg_1_df         426    NaN      NaN  \n",
      "OG_Info_reserve__OGOrg_1_df 360    NaN      NaN  \n",
      "\n",
      "[2 rows x 22 columns]\n",
      "                                   id    og_nr og_code     production_unit  \\\n",
      "OG_Info__OGOrg_1_df         432  1988  14125.0    BNOG  Matabeleland North   \n",
      "OG_Info_reserve__OGOrg_1_df 366  1988  14125.0    BNOG  Matabeleland North   \n",
      "\n",
      "                                  area ward_nr/name  species  surname  \\\n",
      "OG_Info__OGOrg_1_df         432  Binga   5 Sinakoma  Rosella  Mudenda   \n",
      "OG_Info_reserve__OGOrg_1_df 366  Binga   5 Sinakoma  Rosella  Mudenda   \n",
      "\n",
      "                                first_names     sex  ... date_contracted  \\\n",
      "OG_Info__OGOrg_1_df         432      Molina  female  ...      2018-08-31   \n",
      "OG_Info_reserve__OGOrg_1_df 366      Molina  female  ...      2018-08-31   \n",
      "\n",
      "                                date_dropped_out          reason_dropped_out  \\\n",
      "OG_Info__OGOrg_1_df         432       2018-11-16  Insufficient documentation   \n",
      "OG_Info_reserve__OGOrg_1_df 366       2018-11-16  Insufficient documentation   \n",
      "\n",
      "                                               address organic_status  \\\n",
      "OG_Info__OGOrg_1_df         432  Nsenga Primary School        Dropout   \n",
      "OG_Info_reserve__OGOrg_1_df 366  Nsenga Primary School        Dropout   \n",
      "\n",
      "                                organic_status_from_date fairtrade ward_nr  \\\n",
      "OG_Info__OGOrg_1_df         432               2018-08-31     False     5.0   \n",
      "OG_Info_reserve__OGOrg_1_df 366               2018-08-31     False     5.0   \n",
      "\n",
      "                                 wc_nr  wc_code  \n",
      "OG_Info__OGOrg_1_df         432    NaN      NaN  \n",
      "OG_Info_reserve__OGOrg_1_df 366    NaN      NaN  \n",
      "\n",
      "[2 rows x 22 columns]\n",
      "                                   id    og_nr og_code     production_unit  \\\n",
      "OG_Info__OGOrg_1_df         436  1992  14129.0    BNOG  Matabeleland North   \n",
      "OG_Info_reserve__OGOrg_1_df 370  1992  14129.0    BNOG  Matabeleland North   \n",
      "\n",
      "                                  area ward_nr/name  species  surname  \\\n",
      "OG_Info__OGOrg_1_df         436  Binga   5 Sinakoma  Rosella  Mugande   \n",
      "OG_Info_reserve__OGOrg_1_df 370  Binga   5 Sinakoma  Rosella  Mugande   \n",
      "\n",
      "                                first_names   sex  ... date_contracted  \\\n",
      "OG_Info__OGOrg_1_df         436    Harrison  male  ...      2018-08-31   \n",
      "OG_Info_reserve__OGOrg_1_df 370    Harrison  male  ...      2018-08-31   \n",
      "\n",
      "                                date_dropped_out          reason_dropped_out  \\\n",
      "OG_Info__OGOrg_1_df         436       2018-11-14  Insufficient documentation   \n",
      "OG_Info_reserve__OGOrg_1_df 370       2018-11-14  Insufficient documentation   \n",
      "\n",
      "                                               address organic_status  \\\n",
      "OG_Info__OGOrg_1_df         436  Nsenga Primary School        Dropout   \n",
      "OG_Info_reserve__OGOrg_1_df 370  Nsenga Primary School        Dropout   \n",
      "\n",
      "                                organic_status_from_date fairtrade ward_nr  \\\n",
      "OG_Info__OGOrg_1_df         436               2018-08-31     False     5.0   \n",
      "OG_Info_reserve__OGOrg_1_df 370               2018-08-31     False     5.0   \n",
      "\n",
      "                                 wc_nr  wc_code  \n",
      "OG_Info__OGOrg_1_df         436    NaN      NaN  \n",
      "OG_Info_reserve__OGOrg_1_df 370    NaN      NaN  \n",
      "\n",
      "[2 rows x 22 columns]\n",
      "                                   id    og_nr og_code     production_unit  \\\n",
      "OG_Info__OGOrg_1_df         448  2048  14149.0    BNOG  Matabeleland North   \n",
      "OG_Info_reserve__OGOrg_1_df 382  2048  14149.0    BNOG  Matabeleland North   \n",
      "\n",
      "                                  area ward_nr/name  species surname  \\\n",
      "OG_Info__OGOrg_1_df         448  Binga   5 Sinakoma  Rosella  Muleya   \n",
      "OG_Info_reserve__OGOrg_1_df 382  Binga   5 Sinakoma  Rosella  Muleya   \n",
      "\n",
      "                                first_names     sex  ... date_contracted  \\\n",
      "OG_Info__OGOrg_1_df         448       Julia  female  ...      2018-08-31   \n",
      "OG_Info_reserve__OGOrg_1_df 382       Julia  female  ...      2018-08-31   \n",
      "\n",
      "                                date_dropped_out          reason_dropped_out  \\\n",
      "OG_Info__OGOrg_1_df         448       2018-10-14  Insufficient documentation   \n",
      "OG_Info_reserve__OGOrg_1_df 382       2018-10-14  Insufficient documentation   \n",
      "\n",
      "                                               address organic_status  \\\n",
      "OG_Info__OGOrg_1_df         448  Nsenga Primary School        Dropout   \n",
      "OG_Info_reserve__OGOrg_1_df 382  Nsenga Primary School        Dropout   \n",
      "\n",
      "                                organic_status_from_date fairtrade ward_nr  \\\n",
      "OG_Info__OGOrg_1_df         448               2018-08-31     False     5.0   \n",
      "OG_Info_reserve__OGOrg_1_df 382               2018-08-31     False     5.0   \n",
      "\n",
      "                                 wc_nr  wc_code  \n",
      "OG_Info__OGOrg_1_df         448    NaN      NaN  \n",
      "OG_Info_reserve__OGOrg_1_df 382    NaN      NaN  \n",
      "\n",
      "[2 rows x 22 columns]\n"
     ]
    }
   ],
   "source": [
    "for ognr in ls_dup_og_nr:\n",
    "    print(concated_farmers[concated_farmers['og_nr'] == ognr])\n",
    "\n",
    "# duplicates trough OG_Info__OGOrg_1_df und OG_Info_reserve__OGOrg_1_df -> DROP duplicates in allfarmers"
   ]
  },
  {
   "cell_type": "code",
   "execution_count": 954,
   "metadata": {},
   "outputs": [],
   "source": [
    "# Droping duplicates\n",
    "concated_farmers.drop_duplicates(subset=None, keep='first', inplace=True)"
   ]
  },
  {
   "cell_type": "code",
   "execution_count": 955,
   "metadata": {},
   "outputs": [
    {
     "data": {
      "text/plain": [
       "False    21868\n",
       "dtype: int64"
      ]
     },
     "execution_count": 955,
     "metadata": {},
     "output_type": "execute_result"
    }
   ],
   "source": [
    "concated_farmers.duplicated().value_counts()"
   ]
  },
  {
   "attachments": {},
   "cell_type": "markdown",
   "metadata": {},
   "source": [
    "### Dropping duplicates of wc_nr"
   ]
  },
  {
   "cell_type": "code",
   "execution_count": 956,
   "metadata": {},
   "outputs": [
    {
     "data": {
      "text/html": [
       "<div>\n",
       "<style scoped>\n",
       "    .dataframe tbody tr th:only-of-type {\n",
       "        vertical-align: middle;\n",
       "    }\n",
       "\n",
       "    .dataframe tbody tr th {\n",
       "        vertical-align: top;\n",
       "    }\n",
       "\n",
       "    .dataframe thead th {\n",
       "        text-align: right;\n",
       "    }\n",
       "</style>\n",
       "<table border=\"1\" class=\"dataframe\">\n",
       "  <thead>\n",
       "    <tr style=\"text-align: right;\">\n",
       "      <th></th>\n",
       "      <th></th>\n",
       "      <th>wc_nr</th>\n",
       "    </tr>\n",
       "  </thead>\n",
       "  <tbody>\n",
       "    <tr>\n",
       "      <th rowspan=\"5\" valign=\"top\">wc_info_bayoba_1_df</th>\n",
       "      <th>0</th>\n",
       "      <td>21146.0</td>\n",
       "    </tr>\n",
       "    <tr>\n",
       "      <th>1</th>\n",
       "      <td>21833.0</td>\n",
       "    </tr>\n",
       "    <tr>\n",
       "      <th>2</th>\n",
       "      <td>21147.0</td>\n",
       "    </tr>\n",
       "    <tr>\n",
       "      <th>3</th>\n",
       "      <td>22986.0</td>\n",
       "    </tr>\n",
       "    <tr>\n",
       "      <th>4</th>\n",
       "      <td>21148.0</td>\n",
       "    </tr>\n",
       "    <tr>\n",
       "      <th>...</th>\n",
       "      <th>...</th>\n",
       "      <td>...</td>\n",
       "    </tr>\n",
       "    <tr>\n",
       "      <th rowspan=\"5\" valign=\"top\">wc_info__WCOrg_1_df</th>\n",
       "      <th>560</th>\n",
       "      <td>1057.0</td>\n",
       "    </tr>\n",
       "    <tr>\n",
       "      <th>561</th>\n",
       "      <td>21040.0</td>\n",
       "    </tr>\n",
       "    <tr>\n",
       "      <th>562</th>\n",
       "      <td>2555.0</td>\n",
       "    </tr>\n",
       "    <tr>\n",
       "      <th>563</th>\n",
       "      <td>2066.0</td>\n",
       "    </tr>\n",
       "    <tr>\n",
       "      <th>564</th>\n",
       "      <td>1069.0</td>\n",
       "    </tr>\n",
       "  </tbody>\n",
       "</table>\n",
       "<p>11517 rows × 1 columns</p>\n",
       "</div>"
      ],
      "text/plain": [
       "                           wc_nr\n",
       "wc_info_bayoba_1_df 0    21146.0\n",
       "                    1    21833.0\n",
       "                    2    21147.0\n",
       "                    3    22986.0\n",
       "                    4    21148.0\n",
       "...                          ...\n",
       "wc_info__WCOrg_1_df 560   1057.0\n",
       "                    561  21040.0\n",
       "                    562   2555.0\n",
       "                    563   2066.0\n",
       "                    564   1069.0\n",
       "\n",
       "[11517 rows x 1 columns]"
      ]
     },
     "execution_count": 956,
     "metadata": {},
     "output_type": "execute_result"
    }
   ],
   "source": [
    "# 11517 wc_nr\n",
    "wc_nr_df = concated_farmers[~concated_farmers['wc_nr'].isna()][['wc_nr']]\n",
    "wc_nr_df"
   ]
  },
  {
   "attachments": {},
   "cell_type": "markdown",
   "metadata": {},
   "source": [
    "#### wc_nr is unique!"
   ]
  },
  {
   "cell_type": "code",
   "execution_count": 957,
   "metadata": {},
   "outputs": [
    {
     "data": {
      "text/plain": [
       "True"
      ]
     },
     "execution_count": 957,
     "metadata": {},
     "output_type": "execute_result"
    }
   ],
   "source": [
    "wc_nr_df.squeeze().is_unique"
   ]
  },
  {
   "cell_type": "code",
   "execution_count": 958,
   "metadata": {},
   "outputs": [
    {
     "data": {
      "text/plain": [
       "(21868, 22)"
      ]
     },
     "execution_count": 958,
     "metadata": {},
     "output_type": "execute_result"
    }
   ],
   "source": [
    "# 21868 rows have og_nr or wc_nr!\n",
    "concated_farmers[~concated_farmers['og_nr'].isna() | ~concated_farmers['wc_nr'].isna()].shape"
   ]
  },
  {
   "attachments": {},
   "cell_type": "markdown",
   "metadata": {},
   "source": [
    "### Dropping duplicates of og_nr"
   ]
  },
  {
   "cell_type": "code",
   "execution_count": 959,
   "metadata": {},
   "outputs": [
    {
     "data": {
      "text/html": [
       "<div>\n",
       "<style scoped>\n",
       "    .dataframe tbody tr th:only-of-type {\n",
       "        vertical-align: middle;\n",
       "    }\n",
       "\n",
       "    .dataframe tbody tr th {\n",
       "        vertical-align: top;\n",
       "    }\n",
       "\n",
       "    .dataframe thead th {\n",
       "        text-align: right;\n",
       "    }\n",
       "</style>\n",
       "<table border=\"1\" class=\"dataframe\">\n",
       "  <thead>\n",
       "    <tr style=\"text-align: right;\">\n",
       "      <th></th>\n",
       "      <th></th>\n",
       "      <th>og_nr</th>\n",
       "      <th>date_contracted</th>\n",
       "    </tr>\n",
       "  </thead>\n",
       "  <tbody>\n",
       "    <tr>\n",
       "      <th rowspan=\"5\" valign=\"top\">OGInfo__OGMB_1_df</th>\n",
       "      <th>0</th>\n",
       "      <td>13137.0</td>\n",
       "      <td>NaT</td>\n",
       "    </tr>\n",
       "    <tr>\n",
       "      <th>1</th>\n",
       "      <td>12116.0</td>\n",
       "      <td>2022-04-02</td>\n",
       "    </tr>\n",
       "    <tr>\n",
       "      <th>2</th>\n",
       "      <td>23949.0</td>\n",
       "      <td>2020-03-23</td>\n",
       "    </tr>\n",
       "    <tr>\n",
       "      <th>3</th>\n",
       "      <td>23950.0</td>\n",
       "      <td>2020-03-23</td>\n",
       "    </tr>\n",
       "    <tr>\n",
       "      <th>4</th>\n",
       "      <td>23951.0</td>\n",
       "      <td>2020-03-23</td>\n",
       "    </tr>\n",
       "    <tr>\n",
       "      <th>...</th>\n",
       "      <th>...</th>\n",
       "      <td>...</td>\n",
       "      <td>...</td>\n",
       "    </tr>\n",
       "    <tr>\n",
       "      <th rowspan=\"5\" valign=\"top\">OG_Info_reserve__OGOrg_1_df</th>\n",
       "      <th>790</th>\n",
       "      <td>20023.0</td>\n",
       "      <td>2018-08-18</td>\n",
       "    </tr>\n",
       "    <tr>\n",
       "      <th>791</th>\n",
       "      <td>20026.0</td>\n",
       "      <td>2018-08-18</td>\n",
       "    </tr>\n",
       "    <tr>\n",
       "      <th>792</th>\n",
       "      <td>20027.0</td>\n",
       "      <td>2019-07-31</td>\n",
       "    </tr>\n",
       "    <tr>\n",
       "      <th>793</th>\n",
       "      <td>20028.0</td>\n",
       "      <td>2019-07-31</td>\n",
       "    </tr>\n",
       "    <tr>\n",
       "      <th>794</th>\n",
       "      <td>14001.0</td>\n",
       "      <td>2018-08-30</td>\n",
       "    </tr>\n",
       "  </tbody>\n",
       "</table>\n",
       "<p>10351 rows × 2 columns</p>\n",
       "</div>"
      ],
      "text/plain": [
       "                                   og_nr date_contracted\n",
       "OGInfo__OGMB_1_df           0    13137.0             NaT\n",
       "                            1    12116.0      2022-04-02\n",
       "                            2    23949.0      2020-03-23\n",
       "                            3    23950.0      2020-03-23\n",
       "                            4    23951.0      2020-03-23\n",
       "...                                  ...             ...\n",
       "OG_Info_reserve__OGOrg_1_df 790  20023.0      2018-08-18\n",
       "                            791  20026.0      2018-08-18\n",
       "                            792  20027.0      2019-07-31\n",
       "                            793  20028.0      2019-07-31\n",
       "                            794  14001.0      2018-08-30\n",
       "\n",
       "[10351 rows x 2 columns]"
      ]
     },
     "execution_count": 959,
     "metadata": {},
     "output_type": "execute_result"
    }
   ],
   "source": [
    "# 10351 \n",
    "og_nr_df = concated_farmers[~concated_farmers['og_nr'].isna()][['og_nr', 'date_contracted']]\n",
    "og_nr_df"
   ]
  },
  {
   "cell_type": "code",
   "execution_count": 960,
   "metadata": {},
   "outputs": [
    {
     "data": {
      "text/plain": [
       "False"
      ]
     },
     "execution_count": 960,
     "metadata": {},
     "output_type": "execute_result"
    }
   ],
   "source": [
    "# og_nr NOT unique\n",
    "og_nr_df['og_nr'].squeeze().is_unique"
   ]
  },
  {
   "cell_type": "code",
   "execution_count": 961,
   "metadata": {},
   "outputs": [],
   "source": [
    "concated_farmers.sort_values('date_contracted', ascending=False, inplace=True)"
   ]
  },
  {
   "cell_type": "code",
   "execution_count": 962,
   "metadata": {},
   "outputs": [
    {
     "data": {
      "text/html": [
       "<div>\n",
       "<style scoped>\n",
       "    .dataframe tbody tr th:only-of-type {\n",
       "        vertical-align: middle;\n",
       "    }\n",
       "\n",
       "    .dataframe tbody tr th {\n",
       "        vertical-align: top;\n",
       "    }\n",
       "\n",
       "    .dataframe thead th {\n",
       "        text-align: right;\n",
       "    }\n",
       "</style>\n",
       "<table border=\"1\" class=\"dataframe\">\n",
       "  <thead>\n",
       "    <tr style=\"text-align: right;\">\n",
       "      <th></th>\n",
       "      <th></th>\n",
       "      <th>og_nr</th>\n",
       "      <th>date_contracted</th>\n",
       "    </tr>\n",
       "  </thead>\n",
       "  <tbody>\n",
       "    <tr>\n",
       "      <th>OG_Info_reserve__OGOrg_1_df</th>\n",
       "      <th>793</th>\n",
       "      <td>20028.0</td>\n",
       "      <td>2019-07-31</td>\n",
       "    </tr>\n",
       "    <tr>\n",
       "      <th>OGInfo__OGMB_1_df</th>\n",
       "      <th>5506</th>\n",
       "      <td>20028.0</td>\n",
       "      <td>2019-02-01</td>\n",
       "    </tr>\n",
       "    <tr>\n",
       "      <th>OG_Info__OGOrg_1_df</th>\n",
       "      <th>981</th>\n",
       "      <td>20028.0</td>\n",
       "      <td>2019-01-02</td>\n",
       "    </tr>\n",
       "  </tbody>\n",
       "</table>\n",
       "</div>"
      ],
      "text/plain": [
       "                                    og_nr date_contracted\n",
       "OG_Info_reserve__OGOrg_1_df 793   20028.0      2019-07-31\n",
       "OGInfo__OGMB_1_df           5506  20028.0      2019-02-01\n",
       "OG_Info__OGOrg_1_df         981   20028.0      2019-01-02"
      ]
     },
     "execution_count": 962,
     "metadata": {},
     "output_type": "execute_result"
    }
   ],
   "source": [
    "concated_farmers[concated_farmers['og_nr'] == 20028.0][['og_nr', 'date_contracted']]"
   ]
  },
  {
   "cell_type": "code",
   "execution_count": 963,
   "metadata": {},
   "outputs": [
    {
     "data": {
      "text/plain": [
       "True     12774\n",
       "False     9094\n",
       "Name: og_nr, dtype: int64"
      ]
     },
     "execution_count": 963,
     "metadata": {},
     "output_type": "execute_result"
    }
   ],
   "source": [
    "# 1258 duplicates in og_nr\n",
    "concated_farmers['og_nr'].duplicated().value_counts()"
   ]
  },
  {
   "cell_type": "code",
   "execution_count": 974,
   "metadata": {},
   "outputs": [],
   "source": [
    "#concated_farmers[concated_farmers['og_nr'].isna()] "
   ]
  },
  {
   "cell_type": "code",
   "execution_count": 973,
   "metadata": {},
   "outputs": [
    {
     "ename": "ValueError",
     "evalue": "cannot join with no overlapping index names",
     "output_type": "error",
     "traceback": [
      "\u001b[0;31m---------------------------------------------------------------------------\u001b[0m",
      "\u001b[0;31mValueError\u001b[0m                                Traceback (most recent call last)",
      "Cell \u001b[0;32mIn[973], line 1\u001b[0m\n\u001b[0;32m----> 1\u001b[0m concated_farmers \u001b[39m=\u001b[39m concated_farmers[((concated_farmers\u001b[39m.\u001b[39;49mdrop_duplicates(\u001b[39m'\u001b[39;49m\u001b[39mog_nr\u001b[39;49m\u001b[39m'\u001b[39;49m, keep\u001b[39m=\u001b[39;49m\u001b[39m'\u001b[39;49m\u001b[39mfirst\u001b[39;49m\u001b[39m'\u001b[39;49m)) \u001b[39m|\u001b[39;49m concated_farmers[\u001b[39m'\u001b[39;49m\u001b[39mog_nr\u001b[39;49m\u001b[39m'\u001b[39;49m]\u001b[39m.\u001b[39;49misna())]\n",
      "File \u001b[0;32m/opt/homebrew/Caskroom/miniconda/base/envs/nf_sql/lib/python3.9/site-packages/pandas/core/ops/common.py:72\u001b[0m, in \u001b[0;36m_unpack_zerodim_and_defer.<locals>.new_method\u001b[0;34m(self, other)\u001b[0m\n\u001b[1;32m     68\u001b[0m             \u001b[39mreturn\u001b[39;00m \u001b[39mNotImplemented\u001b[39m\n\u001b[1;32m     70\u001b[0m other \u001b[39m=\u001b[39m item_from_zerodim(other)\n\u001b[0;32m---> 72\u001b[0m \u001b[39mreturn\u001b[39;00m method(\u001b[39mself\u001b[39;49m, other)\n",
      "File \u001b[0;32m/opt/homebrew/Caskroom/miniconda/base/envs/nf_sql/lib/python3.9/site-packages/pandas/core/arraylike.py:80\u001b[0m, in \u001b[0;36mOpsMixin.__or__\u001b[0;34m(self, other)\u001b[0m\n\u001b[1;32m     78\u001b[0m \u001b[39m@unpack_zerodim_and_defer\u001b[39m(\u001b[39m\"\u001b[39m\u001b[39m__or__\u001b[39m\u001b[39m\"\u001b[39m)\n\u001b[1;32m     79\u001b[0m \u001b[39mdef\u001b[39;00m \u001b[39m__or__\u001b[39m(\u001b[39mself\u001b[39m, other):\n\u001b[0;32m---> 80\u001b[0m     \u001b[39mreturn\u001b[39;00m \u001b[39mself\u001b[39;49m\u001b[39m.\u001b[39;49m_logical_method(other, operator\u001b[39m.\u001b[39;49mor_)\n",
      "File \u001b[0;32m/opt/homebrew/Caskroom/miniconda/base/envs/nf_sql/lib/python3.9/site-packages/pandas/core/frame.py:7592\u001b[0m, in \u001b[0;36mDataFrame._arith_method\u001b[0;34m(self, other, op)\u001b[0m\n\u001b[1;32m   7589\u001b[0m axis \u001b[39m=\u001b[39m \u001b[39m1\u001b[39m  \u001b[39m# only relevant for Series other case\u001b[39;00m\n\u001b[1;32m   7590\u001b[0m other \u001b[39m=\u001b[39m ops\u001b[39m.\u001b[39mmaybe_prepare_scalar_for_op(other, (\u001b[39mself\u001b[39m\u001b[39m.\u001b[39mshape[axis],))\n\u001b[0;32m-> 7592\u001b[0m \u001b[39mself\u001b[39m, other \u001b[39m=\u001b[39m ops\u001b[39m.\u001b[39;49malign_method_FRAME(\u001b[39mself\u001b[39;49m, other, axis, flex\u001b[39m=\u001b[39;49m\u001b[39mTrue\u001b[39;49;00m, level\u001b[39m=\u001b[39;49m\u001b[39mNone\u001b[39;49;00m)\n\u001b[1;32m   7594\u001b[0m new_data \u001b[39m=\u001b[39m \u001b[39mself\u001b[39m\u001b[39m.\u001b[39m_dispatch_frame_op(other, op, axis\u001b[39m=\u001b[39maxis)\n\u001b[1;32m   7595\u001b[0m \u001b[39mreturn\u001b[39;00m \u001b[39mself\u001b[39m\u001b[39m.\u001b[39m_construct_result(new_data)\n",
      "File \u001b[0;32m/opt/homebrew/Caskroom/miniconda/base/envs/nf_sql/lib/python3.9/site-packages/pandas/core/ops/__init__.py:307\u001b[0m, in \u001b[0;36malign_method_FRAME\u001b[0;34m(left, right, axis, flex, level)\u001b[0m\n\u001b[1;32m    297\u001b[0m         \u001b[39mif\u001b[39;00m \u001b[39mnot\u001b[39;00m left\u001b[39m.\u001b[39maxes[axis]\u001b[39m.\u001b[39mequals(right\u001b[39m.\u001b[39mindex):\n\u001b[1;32m    298\u001b[0m             warnings\u001b[39m.\u001b[39mwarn(\n\u001b[1;32m    299\u001b[0m                 \u001b[39m\"\u001b[39m\u001b[39mAutomatic reindexing on DataFrame vs Series comparisons \u001b[39m\u001b[39m\"\u001b[39m\n\u001b[1;32m    300\u001b[0m                 \u001b[39m\"\u001b[39m\u001b[39mis deprecated and will raise ValueError in a future version. \u001b[39m\u001b[39m\"\u001b[39m\n\u001b[0;32m   (...)\u001b[0m\n\u001b[1;32m    304\u001b[0m                 stacklevel\u001b[39m=\u001b[39mfind_stack_level(),\n\u001b[1;32m    305\u001b[0m             )\n\u001b[0;32m--> 307\u001b[0m     left, right \u001b[39m=\u001b[39m left\u001b[39m.\u001b[39;49malign(\n\u001b[1;32m    308\u001b[0m         right, join\u001b[39m=\u001b[39;49m\u001b[39m\"\u001b[39;49m\u001b[39mouter\u001b[39;49m\u001b[39m\"\u001b[39;49m, axis\u001b[39m=\u001b[39;49maxis, level\u001b[39m=\u001b[39;49mlevel, copy\u001b[39m=\u001b[39;49m\u001b[39mFalse\u001b[39;49;00m\n\u001b[1;32m    309\u001b[0m     )\n\u001b[1;32m    310\u001b[0m     right \u001b[39m=\u001b[39m _maybe_align_series_as_frame(left, right, axis)\n\u001b[1;32m    312\u001b[0m \u001b[39mreturn\u001b[39;00m left, right\n",
      "File \u001b[0;32m/opt/homebrew/Caskroom/miniconda/base/envs/nf_sql/lib/python3.9/site-packages/pandas/core/frame.py:5090\u001b[0m, in \u001b[0;36mDataFrame.align\u001b[0;34m(self, other, join, axis, level, copy, fill_value, method, limit, fill_axis, broadcast_axis)\u001b[0m\n\u001b[1;32m   5076\u001b[0m \u001b[39m@doc\u001b[39m(NDFrame\u001b[39m.\u001b[39malign, \u001b[39m*\u001b[39m\u001b[39m*\u001b[39m_shared_doc_kwargs)\n\u001b[1;32m   5077\u001b[0m \u001b[39mdef\u001b[39;00m \u001b[39malign\u001b[39m(\n\u001b[1;32m   5078\u001b[0m     \u001b[39mself\u001b[39m,\n\u001b[0;32m   (...)\u001b[0m\n\u001b[1;32m   5088\u001b[0m     broadcast_axis: Axis \u001b[39m|\u001b[39m \u001b[39mNone\u001b[39;00m \u001b[39m=\u001b[39m \u001b[39mNone\u001b[39;00m,\n\u001b[1;32m   5089\u001b[0m ) \u001b[39m-\u001b[39m\u001b[39m>\u001b[39m DataFrame:\n\u001b[0;32m-> 5090\u001b[0m     \u001b[39mreturn\u001b[39;00m \u001b[39msuper\u001b[39;49m()\u001b[39m.\u001b[39;49malign(\n\u001b[1;32m   5091\u001b[0m         other,\n\u001b[1;32m   5092\u001b[0m         join\u001b[39m=\u001b[39;49mjoin,\n\u001b[1;32m   5093\u001b[0m         axis\u001b[39m=\u001b[39;49maxis,\n\u001b[1;32m   5094\u001b[0m         level\u001b[39m=\u001b[39;49mlevel,\n\u001b[1;32m   5095\u001b[0m         copy\u001b[39m=\u001b[39;49mcopy,\n\u001b[1;32m   5096\u001b[0m         fill_value\u001b[39m=\u001b[39;49mfill_value,\n\u001b[1;32m   5097\u001b[0m         method\u001b[39m=\u001b[39;49mmethod,\n\u001b[1;32m   5098\u001b[0m         limit\u001b[39m=\u001b[39;49mlimit,\n\u001b[1;32m   5099\u001b[0m         fill_axis\u001b[39m=\u001b[39;49mfill_axis,\n\u001b[1;32m   5100\u001b[0m         broadcast_axis\u001b[39m=\u001b[39;49mbroadcast_axis,\n\u001b[1;32m   5101\u001b[0m     )\n",
      "File \u001b[0;32m/opt/homebrew/Caskroom/miniconda/base/envs/nf_sql/lib/python3.9/site-packages/pandas/core/generic.py:9452\u001b[0m, in \u001b[0;36mNDFrame.align\u001b[0;34m(self, other, join, axis, level, copy, fill_value, method, limit, fill_axis, broadcast_axis)\u001b[0m\n\u001b[1;32m   9440\u001b[0m     \u001b[39mreturn\u001b[39;00m \u001b[39mself\u001b[39m\u001b[39m.\u001b[39m_align_frame(\n\u001b[1;32m   9441\u001b[0m         other,\n\u001b[1;32m   9442\u001b[0m         join\u001b[39m=\u001b[39mjoin,\n\u001b[0;32m   (...)\u001b[0m\n\u001b[1;32m   9449\u001b[0m         fill_axis\u001b[39m=\u001b[39mfill_axis,\n\u001b[1;32m   9450\u001b[0m     )\n\u001b[1;32m   9451\u001b[0m \u001b[39melif\u001b[39;00m \u001b[39misinstance\u001b[39m(other, ABCSeries):\n\u001b[0;32m-> 9452\u001b[0m     \u001b[39mreturn\u001b[39;00m \u001b[39mself\u001b[39;49m\u001b[39m.\u001b[39;49m_align_series(\n\u001b[1;32m   9453\u001b[0m         other,\n\u001b[1;32m   9454\u001b[0m         join\u001b[39m=\u001b[39;49mjoin,\n\u001b[1;32m   9455\u001b[0m         axis\u001b[39m=\u001b[39;49maxis,\n\u001b[1;32m   9456\u001b[0m         level\u001b[39m=\u001b[39;49mlevel,\n\u001b[1;32m   9457\u001b[0m         copy\u001b[39m=\u001b[39;49mcopy,\n\u001b[1;32m   9458\u001b[0m         fill_value\u001b[39m=\u001b[39;49mfill_value,\n\u001b[1;32m   9459\u001b[0m         method\u001b[39m=\u001b[39;49mmethod,\n\u001b[1;32m   9460\u001b[0m         limit\u001b[39m=\u001b[39;49mlimit,\n\u001b[1;32m   9461\u001b[0m         fill_axis\u001b[39m=\u001b[39;49mfill_axis,\n\u001b[1;32m   9462\u001b[0m     )\n\u001b[1;32m   9463\u001b[0m \u001b[39melse\u001b[39;00m:  \u001b[39m# pragma: no cover\u001b[39;00m\n\u001b[1;32m   9464\u001b[0m     \u001b[39mraise\u001b[39;00m \u001b[39mTypeError\u001b[39;00m(\u001b[39mf\u001b[39m\u001b[39m\"\u001b[39m\u001b[39munsupported type: \u001b[39m\u001b[39m{\u001b[39;00m\u001b[39mtype\u001b[39m(other)\u001b[39m}\u001b[39;00m\u001b[39m\"\u001b[39m)\n",
      "File \u001b[0;32m/opt/homebrew/Caskroom/miniconda/base/envs/nf_sql/lib/python3.9/site-packages/pandas/core/generic.py:9581\u001b[0m, in \u001b[0;36mNDFrame._align_series\u001b[0;34m(self, other, join, axis, level, copy, fill_value, method, limit, fill_axis)\u001b[0m\n\u001b[1;32m   9579\u001b[0m lidx, ridx \u001b[39m=\u001b[39m \u001b[39mNone\u001b[39;00m, \u001b[39mNone\u001b[39;00m\n\u001b[1;32m   9580\u001b[0m \u001b[39mif\u001b[39;00m \u001b[39mnot\u001b[39;00m join_index\u001b[39m.\u001b[39mequals(other\u001b[39m.\u001b[39mindex):\n\u001b[0;32m-> 9581\u001b[0m     join_index, lidx, ridx \u001b[39m=\u001b[39m join_index\u001b[39m.\u001b[39;49mjoin(\n\u001b[1;32m   9582\u001b[0m         other\u001b[39m.\u001b[39;49mindex, how\u001b[39m=\u001b[39;49mjoin, level\u001b[39m=\u001b[39;49mlevel, return_indexers\u001b[39m=\u001b[39;49m\u001b[39mTrue\u001b[39;49;00m\n\u001b[1;32m   9583\u001b[0m     )\n\u001b[1;32m   9585\u001b[0m \u001b[39mif\u001b[39;00m lidx \u001b[39mis\u001b[39;00m \u001b[39mnot\u001b[39;00m \u001b[39mNone\u001b[39;00m:\n\u001b[1;32m   9586\u001b[0m     bm_axis \u001b[39m=\u001b[39m \u001b[39mself\u001b[39m\u001b[39m.\u001b[39m_get_block_manager_axis(\u001b[39m1\u001b[39m)\n",
      "File \u001b[0;32m/opt/homebrew/Caskroom/miniconda/base/envs/nf_sql/lib/python3.9/site-packages/pandas/util/_decorators.py:331\u001b[0m, in \u001b[0;36mdeprecate_nonkeyword_arguments.<locals>.decorate.<locals>.wrapper\u001b[0;34m(*args, **kwargs)\u001b[0m\n\u001b[1;32m    325\u001b[0m \u001b[39mif\u001b[39;00m \u001b[39mlen\u001b[39m(args) \u001b[39m>\u001b[39m num_allow_args:\n\u001b[1;32m    326\u001b[0m     warnings\u001b[39m.\u001b[39mwarn(\n\u001b[1;32m    327\u001b[0m         msg\u001b[39m.\u001b[39mformat(arguments\u001b[39m=\u001b[39m_format_argument_list(allow_args)),\n\u001b[1;32m    328\u001b[0m         \u001b[39mFutureWarning\u001b[39;00m,\n\u001b[1;32m    329\u001b[0m         stacklevel\u001b[39m=\u001b[39mfind_stack_level(),\n\u001b[1;32m    330\u001b[0m     )\n\u001b[0;32m--> 331\u001b[0m \u001b[39mreturn\u001b[39;00m func(\u001b[39m*\u001b[39;49margs, \u001b[39m*\u001b[39;49m\u001b[39m*\u001b[39;49mkwargs)\n",
      "File \u001b[0;32m/opt/homebrew/Caskroom/miniconda/base/envs/nf_sql/lib/python3.9/site-packages/pandas/core/indexes/base.py:228\u001b[0m, in \u001b[0;36m_maybe_return_indexers.<locals>.join\u001b[0;34m(self, other, how, level, return_indexers, sort)\u001b[0m\n\u001b[1;32m    219\u001b[0m \u001b[39m@functools\u001b[39m\u001b[39m.\u001b[39mwraps(meth)\n\u001b[1;32m    220\u001b[0m \u001b[39mdef\u001b[39;00m \u001b[39mjoin\u001b[39m(\n\u001b[1;32m    221\u001b[0m     \u001b[39mself\u001b[39m,\n\u001b[0;32m   (...)\u001b[0m\n\u001b[1;32m    226\u001b[0m     sort: \u001b[39mbool\u001b[39m \u001b[39m=\u001b[39m \u001b[39mFalse\u001b[39;00m,\n\u001b[1;32m    227\u001b[0m ):\n\u001b[0;32m--> 228\u001b[0m     join_index, lidx, ridx \u001b[39m=\u001b[39m meth(\u001b[39mself\u001b[39;49m, other, how\u001b[39m=\u001b[39;49mhow, level\u001b[39m=\u001b[39;49mlevel, sort\u001b[39m=\u001b[39;49msort)\n\u001b[1;32m    229\u001b[0m     \u001b[39mif\u001b[39;00m \u001b[39mnot\u001b[39;00m return_indexers:\n\u001b[1;32m    230\u001b[0m         \u001b[39mreturn\u001b[39;00m join_index\n",
      "File \u001b[0;32m/opt/homebrew/Caskroom/miniconda/base/envs/nf_sql/lib/python3.9/site-packages/pandas/core/indexes/base.py:4615\u001b[0m, in \u001b[0;36mIndex.join\u001b[0;34m(self, other, how, level, return_indexers, sort)\u001b[0m\n\u001b[1;32m   4613\u001b[0m         \u001b[39mpass\u001b[39;00m\n\u001b[1;32m   4614\u001b[0m     \u001b[39melse\u001b[39;00m:\n\u001b[0;32m-> 4615\u001b[0m         \u001b[39mreturn\u001b[39;00m \u001b[39mself\u001b[39;49m\u001b[39m.\u001b[39;49m_join_multi(other, how\u001b[39m=\u001b[39;49mhow)\n\u001b[1;32m   4617\u001b[0m \u001b[39m# join on the level\u001b[39;00m\n\u001b[1;32m   4618\u001b[0m \u001b[39mif\u001b[39;00m level \u001b[39mis\u001b[39;00m \u001b[39mnot\u001b[39;00m \u001b[39mNone\u001b[39;00m \u001b[39mand\u001b[39;00m (\u001b[39mself\u001b[39m\u001b[39m.\u001b[39m_is_multi \u001b[39mor\u001b[39;00m other\u001b[39m.\u001b[39m_is_multi):\n",
      "File \u001b[0;32m/opt/homebrew/Caskroom/miniconda/base/envs/nf_sql/lib/python3.9/site-packages/pandas/core/indexes/base.py:4739\u001b[0m, in \u001b[0;36mIndex._join_multi\u001b[0;34m(self, other, how)\u001b[0m\n\u001b[1;32m   4737\u001b[0m \u001b[39m# need at least 1 in common\u001b[39;00m\n\u001b[1;32m   4738\u001b[0m \u001b[39mif\u001b[39;00m \u001b[39mnot\u001b[39;00m overlap:\n\u001b[0;32m-> 4739\u001b[0m     \u001b[39mraise\u001b[39;00m \u001b[39mValueError\u001b[39;00m(\u001b[39m\"\u001b[39m\u001b[39mcannot join with no overlapping index names\u001b[39m\u001b[39m\"\u001b[39m)\n\u001b[1;32m   4741\u001b[0m \u001b[39mif\u001b[39;00m \u001b[39misinstance\u001b[39m(\u001b[39mself\u001b[39m, MultiIndex) \u001b[39mand\u001b[39;00m \u001b[39misinstance\u001b[39m(other, MultiIndex):\n\u001b[1;32m   4742\u001b[0m \n\u001b[1;32m   4743\u001b[0m     \u001b[39m# Drop the non-matching levels from left and right respectively\u001b[39;00m\n\u001b[1;32m   4744\u001b[0m     ldrop_names \u001b[39m=\u001b[39m \u001b[39msorted\u001b[39m(self_names \u001b[39m-\u001b[39m overlap, key\u001b[39m=\u001b[39mself_names_order)\n",
      "\u001b[0;31mValueError\u001b[0m: cannot join with no overlapping index names"
     ]
    }
   ],
   "source": [
    "concated_farmers = concated_farmers[((concated_farmers.drop_duplicates('og_nr', keep='first')) | concated_farmers['og_nr'].isna())]"
   ]
  },
  {
   "cell_type": "code",
   "execution_count": null,
   "metadata": {},
   "outputs": [
    {
     "data": {
      "text/html": [
       "<div>\n",
       "<style scoped>\n",
       "    .dataframe tbody tr th:only-of-type {\n",
       "        vertical-align: middle;\n",
       "    }\n",
       "\n",
       "    .dataframe tbody tr th {\n",
       "        vertical-align: top;\n",
       "    }\n",
       "\n",
       "    .dataframe thead th {\n",
       "        text-align: right;\n",
       "    }\n",
       "</style>\n",
       "<table border=\"1\" class=\"dataframe\">\n",
       "  <thead>\n",
       "    <tr style=\"text-align: right;\">\n",
       "      <th></th>\n",
       "      <th></th>\n",
       "      <th>og_nr</th>\n",
       "      <th>date_contracted</th>\n",
       "    </tr>\n",
       "  </thead>\n",
       "  <tbody>\n",
       "    <tr>\n",
       "      <th>OG_Info_reserve__OGOrg_1_df</th>\n",
       "      <th>793</th>\n",
       "      <td>20028.0</td>\n",
       "      <td>2019-07-31</td>\n",
       "    </tr>\n",
       "  </tbody>\n",
       "</table>\n",
       "</div>"
      ],
      "text/plain": [
       "                                   og_nr date_contracted\n",
       "OG_Info_reserve__OGOrg_1_df 793  20028.0      2019-07-31"
      ]
     },
     "execution_count": 893,
     "metadata": {},
     "output_type": "execute_result"
    }
   ],
   "source": [
    "concated_farmers[concated_farmers['og_nr'] == 20028.0][['og_nr', 'date_contracted']]"
   ]
  },
  {
   "cell_type": "code",
   "execution_count": null,
   "metadata": {},
   "outputs": [
    {
     "data": {
      "text/plain": [
       "False    9094\n",
       "Name: og_nr, dtype: int64"
      ]
     },
     "execution_count": 894,
     "metadata": {},
     "output_type": "execute_result"
    }
   ],
   "source": [
    "concated_farmers['og_nr'].duplicated().value_counts()"
   ]
  },
  {
   "cell_type": "code",
   "execution_count": null,
   "metadata": {},
   "outputs": [
    {
     "name": "stdout",
     "output_type": "stream",
     "text": [
      "<class 'pandas.core.frame.DataFrame'>\n",
      "MultiIndex: 9094 entries, ('OGInfo__OGMB_1_df', 145) to ('OGInfo__OGMB_1_df', 6528)\n",
      "Data columns (total 22 columns):\n",
      " #   Column                    Non-Null Count  Dtype         \n",
      "---  ------                    --------------  -----         \n",
      " 0   id                        9094 non-null   int64         \n",
      " 1   og_nr                     9093 non-null   float64       \n",
      " 2   og_code                   9093 non-null   object        \n",
      " 3   production_unit           9094 non-null   object        \n",
      " 4   area                      9094 non-null   object        \n",
      " 5   ward_nr/name              9092 non-null   object        \n",
      " 6   species                   9094 non-null   object        \n",
      " 7   surname                   9094 non-null   object        \n",
      " 8   first_names               9094 non-null   object        \n",
      " 9   sex                       9094 non-null   object        \n",
      " 10  id_number                 7938 non-null   object        \n",
      " 11  date_of_birth             1515 non-null   datetime64[ns]\n",
      " 12  date_contracted           9092 non-null   datetime64[ns]\n",
      " 13  date_dropped_out          6948 non-null   datetime64[ns]\n",
      " 14  reason_dropped_out        6441 non-null   object        \n",
      " 15  address                   8828 non-null   object        \n",
      " 16  organic_status            9094 non-null   object        \n",
      " 17  organic_status_from_date  9094 non-null   object        \n",
      " 18  fairtrade                 9094 non-null   bool          \n",
      " 19  ward_nr                   9092 non-null   float64       \n",
      " 20  wc_nr                     1 non-null      float64       \n",
      " 21  wc_code                   1 non-null      object        \n",
      "dtypes: bool(1), datetime64[ns](3), float64(3), int64(1), object(14)\n",
      "memory usage: 1.8+ MB\n"
     ]
    }
   ],
   "source": [
    "concated_farmers.info()"
   ]
  },
  {
   "cell_type": "code",
   "execution_count": null,
   "metadata": {},
   "outputs": [
    {
     "data": {
      "text/html": [
       "<div>\n",
       "<style scoped>\n",
       "    .dataframe tbody tr th:only-of-type {\n",
       "        vertical-align: middle;\n",
       "    }\n",
       "\n",
       "    .dataframe tbody tr th {\n",
       "        vertical-align: top;\n",
       "    }\n",
       "\n",
       "    .dataframe thead th {\n",
       "        text-align: right;\n",
       "    }\n",
       "</style>\n",
       "<table border=\"1\" class=\"dataframe\">\n",
       "  <thead>\n",
       "    <tr style=\"text-align: right;\">\n",
       "      <th></th>\n",
       "      <th></th>\n",
       "      <th>id</th>\n",
       "      <th>og_nr</th>\n",
       "      <th>og_code</th>\n",
       "      <th>production_unit</th>\n",
       "      <th>area</th>\n",
       "      <th>ward_nr/name</th>\n",
       "      <th>species</th>\n",
       "      <th>surname</th>\n",
       "      <th>first_names</th>\n",
       "      <th>sex</th>\n",
       "      <th>...</th>\n",
       "      <th>date_contracted</th>\n",
       "      <th>date_dropped_out</th>\n",
       "      <th>reason_dropped_out</th>\n",
       "      <th>address</th>\n",
       "      <th>organic_status</th>\n",
       "      <th>organic_status_from_date</th>\n",
       "      <th>fairtrade</th>\n",
       "      <th>ward_nr</th>\n",
       "      <th>wc_nr</th>\n",
       "      <th>wc_code</th>\n",
       "    </tr>\n",
       "  </thead>\n",
       "  <tbody>\n",
       "    <tr>\n",
       "      <th rowspan=\"5\" valign=\"top\">OGInfo__OGMB_1_df</th>\n",
       "      <th>0</th>\n",
       "      <td>1545</td>\n",
       "      <td>13137.0</td>\n",
       "      <td>MBOGR</td>\n",
       "      <td>Mashonaland Central</td>\n",
       "      <td>Mbire</td>\n",
       "      <td>15</td>\n",
       "      <td>Rosella</td>\n",
       "      <td>Nyamayaro</td>\n",
       "      <td>Phillip</td>\n",
       "      <td>male</td>\n",
       "      <td>...</td>\n",
       "      <td>NaT</td>\n",
       "      <td>2020-02-05</td>\n",
       "      <td>Own choice</td>\n",
       "      <td>Mahuwe sch, Box 92, Mbire D</td>\n",
       "      <td>Dropout</td>\n",
       "      <td>2017-12-02 00:00:00.000</td>\n",
       "      <td>False</td>\n",
       "      <td>15.0</td>\n",
       "      <td>NaN</td>\n",
       "      <td>NaN</td>\n",
       "    </tr>\n",
       "    <tr>\n",
       "      <th>1</th>\n",
       "      <td>12026</td>\n",
       "      <td>12116.0</td>\n",
       "      <td>MBOGR</td>\n",
       "      <td>Mashonaland Central</td>\n",
       "      <td>Mbire</td>\n",
       "      <td>6</td>\n",
       "      <td>Rosella</td>\n",
       "      <td>Funda</td>\n",
       "      <td>Jennie</td>\n",
       "      <td>female</td>\n",
       "      <td>...</td>\n",
       "      <td>2022-04-02</td>\n",
       "      <td>NaT</td>\n",
       "      <td>None</td>\n",
       "      <td>Kasuwo Primary School 346, Mbire</td>\n",
       "      <td>Mabagrown</td>\n",
       "      <td>2022-04-02 00:00:00.000</td>\n",
       "      <td>False</td>\n",
       "      <td>6.0</td>\n",
       "      <td>NaN</td>\n",
       "      <td>NaN</td>\n",
       "    </tr>\n",
       "    <tr>\n",
       "      <th>2</th>\n",
       "      <td>9914</td>\n",
       "      <td>23949.0</td>\n",
       "      <td>MBOGK</td>\n",
       "      <td>Mashonaland Central</td>\n",
       "      <td>Mbire</td>\n",
       "      <td>13</td>\n",
       "      <td>Rosella</td>\n",
       "      <td>Chingwena</td>\n",
       "      <td>Gladys</td>\n",
       "      <td>female</td>\n",
       "      <td>...</td>\n",
       "      <td>2020-03-23</td>\n",
       "      <td>2021-07-26</td>\n",
       "      <td>Area closed</td>\n",
       "      <td>Sapa Primary School P O Box 203</td>\n",
       "      <td>Dropout</td>\n",
       "      <td>2020-03-23 00:00:00.000</td>\n",
       "      <td>False</td>\n",
       "      <td>13.0</td>\n",
       "      <td>NaN</td>\n",
       "      <td>NaN</td>\n",
       "    </tr>\n",
       "    <tr>\n",
       "      <th>3</th>\n",
       "      <td>9915</td>\n",
       "      <td>23950.0</td>\n",
       "      <td>MBOGK</td>\n",
       "      <td>Mashonaland Central</td>\n",
       "      <td>Mbire</td>\n",
       "      <td>13</td>\n",
       "      <td>Rosella</td>\n",
       "      <td>Marumbe</td>\n",
       "      <td>Tariro</td>\n",
       "      <td>female</td>\n",
       "      <td>...</td>\n",
       "      <td>2020-03-23</td>\n",
       "      <td>2021-07-26</td>\n",
       "      <td>Area closed</td>\n",
       "      <td>Sapa Primary School P O Box 203</td>\n",
       "      <td>Dropout</td>\n",
       "      <td>2020-03-23 00:00:00.000</td>\n",
       "      <td>False</td>\n",
       "      <td>13.0</td>\n",
       "      <td>NaN</td>\n",
       "      <td>NaN</td>\n",
       "    </tr>\n",
       "    <tr>\n",
       "      <th>4</th>\n",
       "      <td>9916</td>\n",
       "      <td>23951.0</td>\n",
       "      <td>MBOGK</td>\n",
       "      <td>Mashonaland Central</td>\n",
       "      <td>Mbire</td>\n",
       "      <td>13</td>\n",
       "      <td>Rosella</td>\n",
       "      <td>Dambudzo</td>\n",
       "      <td>Ketai</td>\n",
       "      <td>female</td>\n",
       "      <td>...</td>\n",
       "      <td>2020-03-23</td>\n",
       "      <td>2021-07-26</td>\n",
       "      <td>Area closed</td>\n",
       "      <td>Sapa Primary School P O Box 203</td>\n",
       "      <td>Dropout</td>\n",
       "      <td>2020-03-23 00:00:00.000</td>\n",
       "      <td>False</td>\n",
       "      <td>13.0</td>\n",
       "      <td>NaN</td>\n",
       "      <td>NaN</td>\n",
       "    </tr>\n",
       "    <tr>\n",
       "      <th>...</th>\n",
       "      <th>...</th>\n",
       "      <td>...</td>\n",
       "      <td>...</td>\n",
       "      <td>...</td>\n",
       "      <td>...</td>\n",
       "      <td>...</td>\n",
       "      <td>...</td>\n",
       "      <td>...</td>\n",
       "      <td>...</td>\n",
       "      <td>...</td>\n",
       "      <td>...</td>\n",
       "      <td>...</td>\n",
       "      <td>...</td>\n",
       "      <td>...</td>\n",
       "      <td>...</td>\n",
       "      <td>...</td>\n",
       "      <td>...</td>\n",
       "      <td>...</td>\n",
       "      <td>...</td>\n",
       "      <td>...</td>\n",
       "      <td>...</td>\n",
       "      <td>...</td>\n",
       "    </tr>\n",
       "    <tr>\n",
       "      <th rowspan=\"4\" valign=\"top\">OG_Info_reserve__OGOrg_1_df</th>\n",
       "      <th>774</th>\n",
       "      <td>3529</td>\n",
       "      <td>20006.0</td>\n",
       "      <td>MUOG</td>\n",
       "      <td>Mashonaland Central</td>\n",
       "      <td>Mushumbi</td>\n",
       "      <td>3</td>\n",
       "      <td>Rosella, Chilli, Paprika</td>\n",
       "      <td>Chatambudzika</td>\n",
       "      <td>Silver</td>\n",
       "      <td>male</td>\n",
       "      <td>...</td>\n",
       "      <td>2022-11-06</td>\n",
       "      <td>NaT</td>\n",
       "      <td>None</td>\n",
       "      <td>ARDA Mushumbi, Box 210, Mbire</td>\n",
       "      <td>New</td>\n",
       "      <td>2019-02-07</td>\n",
       "      <td>False</td>\n",
       "      <td>3.0</td>\n",
       "      <td>NaN</td>\n",
       "      <td>NaN</td>\n",
       "    </tr>\n",
       "    <tr>\n",
       "      <th>785</th>\n",
       "      <td>3541</td>\n",
       "      <td>20018.0</td>\n",
       "      <td>MUOG</td>\n",
       "      <td>Mashonaland Central</td>\n",
       "      <td>Mushumbi</td>\n",
       "      <td>3</td>\n",
       "      <td>Rosella, Chilli, Paprika</td>\n",
       "      <td>Chiombera</td>\n",
       "      <td>Masimba</td>\n",
       "      <td>male</td>\n",
       "      <td>...</td>\n",
       "      <td>2022-10-06</td>\n",
       "      <td>NaT</td>\n",
       "      <td>None</td>\n",
       "      <td>ARDA Mushumbi, Box 210, Mbire</td>\n",
       "      <td>New</td>\n",
       "      <td>2019-02-01</td>\n",
       "      <td>False</td>\n",
       "      <td>3.0</td>\n",
       "      <td>NaN</td>\n",
       "      <td>NaN</td>\n",
       "    </tr>\n",
       "    <tr>\n",
       "      <th>792</th>\n",
       "      <td>3550</td>\n",
       "      <td>20027.0</td>\n",
       "      <td>MUOG</td>\n",
       "      <td>Mashonaland Central</td>\n",
       "      <td>Mushumbi</td>\n",
       "      <td>3</td>\n",
       "      <td>Rosella, Chilli, Paprika</td>\n",
       "      <td>Musiiwa</td>\n",
       "      <td>Admire</td>\n",
       "      <td>male</td>\n",
       "      <td>...</td>\n",
       "      <td>2019-07-31</td>\n",
       "      <td>NaT</td>\n",
       "      <td>None</td>\n",
       "      <td>ARDA Mushumbi, Box 210, Mbire</td>\n",
       "      <td>New</td>\n",
       "      <td>2019-02-01</td>\n",
       "      <td>False</td>\n",
       "      <td>3.0</td>\n",
       "      <td>NaN</td>\n",
       "      <td>NaN</td>\n",
       "    </tr>\n",
       "    <tr>\n",
       "      <th>793</th>\n",
       "      <td>3551</td>\n",
       "      <td>20028.0</td>\n",
       "      <td>MUOG</td>\n",
       "      <td>Mashonaland Central</td>\n",
       "      <td>Mushumbi</td>\n",
       "      <td>3</td>\n",
       "      <td>Rosella, Chilli, Paprika</td>\n",
       "      <td>Masodzi</td>\n",
       "      <td>Norah</td>\n",
       "      <td>female</td>\n",
       "      <td>...</td>\n",
       "      <td>2019-07-31</td>\n",
       "      <td>NaT</td>\n",
       "      <td>None</td>\n",
       "      <td>ARDA Mushumbi, Box 210, Mbire</td>\n",
       "      <td>New</td>\n",
       "      <td>2019-02-01</td>\n",
       "      <td>False</td>\n",
       "      <td>3.0</td>\n",
       "      <td>NaN</td>\n",
       "      <td>NaN</td>\n",
       "    </tr>\n",
       "    <tr>\n",
       "      <th>wc_info_bayoba_1_df</th>\n",
       "      <th>10856</th>\n",
       "      <td>32725</td>\n",
       "      <td>NaN</td>\n",
       "      <td>NaN</td>\n",
       "      <td>Northern Eastern region</td>\n",
       "      <td>Mutoko</td>\n",
       "      <td>None</td>\n",
       "      <td>Kalahari melon seed</td>\n",
       "      <td>Kalize</td>\n",
       "      <td>Caswell</td>\n",
       "      <td>male</td>\n",
       "      <td>...</td>\n",
       "      <td>2022-09-15</td>\n",
       "      <td>NaT</td>\n",
       "      <td>None</td>\n",
       "      <td>Tsiko Primary School, Mutoko</td>\n",
       "      <td>New</td>\n",
       "      <td>2022-09-15</td>\n",
       "      <td>False</td>\n",
       "      <td>NaN</td>\n",
       "      <td>16342.0</td>\n",
       "      <td>MUWC</td>\n",
       "    </tr>\n",
       "  </tbody>\n",
       "</table>\n",
       "<p>9094 rows × 22 columns</p>\n",
       "</div>"
      ],
      "text/plain": [
       "                                      id    og_nr og_code  \\\n",
       "OGInfo__OGMB_1_df           0       1545  13137.0   MBOGR   \n",
       "                            1      12026  12116.0   MBOGR   \n",
       "                            2       9914  23949.0   MBOGK   \n",
       "                            3       9915  23950.0   MBOGK   \n",
       "                            4       9916  23951.0   MBOGK   \n",
       "...                                  ...      ...     ...   \n",
       "OG_Info_reserve__OGOrg_1_df 774     3529  20006.0    MUOG   \n",
       "                            785     3541  20018.0    MUOG   \n",
       "                            792     3550  20027.0    MUOG   \n",
       "                            793     3551  20028.0    MUOG   \n",
       "wc_info_bayoba_1_df         10856  32725      NaN     NaN   \n",
       "\n",
       "                                           production_unit      area  \\\n",
       "OGInfo__OGMB_1_df           0          Mashonaland Central     Mbire   \n",
       "                            1          Mashonaland Central     Mbire   \n",
       "                            2          Mashonaland Central     Mbire   \n",
       "                            3          Mashonaland Central     Mbire   \n",
       "                            4          Mashonaland Central     Mbire   \n",
       "...                                                    ...       ...   \n",
       "OG_Info_reserve__OGOrg_1_df 774        Mashonaland Central  Mushumbi   \n",
       "                            785        Mashonaland Central  Mushumbi   \n",
       "                            792        Mashonaland Central  Mushumbi   \n",
       "                            793        Mashonaland Central  Mushumbi   \n",
       "wc_info_bayoba_1_df         10856  Northern Eastern region    Mutoko   \n",
       "\n",
       "                                  ward_nr/name                   species  \\\n",
       "OGInfo__OGMB_1_df           0               15                   Rosella   \n",
       "                            1                6                   Rosella   \n",
       "                            2               13                   Rosella   \n",
       "                            3               13                   Rosella   \n",
       "                            4               13                   Rosella   \n",
       "...                                        ...                       ...   \n",
       "OG_Info_reserve__OGOrg_1_df 774              3  Rosella, Chilli, Paprika   \n",
       "                            785              3  Rosella, Chilli, Paprika   \n",
       "                            792              3  Rosella, Chilli, Paprika   \n",
       "                            793              3  Rosella, Chilli, Paprika   \n",
       "wc_info_bayoba_1_df         10856         None       Kalahari melon seed   \n",
       "\n",
       "                                         surname first_names     sex  ...  \\\n",
       "OGInfo__OGMB_1_df           0          Nyamayaro     Phillip    male  ...   \n",
       "                            1              Funda      Jennie  female  ...   \n",
       "                            2          Chingwena      Gladys  female  ...   \n",
       "                            3            Marumbe      Tariro  female  ...   \n",
       "                            4           Dambudzo       Ketai  female  ...   \n",
       "...                                          ...         ...     ...  ...   \n",
       "OG_Info_reserve__OGOrg_1_df 774    Chatambudzika      Silver    male  ...   \n",
       "                            785        Chiombera     Masimba    male  ...   \n",
       "                            792          Musiiwa      Admire    male  ...   \n",
       "                            793          Masodzi       Norah  female  ...   \n",
       "wc_info_bayoba_1_df         10856         Kalize     Caswell    male  ...   \n",
       "\n",
       "                                  date_contracted date_dropped_out  \\\n",
       "OGInfo__OGMB_1_df           0                 NaT       2020-02-05   \n",
       "                            1          2022-04-02              NaT   \n",
       "                            2          2020-03-23       2021-07-26   \n",
       "                            3          2020-03-23       2021-07-26   \n",
       "                            4          2020-03-23       2021-07-26   \n",
       "...                                           ...              ...   \n",
       "OG_Info_reserve__OGOrg_1_df 774        2022-11-06              NaT   \n",
       "                            785        2022-10-06              NaT   \n",
       "                            792        2019-07-31              NaT   \n",
       "                            793        2019-07-31              NaT   \n",
       "wc_info_bayoba_1_df         10856      2022-09-15              NaT   \n",
       "\n",
       "                                  reason_dropped_out  \\\n",
       "OGInfo__OGMB_1_df           0             Own choice   \n",
       "                            1                   None   \n",
       "                            2            Area closed   \n",
       "                            3            Area closed   \n",
       "                            4            Area closed   \n",
       "...                                              ...   \n",
       "OG_Info_reserve__OGOrg_1_df 774                 None   \n",
       "                            785                 None   \n",
       "                            792                 None   \n",
       "                            793                 None   \n",
       "wc_info_bayoba_1_df         10856               None   \n",
       "\n",
       "                                                            address  \\\n",
       "OGInfo__OGMB_1_df           0           Mahuwe sch, Box 92, Mbire D   \n",
       "                            1      Kasuwo Primary School 346, Mbire   \n",
       "                            2       Sapa Primary School P O Box 203   \n",
       "                            3       Sapa Primary School P O Box 203   \n",
       "                            4       Sapa Primary School P O Box 203   \n",
       "...                                                             ...   \n",
       "OG_Info_reserve__OGOrg_1_df 774       ARDA Mushumbi, Box 210, Mbire   \n",
       "                            785       ARDA Mushumbi, Box 210, Mbire   \n",
       "                            792       ARDA Mushumbi, Box 210, Mbire   \n",
       "                            793       ARDA Mushumbi, Box 210, Mbire   \n",
       "wc_info_bayoba_1_df         10856      Tsiko Primary School, Mutoko   \n",
       "\n",
       "                                  organic_status organic_status_from_date  \\\n",
       "OGInfo__OGMB_1_df           0            Dropout  2017-12-02 00:00:00.000   \n",
       "                            1          Mabagrown  2022-04-02 00:00:00.000   \n",
       "                            2            Dropout  2020-03-23 00:00:00.000   \n",
       "                            3            Dropout  2020-03-23 00:00:00.000   \n",
       "                            4            Dropout  2020-03-23 00:00:00.000   \n",
       "...                                          ...                      ...   \n",
       "OG_Info_reserve__OGOrg_1_df 774              New               2019-02-07   \n",
       "                            785              New               2019-02-01   \n",
       "                            792              New               2019-02-01   \n",
       "                            793              New               2019-02-01   \n",
       "wc_info_bayoba_1_df         10856            New               2022-09-15   \n",
       "\n",
       "                                  fairtrade ward_nr    wc_nr  wc_code  \n",
       "OGInfo__OGMB_1_df           0         False    15.0      NaN      NaN  \n",
       "                            1         False     6.0      NaN      NaN  \n",
       "                            2         False    13.0      NaN      NaN  \n",
       "                            3         False    13.0      NaN      NaN  \n",
       "                            4         False    13.0      NaN      NaN  \n",
       "...                                     ...     ...      ...      ...  \n",
       "OG_Info_reserve__OGOrg_1_df 774       False     3.0      NaN      NaN  \n",
       "                            785       False     3.0      NaN      NaN  \n",
       "                            792       False     3.0      NaN      NaN  \n",
       "                            793       False     3.0      NaN      NaN  \n",
       "wc_info_bayoba_1_df         10856     False     NaN  16342.0     MUWC  \n",
       "\n",
       "[9094 rows x 22 columns]"
      ]
     },
     "execution_count": 820,
     "metadata": {},
     "output_type": "execute_result"
    }
   ],
   "source": [
    "# Sorting back with index\n",
    "concated_farmers.sort_index()"
   ]
  },
  {
   "cell_type": "code",
   "execution_count": null,
   "metadata": {},
   "outputs": [
    {
     "ename": "NameError",
     "evalue": "name 'error' is not defined",
     "output_type": "error",
     "traceback": [
      "\u001b[0;31m---------------------------------------------------------------------------\u001b[0m",
      "\u001b[0;31mNameError\u001b[0m                                 Traceback (most recent call last)",
      "Cell \u001b[0;32mIn[821], line 1\u001b[0m\n\u001b[0;32m----> 1\u001b[0m error\n",
      "\u001b[0;31mNameError\u001b[0m: name 'error' is not defined"
     ]
    }
   ],
   "source": [
    "error"
   ]
  },
  {
   "attachments": {},
   "cell_type": "markdown",
   "metadata": {},
   "source": [
    "### Further Cleaning"
   ]
  },
  {
   "cell_type": "code",
   "execution_count": null,
   "metadata": {},
   "outputs": [
    {
     "data": {
      "text/plain": [
       "Org             9948\n",
       "Dropout         7700\n",
       "New             2724\n",
       "Mabagrown       1113\n",
       "Reinstated       190\n",
       "Uncertified      149\n",
       "dropout           33\n",
       "Under review      10\n",
       "Name: organic_status, dtype: int64"
      ]
     },
     "execution_count": 75,
     "metadata": {},
     "output_type": "execute_result"
    }
   ],
   "source": [
    "concated_farmers['organic_status'].value_counts()"
   ]
  },
  {
   "cell_type": "code",
   "execution_count": null,
   "metadata": {},
   "outputs": [
    {
     "data": {
      "text/html": [
       "<div>\n",
       "<style scoped>\n",
       "    .dataframe tbody tr th:only-of-type {\n",
       "        vertical-align: middle;\n",
       "    }\n",
       "\n",
       "    .dataframe tbody tr th {\n",
       "        vertical-align: top;\n",
       "    }\n",
       "\n",
       "    .dataframe thead th {\n",
       "        text-align: right;\n",
       "    }\n",
       "</style>\n",
       "<table border=\"1\" class=\"dataframe\">\n",
       "  <thead>\n",
       "    <tr style=\"text-align: right;\">\n",
       "      <th></th>\n",
       "      <th></th>\n",
       "      <th>id</th>\n",
       "      <th>og_nr</th>\n",
       "      <th>og_code</th>\n",
       "      <th>production_unit</th>\n",
       "      <th>area</th>\n",
       "      <th>ward_nr/name</th>\n",
       "      <th>species</th>\n",
       "      <th>surname</th>\n",
       "      <th>first_names</th>\n",
       "      <th>sex</th>\n",
       "      <th>...</th>\n",
       "      <th>date_contracted</th>\n",
       "      <th>date_dropped_out</th>\n",
       "      <th>reason_dropped_out</th>\n",
       "      <th>address</th>\n",
       "      <th>organic_status</th>\n",
       "      <th>organic_status_from_date</th>\n",
       "      <th>fairtrade</th>\n",
       "      <th>ward_nr</th>\n",
       "      <th>wc_nr</th>\n",
       "      <th>wc_code</th>\n",
       "    </tr>\n",
       "  </thead>\n",
       "  <tbody>\n",
       "  </tbody>\n",
       "</table>\n",
       "<p>0 rows × 22 columns</p>\n",
       "</div>"
      ],
      "text/plain": [
       "Empty DataFrame\n",
       "Columns: [id, og_nr, og_code, production_unit, area, ward_nr/name, species, surname, first_names, sex, id_number, date_of_birth, date_contracted, date_dropped_out, reason_dropped_out, address, organic_status, organic_status_from_date, fairtrade, ward_nr, wc_nr, wc_code]\n",
       "Index: []\n",
       "\n",
       "[0 rows x 22 columns]"
      ]
     },
     "execution_count": 76,
     "metadata": {},
     "output_type": "execute_result"
    }
   ],
   "source": [
    "concated_farmers[concated_farmers['id'].isna()]"
   ]
  },
  {
   "cell_type": "code",
   "execution_count": null,
   "metadata": {},
   "outputs": [
    {
     "data": {
      "text/plain": [
       "False"
      ]
     },
     "execution_count": 77,
     "metadata": {},
     "output_type": "execute_result"
    }
   ],
   "source": [
    "df = concated_farmers[~concated_farmers['id_number'].isna()][['id_number']]\n",
    "df.squeeze().is_unique"
   ]
  },
  {
   "cell_type": "code",
   "execution_count": null,
   "metadata": {},
   "outputs": [],
   "source": [
    "concated_farmers['area'] = concated_farmers['area'].str.title()"
   ]
  },
  {
   "cell_type": "code",
   "execution_count": null,
   "metadata": {},
   "outputs": [],
   "source": [
    "concated_farmers['area'] = concated_farmers['area'].replace('Mt Darwin','Mt Darwin')"
   ]
  },
  {
   "cell_type": "code",
   "execution_count": null,
   "metadata": {},
   "outputs": [
    {
     "data": {
      "text/plain": [
       "(21868, 22)"
      ]
     },
     "execution_count": 81,
     "metadata": {},
     "output_type": "execute_result"
    }
   ],
   "source": [
    "concated_farmers.shape"
   ]
  },
  {
   "cell_type": "code",
   "execution_count": null,
   "metadata": {},
   "outputs": [
    {
     "data": {
      "text/plain": [
       "Mbire                   8128\n",
       "Binga                   2655\n",
       "Rushinga                1750\n",
       "Mudzi                   1590\n",
       "Chimanimani             1369\n",
       "Buhera                  1152\n",
       "Chipinge                 977\n",
       "Mt Darwin                869\n",
       "Makoni                   549\n",
       "Beitbridge               529\n",
       "Kwekwe                   270\n",
       "Hwange                   260\n",
       "Uzumbamarambapfungwe     257\n",
       "Chimanimani Rusitu       196\n",
       "Mwenezi                  173\n",
       "Karoi                    163\n",
       "Triangle                 163\n",
       "Mutoko                   126\n",
       "Mberengwa                115\n",
       "Mt Darwin                 99\n",
       "Chimanimani Tilbury       95\n",
       "Chivi                     94\n",
       "Mushumbi                  89\n",
       "Beitbridge                84\n",
       "Matobo                    44\n",
       "Makoni Mt Shalom          43\n",
       "Hwange                    29\n",
       "Name: area, dtype: int64"
      ]
     },
     "execution_count": 82,
     "metadata": {},
     "output_type": "execute_result"
    }
   ],
   "source": [
    "concated_farmers['area'].value_counts()"
   ]
  },
  {
   "cell_type": "code",
   "execution_count": null,
   "metadata": {},
   "outputs": [
    {
     "data": {
      "text/plain": [
       "array(['Mbire', 'Triangle', 'Karoi', 'Mushumbi', 'Binga', 'Makoni',\n",
       "       'Chimanimani', 'Chipinge', 'Chivi', 'Buhera', 'Mt Darwin',\n",
       "       'Beitbridge', 'Mt Darwin ', 'Mudzi', 'Beitbridge ', 'Rushinga',\n",
       "       'Kwekwe', 'Mwenezi', 'Uzumbamarambapfungwe', 'Mutoko', 'Mberengwa',\n",
       "       'Matobo', 'Hwange', 'Hwange ', 'Chimanimani Rusitu',\n",
       "       'Chimanimani Tilbury', 'Makoni Mt Shalom'], dtype=object)"
      ]
     },
     "execution_count": 83,
     "metadata": {},
     "output_type": "execute_result"
    }
   ],
   "source": [
    "concated_farmers['area'].unique()\n",
    "# Correct 'chipinge' first upper"
   ]
  },
  {
   "cell_type": "code",
   "execution_count": null,
   "metadata": {},
   "outputs": [],
   "source": [
    "concated_farmers['production_unit'] = concated_farmers['production_unit'].replace('Mashonaland Centra','Mashonaland Central')"
   ]
  },
  {
   "cell_type": "code",
   "execution_count": null,
   "metadata": {},
   "outputs": [
    {
     "data": {
      "text/plain": [
       "Mashonaland Central        8216\n",
       "Northern Eastern region    4691\n",
       "South Eastern region       3498\n",
       "Matabeleland North         2945\n",
       "Southern region             995\n",
       "Manicaland                  883\n",
       "Midlands                    270\n",
       "Masvingo                    163\n",
       "Mashonaland West            163\n",
       "Matabeleland South           44\n",
       "Name: production_unit, dtype: int64"
      ]
     },
     "execution_count": 85,
     "metadata": {},
     "output_type": "execute_result"
    }
   ],
   "source": [
    "concated_farmers['production_unit'].value_counts()"
   ]
  },
  {
   "cell_type": "code",
   "execution_count": null,
   "metadata": {},
   "outputs": [
    {
     "data": {
      "text/plain": [
       "array([15.,  6., 13.,  5.,  7.,  2.,  9., 17., 16.,  3.,  4., 27., 12.,\n",
       "       11., 10.,  8., 14., 19., 18., 23., 21.,  1., 25., 20., 29., 33.,\n",
       "       24., 28., 30., 31., 34., 32., nan, 22.])"
      ]
     },
     "execution_count": 86,
     "metadata": {},
     "output_type": "execute_result"
    }
   ],
   "source": [
    "concated_farmers['ward_nr'].unique()\n",
    "\n",
    "# correct to int"
   ]
  },
  {
   "cell_type": "code",
   "execution_count": null,
   "metadata": {},
   "outputs": [
    {
     "data": {
      "text/plain": [
       "False    18627\n",
       "True      3241\n",
       "Name: id_number, dtype: int64"
      ]
     },
     "execution_count": 87,
     "metadata": {},
     "output_type": "execute_result"
    }
   ],
   "source": [
    "# 'id_number has not unique and has 3254 duplicates'\n",
    "#concated_farmers['id_number'].is_unique\n",
    "concated_farmers['id_number'].duplicated().value_counts()"
   ]
  },
  {
   "attachments": {},
   "cell_type": "markdown",
   "metadata": {},
   "source": [
    "#### Setting values of species, sex, reason_droppen_out and organic_status to lower case"
   ]
  },
  {
   "cell_type": "code",
   "execution_count": null,
   "metadata": {},
   "outputs": [],
   "source": [
    "concated_farmers['species'] = concated_farmers['species'].str.lower()\n",
    "concated_farmers['sex'] = concated_farmers['sex'].str.lower()\n",
    "\n",
    "concated_farmers['reason_dropped_out'] = concated_farmers['reason_dropped_out'].str.lower()\n",
    "concated_farmers['organic_status'] = concated_farmers['organic_status'].str.lower()"
   ]
  },
  {
   "cell_type": "code",
   "execution_count": null,
   "metadata": {},
   "outputs": [
    {
     "data": {
      "text/plain": [
       "array(['dropout', 'mabagrown', 'new', 'org', 'reinstated', 'uncertified',\n",
       "       None, 'under review'], dtype=object)"
      ]
     },
     "execution_count": 89,
     "metadata": {},
     "output_type": "execute_result"
    }
   ],
   "source": [
    "concated_farmers['organic_status'].unique()"
   ]
  },
  {
   "cell_type": "code",
   "execution_count": null,
   "metadata": {},
   "outputs": [
    {
     "data": {
      "text/plain": [
       "array(['rosella', 'roseela', 'rosell', 'rosella, chilli, paprika',\n",
       "       'ronald', '5 sinakoma', 'paprika', 'rosella, strophantus',\n",
       "       'chilli, paprika', 'paprika, chilli', 'chilli,paprika', 'chillie',\n",
       "       'chilli', 'chili', 'chillie/paprica ', 'baobab', 'marula',\n",
       "       'baobab + ximenia', 'trichillia', 'baobab+kms+ximenia',\n",
       "       'kalahari melon seed', 'ximenia caffra', 'kms + ximenia',\n",
       "       'ximenia americana', 'devils claw', 'wild gotu kola'], dtype=object)"
      ]
     },
     "execution_count": 90,
     "metadata": {},
     "output_type": "execute_result"
    }
   ],
   "source": [
    "concated_farmers['species'].unique()\n",
    "\n",
    "# correct to types rosella, chili, paprika,  \n",
    "\n",
    "# '5 sinakoma', 'robert' correct to None"
   ]
  },
  {
   "cell_type": "code",
   "execution_count": null,
   "metadata": {},
   "outputs": [],
   "source": [
    "concated_farmers['species'] = concated_farmers['species'].replace({'5 sinakoma': 'None', 'ronald':  'None','roseela': 'rosella', 'rosell': 'rosella', \n",
    "                                                                   'paprika, chilli': 'chilli, paprika', 'chili': 'chilli',\n",
    "                                                                    'chilli,paprika':'chilli, paprika', 'chillie': 'chilli', \n",
    "                                                                    'chillie/paprica ': 'chilli, paprika',\n",
    "                                                                    'baobab + ximenia': 'baobab, ximenia', 'baobab+kms+ximenia': 'baobab, kms, ximenia',\n",
    "                                                                    'kalahari melon seed': 'kalahari, melon, seed', 'kms + ximenia': 'kms, ximenia'\n",
    "                                                                    })"
   ]
  },
  {
   "cell_type": "code",
   "execution_count": null,
   "metadata": {},
   "outputs": [
    {
     "data": {
      "text/plain": [
       "False    11518\n",
       "True     10350\n",
       "Name: wc_nr, dtype: int64"
      ]
     },
     "execution_count": 93,
     "metadata": {},
     "output_type": "execute_result"
    }
   ],
   "source": [
    "concated_farmers['wc_nr'].duplicated().value_counts()"
   ]
  },
  {
   "cell_type": "code",
   "execution_count": null,
   "metadata": {},
   "outputs": [
    {
     "data": {
      "text/plain": [
       "wc_info_bayoba_1_df  0      21146.0\n",
       "                     1      21833.0\n",
       "                     2      21147.0\n",
       "                     3      22986.0\n",
       "                     4      21148.0\n",
       "                             ...   \n",
       "wc_info__WCOrg_1_df  560     1057.0\n",
       "                     561    21040.0\n",
       "                     562     2555.0\n",
       "                     563     2066.0\n",
       "                     564     1069.0\n",
       "Name: wc_nr, Length: 11517, dtype: float64"
      ]
     },
     "execution_count": 94,
     "metadata": {},
     "output_type": "execute_result"
    }
   ],
   "source": [
    "# 11517 wc_nr\n",
    "concated_farmers[~concated_farmers['wc_nr'].isna()]['wc_nr']"
   ]
  },
  {
   "cell_type": "code",
   "execution_count": null,
   "metadata": {},
   "outputs": [
    {
     "data": {
      "text/plain": [
       "True     21834\n",
       "False       34\n",
       "Name: ward_nr, dtype: int64"
      ]
     },
     "execution_count": 95,
     "metadata": {},
     "output_type": "execute_result"
    }
   ],
   "source": [
    "concated_farmers['ward_nr'].duplicated().value_counts()"
   ]
  },
  {
   "cell_type": "code",
   "execution_count": null,
   "metadata": {},
   "outputs": [
    {
     "data": {
      "text/plain": [
       "False"
      ]
     },
     "execution_count": 96,
     "metadata": {},
     "output_type": "execute_result"
    }
   ],
   "source": [
    "concated_farmers['ward_nr'].is_unique"
   ]
  },
  {
   "cell_type": "code",
   "execution_count": null,
   "metadata": {},
   "outputs": [
    {
     "data": {
      "text/plain": [
       "array([15.,  6., 13.,  5.,  7.,  2.,  9., 17., 16.,  3.,  4., 27., 12.,\n",
       "       11., 10.,  8., 14., 19., 18., 23., 21.,  1., 25., 20., 29., 33.,\n",
       "       24., 28., 30., 31., 34., 32., nan, 22.])"
      ]
     },
     "execution_count": 97,
     "metadata": {},
     "output_type": "execute_result"
    }
   ],
   "source": [
    "concated_farmers['ward_nr'].unique()"
   ]
  },
  {
   "cell_type": "code",
   "execution_count": null,
   "metadata": {},
   "outputs": [
    {
     "data": {
      "text/plain": [
       "id                                                 1545\n",
       "og_nr                                           13137.0\n",
       "og_code                                           MBOGR\n",
       "production_unit                     Mashonaland Central\n",
       "area                                              Mbire\n",
       "ward_nr/name                                         15\n",
       "species                                         rosella\n",
       "surname                                       Nyamayaro\n",
       "first_names                                     Phillip\n",
       "sex                                                male\n",
       "id_number                                  47-158929E47\n",
       "date_of_birth                                       NaT\n",
       "date_contracted                                     NaT\n",
       "date_dropped_out                    2020-02-05 00:00:00\n",
       "reason_dropped_out                           own choice\n",
       "address                     Mahuwe sch, Box 92, Mbire D\n",
       "organic_status                                  dropout\n",
       "organic_status_from_date        2017-12-02 00:00:00.000\n",
       "fairtrade                                         False\n",
       "ward_nr                                            15.0\n",
       "wc_nr                                               NaN\n",
       "wc_code                                             NaN\n",
       "Name: (OGInfo__OGMB_1_df, 0), dtype: object"
      ]
     },
     "execution_count": 98,
     "metadata": {},
     "output_type": "execute_result"
    }
   ],
   "source": [
    "concated_farmers.iloc[0]"
   ]
  },
  {
   "cell_type": "code",
   "execution_count": null,
   "metadata": {},
   "outputs": [],
   "source": [
    "# concated_farmers has 9094 rows × 22 columns"
   ]
  },
  {
   "cell_type": "code",
   "execution_count": null,
   "metadata": {},
   "outputs": [
    {
     "name": "stdout",
     "output_type": "stream",
     "text": [
      "<class 'pandas.core.frame.DataFrame'>\n",
      "MultiIndex: 9094 entries, ('OGInfo__OGMB_1_df', 0) to ('OG_Info_reserve__OGOrg_1_df', 794)\n",
      "Data columns (total 22 columns):\n",
      " #   Column                    Non-Null Count  Dtype         \n",
      "---  ------                    --------------  -----         \n",
      " 0   id                        9094 non-null   int64         \n",
      " 1   og_nr                     9093 non-null   float64       \n",
      " 2   og_code                   9093 non-null   object        \n",
      " 3   production_unit           9094 non-null   object        \n",
      " 4   area                      9094 non-null   object        \n",
      " 5   ward_nr/name              9093 non-null   object        \n",
      " 6   species                   9094 non-null   object        \n",
      " 7   surname                   9094 non-null   object        \n",
      " 8   first_names               9094 non-null   object        \n",
      " 9   sex                       9094 non-null   object        \n",
      " 10  id_number                 7939 non-null   object        \n",
      " 11  date_of_birth             1466 non-null   datetime64[ns]\n",
      " 12  date_contracted           9090 non-null   datetime64[ns]\n",
      " 13  date_dropped_out          6898 non-null   datetime64[ns]\n",
      " 14  reason_dropped_out        6428 non-null   object        \n",
      " 15  address                   8828 non-null   object        \n",
      " 16  organic_status            9094 non-null   object        \n",
      " 17  organic_status_from_date  9094 non-null   object        \n",
      " 18  fairtrade                 9094 non-null   bool          \n",
      " 19  ward_nr                   9093 non-null   float64       \n",
      " 20  wc_nr                     1 non-null      float64       \n",
      " 21  wc_code                   1 non-null      object        \n",
      "dtypes: bool(1), datetime64[ns](3), float64(3), int64(1), object(14)\n",
      "memory usage: 1.8+ MB\n"
     ]
    }
   ],
   "source": [
    "concated_farmers.info()"
   ]
  },
  {
   "attachments": {},
   "cell_type": "markdown",
   "metadata": {},
   "source": [
    "#### Upload the prepared farmer data"
   ]
  },
  {
   "attachments": {},
   "cell_type": "markdown",
   "metadata": {},
   "source": [
    "table_name = 'all_farmers'\n",
    "\n",
    "if engine!=None:\n",
    "    try:\n",
    "        concated_farmers.to_sql(name=table_name, # Name of SQL table\n",
    "                                con=engine, # Engine or connection\n",
    "                                if_exists='replace', # Drop the table before inserting new values \n",
    "                                schema=schema, # Use schmea that was defined earlier\n",
    "                                index=False, # Write DataFrame index as a column\n",
    "                                chunksize=5000, # Specify the number of rows in each batch to be written at a time\n",
    "                                method='multi') # Pass multiple values in a single INSERT clause\n",
    "        print(f\"The {table_name} table was imported successfully.\")\n",
    "    # Error handling\n",
    "    except (Exception, psycopg2.DatabaseError) as error:\n",
    "        print(error)\n",
    "        engine = None"
   ]
  }
 ],
 "metadata": {
  "kernelspec": {
   "display_name": "nf_sql",
   "language": "python",
   "name": "python3"
  },
  "language_info": {
   "codemirror_mode": {
    "name": "ipython",
    "version": 3
   },
   "file_extension": ".py",
   "mimetype": "text/x-python",
   "name": "python",
   "nbconvert_exporter": "python",
   "pygments_lexer": "ipython3",
   "version": "3.9.16"
  },
  "orig_nbformat": 4
 },
 "nbformat": 4,
 "nbformat_minor": 2
}
