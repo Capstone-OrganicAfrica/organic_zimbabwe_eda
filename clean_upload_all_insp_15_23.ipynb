{
 "cells": [
  {
   "cell_type": "code",
   "execution_count": null,
   "metadata": {},
   "outputs": [],
   "source": [
    "clean upload 15-23"
   ]
  },
  {
   "cell_type": "code",
   "execution_count": 1,
   "metadata": {},
   "outputs": [
    {
     "ename": "ModuleNotFoundError",
     "evalue": "No module named 'sql_functions'",
     "output_type": "error",
     "traceback": [
      "\u001b[0;31m---------------------------------------------------------------------------\u001b[0m",
      "\u001b[0;31mModuleNotFoundError\u001b[0m                       Traceback (most recent call last)",
      "Cell \u001b[0;32mIn[1], line 3\u001b[0m\n\u001b[1;32m      1\u001b[0m \u001b[39mimport\u001b[39;00m \u001b[39mpandas\u001b[39;00m \u001b[39mas\u001b[39;00m \u001b[39mpd\u001b[39;00m\n\u001b[1;32m      2\u001b[0m \u001b[39mimport\u001b[39;00m \u001b[39mpsycopg2\u001b[39;00m\n\u001b[0;32m----> 3\u001b[0m \u001b[39mimport\u001b[39;00m \u001b[39msql_functions\u001b[39;00m \u001b[39mas\u001b[39;00m \u001b[39msf\u001b[39;00m \n\u001b[1;32m      4\u001b[0m schema \u001b[39m=\u001b[39m \u001b[39m'\u001b[39m\u001b[39morganic_africa\u001b[39m\u001b[39m'\u001b[39m \u001b[39m# UPDATE 'TABLE_SCHEMA' based on schema used in class \u001b[39;00m\n\u001b[1;32m      5\u001b[0m engine \u001b[39m=\u001b[39m sf\u001b[39m.\u001b[39mget_engine()\n",
      "\u001b[0;31mModuleNotFoundError\u001b[0m: No module named 'sql_functions'"
     ]
    }
   ],
   "source": [
    "import pandas as pd\n",
    "import psycopg2\n",
    "import sql_functions as sf \n",
    "schema = 'organic_africa' # UPDATE 'TABLE_SCHEMA' based on schema used in class \n",
    "engine = sf.get_engine()\n",
    "    \n",
    "all_insp = {}\n",
    "\n",
    "all_insp['og2015_1'] = sf.get_dataframe(f'SELECT * FROM {schema}.\"all_insp_19-23\"')\n",
    "all_insp['og2016_1'] = sf.get_dataframe(f'SELECT * FROM {schema}.\"all_insp_15-18\"')\n"
   ]
  }
 ],
 "metadata": {
  "kernelspec": {
   "display_name": "nf_sql",
   "language": "python",
   "name": "python3"
  },
  "language_info": {
   "codemirror_mode": {
    "name": "ipython",
    "version": 3
   },
   "file_extension": ".py",
   "mimetype": "text/x-python",
   "name": "python",
   "nbconvert_exporter": "python",
   "pygments_lexer": "ipython3",
   "version": "3.9.16"
  },
  "orig_nbformat": 4
 },
 "nbformat": 4,
 "nbformat_minor": 2
}
