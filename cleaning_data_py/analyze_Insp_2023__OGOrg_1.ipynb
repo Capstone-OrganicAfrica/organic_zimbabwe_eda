{
 "cells": [
  {
   "cell_type": "code",
   "execution_count": 65,
   "metadata": {},
   "outputs": [],
   "source": [
    "import pandas as pd\n",
    "import sqlalchemy\n",
    "import sql_functions as sf\n"
   ]
  },
  {
   "cell_type": "code",
   "execution_count": 66,
   "metadata": {},
   "outputs": [],
   "source": [
    "schema = 'organic_africa'"
   ]
  },
  {
   "cell_type": "code",
   "execution_count": 89,
   "metadata": {},
   "outputs": [],
   "source": [
    "df_1= sf.get_dataframe(f'SELECT * FROM {schema}.\"OG_Insp_2023__OGOrg_1\"')\n",
    "df_2=sf.get_dataframe(f'SELECT * FROM {schema}.\"all_purchase\"')\n",
    "df_3=sf.get_dataframe(f'SELECT * FROM {schema}.\"all_farmers\"')"
   ]
  },
  {
   "cell_type": "code",
   "execution_count": null,
   "metadata": {},
   "outputs": [],
   "source": [
    "#all_purchase"
   ]
  },
  {
   "cell_type": "code",
   "execution_count": null,
   "metadata": {},
   "outputs": [],
   "source": [
    "# Assuming your DataFrame is named 'df_1'\n",
    "column_type = df_1['cereal_harvest_last'].dtypes\n",
    "print(column_type)\n"
   ]
  },
  {
   "cell_type": "code",
   "execution_count": 90,
   "metadata": {},
   "outputs": [],
   "source": [
    "# Convert column names to lowercase in df_1\n",
    "df_1.rename(columns=str.lower, inplace=True)\n",
    "df_2.rename(columns=str.lower, inplace=True)\n",
    "df_3.rename(columns=str.lower, inplace=True)"
   ]
  },
  {
   "cell_type": "code",
   "execution_count": null,
   "metadata": {},
   "outputs": [],
   "source": [
    "# Assuming your DataFrame is named 'df'\n",
    "df_1['health__care_expenditure'] = df_1['health__care_expenditure'].str.replace(' USD', '')\n"
   ]
  },
  {
   "cell_type": "code",
   "execution_count": null,
   "metadata": {},
   "outputs": [],
   "source": [
    "df_1.describe()"
   ]
  },
  {
   "cell_type": "code",
   "execution_count": null,
   "metadata": {},
   "outputs": [],
   "source": [
    "import pandas as pd\n",
    "\n",
    "# Assuming you have a DataFrame called df with 'hh_education_level' and 'children_attending_school' columns\n",
    "\n",
    "# Group the data by 'hh_education_level' and calculate the average number of children attending school for each group\n",
    "education_children_avg = df_1.groupby('hh_education_level')['children_attending_school'].mean()\n",
    "\n",
    "# Print the result\n",
    "print(education_children_avg)\n"
   ]
  },
  {
   "cell_type": "code",
   "execution_count": 29,
   "metadata": {},
   "outputs": [
    {
     "name": "stdout",
     "output_type": "stream",
     "text": [
      "                             assets    cattle  goats/sheep   donkeys  \\\n",
      "hh_education_level                                                     \n",
      "Advanced level                  1.0  0.000000     2.800000  0.000000   \n",
      "None                            1.0  2.741379     4.887931  0.051724   \n",
      "Ordinary level                  1.0  2.750000     7.890000  0.030000   \n",
      "Primary school                  1.0  2.892655     6.084986  0.056497   \n",
      "Standard 1                      1.0  2.361702     4.276596  0.042553   \n",
      "Tertiary or vocational          1.0  3.111111    14.555556  0.000000   \n",
      "Zimbabwe Junior certificate     1.0  3.190476    11.190476  0.000000   \n",
      "\n",
      "                              bicycle  motorcycle  \n",
      "hh_education_level                                 \n",
      "Advanced level               0.200000    0.000000  \n",
      "None                         0.060345    0.000000  \n",
      "Ordinary level               0.430000    0.000000  \n",
      "Primary school               0.299435    0.014124  \n",
      "Standard 1                   0.297872    0.000000  \n",
      "Tertiary or vocational       0.333333    0.000000  \n",
      "Zimbabwe Junior certificate  0.333333    0.047619  \n"
     ]
    },
    {
     "name": "stderr",
     "output_type": "stream",
     "text": [
      "/var/folders/hg/jgrbrly50wz_1z4gjyycxhzr0000gn/T/ipykernel_56990/2353572350.py:1: FutureWarning: Indexing with multiple keys (implicitly converted to a tuple of keys) will be deprecated, use a list instead.\n",
      "  assets = df_1.groupby('hh_education_level')['assets','cattle','goats/sheep','donkeys','bicycle','motorcycle'].mean()\n"
     ]
    }
   ],
   "source": [
    "assets = df_1.groupby('hh_education_level')['assets','cattle','goats/sheep','donkeys','bicycle','motorcycle'].mean()\n",
    "print(assets)"
   ]
  },
  {
   "cell_type": "code",
   "execution_count": 30,
   "metadata": {},
   "outputs": [
    {
     "data": {
      "text/html": [
       "<div>\n",
       "<style scoped>\n",
       "    .dataframe tbody tr th:only-of-type {\n",
       "        vertical-align: middle;\n",
       "    }\n",
       "\n",
       "    .dataframe tbody tr th {\n",
       "        vertical-align: top;\n",
       "    }\n",
       "\n",
       "    .dataframe thead th {\n",
       "        text-align: right;\n",
       "    }\n",
       "</style>\n",
       "<table border=\"1\" class=\"dataframe\">\n",
       "  <thead>\n",
       "    <tr style=\"text-align: right;\">\n",
       "      <th></th>\n",
       "      <th>assets</th>\n",
       "      <th>cattle</th>\n",
       "      <th>goats/sheep</th>\n",
       "      <th>donkeys</th>\n",
       "      <th>bicycle</th>\n",
       "      <th>motorcycle</th>\n",
       "    </tr>\n",
       "    <tr>\n",
       "      <th>hh_education_level</th>\n",
       "      <th></th>\n",
       "      <th></th>\n",
       "      <th></th>\n",
       "      <th></th>\n",
       "      <th></th>\n",
       "      <th></th>\n",
       "    </tr>\n",
       "  </thead>\n",
       "  <tbody>\n",
       "    <tr>\n",
       "      <th>Advanced level</th>\n",
       "      <td>1.0</td>\n",
       "      <td>0.000000</td>\n",
       "      <td>2.800000</td>\n",
       "      <td>0.000000</td>\n",
       "      <td>0.200000</td>\n",
       "      <td>0.000000</td>\n",
       "    </tr>\n",
       "    <tr>\n",
       "      <th>None</th>\n",
       "      <td>1.0</td>\n",
       "      <td>2.741379</td>\n",
       "      <td>4.887931</td>\n",
       "      <td>0.051724</td>\n",
       "      <td>0.060345</td>\n",
       "      <td>0.000000</td>\n",
       "    </tr>\n",
       "    <tr>\n",
       "      <th>Ordinary level</th>\n",
       "      <td>1.0</td>\n",
       "      <td>2.750000</td>\n",
       "      <td>7.890000</td>\n",
       "      <td>0.030000</td>\n",
       "      <td>0.430000</td>\n",
       "      <td>0.000000</td>\n",
       "    </tr>\n",
       "    <tr>\n",
       "      <th>Primary school</th>\n",
       "      <td>1.0</td>\n",
       "      <td>2.892655</td>\n",
       "      <td>6.084986</td>\n",
       "      <td>0.056497</td>\n",
       "      <td>0.299435</td>\n",
       "      <td>0.014124</td>\n",
       "    </tr>\n",
       "    <tr>\n",
       "      <th>Standard 1</th>\n",
       "      <td>1.0</td>\n",
       "      <td>2.361702</td>\n",
       "      <td>4.276596</td>\n",
       "      <td>0.042553</td>\n",
       "      <td>0.297872</td>\n",
       "      <td>0.000000</td>\n",
       "    </tr>\n",
       "    <tr>\n",
       "      <th>Tertiary or vocational</th>\n",
       "      <td>1.0</td>\n",
       "      <td>3.111111</td>\n",
       "      <td>14.555556</td>\n",
       "      <td>0.000000</td>\n",
       "      <td>0.333333</td>\n",
       "      <td>0.000000</td>\n",
       "    </tr>\n",
       "    <tr>\n",
       "      <th>Zimbabwe Junior certificate</th>\n",
       "      <td>1.0</td>\n",
       "      <td>3.190476</td>\n",
       "      <td>11.190476</td>\n",
       "      <td>0.000000</td>\n",
       "      <td>0.333333</td>\n",
       "      <td>0.047619</td>\n",
       "    </tr>\n",
       "  </tbody>\n",
       "</table>\n",
       "</div>"
      ],
      "text/plain": [
       "                             assets    cattle  goats/sheep   donkeys  \\\n",
       "hh_education_level                                                     \n",
       "Advanced level                  1.0  0.000000     2.800000  0.000000   \n",
       "None                            1.0  2.741379     4.887931  0.051724   \n",
       "Ordinary level                  1.0  2.750000     7.890000  0.030000   \n",
       "Primary school                  1.0  2.892655     6.084986  0.056497   \n",
       "Standard 1                      1.0  2.361702     4.276596  0.042553   \n",
       "Tertiary or vocational          1.0  3.111111    14.555556  0.000000   \n",
       "Zimbabwe Junior certificate     1.0  3.190476    11.190476  0.000000   \n",
       "\n",
       "                              bicycle  motorcycle  \n",
       "hh_education_level                                 \n",
       "Advanced level               0.200000    0.000000  \n",
       "None                         0.060345    0.000000  \n",
       "Ordinary level               0.430000    0.000000  \n",
       "Primary school               0.299435    0.014124  \n",
       "Standard 1                   0.297872    0.000000  \n",
       "Tertiary or vocational       0.333333    0.000000  \n",
       "Zimbabwe Junior certificate  0.333333    0.047619  "
      ]
     },
     "execution_count": 30,
     "metadata": {},
     "output_type": "execute_result"
    }
   ],
   "source": [
    "# what they poses \n",
    "\n",
    "columns_to_mean = ['assets', 'cattle', 'goats/sheep', 'donkeys', 'bicycle', 'motorcycle']\n",
    "assets = df_1.groupby('hh_education_level')[columns_to_mean].mean()\n",
    "assets"
   ]
  },
  {
   "cell_type": "code",
   "execution_count": 32,
   "metadata": {},
   "outputs": [
    {
     "data": {
      "text/plain": [
       "married     492\n",
       "widowed      97\n",
       "divorced     56\n",
       "single        8\n",
       "Name: marital_status_1, dtype: int64"
      ]
     },
     "execution_count": 32,
     "metadata": {},
     "output_type": "execute_result"
    }
   ],
   "source": [
    "#marital status from all\n",
    "df_1['marital_status_1'].value_counts()"
   ]
  },
  {
   "cell_type": "code",
   "execution_count": 33,
   "metadata": {},
   "outputs": [
    {
     "data": {
      "text/plain": [
       "female    598\n",
       "male       55\n",
       "Name: gender_text, dtype: int64"
      ]
     },
     "execution_count": 33,
     "metadata": {},
     "output_type": "execute_result"
    }
   ],
   "source": [
    "#gender\n",
    "df_1['gender_text'].value_counts()"
   ]
  },
  {
   "cell_type": "code",
   "execution_count": 35,
   "metadata": {},
   "outputs": [
    {
     "data": {
      "text/plain": [
       "husband    446\n",
       "self       205\n",
       "father       1\n",
       "son          1\n",
       "Name: household_head, dtype: int64"
      ]
     },
     "execution_count": 35,
     "metadata": {},
     "output_type": "execute_result"
    }
   ],
   "source": [
    "#haus hold heads \n",
    "\n",
    "df_1['household_head'].value_counts()"
   ]
  },
  {
   "cell_type": "code",
   "execution_count": 37,
   "metadata": {},
   "outputs": [],
   "source": [
    "#total count of children and see how many are ther 5-17\n",
    "total_female = df_1['hm_5-17_years_female'].sum()\n",
    "total_male = df_1['hm_5-17_years_male'].sum()\n",
    "total_both_groups = total_female + total_male\n"
   ]
  },
  {
   "cell_type": "code",
   "execution_count": 41,
   "metadata": {},
   "outputs": [
    {
     "data": {
      "text/plain": [
       "1152"
      ]
     },
     "execution_count": 41,
     "metadata": {},
     "output_type": "execute_result"
    }
   ],
   "source": [
    "\n",
    "total_both_groups"
   ]
  },
  {
   "cell_type": "code",
   "execution_count": 39,
   "metadata": {},
   "outputs": [
    {
     "data": {
      "text/plain": [
       "555"
      ]
     },
     "execution_count": 39,
     "metadata": {},
     "output_type": "execute_result"
    }
   ],
   "source": [
    "total_female"
   ]
  },
  {
   "cell_type": "code",
   "execution_count": 40,
   "metadata": {},
   "outputs": [
    {
     "data": {
      "text/plain": [
       "597"
      ]
     },
     "execution_count": 40,
     "metadata": {},
     "output_type": "execute_result"
    }
   ],
   "source": [
    "total_male\n"
   ]
  },
  {
   "cell_type": "code",
   "execution_count": 43,
   "metadata": {},
   "outputs": [
    {
     "data": {
      "text/plain": [
       "862"
      ]
     },
     "execution_count": 43,
     "metadata": {},
     "output_type": "execute_result"
    }
   ],
   "source": [
    "\t#children_attending_school\n",
    "attending_school = df_1['children_attending_school'].sum()\n",
    "attending_school"
   ]
  },
  {
   "cell_type": "code",
   "execution_count": 50,
   "metadata": {},
   "outputs": [],
   "source": [
    "# why not attending and how many \n",
    "total_sum = 0\n",
    "\n",
    "for value in df_1['how_many_not_attending']:\n",
    "    try:\n",
    "        total_sum += int(value)\n",
    "    except ValueError:\n",
    "        continue\n"
   ]
  },
  {
   "cell_type": "code",
   "execution_count": 51,
   "metadata": {},
   "outputs": [
    {
     "name": "stdout",
     "output_type": "stream",
     "text": [
      "166\n"
     ]
    }
   ],
   "source": [
    "print(total_sum)\n"
   ]
  },
  {
   "cell_type": "code",
   "execution_count": 54,
   "metadata": {},
   "outputs": [
    {
     "data": {
      "text/plain": [
       "None           459\n",
       "no children     77\n",
       "Financial       72\n",
       "no interest     22\n",
       "under age       19\n",
       "Distance         2\n",
       "Ill/sick         1\n",
       "Disability       1\n",
       "Name: reason_for_not_attending, dtype: int64"
      ]
     },
     "execution_count": 54,
     "metadata": {},
     "output_type": "execute_result"
    }
   ],
   "source": [
    "df_1['reason_for_not_attending'].value_counts()\n"
   ]
  },
  {
   "cell_type": "code",
   "execution_count": 55,
   "metadata": {},
   "outputs": [
    {
     "data": {
      "text/plain": [
       "Organic or  Mabagrown farming    330\n",
       "none                             183\n",
       "Gardening                         53\n",
       "Dry land farming                  39\n",
       "Small business                    34\n",
       "formal employment                 13\n",
       "Name: main_livelihood_activity, dtype: int64"
      ]
     },
     "execution_count": 55,
     "metadata": {},
     "output_type": "execute_result"
    }
   ],
   "source": [
    "df_1['main_livelihood_activity'].value_counts()\n"
   ]
  },
  {
   "cell_type": "code",
   "execution_count": 58,
   "metadata": {},
   "outputs": [
    {
     "name": "stdout",
     "output_type": "stream",
     "text": [
      "hh_education_level\n",
      "Advanced level                   7\n",
      "None                           174\n",
      "Ordinary level                 120\n",
      "Primary school                 457\n",
      "Standard 1                      68\n",
      "Tertiary or vocational           9\n",
      "Zimbabwe Junior certificate     27\n",
      "Name: children_attending_school, dtype: int64\n"
     ]
    }
   ],
   "source": [
    "grouped_df = df_1.groupby('hh_education_level')['children_attending_school'].sum()\n",
    "print(grouped_df)\n"
   ]
  },
  {
   "cell_type": "code",
   "execution_count": 64,
   "metadata": {},
   "outputs": [
    {
     "data": {
      "text/plain": [
       "Primary school                 354\n",
       "None                           117\n",
       "Ordinary level                 100\n",
       "Standard 1                      47\n",
       "Zimbabwe Junior certificate     21\n",
       "Tertiary or vocational           9\n",
       "Advanced level                   5\n",
       "Name: hh_education_level, dtype: int64"
      ]
     },
     "execution_count": 64,
     "metadata": {},
     "output_type": "execute_result"
    }
   ],
   "source": [
    "df_1['hh_education_level'].value_counts()\n"
   ]
  },
  {
   "cell_type": "code",
   "execution_count": 60,
   "metadata": {},
   "outputs": [
    {
     "data": {
      "text/plain": [
       "5.978987730061349"
      ]
     },
     "execution_count": 60,
     "metadata": {},
     "output_type": "execute_result"
    }
   ],
   "source": [
    "#nearsest school,clinic,shop\n",
    "df_1['nearest_clinic'].mean()"
   ]
  },
  {
   "cell_type": "code",
   "execution_count": 61,
   "metadata": {},
   "outputs": [
    {
     "data": {
      "text/plain": [
       "3.5265337423312886"
      ]
     },
     "execution_count": 61,
     "metadata": {},
     "output_type": "execute_result"
    }
   ],
   "source": [
    "df_1['nearest_school'].mean()"
   ]
  },
  {
   "cell_type": "code",
   "execution_count": 62,
   "metadata": {},
   "outputs": [
    {
     "data": {
      "text/plain": [
       "4.501226993865031"
      ]
     },
     "execution_count": 62,
     "metadata": {},
     "output_type": "execute_result"
    }
   ],
   "source": [
    "df_1['nearest_shops'].mean()"
   ]
  },
  {
   "cell_type": "code",
   "execution_count": 63,
   "metadata": {},
   "outputs": [
    {
     "name": "stdout",
     "output_type": "stream",
     "text": [
      "47.787479406919275\n"
     ]
    }
   ],
   "source": [
    "import datetime\n",
    "\n",
    "current_year = 2023\n",
    "\n",
    "# Assuming 'date_of_birth' is the column name containing the farmers' birth dates in your DataFrame\n",
    "df_1['date_of_birth'] = pd.to_datetime(df_1['date_of_birth'])  # Convert 'date_of_birth' column to datetime if needed\n",
    "\n",
    "df_1['age'] = current_year - df_1['date_of_birth'].dt.year  # Calculate age by subtracting birth year from current year\n",
    "\n",
    "avg_age = df_1['age'].mean()\n",
    "\n",
    "print(avg_age)\n"
   ]
  },
  {
   "cell_type": "code",
   "execution_count": null,
   "metadata": {},
   "outputs": [],
   "source": [
    "import pandas as pd\n",
    "pd.set_option('display.max_rows', None)  # Show all rows\n",
    "pd.set_option('display.max_columns', None)  # Show all columns\n",
    "\n",
    "# Display the merged DataFrame as a table\n",
    "display(df_1)\n"
   ]
  },
  {
   "cell_type": "code",
   "execution_count": 72,
   "metadata": {},
   "outputs": [],
   "source": [
    "#merged_df = df_1.merge(df_2[['og_nr', 'total_payment_usd']], on='og_nr', how='left')\n"
   ]
  },
  {
   "cell_type": "code",
   "execution_count": null,
   "metadata": {},
   "outputs": [],
   "source": [
    "#merged_df"
   ]
  },
  {
   "cell_type": "code",
   "execution_count": 77,
   "metadata": {},
   "outputs": [],
   "source": [
    "grouped_df = df_2.groupby('og_nr')['total_payment_usd'].sum().reset_index()\n",
    "merged_df = df_1.merge(grouped_df, on='og_nr', how='left')\n"
   ]
  },
  {
   "cell_type": "code",
   "execution_count": null,
   "metadata": {},
   "outputs": [],
   "source": [
    "merged_df"
   ]
  },
  {
   "cell_type": "code",
   "execution_count": 85,
   "metadata": {},
   "outputs": [
    {
     "data": {
      "text/plain": [
       "Series([], dtype: int64)"
      ]
     },
     "execution_count": 85,
     "metadata": {},
     "output_type": "execute_result"
    }
   ],
   "source": [
    "duplicates = merged_df['og_nr'].duplicated(keep=False)\n",
    "duplicate_df_1 = merged_df[duplicates].value_counts()\n",
    "duplicate_df_1"
   ]
  },
  {
   "cell_type": "code",
   "execution_count": 86,
   "metadata": {},
   "outputs": [
    {
     "name": "stdout",
     "output_type": "stream",
     "text": [
      "hh_education_level\n",
      "Advanced level                 535.282500\n",
      "None                           619.208444\n",
      "Ordinary level                 680.804746\n",
      "Primary school                 645.302365\n",
      "Standard 1                     516.126667\n",
      "Tertiary or vocational         763.522500\n",
      "Zimbabwe Junior certificate    712.504000\n",
      "Name: total_payment_usd, dtype: float64\n"
     ]
    }
   ],
   "source": [
    "mean_payment_by_education = merged_df.groupby('hh_education_level')['total_payment_usd'].mean()\n",
    "print(mean_payment_by_education)\n"
   ]
  },
  {
   "cell_type": "code",
   "execution_count": 91,
   "metadata": {},
   "outputs": [
    {
     "name": "stdout",
     "output_type": "stream",
     "text": [
      "hh_education_level           area \n",
      "Advanced level               Binga     535.240000\n",
      "                             Mbire     535.325000\n",
      "None                         Binga     662.650732\n",
      "                             Mbire     173.925000\n",
      "Ordinary level               Binga     871.183333\n",
      "                             Mbire      68.873571\n",
      "Primary school               Binga     752.685274\n",
      "                             Mbire     105.703250\n",
      "Standard 1                   Binga     531.648333\n",
      "                             Mbire     391.953333\n",
      "Tertiary or vocational       Binga    1391.820000\n",
      "                             Mbire     135.225000\n",
      "Zimbabwe Junior certificate  Binga     741.368571\n",
      "                             Mbire     308.400000\n",
      "Name: total_payment_usd, dtype: float64\n"
     ]
    }
   ],
   "source": [
    "merged_df_3 = merged_df.merge(df_3[['og_nr', 'area']], on='og_nr', how='inner')\n",
    "mean_payment_by_education_area = merged_df_3.groupby(['hh_education_level', 'area'])['total_payment_usd'].mean()\n",
    "print(mean_payment_by_education_area)\n"
   ]
  },
  {
   "cell_type": "code",
   "execution_count": null,
   "metadata": {},
   "outputs": [],
   "source": []
  },
  {
   "cell_type": "code",
   "execution_count": null,
   "metadata": {},
   "outputs": [],
   "source": []
  },
  {
   "cell_type": "code",
   "execution_count": null,
   "metadata": {},
   "outputs": [],
   "source": []
  },
  {
   "cell_type": "code",
   "execution_count": null,
   "metadata": {},
   "outputs": [],
   "source": []
  },
  {
   "cell_type": "code",
   "execution_count": null,
   "metadata": {},
   "outputs": [],
   "source": []
  },
  {
   "cell_type": "code",
   "execution_count": null,
   "metadata": {},
   "outputs": [],
   "source": [
    "# we need psycopg2 for raising possible error message\n",
    "import psycopg2\n",
    "import sqlalchemy\n",
    "from sql_functions import sqlalchemy\n",
    "from sql_functions import get_engine\n",
    "# Write records stored in a dataframe to SQL database\n",
    "engine = get_engine()\n",
    "table_name = 'all_insp_2023'\n",
    "if engine!=None:\n",
    "    try:\n",
    "        df_1.to_sql(name='all_insp_2023', # Name of SQL table variable - at the front its the dataframe!!\n",
    "                        con=engine, # Engine or connection\n",
    "                        schema='organic_africa', # your class schema variable\n",
    "                        if_exists='replace', # Drop the table before inserting new values\n",
    "                        index=False, # Write DataFrame index as a column\n",
    "                        chunksize=5000, # Specify the number of rows in each batch to be written at a time\n",
    "                        method='multi') # Pass multiple values in a single INSERT clause\n",
    "        print(f\"The {table_name} table was imported successfully.\")\n",
    "    # Error handling\n",
    "    except (Exception, psycopg2.DatabaseError) as error:\n",
    "        print(error)\n",
    "        engine = None\n",
    "else:\n",
    "    print('No engine')"
   ]
  },
  {
   "cell_type": "code",
   "execution_count": null,
   "metadata": {},
   "outputs": [],
   "source": []
  }
 ],
 "metadata": {
  "kernelspec": {
   "display_name": "nf_sql",
   "language": "python",
   "name": "python3"
  },
  "language_info": {
   "codemirror_mode": {
    "name": "ipython",
    "version": 3
   },
   "file_extension": ".py",
   "mimetype": "text/x-python",
   "name": "python",
   "nbconvert_exporter": "python",
   "pygments_lexer": "ipython3",
   "version": "3.9.16"
  },
  "orig_nbformat": 4
 },
 "nbformat": 4,
 "nbformat_minor": 2
}
