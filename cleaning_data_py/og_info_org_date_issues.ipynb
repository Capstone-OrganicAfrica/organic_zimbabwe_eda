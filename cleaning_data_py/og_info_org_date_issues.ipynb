{
 "cells": [
  {
   "cell_type": "code",
   "execution_count": 1,
   "metadata": {},
   "outputs": [],
   "source": [
    "import pandas as pd\n",
    "import psycopg2\n",
    "import sql_functions as sf \n",
    "schema = 'organic_africa' # UPDATE 'TABLE_SCHEMA' based on schema used in class \n",
    "engine = sf.get_engine()\n",
    "\n",
    "\n",
    "og_info = sf.get_dataframe(f'SELECT * FROM {schema}.\"OG_Info__OGOrg_1\"')"
   ]
  },
  {
   "cell_type": "code",
   "execution_count": 2,
   "metadata": {},
   "outputs": [
    {
     "name": "stdout",
     "output_type": "stream",
     "text": [
      "<class 'pandas.core.frame.DataFrame'>\n",
      "RangeIndex: 1403 entries, 0 to 1402\n",
      "Data columns (total 65 columns):\n",
      " #   Column                       Non-Null Count  Dtype  \n",
      "---  ------                       --------------  -----  \n",
      " 0   ID                           1403 non-null   int64  \n",
      " 1   OG_Nr                        1403 non-null   int64  \n",
      " 2   OG_code                      1403 non-null   object \n",
      " 3   Production_Unit              1403 non-null   object \n",
      " 4   Area                         1403 non-null   object \n",
      " 5   Ward_Nr/Name                 1403 non-null   object \n",
      " 6   Species                      1403 non-null   object \n",
      " 7   Surname                      1403 non-null   object \n",
      " 8   First_names                  1403 non-null   object \n",
      " 9   Sex                          1403 non-null   object \n",
      " 10  ID_Number                    1310 non-null   object \n",
      " 11  Date_of_Birth                930 non-null    object \n",
      " 12  Reason_dropped_out           264 non-null    object \n",
      " 13  Contact_person_y/n           1403 non-null   object \n",
      " 14  Cluster                      1403 non-null   float64\n",
      " 15  Address                      1192 non-null   object \n",
      " 16  GPS_Coordinates              101 non-null    object \n",
      " 17  Phone_Number                 1 non-null      float64\n",
      " 18  Contracted_by                1402 non-null   object \n",
      " 19  Contract                     1403 non-null   object \n",
      " 20  Map                          1403 non-null   object \n",
      " 21  Corrective_Actions           37 non-null     object \n",
      " 22  OG_Organic_Status            1403 non-null   object \n",
      " 23  OG_Organic_Status_from_Date  1403 non-null   object \n",
      " 24  Comment                      4 non-null      object \n",
      " 25  Fairtrade                    1403 non-null   bool   \n",
      " 26  Assignment_2022              384 non-null    object \n",
      " 27  Inspection_2022              1403 non-null   bool   \n",
      " 28  Assignment_2021              0 non-null      object \n",
      " 29  Inspection_2021              1403 non-null   bool   \n",
      " 30  Assignment_2020              384 non-null    object \n",
      " 31  Inspection_2020              1403 non-null   bool   \n",
      " 32  External_inspection_2020     1403 non-null   bool   \n",
      " 33  Certified_EC/NOP_2020        1403 non-null   bool   \n",
      " 34  Assignment_2019              207 non-null    object \n",
      " 35  Inspection_2019              1403 non-null   bool   \n",
      " 36  External_inspection_2019     1403 non-null   bool   \n",
      " 37  Certified_EC/NOP_2019        1403 non-null   bool   \n",
      " 38  Assingment_2018              553 non-null    object \n",
      " 39  inspection_2018              1403 non-null   bool   \n",
      " 40  External_inspection_2018     1403 non-null   bool   \n",
      " 41  Certified_EC/NOP_2018        1403 non-null   bool   \n",
      " 42  Assigment_2017               0 non-null      object \n",
      " 43  Inspection_2017              1403 non-null   bool   \n",
      " 44  Assigment_2016               45 non-null     object \n",
      " 45  Inspection_2016              1403 non-null   bool   \n",
      " 46  External_Inspection_2016     1403 non-null   bool   \n",
      " 47  Certified_EC/NOP_2016        1403 non-null   bool   \n",
      " 48  Certified_EC_only_2016       1403 non-null   bool   \n",
      " 49  Inspection_2015              1403 non-null   bool   \n",
      " 50  External_Inspection_2015     1403 non-null   bool   \n",
      " 51  Certified_EC/NOP_2015        1403 non-null   bool   \n",
      " 52  Certified_EC_only_2015       1403 non-null   bool   \n",
      " 53  Inspection_2014              1403 non-null   bool   \n",
      " 54  External_Inspection_2014     1403 non-null   bool   \n",
      " 55  Certified_Organic_2014       1403 non-null   bool   \n",
      " 56  Inspection_2013              1403 non-null   bool   \n",
      " 57  Certified_Organic_2013       1403 non-null   bool   \n",
      " 58  Inspection_2012              1403 non-null   bool   \n",
      " 59  Entered_by                   1403 non-null   object \n",
      " 60  Source                       1403 non-null   object \n",
      " 61  Training_Q1_22/23_season     1403 non-null   bool   \n",
      " 62  ward_nr                      1403 non-null   int64  \n",
      " 63  Date_contracted              1403 non-null   object \n",
      " 64  Date_dropped_out             405 non-null    object \n",
      "dtypes: bool(28), float64(2), int64(3), object(32)\n",
      "memory usage: 444.0+ KB\n"
     ]
    }
   ],
   "source": [
    "og_info.info()"
   ]
  },
  {
   "cell_type": "code",
   "execution_count": 11,
   "metadata": {},
   "outputs": [],
   "source": [
    "og_info['Date_contracted'] = pd.to_datetime(og_info['Date_contracted'])"
   ]
  },
  {
   "cell_type": "code",
   "execution_count": 12,
   "metadata": {},
   "outputs": [],
   "source": [
    "og_info['Date_dropped_out'] = pd.to_datetime(og_info['Date_dropped_out'])"
   ]
  },
  {
   "cell_type": "code",
   "execution_count": 14,
   "metadata": {},
   "outputs": [
    {
     "data": {
      "text/plain": [
       "0      2023-02-24\n",
       "1      2023-02-24\n",
       "2      2023-02-24\n",
       "3      2023-02-24\n",
       "4      2023-02-24\n",
       "          ...    \n",
       "1398   2022-08-01\n",
       "1399   2012-12-04\n",
       "1400   2012-12-04\n",
       "1401   2012-12-04\n",
       "1402   2022-08-01\n",
       "Name: Date_contracted, Length: 1403, dtype: datetime64[ns]"
      ]
     },
     "execution_count": 14,
     "metadata": {},
     "output_type": "execute_result"
    }
   ],
   "source": [
    "og_info['Date_contracted']"
   ]
  },
  {
   "cell_type": "code",
   "execution_count": null,
   "metadata": {},
   "outputs": [],
   "source": []
  }
 ],
 "metadata": {
  "kernelspec": {
   "display_name": "nf_sql",
   "language": "python",
   "name": "python3"
  },
  "language_info": {
   "codemirror_mode": {
    "name": "ipython",
    "version": 3
   },
   "file_extension": ".py",
   "mimetype": "text/x-python",
   "name": "python",
   "nbconvert_exporter": "python",
   "pygments_lexer": "ipython3",
   "version": "3.9.16"
  },
  "orig_nbformat": 4
 },
 "nbformat": 4,
 "nbformat_minor": 2
}
