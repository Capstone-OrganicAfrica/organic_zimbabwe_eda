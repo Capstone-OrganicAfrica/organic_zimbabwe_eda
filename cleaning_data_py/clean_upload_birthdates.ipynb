{
 "cells": [
  {
   "cell_type": "code",
   "execution_count": 67,
   "metadata": {},
   "outputs": [],
   "source": [
    "import pandas as pd\n",
    "import sql_functions as sf\n",
    "\n",
    "schema = 'organic_africa' \n",
    "engine = sf.get_engine()"
   ]
  },
  {
   "attachments": {},
   "cell_type": "markdown",
   "metadata": {},
   "source": [
    "## Collecting Date of Birth\n",
    "\n",
    "In order to merge with 'wc_info__WCOrg_1_df'"
   ]
  },
  {
   "cell_type": "code",
   "execution_count": 68,
   "metadata": {},
   "outputs": [],
   "source": [
    "all_birthdates = {}\n",
    "\n",
    "all_birthdates['wc_insp_2013__WCOrg_df'] = sf.get_dataframe(f'SELECT * FROM {schema}.\"wc_insp_2013__WCOrg\"')\n",
    "all_birthdates['wc_insp_2014__WCOrg_df'] = sf.get_dataframe(f'SELECT * FROM {schema}.\"wc_insp_2014__WCOrg\"')\n",
    "all_birthdates['wc_insp_2015__WCOrg_df'] = sf.get_dataframe(f'SELECT * FROM {schema}.\"wc_insp_2015__WCOrg\"')\n",
    "all_birthdates['wc_insp_2016__WCOrg_df'] = sf.get_dataframe(f'SELECT * FROM {schema}.\"wc_insp_2016__WCOrg\"')\n",
    "all_birthdates['wc_insp_2017__WCOrg_df'] = sf.get_dataframe(f'SELECT * FROM {schema}.\"wc_insp_2017__WCOrg\"')"
   ]
  },
  {
   "cell_type": "code",
   "execution_count": 69,
   "metadata": {},
   "outputs": [],
   "source": [
    "# Set all column names to lowercase and convert date_of_birth in all dfs to datetime\n",
    "\n",
    "for df in all_birthdates.values():\n",
    "    df.columns = map(str.lower, df.columns)\n",
    "    df['date_of_birth'] = pd.to_datetime(df['date_of_birth'])"
   ]
  },
  {
   "cell_type": "code",
   "execution_count": 70,
   "metadata": {},
   "outputs": [],
   "source": [
    "# Keep only 2 columns\n",
    "\n",
    "columns_to_keep = ['wc_nr','date_of_birth']\n",
    "all_birthdates['wc_insp_2013__WCOrg_df'] = all_birthdates['wc_insp_2013__WCOrg_df'][columns_to_keep]\n",
    "all_birthdates['wc_insp_2014__WCOrg_df'] = all_birthdates['wc_insp_2014__WCOrg_df'][columns_to_keep]\n",
    "all_birthdates['wc_insp_2015__WCOrg_df'] = all_birthdates['wc_insp_2015__WCOrg_df'][columns_to_keep]\n",
    "all_birthdates['wc_insp_2016__WCOrg_df'] = all_birthdates['wc_insp_2016__WCOrg_df'][columns_to_keep]\n",
    "all_birthdates['wc_insp_2017__WCOrg_df'] = all_birthdates['wc_insp_2017__WCOrg_df'][columns_to_keep]"
   ]
  },
  {
   "cell_type": "code",
   "execution_count": 71,
   "metadata": {},
   "outputs": [
    {
     "data": {
      "text/html": [
       "<div>\n",
       "<style scoped>\n",
       "    .dataframe tbody tr th:only-of-type {\n",
       "        vertical-align: middle;\n",
       "    }\n",
       "\n",
       "    .dataframe tbody tr th {\n",
       "        vertical-align: top;\n",
       "    }\n",
       "\n",
       "    .dataframe thead th {\n",
       "        text-align: right;\n",
       "    }\n",
       "</style>\n",
       "<table border=\"1\" class=\"dataframe\">\n",
       "  <thead>\n",
       "    <tr style=\"text-align: right;\">\n",
       "      <th></th>\n",
       "      <th>wc_nr</th>\n",
       "      <th>date_of_birth</th>\n",
       "    </tr>\n",
       "  </thead>\n",
       "  <tbody>\n",
       "    <tr>\n",
       "      <th>0</th>\n",
       "      <td>1775.0</td>\n",
       "      <td>1955-10-05</td>\n",
       "    </tr>\n",
       "    <tr>\n",
       "      <th>1</th>\n",
       "      <td>2901.0</td>\n",
       "      <td>NaT</td>\n",
       "    </tr>\n",
       "    <tr>\n",
       "      <th>2</th>\n",
       "      <td>2902.0</td>\n",
       "      <td>1995-09-16</td>\n",
       "    </tr>\n",
       "    <tr>\n",
       "      <th>3</th>\n",
       "      <td>2903.0</td>\n",
       "      <td>1933-01-01</td>\n",
       "    </tr>\n",
       "    <tr>\n",
       "      <th>4</th>\n",
       "      <td>2904.0</td>\n",
       "      <td>1932-09-03</td>\n",
       "    </tr>\n",
       "    <tr>\n",
       "      <th>...</th>\n",
       "      <td>...</td>\n",
       "      <td>...</td>\n",
       "    </tr>\n",
       "    <tr>\n",
       "      <th>276</th>\n",
       "      <td>2472.0</td>\n",
       "      <td>NaT</td>\n",
       "    </tr>\n",
       "    <tr>\n",
       "      <th>277</th>\n",
       "      <td>1369.0</td>\n",
       "      <td>1971-04-24</td>\n",
       "    </tr>\n",
       "    <tr>\n",
       "      <th>278</th>\n",
       "      <td>1371.0</td>\n",
       "      <td>1973-03-23</td>\n",
       "    </tr>\n",
       "    <tr>\n",
       "      <th>279</th>\n",
       "      <td>1403.0</td>\n",
       "      <td>1952-07-06</td>\n",
       "    </tr>\n",
       "    <tr>\n",
       "      <th>280</th>\n",
       "      <td>1386.0</td>\n",
       "      <td>NaT</td>\n",
       "    </tr>\n",
       "  </tbody>\n",
       "</table>\n",
       "<p>281 rows × 2 columns</p>\n",
       "</div>"
      ],
      "text/plain": [
       "      wc_nr date_of_birth\n",
       "0    1775.0    1955-10-05\n",
       "1    2901.0           NaT\n",
       "2    2902.0    1995-09-16\n",
       "3    2903.0    1933-01-01\n",
       "4    2904.0    1932-09-03\n",
       "..      ...           ...\n",
       "276  2472.0           NaT\n",
       "277  1369.0    1971-04-24\n",
       "278  1371.0    1973-03-23\n",
       "279  1403.0    1952-07-06\n",
       "280  1386.0           NaT\n",
       "\n",
       "[281 rows x 2 columns]"
      ]
     },
     "execution_count": 71,
     "metadata": {},
     "output_type": "execute_result"
    }
   ],
   "source": [
    "all_birthdates['wc_insp_2013__WCOrg_df']"
   ]
  },
  {
   "attachments": {},
   "cell_type": "markdown",
   "metadata": {},
   "source": [
    "#### Concating all birthdate dfs from dict"
   ]
  },
  {
   "cell_type": "code",
   "execution_count": 72,
   "metadata": {},
   "outputs": [
    {
     "data": {
      "text/html": [
       "<div>\n",
       "<style scoped>\n",
       "    .dataframe tbody tr th:only-of-type {\n",
       "        vertical-align: middle;\n",
       "    }\n",
       "\n",
       "    .dataframe tbody tr th {\n",
       "        vertical-align: top;\n",
       "    }\n",
       "\n",
       "    .dataframe thead th {\n",
       "        text-align: right;\n",
       "    }\n",
       "</style>\n",
       "<table border=\"1\" class=\"dataframe\">\n",
       "  <thead>\n",
       "    <tr style=\"text-align: right;\">\n",
       "      <th></th>\n",
       "      <th>wc_nr</th>\n",
       "      <th>date_of_birth</th>\n",
       "    </tr>\n",
       "  </thead>\n",
       "  <tbody>\n",
       "    <tr>\n",
       "      <th>0</th>\n",
       "      <td>1775.0</td>\n",
       "      <td>1955-10-05</td>\n",
       "    </tr>\n",
       "    <tr>\n",
       "      <th>1</th>\n",
       "      <td>2901.0</td>\n",
       "      <td>NaT</td>\n",
       "    </tr>\n",
       "    <tr>\n",
       "      <th>2</th>\n",
       "      <td>2902.0</td>\n",
       "      <td>1995-09-16</td>\n",
       "    </tr>\n",
       "    <tr>\n",
       "      <th>3</th>\n",
       "      <td>2903.0</td>\n",
       "      <td>1933-01-01</td>\n",
       "    </tr>\n",
       "    <tr>\n",
       "      <th>4</th>\n",
       "      <td>2904.0</td>\n",
       "      <td>1932-09-03</td>\n",
       "    </tr>\n",
       "    <tr>\n",
       "      <th>...</th>\n",
       "      <td>...</td>\n",
       "      <td>...</td>\n",
       "    </tr>\n",
       "    <tr>\n",
       "      <th>5</th>\n",
       "      <td>3965.0</td>\n",
       "      <td>1974-08-05</td>\n",
       "    </tr>\n",
       "    <tr>\n",
       "      <th>6</th>\n",
       "      <td>3699.0</td>\n",
       "      <td>1957-06-01</td>\n",
       "    </tr>\n",
       "    <tr>\n",
       "      <th>7</th>\n",
       "      <td>4143.0</td>\n",
       "      <td>1963-02-02</td>\n",
       "    </tr>\n",
       "    <tr>\n",
       "      <th>8</th>\n",
       "      <td>4144.0</td>\n",
       "      <td>1972-09-01</td>\n",
       "    </tr>\n",
       "    <tr>\n",
       "      <th>9</th>\n",
       "      <td>4145.0</td>\n",
       "      <td>1962-04-04</td>\n",
       "    </tr>\n",
       "  </tbody>\n",
       "</table>\n",
       "<p>5473 rows × 2 columns</p>\n",
       "</div>"
      ],
      "text/plain": [
       "     wc_nr date_of_birth\n",
       "0   1775.0    1955-10-05\n",
       "1   2901.0           NaT\n",
       "2   2902.0    1995-09-16\n",
       "3   2903.0    1933-01-01\n",
       "4   2904.0    1932-09-03\n",
       "..     ...           ...\n",
       "5   3965.0    1974-08-05\n",
       "6   3699.0    1957-06-01\n",
       "7   4143.0    1963-02-02\n",
       "8   4144.0    1972-09-01\n",
       "9   4145.0    1962-04-04\n",
       "\n",
       "[5473 rows x 2 columns]"
      ]
     },
     "execution_count": 72,
     "metadata": {},
     "output_type": "execute_result"
    }
   ],
   "source": [
    "all_birthdates_df = pd.concat(all_birthdates.values())\n",
    "all_birthdates_df "
   ]
  },
  {
   "cell_type": "code",
   "execution_count": 73,
   "metadata": {},
   "outputs": [
    {
     "name": "stdout",
     "output_type": "stream",
     "text": [
      "<class 'pandas.core.frame.DataFrame'>\n",
      "Int64Index: 5473 entries, 0 to 9\n",
      "Data columns (total 2 columns):\n",
      " #   Column         Non-Null Count  Dtype         \n",
      "---  ------         --------------  -----         \n",
      " 0   wc_nr          5472 non-null   float64       \n",
      " 1   date_of_birth  341 non-null    datetime64[ns]\n",
      "dtypes: datetime64[ns](1), float64(1)\n",
      "memory usage: 128.3 KB\n"
     ]
    }
   ],
   "source": [
    "all_birthdates_df.info()"
   ]
  },
  {
   "attachments": {},
   "cell_type": "markdown",
   "metadata": {},
   "source": [
    "#### Droping duplicates"
   ]
  },
  {
   "cell_type": "code",
   "execution_count": 74,
   "metadata": {},
   "outputs": [
    {
     "data": {
      "text/plain": [
       "False    3745\n",
       "True     1728\n",
       "Name: wc_nr, dtype: int64"
      ]
     },
     "execution_count": 74,
     "metadata": {},
     "output_type": "execute_result"
    }
   ],
   "source": [
    "# Counting duplicated Wc_Nr to drop them\n",
    "\n",
    "all_birthdates_df[\"wc_nr\"].duplicated().value_counts()"
   ]
  },
  {
   "cell_type": "code",
   "execution_count": 75,
   "metadata": {},
   "outputs": [],
   "source": [
    "all_birthdates_df = all_birthdates_df.drop_duplicates(subset=\"wc_nr\")"
   ]
  },
  {
   "cell_type": "code",
   "execution_count": 76,
   "metadata": {},
   "outputs": [
    {
     "data": {
      "text/plain": [
       "wc_nr               1\n",
       "date_of_birth    3454\n",
       "dtype: int64"
      ]
     },
     "execution_count": 76,
     "metadata": {},
     "output_type": "execute_result"
    }
   ],
   "source": [
    "all_birthdates_df.isnull().sum()"
   ]
  },
  {
   "cell_type": "code",
   "execution_count": 77,
   "metadata": {},
   "outputs": [
    {
     "name": "stdout",
     "output_type": "stream",
     "text": [
      "<class 'pandas.core.frame.DataFrame'>\n",
      "Int64Index: 3745 entries, 0 to 9\n",
      "Data columns (total 2 columns):\n",
      " #   Column         Non-Null Count  Dtype         \n",
      "---  ------         --------------  -----         \n",
      " 0   wc_nr          3744 non-null   float64       \n",
      " 1   date_of_birth  291 non-null    datetime64[ns]\n",
      "dtypes: datetime64[ns](1), float64(1)\n",
      "memory usage: 87.8 KB\n"
     ]
    }
   ],
   "source": [
    "all_birthdates_df.info()"
   ]
  },
  {
   "cell_type": "code",
   "execution_count": 78,
   "metadata": {},
   "outputs": [
    {
     "data": {
      "text/plain": [
       "True     3454\n",
       "False     291\n",
       "Name: date_of_birth, dtype: int64"
      ]
     },
     "execution_count": 78,
     "metadata": {},
     "output_type": "execute_result"
    }
   ],
   "source": [
    "all_birthdates_df[\"date_of_birth\"].isnull().value_counts()"
   ]
  },
  {
   "cell_type": "code",
   "execution_count": 81,
   "metadata": {},
   "outputs": [
    {
     "name": "stdout",
     "output_type": "stream",
     "text": [
      "The all_birthdates table was imported successfully.\n"
     ]
    }
   ],
   "source": [
    "table_name = 'all_birthdates'\n",
    "\n",
    "if engine!=None:\n",
    "    try:\n",
    "        all_birthdates_df.to_sql(name=table_name, # Name of SQL table\n",
    "                                con=engine, # Engine or connection\n",
    "                                if_exists='replace', # Drop the table before inserting new values \n",
    "                                schema=schema, # Use schmea that was defined earlier\n",
    "                                index=False, # Write DataFrame index as a column\n",
    "                                chunksize=5000, # Specify the number of rows in each batch to be written at a time\n",
    "                                method='multi') # Pass multiple values in a single INSERT clause\n",
    "        print(f\"The {table_name} table was imported successfully.\")\n",
    "     #Error handling\n",
    "    except (Exception, psycopg2.DatabaseError) as error:\n",
    "        print(error)\n",
    "        engine = None"
   ]
  }
 ],
 "metadata": {
  "kernelspec": {
   "display_name": "nf_sql",
   "language": "python",
   "name": "python3"
  },
  "language_info": {
   "codemirror_mode": {
    "name": "ipython",
    "version": 3
   },
   "file_extension": ".py",
   "mimetype": "text/x-python",
   "name": "python",
   "nbconvert_exporter": "python",
   "pygments_lexer": "ipython3",
   "version": "3.9.16"
  },
  "orig_nbformat": 4
 },
 "nbformat": 4,
 "nbformat_minor": 2
}
