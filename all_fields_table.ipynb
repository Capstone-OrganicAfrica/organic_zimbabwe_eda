{
 "cells": [
  {
   "attachments": {},
   "cell_type": "markdown",
   "metadata": {},
   "source": [
    "## In this notebook, the datasets are sourced into dataframes, initial data cleaning and data sent to database (Postgres)\n",
    "\n",
    "## Data Cleaning for fields dataset\n",
    "\n",
    "Columns in fields dataset\n",
    "\n",
    "id                        \n",
    "og_nr                   \n",
    "date_updated             \n",
    "plot_name                \n",
    "area_(hectare)          \n",
    "field_organic_status     \n",
    "total_area_(hectare)    \n",
    "wc_nr    \n",
    "\n",
    "## Import necessary libraries\n"
   ]
  },
  {
   "cell_type": "code",
   "execution_count": null,
   "metadata": {},
   "outputs": [],
   "source": [
    "import pandas as pd\n",
    "import sql_functions as sf"
   ]
  },
  {
   "attachments": {},
   "cell_type": "markdown",
   "metadata": {},
   "source": [
    "## Get data"
   ]
  },
  {
   "cell_type": "code",
   "execution_count": 19,
   "metadata": {},
   "outputs": [],
   "source": [
    "schema = 'organic_africa' # UPDATE 'TABLE_SCHEMA' based on schema used in class \n",
    "engine = sf.get_engine()   "
   ]
  },
  {
   "cell_type": "code",
   "execution_count": 20,
   "metadata": {},
   "outputs": [],
   "source": [
    "field_tables = {}\n",
    "field_tables['OGFH_OGMB'] = sf.get_dataframe(f'SELECT * FROM {schema}.\"OGFH_OGMB\"')\n",
    "field_tables['OG_Field_History__OGOrg'] = sf.get_dataframe(f'SELECT * FROM {schema}.\"OG_Field_History__OGOrg\"')\n",
    "field_tables['organic_fh_bayoba'] = sf.get_dataframe(f'SELECT * FROM {schema}.\"organic_fh_bayoba\"')"
   ]
  },
  {
   "attachments": {},
   "cell_type": "markdown",
   "metadata": {},
   "source": [
    "## Data cleaning\n",
    "\n",
    "Set column names lower"
   ]
  },
  {
   "cell_type": "code",
   "execution_count": 21,
   "metadata": {},
   "outputs": [],
   "source": [
    "field_tables['OGFH_OGMB'] = field_tables['OGFH_OGMB'][['ID', 'OG_Nr', 'Date_updated','Plot_name',\n",
    "       'Area_(Hectare)', 'Field_Organic_Status']]\n",
    "field_tables['OGFH_OGMB'].columns = map(str.lower, field_tables['OGFH_OGMB'].columns)\n",
    "\n",
    "field_tables['OG_Field_History__OGOrg'] = field_tables['OG_Field_History__OGOrg'][['ID', 'OG_Nr', 'Date_updated', 'Plot_name', 'Area_(acre)',\n",
    "       'Field_Organic_Status']]\n",
    "field_tables['OG_Field_History__OGOrg'].columns = map(str.lower, field_tables['OG_Field_History__OGOrg'].columns)\n",
    "\n",
    "field_tables['organic_fh_bayoba'] = field_tables['organic_fh_bayoba'][['ID', 'WCNr', 'Date_updated', 'Plot_name', 'Area_(acre)',\n",
    "       'Field_Organic_Status']]\n",
    "field_tables['organic_fh_bayoba'].columns = map(str.lower, field_tables['organic_fh_bayoba'].columns)"
   ]
  },
  {
   "attachments": {},
   "cell_type": "markdown",
   "metadata": {},
   "source": [
    "Renaming columns, replacing values, changing data type\n"
   ]
  },
  {
   "cell_type": "code",
   "execution_count": 22,
   "metadata": {},
   "outputs": [],
   "source": [
    "field_tables['organic_fh_bayoba'].rename(columns = {\"wcnr\": \"wc_nr\", \"area_(acre)\": \"area_(hectare)\"}, inplace = True)"
   ]
  },
  {
   "cell_type": "code",
   "execution_count": 23,
   "metadata": {},
   "outputs": [],
   "source": [
    "field_tables['OG_Field_History__OGOrg']['area_(acre)'] = field_tables['OG_Field_History__OGOrg']['area_(acre)'].replace({'o': '0'})"
   ]
  },
  {
   "cell_type": "code",
   "execution_count": 24,
   "metadata": {},
   "outputs": [],
   "source": [
    "field_tables['OG_Field_History__OGOrg']['area_(acre)'] = field_tables['OG_Field_History__OGOrg']['area_(acre)'].astype(float)"
   ]
  },
  {
   "cell_type": "code",
   "execution_count": 25,
   "metadata": {},
   "outputs": [],
   "source": [
    "field_tables['OG_Field_History__OGOrg'].rename(columns = {\"area_(acre)\": \"area_(hectare)\"}, inplace = True)"
   ]
  },
  {
   "attachments": {},
   "cell_type": "markdown",
   "metadata": {},
   "source": [
    "Creating new column"
   ]
  },
  {
   "cell_type": "code",
   "execution_count": 26,
   "metadata": {},
   "outputs": [],
   "source": [
    "field_tables['OGFH_OGMB']['total_area_(hectare)'] = field_tables['OGFH_OGMB'].groupby(['og_nr', 'date_updated'])['area_(hectare)'].transform('sum')"
   ]
  },
  {
   "cell_type": "code",
   "execution_count": 27,
   "metadata": {},
   "outputs": [],
   "source": [
    "field_tables['OG_Field_History__OGOrg']['total_area_(hectare)'] = field_tables['OG_Field_History__OGOrg'].groupby(['og_nr', 'date_updated'])['area_(hectare)'].transform('sum')"
   ]
  },
  {
   "cell_type": "code",
   "execution_count": 28,
   "metadata": {},
   "outputs": [],
   "source": [
    "field_tables['organic_fh_bayoba']['total_area_(hectare)'] = field_tables['organic_fh_bayoba'].groupby(['wc_nr', 'date_updated'])['area_(hectare)'].transform('sum')"
   ]
  },
  {
   "attachments": {},
   "cell_type": "markdown",
   "metadata": {},
   "source": [
    "## Creating one joined dataframe"
   ]
  },
  {
   "cell_type": "code",
   "execution_count": null,
   "metadata": {},
   "outputs": [],
   "source": [
    "concated_fields = pd.concat(field_tables)"
   ]
  },
  {
   "attachments": {},
   "cell_type": "markdown",
   "metadata": {},
   "source": [
    "Know your data\n",
    "\n",
    "Data cleaning"
   ]
  },
  {
   "cell_type": "code",
   "execution_count": 29,
   "metadata": {},
   "outputs": [
    {
     "data": {
      "text/plain": [
       "id                        int64\n",
       "og_nr                   float64\n",
       "date_updated             object\n",
       "plot_name                object\n",
       "area_(hectare)          float64\n",
       "field_organic_status     object\n",
       "total_area_(hectare)    float64\n",
       "wc_nr                   float64\n",
       "dtype: object"
      ]
     },
     "execution_count": 29,
     "metadata": {},
     "output_type": "execute_result"
    }
   ],
   "source": [
    "concated_fields.dtypes"
   ]
  },
  {
   "cell_type": "code",
   "execution_count": 30,
   "metadata": {},
   "outputs": [
    {
     "data": {
      "text/html": [
       "<div>\n",
       "<style scoped>\n",
       "    .dataframe tbody tr th:only-of-type {\n",
       "        vertical-align: middle;\n",
       "    }\n",
       "\n",
       "    .dataframe tbody tr th {\n",
       "        vertical-align: top;\n",
       "    }\n",
       "\n",
       "    .dataframe thead th {\n",
       "        text-align: right;\n",
       "    }\n",
       "</style>\n",
       "<table border=\"1\" class=\"dataframe\">\n",
       "  <thead>\n",
       "    <tr style=\"text-align: right;\">\n",
       "      <th></th>\n",
       "      <th></th>\n",
       "      <th>id</th>\n",
       "      <th>og_nr</th>\n",
       "      <th>date_updated</th>\n",
       "      <th>plot_name</th>\n",
       "      <th>area_(hectare)</th>\n",
       "      <th>field_organic_status</th>\n",
       "      <th>total_area_(hectare)</th>\n",
       "      <th>wc_nr</th>\n",
       "    </tr>\n",
       "  </thead>\n",
       "  <tbody>\n",
       "    <tr>\n",
       "      <th rowspan=\"10\" valign=\"top\">OGFH_OGMB</th>\n",
       "      <th>0</th>\n",
       "      <td>2867</td>\n",
       "      <td>13172.0</td>\n",
       "      <td>2017-09-18</td>\n",
       "      <td>1</td>\n",
       "      <td>0.4</td>\n",
       "      <td>Con</td>\n",
       "      <td>4.4</td>\n",
       "      <td>NaN</td>\n",
       "    </tr>\n",
       "    <tr>\n",
       "      <th>1</th>\n",
       "      <td>2868</td>\n",
       "      <td>13172.0</td>\n",
       "      <td>2017-09-18</td>\n",
       "      <td>2</td>\n",
       "      <td>0.5</td>\n",
       "      <td>Con</td>\n",
       "      <td>4.4</td>\n",
       "      <td>NaN</td>\n",
       "    </tr>\n",
       "    <tr>\n",
       "      <th>2</th>\n",
       "      <td>2869</td>\n",
       "      <td>13172.0</td>\n",
       "      <td>2017-09-18</td>\n",
       "      <td>3</td>\n",
       "      <td>0.5</td>\n",
       "      <td>Org</td>\n",
       "      <td>4.4</td>\n",
       "      <td>NaN</td>\n",
       "    </tr>\n",
       "    <tr>\n",
       "      <th>3</th>\n",
       "      <td>2870</td>\n",
       "      <td>13172.0</td>\n",
       "      <td>2017-09-18</td>\n",
       "      <td>4</td>\n",
       "      <td>0.4</td>\n",
       "      <td>Con</td>\n",
       "      <td>4.4</td>\n",
       "      <td>NaN</td>\n",
       "    </tr>\n",
       "    <tr>\n",
       "      <th>4</th>\n",
       "      <td>2871</td>\n",
       "      <td>13172.0</td>\n",
       "      <td>2017-09-18</td>\n",
       "      <td>5</td>\n",
       "      <td>0.8</td>\n",
       "      <td>Con</td>\n",
       "      <td>4.4</td>\n",
       "      <td>NaN</td>\n",
       "    </tr>\n",
       "    <tr>\n",
       "      <th>5</th>\n",
       "      <td>2872</td>\n",
       "      <td>13172.0</td>\n",
       "      <td>2017-09-18</td>\n",
       "      <td>6</td>\n",
       "      <td>0.4</td>\n",
       "      <td>Con</td>\n",
       "      <td>4.4</td>\n",
       "      <td>NaN</td>\n",
       "    </tr>\n",
       "    <tr>\n",
       "      <th>6</th>\n",
       "      <td>2873</td>\n",
       "      <td>13172.0</td>\n",
       "      <td>2017-09-18</td>\n",
       "      <td>7</td>\n",
       "      <td>0.4</td>\n",
       "      <td>Org</td>\n",
       "      <td>4.4</td>\n",
       "      <td>NaN</td>\n",
       "    </tr>\n",
       "    <tr>\n",
       "      <th>7</th>\n",
       "      <td>2874</td>\n",
       "      <td>13172.0</td>\n",
       "      <td>2017-09-18</td>\n",
       "      <td>8</td>\n",
       "      <td>1.0</td>\n",
       "      <td>Con</td>\n",
       "      <td>4.4</td>\n",
       "      <td>NaN</td>\n",
       "    </tr>\n",
       "    <tr>\n",
       "      <th>8</th>\n",
       "      <td>2875</td>\n",
       "      <td>13172.0</td>\n",
       "      <td>None</td>\n",
       "      <td>None</td>\n",
       "      <td>NaN</td>\n",
       "      <td>None</td>\n",
       "      <td>NaN</td>\n",
       "      <td>NaN</td>\n",
       "    </tr>\n",
       "    <tr>\n",
       "      <th>9</th>\n",
       "      <td>2876</td>\n",
       "      <td>13173.0</td>\n",
       "      <td>2021-05-06</td>\n",
       "      <td>1</td>\n",
       "      <td>0.2</td>\n",
       "      <td>Mabagrown</td>\n",
       "      <td>0.4</td>\n",
       "      <td>NaN</td>\n",
       "    </tr>\n",
       "  </tbody>\n",
       "</table>\n",
       "</div>"
      ],
      "text/plain": [
       "               id    og_nr date_updated plot_name  area_(hectare)  \\\n",
       "OGFH_OGMB 0  2867  13172.0   2017-09-18         1             0.4   \n",
       "          1  2868  13172.0   2017-09-18         2             0.5   \n",
       "          2  2869  13172.0   2017-09-18         3             0.5   \n",
       "          3  2870  13172.0   2017-09-18         4             0.4   \n",
       "          4  2871  13172.0   2017-09-18         5             0.8   \n",
       "          5  2872  13172.0   2017-09-18         6             0.4   \n",
       "          6  2873  13172.0   2017-09-18         7             0.4   \n",
       "          7  2874  13172.0   2017-09-18         8             1.0   \n",
       "          8  2875  13172.0         None      None             NaN   \n",
       "          9  2876  13173.0   2021-05-06         1             0.2   \n",
       "\n",
       "            field_organic_status  total_area_(hectare)  wc_nr  \n",
       "OGFH_OGMB 0                  Con                   4.4    NaN  \n",
       "          1                  Con                   4.4    NaN  \n",
       "          2                  Org                   4.4    NaN  \n",
       "          3                  Con                   4.4    NaN  \n",
       "          4                  Con                   4.4    NaN  \n",
       "          5                  Con                   4.4    NaN  \n",
       "          6                  Org                   4.4    NaN  \n",
       "          7                  Con                   4.4    NaN  \n",
       "          8                 None                   NaN    NaN  \n",
       "          9            Mabagrown                   0.4    NaN  "
      ]
     },
     "execution_count": 30,
     "metadata": {},
     "output_type": "execute_result"
    }
   ],
   "source": [
    "concated_fields.head(10)"
   ]
  },
  {
   "cell_type": "code",
   "execution_count": 31,
   "metadata": {},
   "outputs": [
    {
     "data": {
      "text/plain": [
       "False    13987\n",
       "True      2207\n",
       "dtype: int64"
      ]
     },
     "execution_count": 31,
     "metadata": {},
     "output_type": "execute_result"
    }
   ],
   "source": [
    "concated_fields.duplicated().value_counts()"
   ]
  },
  {
   "cell_type": "code",
   "execution_count": 32,
   "metadata": {},
   "outputs": [],
   "source": [
    "concated_fields.drop_duplicates(subset=None, keep='first', inplace=True)"
   ]
  },
  {
   "attachments": {},
   "cell_type": "markdown",
   "metadata": {},
   "source": [
    "Changing data type"
   ]
  },
  {
   "cell_type": "code",
   "execution_count": 39,
   "metadata": {},
   "outputs": [],
   "source": [
    "concated_fields['date_updated'] = pd.to_datetime(concated_fields['date_updated'],format= '%Y-%m-%d')"
   ]
  },
  {
   "cell_type": "code",
   "execution_count": 41,
   "metadata": {},
   "outputs": [
    {
     "data": {
      "text/plain": [
       "id                               int64\n",
       "og_nr                          float64\n",
       "date_updated            datetime64[ns]\n",
       "plot_name                       object\n",
       "area_(hectare)                 float64\n",
       "field_organic_status            object\n",
       "total_area_(hectare)           float64\n",
       "wc_nr                          float64\n",
       "dtype: object"
      ]
     },
     "execution_count": 41,
     "metadata": {},
     "output_type": "execute_result"
    }
   ],
   "source": [
    "concated_fields.dtypes"
   ]
  },
  {
   "attachments": {},
   "cell_type": "markdown",
   "metadata": {},
   "source": [
    "## Push the datasets to Postgres"
   ]
  },
  {
   "cell_type": "code",
   "execution_count": 43,
   "metadata": {},
   "outputs": [],
   "source": [
    "import psycopg2\n",
    "import sqlalchemy \n",
    "from sql_functions import sqlalchemy \n",
    "from sql_functions import get_engine "
   ]
  },
  {
   "cell_type": "code",
   "execution_count": null,
   "metadata": {},
   "outputs": [
    {
     "name": "stdout",
     "output_type": "stream",
     "text": [
      "The all_fields table was imported successfully.\n"
     ]
    }
   ],
   "source": [
    "# Write records stored in a dataframe to SQL database\n",
    "engine = get_engine()\n",
    "table_name = 'all_fields'\n",
    "if engine!=None:\n",
    "    try:\n",
    "        concated_fields.to_sql(name='all_fields', # Name of SQL table variable - at the front its the dataframe!! \n",
    "                        con=engine, # Engine or connection\n",
    "                        schema='organic_africa', # your class schema variable\n",
    "                        if_exists='replace', # Drop the table before inserting new values \n",
    "                        index=False, # Write DataFrame index as a column\n",
    "                        chunksize=5000, # Specify the number of rows in each batch to be written at a time\n",
    "                        method='multi') # Pass multiple values in a single INSERT clause\n",
    "        print(f\"The {table_name} table was imported successfully.\")\n",
    "    # Error handling\n",
    "    except (Exception, psycopg2.DatabaseError) as error:\n",
    "        print(error)\n",
    "        engine = None\n",
    "else:\n",
    "    print('No engine')"
   ]
  }
 ],
 "metadata": {
  "kernelspec": {
   "display_name": "nf_sql",
   "language": "python",
   "name": "python3"
  },
  "language_info": {
   "codemirror_mode": {
    "name": "ipython",
    "version": 3
   },
   "file_extension": ".py",
   "mimetype": "text/x-python",
   "name": "python",
   "nbconvert_exporter": "python",
   "pygments_lexer": "ipython3",
   "version": "3.9.16"
  },
  "orig_nbformat": 4
 },
 "nbformat": 4,
 "nbformat_minor": 2
}
