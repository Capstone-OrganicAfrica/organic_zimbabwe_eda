{
 "cells": [
  {
   "cell_type": "code",
   "execution_count": 125,
   "metadata": {},
   "outputs": [],
   "source": [
    "import pandas as pd\n",
    "\n",
    "import sql_functions as sf"
   ]
  },
  {
   "cell_type": "code",
   "execution_count": 126,
   "metadata": {},
   "outputs": [],
   "source": [
    "schema = 'organic_africa' # UPDATE 'TABLE_SCHEMA' based on schema used in class \n",
    "engine = sf.get_engine()"
   ]
  },
  {
   "cell_type": "code",
   "execution_count": 127,
   "metadata": {},
   "outputs": [],
   "source": [
    "pur_tables = {}\n",
    "pur_tables['OGPur__OGMB'] = sf.get_dataframe(f'SELECT * FROM {schema}.\"OGPur__OGMB\"')\n",
    "pur_tables['OG_Pur__OGOrg_1'] = sf.get_dataframe(f'SELECT * FROM {schema}.\"OG_Pur__OGOrg_1\"')\n",
    "pur_tables['wc_pur__WCOrg_1'] = sf.get_dataframe(f'SELECT * FROM {schema}.\"wc_pur__WCOrg_1\"')\n",
    "pur_tables['wc_pur_deviations__WCOrg_1'] = sf.get_dataframe(f'SELECT * FROM {schema}.\"wc_pur_deviations__WCOrg_1\"')\n",
    "pur_tables['wc_purchases_bayoba_1'] = sf.get_dataframe(f'SELECT * FROM {schema}.\"wc_purchases_bayoba_1\"')\n",
    "pur_tables['wc_purchases_deviations_bayoba_1'] = sf.get_dataframe(f'SELECT * FROM {schema}.\"wc_purchases_deviations_bayoba_1\"')"
   ]
  },
  {
   "cell_type": "code",
   "execution_count": 128,
   "metadata": {},
   "outputs": [],
   "source": [
    "del pur_tables['OGPur__OGMB']['Input_recovery']\n",
    "del pur_tables['OG_Pur__OGOrg_1']['Input_recovery']"
   ]
  },
  {
   "cell_type": "code",
   "execution_count": 129,
   "metadata": {},
   "outputs": [
    {
     "data": {
      "text/plain": [
       "Index(['id', 'og_nr', 'name_verified', 'date_of_purchase', 'receipt_nr',\n",
       "       'product', 'grade', 'amount_in_kg', 'price_per_kg', 'total_payment_usd',\n",
       "       'buyer', 'agr_year', 'comment', 'entered_by', 'source'],\n",
       "      dtype='object')"
      ]
     },
     "execution_count": 129,
     "metadata": {},
     "output_type": "execute_result"
    }
   ],
   "source": [
    "# column names lower case\n",
    "\n",
    "for df in pur_tables.values():\n",
    "    #print(df)\n",
    "    df.columns = map(str.lower, df.columns)\n",
    "\n",
    "pur_tables['OGPur__OGMB'].columns"
   ]
  },
  {
   "cell_type": "code",
   "execution_count": 130,
   "metadata": {},
   "outputs": [
    {
     "data": {
      "text/html": [
       "<div>\n",
       "<style scoped>\n",
       "    .dataframe tbody tr th:only-of-type {\n",
       "        vertical-align: middle;\n",
       "    }\n",
       "\n",
       "    .dataframe tbody tr th {\n",
       "        vertical-align: top;\n",
       "    }\n",
       "\n",
       "    .dataframe thead th {\n",
       "        text-align: right;\n",
       "    }\n",
       "</style>\n",
       "<table border=\"1\" class=\"dataframe\">\n",
       "  <thead>\n",
       "    <tr style=\"text-align: right;\">\n",
       "      <th></th>\n",
       "      <th>id</th>\n",
       "      <th>og_nr</th>\n",
       "      <th>name_verified</th>\n",
       "      <th>date_of_purchase</th>\n",
       "      <th>receipt_nr</th>\n",
       "      <th>product</th>\n",
       "      <th>grade</th>\n",
       "      <th>amount_in_kg</th>\n",
       "      <th>price_per_kg</th>\n",
       "      <th>total_payment_usd</th>\n",
       "      <th>buyer</th>\n",
       "      <th>agr_year</th>\n",
       "      <th>comment</th>\n",
       "      <th>entered_by</th>\n",
       "      <th>source</th>\n",
       "    </tr>\n",
       "  </thead>\n",
       "  <tbody>\n",
       "    <tr>\n",
       "      <th>4097</th>\n",
       "      <td>6657</td>\n",
       "      <td>18493.0</td>\n",
       "      <td>False</td>\n",
       "      <td>037/2021</td>\n",
       "      <td>6091.0</td>\n",
       "      <td>Rosella (subdariffa) petals (MB)</td>\n",
       "      <td>A</td>\n",
       "      <td>11.0</td>\n",
       "      <td>0.85</td>\n",
       "      <td>9.0</td>\n",
       "      <td>Philip</td>\n",
       "      <td>2021.0</td>\n",
       "      <td>None</td>\n",
       "      <td>Nyasha</td>\n",
       "      <td>OGOrg</td>\n",
       "    </tr>\n",
       "  </tbody>\n",
       "</table>\n",
       "</div>"
      ],
      "text/plain": [
       "        id    og_nr  name_verified date_of_purchase  receipt_nr  \\\n",
       "4097  6657  18493.0          False         037/2021      6091.0   \n",
       "\n",
       "                               product grade  amount_in_kg  price_per_kg  \\\n",
       "4097  Rosella (subdariffa) petals (MB)     A          11.0          0.85   \n",
       "\n",
       "      total_payment_usd   buyer  agr_year comment entered_by source  \n",
       "4097                9.0  Philip    2021.0    None     Nyasha  OGOrg  "
      ]
     },
     "execution_count": 130,
     "metadata": {},
     "output_type": "execute_result"
    }
   ],
   "source": [
    "pur_tables['OGPur__OGMB'].loc[pur_tables['OGPur__OGMB']['date_of_purchase']=='037/2021']\n",
    "# 4097"
   ]
  },
  {
   "cell_type": "code",
   "execution_count": 131,
   "metadata": {},
   "outputs": [
    {
     "data": {
      "text/plain": [
       "'03/07/2021'"
      ]
     },
     "execution_count": 131,
     "metadata": {},
     "output_type": "execute_result"
    }
   ],
   "source": [
    "pur_tables['OGPur__OGMB']['date_of_purchase'] = pur_tables['OGPur__OGMB'].iloc[4097]['date_of_purchase'].replace('037/2021', '03/07/2021')\n",
    "pur_tables['OGPur__OGMB'].iloc[4097]['date_of_purchase']"
   ]
  },
  {
   "cell_type": "code",
   "execution_count": 132,
   "metadata": {},
   "outputs": [],
   "source": [
    "# Function to pad/fill to short dates like 5/3/18 to 05/03/2018\n",
    "\n",
    "def str_date_pad(val):\n",
    "    \n",
    "    if type(val) is str and len(val) < 10: \n",
    "\n",
    "        date_splitted = val.split('/')\n",
    "        print(date_splitted)\n",
    "        if len(date_splitted[1]) < 2 : \n",
    "            date_splitted[1] = '0' + date_splitted[1]\n",
    "\n",
    "        if (len(date_splitted[2]) < 4) and (int(date_splitted[2]) < 24) : \n",
    "            date_splitted[2] = '20' + date_splitted[2]\n",
    "        if len(date_splitted[2]) < 4 and int(date_splitted[2]) > 23 : \n",
    "            date_splitted[2] = '19' + date_splitted[2]\n",
    "    \n",
    "        val = '/'.join(date_splitted)\n",
    "        #print(val)\n",
    "        return val\n",
    "    \n",
    "    else:\n",
    "        return val"
   ]
  },
  {
   "cell_type": "code",
   "execution_count": 133,
   "metadata": {},
   "outputs": [],
   "source": [
    "# Date_of_purchase to_datetime\n",
    "pur_tables['OGPur__OGMB']['date_of_purchase'] = pur_tables['OGPur__OGMB']['date_of_purchase'].apply(str_date_pad)"
   ]
  },
  {
   "cell_type": "code",
   "execution_count": 134,
   "metadata": {},
   "outputs": [],
   "source": [
    "pur_tables['OGPur__OGMB']['date_of_purchase'] = pd.to_datetime(pur_tables['OGPur__OGMB']['date_of_purchase'])"
   ]
  },
  {
   "cell_type": "code",
   "execution_count": 135,
   "metadata": {},
   "outputs": [
    {
     "name": "stderr",
     "output_type": "stream",
     "text": [
      "/var/folders/x5/v1d8l9v94679fhr8vd07ys9c0000gn/T/ipykernel_1053/127177431.py:1: UserWarning: Parsing dates in DD/MM/YYYY format when dayfirst=False (the default) was specified. This may lead to inconsistently parsed dates! Specify a format to ensure consistent parsing.\n",
      "  pur_tables['OG_Pur__OGOrg_1']['date_of_purchase'] = pd.to_datetime(pur_tables['OG_Pur__OGOrg_1']['date_of_purchase'])\n"
     ]
    }
   ],
   "source": [
    "pur_tables['OG_Pur__OGOrg_1']['date_of_purchase'] = pd.to_datetime(pur_tables['OG_Pur__OGOrg_1']['date_of_purchase'])\n",
    "pur_tables['wc_pur__WCOrg_1']['date_of_purchase'] = pd.to_datetime(pur_tables['wc_pur__WCOrg_1']['date_of_purchase'])\n",
    "pur_tables['wc_pur_deviations__WCOrg_1']['date_of_purchase'] = pd.to_datetime(pur_tables['wc_pur_deviations__WCOrg_1']['date_of_purchase'])\n",
    "pur_tables['wc_purchases_bayoba_1']['date_of_purchase'] = pd.to_datetime(pur_tables['wc_purchases_bayoba_1']['date_of_purchase'])\n",
    "pur_tables['wc_purchases_deviations_bayoba_1']['date_of_purchase'] = pd.to_datetime(pur_tables['wc_purchases_deviations_bayoba_1']['date_of_purchase'])"
   ]
  },
  {
   "attachments": {},
   "cell_type": "markdown",
   "metadata": {},
   "source": [
    "#### Concat"
   ]
  },
  {
   "cell_type": "code",
   "execution_count": 136,
   "metadata": {},
   "outputs": [
    {
     "name": "stdout",
     "output_type": "stream",
     "text": [
      "OGPur__OGMB\n",
      "(6612, 15)\n",
      "OG_Pur__OGOrg_1\n",
      "(4144, 15)\n",
      "wc_pur__WCOrg_1\n",
      "(2731, 15)\n",
      "wc_pur_deviations__WCOrg_1\n",
      "(464, 15)\n",
      "wc_purchases_bayoba_1\n",
      "(10451, 15)\n",
      "wc_purchases_deviations_bayoba_1\n",
      "(650, 15)\n"
     ]
    }
   ],
   "source": [
    "for name, df in pur_tables.items():\n",
    "    print(name)\n",
    "    print(df.shape)"
   ]
  },
  {
   "cell_type": "code",
   "execution_count": 137,
   "metadata": {},
   "outputs": [
    {
     "data": {
      "text/plain": [
       "id                            int64\n",
       "og_nr                       float64\n",
       "name_verified                  bool\n",
       "date_of_purchase     datetime64[ns]\n",
       "receipt_nr                   object\n",
       "product                      object\n",
       "grade                        object\n",
       "amount_in_kg                float64\n",
       "price_per_kg                float64\n",
       "total_payment_usd           float64\n",
       "buyer                        object\n",
       "agr_year                     object\n",
       "comment                      object\n",
       "entered_by                   object\n",
       "source                       object\n",
       "wc_nr                       float64\n",
       "dtype: object"
      ]
     },
     "execution_count": 137,
     "metadata": {},
     "output_type": "execute_result"
    }
   ],
   "source": [
    "concated_pur = pd.concat(pur_tables)\n",
    "concated_pur.dtypes"
   ]
  },
  {
   "attachments": {},
   "cell_type": "markdown",
   "metadata": {},
   "source": [
    "#### Further Cleaning\n",
    "- Receipt_Nr to_numeric"
   ]
  },
  {
   "cell_type": "code",
   "execution_count": 138,
   "metadata": {},
   "outputs": [
    {
     "data": {
      "text/plain": [
       "'1753'"
      ]
     },
     "execution_count": 138,
     "metadata": {},
     "output_type": "execute_result"
    }
   ],
   "source": [
    "# concated_pur['receipt_nr']= pd.to_numeric(concated_pur['receipt_nr'])\n",
    "# Unable to parse string \"1753A\" at position 8885\n",
    "\n",
    "concated_pur['receipt_nr'] = concated_pur.iloc[8885]['receipt_nr'].replace('1753A', '1753')\n",
    "\n",
    "concated_pur.iloc[8885]['receipt_nr']"
   ]
  },
  {
   "cell_type": "code",
   "execution_count": 139,
   "metadata": {},
   "outputs": [],
   "source": [
    "concated_pur['receipt_nr']= pd.to_numeric(concated_pur['receipt_nr'])"
   ]
  },
  {
   "cell_type": "code",
   "execution_count": 140,
   "metadata": {},
   "outputs": [
    {
     "data": {
      "text/plain": [
       "pandas.core.series.Series"
      ]
     },
     "execution_count": 140,
     "metadata": {},
     "output_type": "execute_result"
    }
   ],
   "source": [
    "type(concated_pur['wc_nr'])"
   ]
  },
  {
   "cell_type": "code",
   "execution_count": 141,
   "metadata": {},
   "outputs": [
    {
     "name": "stdout",
     "output_type": "stream",
     "text": [
      "0.268\n"
     ]
    }
   ],
   "source": [
    "wc = concated_pur.loc[pd.notna(concated_pur['wc_nr'])==True,'wc_nr']\n",
    "for nr in wc: \n",
    "    if str(nr).endswith('.0')==False: print(nr)"
   ]
  },
  {
   "cell_type": "code",
   "execution_count": 142,
   "metadata": {},
   "outputs": [],
   "source": [
    "0.268\n",
    "concated_pur['wc_nr'] = concated_pur['wc_nr'].replace('0.268', '268.0')"
   ]
  },
  {
   "cell_type": "code",
   "execution_count": 143,
   "metadata": {},
   "outputs": [],
   "source": [
    "# Correcting outliers\n",
    "\n",
    "concated_pur['agr_year'] = concated_pur['agr_year'].replace('2013/14', '2013')\n",
    "concated_pur['agr_year'] = concated_pur['agr_year'].replace('2014/15', '2014')\n",
    "concated_pur['agr_year'] = concated_pur['agr_year'].replace('2021q', '2021')"
   ]
  },
  {
   "cell_type": "code",
   "execution_count": 144,
   "metadata": {},
   "outputs": [],
   "source": [
    "concated_pur['agr_year'] = pd.to_datetime(concated_pur['agr_year'])\n",
    "#concated_pur['agr_year'] = concated_pur['agr_year'].dt.year"
   ]
  },
  {
   "cell_type": "code",
   "execution_count": 145,
   "metadata": {},
   "outputs": [],
   "source": [
    "concated_pur['agr_year'] = concated_pur['agr_year'].dt.strftime('%Y')\n",
    "#concated_pur['agr_year'] = pd.to_datetime(concated_pur['agr_year']).dt.year"
   ]
  },
  {
   "cell_type": "code",
   "execution_count": 146,
   "metadata": {},
   "outputs": [
    {
     "data": {
      "text/plain": [
       "id                            int64\n",
       "og_nr                       float64\n",
       "name_verified                  bool\n",
       "date_of_purchase     datetime64[ns]\n",
       "receipt_nr                    int64\n",
       "product                      object\n",
       "grade                        object\n",
       "amount_in_kg                float64\n",
       "price_per_kg                float64\n",
       "total_payment_usd           float64\n",
       "buyer                        object\n",
       "agr_year                     object\n",
       "comment                      object\n",
       "entered_by                   object\n",
       "source                       object\n",
       "wc_nr                       float64\n",
       "dtype: object"
      ]
     },
     "metadata": {},
     "output_type": "display_data"
    },
    {
     "data": {
      "text/plain": [
       "(25052, 16)"
      ]
     },
     "metadata": {},
     "output_type": "display_data"
    },
    {
     "data": {
      "text/html": [
       "<div>\n",
       "<style scoped>\n",
       "    .dataframe tbody tr th:only-of-type {\n",
       "        vertical-align: middle;\n",
       "    }\n",
       "\n",
       "    .dataframe tbody tr th {\n",
       "        vertical-align: top;\n",
       "    }\n",
       "\n",
       "    .dataframe thead th {\n",
       "        text-align: right;\n",
       "    }\n",
       "</style>\n",
       "<table border=\"1\" class=\"dataframe\">\n",
       "  <thead>\n",
       "    <tr style=\"text-align: right;\">\n",
       "      <th></th>\n",
       "      <th></th>\n",
       "      <th>id</th>\n",
       "      <th>og_nr</th>\n",
       "      <th>name_verified</th>\n",
       "      <th>date_of_purchase</th>\n",
       "      <th>receipt_nr</th>\n",
       "      <th>product</th>\n",
       "      <th>grade</th>\n",
       "      <th>amount_in_kg</th>\n",
       "      <th>price_per_kg</th>\n",
       "      <th>total_payment_usd</th>\n",
       "      <th>buyer</th>\n",
       "      <th>agr_year</th>\n",
       "      <th>comment</th>\n",
       "      <th>entered_by</th>\n",
       "      <th>source</th>\n",
       "      <th>wc_nr</th>\n",
       "    </tr>\n",
       "  </thead>\n",
       "  <tbody>\n",
       "    <tr>\n",
       "      <th rowspan=\"5\" valign=\"top\">OGPur__OGMB</th>\n",
       "      <th>0</th>\n",
       "      <td>1576</td>\n",
       "      <td>13232.0</td>\n",
       "      <td>False</td>\n",
       "      <td>2021-03-07</td>\n",
       "      <td>1753</td>\n",
       "      <td>Rosella (subdariffa) petals (MB)</td>\n",
       "      <td>A</td>\n",
       "      <td>15.260</td>\n",
       "      <td>0.85</td>\n",
       "      <td>13.0</td>\n",
       "      <td>Philip</td>\n",
       "      <td>1970</td>\n",
       "      <td>None</td>\n",
       "      <td>Nyasha</td>\n",
       "      <td>OGOrg</td>\n",
       "      <td>NaN</td>\n",
       "    </tr>\n",
       "    <tr>\n",
       "      <th>1</th>\n",
       "      <td>1577</td>\n",
       "      <td>13237.0</td>\n",
       "      <td>False</td>\n",
       "      <td>2021-03-07</td>\n",
       "      <td>1753</td>\n",
       "      <td>Rosella (subdariffa) petals (MB)</td>\n",
       "      <td>A</td>\n",
       "      <td>74.555</td>\n",
       "      <td>0.85</td>\n",
       "      <td>63.0</td>\n",
       "      <td>Philip</td>\n",
       "      <td>1970</td>\n",
       "      <td>None</td>\n",
       "      <td>Nyasha</td>\n",
       "      <td>OGOrg</td>\n",
       "      <td>NaN</td>\n",
       "    </tr>\n",
       "    <tr>\n",
       "      <th>2</th>\n",
       "      <td>1578</td>\n",
       "      <td>13241.0</td>\n",
       "      <td>False</td>\n",
       "      <td>2021-03-07</td>\n",
       "      <td>1753</td>\n",
       "      <td>Rosella (subdariffa) petals (MB)</td>\n",
       "      <td>A</td>\n",
       "      <td>61.855</td>\n",
       "      <td>0.85</td>\n",
       "      <td>53.0</td>\n",
       "      <td>Philip</td>\n",
       "      <td>1970</td>\n",
       "      <td>None</td>\n",
       "      <td>Nyasha</td>\n",
       "      <td>OGOrg</td>\n",
       "      <td>NaN</td>\n",
       "    </tr>\n",
       "    <tr>\n",
       "      <th>3</th>\n",
       "      <td>1579</td>\n",
       "      <td>13105.0</td>\n",
       "      <td>False</td>\n",
       "      <td>2021-03-07</td>\n",
       "      <td>1753</td>\n",
       "      <td>Rosella (subdariffa) petals (MB)</td>\n",
       "      <td>A</td>\n",
       "      <td>6.955</td>\n",
       "      <td>0.85</td>\n",
       "      <td>6.0</td>\n",
       "      <td>Philip</td>\n",
       "      <td>1970</td>\n",
       "      <td>None</td>\n",
       "      <td>Nyasha</td>\n",
       "      <td>OGOrg</td>\n",
       "      <td>NaN</td>\n",
       "    </tr>\n",
       "    <tr>\n",
       "      <th>4</th>\n",
       "      <td>1580</td>\n",
       "      <td>13032.0</td>\n",
       "      <td>False</td>\n",
       "      <td>2021-03-07</td>\n",
       "      <td>1753</td>\n",
       "      <td>Rosella (subdariffa) petals (MB)</td>\n",
       "      <td>A</td>\n",
       "      <td>7.885</td>\n",
       "      <td>0.85</td>\n",
       "      <td>7.0</td>\n",
       "      <td>Philip</td>\n",
       "      <td>1970</td>\n",
       "      <td>None</td>\n",
       "      <td>Nyasha</td>\n",
       "      <td>OGOrg</td>\n",
       "      <td>NaN</td>\n",
       "    </tr>\n",
       "  </tbody>\n",
       "</table>\n",
       "</div>"
      ],
      "text/plain": [
       "                 id    og_nr  name_verified date_of_purchase  receipt_nr  \\\n",
       "OGPur__OGMB 0  1576  13232.0          False       2021-03-07        1753   \n",
       "            1  1577  13237.0          False       2021-03-07        1753   \n",
       "            2  1578  13241.0          False       2021-03-07        1753   \n",
       "            3  1579  13105.0          False       2021-03-07        1753   \n",
       "            4  1580  13032.0          False       2021-03-07        1753   \n",
       "\n",
       "                                        product grade  amount_in_kg  \\\n",
       "OGPur__OGMB 0  Rosella (subdariffa) petals (MB)     A        15.260   \n",
       "            1  Rosella (subdariffa) petals (MB)     A        74.555   \n",
       "            2  Rosella (subdariffa) petals (MB)     A        61.855   \n",
       "            3  Rosella (subdariffa) petals (MB)     A         6.955   \n",
       "            4  Rosella (subdariffa) petals (MB)     A         7.885   \n",
       "\n",
       "               price_per_kg  total_payment_usd   buyer agr_year comment  \\\n",
       "OGPur__OGMB 0          0.85               13.0  Philip     1970    None   \n",
       "            1          0.85               63.0  Philip     1970    None   \n",
       "            2          0.85               53.0  Philip     1970    None   \n",
       "            3          0.85                6.0  Philip     1970    None   \n",
       "            4          0.85                7.0  Philip     1970    None   \n",
       "\n",
       "              entered_by source  wc_nr  \n",
       "OGPur__OGMB 0     Nyasha  OGOrg    NaN  \n",
       "            1     Nyasha  OGOrg    NaN  \n",
       "            2     Nyasha  OGOrg    NaN  \n",
       "            3     Nyasha  OGOrg    NaN  \n",
       "            4     Nyasha  OGOrg    NaN  "
      ]
     },
     "metadata": {},
     "output_type": "display_data"
    }
   ],
   "source": [
    "display(concated_pur.dtypes)\n",
    "display(concated_pur.shape)\n",
    "display(concated_pur.head())"
   ]
  },
  {
   "attachments": {},
   "cell_type": "markdown",
   "metadata": {},
   "source": [
    "##### check duplicates and unique columns"
   ]
  },
  {
   "cell_type": "code",
   "execution_count": 147,
   "metadata": {},
   "outputs": [
    {
     "data": {
      "text/plain": [
       "False    25052\n",
       "dtype: int64"
      ]
     },
     "execution_count": 147,
     "metadata": {},
     "output_type": "execute_result"
    }
   ],
   "source": [
    "# Looking for Duplicates\n",
    "concated_pur.duplicated().value_counts()\n",
    "\n",
    "# NO Duplicates"
   ]
  },
  {
   "cell_type": "code",
   "execution_count": 148,
   "metadata": {},
   "outputs": [
    {
     "data": {
      "text/plain": [
       "id                       0\n",
       "og_nr                14321\n",
       "name_verified            0\n",
       "date_of_purchase       181\n",
       "receipt_nr               0\n",
       "product                 14\n",
       "grade                13825\n",
       "amount_in_kg             3\n",
       "price_per_kg            25\n",
       "total_payment_usd        3\n",
       "buyer                   16\n",
       "agr_year                16\n",
       "comment              24300\n",
       "entered_by             132\n",
       "source                   2\n",
       "wc_nr                11015\n",
       "dtype: int64"
      ]
     },
     "execution_count": 148,
     "metadata": {},
     "output_type": "execute_result"
    }
   ],
   "source": [
    "# sum of null values each column\n",
    "concated_pur.isnull().sum()\n",
    "\n",
    "# comment 24300 nulls"
   ]
  },
  {
   "cell_type": "code",
   "execution_count": 149,
   "metadata": {},
   "outputs": [
    {
     "data": {
      "text/plain": [
       "False"
      ]
     },
     "execution_count": 149,
     "metadata": {},
     "output_type": "execute_result"
    }
   ],
   "source": [
    "concated_pur[['og_nr']].squeeze().is_unique"
   ]
  },
  {
   "cell_type": "code",
   "execution_count": 150,
   "metadata": {},
   "outputs": [],
   "source": [
    "concated_pur['product'] = concated_pur['product'].replace({ 'Rosella (subdariffa) petals (MB)': 'Rosella (subdariffa) petals (org)',\n",
    "                                                            'Rosella (subdariffa) seed (MB)': 'Rosella (subdariffa) seed (org)',\n",
    "                                                            'Devil’s Claw plant part (org) wet': 'Devil’s Claw plant part (org)',\n",
    "                                                            'kalahari melon seed (org)': 'Kalahari melon seed (org)'})\n",
    "\n",
    "concated_pur['grade'] = concated_pur['grade'].replace(' ', None)"
   ]
  },
  {
   "cell_type": "code",
   "execution_count": 151,
   "metadata": {},
   "outputs": [
    {
     "data": {
      "text/plain": [
       "'name_verified'"
      ]
     },
     "metadata": {},
     "output_type": "display_data"
    },
    {
     "data": {
      "text/plain": [
       "False    17456\n",
       "True      7596\n",
       "Name: name_verified, dtype: int64"
      ]
     },
     "metadata": {},
     "output_type": "display_data"
    },
    {
     "data": {
      "text/plain": [
       "'receipt_nr'"
      ]
     },
     "metadata": {},
     "output_type": "display_data"
    },
    {
     "data": {
      "text/plain": [
       "1753    25052\n",
       "Name: receipt_nr, dtype: int64"
      ]
     },
     "metadata": {},
     "output_type": "display_data"
    },
    {
     "data": {
      "text/plain": [
       "'entered_by'"
      ]
     },
     "metadata": {},
     "output_type": "display_data"
    },
    {
     "data": {
      "text/plain": [
       "Nyasha            11483\n",
       "Ruvimbo            4381\n",
       "Batsirai           2400\n",
       "Faith              1739\n",
       "Norman             1709\n",
       "Norman Kativhu     1140\n",
       "Tracy               828\n",
       "Charlie             633\n",
       "Melody              294\n",
       "Florence            210\n",
       "Katinka             103\n",
       "Name: entered_by, dtype: int64"
      ]
     },
     "metadata": {},
     "output_type": "display_data"
    },
    {
     "data": {
      "text/plain": [
       "'buyer'"
      ]
     },
     "metadata": {},
     "output_type": "display_data"
    },
    {
     "data": {
      "text/plain": [
       "Daniel             5146\n",
       "Douglas            4227\n",
       "Islum              2944\n",
       "Philip             2404\n",
       "Charles            2044\n",
       "Wiseman            1528\n",
       "Memory             1381\n",
       "Andrew              900\n",
       "Misheck             855\n",
       "Ronald              755\n",
       "Kennedy             703\n",
       "Doreen              643\n",
       "Pedzisai            642\n",
       "Fungai              374\n",
       "Hamid               193\n",
       "Hadley              141\n",
       "Nyasha              116\n",
       "Nyasha Poto-Joe      28\n",
       "Mandeya               9\n",
       "d                     1\n",
       "Meki Saizi            1\n",
       "Katinka               1\n",
       "Name: buyer, dtype: int64"
      ]
     },
     "metadata": {},
     "output_type": "display_data"
    },
    {
     "data": {
      "text/plain": [
       "'grade'"
      ]
     },
     "metadata": {},
     "output_type": "display_data"
    },
    {
     "data": {
      "text/plain": [
       "A    11187\n",
       "B       23\n",
       "C       15\n",
       "Name: grade, dtype: int64"
      ]
     },
     "metadata": {},
     "output_type": "display_data"
    },
    {
     "data": {
      "text/plain": [
       "'product'"
      ]
     },
     "metadata": {},
     "output_type": "display_data"
    },
    {
     "data": {
      "text/plain": [
       "Baobab fruit whole (org)               9231\n",
       "Rosella (subdariffa) petals (org)      7938\n",
       "Gotu kola leaves (org)                 2086\n",
       "Bird's Eye Chilli fruit whole (org)    1173\n",
       "Rosella (subdariffa) seed (org)        1080\n",
       "Baobab whole fruit (con)                650\n",
       "Devil’s Claw root (org)                 519\n",
       "Paprika fruit whole (org)               384\n",
       "Devil’s Claw root (con)                 314\n",
       "Trichillia emetica                      246\n",
       "Ximenia Americana seed (org)            240\n",
       "Baobab pulp and seed (org)              216\n",
       "Strophanthus (kombe) seed (con)         163\n",
       "Kalahari melon seed (org)               145\n",
       "Ximenia Caffra Seed (org)               126\n",
       "Gotu kola leaves (con)                  116\n",
       "Marula seed (org)                        95\n",
       "Devil’s Claw plant part (org)            78\n",
       "Trichillia emetica (org)                 68\n",
       "Marula Kennels                           41\n",
       "Strophanthus (kombe) seed (org)          40\n",
       "Devil’s Claw plant part (con)            32\n",
       "Rosella petals (con)                     18\n",
       "Mongongo seed (org)                       7\n",
       "Safflower petals (org)                    7\n",
       "Zumbani leaves                            7\n",
       "Resurection Bush                          6\n",
       "Marula oil (org)                          3\n",
       "Strophanthus (gratus) seed (org)          3\n",
       "Devil’s Claw seed (con)                   2\n",
       "Devil’s Claw seed (org)                   1\n",
       "Baobab leaves (org)                       1\n",
       "Contact Farmer Bonus                      1\n",
       "Eucalyptus (citrodoria) oil (org)         1\n",
       "Name: product, dtype: int64"
      ]
     },
     "metadata": {},
     "output_type": "display_data"
    }
   ],
   "source": [
    "for col in ['name_verified','receipt_nr', 'entered_by', 'buyer', 'grade','product']:\n",
    "    display(col)\n",
    "    display(concated_pur[col].value_counts())"
   ]
  },
  {
   "cell_type": "code",
   "execution_count": 152,
   "metadata": {},
   "outputs": [
    {
     "data": {
      "text/html": [
       "<div>\n",
       "<style scoped>\n",
       "    .dataframe tbody tr th:only-of-type {\n",
       "        vertical-align: middle;\n",
       "    }\n",
       "\n",
       "    .dataframe tbody tr th {\n",
       "        vertical-align: top;\n",
       "    }\n",
       "\n",
       "    .dataframe thead th {\n",
       "        text-align: right;\n",
       "    }\n",
       "</style>\n",
       "<table border=\"1\" class=\"dataframe\">\n",
       "  <thead>\n",
       "    <tr style=\"text-align: right;\">\n",
       "      <th></th>\n",
       "      <th></th>\n",
       "      <th>id</th>\n",
       "      <th>og_nr</th>\n",
       "      <th>name_verified</th>\n",
       "      <th>date_of_purchase</th>\n",
       "      <th>receipt_nr</th>\n",
       "      <th>product</th>\n",
       "      <th>grade</th>\n",
       "      <th>amount_in_kg</th>\n",
       "      <th>price_per_kg</th>\n",
       "      <th>total_payment_usd</th>\n",
       "      <th>buyer</th>\n",
       "      <th>agr_year</th>\n",
       "      <th>comment</th>\n",
       "      <th>entered_by</th>\n",
       "      <th>source</th>\n",
       "      <th>wc_nr</th>\n",
       "    </tr>\n",
       "  </thead>\n",
       "  <tbody>\n",
       "    <tr>\n",
       "      <th rowspan=\"5\" valign=\"top\">OGPur__OGMB</th>\n",
       "      <th>0</th>\n",
       "      <td>1576</td>\n",
       "      <td>13232.0</td>\n",
       "      <td>False</td>\n",
       "      <td>2021-03-07</td>\n",
       "      <td>1753</td>\n",
       "      <td>Rosella (subdariffa) petals (org)</td>\n",
       "      <td>A</td>\n",
       "      <td>15.260</td>\n",
       "      <td>0.85</td>\n",
       "      <td>13.0</td>\n",
       "      <td>Philip</td>\n",
       "      <td>1970</td>\n",
       "      <td>None</td>\n",
       "      <td>Nyasha</td>\n",
       "      <td>OGOrg</td>\n",
       "      <td>NaN</td>\n",
       "    </tr>\n",
       "    <tr>\n",
       "      <th>1</th>\n",
       "      <td>1577</td>\n",
       "      <td>13237.0</td>\n",
       "      <td>False</td>\n",
       "      <td>2021-03-07</td>\n",
       "      <td>1753</td>\n",
       "      <td>Rosella (subdariffa) petals (org)</td>\n",
       "      <td>A</td>\n",
       "      <td>74.555</td>\n",
       "      <td>0.85</td>\n",
       "      <td>63.0</td>\n",
       "      <td>Philip</td>\n",
       "      <td>1970</td>\n",
       "      <td>None</td>\n",
       "      <td>Nyasha</td>\n",
       "      <td>OGOrg</td>\n",
       "      <td>NaN</td>\n",
       "    </tr>\n",
       "    <tr>\n",
       "      <th>2</th>\n",
       "      <td>1578</td>\n",
       "      <td>13241.0</td>\n",
       "      <td>False</td>\n",
       "      <td>2021-03-07</td>\n",
       "      <td>1753</td>\n",
       "      <td>Rosella (subdariffa) petals (org)</td>\n",
       "      <td>A</td>\n",
       "      <td>61.855</td>\n",
       "      <td>0.85</td>\n",
       "      <td>53.0</td>\n",
       "      <td>Philip</td>\n",
       "      <td>1970</td>\n",
       "      <td>None</td>\n",
       "      <td>Nyasha</td>\n",
       "      <td>OGOrg</td>\n",
       "      <td>NaN</td>\n",
       "    </tr>\n",
       "    <tr>\n",
       "      <th>3</th>\n",
       "      <td>1579</td>\n",
       "      <td>13105.0</td>\n",
       "      <td>False</td>\n",
       "      <td>2021-03-07</td>\n",
       "      <td>1753</td>\n",
       "      <td>Rosella (subdariffa) petals (org)</td>\n",
       "      <td>A</td>\n",
       "      <td>6.955</td>\n",
       "      <td>0.85</td>\n",
       "      <td>6.0</td>\n",
       "      <td>Philip</td>\n",
       "      <td>1970</td>\n",
       "      <td>None</td>\n",
       "      <td>Nyasha</td>\n",
       "      <td>OGOrg</td>\n",
       "      <td>NaN</td>\n",
       "    </tr>\n",
       "    <tr>\n",
       "      <th>4</th>\n",
       "      <td>1580</td>\n",
       "      <td>13032.0</td>\n",
       "      <td>False</td>\n",
       "      <td>2021-03-07</td>\n",
       "      <td>1753</td>\n",
       "      <td>Rosella (subdariffa) petals (org)</td>\n",
       "      <td>A</td>\n",
       "      <td>7.885</td>\n",
       "      <td>0.85</td>\n",
       "      <td>7.0</td>\n",
       "      <td>Philip</td>\n",
       "      <td>1970</td>\n",
       "      <td>None</td>\n",
       "      <td>Nyasha</td>\n",
       "      <td>OGOrg</td>\n",
       "      <td>NaN</td>\n",
       "    </tr>\n",
       "    <tr>\n",
       "      <th>...</th>\n",
       "      <th>...</th>\n",
       "      <td>...</td>\n",
       "      <td>...</td>\n",
       "      <td>...</td>\n",
       "      <td>...</td>\n",
       "      <td>...</td>\n",
       "      <td>...</td>\n",
       "      <td>...</td>\n",
       "      <td>...</td>\n",
       "      <td>...</td>\n",
       "      <td>...</td>\n",
       "      <td>...</td>\n",
       "      <td>...</td>\n",
       "      <td>...</td>\n",
       "      <td>...</td>\n",
       "      <td>...</td>\n",
       "      <td>...</td>\n",
       "    </tr>\n",
       "    <tr>\n",
       "      <th rowspan=\"5\" valign=\"top\">wc_purchases_deviations_bayoba_1</th>\n",
       "      <th>645</th>\n",
       "      <td>646</td>\n",
       "      <td>NaN</td>\n",
       "      <td>False</td>\n",
       "      <td>2015-08-07</td>\n",
       "      <td>1753</td>\n",
       "      <td>Baobab whole fruit (con)</td>\n",
       "      <td>None</td>\n",
       "      <td>64.000</td>\n",
       "      <td>0.10</td>\n",
       "      <td>6.0</td>\n",
       "      <td>Charles</td>\n",
       "      <td>1970</td>\n",
       "      <td>Not found in the Database</td>\n",
       "      <td>Batsirai</td>\n",
       "      <td>BAyoba</td>\n",
       "      <td>99901422.0</td>\n",
       "    </tr>\n",
       "    <tr>\n",
       "      <th>646</th>\n",
       "      <td>647</td>\n",
       "      <td>NaN</td>\n",
       "      <td>False</td>\n",
       "      <td>2015-08-04</td>\n",
       "      <td>1753</td>\n",
       "      <td>Baobab whole fruit (con)</td>\n",
       "      <td>None</td>\n",
       "      <td>10.000</td>\n",
       "      <td>0.10</td>\n",
       "      <td>1.0</td>\n",
       "      <td>Charles</td>\n",
       "      <td>1970</td>\n",
       "      <td>Not found in the Database</td>\n",
       "      <td>Batsirai</td>\n",
       "      <td>BAyoba</td>\n",
       "      <td>99901431.0</td>\n",
       "    </tr>\n",
       "    <tr>\n",
       "      <th>647</th>\n",
       "      <td>648</td>\n",
       "      <td>NaN</td>\n",
       "      <td>False</td>\n",
       "      <td>2015-08-31</td>\n",
       "      <td>1753</td>\n",
       "      <td>Baobab whole fruit (con)</td>\n",
       "      <td>None</td>\n",
       "      <td>32.000</td>\n",
       "      <td>0.10</td>\n",
       "      <td>3.0</td>\n",
       "      <td>Charles</td>\n",
       "      <td>1970</td>\n",
       "      <td>Not found in the Database</td>\n",
       "      <td>Batsirai</td>\n",
       "      <td>BAyoba</td>\n",
       "      <td>99900001.0</td>\n",
       "    </tr>\n",
       "    <tr>\n",
       "      <th>648</th>\n",
       "      <td>649</td>\n",
       "      <td>NaN</td>\n",
       "      <td>False</td>\n",
       "      <td>2015-08-31</td>\n",
       "      <td>1753</td>\n",
       "      <td>Baobab whole fruit (con)</td>\n",
       "      <td>None</td>\n",
       "      <td>134.000</td>\n",
       "      <td>0.10</td>\n",
       "      <td>13.0</td>\n",
       "      <td>Charles</td>\n",
       "      <td>1970</td>\n",
       "      <td>Not found in the Database</td>\n",
       "      <td>Batsirai</td>\n",
       "      <td>BAyoba</td>\n",
       "      <td>99901614.0</td>\n",
       "    </tr>\n",
       "    <tr>\n",
       "      <th>649</th>\n",
       "      <td>650</td>\n",
       "      <td>NaN</td>\n",
       "      <td>False</td>\n",
       "      <td>2015-09-10</td>\n",
       "      <td>1753</td>\n",
       "      <td>Baobab whole fruit (con)</td>\n",
       "      <td>None</td>\n",
       "      <td>52.000</td>\n",
       "      <td>0.10</td>\n",
       "      <td>5.0</td>\n",
       "      <td>Charles</td>\n",
       "      <td>1970</td>\n",
       "      <td>Receipt without Seller Name.</td>\n",
       "      <td>Batsirai</td>\n",
       "      <td>BAyoba</td>\n",
       "      <td>99900008.0</td>\n",
       "    </tr>\n",
       "  </tbody>\n",
       "</table>\n",
       "<p>25052 rows × 16 columns</p>\n",
       "</div>"
      ],
      "text/plain": [
       "                                        id    og_nr  name_verified  \\\n",
       "OGPur__OGMB                      0    1576  13232.0          False   \n",
       "                                 1    1577  13237.0          False   \n",
       "                                 2    1578  13241.0          False   \n",
       "                                 3    1579  13105.0          False   \n",
       "                                 4    1580  13032.0          False   \n",
       "...                                    ...      ...            ...   \n",
       "wc_purchases_deviations_bayoba_1 645   646      NaN          False   \n",
       "                                 646   647      NaN          False   \n",
       "                                 647   648      NaN          False   \n",
       "                                 648   649      NaN          False   \n",
       "                                 649   650      NaN          False   \n",
       "\n",
       "                                     date_of_purchase  receipt_nr  \\\n",
       "OGPur__OGMB                      0         2021-03-07        1753   \n",
       "                                 1         2021-03-07        1753   \n",
       "                                 2         2021-03-07        1753   \n",
       "                                 3         2021-03-07        1753   \n",
       "                                 4         2021-03-07        1753   \n",
       "...                                               ...         ...   \n",
       "wc_purchases_deviations_bayoba_1 645       2015-08-07        1753   \n",
       "                                 646       2015-08-04        1753   \n",
       "                                 647       2015-08-31        1753   \n",
       "                                 648       2015-08-31        1753   \n",
       "                                 649       2015-09-10        1753   \n",
       "\n",
       "                                                                product grade  \\\n",
       "OGPur__OGMB                      0    Rosella (subdariffa) petals (org)     A   \n",
       "                                 1    Rosella (subdariffa) petals (org)     A   \n",
       "                                 2    Rosella (subdariffa) petals (org)     A   \n",
       "                                 3    Rosella (subdariffa) petals (org)     A   \n",
       "                                 4    Rosella (subdariffa) petals (org)     A   \n",
       "...                                                                 ...   ...   \n",
       "wc_purchases_deviations_bayoba_1 645           Baobab whole fruit (con)  None   \n",
       "                                 646           Baobab whole fruit (con)  None   \n",
       "                                 647           Baobab whole fruit (con)  None   \n",
       "                                 648           Baobab whole fruit (con)  None   \n",
       "                                 649           Baobab whole fruit (con)  None   \n",
       "\n",
       "                                      amount_in_kg  price_per_kg  \\\n",
       "OGPur__OGMB                      0          15.260          0.85   \n",
       "                                 1          74.555          0.85   \n",
       "                                 2          61.855          0.85   \n",
       "                                 3           6.955          0.85   \n",
       "                                 4           7.885          0.85   \n",
       "...                                            ...           ...   \n",
       "wc_purchases_deviations_bayoba_1 645        64.000          0.10   \n",
       "                                 646        10.000          0.10   \n",
       "                                 647        32.000          0.10   \n",
       "                                 648       134.000          0.10   \n",
       "                                 649        52.000          0.10   \n",
       "\n",
       "                                      total_payment_usd    buyer agr_year  \\\n",
       "OGPur__OGMB                      0                 13.0   Philip     1970   \n",
       "                                 1                 63.0   Philip     1970   \n",
       "                                 2                 53.0   Philip     1970   \n",
       "                                 3                  6.0   Philip     1970   \n",
       "                                 4                  7.0   Philip     1970   \n",
       "...                                                 ...      ...      ...   \n",
       "wc_purchases_deviations_bayoba_1 645                6.0  Charles     1970   \n",
       "                                 646                1.0  Charles     1970   \n",
       "                                 647                3.0  Charles     1970   \n",
       "                                 648               13.0  Charles     1970   \n",
       "                                 649                5.0  Charles     1970   \n",
       "\n",
       "                                                           comment entered_by  \\\n",
       "OGPur__OGMB                      0                            None     Nyasha   \n",
       "                                 1                            None     Nyasha   \n",
       "                                 2                            None     Nyasha   \n",
       "                                 3                            None     Nyasha   \n",
       "                                 4                            None     Nyasha   \n",
       "...                                                            ...        ...   \n",
       "wc_purchases_deviations_bayoba_1 645     Not found in the Database   Batsirai   \n",
       "                                 646     Not found in the Database   Batsirai   \n",
       "                                 647     Not found in the Database   Batsirai   \n",
       "                                 648     Not found in the Database   Batsirai   \n",
       "                                 649  Receipt without Seller Name.   Batsirai   \n",
       "\n",
       "                                      source       wc_nr  \n",
       "OGPur__OGMB                      0     OGOrg         NaN  \n",
       "                                 1     OGOrg         NaN  \n",
       "                                 2     OGOrg         NaN  \n",
       "                                 3     OGOrg         NaN  \n",
       "                                 4     OGOrg         NaN  \n",
       "...                                      ...         ...  \n",
       "wc_purchases_deviations_bayoba_1 645  BAyoba  99901422.0  \n",
       "                                 646  BAyoba  99901431.0  \n",
       "                                 647  BAyoba  99900001.0  \n",
       "                                 648  BAyoba  99901614.0  \n",
       "                                 649  BAyoba  99900008.0  \n",
       "\n",
       "[25052 rows x 16 columns]"
      ]
     },
     "execution_count": 152,
     "metadata": {},
     "output_type": "execute_result"
    }
   ],
   "source": [
    "concated_pur"
   ]
  },
  {
   "cell_type": "code",
   "execution_count": 153,
   "metadata": {},
   "outputs": [
    {
     "data": {
      "text/plain": [
       "False"
      ]
     },
     "execution_count": 153,
     "metadata": {},
     "output_type": "execute_result"
    }
   ],
   "source": [
    "concated_pur[['id']].squeeze().is_unique"
   ]
  },
  {
   "cell_type": "code",
   "execution_count": 154,
   "metadata": {},
   "outputs": [
    {
     "name": "stdout",
     "output_type": "stream",
     "text": [
      "The all_purchase table was imported successfully.\n"
     ]
    }
   ],
   "source": [
    "table_name = 'all_purchase'\n",
    "\n",
    "if engine!=None:\n",
    "    try:\n",
    "        concated_pur.to_sql(name=table_name, # Name of SQL table\n",
    "                                con=engine, # Engine or connection\n",
    "                                if_exists='replace', # Drop the table before inserting new values \n",
    "                                schema=schema, # Use schmea that was defined earlier\n",
    "                                index=False, # Write DataFrame index as a column\n",
    "                                chunksize=5000, # Specify the number of rows in each batch to be written at a time\n",
    "                                method='multi') # Pass multiple values in a single INSERT clause\n",
    "        print(f\"The {table_name} table was imported successfully.\")\n",
    "    # Error handling\n",
    "    except (Exception, psycopg2.DatabaseError) as error:\n",
    "        print(error)\n",
    "        engine = None"
   ]
  }
 ],
 "metadata": {
  "kernelspec": {
   "display_name": "nf_sql",
   "language": "python",
   "name": "python3"
  },
  "language_info": {
   "codemirror_mode": {
    "name": "ipython",
    "version": 3
   },
   "file_extension": ".py",
   "mimetype": "text/x-python",
   "name": "python",
   "nbconvert_exporter": "python",
   "pygments_lexer": "ipython3",
   "version": "3.9.16"
  },
  "orig_nbformat": 4
 },
 "nbformat": 4,
 "nbformat_minor": 2
}
