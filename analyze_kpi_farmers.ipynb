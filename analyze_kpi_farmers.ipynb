{
 "cells": [
  {
   "cell_type": "code",
   "execution_count": 56,
   "metadata": {},
   "outputs": [],
   "source": [
    "import pandas as pd\n",
    "import sql_functions as sf\n",
    "schema = 'organic_africa' # UPDATE 'TABLE_SCHEMA' based on schema used in class \n",
    "engine = sf.get_engine()"
   ]
  },
  {
   "cell_type": "code",
   "execution_count": 163,
   "metadata": {},
   "outputs": [
    {
     "data": {
      "text/plain": [
       "(20610, 22)"
      ]
     },
     "execution_count": 163,
     "metadata": {},
     "output_type": "execute_result"
    }
   ],
   "source": [
    "farmers_df = sf.get_dataframe(f'SELECT * FROM {schema}.all_farmers')\n",
    "farmers_df.shape"
   ]
  },
  {
   "attachments": {},
   "cell_type": "markdown",
   "metadata": {},
   "source": [
    "### How many partner farmers does OA have?\n",
    "Organic Africa has currently total 11312 partner farmers\n",
    "11312 partner farmers"
   ]
  },
  {
   "cell_type": "code",
   "execution_count": 52,
   "metadata": {},
   "outputs": [
    {
     "data": {
      "text/plain": [
       "0       2174-12-02\n",
       "1       2147-12-06\n",
       "2       2023-02-24\n",
       "3       2023-02-24\n",
       "4       2023-02-24\n",
       "           ...    \n",
       "20598   2018-10-20\n",
       "20599   2018-10-20\n",
       "20600   2018-10-20\n",
       "20601   2018-10-20\n",
       "20602   2018-10-20\n",
       "Name: date_contracted, Length: 20600, dtype: datetime64[ns]"
      ]
     },
     "execution_count": 52,
     "metadata": {},
     "output_type": "execute_result"
    }
   ],
   "source": [
    "# 20600 contracts over the years\n",
    "# 10 farmers of total 20610 registered farmers are in the list with na\n",
    "\n",
    "farmers_df[~farmers_df['date_contracted'].isna()]['date_contracted']"
   ]
  },
  {
   "cell_type": "code",
   "execution_count": 167,
   "metadata": {},
   "outputs": [],
   "source": [
    "contracted = farmers_df[~farmers_df['date_contracted'].isna()]\n",
    "dropped = farmers_df[~farmers_df['date_dropped_out'].isna()]"
   ]
  },
  {
   "cell_type": "code",
   "execution_count": 168,
   "metadata": {},
   "outputs": [
    {
     "data": {
      "text/plain": [
       "11312"
      ]
     },
     "execution_count": 168,
     "metadata": {},
     "output_type": "execute_result"
    }
   ],
   "source": [
    "# Organic Africa has currently 11312 farmers\n",
    "farmers_df.shape[0]-dropped.shape[0]"
   ]
  },
  {
   "cell_type": "code",
   "execution_count": 164,
   "metadata": {},
   "outputs": [
    {
     "data": {
      "text/plain": [
       "11302"
      ]
     },
     "execution_count": 164,
     "metadata": {},
     "output_type": "execute_result"
    }
   ],
   "source": [
    "# Organic Africa has currently 11302 contracted farmers\n",
    "\n",
    "contracted.shape[0]-dropped.shape[0]"
   ]
  },
  {
   "cell_type": "code",
   "execution_count": 166,
   "metadata": {},
   "outputs": [
    {
     "data": {
      "text/plain": [
       "9298"
      ]
     },
     "execution_count": 166,
     "metadata": {},
     "output_type": "execute_result"
    }
   ],
   "source": [
    "# Organic Africa had 9298 drops over the years\n",
    "dropped.shape[0]"
   ]
  },
  {
   "cell_type": "code",
   "execution_count": 165,
   "metadata": {},
   "outputs": [
    {
     "data": {
      "text/plain": [
       "11312"
      ]
     },
     "execution_count": 165,
     "metadata": {},
     "output_type": "execute_result"
    }
   ],
   "source": []
  },
  {
   "cell_type": "code",
   "execution_count": 49,
   "metadata": {},
   "outputs": [
    {
     "data": {
      "text/plain": [
       "(20600, 22)"
      ]
     },
     "execution_count": 49,
     "metadata": {},
     "output_type": "execute_result"
    }
   ],
   "source": [
    "contracted.shape"
   ]
  },
  {
   "attachments": {},
   "cell_type": "markdown",
   "metadata": {},
   "source": [
    "## Growth of # contracted farmers /month or year "
   ]
  },
  {
   "cell_type": "code",
   "execution_count": 40,
   "metadata": {},
   "outputs": [
    {
     "data": {
      "text/html": [
       "<div>\n",
       "<style scoped>\n",
       "    .dataframe tbody tr th:only-of-type {\n",
       "        vertical-align: middle;\n",
       "    }\n",
       "\n",
       "    .dataframe tbody tr th {\n",
       "        vertical-align: top;\n",
       "    }\n",
       "\n",
       "    .dataframe thead th {\n",
       "        text-align: right;\n",
       "    }\n",
       "</style>\n",
       "<table border=\"1\" class=\"dataframe\">\n",
       "  <thead>\n",
       "    <tr style=\"text-align: right;\">\n",
       "      <th></th>\n",
       "      <th>id</th>\n",
       "      <th>og_nr</th>\n",
       "      <th>og_code</th>\n",
       "      <th>production_unit</th>\n",
       "      <th>area</th>\n",
       "      <th>ward_nr/name</th>\n",
       "      <th>species</th>\n",
       "      <th>surname</th>\n",
       "      <th>first_names</th>\n",
       "      <th>sex</th>\n",
       "      <th>...</th>\n",
       "      <th>date_contracted</th>\n",
       "      <th>date_dropped_out</th>\n",
       "      <th>reason_dropped_out</th>\n",
       "      <th>address</th>\n",
       "      <th>organic_status</th>\n",
       "      <th>organic_status_from_date</th>\n",
       "      <th>fairtrade</th>\n",
       "      <th>ward_nr</th>\n",
       "      <th>wc_nr</th>\n",
       "      <th>wc_code</th>\n",
       "    </tr>\n",
       "  </thead>\n",
       "  <tbody>\n",
       "    <tr>\n",
       "      <th>0</th>\n",
       "      <td>1517</td>\n",
       "      <td>13107.0</td>\n",
       "      <td>MBOGR</td>\n",
       "      <td>Mashonaland Central</td>\n",
       "      <td>Mbire</td>\n",
       "      <td>6</td>\n",
       "      <td>rosella</td>\n",
       "      <td>Mutape</td>\n",
       "      <td>Sophia</td>\n",
       "      <td>female</td>\n",
       "      <td>...</td>\n",
       "      <td>2174-12-02</td>\n",
       "      <td>NaT</td>\n",
       "      <td>None</td>\n",
       "      <td>Kasawo sch, Box 346, Mbire D</td>\n",
       "      <td>mabagrown</td>\n",
       "      <td>2017-12-02 00:00:00.000</td>\n",
       "      <td>False</td>\n",
       "      <td>6.0</td>\n",
       "      <td>NaN</td>\n",
       "      <td>None</td>\n",
       "    </tr>\n",
       "    <tr>\n",
       "      <th>2</th>\n",
       "      <td>3946</td>\n",
       "      <td>20243.0</td>\n",
       "      <td>BNOG</td>\n",
       "      <td>Matabeleland North</td>\n",
       "      <td>Binga</td>\n",
       "      <td>5 Sinakoma</td>\n",
       "      <td>None</td>\n",
       "      <td>Mutale</td>\n",
       "      <td>Tapiwa</td>\n",
       "      <td>female</td>\n",
       "      <td>...</td>\n",
       "      <td>2023-02-24</td>\n",
       "      <td>NaT</td>\n",
       "      <td>None</td>\n",
       "      <td>Nsenga Primary School Box 46, Binga</td>\n",
       "      <td>new</td>\n",
       "      <td>2023-02-24</td>\n",
       "      <td>True</td>\n",
       "      <td>5.0</td>\n",
       "      <td>NaN</td>\n",
       "      <td>None</td>\n",
       "    </tr>\n",
       "    <tr>\n",
       "      <th>3</th>\n",
       "      <td>3938</td>\n",
       "      <td>20235.0</td>\n",
       "      <td>BNOG</td>\n",
       "      <td>Matabeleland North</td>\n",
       "      <td>Binga</td>\n",
       "      <td>5 Sinakoma</td>\n",
       "      <td>None</td>\n",
       "      <td>Mugande</td>\n",
       "      <td>Rebecca</td>\n",
       "      <td>female</td>\n",
       "      <td>...</td>\n",
       "      <td>2023-02-24</td>\n",
       "      <td>NaT</td>\n",
       "      <td>None</td>\n",
       "      <td>Nsenga Primary School Box 46, Binga</td>\n",
       "      <td>new</td>\n",
       "      <td>2023-02-24</td>\n",
       "      <td>True</td>\n",
       "      <td>5.0</td>\n",
       "      <td>NaN</td>\n",
       "      <td>None</td>\n",
       "    </tr>\n",
       "    <tr>\n",
       "      <th>4</th>\n",
       "      <td>3939</td>\n",
       "      <td>20236.0</td>\n",
       "      <td>BNOG</td>\n",
       "      <td>Matabeleland North</td>\n",
       "      <td>Binga</td>\n",
       "      <td>5 Sinakoma</td>\n",
       "      <td>None</td>\n",
       "      <td>Mutale</td>\n",
       "      <td>Selina</td>\n",
       "      <td>female</td>\n",
       "      <td>...</td>\n",
       "      <td>2023-02-24</td>\n",
       "      <td>NaT</td>\n",
       "      <td>None</td>\n",
       "      <td>Nsenga Primary School Box 46, Binga</td>\n",
       "      <td>new</td>\n",
       "      <td>2023-02-24</td>\n",
       "      <td>True</td>\n",
       "      <td>5.0</td>\n",
       "      <td>NaN</td>\n",
       "      <td>None</td>\n",
       "    </tr>\n",
       "    <tr>\n",
       "      <th>5</th>\n",
       "      <td>3940</td>\n",
       "      <td>20237.0</td>\n",
       "      <td>BNOG</td>\n",
       "      <td>Matabeleland North</td>\n",
       "      <td>Binga</td>\n",
       "      <td>5 Sinakoma</td>\n",
       "      <td>None</td>\n",
       "      <td>Mudenda</td>\n",
       "      <td>Elina</td>\n",
       "      <td>female</td>\n",
       "      <td>...</td>\n",
       "      <td>2023-02-24</td>\n",
       "      <td>NaT</td>\n",
       "      <td>None</td>\n",
       "      <td>Nsenga Primary School Box 46, Binga</td>\n",
       "      <td>new</td>\n",
       "      <td>2023-02-24</td>\n",
       "      <td>True</td>\n",
       "      <td>5.0</td>\n",
       "      <td>NaN</td>\n",
       "      <td>None</td>\n",
       "    </tr>\n",
       "    <tr>\n",
       "      <th>...</th>\n",
       "      <td>...</td>\n",
       "      <td>...</td>\n",
       "      <td>...</td>\n",
       "      <td>...</td>\n",
       "      <td>...</td>\n",
       "      <td>...</td>\n",
       "      <td>...</td>\n",
       "      <td>...</td>\n",
       "      <td>...</td>\n",
       "      <td>...</td>\n",
       "      <td>...</td>\n",
       "      <td>...</td>\n",
       "      <td>...</td>\n",
       "      <td>...</td>\n",
       "      <td>...</td>\n",
       "      <td>...</td>\n",
       "      <td>...</td>\n",
       "      <td>...</td>\n",
       "      <td>...</td>\n",
       "      <td>...</td>\n",
       "      <td>...</td>\n",
       "    </tr>\n",
       "    <tr>\n",
       "      <th>20278</th>\n",
       "      <td>5607</td>\n",
       "      <td>NaN</td>\n",
       "      <td>None</td>\n",
       "      <td>Matabeleland North</td>\n",
       "      <td>Hwange</td>\n",
       "      <td>6 Gondwa</td>\n",
       "      <td>devils claw</td>\n",
       "      <td>Muzamba</td>\n",
       "      <td>John</td>\n",
       "      <td>male</td>\n",
       "      <td>...</td>\n",
       "      <td>2015-03-14</td>\n",
       "      <td>NaT</td>\n",
       "      <td>None</td>\n",
       "      <td>Mironga School, Vic Falls</td>\n",
       "      <td>org</td>\n",
       "      <td>2017-06-19</td>\n",
       "      <td>False</td>\n",
       "      <td>6.0</td>\n",
       "      <td>3691.0</td>\n",
       "      <td>HWWC</td>\n",
       "    </tr>\n",
       "    <tr>\n",
       "      <th>20279</th>\n",
       "      <td>5610</td>\n",
       "      <td>NaN</td>\n",
       "      <td>None</td>\n",
       "      <td>Matabeleland North</td>\n",
       "      <td>Hwange</td>\n",
       "      <td>6 Gondwa</td>\n",
       "      <td>devils claw</td>\n",
       "      <td>Ncube</td>\n",
       "      <td>Sheila</td>\n",
       "      <td>female</td>\n",
       "      <td>...</td>\n",
       "      <td>2015-03-14</td>\n",
       "      <td>NaT</td>\n",
       "      <td>None</td>\n",
       "      <td>Mironga School, Vic Falls</td>\n",
       "      <td>org</td>\n",
       "      <td>None</td>\n",
       "      <td>False</td>\n",
       "      <td>6.0</td>\n",
       "      <td>3694.0</td>\n",
       "      <td>HWWC</td>\n",
       "    </tr>\n",
       "    <tr>\n",
       "      <th>20369</th>\n",
       "      <td>10697</td>\n",
       "      <td>NaN</td>\n",
       "      <td>None</td>\n",
       "      <td>Matabeleland North</td>\n",
       "      <td>Hwange</td>\n",
       "      <td>6 Mbizha</td>\n",
       "      <td>devils claw</td>\n",
       "      <td>Shoko</td>\n",
       "      <td>Solomon</td>\n",
       "      <td>male</td>\n",
       "      <td>...</td>\n",
       "      <td>2015-03-14</td>\n",
       "      <td>NaT</td>\n",
       "      <td>None</td>\n",
       "      <td>Mironga School, Vic Falls</td>\n",
       "      <td>org</td>\n",
       "      <td>2017-06-19</td>\n",
       "      <td>False</td>\n",
       "      <td>6.0</td>\n",
       "      <td>3655.0</td>\n",
       "      <td>HWWC</td>\n",
       "    </tr>\n",
       "    <tr>\n",
       "      <th>20462</th>\n",
       "      <td>10795</td>\n",
       "      <td>NaN</td>\n",
       "      <td>None</td>\n",
       "      <td>Matabeleland North</td>\n",
       "      <td>Hwange</td>\n",
       "      <td>3 Kachechete</td>\n",
       "      <td>devils claw</td>\n",
       "      <td>Shoko</td>\n",
       "      <td>Maria</td>\n",
       "      <td>female</td>\n",
       "      <td>...</td>\n",
       "      <td>2013-07-13</td>\n",
       "      <td>NaT</td>\n",
       "      <td>None</td>\n",
       "      <td>Maphutula Sch, Vic Falls</td>\n",
       "      <td>org</td>\n",
       "      <td>2017-06-19</td>\n",
       "      <td>False</td>\n",
       "      <td>3.0</td>\n",
       "      <td>2936.0</td>\n",
       "      <td>HWWC</td>\n",
       "    </tr>\n",
       "    <tr>\n",
       "      <th>20467</th>\n",
       "      <td>10801</td>\n",
       "      <td>NaN</td>\n",
       "      <td>None</td>\n",
       "      <td>Matabeleland North</td>\n",
       "      <td>Hwange</td>\n",
       "      <td>3 Kachechete</td>\n",
       "      <td>devils claw</td>\n",
       "      <td>Ndhlovu</td>\n",
       "      <td>Albert</td>\n",
       "      <td>male</td>\n",
       "      <td>...</td>\n",
       "      <td>2013-07-13</td>\n",
       "      <td>NaT</td>\n",
       "      <td>None</td>\n",
       "      <td>Ndlovu Sch, Vic Falls</td>\n",
       "      <td>org</td>\n",
       "      <td>2017-06-19</td>\n",
       "      <td>False</td>\n",
       "      <td>3.0</td>\n",
       "      <td>2627.0</td>\n",
       "      <td>HWWC</td>\n",
       "    </tr>\n",
       "  </tbody>\n",
       "</table>\n",
       "<p>11311 rows × 22 columns</p>\n",
       "</div>"
      ],
      "text/plain": [
       "          id    og_nr og_code      production_unit     area  ward_nr/name  \\\n",
       "0       1517  13107.0   MBOGR  Mashonaland Central    Mbire             6   \n",
       "2       3946  20243.0    BNOG   Matabeleland North    Binga    5 Sinakoma   \n",
       "3       3938  20235.0    BNOG   Matabeleland North    Binga    5 Sinakoma   \n",
       "4       3939  20236.0    BNOG   Matabeleland North    Binga    5 Sinakoma   \n",
       "5       3940  20237.0    BNOG   Matabeleland North    Binga    5 Sinakoma   \n",
       "...      ...      ...     ...                  ...      ...           ...   \n",
       "20278   5607      NaN    None   Matabeleland North   Hwange      6 Gondwa   \n",
       "20279   5610      NaN    None   Matabeleland North   Hwange      6 Gondwa   \n",
       "20369  10697      NaN    None   Matabeleland North   Hwange      6 Mbizha   \n",
       "20462  10795      NaN    None   Matabeleland North   Hwange  3 Kachechete   \n",
       "20467  10801      NaN    None   Matabeleland North  Hwange   3 Kachechete   \n",
       "\n",
       "           species  surname first_names     sex  ... date_contracted  \\\n",
       "0          rosella   Mutape      Sophia  female  ...      2174-12-02   \n",
       "2             None   Mutale      Tapiwa  female  ...      2023-02-24   \n",
       "3             None  Mugande     Rebecca  female  ...      2023-02-24   \n",
       "4             None   Mutale      Selina  female  ...      2023-02-24   \n",
       "5             None  Mudenda       Elina  female  ...      2023-02-24   \n",
       "...            ...      ...         ...     ...  ...             ...   \n",
       "20278  devils claw  Muzamba        John    male  ...      2015-03-14   \n",
       "20279  devils claw    Ncube      Sheila  female  ...      2015-03-14   \n",
       "20369  devils claw    Shoko     Solomon    male  ...      2015-03-14   \n",
       "20462  devils claw    Shoko       Maria  female  ...      2013-07-13   \n",
       "20467  devils claw  Ndhlovu      Albert    male  ...      2013-07-13   \n",
       "\n",
       "      date_dropped_out reason_dropped_out  \\\n",
       "0                  NaT               None   \n",
       "2                  NaT               None   \n",
       "3                  NaT               None   \n",
       "4                  NaT               None   \n",
       "5                  NaT               None   \n",
       "...                ...                ...   \n",
       "20278              NaT               None   \n",
       "20279              NaT               None   \n",
       "20369              NaT               None   \n",
       "20462              NaT               None   \n",
       "20467              NaT               None   \n",
       "\n",
       "                                   address organic_status  \\\n",
       "0             Kasawo sch, Box 346, Mbire D      mabagrown   \n",
       "2      Nsenga Primary School Box 46, Binga            new   \n",
       "3      Nsenga Primary School Box 46, Binga            new   \n",
       "4      Nsenga Primary School Box 46, Binga            new   \n",
       "5      Nsenga Primary School Box 46, Binga            new   \n",
       "...                                    ...            ...   \n",
       "20278            Mironga School, Vic Falls            org   \n",
       "20279            Mironga School, Vic Falls            org   \n",
       "20369            Mironga School, Vic Falls            org   \n",
       "20462             Maphutula Sch, Vic Falls            org   \n",
       "20467                Ndlovu Sch, Vic Falls            org   \n",
       "\n",
       "      organic_status_from_date fairtrade ward_nr   wc_nr  wc_code  \n",
       "0      2017-12-02 00:00:00.000     False     6.0     NaN     None  \n",
       "2                   2023-02-24      True     5.0     NaN     None  \n",
       "3                   2023-02-24      True     5.0     NaN     None  \n",
       "4                   2023-02-24      True     5.0     NaN     None  \n",
       "5                   2023-02-24      True     5.0     NaN     None  \n",
       "...                        ...       ...     ...     ...      ...  \n",
       "20278               2017-06-19     False     6.0  3691.0     HWWC  \n",
       "20279                     None     False     6.0  3694.0     HWWC  \n",
       "20369               2017-06-19     False     6.0  3655.0     HWWC  \n",
       "20462               2017-06-19     False     3.0  2936.0     HWWC  \n",
       "20467               2017-06-19     False     3.0  2627.0     HWWC  \n",
       "\n",
       "[11311 rows x 22 columns]"
      ]
     },
     "execution_count": 40,
     "metadata": {},
     "output_type": "execute_result"
    }
   ],
   "source": [
    "farmers_df[~farmers_df['date_contracted'].isna()& farmers_df['date_dropped_out'].isna()]"
   ]
  },
  {
   "cell_type": "code",
   "execution_count": 54,
   "metadata": {},
   "outputs": [
    {
     "data": {
      "text/html": [
       "<div>\n",
       "<style scoped>\n",
       "    .dataframe tbody tr th:only-of-type {\n",
       "        vertical-align: middle;\n",
       "    }\n",
       "\n",
       "    .dataframe tbody tr th {\n",
       "        vertical-align: top;\n",
       "    }\n",
       "\n",
       "    .dataframe thead th {\n",
       "        text-align: right;\n",
       "    }\n",
       "</style>\n",
       "<table border=\"1\" class=\"dataframe\">\n",
       "  <thead>\n",
       "    <tr style=\"text-align: right;\">\n",
       "      <th></th>\n",
       "      <th>id</th>\n",
       "      <th>og_nr</th>\n",
       "      <th>og_code</th>\n",
       "      <th>production_unit</th>\n",
       "      <th>area</th>\n",
       "      <th>ward_nr/name</th>\n",
       "      <th>species</th>\n",
       "      <th>surname</th>\n",
       "      <th>first_names</th>\n",
       "      <th>sex</th>\n",
       "      <th>...</th>\n",
       "      <th>date_contracted</th>\n",
       "      <th>date_dropped_out</th>\n",
       "      <th>reason_dropped_out</th>\n",
       "      <th>address</th>\n",
       "      <th>organic_status</th>\n",
       "      <th>organic_status_from_date</th>\n",
       "      <th>fairtrade</th>\n",
       "      <th>ward_nr</th>\n",
       "      <th>wc_nr</th>\n",
       "      <th>wc_code</th>\n",
       "    </tr>\n",
       "  </thead>\n",
       "  <tbody>\n",
       "    <tr>\n",
       "      <th>0</th>\n",
       "      <td>1517</td>\n",
       "      <td>13107.0</td>\n",
       "      <td>MBOGR</td>\n",
       "      <td>Mashonaland Central</td>\n",
       "      <td>Mbire</td>\n",
       "      <td>6</td>\n",
       "      <td>rosella</td>\n",
       "      <td>Mutape</td>\n",
       "      <td>Sophia</td>\n",
       "      <td>female</td>\n",
       "      <td>...</td>\n",
       "      <td>2174-12-02</td>\n",
       "      <td>NaT</td>\n",
       "      <td>None</td>\n",
       "      <td>Kasawo sch, Box 346, Mbire D</td>\n",
       "      <td>mabagrown</td>\n",
       "      <td>2017-12-02 00:00:00.000</td>\n",
       "      <td>False</td>\n",
       "      <td>6.0</td>\n",
       "      <td>NaN</td>\n",
       "      <td>None</td>\n",
       "    </tr>\n",
       "    <tr>\n",
       "      <th>1</th>\n",
       "      <td>1414</td>\n",
       "      <td>13190.0</td>\n",
       "      <td>MBOGR</td>\n",
       "      <td>Mashonaland Central</td>\n",
       "      <td>Mbire</td>\n",
       "      <td>6</td>\n",
       "      <td>rosella</td>\n",
       "      <td>Gurupira</td>\n",
       "      <td>Vengayi</td>\n",
       "      <td>male</td>\n",
       "      <td>...</td>\n",
       "      <td>2147-12-06</td>\n",
       "      <td>2020-03-19</td>\n",
       "      <td>own choice</td>\n",
       "      <td>Nyarutomno sch, Box 500, Mbire D</td>\n",
       "      <td>dropout</td>\n",
       "      <td>2017-12-06 00:00:00.000</td>\n",
       "      <td>False</td>\n",
       "      <td>6.0</td>\n",
       "      <td>NaN</td>\n",
       "      <td>None</td>\n",
       "    </tr>\n",
       "  </tbody>\n",
       "</table>\n",
       "<p>2 rows × 22 columns</p>\n",
       "</div>"
      ],
      "text/plain": [
       "     id    og_nr og_code      production_unit   area ward_nr/name  species  \\\n",
       "0  1517  13107.0   MBOGR  Mashonaland Central  Mbire            6  rosella   \n",
       "1  1414  13190.0   MBOGR  Mashonaland Central  Mbire            6  rosella   \n",
       "\n",
       "    surname first_names     sex  ... date_contracted date_dropped_out  \\\n",
       "0    Mutape      Sophia  female  ...      2174-12-02              NaT   \n",
       "1  Gurupira     Vengayi    male  ...      2147-12-06       2020-03-19   \n",
       "\n",
       "  reason_dropped_out                           address organic_status  \\\n",
       "0               None      Kasawo sch, Box 346, Mbire D      mabagrown   \n",
       "1         own choice  Nyarutomno sch, Box 500, Mbire D        dropout   \n",
       "\n",
       "  organic_status_from_date fairtrade ward_nr  wc_nr  wc_code  \n",
       "0  2017-12-02 00:00:00.000     False     6.0    NaN     None  \n",
       "1  2017-12-06 00:00:00.000     False     6.0    NaN     None  \n",
       "\n",
       "[2 rows x 22 columns]"
      ]
     },
     "execution_count": 54,
     "metadata": {},
     "output_type": "execute_result"
    }
   ],
   "source": [
    "# need to be corrected in clean_upload_farmers\n",
    "farmers_df[farmers_df['date_contracted'].dt.year.astype('Int64')>2023]"
   ]
  },
  {
   "cell_type": "code",
   "execution_count": 25,
   "metadata": {},
   "outputs": [
    {
     "data": {
      "text/plain": [
       "20610"
      ]
     },
     "execution_count": 25,
     "metadata": {},
     "output_type": "execute_result"
    }
   ],
   "source": [
    "# 20610 Contracts\n",
    "farmers_df.shape[0]"
   ]
  },
  {
   "cell_type": "code",
   "execution_count": 30,
   "metadata": {},
   "outputs": [
    {
     "data": {
      "text/plain": [
       "0              NaT\n",
       "1       2020-03-19\n",
       "2              NaT\n",
       "3              NaT\n",
       "4              NaT\n",
       "           ...    \n",
       "20605   2021-01-29\n",
       "20606   2021-01-29\n",
       "20607   2021-01-29\n",
       "20608   2021-01-29\n",
       "20609   2021-01-29\n",
       "Name: date_dropped_out, Length: 20610, dtype: datetime64[ns]"
      ]
     },
     "execution_count": 30,
     "metadata": {},
     "output_type": "execute_result"
    }
   ],
   "source": [
    "farmers_df['date_dropped_out']"
   ]
  },
  {
   "cell_type": "code",
   "execution_count": 28,
   "metadata": {},
   "outputs": [
    {
     "data": {
      "text/plain": [
       "<bound method NDFrame._add_numeric_operations.<locals>.min of 0       2174-12-02\n",
       "1       2147-12-06\n",
       "2       2023-02-24\n",
       "3       2023-02-24\n",
       "4       2023-02-24\n",
       "           ...    \n",
       "20605          NaT\n",
       "20606          NaT\n",
       "20607          NaT\n",
       "20608          NaT\n",
       "20609          NaT\n",
       "Name: date_contracted, Length: 20610, dtype: datetime64[ns]>"
      ]
     },
     "execution_count": 28,
     "metadata": {},
     "output_type": "execute_result"
    }
   ],
   "source": [
    "farmers_df['date_contracted'].min"
   ]
  }
 ],
 "metadata": {
  "kernelspec": {
   "display_name": "nf_sql",
   "language": "python",
   "name": "python3"
  },
  "language_info": {
   "codemirror_mode": {
    "name": "ipython",
    "version": 3
   },
   "file_extension": ".py",
   "mimetype": "text/x-python",
   "name": "python",
   "nbconvert_exporter": "python",
   "pygments_lexer": "ipython3",
   "version": "3.9.16"
  },
  "orig_nbformat": 4
 },
 "nbformat": 4,
 "nbformat_minor": 2
}
