{
 "cells": [
  {
   "attachments": {},
   "cell_type": "markdown",
   "metadata": {},
   "source": [
    "lets import the 2015-2018 tables "
   ]
  },
  {
   "cell_type": "code",
   "execution_count": 2,
   "metadata": {},
   "outputs": [],
   "source": [
    "import pandas as pd\n",
    "import psycopg2\n",
    "import sql_functions as sf \n",
    "schema = 'organic_africa' # UPDATE 'TABLE_SCHEMA' based on schema used in class \n",
    "engine = sf.get_engine()\n",
    "    \n",
    "all_insp = {}\n",
    "\n",
    "all_insp['og2015_1'] = sf.get_dataframe(f'SELECT * FROM {schema}.\"OGInsp2015__OGMB_1\"')\n",
    "all_insp['og2016_1'] = sf.get_dataframe(f'SELECT * FROM {schema}.\"OGInsp2016__OGMB_1\"')\n",
    "all_insp['og2015_2'] = sf.get_dataframe(f'SELECT * FROM {schema}.\"OG_Insp_2015__OGOrg_1\"') \n",
    "all_insp['og2016_2'] = sf.get_dataframe(f'SELECT * FROM {schema}.\"OG_Insp_2016__OGOrg_1\"')\n",
    "all_insp['og2017_1'] = sf.get_dataframe(f'SELECT * FROM {schema}.\"OG_Insp_2017__OGOrg_1\"')\n",
    "all_insp['all2018'] = sf.get_dataframe(f'SELECT * FROM {schema}.\"all_insp_2018\"')\n",
    "all_insp['wc2015_1'] = sf.get_dataframe(f'SELECT * FROM {schema}.\"wc_insp_2015__WCOrg_1\"')\n",
    "all_insp['wc2016_1'] = sf.get_dataframe(f'SELECT * FROM {schema}.\"wc_insp_2016__WCOrg_1\"')\n",
    "all_insp['wc2016_2'] = sf.get_dataframe(f'SELECT * FROM {schema}.\"wc_insp_2016_bayoba_1\"')\n",
    "all_insp['wc2017_1'] = sf.get_dataframe(f'SELECT * FROM {schema}.\"wc_insp_2017__WCOrg_1\"')\n",
    "all_insp['wc2017_2'] = sf.get_dataframe(f'SELECT * FROM {schema}.\"wc_insp_2017_bayoba_1\"')\n"
   ]
  },
  {
   "cell_type": "code",
   "execution_count": 4,
   "metadata": {},
   "outputs": [
    {
     "data": {
      "text/plain": [
       "Index(['Recurrent_sanctions', 'Sanctions'], dtype='object')"
      ]
     },
     "execution_count": 4,
     "metadata": {},
     "output_type": "execute_result"
    }
   ],
   "source": [
    "##lets have a look at the differences in columns, like this-_ all_insp['all_insp_2019'].columns.difference(all_insp['all_insp_2020'].columns)\n",
    "\n",
    "\n",
    "all_insp['og2015_1'].columns.difference(all_insp['og2016_1'].columns)"
   ]
  },
  {
   "cell_type": "code",
   "execution_count": 5,
   "metadata": {},
   "outputs": [
    {
     "data": {
      "text/plain": [
       "['ID',\n",
       " 'Entered_by',\n",
       " 'Date_entered',\n",
       " 'OG_Nr',\n",
       " 'Date_inspected',\n",
       " 'Internal_Inspector',\n",
       " 'Date_of_birth',\n",
       " 'HH_under_5_years_female',\n",
       " 'HH_under_5_years_male',\n",
       " 'HH_5-17_years_female',\n",
       " 'HH_5-17_years_male',\n",
       " 'HH_18-59_years_female',\n",
       " 'HH_18-59_years_male',\n",
       " 'HH_over_60_years_female',\n",
       " 'HH_over_60_years_male',\n",
       " 'Months_food_lasts',\n",
       " 'Compliance_this_year',\n",
       " 'Recurrent_sanctions',\n",
       " 'Sanctions',\n",
       " 'Compliance_this_year_ICS',\n",
       " 'Additional_sanctions_ICS',\n",
       " 'Overall_comment']"
      ]
     },
     "execution_count": 5,
     "metadata": {},
     "output_type": "execute_result"
    }
   ],
   "source": [
    "all_insp['og2015_1'].columns.tolist()"
   ]
  },
  {
   "cell_type": "code",
   "execution_count": 6,
   "metadata": {},
   "outputs": [],
   "source": [
    "all_insp['og2015_1'] = all_insp['og2015_1'].drop('Sanctions', axis=1)\n",
    "all_insp['og2015_1'] = all_insp['og2015_1'].drop('Recurrent_sanctions', axis=1)"
   ]
  },
  {
   "cell_type": "code",
   "execution_count": 7,
   "metadata": {},
   "outputs": [],
   "source": [
    "all_insp['og2015_1'] = all_insp['og2015_1'].drop('Compliance_this_year_ICS', axis=1)\n",
    "all_insp['og2015_1'] = all_insp['og2015_1'].drop('Additional_sanctions_ICS', axis=1)\n",
    "all_insp['og2015_1'] = all_insp['og2015_1'].drop('Compliance_this_year', axis=1)\n",
    "all_insp['og2015_1'] = all_insp['og2015_1'].drop('Overall_comment', axis=1)"
   ]
  },
  {
   "cell_type": "code",
   "execution_count": 8,
   "metadata": {},
   "outputs": [
    {
     "data": {
      "text/plain": [
       "['ID',\n",
       " 'Entered_by',\n",
       " 'Date_entered',\n",
       " 'OG_Nr',\n",
       " 'Date_inspected',\n",
       " 'Internal_Inspector',\n",
       " 'Date_of_birth',\n",
       " 'HH_under_5_years_female',\n",
       " 'HH_under_5_years_male',\n",
       " 'HH_5-17_years_female',\n",
       " 'HH_5-17_years_male',\n",
       " 'HH_18-59_years_female',\n",
       " 'HH_18-59_years_male',\n",
       " 'HH_over_60_years_female',\n",
       " 'HH_over_60_years_male',\n",
       " 'Months_food_lasts',\n",
       " 'Compliance_this_year',\n",
       " 'Recurrent_sanctions',\n",
       " 'Sanctions',\n",
       " 'Compliance_this_year_ICS',\n",
       " 'Additional_sanctions_ICS',\n",
       " 'Overall_comment']"
      ]
     },
     "execution_count": 8,
     "metadata": {},
     "output_type": "execute_result"
    }
   ],
   "source": [
    "all_insp['og2015_2'].columns.tolist()"
   ]
  },
  {
   "cell_type": "code",
   "execution_count": 9,
   "metadata": {},
   "outputs": [],
   "source": [
    "all_insp['og2015_2'] = all_insp['og2015_2'].drop('Compliance_this_year_ICS', axis=1)\n",
    "all_insp['og2015_2'] = all_insp['og2015_2'].drop('Additional_sanctions_ICS', axis=1)\n",
    "all_insp['og2015_2'] = all_insp['og2015_2'].drop('Compliance_this_year', axis=1)\n",
    "all_insp['og2015_2'] = all_insp['og2015_2'].drop('Overall_comment', axis=1)\n",
    "all_insp['og2015_2'] = all_insp['og2015_2'].drop('Sanctions', axis=1)\n",
    "all_insp['og2015_2'] = all_insp['og2015_2'].drop('Recurrent_sanctions', axis=1)"
   ]
  },
  {
   "cell_type": "code",
   "execution_count": 16,
   "metadata": {},
   "outputs": [
    {
     "data": {
      "text/plain": [
       "['ID',\n",
       " 'Entered_by',\n",
       " 'Date_entered',\n",
       " 'OG_Nr',\n",
       " 'Date_inspected',\n",
       " 'Internal_Inspector',\n",
       " 'Date_of_birth',\n",
       " 'HH_under_5_years_female',\n",
       " 'HH_under_5_years_male',\n",
       " 'HH_5-17_years_female',\n",
       " 'HH_5-17_years_male',\n",
       " 'HH_18-59_years_female',\n",
       " 'HH_18-59_years_male',\n",
       " 'HH_over_60_years_female',\n",
       " 'HH_over_60_years_male',\n",
       " 'Months_food_lasts']"
      ]
     },
     "execution_count": 16,
     "metadata": {},
     "output_type": "execute_result"
    }
   ],
   "source": [
    "all_insp['og2016_2'].columns.tolist()"
   ]
  },
  {
   "cell_type": "code",
   "execution_count": 15,
   "metadata": {},
   "outputs": [
    {
     "ename": "KeyError",
     "evalue": "\"['Compliance_this_year_ICS'] not found in axis\"",
     "output_type": "error",
     "traceback": [
      "\u001b[0;31m---------------------------------------------------------------------------\u001b[0m",
      "\u001b[0;31mKeyError\u001b[0m                                  Traceback (most recent call last)",
      "Cell \u001b[0;32mIn[15], line 5\u001b[0m\n\u001b[1;32m      1\u001b[0m all_insp[\u001b[39m'\u001b[39m\u001b[39mog2016_2\u001b[39m\u001b[39m'\u001b[39m] \u001b[39m=\u001b[39m all_insp[\u001b[39m'\u001b[39m\u001b[39mog2016_2\u001b[39m\u001b[39m'\u001b[39m]\u001b[39m.\u001b[39mdrop(\u001b[39m'\u001b[39m\u001b[39mRecurrent_corrective_actions\u001b[39m\u001b[39m'\u001b[39m, axis\u001b[39m=\u001b[39m\u001b[39m1\u001b[39m)\n\u001b[1;32m      2\u001b[0m all_insp[\u001b[39m'\u001b[39m\u001b[39mog2016_2\u001b[39m\u001b[39m'\u001b[39m] \u001b[39m=\u001b[39m all_insp[\u001b[39m'\u001b[39m\u001b[39mog2016_2\u001b[39m\u001b[39m'\u001b[39m]\u001b[39m.\u001b[39mdrop( \u001b[39m'\u001b[39m\u001b[39mCorrective_actions\u001b[39m\u001b[39m'\u001b[39m, axis\u001b[39m=\u001b[39m\u001b[39m1\u001b[39m)\n\u001b[0;32m----> 5\u001b[0m all_insp[\u001b[39m'\u001b[39m\u001b[39mog2016_2\u001b[39m\u001b[39m'\u001b[39m] \u001b[39m=\u001b[39m all_insp[\u001b[39m'\u001b[39;49m\u001b[39mog2016_2\u001b[39;49m\u001b[39m'\u001b[39;49m]\u001b[39m.\u001b[39;49mdrop(\u001b[39m'\u001b[39;49m\u001b[39mCompliance_this_year_ICS\u001b[39;49m\u001b[39m'\u001b[39;49m, axis\u001b[39m=\u001b[39;49m\u001b[39m1\u001b[39;49m)\n\u001b[1;32m      6\u001b[0m all_insp[\u001b[39m'\u001b[39m\u001b[39mog2016_2\u001b[39m\u001b[39m'\u001b[39m] \u001b[39m=\u001b[39m all_insp[\u001b[39m'\u001b[39m\u001b[39mog2016_2\u001b[39m\u001b[39m'\u001b[39m]\u001b[39m.\u001b[39mdrop(\u001b[39m'\u001b[39m\u001b[39mAdditional_sanctions_ICS\u001b[39m\u001b[39m'\u001b[39m, axis\u001b[39m=\u001b[39m\u001b[39m1\u001b[39m)\n\u001b[1;32m      7\u001b[0m all_insp[\u001b[39m'\u001b[39m\u001b[39mog2016_2\u001b[39m\u001b[39m'\u001b[39m] \u001b[39m=\u001b[39m all_insp[\u001b[39m'\u001b[39m\u001b[39mog2016_2\u001b[39m\u001b[39m'\u001b[39m]\u001b[39m.\u001b[39mdrop(\u001b[39m'\u001b[39m\u001b[39mCompliance_this_year\u001b[39m\u001b[39m'\u001b[39m, axis\u001b[39m=\u001b[39m\u001b[39m1\u001b[39m)\n",
      "File \u001b[0;32m/opt/homebrew/Caskroom/miniconda/base/envs/nf_sql/lib/python3.9/site-packages/pandas/util/_decorators.py:331\u001b[0m, in \u001b[0;36mdeprecate_nonkeyword_arguments.<locals>.decorate.<locals>.wrapper\u001b[0;34m(*args, **kwargs)\u001b[0m\n\u001b[1;32m    325\u001b[0m \u001b[39mif\u001b[39;00m \u001b[39mlen\u001b[39m(args) \u001b[39m>\u001b[39m num_allow_args:\n\u001b[1;32m    326\u001b[0m     warnings\u001b[39m.\u001b[39mwarn(\n\u001b[1;32m    327\u001b[0m         msg\u001b[39m.\u001b[39mformat(arguments\u001b[39m=\u001b[39m_format_argument_list(allow_args)),\n\u001b[1;32m    328\u001b[0m         \u001b[39mFutureWarning\u001b[39;00m,\n\u001b[1;32m    329\u001b[0m         stacklevel\u001b[39m=\u001b[39mfind_stack_level(),\n\u001b[1;32m    330\u001b[0m     )\n\u001b[0;32m--> 331\u001b[0m \u001b[39mreturn\u001b[39;00m func(\u001b[39m*\u001b[39;49margs, \u001b[39m*\u001b[39;49m\u001b[39m*\u001b[39;49mkwargs)\n",
      "File \u001b[0;32m/opt/homebrew/Caskroom/miniconda/base/envs/nf_sql/lib/python3.9/site-packages/pandas/core/frame.py:5399\u001b[0m, in \u001b[0;36mDataFrame.drop\u001b[0;34m(self, labels, axis, index, columns, level, inplace, errors)\u001b[0m\n\u001b[1;32m   5251\u001b[0m \u001b[39m@deprecate_nonkeyword_arguments\u001b[39m(version\u001b[39m=\u001b[39m\u001b[39mNone\u001b[39;00m, allowed_args\u001b[39m=\u001b[39m[\u001b[39m\"\u001b[39m\u001b[39mself\u001b[39m\u001b[39m\"\u001b[39m, \u001b[39m\"\u001b[39m\u001b[39mlabels\u001b[39m\u001b[39m\"\u001b[39m])\n\u001b[1;32m   5252\u001b[0m \u001b[39mdef\u001b[39;00m \u001b[39mdrop\u001b[39m(  \u001b[39m# type: ignore[override]\u001b[39;00m\n\u001b[1;32m   5253\u001b[0m     \u001b[39mself\u001b[39m,\n\u001b[0;32m   (...)\u001b[0m\n\u001b[1;32m   5260\u001b[0m     errors: IgnoreRaise \u001b[39m=\u001b[39m \u001b[39m\"\u001b[39m\u001b[39mraise\u001b[39m\u001b[39m\"\u001b[39m,\n\u001b[1;32m   5261\u001b[0m ) \u001b[39m-\u001b[39m\u001b[39m>\u001b[39m DataFrame \u001b[39m|\u001b[39m \u001b[39mNone\u001b[39;00m:\n\u001b[1;32m   5262\u001b[0m     \u001b[39m\"\"\"\u001b[39;00m\n\u001b[1;32m   5263\u001b[0m \u001b[39m    Drop specified labels from rows or columns.\u001b[39;00m\n\u001b[1;32m   5264\u001b[0m \n\u001b[0;32m   (...)\u001b[0m\n\u001b[1;32m   5397\u001b[0m \u001b[39m            weight  1.0     0.8\u001b[39;00m\n\u001b[1;32m   5398\u001b[0m \u001b[39m    \"\"\"\u001b[39;00m\n\u001b[0;32m-> 5399\u001b[0m     \u001b[39mreturn\u001b[39;00m \u001b[39msuper\u001b[39;49m()\u001b[39m.\u001b[39;49mdrop(\n\u001b[1;32m   5400\u001b[0m         labels\u001b[39m=\u001b[39;49mlabels,\n\u001b[1;32m   5401\u001b[0m         axis\u001b[39m=\u001b[39;49maxis,\n\u001b[1;32m   5402\u001b[0m         index\u001b[39m=\u001b[39;49mindex,\n\u001b[1;32m   5403\u001b[0m         columns\u001b[39m=\u001b[39;49mcolumns,\n\u001b[1;32m   5404\u001b[0m         level\u001b[39m=\u001b[39;49mlevel,\n\u001b[1;32m   5405\u001b[0m         inplace\u001b[39m=\u001b[39;49minplace,\n\u001b[1;32m   5406\u001b[0m         errors\u001b[39m=\u001b[39;49merrors,\n\u001b[1;32m   5407\u001b[0m     )\n",
      "File \u001b[0;32m/opt/homebrew/Caskroom/miniconda/base/envs/nf_sql/lib/python3.9/site-packages/pandas/util/_decorators.py:331\u001b[0m, in \u001b[0;36mdeprecate_nonkeyword_arguments.<locals>.decorate.<locals>.wrapper\u001b[0;34m(*args, **kwargs)\u001b[0m\n\u001b[1;32m    325\u001b[0m \u001b[39mif\u001b[39;00m \u001b[39mlen\u001b[39m(args) \u001b[39m>\u001b[39m num_allow_args:\n\u001b[1;32m    326\u001b[0m     warnings\u001b[39m.\u001b[39mwarn(\n\u001b[1;32m    327\u001b[0m         msg\u001b[39m.\u001b[39mformat(arguments\u001b[39m=\u001b[39m_format_argument_list(allow_args)),\n\u001b[1;32m    328\u001b[0m         \u001b[39mFutureWarning\u001b[39;00m,\n\u001b[1;32m    329\u001b[0m         stacklevel\u001b[39m=\u001b[39mfind_stack_level(),\n\u001b[1;32m    330\u001b[0m     )\n\u001b[0;32m--> 331\u001b[0m \u001b[39mreturn\u001b[39;00m func(\u001b[39m*\u001b[39;49margs, \u001b[39m*\u001b[39;49m\u001b[39m*\u001b[39;49mkwargs)\n",
      "File \u001b[0;32m/opt/homebrew/Caskroom/miniconda/base/envs/nf_sql/lib/python3.9/site-packages/pandas/core/generic.py:4505\u001b[0m, in \u001b[0;36mNDFrame.drop\u001b[0;34m(self, labels, axis, index, columns, level, inplace, errors)\u001b[0m\n\u001b[1;32m   4503\u001b[0m \u001b[39mfor\u001b[39;00m axis, labels \u001b[39min\u001b[39;00m axes\u001b[39m.\u001b[39mitems():\n\u001b[1;32m   4504\u001b[0m     \u001b[39mif\u001b[39;00m labels \u001b[39mis\u001b[39;00m \u001b[39mnot\u001b[39;00m \u001b[39mNone\u001b[39;00m:\n\u001b[0;32m-> 4505\u001b[0m         obj \u001b[39m=\u001b[39m obj\u001b[39m.\u001b[39;49m_drop_axis(labels, axis, level\u001b[39m=\u001b[39;49mlevel, errors\u001b[39m=\u001b[39;49merrors)\n\u001b[1;32m   4507\u001b[0m \u001b[39mif\u001b[39;00m inplace:\n\u001b[1;32m   4508\u001b[0m     \u001b[39mself\u001b[39m\u001b[39m.\u001b[39m_update_inplace(obj)\n",
      "File \u001b[0;32m/opt/homebrew/Caskroom/miniconda/base/envs/nf_sql/lib/python3.9/site-packages/pandas/core/generic.py:4546\u001b[0m, in \u001b[0;36mNDFrame._drop_axis\u001b[0;34m(self, labels, axis, level, errors, only_slice)\u001b[0m\n\u001b[1;32m   4544\u001b[0m         new_axis \u001b[39m=\u001b[39m axis\u001b[39m.\u001b[39mdrop(labels, level\u001b[39m=\u001b[39mlevel, errors\u001b[39m=\u001b[39merrors)\n\u001b[1;32m   4545\u001b[0m     \u001b[39melse\u001b[39;00m:\n\u001b[0;32m-> 4546\u001b[0m         new_axis \u001b[39m=\u001b[39m axis\u001b[39m.\u001b[39;49mdrop(labels, errors\u001b[39m=\u001b[39;49merrors)\n\u001b[1;32m   4547\u001b[0m     indexer \u001b[39m=\u001b[39m axis\u001b[39m.\u001b[39mget_indexer(new_axis)\n\u001b[1;32m   4549\u001b[0m \u001b[39m# Case for non-unique axis\u001b[39;00m\n\u001b[1;32m   4550\u001b[0m \u001b[39melse\u001b[39;00m:\n",
      "File \u001b[0;32m/opt/homebrew/Caskroom/miniconda/base/envs/nf_sql/lib/python3.9/site-packages/pandas/core/indexes/base.py:6934\u001b[0m, in \u001b[0;36mIndex.drop\u001b[0;34m(self, labels, errors)\u001b[0m\n\u001b[1;32m   6932\u001b[0m \u001b[39mif\u001b[39;00m mask\u001b[39m.\u001b[39many():\n\u001b[1;32m   6933\u001b[0m     \u001b[39mif\u001b[39;00m errors \u001b[39m!=\u001b[39m \u001b[39m\"\u001b[39m\u001b[39mignore\u001b[39m\u001b[39m\"\u001b[39m:\n\u001b[0;32m-> 6934\u001b[0m         \u001b[39mraise\u001b[39;00m \u001b[39mKeyError\u001b[39;00m(\u001b[39mf\u001b[39m\u001b[39m\"\u001b[39m\u001b[39m{\u001b[39;00m\u001b[39mlist\u001b[39m(labels[mask])\u001b[39m}\u001b[39;00m\u001b[39m not found in axis\u001b[39m\u001b[39m\"\u001b[39m)\n\u001b[1;32m   6935\u001b[0m     indexer \u001b[39m=\u001b[39m indexer[\u001b[39m~\u001b[39mmask]\n\u001b[1;32m   6936\u001b[0m \u001b[39mreturn\u001b[39;00m \u001b[39mself\u001b[39m\u001b[39m.\u001b[39mdelete(indexer)\n",
      "\u001b[0;31mKeyError\u001b[0m: \"['Compliance_this_year_ICS'] not found in axis\""
     ]
    }
   ],
   "source": [
    "all_insp['og2016_2'] = all_insp['og2016_2'].drop('Recurrent_corrective_actions', axis=1)\n",
    "all_insp['og2016_2'] = all_insp['og2016_2'].drop( 'Corrective_actions', axis=1)\n",
    "\n",
    "\n",
    "all_insp['og2016_2'] = all_insp['og2016_2'].drop('Compliance_this_year_ICS', axis=1)\n",
    "all_insp['og2016_2'] = all_insp['og2016_2'].drop('Additional_sanctions_ICS', axis=1)\n",
    "all_insp['og2016_2'] = all_insp['og2016_2'].drop('Compliance_this_year', axis=1)\n",
    "all_insp['og2016_2'] = all_insp['og2016_2'].drop('Overall_comment', axis=1)\n",
    "##all_insp['og2016_2'] = all_insp['og2016_2'].drop('Sanctions', axis=1)\n",
    "##all_insp['og2016_2'] = all_insp['og2016_2'].drop('Recurrent_sanctions', axis=1)"
   ]
  },
  {
   "cell_type": "code",
   "execution_count": 18,
   "metadata": {},
   "outputs": [
    {
     "data": {
      "text/plain": [
       "['ID',\n",
       " 'Entered_by',\n",
       " 'Date_entered',\n",
       " 'OG_Nr',\n",
       " 'Date_inspected',\n",
       " 'Internal_Inspector',\n",
       " 'Date_of_birth',\n",
       " 'HH_under_5_years_female',\n",
       " 'HH_under_5_years_male',\n",
       " 'HH_5-17_years_female',\n",
       " 'HH_5-17_years_male',\n",
       " 'HH_18-59_years_female',\n",
       " 'HH_18-59_years_male',\n",
       " 'HH_over_60_years_female',\n",
       " 'HH_over_60_years_male',\n",
       " 'Months_food_lasts']"
      ]
     },
     "execution_count": 18,
     "metadata": {},
     "output_type": "execute_result"
    }
   ],
   "source": [
    "all_insp['og2016_1'].columns.tolist()"
   ]
  },
  {
   "cell_type": "code",
   "execution_count": 17,
   "metadata": {},
   "outputs": [],
   "source": [
    "all_insp['og2016_1'] = all_insp['og2016_1'].drop('Recurrent_corrective_actions', axis=1)\n",
    "all_insp['og2016_1'] = all_insp['og2016_1'].drop( 'Corrective_actions', axis=1)\n",
    "\n",
    "\n",
    "all_insp['og2016_1'] = all_insp['og2016_1'].drop('Compliance_this_year_ICS', axis=1)\n",
    "all_insp['og2016_1'] = all_insp['og2016_1'].drop('Additional_sanctions_ICS', axis=1)\n",
    "all_insp['og2016_1'] = all_insp['og2016_1'].drop('Compliance_this_year', axis=1)\n",
    "all_insp['og2016_1'] = all_insp['og2016_1'].drop('Overall_comment', axis=1)\n",
    "##all_insp['og2016_2'] = all_insp['og2016_2'].drop('Sanctions', axis=1)\n",
    "##all_insp['og2016_2'] = all_insp['og2016_2'].drop('Recurrent_sanctions', axis=1)"
   ]
  },
  {
   "cell_type": "code",
   "execution_count": 19,
   "metadata": {},
   "outputs": [
    {
     "data": {
      "text/plain": [
       "['ID',\n",
       " 'Entered_by',\n",
       " 'Date_entered',\n",
       " 'OG_Nr',\n",
       " 'Date_inspected',\n",
       " 'LU_Internal_Inspector',\n",
       " 'Date_of_birth',\n",
       " 'HH_under_5_years_female',\n",
       " 'HH_under_5_years_male',\n",
       " 'HH_5-17_years_female',\n",
       " 'HH_5-17_years_male',\n",
       " 'HH_18-59_years_female',\n",
       " 'HH_18-59_years_male',\n",
       " 'HH_over_60_years_female',\n",
       " 'HH_over_60_years_male',\n",
       " 'Months_food_lasts',\n",
       " 'last_year_corrective_action',\n",
       " 'Corrective_action_implemented',\n",
       " 'Compliance_this_year',\n",
       " 'Recurrent_corrective_actions',\n",
       " 'Corrective_actions',\n",
       " 'Compliance_this_year_ICS',\n",
       " 'Additional_sanctions_ICS',\n",
       " 'Overall_comment']"
      ]
     },
     "execution_count": 19,
     "metadata": {},
     "output_type": "execute_result"
    }
   ],
   "source": [
    "all_insp['og2017_1'].columns.tolist()"
   ]
  },
  {
   "cell_type": "code",
   "execution_count": 22,
   "metadata": {},
   "outputs": [
    {
     "ename": "KeyError",
     "evalue": "\"['Recurrent_corrective_actions'] not found in axis\"",
     "output_type": "error",
     "traceback": [
      "\u001b[0;31m---------------------------------------------------------------------------\u001b[0m",
      "\u001b[0;31mKeyError\u001b[0m                                  Traceback (most recent call last)",
      "Cell \u001b[0;32mIn[22], line 1\u001b[0m\n\u001b[0;32m----> 1\u001b[0m all_insp[\u001b[39m'\u001b[39m\u001b[39mog2017_1\u001b[39m\u001b[39m'\u001b[39m] \u001b[39m=\u001b[39m all_insp[\u001b[39m'\u001b[39;49m\u001b[39mog2017_1\u001b[39;49m\u001b[39m'\u001b[39;49m]\u001b[39m.\u001b[39;49mdrop(\u001b[39m'\u001b[39;49m\u001b[39mRecurrent_corrective_actions\u001b[39;49m\u001b[39m'\u001b[39;49m, axis\u001b[39m=\u001b[39;49m\u001b[39m1\u001b[39;49m)\n\u001b[1;32m      2\u001b[0m all_insp[\u001b[39m'\u001b[39m\u001b[39mog2017_1\u001b[39m\u001b[39m'\u001b[39m] \u001b[39m=\u001b[39m all_insp[\u001b[39m'\u001b[39m\u001b[39mog2017_1\u001b[39m\u001b[39m'\u001b[39m]\u001b[39m.\u001b[39mdrop( \u001b[39m'\u001b[39m\u001b[39mCorrective_actions\u001b[39m\u001b[39m'\u001b[39m, axis\u001b[39m=\u001b[39m\u001b[39m1\u001b[39m)\n\u001b[1;32m      5\u001b[0m all_insp[\u001b[39m'\u001b[39m\u001b[39mog2017_1\u001b[39m\u001b[39m'\u001b[39m] \u001b[39m=\u001b[39m all_insp[\u001b[39m'\u001b[39m\u001b[39mog2017_1\u001b[39m\u001b[39m'\u001b[39m]\u001b[39m.\u001b[39mdrop(\u001b[39m'\u001b[39m\u001b[39mCompliance_this_year_ICS\u001b[39m\u001b[39m'\u001b[39m, axis\u001b[39m=\u001b[39m\u001b[39m1\u001b[39m)\n",
      "File \u001b[0;32m/opt/homebrew/Caskroom/miniconda/base/envs/nf_sql/lib/python3.9/site-packages/pandas/util/_decorators.py:331\u001b[0m, in \u001b[0;36mdeprecate_nonkeyword_arguments.<locals>.decorate.<locals>.wrapper\u001b[0;34m(*args, **kwargs)\u001b[0m\n\u001b[1;32m    325\u001b[0m \u001b[39mif\u001b[39;00m \u001b[39mlen\u001b[39m(args) \u001b[39m>\u001b[39m num_allow_args:\n\u001b[1;32m    326\u001b[0m     warnings\u001b[39m.\u001b[39mwarn(\n\u001b[1;32m    327\u001b[0m         msg\u001b[39m.\u001b[39mformat(arguments\u001b[39m=\u001b[39m_format_argument_list(allow_args)),\n\u001b[1;32m    328\u001b[0m         \u001b[39mFutureWarning\u001b[39;00m,\n\u001b[1;32m    329\u001b[0m         stacklevel\u001b[39m=\u001b[39mfind_stack_level(),\n\u001b[1;32m    330\u001b[0m     )\n\u001b[0;32m--> 331\u001b[0m \u001b[39mreturn\u001b[39;00m func(\u001b[39m*\u001b[39;49margs, \u001b[39m*\u001b[39;49m\u001b[39m*\u001b[39;49mkwargs)\n",
      "File \u001b[0;32m/opt/homebrew/Caskroom/miniconda/base/envs/nf_sql/lib/python3.9/site-packages/pandas/core/frame.py:5399\u001b[0m, in \u001b[0;36mDataFrame.drop\u001b[0;34m(self, labels, axis, index, columns, level, inplace, errors)\u001b[0m\n\u001b[1;32m   5251\u001b[0m \u001b[39m@deprecate_nonkeyword_arguments\u001b[39m(version\u001b[39m=\u001b[39m\u001b[39mNone\u001b[39;00m, allowed_args\u001b[39m=\u001b[39m[\u001b[39m\"\u001b[39m\u001b[39mself\u001b[39m\u001b[39m\"\u001b[39m, \u001b[39m\"\u001b[39m\u001b[39mlabels\u001b[39m\u001b[39m\"\u001b[39m])\n\u001b[1;32m   5252\u001b[0m \u001b[39mdef\u001b[39;00m \u001b[39mdrop\u001b[39m(  \u001b[39m# type: ignore[override]\u001b[39;00m\n\u001b[1;32m   5253\u001b[0m     \u001b[39mself\u001b[39m,\n\u001b[0;32m   (...)\u001b[0m\n\u001b[1;32m   5260\u001b[0m     errors: IgnoreRaise \u001b[39m=\u001b[39m \u001b[39m\"\u001b[39m\u001b[39mraise\u001b[39m\u001b[39m\"\u001b[39m,\n\u001b[1;32m   5261\u001b[0m ) \u001b[39m-\u001b[39m\u001b[39m>\u001b[39m DataFrame \u001b[39m|\u001b[39m \u001b[39mNone\u001b[39;00m:\n\u001b[1;32m   5262\u001b[0m     \u001b[39m\"\"\"\u001b[39;00m\n\u001b[1;32m   5263\u001b[0m \u001b[39m    Drop specified labels from rows or columns.\u001b[39;00m\n\u001b[1;32m   5264\u001b[0m \n\u001b[0;32m   (...)\u001b[0m\n\u001b[1;32m   5397\u001b[0m \u001b[39m            weight  1.0     0.8\u001b[39;00m\n\u001b[1;32m   5398\u001b[0m \u001b[39m    \"\"\"\u001b[39;00m\n\u001b[0;32m-> 5399\u001b[0m     \u001b[39mreturn\u001b[39;00m \u001b[39msuper\u001b[39;49m()\u001b[39m.\u001b[39;49mdrop(\n\u001b[1;32m   5400\u001b[0m         labels\u001b[39m=\u001b[39;49mlabels,\n\u001b[1;32m   5401\u001b[0m         axis\u001b[39m=\u001b[39;49maxis,\n\u001b[1;32m   5402\u001b[0m         index\u001b[39m=\u001b[39;49mindex,\n\u001b[1;32m   5403\u001b[0m         columns\u001b[39m=\u001b[39;49mcolumns,\n\u001b[1;32m   5404\u001b[0m         level\u001b[39m=\u001b[39;49mlevel,\n\u001b[1;32m   5405\u001b[0m         inplace\u001b[39m=\u001b[39;49minplace,\n\u001b[1;32m   5406\u001b[0m         errors\u001b[39m=\u001b[39;49merrors,\n\u001b[1;32m   5407\u001b[0m     )\n",
      "File \u001b[0;32m/opt/homebrew/Caskroom/miniconda/base/envs/nf_sql/lib/python3.9/site-packages/pandas/util/_decorators.py:331\u001b[0m, in \u001b[0;36mdeprecate_nonkeyword_arguments.<locals>.decorate.<locals>.wrapper\u001b[0;34m(*args, **kwargs)\u001b[0m\n\u001b[1;32m    325\u001b[0m \u001b[39mif\u001b[39;00m \u001b[39mlen\u001b[39m(args) \u001b[39m>\u001b[39m num_allow_args:\n\u001b[1;32m    326\u001b[0m     warnings\u001b[39m.\u001b[39mwarn(\n\u001b[1;32m    327\u001b[0m         msg\u001b[39m.\u001b[39mformat(arguments\u001b[39m=\u001b[39m_format_argument_list(allow_args)),\n\u001b[1;32m    328\u001b[0m         \u001b[39mFutureWarning\u001b[39;00m,\n\u001b[1;32m    329\u001b[0m         stacklevel\u001b[39m=\u001b[39mfind_stack_level(),\n\u001b[1;32m    330\u001b[0m     )\n\u001b[0;32m--> 331\u001b[0m \u001b[39mreturn\u001b[39;00m func(\u001b[39m*\u001b[39;49margs, \u001b[39m*\u001b[39;49m\u001b[39m*\u001b[39;49mkwargs)\n",
      "File \u001b[0;32m/opt/homebrew/Caskroom/miniconda/base/envs/nf_sql/lib/python3.9/site-packages/pandas/core/generic.py:4505\u001b[0m, in \u001b[0;36mNDFrame.drop\u001b[0;34m(self, labels, axis, index, columns, level, inplace, errors)\u001b[0m\n\u001b[1;32m   4503\u001b[0m \u001b[39mfor\u001b[39;00m axis, labels \u001b[39min\u001b[39;00m axes\u001b[39m.\u001b[39mitems():\n\u001b[1;32m   4504\u001b[0m     \u001b[39mif\u001b[39;00m labels \u001b[39mis\u001b[39;00m \u001b[39mnot\u001b[39;00m \u001b[39mNone\u001b[39;00m:\n\u001b[0;32m-> 4505\u001b[0m         obj \u001b[39m=\u001b[39m obj\u001b[39m.\u001b[39;49m_drop_axis(labels, axis, level\u001b[39m=\u001b[39;49mlevel, errors\u001b[39m=\u001b[39;49merrors)\n\u001b[1;32m   4507\u001b[0m \u001b[39mif\u001b[39;00m inplace:\n\u001b[1;32m   4508\u001b[0m     \u001b[39mself\u001b[39m\u001b[39m.\u001b[39m_update_inplace(obj)\n",
      "File \u001b[0;32m/opt/homebrew/Caskroom/miniconda/base/envs/nf_sql/lib/python3.9/site-packages/pandas/core/generic.py:4546\u001b[0m, in \u001b[0;36mNDFrame._drop_axis\u001b[0;34m(self, labels, axis, level, errors, only_slice)\u001b[0m\n\u001b[1;32m   4544\u001b[0m         new_axis \u001b[39m=\u001b[39m axis\u001b[39m.\u001b[39mdrop(labels, level\u001b[39m=\u001b[39mlevel, errors\u001b[39m=\u001b[39merrors)\n\u001b[1;32m   4545\u001b[0m     \u001b[39melse\u001b[39;00m:\n\u001b[0;32m-> 4546\u001b[0m         new_axis \u001b[39m=\u001b[39m axis\u001b[39m.\u001b[39;49mdrop(labels, errors\u001b[39m=\u001b[39;49merrors)\n\u001b[1;32m   4547\u001b[0m     indexer \u001b[39m=\u001b[39m axis\u001b[39m.\u001b[39mget_indexer(new_axis)\n\u001b[1;32m   4549\u001b[0m \u001b[39m# Case for non-unique axis\u001b[39;00m\n\u001b[1;32m   4550\u001b[0m \u001b[39melse\u001b[39;00m:\n",
      "File \u001b[0;32m/opt/homebrew/Caskroom/miniconda/base/envs/nf_sql/lib/python3.9/site-packages/pandas/core/indexes/base.py:6934\u001b[0m, in \u001b[0;36mIndex.drop\u001b[0;34m(self, labels, errors)\u001b[0m\n\u001b[1;32m   6932\u001b[0m \u001b[39mif\u001b[39;00m mask\u001b[39m.\u001b[39many():\n\u001b[1;32m   6933\u001b[0m     \u001b[39mif\u001b[39;00m errors \u001b[39m!=\u001b[39m \u001b[39m\"\u001b[39m\u001b[39mignore\u001b[39m\u001b[39m\"\u001b[39m:\n\u001b[0;32m-> 6934\u001b[0m         \u001b[39mraise\u001b[39;00m \u001b[39mKeyError\u001b[39;00m(\u001b[39mf\u001b[39m\u001b[39m\"\u001b[39m\u001b[39m{\u001b[39;00m\u001b[39mlist\u001b[39m(labels[mask])\u001b[39m}\u001b[39;00m\u001b[39m not found in axis\u001b[39m\u001b[39m\"\u001b[39m)\n\u001b[1;32m   6935\u001b[0m     indexer \u001b[39m=\u001b[39m indexer[\u001b[39m~\u001b[39mmask]\n\u001b[1;32m   6936\u001b[0m \u001b[39mreturn\u001b[39;00m \u001b[39mself\u001b[39m\u001b[39m.\u001b[39mdelete(indexer)\n",
      "\u001b[0;31mKeyError\u001b[0m: \"['Recurrent_corrective_actions'] not found in axis\""
     ]
    }
   ],
   "source": [
    "all_insp['og2017_1'] = all_insp['og2017_1'].drop('Recurrent_corrective_actions', axis=1)\n",
    "all_insp['og2017_1'] = all_insp['og2017_1'].drop( 'Corrective_actions', axis=1)\n",
    "\n",
    "\n",
    "all_insp['og2017_1'] = all_insp['og2017_1'].drop('Compliance_this_year_ICS', axis=1)\n",
    "all_insp['og2017_1'] = all_insp['og2017_1'].drop('Additional_sanctions_ICS', axis=1)\n",
    "all_insp['og2017_1'] = all_insp['og2017_1'].drop('Compliance_this_year', axis=1)\n",
    "all_insp['og2017_1'] = all_insp['og2017_1'].drop('Overall_comment', axis=1)\n",
    "all_insp['og2017_1'] = all_insp['og2017_1'].drop('last_year_corrective_action', axis=1)\n",
    "all_insp['og2017_1'] = all_insp['og2017_1'].drop('Corrective_action_implemented', axis=1)"
   ]
  },
  {
   "cell_type": "code",
   "execution_count": 23,
   "metadata": {},
   "outputs": [],
   "source": [
    "all_insp['og2017_1'] = all_insp['og2017_1'].drop('last_year_corrective_action', axis=1)\n",
    "all_insp['og2017_1'] = all_insp['og2017_1'].drop('Corrective_action_implemented', axis=1)"
   ]
  },
  {
   "cell_type": "code",
   "execution_count": 24,
   "metadata": {},
   "outputs": [
    {
     "data": {
      "text/plain": [
       "['ID',\n",
       " 'Entered_by',\n",
       " 'Date_entered',\n",
       " 'OG_Nr',\n",
       " 'Date_inspected',\n",
       " 'LU_Internal_Inspector',\n",
       " 'Date_of_birth',\n",
       " 'HH_under_5_years_female',\n",
       " 'HH_under_5_years_male',\n",
       " 'HH_5-17_years_female',\n",
       " 'HH_5-17_years_male',\n",
       " 'HH_18-59_years_female',\n",
       " 'HH_18-59_years_male',\n",
       " 'HH_over_60_years_female',\n",
       " 'HH_over_60_years_male',\n",
       " 'Months_food_lasts']"
      ]
     },
     "execution_count": 24,
     "metadata": {},
     "output_type": "execute_result"
    }
   ],
   "source": [
    "all_insp['og2017_1'].columns.tolist()"
   ]
  },
  {
   "cell_type": "code",
   "execution_count": 28,
   "metadata": {},
   "outputs": [
    {
     "data": {
      "text/plain": [
       "['ID',\n",
       " 'Entered_by',\n",
       " 'Date_entered',\n",
       " 'WC_Nr',\n",
       " 'Date_inspected',\n",
       " 'Internal_Inspector',\n",
       " 'Date_of_birth',\n",
       " 'HH_under_5_years_female',\n",
       " 'HH_under_5_years_male',\n",
       " 'HH_5-17_years_female',\n",
       " 'HH_5-17_years_male',\n",
       " 'HH_18-59_years_female',\n",
       " 'HH_18-59_years_male',\n",
       " 'HH_over_60_years_female',\n",
       " 'HH_over_60_years_male',\n",
       " 'Months_food_lasts']"
      ]
     },
     "execution_count": 28,
     "metadata": {},
     "output_type": "execute_result"
    }
   ],
   "source": [
    "all_insp['wc2015_1'].columns.tolist()"
   ]
  },
  {
   "cell_type": "code",
   "execution_count": 27,
   "metadata": {},
   "outputs": [
    {
     "ename": "KeyError",
     "evalue": "\"['Recurrent_sanctions'] not found in axis\"",
     "output_type": "error",
     "traceback": [
      "\u001b[0;31m---------------------------------------------------------------------------\u001b[0m",
      "\u001b[0;31mKeyError\u001b[0m                                  Traceback (most recent call last)",
      "Cell \u001b[0;32mIn[27], line 1\u001b[0m\n\u001b[0;32m----> 1\u001b[0m all_insp[\u001b[39m'\u001b[39m\u001b[39mwc2015_1\u001b[39m\u001b[39m'\u001b[39m] \u001b[39m=\u001b[39m all_insp[\u001b[39m'\u001b[39;49m\u001b[39mwc2015_1\u001b[39;49m\u001b[39m'\u001b[39;49m]\u001b[39m.\u001b[39;49mdrop(\u001b[39m'\u001b[39;49m\u001b[39mRecurrent_sanctions\u001b[39;49m\u001b[39m'\u001b[39;49m, axis\u001b[39m=\u001b[39;49m\u001b[39m1\u001b[39;49m)\n\u001b[1;32m      2\u001b[0m all_insp[\u001b[39m'\u001b[39m\u001b[39mwc2015_1\u001b[39m\u001b[39m'\u001b[39m] \u001b[39m=\u001b[39m all_insp[\u001b[39m'\u001b[39m\u001b[39mwc2015_1\u001b[39m\u001b[39m'\u001b[39m]\u001b[39m.\u001b[39mdrop( \u001b[39m'\u001b[39m\u001b[39mSanctions\u001b[39m\u001b[39m'\u001b[39m, axis\u001b[39m=\u001b[39m\u001b[39m1\u001b[39m)\n\u001b[1;32m      5\u001b[0m all_insp[\u001b[39m'\u001b[39m\u001b[39mwc2015_1\u001b[39m\u001b[39m'\u001b[39m] \u001b[39m=\u001b[39m all_insp[\u001b[39m'\u001b[39m\u001b[39mwc2015_1\u001b[39m\u001b[39m'\u001b[39m]\u001b[39m.\u001b[39mdrop(\u001b[39m'\u001b[39m\u001b[39mCompliance_this_year_ICS\u001b[39m\u001b[39m'\u001b[39m, axis\u001b[39m=\u001b[39m\u001b[39m1\u001b[39m)\n",
      "File \u001b[0;32m/opt/homebrew/Caskroom/miniconda/base/envs/nf_sql/lib/python3.9/site-packages/pandas/util/_decorators.py:331\u001b[0m, in \u001b[0;36mdeprecate_nonkeyword_arguments.<locals>.decorate.<locals>.wrapper\u001b[0;34m(*args, **kwargs)\u001b[0m\n\u001b[1;32m    325\u001b[0m \u001b[39mif\u001b[39;00m \u001b[39mlen\u001b[39m(args) \u001b[39m>\u001b[39m num_allow_args:\n\u001b[1;32m    326\u001b[0m     warnings\u001b[39m.\u001b[39mwarn(\n\u001b[1;32m    327\u001b[0m         msg\u001b[39m.\u001b[39mformat(arguments\u001b[39m=\u001b[39m_format_argument_list(allow_args)),\n\u001b[1;32m    328\u001b[0m         \u001b[39mFutureWarning\u001b[39;00m,\n\u001b[1;32m    329\u001b[0m         stacklevel\u001b[39m=\u001b[39mfind_stack_level(),\n\u001b[1;32m    330\u001b[0m     )\n\u001b[0;32m--> 331\u001b[0m \u001b[39mreturn\u001b[39;00m func(\u001b[39m*\u001b[39;49margs, \u001b[39m*\u001b[39;49m\u001b[39m*\u001b[39;49mkwargs)\n",
      "File \u001b[0;32m/opt/homebrew/Caskroom/miniconda/base/envs/nf_sql/lib/python3.9/site-packages/pandas/core/frame.py:5399\u001b[0m, in \u001b[0;36mDataFrame.drop\u001b[0;34m(self, labels, axis, index, columns, level, inplace, errors)\u001b[0m\n\u001b[1;32m   5251\u001b[0m \u001b[39m@deprecate_nonkeyword_arguments\u001b[39m(version\u001b[39m=\u001b[39m\u001b[39mNone\u001b[39;00m, allowed_args\u001b[39m=\u001b[39m[\u001b[39m\"\u001b[39m\u001b[39mself\u001b[39m\u001b[39m\"\u001b[39m, \u001b[39m\"\u001b[39m\u001b[39mlabels\u001b[39m\u001b[39m\"\u001b[39m])\n\u001b[1;32m   5252\u001b[0m \u001b[39mdef\u001b[39;00m \u001b[39mdrop\u001b[39m(  \u001b[39m# type: ignore[override]\u001b[39;00m\n\u001b[1;32m   5253\u001b[0m     \u001b[39mself\u001b[39m,\n\u001b[0;32m   (...)\u001b[0m\n\u001b[1;32m   5260\u001b[0m     errors: IgnoreRaise \u001b[39m=\u001b[39m \u001b[39m\"\u001b[39m\u001b[39mraise\u001b[39m\u001b[39m\"\u001b[39m,\n\u001b[1;32m   5261\u001b[0m ) \u001b[39m-\u001b[39m\u001b[39m>\u001b[39m DataFrame \u001b[39m|\u001b[39m \u001b[39mNone\u001b[39;00m:\n\u001b[1;32m   5262\u001b[0m     \u001b[39m\"\"\"\u001b[39;00m\n\u001b[1;32m   5263\u001b[0m \u001b[39m    Drop specified labels from rows or columns.\u001b[39;00m\n\u001b[1;32m   5264\u001b[0m \n\u001b[0;32m   (...)\u001b[0m\n\u001b[1;32m   5397\u001b[0m \u001b[39m            weight  1.0     0.8\u001b[39;00m\n\u001b[1;32m   5398\u001b[0m \u001b[39m    \"\"\"\u001b[39;00m\n\u001b[0;32m-> 5399\u001b[0m     \u001b[39mreturn\u001b[39;00m \u001b[39msuper\u001b[39;49m()\u001b[39m.\u001b[39;49mdrop(\n\u001b[1;32m   5400\u001b[0m         labels\u001b[39m=\u001b[39;49mlabels,\n\u001b[1;32m   5401\u001b[0m         axis\u001b[39m=\u001b[39;49maxis,\n\u001b[1;32m   5402\u001b[0m         index\u001b[39m=\u001b[39;49mindex,\n\u001b[1;32m   5403\u001b[0m         columns\u001b[39m=\u001b[39;49mcolumns,\n\u001b[1;32m   5404\u001b[0m         level\u001b[39m=\u001b[39;49mlevel,\n\u001b[1;32m   5405\u001b[0m         inplace\u001b[39m=\u001b[39;49minplace,\n\u001b[1;32m   5406\u001b[0m         errors\u001b[39m=\u001b[39;49merrors,\n\u001b[1;32m   5407\u001b[0m     )\n",
      "File \u001b[0;32m/opt/homebrew/Caskroom/miniconda/base/envs/nf_sql/lib/python3.9/site-packages/pandas/util/_decorators.py:331\u001b[0m, in \u001b[0;36mdeprecate_nonkeyword_arguments.<locals>.decorate.<locals>.wrapper\u001b[0;34m(*args, **kwargs)\u001b[0m\n\u001b[1;32m    325\u001b[0m \u001b[39mif\u001b[39;00m \u001b[39mlen\u001b[39m(args) \u001b[39m>\u001b[39m num_allow_args:\n\u001b[1;32m    326\u001b[0m     warnings\u001b[39m.\u001b[39mwarn(\n\u001b[1;32m    327\u001b[0m         msg\u001b[39m.\u001b[39mformat(arguments\u001b[39m=\u001b[39m_format_argument_list(allow_args)),\n\u001b[1;32m    328\u001b[0m         \u001b[39mFutureWarning\u001b[39;00m,\n\u001b[1;32m    329\u001b[0m         stacklevel\u001b[39m=\u001b[39mfind_stack_level(),\n\u001b[1;32m    330\u001b[0m     )\n\u001b[0;32m--> 331\u001b[0m \u001b[39mreturn\u001b[39;00m func(\u001b[39m*\u001b[39;49margs, \u001b[39m*\u001b[39;49m\u001b[39m*\u001b[39;49mkwargs)\n",
      "File \u001b[0;32m/opt/homebrew/Caskroom/miniconda/base/envs/nf_sql/lib/python3.9/site-packages/pandas/core/generic.py:4505\u001b[0m, in \u001b[0;36mNDFrame.drop\u001b[0;34m(self, labels, axis, index, columns, level, inplace, errors)\u001b[0m\n\u001b[1;32m   4503\u001b[0m \u001b[39mfor\u001b[39;00m axis, labels \u001b[39min\u001b[39;00m axes\u001b[39m.\u001b[39mitems():\n\u001b[1;32m   4504\u001b[0m     \u001b[39mif\u001b[39;00m labels \u001b[39mis\u001b[39;00m \u001b[39mnot\u001b[39;00m \u001b[39mNone\u001b[39;00m:\n\u001b[0;32m-> 4505\u001b[0m         obj \u001b[39m=\u001b[39m obj\u001b[39m.\u001b[39;49m_drop_axis(labels, axis, level\u001b[39m=\u001b[39;49mlevel, errors\u001b[39m=\u001b[39;49merrors)\n\u001b[1;32m   4507\u001b[0m \u001b[39mif\u001b[39;00m inplace:\n\u001b[1;32m   4508\u001b[0m     \u001b[39mself\u001b[39m\u001b[39m.\u001b[39m_update_inplace(obj)\n",
      "File \u001b[0;32m/opt/homebrew/Caskroom/miniconda/base/envs/nf_sql/lib/python3.9/site-packages/pandas/core/generic.py:4546\u001b[0m, in \u001b[0;36mNDFrame._drop_axis\u001b[0;34m(self, labels, axis, level, errors, only_slice)\u001b[0m\n\u001b[1;32m   4544\u001b[0m         new_axis \u001b[39m=\u001b[39m axis\u001b[39m.\u001b[39mdrop(labels, level\u001b[39m=\u001b[39mlevel, errors\u001b[39m=\u001b[39merrors)\n\u001b[1;32m   4545\u001b[0m     \u001b[39melse\u001b[39;00m:\n\u001b[0;32m-> 4546\u001b[0m         new_axis \u001b[39m=\u001b[39m axis\u001b[39m.\u001b[39;49mdrop(labels, errors\u001b[39m=\u001b[39;49merrors)\n\u001b[1;32m   4547\u001b[0m     indexer \u001b[39m=\u001b[39m axis\u001b[39m.\u001b[39mget_indexer(new_axis)\n\u001b[1;32m   4549\u001b[0m \u001b[39m# Case for non-unique axis\u001b[39;00m\n\u001b[1;32m   4550\u001b[0m \u001b[39melse\u001b[39;00m:\n",
      "File \u001b[0;32m/opt/homebrew/Caskroom/miniconda/base/envs/nf_sql/lib/python3.9/site-packages/pandas/core/indexes/base.py:6934\u001b[0m, in \u001b[0;36mIndex.drop\u001b[0;34m(self, labels, errors)\u001b[0m\n\u001b[1;32m   6932\u001b[0m \u001b[39mif\u001b[39;00m mask\u001b[39m.\u001b[39many():\n\u001b[1;32m   6933\u001b[0m     \u001b[39mif\u001b[39;00m errors \u001b[39m!=\u001b[39m \u001b[39m\"\u001b[39m\u001b[39mignore\u001b[39m\u001b[39m\"\u001b[39m:\n\u001b[0;32m-> 6934\u001b[0m         \u001b[39mraise\u001b[39;00m \u001b[39mKeyError\u001b[39;00m(\u001b[39mf\u001b[39m\u001b[39m\"\u001b[39m\u001b[39m{\u001b[39;00m\u001b[39mlist\u001b[39m(labels[mask])\u001b[39m}\u001b[39;00m\u001b[39m not found in axis\u001b[39m\u001b[39m\"\u001b[39m)\n\u001b[1;32m   6935\u001b[0m     indexer \u001b[39m=\u001b[39m indexer[\u001b[39m~\u001b[39mmask]\n\u001b[1;32m   6936\u001b[0m \u001b[39mreturn\u001b[39;00m \u001b[39mself\u001b[39m\u001b[39m.\u001b[39mdelete(indexer)\n",
      "\u001b[0;31mKeyError\u001b[0m: \"['Recurrent_sanctions'] not found in axis\""
     ]
    }
   ],
   "source": [
    "all_insp['wc2015_1'] = all_insp['wc2015_1'].drop('Recurrent_sanctions', axis=1)\n",
    "all_insp['wc2015_1'] = all_insp['wc2015_1'].drop( 'Sanctions', axis=1)\n",
    "\n",
    "\n",
    "all_insp['wc2015_1'] = all_insp['wc2015_1'].drop('Compliance_this_year_ICS', axis=1)\n",
    "all_insp['wc2015_1'] = all_insp['wc2015_1'].drop('Additional_sanctions_ICS', axis=1)\n",
    "all_insp['wc2015_1'] = all_insp['wc2015_1'].drop('Compliance_this_year', axis=1)\n",
    "all_insp['wc2015_1'] = all_insp['wc2015_1'].drop('Overall_comment', axis=1)\n",
    "##all_insp['og2017_1'] = all_insp['og2017_1'].drop('last_year_corrective_action', axis=1)\n",
    "##all_insp['og2017_1'] = all_insp['og2017_1'].drop('Corrective_action_implemented', axis=1)"
   ]
  },
  {
   "cell_type": "code",
   "execution_count": 29,
   "metadata": {},
   "outputs": [
    {
     "data": {
      "text/plain": [
       "['ID',\n",
       " 'Entered_by',\n",
       " 'Date_entered',\n",
       " 'WC_Nr',\n",
       " 'Date_inspected',\n",
       " 'Internal_Inspector',\n",
       " 'Date_of_birth',\n",
       " 'HH_under_5_years_female',\n",
       " 'HH_under_5_years_male',\n",
       " 'HH_5-17_years_female',\n",
       " 'HH_5-17_years_male',\n",
       " 'HH_18-59_years_female',\n",
       " 'HH_18-59_years_male',\n",
       " 'HH_over_60_years_female',\n",
       " 'HH_over_60_years_male',\n",
       " 'Months_food_lasts',\n",
       " 'Compliance_this_year',\n",
       " 'Recurrent_sanctions',\n",
       " 'Sanctions',\n",
       " 'Compliance_this_year_ICS',\n",
       " 'Additional_sanctions_ICS',\n",
       " 'Overall_comment']"
      ]
     },
     "execution_count": 29,
     "metadata": {},
     "output_type": "execute_result"
    }
   ],
   "source": [
    "all_insp['wc2016_1'].columns.tolist()"
   ]
  },
  {
   "cell_type": "code",
   "execution_count": 30,
   "metadata": {},
   "outputs": [],
   "source": [
    "all_insp['wc2016_1'] = all_insp['wc2016_1'].drop('Recurrent_sanctions', axis=1)\n",
    "all_insp['wc2016_1'] = all_insp['wc2016_1'].drop( 'Sanctions', axis=1)\n",
    "\n",
    "\n",
    "all_insp['wc2016_1'] = all_insp['wc2016_1'].drop('Compliance_this_year_ICS', axis=1)\n",
    "all_insp['wc2016_1'] = all_insp['wc2016_1'].drop('Additional_sanctions_ICS', axis=1)\n",
    "all_insp['wc2016_1'] = all_insp['wc2016_1'].drop('Compliance_this_year', axis=1)\n",
    "all_insp['wc2016_1'] = all_insp['wc2016_1'].drop('Overall_comment', axis=1)\n",
    "##all_insp['og2017_1'] = all_insp['og2017_1'].drop('last_year_corrective_action', axis=1)\n",
    "##all_insp['og2017_1'] = all_insp['og2017_1'].drop('Corrective_action_implemented', axis=1)"
   ]
  },
  {
   "cell_type": "code",
   "execution_count": 31,
   "metadata": {},
   "outputs": [
    {
     "data": {
      "text/plain": [
       "['ID',\n",
       " 'Entered_by',\n",
       " 'Date_entered',\n",
       " 'WC_Nr',\n",
       " 'Date_inspected',\n",
       " 'Internal_Inspector',\n",
       " 'Date_of_birth',\n",
       " 'HH_under_5_years_female',\n",
       " 'HH_under_5_years_male',\n",
       " 'HH_5-17_years_female',\n",
       " 'HH_5-17_years_male',\n",
       " 'HH_18-59_years_female',\n",
       " 'HH_18-59_years_male',\n",
       " 'HH_over_60_years_female',\n",
       " 'HH_over_60_years_male',\n",
       " 'Months_food_lasts',\n",
       " 'Compliance_this_year',\n",
       " 'Recurrent_sanctions',\n",
       " 'Sanctions',\n",
       " 'Compliance_this_year_ICS',\n",
       " 'Additional_sanctions_ICS',\n",
       " 'Overall_comment']"
      ]
     },
     "execution_count": 31,
     "metadata": {},
     "output_type": "execute_result"
    }
   ],
   "source": [
    "all_insp['wc2016_2'].columns.tolist()"
   ]
  },
  {
   "cell_type": "code",
   "execution_count": 32,
   "metadata": {},
   "outputs": [],
   "source": [
    "all_insp['wc2016_2'] = all_insp['wc2016_2'].drop('Recurrent_sanctions', axis=1)\n",
    "all_insp['wc2016_2'] = all_insp['wc2016_2'].drop( 'Sanctions', axis=1)\n",
    "\n",
    "\n",
    "all_insp['wc2016_2'] = all_insp['wc2016_2'].drop('Compliance_this_year_ICS', axis=1)\n",
    "all_insp['wc2016_2'] = all_insp['wc2016_2'].drop('Additional_sanctions_ICS', axis=1)\n",
    "all_insp['wc2016_2'] = all_insp['wc2016_2'].drop('Compliance_this_year', axis=1)\n",
    "all_insp['wc2016_2'] = all_insp['wc2016_2'].drop('Overall_comment', axis=1)\n",
    "##all_insp['og2017_1'] = all_insp['og2017_1'].drop('last_year_corrective_action', axis=1)\n",
    "##all_insp['og2017_1'] = all_insp['og2017_1'].drop('Corrective_action_implemented', axis=1)"
   ]
  },
  {
   "cell_type": "code",
   "execution_count": 33,
   "metadata": {},
   "outputs": [
    {
     "data": {
      "text/plain": [
       "['ID',\n",
       " 'Entered_by',\n",
       " 'Date_entered',\n",
       " 'WC_Nr',\n",
       " 'Date_inspected',\n",
       " 'Internal_Inspector',\n",
       " 'Date_of_birth',\n",
       " 'HH_under_5_years_female',\n",
       " 'HH_under_5_years_male',\n",
       " 'HH_5-17_years_female',\n",
       " 'HH_5-17_years_male',\n",
       " 'HH_18-59_years_female',\n",
       " 'HH_18-59_years_male',\n",
       " 'HH_over_60_years_female',\n",
       " 'HH_over_60_years_male',\n",
       " 'Months_food_lasts',\n",
       " 'Compliance_this_year',\n",
       " 'Recurrent_sanctions',\n",
       " 'Sanctions',\n",
       " 'Compliance_this_year_ICS',\n",
       " 'Additional_sanctions_ICS',\n",
       " 'Overall_comment']"
      ]
     },
     "execution_count": 33,
     "metadata": {},
     "output_type": "execute_result"
    }
   ],
   "source": [
    "all_insp['wc2017_2'].columns.tolist()"
   ]
  },
  {
   "cell_type": "code",
   "execution_count": 34,
   "metadata": {},
   "outputs": [],
   "source": [
    "all_insp['wc2017_2'] = all_insp['wc2017_2'].drop('Recurrent_sanctions', axis=1)\n",
    "all_insp['wc2017_2'] = all_insp['wc2017_2'].drop( 'Sanctions', axis=1)\n",
    "\n",
    "\n",
    "all_insp['wc2017_2'] = all_insp['wc2017_2'].drop('Compliance_this_year_ICS', axis=1)\n",
    "all_insp['wc2017_2'] = all_insp['wc2017_2'].drop('Additional_sanctions_ICS', axis=1)\n",
    "all_insp['wc2017_2'] = all_insp['wc2017_2'].drop('Compliance_this_year', axis=1)\n",
    "all_insp['wc2017_2'] = all_insp['wc2017_2'].drop('Overall_comment', axis=1)\n",
    "##all_insp['og2017_1'] = all_insp['og2017_1'].drop('last_year_corrective_action', axis=1)\n",
    "##all_insp['og2017_1'] = all_insp['og2017_1'].drop('Corrective_action_implemented', axis=1)"
   ]
  },
  {
   "cell_type": "code",
   "execution_count": 35,
   "metadata": {},
   "outputs": [
    {
     "data": {
      "text/plain": [
       "['ID',\n",
       " 'Entered_by',\n",
       " 'Date_entered',\n",
       " 'WC_Nr',\n",
       " 'Date_inspected',\n",
       " 'Internal_Inspector',\n",
       " 'Date_of_birth',\n",
       " 'HH_under_5_years_female',\n",
       " 'HH_under_5_years_male',\n",
       " 'HH_5-17_years_female',\n",
       " 'HH_5-17_years_male',\n",
       " 'HH_18-59_years_female',\n",
       " 'HH_18-59_years_male',\n",
       " 'HH_over_60_years_female',\n",
       " 'HH_over_60_years_male',\n",
       " 'Months_food_lasts',\n",
       " 'Compliance_this_year',\n",
       " 'Recurrent_sanctions',\n",
       " 'Sanctions',\n",
       " 'Compliance_this_year_ICS',\n",
       " 'Additional_sanctions_ICS',\n",
       " 'Overall_comment']"
      ]
     },
     "execution_count": 35,
     "metadata": {},
     "output_type": "execute_result"
    }
   ],
   "source": [
    "all_insp['wc2017_1'].columns.tolist()"
   ]
  },
  {
   "cell_type": "code",
   "execution_count": 36,
   "metadata": {},
   "outputs": [],
   "source": [
    "all_insp['wc2017_1'] = all_insp['wc2017_1'].drop('Recurrent_sanctions', axis=1)\n",
    "all_insp['wc2017_1'] = all_insp['wc2017_1'].drop( 'Sanctions', axis=1)\n",
    "\n",
    "\n",
    "all_insp['wc2017_1'] = all_insp['wc2017_1'].drop('Compliance_this_year_ICS', axis=1)\n",
    "all_insp['wc2017_1'] = all_insp['wc2017_1'].drop('Additional_sanctions_ICS', axis=1)\n",
    "all_insp['wc2017_1'] = all_insp['wc2017_1'].drop('Compliance_this_year', axis=1)\n",
    "all_insp['wc2017_1'] = all_insp['wc2017_1'].drop('Overall_comment', axis=1)\n",
    "##all_insp['og2017_1'] = all_insp['og2017_1'].drop('last_year_corrective_action', axis=1)\n",
    "##all_insp['og2017_1'] = all_insp['og2017_1'].drop('Corrective_action_implemented', axis=1)"
   ]
  },
  {
   "cell_type": "code",
   "execution_count": 38,
   "metadata": {},
   "outputs": [
    {
     "data": {
      "text/plain": [
       "['date_entered',\n",
       " 'og_nr',\n",
       " 'date_inspected',\n",
       " 'area',\n",
       " 'date_of_birth',\n",
       " 'hh_under_5_years_female',\n",
       " 'hh_under_5_years_male',\n",
       " 'hh_5-17_years_female',\n",
       " 'hh_5-17_years_male',\n",
       " 'hh_18-59_years_female',\n",
       " 'hh_18-59_years_male',\n",
       " 'hh_over_60_years_female',\n",
       " 'hh_over_60_years_male',\n",
       " 'months_food_lasts']"
      ]
     },
     "execution_count": 38,
     "metadata": {},
     "output_type": "execute_result"
    }
   ],
   "source": [
    "all_insp['all2018'].columns.tolist()"
   ]
  },
  {
   "cell_type": "code",
   "execution_count": 40,
   "metadata": {},
   "outputs": [],
   "source": [
    "# Convert column names to lowercase in all dataframes\n",
    "all_insp['og2015_1'].rename(columns=str.lower, inplace=True)\n",
    "all_insp['og2015_2'].rename(columns=str.lower, inplace=True)\n",
    "all_insp['og2016_1'].rename(columns=str.lower, inplace=True)\n",
    "all_insp['og2016_2'].rename(columns=str.lower, inplace=True)\n",
    "all_insp['og2017_1'].rename(columns=str.lower, inplace=True)\n",
    "all_insp['wc2015_1'].rename(columns=str.lower, inplace=True)\n",
    "all_insp['wc2016_1'].rename(columns=str.lower, inplace=True)\n",
    "all_insp['wc2016_2'].rename(columns=str.lower, inplace=True)\n",
    "all_insp['wc2017_1'].rename(columns=str.lower, inplace=True)\n",
    "all_insp['wc2017_2'].rename(columns=str.lower, inplace=True)\n",
    "\n",
    "\n",
    "\n"
   ]
  },
  {
   "cell_type": "code",
   "execution_count": 51,
   "metadata": {},
   "outputs": [
    {
     "data": {
      "text/plain": [
       "(0, 16)"
      ]
     },
     "execution_count": 51,
     "metadata": {},
     "output_type": "execute_result"
    }
   ],
   "source": [
    "\n",
    "duplicates = all_insp['og2015_1'][all_insp['og2015_1'].duplicated(['og_nr'], keep=False)]\n",
    "duplicates.shape\n"
   ]
  },
  {
   "cell_type": "code",
   "execution_count": 52,
   "metadata": {},
   "outputs": [
    {
     "data": {
      "text/plain": [
       "(287, 16)"
      ]
     },
     "execution_count": 52,
     "metadata": {},
     "output_type": "execute_result"
    }
   ],
   "source": [
    "all_insp['og2015_1'].shape"
   ]
  },
  {
   "cell_type": "code",
   "execution_count": 53,
   "metadata": {},
   "outputs": [
    {
     "data": {
      "text/plain": [
       "(0, 16)"
      ]
     },
     "execution_count": 53,
     "metadata": {},
     "output_type": "execute_result"
    }
   ],
   "source": [
    "\n",
    "duplicates = all_insp['og2015_2'][all_insp['og2015_2'].duplicated(['og_nr'], keep=False)]\n",
    "duplicates.shape\n"
   ]
  },
  {
   "cell_type": "code",
   "execution_count": 54,
   "metadata": {},
   "outputs": [
    {
     "data": {
      "text/plain": [
       "(287, 16)"
      ]
     },
     "execution_count": 54,
     "metadata": {},
     "output_type": "execute_result"
    }
   ],
   "source": [
    "all_insp['og2015_2'].shape"
   ]
  },
  {
   "cell_type": "code",
   "execution_count": 55,
   "metadata": {},
   "outputs": [
    {
     "data": {
      "text/plain": [
       "(0, 16)"
      ]
     },
     "execution_count": 55,
     "metadata": {},
     "output_type": "execute_result"
    }
   ],
   "source": [
    "\n",
    "duplicates = all_insp['og2016_1'][all_insp['og2016_1'].duplicated(['og_nr'], keep=False)]\n",
    "duplicates.shape"
   ]
  },
  {
   "cell_type": "code",
   "execution_count": 56,
   "metadata": {},
   "outputs": [
    {
     "data": {
      "text/plain": [
       "(218, 16)"
      ]
     },
     "execution_count": 56,
     "metadata": {},
     "output_type": "execute_result"
    }
   ],
   "source": [
    "all_insp['og2016_1'].shape"
   ]
  },
  {
   "cell_type": "code",
   "execution_count": 58,
   "metadata": {},
   "outputs": [
    {
     "data": {
      "text/plain": [
       "(0, 16)"
      ]
     },
     "execution_count": 58,
     "metadata": {},
     "output_type": "execute_result"
    }
   ],
   "source": [
    "duplicates = all_insp['og2016_2'][all_insp['og2016_2'].duplicated(['og_nr'], keep=False)]\n",
    "duplicates.shape"
   ]
  },
  {
   "cell_type": "code",
   "execution_count": 59,
   "metadata": {},
   "outputs": [
    {
     "data": {
      "text/plain": [
       "(218, 16)"
      ]
     },
     "execution_count": 59,
     "metadata": {},
     "output_type": "execute_result"
    }
   ],
   "source": [
    "all_insp['og2016_2'].shape"
   ]
  },
  {
   "cell_type": "code",
   "execution_count": 60,
   "metadata": {},
   "outputs": [
    {
     "data": {
      "text/plain": [
       "(0, 16)"
      ]
     },
     "execution_count": 60,
     "metadata": {},
     "output_type": "execute_result"
    }
   ],
   "source": [
    "duplicates = all_insp['og2017_1'][all_insp['og2017_1'].duplicated(['og_nr'], keep=False)]\n",
    "duplicates.shape"
   ]
  },
  {
   "cell_type": "code",
   "execution_count": 62,
   "metadata": {},
   "outputs": [
    {
     "data": {
      "text/plain": [
       "(394, 16)"
      ]
     },
     "execution_count": 62,
     "metadata": {},
     "output_type": "execute_result"
    }
   ],
   "source": [
    "all_insp['og2017_1'].shape"
   ]
  },
  {
   "cell_type": "code",
   "execution_count": 63,
   "metadata": {},
   "outputs": [
    {
     "data": {
      "text/plain": [
       "(0, 16)"
      ]
     },
     "execution_count": 63,
     "metadata": {},
     "output_type": "execute_result"
    }
   ],
   "source": [
    "duplicates = all_insp['wc2017_1'][all_insp['wc2017_1'].duplicated(['wc_nr'], keep=False)]\n",
    "duplicates.shape"
   ]
  },
  {
   "cell_type": "code",
   "execution_count": 64,
   "metadata": {},
   "outputs": [
    {
     "data": {
      "text/plain": [
       "(10, 16)"
      ]
     },
     "execution_count": 64,
     "metadata": {},
     "output_type": "execute_result"
    }
   ],
   "source": [
    "all_insp['wc2017_1'].shape"
   ]
  },
  {
   "cell_type": "code",
   "execution_count": 65,
   "metadata": {},
   "outputs": [
    {
     "data": {
      "text/plain": [
       "(0, 16)"
      ]
     },
     "execution_count": 65,
     "metadata": {},
     "output_type": "execute_result"
    }
   ],
   "source": [
    "duplicates = all_insp['wc2017_2'][all_insp['wc2017_2'].duplicated(['wc_nr'], keep=False)]\n",
    "duplicates.shape"
   ]
  },
  {
   "cell_type": "code",
   "execution_count": 66,
   "metadata": {},
   "outputs": [
    {
     "data": {
      "text/plain": [
       "(31, 16)"
      ]
     },
     "execution_count": 66,
     "metadata": {},
     "output_type": "execute_result"
    }
   ],
   "source": [
    "all_insp['wc2017_2'].shape"
   ]
  },
  {
   "cell_type": "code",
   "execution_count": 67,
   "metadata": {},
   "outputs": [
    {
     "data": {
      "text/plain": [
       "(0, 16)"
      ]
     },
     "execution_count": 67,
     "metadata": {},
     "output_type": "execute_result"
    }
   ],
   "source": [
    "duplicates = all_insp['wc2016_1'][all_insp['wc2016_1'].duplicated(['wc_nr'], keep=False)]\n",
    "duplicates.shape"
   ]
  },
  {
   "cell_type": "code",
   "execution_count": 68,
   "metadata": {},
   "outputs": [
    {
     "data": {
      "text/plain": [
       "(40, 16)"
      ]
     },
     "execution_count": 68,
     "metadata": {},
     "output_type": "execute_result"
    }
   ],
   "source": [
    "all_insp['wc2016_1'].shape"
   ]
  },
  {
   "cell_type": "code",
   "execution_count": 69,
   "metadata": {},
   "outputs": [
    {
     "data": {
      "text/plain": [
       "(0, 16)"
      ]
     },
     "execution_count": 69,
     "metadata": {},
     "output_type": "execute_result"
    }
   ],
   "source": [
    "duplicates = all_insp['wc2015_1'][all_insp['wc2015_1'].duplicated(['wc_nr'], keep=False)]\n",
    "duplicates.shape"
   ]
  },
  {
   "cell_type": "code",
   "execution_count": 70,
   "metadata": {},
   "outputs": [
    {
     "data": {
      "text/plain": [
       "(2650, 16)"
      ]
     },
     "execution_count": 70,
     "metadata": {},
     "output_type": "execute_result"
    }
   ],
   "source": [
    "all_insp['wc2015_1'].shape"
   ]
  },
  {
   "cell_type": "code",
   "execution_count": 72,
   "metadata": {},
   "outputs": [
    {
     "ename": "SyntaxError",
     "evalue": "cannot assign to operator (4221116902.py, line 1)",
     "output_type": "error",
     "traceback": [
      "\u001b[0;36m  Cell \u001b[0;32mIn[72], line 1\u001b[0;36m\u001b[0m\n\u001b[0;31m    concat_insp_15-18 = pd.concat(all_insp)\u001b[0m\n\u001b[0m    ^\u001b[0m\n\u001b[0;31mSyntaxError\u001b[0m\u001b[0;31m:\u001b[0m cannot assign to operator\n"
     ]
    }
   ],
   "source": [
    "concat_insp_15-18 = pd.concat(all_insp)"
   ]
  },
  {
   "cell_type": "code",
   "execution_count": 73,
   "metadata": {},
   "outputs": [
    {
     "ename": "SyntaxError",
     "evalue": "invalid syntax (3164763898.py, line 1)",
     "output_type": "error",
     "traceback": [
      "\u001b[0;36m  Cell \u001b[0;32mIn[73], line 1\u001b[0;36m\u001b[0m\n\u001b[0;31m    concat_insp_19-23.head()\u001b[0m\n\u001b[0m                      ^\u001b[0m\n\u001b[0;31mSyntaxError\u001b[0m\u001b[0;31m:\u001b[0m invalid syntax\n"
     ]
    }
   ],
   "source": [
    "concat_insp_19-23.head()"
   ]
  },
  {
   "cell_type": "code",
   "execution_count": 26,
   "metadata": {},
   "outputs": [
    {
     "data": {
      "text/plain": [
       "1"
      ]
     },
     "execution_count": 26,
     "metadata": {},
     "output_type": "execute_result"
    }
   ],
   "source": [
    "# how many nulls are there anyway\n",
    "df1['og_nr'].isnull().sum()\n",
    "df3['og_nr'].isnull().sum()"
   ]
  },
  {
   "cell_type": "code",
   "execution_count": 29,
   "metadata": {},
   "outputs": [
    {
     "data": {
      "text/html": [
       "<div>\n",
       "<style scoped>\n",
       "    .dataframe tbody tr th:only-of-type {\n",
       "        vertical-align: middle;\n",
       "    }\n",
       "\n",
       "    .dataframe tbody tr th {\n",
       "        vertical-align: top;\n",
       "    }\n",
       "\n",
       "    .dataframe thead th {\n",
       "        text-align: right;\n",
       "    }\n",
       "</style>\n",
       "<table border=\"1\" class=\"dataframe\">\n",
       "  <thead>\n",
       "    <tr style=\"text-align: right;\">\n",
       "      <th></th>\n",
       "      <th>id</th>\n",
       "      <th>entered_by</th>\n",
       "      <th>date_entered</th>\n",
       "      <th>og_nr</th>\n",
       "      <th>date_inspected</th>\n",
       "      <th>area</th>\n",
       "      <th>lu_internal_inspector</th>\n",
       "      <th>date_of_birth</th>\n",
       "      <th>hh_under_5_years_female</th>\n",
       "      <th>hh_under_5_years_male</th>\n",
       "      <th>...</th>\n",
       "      <th>hh_over_60_years_male</th>\n",
       "      <th>months_food_lasts</th>\n",
       "      <th>last_year_corrective_action</th>\n",
       "      <th>corrective_action_implemented</th>\n",
       "      <th>compliance_this_year</th>\n",
       "      <th>recurrent_corrective_actions</th>\n",
       "      <th>corrective_actions</th>\n",
       "      <th>compliance_this_year_ics</th>\n",
       "      <th>additional_sanctions_ics</th>\n",
       "      <th>overall_comment</th>\n",
       "    </tr>\n",
       "  </thead>\n",
       "  <tbody>\n",
       "    <tr>\n",
       "      <th>0</th>\n",
       "      <td>355</td>\n",
       "      <td>79.0</td>\n",
       "      <td>2018-07-04</td>\n",
       "      <td>13647.0</td>\n",
       "      <td>2018-06-05</td>\n",
       "      <td>Karoi</td>\n",
       "      <td>Lunga</td>\n",
       "      <td>None</td>\n",
       "      <td>1.0</td>\n",
       "      <td>3</td>\n",
       "      <td>...</td>\n",
       "      <td>0</td>\n",
       "      <td>12.0</td>\n",
       "      <td>None</td>\n",
       "      <td>5.0</td>\n",
       "      <td>to be approved as non producer</td>\n",
       "      <td>None</td>\n",
       "      <td>None</td>\n",
       "      <td>None</td>\n",
       "      <td>None</td>\n",
       "      <td>None</td>\n",
       "    </tr>\n",
       "    <tr>\n",
       "      <th>1</th>\n",
       "      <td>147</td>\n",
       "      <td>79.0</td>\n",
       "      <td>2018-05-28</td>\n",
       "      <td>13475.0</td>\n",
       "      <td>2018-05-22</td>\n",
       "      <td>Triangle</td>\n",
       "      <td>Hoto M</td>\n",
       "      <td>1984-04-13</td>\n",
       "      <td>0.0</td>\n",
       "      <td>0</td>\n",
       "      <td>...</td>\n",
       "      <td>0</td>\n",
       "      <td>8.0</td>\n",
       "      <td>None</td>\n",
       "      <td>5.0</td>\n",
       "      <td>To approve with corrective actions</td>\n",
       "      <td>None</td>\n",
       "      <td>Improve hygiene</td>\n",
       "      <td>Approved without conditions</td>\n",
       "      <td>Improve hygiene</td>\n",
       "      <td>None</td>\n",
       "    </tr>\n",
       "    <tr>\n",
       "      <th>2</th>\n",
       "      <td>205</td>\n",
       "      <td>79.0</td>\n",
       "      <td>2018-05-29</td>\n",
       "      <td>13371.0</td>\n",
       "      <td>2018-05-21</td>\n",
       "      <td>Triangle</td>\n",
       "      <td>Hoto M</td>\n",
       "      <td>1956-07-06</td>\n",
       "      <td>4.0</td>\n",
       "      <td>0</td>\n",
       "      <td>...</td>\n",
       "      <td>1</td>\n",
       "      <td>9.0</td>\n",
       "      <td>None</td>\n",
       "      <td>5.0</td>\n",
       "      <td>To approve with corrective actions</td>\n",
       "      <td>None</td>\n",
       "      <td>Improve buffer zone</td>\n",
       "      <td>Approved without conditions</td>\n",
       "      <td>Improve buffer zone</td>\n",
       "      <td>None</td>\n",
       "    </tr>\n",
       "    <tr>\n",
       "      <th>3</th>\n",
       "      <td>337</td>\n",
       "      <td>79.0</td>\n",
       "      <td>2018-06-01</td>\n",
       "      <td>13659.0</td>\n",
       "      <td>2018-05-24</td>\n",
       "      <td>Karoi</td>\n",
       "      <td>Kundishora</td>\n",
       "      <td>None</td>\n",
       "      <td>2.0</td>\n",
       "      <td>2</td>\n",
       "      <td>...</td>\n",
       "      <td>0</td>\n",
       "      <td>12.0</td>\n",
       "      <td>None</td>\n",
       "      <td>5.0</td>\n",
       "      <td>To approve in full</td>\n",
       "      <td>None</td>\n",
       "      <td>To construct storage</td>\n",
       "      <td>Approved without conditions</td>\n",
       "      <td>Construct storage</td>\n",
       "      <td>None</td>\n",
       "    </tr>\n",
       "    <tr>\n",
       "      <th>4</th>\n",
       "      <td>343</td>\n",
       "      <td>79.0</td>\n",
       "      <td>2018-06-01</td>\n",
       "      <td>13686.0</td>\n",
       "      <td>2018-05-23</td>\n",
       "      <td>Karoi</td>\n",
       "      <td>Kundishora</td>\n",
       "      <td>None</td>\n",
       "      <td>0.0</td>\n",
       "      <td>1</td>\n",
       "      <td>...</td>\n",
       "      <td>1</td>\n",
       "      <td>6.0</td>\n",
       "      <td>None</td>\n",
       "      <td>5.0</td>\n",
       "      <td>To approve in full</td>\n",
       "      <td>None</td>\n",
       "      <td>To construct storage</td>\n",
       "      <td>Approved without conditions</td>\n",
       "      <td>To construct storage</td>\n",
       "      <td>None</td>\n",
       "    </tr>\n",
       "  </tbody>\n",
       "</table>\n",
       "<p>5 rows × 25 columns</p>\n",
       "</div>"
      ],
      "text/plain": [
       "    id  entered_by date_entered    og_nr date_inspected      area  \\\n",
       "0  355        79.0   2018-07-04  13647.0     2018-06-05     Karoi   \n",
       "1  147        79.0   2018-05-28  13475.0     2018-05-22  Triangle   \n",
       "2  205        79.0   2018-05-29  13371.0     2018-05-21  Triangle   \n",
       "3  337        79.0   2018-06-01  13659.0     2018-05-24     Karoi   \n",
       "4  343        79.0   2018-06-01  13686.0     2018-05-23     Karoi   \n",
       "\n",
       "  lu_internal_inspector date_of_birth  hh_under_5_years_female  \\\n",
       "0                 Lunga          None                      1.0   \n",
       "1                Hoto M    1984-04-13                      0.0   \n",
       "2                Hoto M    1956-07-06                      4.0   \n",
       "3            Kundishora          None                      2.0   \n",
       "4            Kundishora          None                      0.0   \n",
       "\n",
       "   hh_under_5_years_male  ...  hh_over_60_years_male  months_food_lasts  \\\n",
       "0                      3  ...                      0               12.0   \n",
       "1                      0  ...                      0                8.0   \n",
       "2                      0  ...                      1                9.0   \n",
       "3                      2  ...                      0               12.0   \n",
       "4                      1  ...                      1                6.0   \n",
       "\n",
       "   last_year_corrective_action  corrective_action_implemented  \\\n",
       "0                         None                            5.0   \n",
       "1                         None                            5.0   \n",
       "2                         None                            5.0   \n",
       "3                         None                            5.0   \n",
       "4                         None                            5.0   \n",
       "\n",
       "                 compliance_this_year  recurrent_corrective_actions  \\\n",
       "0      to be approved as non producer                          None   \n",
       "1  To approve with corrective actions                          None   \n",
       "2  To approve with corrective actions                          None   \n",
       "3                  To approve in full                          None   \n",
       "4                  To approve in full                          None   \n",
       "\n",
       "     corrective_actions     compliance_this_year_ics  \\\n",
       "0                  None                         None   \n",
       "1       Improve hygiene  Approved without conditions   \n",
       "2   Improve buffer zone  Approved without conditions   \n",
       "3  To construct storage  Approved without conditions   \n",
       "4  To construct storage  Approved without conditions   \n",
       "\n",
       "   additional_sanctions_ics overall_comment  \n",
       "0                      None            None  \n",
       "1           Improve hygiene            None  \n",
       "2       Improve buffer zone            None  \n",
       "3         Construct storage            None  \n",
       "4      To construct storage            None  \n",
       "\n",
       "[5 rows x 25 columns]"
      ]
     },
     "execution_count": 29,
     "metadata": {},
     "output_type": "execute_result"
    }
   ],
   "source": [
    "df_2018.head()"
   ]
  },
  {
   "cell_type": "code",
   "execution_count": 30,
   "metadata": {},
   "outputs": [
    {
     "data": {
      "text/plain": [
       "(1435, 25)"
      ]
     },
     "execution_count": 30,
     "metadata": {},
     "output_type": "execute_result"
    }
   ],
   "source": [
    "df_2018.shape"
   ]
  },
  {
   "cell_type": "code",
   "execution_count": 41,
   "metadata": {},
   "outputs": [
    {
     "data": {
      "text/plain": [
       "431"
      ]
     },
     "execution_count": 41,
     "metadata": {},
     "output_type": "execute_result"
    }
   ],
   "source": [
    "df_2018.duplicated().sum()"
   ]
  },
  {
   "cell_type": "code",
   "execution_count": 46,
   "metadata": {},
   "outputs": [],
   "source": [
    "duplicates = df_2018[df_2018['og_nr'].duplicated()]"
   ]
  },
  {
   "cell_type": "code",
   "execution_count": 48,
   "metadata": {},
   "outputs": [
    {
     "data": {
      "text/plain": [
       "1399     1002.0\n",
       "951      2770.0\n",
       "970      2771.0\n",
       "909      2772.0\n",
       "1389     2773.0\n",
       "         ...   \n",
       "1379    19828.0\n",
       "1350    19829.0\n",
       "1433    19830.0\n",
       "320         NaN\n",
       "763         NaN\n",
       "Name: og_nr, Length: 1435, dtype: float64"
      ]
     },
     "execution_count": 48,
     "metadata": {},
     "output_type": "execute_result"
    }
   ],
   "source": [
    "df_2018['og_nr'].sort_values()"
   ]
  },
  {
   "cell_type": "code",
   "execution_count": 54,
   "metadata": {},
   "outputs": [
    {
     "data": {
      "text/html": [
       "<div>\n",
       "<style scoped>\n",
       "    .dataframe tbody tr th:only-of-type {\n",
       "        vertical-align: middle;\n",
       "    }\n",
       "\n",
       "    .dataframe tbody tr th {\n",
       "        vertical-align: top;\n",
       "    }\n",
       "\n",
       "    .dataframe thead th {\n",
       "        text-align: right;\n",
       "    }\n",
       "</style>\n",
       "<table border=\"1\" class=\"dataframe\">\n",
       "  <thead>\n",
       "    <tr style=\"text-align: right;\">\n",
       "      <th></th>\n",
       "      <th>id</th>\n",
       "      <th>entered_by</th>\n",
       "      <th>date_entered</th>\n",
       "      <th>date_inspected</th>\n",
       "      <th>area</th>\n",
       "      <th>lu_internal_inspector</th>\n",
       "      <th>date_of_birth</th>\n",
       "      <th>hh_under_5_years_female</th>\n",
       "      <th>hh_under_5_years_male</th>\n",
       "      <th>hh_5-17_years_female</th>\n",
       "      <th>...</th>\n",
       "      <th>hh_over_60_years_male</th>\n",
       "      <th>months_food_lasts</th>\n",
       "      <th>last_year_corrective_action</th>\n",
       "      <th>corrective_action_implemented</th>\n",
       "      <th>compliance_this_year</th>\n",
       "      <th>recurrent_corrective_actions</th>\n",
       "      <th>corrective_actions</th>\n",
       "      <th>compliance_this_year_ics</th>\n",
       "      <th>additional_sanctions_ics</th>\n",
       "      <th>overall_comment</th>\n",
       "    </tr>\n",
       "    <tr>\n",
       "      <th>og_nr</th>\n",
       "      <th></th>\n",
       "      <th></th>\n",
       "      <th></th>\n",
       "      <th></th>\n",
       "      <th></th>\n",
       "      <th></th>\n",
       "      <th></th>\n",
       "      <th></th>\n",
       "      <th></th>\n",
       "      <th></th>\n",
       "      <th></th>\n",
       "      <th></th>\n",
       "      <th></th>\n",
       "      <th></th>\n",
       "      <th></th>\n",
       "      <th></th>\n",
       "      <th></th>\n",
       "      <th></th>\n",
       "      <th></th>\n",
       "      <th></th>\n",
       "      <th></th>\n",
       "    </tr>\n",
       "  </thead>\n",
       "  <tbody>\n",
       "    <tr>\n",
       "      <th>13124.0</th>\n",
       "      <td>6</td>\n",
       "      <td>79.0</td>\n",
       "      <td>2018-05-03</td>\n",
       "      <td>2018-03-18</td>\n",
       "      <td>Mbire</td>\n",
       "      <td>Ungani</td>\n",
       "      <td>1957-09-09</td>\n",
       "      <td>0.0</td>\n",
       "      <td>0</td>\n",
       "      <td>1</td>\n",
       "      <td>...</td>\n",
       "      <td>0</td>\n",
       "      <td>9.0</td>\n",
       "      <td>None</td>\n",
       "      <td>5.0</td>\n",
       "      <td>To approve with corrective actions</td>\n",
       "      <td>None</td>\n",
       "      <td>To build storage and drier</td>\n",
       "      <td>Approved without conditions</td>\n",
       "      <td>To construct group storage and dyre</td>\n",
       "      <td>None</td>\n",
       "    </tr>\n",
       "    <tr>\n",
       "      <th>13125.0</th>\n",
       "      <td>7</td>\n",
       "      <td>79.0</td>\n",
       "      <td>2018-05-03</td>\n",
       "      <td>2018-03-18</td>\n",
       "      <td>Mbire</td>\n",
       "      <td>Mapfudzeni</td>\n",
       "      <td>1971-12-06</td>\n",
       "      <td>1.0</td>\n",
       "      <td>0</td>\n",
       "      <td>3</td>\n",
       "      <td>...</td>\n",
       "      <td>0</td>\n",
       "      <td>4.0</td>\n",
       "      <td>None</td>\n",
       "      <td>5.0</td>\n",
       "      <td>To approve in full</td>\n",
       "      <td>None</td>\n",
       "      <td>To construct organic storage</td>\n",
       "      <td>Approved without conditions</td>\n",
       "      <td>Construct organic drier and storage</td>\n",
       "      <td>None</td>\n",
       "    </tr>\n",
       "    <tr>\n",
       "      <th>13126.0</th>\n",
       "      <td>8</td>\n",
       "      <td>79.0</td>\n",
       "      <td>2018-05-03</td>\n",
       "      <td>2018-03-18</td>\n",
       "      <td>Mbire</td>\n",
       "      <td>Matope</td>\n",
       "      <td>1969-02-02</td>\n",
       "      <td>1.0</td>\n",
       "      <td>1</td>\n",
       "      <td>1</td>\n",
       "      <td>...</td>\n",
       "      <td>0</td>\n",
       "      <td>10.0</td>\n",
       "      <td>None</td>\n",
       "      <td>5.0</td>\n",
       "      <td>To approve in full</td>\n",
       "      <td>None</td>\n",
       "      <td>Construct organic dryer and storage</td>\n",
       "      <td>Approved without conditions</td>\n",
       "      <td>To construct group storage and dyre</td>\n",
       "      <td>None</td>\n",
       "    </tr>\n",
       "    <tr>\n",
       "      <th>13127.0</th>\n",
       "      <td>9</td>\n",
       "      <td>79.0</td>\n",
       "      <td>2018-05-03</td>\n",
       "      <td>1974-03-18</td>\n",
       "      <td>Mbire</td>\n",
       "      <td>Matope</td>\n",
       "      <td>1974-10-04</td>\n",
       "      <td>1.0</td>\n",
       "      <td>1</td>\n",
       "      <td>1</td>\n",
       "      <td>...</td>\n",
       "      <td>0</td>\n",
       "      <td>12.0</td>\n",
       "      <td>None</td>\n",
       "      <td>5.0</td>\n",
       "      <td>To approve with corrective actions</td>\n",
       "      <td>None</td>\n",
       "      <td>Construct organic dryer and storage</td>\n",
       "      <td>Approved without conditions</td>\n",
       "      <td>To construct group storage and dyre</td>\n",
       "      <td>None</td>\n",
       "    </tr>\n",
       "    <tr>\n",
       "      <th>13128.0</th>\n",
       "      <td>10</td>\n",
       "      <td>79.0</td>\n",
       "      <td>2018-05-03</td>\n",
       "      <td>2018-03-18</td>\n",
       "      <td>Mbire</td>\n",
       "      <td>Mapfudzeni</td>\n",
       "      <td>1975-05-17</td>\n",
       "      <td>0.0</td>\n",
       "      <td>0</td>\n",
       "      <td>0</td>\n",
       "      <td>...</td>\n",
       "      <td>0</td>\n",
       "      <td>6.0</td>\n",
       "      <td>None</td>\n",
       "      <td>5.0</td>\n",
       "      <td>To approve in full</td>\n",
       "      <td>None</td>\n",
       "      <td>Construct storage</td>\n",
       "      <td>Approved without conditions</td>\n",
       "      <td>Construct organic storage and drier</td>\n",
       "      <td>None</td>\n",
       "    </tr>\n",
       "    <tr>\n",
       "      <th>...</th>\n",
       "      <td>...</td>\n",
       "      <td>...</td>\n",
       "      <td>...</td>\n",
       "      <td>...</td>\n",
       "      <td>...</td>\n",
       "      <td>...</td>\n",
       "      <td>...</td>\n",
       "      <td>...</td>\n",
       "      <td>...</td>\n",
       "      <td>...</td>\n",
       "      <td>...</td>\n",
       "      <td>...</td>\n",
       "      <td>...</td>\n",
       "      <td>...</td>\n",
       "      <td>...</td>\n",
       "      <td>...</td>\n",
       "      <td>...</td>\n",
       "      <td>...</td>\n",
       "      <td>...</td>\n",
       "      <td>...</td>\n",
       "      <td>...</td>\n",
       "    </tr>\n",
       "    <tr>\n",
       "      <th>16230.0</th>\n",
       "      <td>1010</td>\n",
       "      <td>79.0</td>\n",
       "      <td>2018-11-12</td>\n",
       "      <td>2018-11-08</td>\n",
       "      <td>Makoni</td>\n",
       "      <td>Tendai</td>\n",
       "      <td>None</td>\n",
       "      <td>1.0</td>\n",
       "      <td>1</td>\n",
       "      <td>0</td>\n",
       "      <td>...</td>\n",
       "      <td>0</td>\n",
       "      <td>12.0</td>\n",
       "      <td>None</td>\n",
       "      <td>5.0</td>\n",
       "      <td>To approve in full</td>\n",
       "      <td>None</td>\n",
       "      <td>None</td>\n",
       "      <td>Approved without conditions</td>\n",
       "      <td>None</td>\n",
       "      <td>None</td>\n",
       "    </tr>\n",
       "    <tr>\n",
       "      <th>16236.0</th>\n",
       "      <td>1011</td>\n",
       "      <td>79.0</td>\n",
       "      <td>2018-11-12</td>\n",
       "      <td>2018-11-08</td>\n",
       "      <td>Makoni</td>\n",
       "      <td>Tendai</td>\n",
       "      <td>1969-06-10</td>\n",
       "      <td>1.0</td>\n",
       "      <td>1</td>\n",
       "      <td>1</td>\n",
       "      <td>...</td>\n",
       "      <td>0</td>\n",
       "      <td>12.0</td>\n",
       "      <td>None</td>\n",
       "      <td>5.0</td>\n",
       "      <td>To approve in full</td>\n",
       "      <td>None</td>\n",
       "      <td>None</td>\n",
       "      <td>Approved without conditions</td>\n",
       "      <td>None</td>\n",
       "      <td>None</td>\n",
       "    </tr>\n",
       "    <tr>\n",
       "      <th>16243.0</th>\n",
       "      <td>1012</td>\n",
       "      <td>79.0</td>\n",
       "      <td>2018-11-12</td>\n",
       "      <td>2018-11-08</td>\n",
       "      <td>Makoni</td>\n",
       "      <td>Tendai</td>\n",
       "      <td>None</td>\n",
       "      <td>0.0</td>\n",
       "      <td>1</td>\n",
       "      <td>1</td>\n",
       "      <td>...</td>\n",
       "      <td>0</td>\n",
       "      <td>12.0</td>\n",
       "      <td>None</td>\n",
       "      <td>5.0</td>\n",
       "      <td>To approve in full</td>\n",
       "      <td>None</td>\n",
       "      <td>None</td>\n",
       "      <td>Approved without conditions</td>\n",
       "      <td>None</td>\n",
       "      <td>None</td>\n",
       "    </tr>\n",
       "    <tr>\n",
       "      <th>19830.0</th>\n",
       "      <td>1013</td>\n",
       "      <td>79.0</td>\n",
       "      <td>2018-11-07</td>\n",
       "      <td>2020-09-22</td>\n",
       "      <td>Binga</td>\n",
       "      <td>Nyasha</td>\n",
       "      <td>1983-09-15</td>\n",
       "      <td>0.0</td>\n",
       "      <td>1</td>\n",
       "      <td>1</td>\n",
       "      <td>...</td>\n",
       "      <td>0</td>\n",
       "      <td>9.0</td>\n",
       "      <td>None</td>\n",
       "      <td>5.0</td>\n",
       "      <td>To approve with corrective actions</td>\n",
       "      <td>None</td>\n",
       "      <td>To implement ICS</td>\n",
       "      <td>Approved with conditions</td>\n",
       "      <td>To implement ICS</td>\n",
       "      <td>None</td>\n",
       "    </tr>\n",
       "    <tr>\n",
       "      <th>14116.0</th>\n",
       "      <td>1014</td>\n",
       "      <td>7.0</td>\n",
       "      <td>2018-11-14</td>\n",
       "      <td>1975-05-02</td>\n",
       "      <td>Binga</td>\n",
       "      <td>Norman</td>\n",
       "      <td>1975-05-02</td>\n",
       "      <td>0.0</td>\n",
       "      <td>0</td>\n",
       "      <td>0</td>\n",
       "      <td>...</td>\n",
       "      <td>0</td>\n",
       "      <td>4.0</td>\n",
       "      <td>None</td>\n",
       "      <td>5.0</td>\n",
       "      <td>To approve with corrective actions</td>\n",
       "      <td>None</td>\n",
       "      <td>None</td>\n",
       "      <td>Approved with conditions</td>\n",
       "      <td>None</td>\n",
       "      <td>None</td>\n",
       "    </tr>\n",
       "  </tbody>\n",
       "</table>\n",
       "<p>1004 rows × 24 columns</p>\n",
       "</div>"
      ],
      "text/plain": [
       "           id  entered_by date_entered date_inspected    area  \\\n",
       "og_nr                                                           \n",
       "13124.0     6        79.0   2018-05-03     2018-03-18   Mbire   \n",
       "13125.0     7        79.0   2018-05-03     2018-03-18   Mbire   \n",
       "13126.0     8        79.0   2018-05-03     2018-03-18   Mbire   \n",
       "13127.0     9        79.0   2018-05-03     1974-03-18   Mbire   \n",
       "13128.0    10        79.0   2018-05-03     2018-03-18   Mbire   \n",
       "...       ...         ...          ...            ...     ...   \n",
       "16230.0  1010        79.0   2018-11-12     2018-11-08  Makoni   \n",
       "16236.0  1011        79.0   2018-11-12     2018-11-08  Makoni   \n",
       "16243.0  1012        79.0   2018-11-12     2018-11-08  Makoni   \n",
       "19830.0  1013        79.0   2018-11-07     2020-09-22   Binga   \n",
       "14116.0  1014         7.0   2018-11-14     1975-05-02   Binga   \n",
       "\n",
       "        lu_internal_inspector date_of_birth  hh_under_5_years_female  \\\n",
       "og_nr                                                                  \n",
       "13124.0                Ungani    1957-09-09                      0.0   \n",
       "13125.0            Mapfudzeni    1971-12-06                      1.0   \n",
       "13126.0                Matope    1969-02-02                      1.0   \n",
       "13127.0                Matope    1974-10-04                      1.0   \n",
       "13128.0            Mapfudzeni    1975-05-17                      0.0   \n",
       "...                       ...           ...                      ...   \n",
       "16230.0                Tendai          None                      1.0   \n",
       "16236.0                Tendai    1969-06-10                      1.0   \n",
       "16243.0                Tendai          None                      0.0   \n",
       "19830.0                Nyasha    1983-09-15                      0.0   \n",
       "14116.0                Norman    1975-05-02                      0.0   \n",
       "\n",
       "         hh_under_5_years_male  hh_5-17_years_female  ...  \\\n",
       "og_nr                                                 ...   \n",
       "13124.0                      0                     1  ...   \n",
       "13125.0                      0                     3  ...   \n",
       "13126.0                      1                     1  ...   \n",
       "13127.0                      1                     1  ...   \n",
       "13128.0                      0                     0  ...   \n",
       "...                        ...                   ...  ...   \n",
       "16230.0                      1                     0  ...   \n",
       "16236.0                      1                     1  ...   \n",
       "16243.0                      1                     1  ...   \n",
       "19830.0                      1                     1  ...   \n",
       "14116.0                      0                     0  ...   \n",
       "\n",
       "         hh_over_60_years_male  months_food_lasts  \\\n",
       "og_nr                                               \n",
       "13124.0                      0                9.0   \n",
       "13125.0                      0                4.0   \n",
       "13126.0                      0               10.0   \n",
       "13127.0                      0               12.0   \n",
       "13128.0                      0                6.0   \n",
       "...                        ...                ...   \n",
       "16230.0                      0               12.0   \n",
       "16236.0                      0               12.0   \n",
       "16243.0                      0               12.0   \n",
       "19830.0                      0                9.0   \n",
       "14116.0                      0                4.0   \n",
       "\n",
       "         last_year_corrective_action  corrective_action_implemented  \\\n",
       "og_nr                                                                 \n",
       "13124.0                         None                            5.0   \n",
       "13125.0                         None                            5.0   \n",
       "13126.0                         None                            5.0   \n",
       "13127.0                         None                            5.0   \n",
       "13128.0                         None                            5.0   \n",
       "...                              ...                            ...   \n",
       "16230.0                         None                            5.0   \n",
       "16236.0                         None                            5.0   \n",
       "16243.0                         None                            5.0   \n",
       "19830.0                         None                            5.0   \n",
       "14116.0                         None                            5.0   \n",
       "\n",
       "                       compliance_this_year  recurrent_corrective_actions  \\\n",
       "og_nr                                                                       \n",
       "13124.0  To approve with corrective actions                          None   \n",
       "13125.0                  To approve in full                          None   \n",
       "13126.0                  To approve in full                          None   \n",
       "13127.0  To approve with corrective actions                          None   \n",
       "13128.0                  To approve in full                          None   \n",
       "...                                     ...                           ...   \n",
       "16230.0                  To approve in full                          None   \n",
       "16236.0                  To approve in full                          None   \n",
       "16243.0                  To approve in full                          None   \n",
       "19830.0  To approve with corrective actions                          None   \n",
       "14116.0  To approve with corrective actions                          None   \n",
       "\n",
       "                          corrective_actions     compliance_this_year_ics  \\\n",
       "og_nr                                                                       \n",
       "13124.0           To build storage and drier  Approved without conditions   \n",
       "13125.0         To construct organic storage  Approved without conditions   \n",
       "13126.0  Construct organic dryer and storage  Approved without conditions   \n",
       "13127.0  Construct organic dryer and storage  Approved without conditions   \n",
       "13128.0                    Construct storage  Approved without conditions   \n",
       "...                                      ...                          ...   \n",
       "16230.0                                 None  Approved without conditions   \n",
       "16236.0                                 None  Approved without conditions   \n",
       "16243.0                                 None  Approved without conditions   \n",
       "19830.0                     To implement ICS     Approved with conditions   \n",
       "14116.0                                 None     Approved with conditions   \n",
       "\n",
       "                    additional_sanctions_ics overall_comment  \n",
       "og_nr                                                         \n",
       "13124.0  To construct group storage and dyre            None  \n",
       "13125.0  Construct organic drier and storage            None  \n",
       "13126.0  To construct group storage and dyre            None  \n",
       "13127.0  To construct group storage and dyre            None  \n",
       "13128.0  Construct organic storage and drier            None  \n",
       "...                                      ...             ...  \n",
       "16230.0                                 None            None  \n",
       "16236.0                                 None            None  \n",
       "16243.0                                 None            None  \n",
       "19830.0                     To implement ICS            None  \n",
       "14116.0                                 None            None  \n",
       "\n",
       "[1004 rows x 24 columns]"
      ]
     },
     "execution_count": 54,
     "metadata": {},
     "output_type": "execute_result"
    }
   ],
   "source": [
    "df1.set_index('og_nr') #resetting index to be able to compare \n",
    "df3.set_index('og_nr')"
   ]
  },
  {
   "cell_type": "code",
   "execution_count": 56,
   "metadata": {},
   "outputs": [],
   "source": [
    "#drop id column as it leads to confusion\n",
    "\n",
    "df1.drop('id', axis=1, inplace=True)\n",
    "df3.drop('id', axis=1, inplace=True)"
   ]
  },
  {
   "cell_type": "code",
   "execution_count": 61,
   "metadata": {},
   "outputs": [],
   "source": [
    "df_2018 = pd.concat([df1, df3], ignore_index=True)"
   ]
  },
  {
   "cell_type": "code",
   "execution_count": 67,
   "metadata": {},
   "outputs": [
    {
     "data": {
      "text/html": [
       "<div>\n",
       "<style scoped>\n",
       "    .dataframe tbody tr th:only-of-type {\n",
       "        vertical-align: middle;\n",
       "    }\n",
       "\n",
       "    .dataframe tbody tr th {\n",
       "        vertical-align: top;\n",
       "    }\n",
       "\n",
       "    .dataframe thead th {\n",
       "        text-align: right;\n",
       "    }\n",
       "</style>\n",
       "<table border=\"1\" class=\"dataframe\">\n",
       "  <thead>\n",
       "    <tr style=\"text-align: right;\">\n",
       "      <th></th>\n",
       "      <th>entered_by</th>\n",
       "      <th>date_entered</th>\n",
       "      <th>og_nr</th>\n",
       "      <th>date_inspected</th>\n",
       "      <th>area</th>\n",
       "      <th>lu_internal_inspector</th>\n",
       "      <th>date_of_birth</th>\n",
       "      <th>hh_under_5_years_female</th>\n",
       "      <th>hh_under_5_years_male</th>\n",
       "      <th>hh_5-17_years_female</th>\n",
       "      <th>...</th>\n",
       "      <th>hh_over_60_years_male</th>\n",
       "      <th>months_food_lasts</th>\n",
       "      <th>last_year_corrective_action</th>\n",
       "      <th>corrective_action_implemented</th>\n",
       "      <th>compliance_this_year</th>\n",
       "      <th>recurrent_corrective_actions</th>\n",
       "      <th>corrective_actions</th>\n",
       "      <th>compliance_this_year_ics</th>\n",
       "      <th>additional_sanctions_ics</th>\n",
       "      <th>overall_comment</th>\n",
       "    </tr>\n",
       "  </thead>\n",
       "  <tbody>\n",
       "    <tr>\n",
       "      <th>0</th>\n",
       "      <td>79.0</td>\n",
       "      <td>2018-07-04</td>\n",
       "      <td>13647.0</td>\n",
       "      <td>2018-06-05</td>\n",
       "      <td>Karoi</td>\n",
       "      <td>Lunga</td>\n",
       "      <td>None</td>\n",
       "      <td>1.0</td>\n",
       "      <td>3</td>\n",
       "      <td>0</td>\n",
       "      <td>...</td>\n",
       "      <td>0</td>\n",
       "      <td>12.0</td>\n",
       "      <td>None</td>\n",
       "      <td>5.0</td>\n",
       "      <td>to be approved as non producer</td>\n",
       "      <td>None</td>\n",
       "      <td>None</td>\n",
       "      <td>None</td>\n",
       "      <td>None</td>\n",
       "      <td>None</td>\n",
       "    </tr>\n",
       "    <tr>\n",
       "      <th>1</th>\n",
       "      <td>79.0</td>\n",
       "      <td>2018-05-28</td>\n",
       "      <td>13475.0</td>\n",
       "      <td>2018-05-22</td>\n",
       "      <td>Triangle</td>\n",
       "      <td>Hoto M</td>\n",
       "      <td>1984-04-13</td>\n",
       "      <td>0.0</td>\n",
       "      <td>0</td>\n",
       "      <td>1</td>\n",
       "      <td>...</td>\n",
       "      <td>0</td>\n",
       "      <td>8.0</td>\n",
       "      <td>None</td>\n",
       "      <td>5.0</td>\n",
       "      <td>To approve with corrective actions</td>\n",
       "      <td>None</td>\n",
       "      <td>Improve hygiene</td>\n",
       "      <td>Approved without conditions</td>\n",
       "      <td>Improve hygiene</td>\n",
       "      <td>None</td>\n",
       "    </tr>\n",
       "    <tr>\n",
       "      <th>2</th>\n",
       "      <td>79.0</td>\n",
       "      <td>2018-05-29</td>\n",
       "      <td>13371.0</td>\n",
       "      <td>2018-05-21</td>\n",
       "      <td>Triangle</td>\n",
       "      <td>Hoto M</td>\n",
       "      <td>1956-07-06</td>\n",
       "      <td>4.0</td>\n",
       "      <td>0</td>\n",
       "      <td>4</td>\n",
       "      <td>...</td>\n",
       "      <td>1</td>\n",
       "      <td>9.0</td>\n",
       "      <td>None</td>\n",
       "      <td>5.0</td>\n",
       "      <td>To approve with corrective actions</td>\n",
       "      <td>None</td>\n",
       "      <td>Improve buffer zone</td>\n",
       "      <td>Approved without conditions</td>\n",
       "      <td>Improve buffer zone</td>\n",
       "      <td>None</td>\n",
       "    </tr>\n",
       "    <tr>\n",
       "      <th>3</th>\n",
       "      <td>79.0</td>\n",
       "      <td>2018-06-01</td>\n",
       "      <td>13659.0</td>\n",
       "      <td>2018-05-24</td>\n",
       "      <td>Karoi</td>\n",
       "      <td>Kundishora</td>\n",
       "      <td>None</td>\n",
       "      <td>2.0</td>\n",
       "      <td>2</td>\n",
       "      <td>0</td>\n",
       "      <td>...</td>\n",
       "      <td>0</td>\n",
       "      <td>12.0</td>\n",
       "      <td>None</td>\n",
       "      <td>5.0</td>\n",
       "      <td>To approve in full</td>\n",
       "      <td>None</td>\n",
       "      <td>To construct storage</td>\n",
       "      <td>Approved without conditions</td>\n",
       "      <td>Construct storage</td>\n",
       "      <td>None</td>\n",
       "    </tr>\n",
       "    <tr>\n",
       "      <th>4</th>\n",
       "      <td>79.0</td>\n",
       "      <td>2018-06-01</td>\n",
       "      <td>13686.0</td>\n",
       "      <td>2018-05-23</td>\n",
       "      <td>Karoi</td>\n",
       "      <td>Kundishora</td>\n",
       "      <td>None</td>\n",
       "      <td>0.0</td>\n",
       "      <td>1</td>\n",
       "      <td>0</td>\n",
       "      <td>...</td>\n",
       "      <td>1</td>\n",
       "      <td>6.0</td>\n",
       "      <td>None</td>\n",
       "      <td>5.0</td>\n",
       "      <td>To approve in full</td>\n",
       "      <td>None</td>\n",
       "      <td>To construct storage</td>\n",
       "      <td>Approved without conditions</td>\n",
       "      <td>To construct storage</td>\n",
       "      <td>None</td>\n",
       "    </tr>\n",
       "    <tr>\n",
       "      <th>...</th>\n",
       "      <td>...</td>\n",
       "      <td>...</td>\n",
       "      <td>...</td>\n",
       "      <td>...</td>\n",
       "      <td>...</td>\n",
       "      <td>...</td>\n",
       "      <td>...</td>\n",
       "      <td>...</td>\n",
       "      <td>...</td>\n",
       "      <td>...</td>\n",
       "      <td>...</td>\n",
       "      <td>...</td>\n",
       "      <td>...</td>\n",
       "      <td>...</td>\n",
       "      <td>...</td>\n",
       "      <td>...</td>\n",
       "      <td>...</td>\n",
       "      <td>...</td>\n",
       "      <td>...</td>\n",
       "      <td>...</td>\n",
       "      <td>...</td>\n",
       "    </tr>\n",
       "    <tr>\n",
       "      <th>1430</th>\n",
       "      <td>79.0</td>\n",
       "      <td>2018-11-12</td>\n",
       "      <td>16230.0</td>\n",
       "      <td>2018-11-08</td>\n",
       "      <td>Makoni</td>\n",
       "      <td>Tendai</td>\n",
       "      <td>None</td>\n",
       "      <td>1.0</td>\n",
       "      <td>1</td>\n",
       "      <td>0</td>\n",
       "      <td>...</td>\n",
       "      <td>0</td>\n",
       "      <td>12.0</td>\n",
       "      <td>None</td>\n",
       "      <td>5.0</td>\n",
       "      <td>To approve in full</td>\n",
       "      <td>None</td>\n",
       "      <td>None</td>\n",
       "      <td>Approved without conditions</td>\n",
       "      <td>None</td>\n",
       "      <td>None</td>\n",
       "    </tr>\n",
       "    <tr>\n",
       "      <th>1431</th>\n",
       "      <td>79.0</td>\n",
       "      <td>2018-11-12</td>\n",
       "      <td>16236.0</td>\n",
       "      <td>2018-11-08</td>\n",
       "      <td>Makoni</td>\n",
       "      <td>Tendai</td>\n",
       "      <td>1969-06-10</td>\n",
       "      <td>1.0</td>\n",
       "      <td>1</td>\n",
       "      <td>1</td>\n",
       "      <td>...</td>\n",
       "      <td>0</td>\n",
       "      <td>12.0</td>\n",
       "      <td>None</td>\n",
       "      <td>5.0</td>\n",
       "      <td>To approve in full</td>\n",
       "      <td>None</td>\n",
       "      <td>None</td>\n",
       "      <td>Approved without conditions</td>\n",
       "      <td>None</td>\n",
       "      <td>None</td>\n",
       "    </tr>\n",
       "    <tr>\n",
       "      <th>1432</th>\n",
       "      <td>79.0</td>\n",
       "      <td>2018-11-12</td>\n",
       "      <td>16243.0</td>\n",
       "      <td>2018-11-08</td>\n",
       "      <td>Makoni</td>\n",
       "      <td>Tendai</td>\n",
       "      <td>None</td>\n",
       "      <td>0.0</td>\n",
       "      <td>1</td>\n",
       "      <td>1</td>\n",
       "      <td>...</td>\n",
       "      <td>0</td>\n",
       "      <td>12.0</td>\n",
       "      <td>None</td>\n",
       "      <td>5.0</td>\n",
       "      <td>To approve in full</td>\n",
       "      <td>None</td>\n",
       "      <td>None</td>\n",
       "      <td>Approved without conditions</td>\n",
       "      <td>None</td>\n",
       "      <td>None</td>\n",
       "    </tr>\n",
       "    <tr>\n",
       "      <th>1433</th>\n",
       "      <td>79.0</td>\n",
       "      <td>2018-11-07</td>\n",
       "      <td>19830.0</td>\n",
       "      <td>2020-09-22</td>\n",
       "      <td>Binga</td>\n",
       "      <td>Nyasha</td>\n",
       "      <td>1983-09-15</td>\n",
       "      <td>0.0</td>\n",
       "      <td>1</td>\n",
       "      <td>1</td>\n",
       "      <td>...</td>\n",
       "      <td>0</td>\n",
       "      <td>9.0</td>\n",
       "      <td>None</td>\n",
       "      <td>5.0</td>\n",
       "      <td>To approve with corrective actions</td>\n",
       "      <td>None</td>\n",
       "      <td>To implement ICS</td>\n",
       "      <td>Approved with conditions</td>\n",
       "      <td>To implement ICS</td>\n",
       "      <td>None</td>\n",
       "    </tr>\n",
       "    <tr>\n",
       "      <th>1434</th>\n",
       "      <td>7.0</td>\n",
       "      <td>2018-11-14</td>\n",
       "      <td>14116.0</td>\n",
       "      <td>1975-05-02</td>\n",
       "      <td>Binga</td>\n",
       "      <td>Norman</td>\n",
       "      <td>1975-05-02</td>\n",
       "      <td>0.0</td>\n",
       "      <td>0</td>\n",
       "      <td>0</td>\n",
       "      <td>...</td>\n",
       "      <td>0</td>\n",
       "      <td>4.0</td>\n",
       "      <td>None</td>\n",
       "      <td>5.0</td>\n",
       "      <td>To approve with corrective actions</td>\n",
       "      <td>None</td>\n",
       "      <td>None</td>\n",
       "      <td>Approved with conditions</td>\n",
       "      <td>None</td>\n",
       "      <td>None</td>\n",
       "    </tr>\n",
       "  </tbody>\n",
       "</table>\n",
       "<p>1004 rows × 24 columns</p>\n",
       "</div>"
      ],
      "text/plain": [
       "      entered_by date_entered    og_nr date_inspected      area  \\\n",
       "0           79.0   2018-07-04  13647.0     2018-06-05     Karoi   \n",
       "1           79.0   2018-05-28  13475.0     2018-05-22  Triangle   \n",
       "2           79.0   2018-05-29  13371.0     2018-05-21  Triangle   \n",
       "3           79.0   2018-06-01  13659.0     2018-05-24     Karoi   \n",
       "4           79.0   2018-06-01  13686.0     2018-05-23     Karoi   \n",
       "...          ...          ...      ...            ...       ...   \n",
       "1430        79.0   2018-11-12  16230.0     2018-11-08    Makoni   \n",
       "1431        79.0   2018-11-12  16236.0     2018-11-08    Makoni   \n",
       "1432        79.0   2018-11-12  16243.0     2018-11-08    Makoni   \n",
       "1433        79.0   2018-11-07  19830.0     2020-09-22     Binga   \n",
       "1434         7.0   2018-11-14  14116.0     1975-05-02     Binga   \n",
       "\n",
       "     lu_internal_inspector date_of_birth  hh_under_5_years_female  \\\n",
       "0                    Lunga          None                      1.0   \n",
       "1                   Hoto M    1984-04-13                      0.0   \n",
       "2                   Hoto M    1956-07-06                      4.0   \n",
       "3               Kundishora          None                      2.0   \n",
       "4               Kundishora          None                      0.0   \n",
       "...                    ...           ...                      ...   \n",
       "1430                Tendai          None                      1.0   \n",
       "1431                Tendai    1969-06-10                      1.0   \n",
       "1432                Tendai          None                      0.0   \n",
       "1433                Nyasha    1983-09-15                      0.0   \n",
       "1434                Norman    1975-05-02                      0.0   \n",
       "\n",
       "      hh_under_5_years_male  hh_5-17_years_female  ...  hh_over_60_years_male  \\\n",
       "0                         3                     0  ...                      0   \n",
       "1                         0                     1  ...                      0   \n",
       "2                         0                     4  ...                      1   \n",
       "3                         2                     0  ...                      0   \n",
       "4                         1                     0  ...                      1   \n",
       "...                     ...                   ...  ...                    ...   \n",
       "1430                      1                     0  ...                      0   \n",
       "1431                      1                     1  ...                      0   \n",
       "1432                      1                     1  ...                      0   \n",
       "1433                      1                     1  ...                      0   \n",
       "1434                      0                     0  ...                      0   \n",
       "\n",
       "      months_food_lasts  last_year_corrective_action  \\\n",
       "0                  12.0                         None   \n",
       "1                   8.0                         None   \n",
       "2                   9.0                         None   \n",
       "3                  12.0                         None   \n",
       "4                   6.0                         None   \n",
       "...                 ...                          ...   \n",
       "1430               12.0                         None   \n",
       "1431               12.0                         None   \n",
       "1432               12.0                         None   \n",
       "1433                9.0                         None   \n",
       "1434                4.0                         None   \n",
       "\n",
       "      corrective_action_implemented                compliance_this_year  \\\n",
       "0                               5.0      to be approved as non producer   \n",
       "1                               5.0  To approve with corrective actions   \n",
       "2                               5.0  To approve with corrective actions   \n",
       "3                               5.0                  To approve in full   \n",
       "4                               5.0                  To approve in full   \n",
       "...                             ...                                 ...   \n",
       "1430                            5.0                  To approve in full   \n",
       "1431                            5.0                  To approve in full   \n",
       "1432                            5.0                  To approve in full   \n",
       "1433                            5.0  To approve with corrective actions   \n",
       "1434                            5.0  To approve with corrective actions   \n",
       "\n",
       "      recurrent_corrective_actions    corrective_actions  \\\n",
       "0                             None                  None   \n",
       "1                             None       Improve hygiene   \n",
       "2                             None   Improve buffer zone   \n",
       "3                             None  To construct storage   \n",
       "4                             None  To construct storage   \n",
       "...                            ...                   ...   \n",
       "1430                          None                  None   \n",
       "1431                          None                  None   \n",
       "1432                          None                  None   \n",
       "1433                          None      To implement ICS   \n",
       "1434                          None                  None   \n",
       "\n",
       "         compliance_this_year_ics additional_sanctions_ics overall_comment  \n",
       "0                            None                     None            None  \n",
       "1     Approved without conditions          Improve hygiene            None  \n",
       "2     Approved without conditions      Improve buffer zone            None  \n",
       "3     Approved without conditions        Construct storage            None  \n",
       "4     Approved without conditions     To construct storage            None  \n",
       "...                           ...                      ...             ...  \n",
       "1430  Approved without conditions                     None            None  \n",
       "1431  Approved without conditions                     None            None  \n",
       "1432  Approved without conditions                     None            None  \n",
       "1433     Approved with conditions         To implement ICS            None  \n",
       "1434     Approved with conditions                     None            None  \n",
       "\n",
       "[1004 rows x 24 columns]"
      ]
     },
     "execution_count": 67,
     "metadata": {},
     "output_type": "execute_result"
    }
   ],
   "source": [
    "df_2018.drop_duplicates()"
   ]
  },
  {
   "cell_type": "code",
   "execution_count": 70,
   "metadata": {},
   "outputs": [
    {
     "data": {
      "text/html": [
       "<div>\n",
       "<style scoped>\n",
       "    .dataframe tbody tr th:only-of-type {\n",
       "        vertical-align: middle;\n",
       "    }\n",
       "\n",
       "    .dataframe tbody tr th {\n",
       "        vertical-align: top;\n",
       "    }\n",
       "\n",
       "    .dataframe thead th {\n",
       "        text-align: right;\n",
       "    }\n",
       "</style>\n",
       "<table border=\"1\" class=\"dataframe\">\n",
       "  <thead>\n",
       "    <tr style=\"text-align: right;\">\n",
       "      <th></th>\n",
       "      <th>date_entered</th>\n",
       "      <th>og_nr</th>\n",
       "      <th>date_inspected</th>\n",
       "      <th>area</th>\n",
       "      <th>date_of_birth</th>\n",
       "      <th>hh_under_5_years_female</th>\n",
       "      <th>hh_under_5_years_male</th>\n",
       "      <th>hh_5-17_years_female</th>\n",
       "      <th>hh_5-17_years_male</th>\n",
       "      <th>hh_18-59_years_female</th>\n",
       "      <th>hh_18-59_years_male</th>\n",
       "      <th>hh_over_60_years_female</th>\n",
       "      <th>hh_over_60_years_male</th>\n",
       "      <th>months_food_lasts</th>\n",
       "    </tr>\n",
       "  </thead>\n",
       "  <tbody>\n",
       "    <tr>\n",
       "      <th>0</th>\n",
       "      <td>2018-07-04</td>\n",
       "      <td>13647.0</td>\n",
       "      <td>2018-06-05</td>\n",
       "      <td>Karoi</td>\n",
       "      <td>None</td>\n",
       "      <td>1.0</td>\n",
       "      <td>3</td>\n",
       "      <td>0</td>\n",
       "      <td>1</td>\n",
       "      <td>1</td>\n",
       "      <td>2</td>\n",
       "      <td>0</td>\n",
       "      <td>0</td>\n",
       "      <td>12.0</td>\n",
       "    </tr>\n",
       "    <tr>\n",
       "      <th>1</th>\n",
       "      <td>2018-05-28</td>\n",
       "      <td>13475.0</td>\n",
       "      <td>2018-05-22</td>\n",
       "      <td>Triangle</td>\n",
       "      <td>1984-04-13</td>\n",
       "      <td>0.0</td>\n",
       "      <td>0</td>\n",
       "      <td>1</td>\n",
       "      <td>1</td>\n",
       "      <td>0</td>\n",
       "      <td>0</td>\n",
       "      <td>1</td>\n",
       "      <td>0</td>\n",
       "      <td>8.0</td>\n",
       "    </tr>\n",
       "    <tr>\n",
       "      <th>2</th>\n",
       "      <td>2018-05-29</td>\n",
       "      <td>13371.0</td>\n",
       "      <td>2018-05-21</td>\n",
       "      <td>Triangle</td>\n",
       "      <td>1956-07-06</td>\n",
       "      <td>4.0</td>\n",
       "      <td>0</td>\n",
       "      <td>4</td>\n",
       "      <td>0</td>\n",
       "      <td>5</td>\n",
       "      <td>2</td>\n",
       "      <td>0</td>\n",
       "      <td>1</td>\n",
       "      <td>9.0</td>\n",
       "    </tr>\n",
       "    <tr>\n",
       "      <th>3</th>\n",
       "      <td>2018-06-01</td>\n",
       "      <td>13659.0</td>\n",
       "      <td>2018-05-24</td>\n",
       "      <td>Karoi</td>\n",
       "      <td>None</td>\n",
       "      <td>2.0</td>\n",
       "      <td>2</td>\n",
       "      <td>0</td>\n",
       "      <td>0</td>\n",
       "      <td>2</td>\n",
       "      <td>2</td>\n",
       "      <td>0</td>\n",
       "      <td>0</td>\n",
       "      <td>12.0</td>\n",
       "    </tr>\n",
       "    <tr>\n",
       "      <th>4</th>\n",
       "      <td>2018-06-01</td>\n",
       "      <td>13686.0</td>\n",
       "      <td>2018-05-23</td>\n",
       "      <td>Karoi</td>\n",
       "      <td>None</td>\n",
       "      <td>0.0</td>\n",
       "      <td>1</td>\n",
       "      <td>0</td>\n",
       "      <td>2</td>\n",
       "      <td>0</td>\n",
       "      <td>2</td>\n",
       "      <td>1</td>\n",
       "      <td>1</td>\n",
       "      <td>6.0</td>\n",
       "    </tr>\n",
       "    <tr>\n",
       "      <th>...</th>\n",
       "      <td>...</td>\n",
       "      <td>...</td>\n",
       "      <td>...</td>\n",
       "      <td>...</td>\n",
       "      <td>...</td>\n",
       "      <td>...</td>\n",
       "      <td>...</td>\n",
       "      <td>...</td>\n",
       "      <td>...</td>\n",
       "      <td>...</td>\n",
       "      <td>...</td>\n",
       "      <td>...</td>\n",
       "      <td>...</td>\n",
       "      <td>...</td>\n",
       "    </tr>\n",
       "    <tr>\n",
       "      <th>1430</th>\n",
       "      <td>2018-11-12</td>\n",
       "      <td>16230.0</td>\n",
       "      <td>2018-11-08</td>\n",
       "      <td>Makoni</td>\n",
       "      <td>None</td>\n",
       "      <td>1.0</td>\n",
       "      <td>1</td>\n",
       "      <td>0</td>\n",
       "      <td>0</td>\n",
       "      <td>1</td>\n",
       "      <td>1</td>\n",
       "      <td>0</td>\n",
       "      <td>0</td>\n",
       "      <td>12.0</td>\n",
       "    </tr>\n",
       "    <tr>\n",
       "      <th>1431</th>\n",
       "      <td>2018-11-12</td>\n",
       "      <td>16236.0</td>\n",
       "      <td>2018-11-08</td>\n",
       "      <td>Makoni</td>\n",
       "      <td>1969-06-10</td>\n",
       "      <td>1.0</td>\n",
       "      <td>1</td>\n",
       "      <td>1</td>\n",
       "      <td>1</td>\n",
       "      <td>2</td>\n",
       "      <td>4</td>\n",
       "      <td>0</td>\n",
       "      <td>0</td>\n",
       "      <td>12.0</td>\n",
       "    </tr>\n",
       "    <tr>\n",
       "      <th>1432</th>\n",
       "      <td>2018-11-12</td>\n",
       "      <td>16243.0</td>\n",
       "      <td>2018-11-08</td>\n",
       "      <td>Makoni</td>\n",
       "      <td>None</td>\n",
       "      <td>0.0</td>\n",
       "      <td>1</td>\n",
       "      <td>1</td>\n",
       "      <td>1</td>\n",
       "      <td>1</td>\n",
       "      <td>3</td>\n",
       "      <td>0</td>\n",
       "      <td>0</td>\n",
       "      <td>12.0</td>\n",
       "    </tr>\n",
       "    <tr>\n",
       "      <th>1433</th>\n",
       "      <td>2018-11-07</td>\n",
       "      <td>19830.0</td>\n",
       "      <td>2020-09-22</td>\n",
       "      <td>Binga</td>\n",
       "      <td>1983-09-15</td>\n",
       "      <td>0.0</td>\n",
       "      <td>1</td>\n",
       "      <td>1</td>\n",
       "      <td>0</td>\n",
       "      <td>1</td>\n",
       "      <td>1</td>\n",
       "      <td>0</td>\n",
       "      <td>0</td>\n",
       "      <td>9.0</td>\n",
       "    </tr>\n",
       "    <tr>\n",
       "      <th>1434</th>\n",
       "      <td>2018-11-14</td>\n",
       "      <td>14116.0</td>\n",
       "      <td>1975-05-02</td>\n",
       "      <td>Binga</td>\n",
       "      <td>1975-05-02</td>\n",
       "      <td>0.0</td>\n",
       "      <td>0</td>\n",
       "      <td>0</td>\n",
       "      <td>1</td>\n",
       "      <td>1</td>\n",
       "      <td>1</td>\n",
       "      <td>0</td>\n",
       "      <td>0</td>\n",
       "      <td>4.0</td>\n",
       "    </tr>\n",
       "  </tbody>\n",
       "</table>\n",
       "<p>1435 rows × 14 columns</p>\n",
       "</div>"
      ],
      "text/plain": [
       "     date_entered    og_nr date_inspected      area date_of_birth  \\\n",
       "0      2018-07-04  13647.0     2018-06-05     Karoi          None   \n",
       "1      2018-05-28  13475.0     2018-05-22  Triangle    1984-04-13   \n",
       "2      2018-05-29  13371.0     2018-05-21  Triangle    1956-07-06   \n",
       "3      2018-06-01  13659.0     2018-05-24     Karoi          None   \n",
       "4      2018-06-01  13686.0     2018-05-23     Karoi          None   \n",
       "...           ...      ...            ...       ...           ...   \n",
       "1430   2018-11-12  16230.0     2018-11-08    Makoni          None   \n",
       "1431   2018-11-12  16236.0     2018-11-08    Makoni    1969-06-10   \n",
       "1432   2018-11-12  16243.0     2018-11-08    Makoni          None   \n",
       "1433   2018-11-07  19830.0     2020-09-22     Binga    1983-09-15   \n",
       "1434   2018-11-14  14116.0     1975-05-02     Binga    1975-05-02   \n",
       "\n",
       "      hh_under_5_years_female  hh_under_5_years_male  hh_5-17_years_female  \\\n",
       "0                         1.0                      3                     0   \n",
       "1                         0.0                      0                     1   \n",
       "2                         4.0                      0                     4   \n",
       "3                         2.0                      2                     0   \n",
       "4                         0.0                      1                     0   \n",
       "...                       ...                    ...                   ...   \n",
       "1430                      1.0                      1                     0   \n",
       "1431                      1.0                      1                     1   \n",
       "1432                      0.0                      1                     1   \n",
       "1433                      0.0                      1                     1   \n",
       "1434                      0.0                      0                     0   \n",
       "\n",
       "      hh_5-17_years_male  hh_18-59_years_female  hh_18-59_years_male  \\\n",
       "0                      1                      1                    2   \n",
       "1                      1                      0                    0   \n",
       "2                      0                      5                    2   \n",
       "3                      0                      2                    2   \n",
       "4                      2                      0                    2   \n",
       "...                  ...                    ...                  ...   \n",
       "1430                   0                      1                    1   \n",
       "1431                   1                      2                    4   \n",
       "1432                   1                      1                    3   \n",
       "1433                   0                      1                    1   \n",
       "1434                   1                      1                    1   \n",
       "\n",
       "      hh_over_60_years_female  hh_over_60_years_male  months_food_lasts  \n",
       "0                           0                      0               12.0  \n",
       "1                           1                      0                8.0  \n",
       "2                           0                      1                9.0  \n",
       "3                           0                      0               12.0  \n",
       "4                           1                      1                6.0  \n",
       "...                       ...                    ...                ...  \n",
       "1430                        0                      0               12.0  \n",
       "1431                        0                      0               12.0  \n",
       "1432                        0                      0               12.0  \n",
       "1433                        0                      0                9.0  \n",
       "1434                        0                      0                4.0  \n",
       "\n",
       "[1435 rows x 14 columns]"
      ]
     },
     "metadata": {},
     "output_type": "display_data"
    }
   ],
   "source": [
    "# Drop multiple columns 2\n",
    "columns_to_drop = ['entered_by', 'lu_internal_inspector','last_year_corrective_action','corrective_action_implemented','compliance_this_year','recurrent_corrective_actions','corrective_actions','additional_sanctions_ics','compliance_this_year_ics','overall_comment']\n",
    "df_2018.drop(columns=columns_to_drop, axis=1, inplace=True)\n",
    "\n",
    "\n",
    "\n",
    "\n",
    "\n",
    "from IPython.display import display\n",
    "# Display the merged DataFrame as a table\n",
    "display(df_2018)"
   ]
  },
  {
   "cell_type": "code",
   "execution_count": 72,
   "metadata": {},
   "outputs": [
    {
     "name": "stdout",
     "output_type": "stream",
     "text": [
      "The all_insp_2018 table was imported successfully.\n"
     ]
    }
   ],
   "source": [
    "import psycopg2\n",
    "import sqlalchemy \n",
    "from sql_functions import sqlalchemy \n",
    "from sql_functions import get_engine \n",
    "\n",
    "\n",
    "# Write records stored in a dataframe to SQL database\n",
    "engine = get_engine()\n",
    "table_name = 'all_insp_2018'\n",
    "if engine!=None:\n",
    "    try:\n",
    "        df_2018.to_sql(name='all_insp_2018', # Name of SQL table variable - at the front its the dataframe!! \n",
    "                        con=engine, # Engine or connection\n",
    "                        schema='organic_africa', # your class schema variable\n",
    "                        if_exists='replace', # Drop the table before inserting new values \n",
    "                        index=False, # Write DataFrame index as a column\n",
    "                        chunksize=5000, # Specify the number of rows in each batch to be written at a time\n",
    "                        method='multi') # Pass multiple values in a single INSERT clause\n",
    "        print(f\"The {table_name} table was imported successfully.\")\n",
    "    # Error handling\n",
    "    except (Exception, psycopg2.DatabaseError) as error:\n",
    "        print(error)\n",
    "        engine = None\n",
    "else:\n",
    "    print('No engine')"
   ]
  }
 ],
 "metadata": {
  "kernelspec": {
   "display_name": "nf_sql",
   "language": "python",
   "name": "python3"
  },
  "language_info": {
   "codemirror_mode": {
    "name": "ipython",
    "version": 3
   },
   "file_extension": ".py",
   "mimetype": "text/x-python",
   "name": "python",
   "nbconvert_exporter": "python",
   "pygments_lexer": "ipython3",
   "version": "3.9.16"
  },
  "orig_nbformat": 4
 },
 "nbformat": 4,
 "nbformat_minor": 2
}
