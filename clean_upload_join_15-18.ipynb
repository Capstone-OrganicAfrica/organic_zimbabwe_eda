{
 "cells": [
  {
   "attachments": {},
   "cell_type": "markdown",
   "metadata": {},
   "source": [
    "## We are looking to create one big inspection table from 2015-2018. \n",
    "\n",
    "Lets import the 2015-2018 tables. First we import as a set, to then clean in terms of needed columns, datatypes and dates, and then concat.  "
   ]
  },
  {
   "cell_type": "code",
   "execution_count": 2,
   "metadata": {},
   "outputs": [],
   "source": [
    "import pandas as pd\n",
    "import psycopg2\n",
    "import sql_functions as sf \n",
    "schema = 'organic_africa' # UPDATE 'TABLE_SCHEMA' based on schema used in class \n",
    "engine = sf.get_engine()\n",
    "    \n",
    "all_insp = {}\n",
    "\n",
    "all_insp['og2015_1'] = sf.get_dataframe(f'SELECT * FROM {schema}.\"OGInsp2015__OGMB_1\"')\n",
    "all_insp['og2016_1'] = sf.get_dataframe(f'SELECT * FROM {schema}.\"OGInsp2016__OGMB_1\"')\n",
    "all_insp['og2015_2'] = sf.get_dataframe(f'SELECT * FROM {schema}.\"OG_Insp_2015__OGOrg_1\"') \n",
    "all_insp['og2016_2'] = sf.get_dataframe(f'SELECT * FROM {schema}.\"OG_Insp_2016__OGOrg_1\"')\n",
    "all_insp['og2017_1'] = sf.get_dataframe(f'SELECT * FROM {schema}.\"OG_Insp_2017__OGOrg_1\"')\n",
    "all_insp['all2018'] = sf.get_dataframe(f'SELECT * FROM {schema}.\"all_insp_2018\"')\n",
    "all_insp['wc2015_1'] = sf.get_dataframe(f'SELECT * FROM {schema}.\"wc_insp_2015__WCOrg_1\"')\n",
    "all_insp['wc2016_1'] = sf.get_dataframe(f'SELECT * FROM {schema}.\"wc_insp_2016__WCOrg_1\"')\n",
    "all_insp['wc2016_2'] = sf.get_dataframe(f'SELECT * FROM {schema}.\"wc_insp_2016_bayoba_1\"')\n",
    "all_insp['wc2017_1'] = sf.get_dataframe(f'SELECT * FROM {schema}.\"wc_insp_2017__WCOrg_1\"')\n",
    "all_insp['wc2017_2'] = sf.get_dataframe(f'SELECT * FROM {schema}.\"wc_insp_2017_bayoba_1\"')\n"
   ]
  },
  {
   "cell_type": "code",
   "execution_count": 3,
   "metadata": {},
   "outputs": [
    {
     "data": {
      "text/plain": [
       "Index(['Recurrent_sanctions', 'Sanctions'], dtype='object')"
      ]
     },
     "execution_count": 3,
     "metadata": {},
     "output_type": "execute_result"
    }
   ],
   "source": [
    "##lets have a look at the differences in columns, like this-_ all_insp['all_insp_2019'].columns.difference(all_insp['all_insp_2020'].columns)\n",
    "\n",
    "\n",
    "all_insp['og2015_1'].columns.difference(all_insp['og2016_1'].columns)"
   ]
  },
  {
   "cell_type": "code",
   "execution_count": 4,
   "metadata": {},
   "outputs": [
    {
     "data": {
      "text/plain": [
       "['ID',\n",
       " 'Entered_by',\n",
       " 'Date_entered',\n",
       " 'OG_Nr',\n",
       " 'Date_inspected',\n",
       " 'Internal_Inspector',\n",
       " 'Date_of_birth',\n",
       " 'HH_under_5_years_female',\n",
       " 'HH_under_5_years_male',\n",
       " 'HH_5-17_years_female',\n",
       " 'HH_5-17_years_male',\n",
       " 'HH_18-59_years_female',\n",
       " 'HH_18-59_years_male',\n",
       " 'HH_over_60_years_female',\n",
       " 'HH_over_60_years_male',\n",
       " 'Months_food_lasts',\n",
       " 'Compliance_this_year',\n",
       " 'Recurrent_sanctions',\n",
       " 'Sanctions',\n",
       " 'Compliance_this_year_ICS',\n",
       " 'Additional_sanctions_ICS',\n",
       " 'Overall_comment']"
      ]
     },
     "execution_count": 4,
     "metadata": {},
     "output_type": "execute_result"
    }
   ],
   "source": [
    "all_insp['og2015_1'].columns.tolist()"
   ]
  },
  {
   "cell_type": "code",
   "execution_count": 5,
   "metadata": {},
   "outputs": [],
   "source": [
    "all_insp['og2015_1'] = all_insp['og2015_1'].drop('Sanctions', axis=1)\n",
    "all_insp['og2015_1'] = all_insp['og2015_1'].drop('Recurrent_sanctions', axis=1)"
   ]
  },
  {
   "cell_type": "code",
   "execution_count": 6,
   "metadata": {},
   "outputs": [],
   "source": [
    "all_insp['og2015_1'] = all_insp['og2015_1'].drop('Compliance_this_year_ICS', axis=1)\n",
    "all_insp['og2015_1'] = all_insp['og2015_1'].drop('Additional_sanctions_ICS', axis=1)\n",
    "all_insp['og2015_1'] = all_insp['og2015_1'].drop('Compliance_this_year', axis=1)\n",
    "all_insp['og2015_1'] = all_insp['og2015_1'].drop('Overall_comment', axis=1)"
   ]
  },
  {
   "cell_type": "code",
   "execution_count": 7,
   "metadata": {},
   "outputs": [
    {
     "data": {
      "text/plain": [
       "['ID',\n",
       " 'Entered_by',\n",
       " 'Date_entered',\n",
       " 'OG_Nr',\n",
       " 'Date_inspected',\n",
       " 'Internal_Inspector',\n",
       " 'Date_of_birth',\n",
       " 'HH_under_5_years_female',\n",
       " 'HH_under_5_years_male',\n",
       " 'HH_5-17_years_female',\n",
       " 'HH_5-17_years_male',\n",
       " 'HH_18-59_years_female',\n",
       " 'HH_18-59_years_male',\n",
       " 'HH_over_60_years_female',\n",
       " 'HH_over_60_years_male',\n",
       " 'Months_food_lasts',\n",
       " 'Compliance_this_year',\n",
       " 'Recurrent_sanctions',\n",
       " 'Sanctions',\n",
       " 'Compliance_this_year_ICS',\n",
       " 'Additional_sanctions_ICS',\n",
       " 'Overall_comment']"
      ]
     },
     "execution_count": 7,
     "metadata": {},
     "output_type": "execute_result"
    }
   ],
   "source": [
    "all_insp['og2015_2'].columns.tolist()"
   ]
  },
  {
   "cell_type": "code",
   "execution_count": 8,
   "metadata": {},
   "outputs": [],
   "source": [
    "all_insp['og2015_2'] = all_insp['og2015_2'].drop('Compliance_this_year_ICS', axis=1)\n",
    "all_insp['og2015_2'] = all_insp['og2015_2'].drop('Additional_sanctions_ICS', axis=1)\n",
    "all_insp['og2015_2'] = all_insp['og2015_2'].drop('Compliance_this_year', axis=1)\n",
    "all_insp['og2015_2'] = all_insp['og2015_2'].drop('Overall_comment', axis=1)\n",
    "all_insp['og2015_2'] = all_insp['og2015_2'].drop('Sanctions', axis=1)\n",
    "all_insp['og2015_2'] = all_insp['og2015_2'].drop('Recurrent_sanctions', axis=1)"
   ]
  },
  {
   "cell_type": "code",
   "execution_count": 9,
   "metadata": {},
   "outputs": [
    {
     "data": {
      "text/plain": [
       "['ID',\n",
       " 'Entered_by',\n",
       " 'Date_entered',\n",
       " 'OG_Nr',\n",
       " 'Date_inspected',\n",
       " 'Internal_Inspector',\n",
       " 'Date_of_birth',\n",
       " 'HH_under_5_years_female',\n",
       " 'HH_under_5_years_male',\n",
       " 'HH_5-17_years_female',\n",
       " 'HH_5-17_years_male',\n",
       " 'HH_18-59_years_female',\n",
       " 'HH_18-59_years_male',\n",
       " 'HH_over_60_years_female',\n",
       " 'HH_over_60_years_male',\n",
       " 'Months_food_lasts',\n",
       " 'Compliance_this_year',\n",
       " 'Recurrent_corrective_actions',\n",
       " 'Corrective_actions',\n",
       " 'Compliance_this_year_ICS',\n",
       " 'Additional_sanctions_ICS',\n",
       " 'Overall_comment']"
      ]
     },
     "execution_count": 9,
     "metadata": {},
     "output_type": "execute_result"
    }
   ],
   "source": [
    "all_insp['og2016_2'].columns.tolist()"
   ]
  },
  {
   "cell_type": "code",
   "execution_count": 10,
   "metadata": {},
   "outputs": [],
   "source": [
    "all_insp['og2016_2'] = all_insp['og2016_2'].drop('Recurrent_corrective_actions', axis=1)\n",
    "all_insp['og2016_2'] = all_insp['og2016_2'].drop( 'Corrective_actions', axis=1)\n",
    "\n",
    "\n",
    "all_insp['og2016_2'] = all_insp['og2016_2'].drop('Compliance_this_year_ICS', axis=1)\n",
    "all_insp['og2016_2'] = all_insp['og2016_2'].drop('Additional_sanctions_ICS', axis=1)\n",
    "all_insp['og2016_2'] = all_insp['og2016_2'].drop('Compliance_this_year', axis=1)\n",
    "all_insp['og2016_2'] = all_insp['og2016_2'].drop('Overall_comment', axis=1)\n",
    "##all_insp['og2016_2'] = all_insp['og2016_2'].drop('Sanctions', axis=1)\n",
    "##all_insp['og2016_2'] = all_insp['og2016_2'].drop('Recurrent_sanctions', axis=1)"
   ]
  },
  {
   "cell_type": "code",
   "execution_count": 11,
   "metadata": {},
   "outputs": [
    {
     "data": {
      "text/plain": [
       "['ID',\n",
       " 'Entered_by',\n",
       " 'Date_entered',\n",
       " 'OG_Nr',\n",
       " 'Date_inspected',\n",
       " 'Internal_Inspector',\n",
       " 'Date_of_birth',\n",
       " 'HH_under_5_years_female',\n",
       " 'HH_under_5_years_male',\n",
       " 'HH_5-17_years_female',\n",
       " 'HH_5-17_years_male',\n",
       " 'HH_18-59_years_female',\n",
       " 'HH_18-59_years_male',\n",
       " 'HH_over_60_years_female',\n",
       " 'HH_over_60_years_male',\n",
       " 'Months_food_lasts',\n",
       " 'Compliance_this_year',\n",
       " 'Recurrent_corrective_actions',\n",
       " 'Corrective_actions',\n",
       " 'Compliance_this_year_ICS',\n",
       " 'Additional_sanctions_ICS',\n",
       " 'Overall_comment']"
      ]
     },
     "execution_count": 11,
     "metadata": {},
     "output_type": "execute_result"
    }
   ],
   "source": [
    "all_insp['og2016_1'].columns.tolist()"
   ]
  },
  {
   "cell_type": "code",
   "execution_count": 12,
   "metadata": {},
   "outputs": [],
   "source": [
    "all_insp['og2016_1'] = all_insp['og2016_1'].drop('Recurrent_corrective_actions', axis=1)\n",
    "all_insp['og2016_1'] = all_insp['og2016_1'].drop( 'Corrective_actions', axis=1)\n",
    "\n",
    "\n",
    "all_insp['og2016_1'] = all_insp['og2016_1'].drop('Compliance_this_year_ICS', axis=1)\n",
    "all_insp['og2016_1'] = all_insp['og2016_1'].drop('Additional_sanctions_ICS', axis=1)\n",
    "all_insp['og2016_1'] = all_insp['og2016_1'].drop('Compliance_this_year', axis=1)\n",
    "all_insp['og2016_1'] = all_insp['og2016_1'].drop('Overall_comment', axis=1)\n",
    "##all_insp['og2016_2'] = all_insp['og2016_2'].drop('Sanctions', axis=1)\n",
    "##all_insp['og2016_2'] = all_insp['og2016_2'].drop('Recurrent_sanctions', axis=1)"
   ]
  },
  {
   "cell_type": "code",
   "execution_count": 13,
   "metadata": {},
   "outputs": [
    {
     "data": {
      "text/plain": [
       "['ID',\n",
       " 'Entered_by',\n",
       " 'Date_entered',\n",
       " 'OG_Nr',\n",
       " 'Date_inspected',\n",
       " 'LU_Internal_Inspector',\n",
       " 'Date_of_birth',\n",
       " 'HH_under_5_years_female',\n",
       " 'HH_under_5_years_male',\n",
       " 'HH_5-17_years_female',\n",
       " 'HH_5-17_years_male',\n",
       " 'HH_18-59_years_female',\n",
       " 'HH_18-59_years_male',\n",
       " 'HH_over_60_years_female',\n",
       " 'HH_over_60_years_male',\n",
       " 'Months_food_lasts',\n",
       " 'last_year_corrective_action',\n",
       " 'Corrective_action_implemented',\n",
       " 'Compliance_this_year',\n",
       " 'Recurrent_corrective_actions',\n",
       " 'Corrective_actions',\n",
       " 'Compliance_this_year_ICS',\n",
       " 'Additional_sanctions_ICS',\n",
       " 'Overall_comment']"
      ]
     },
     "execution_count": 13,
     "metadata": {},
     "output_type": "execute_result"
    }
   ],
   "source": [
    "all_insp['og2017_1'].columns.tolist()"
   ]
  },
  {
   "cell_type": "code",
   "execution_count": 14,
   "metadata": {},
   "outputs": [],
   "source": [
    "all_insp['og2017_1'] = all_insp['og2017_1'].drop('Recurrent_corrective_actions', axis=1)\n",
    "all_insp['og2017_1'] = all_insp['og2017_1'].drop( 'Corrective_actions', axis=1)\n",
    "\n",
    "\n",
    "all_insp['og2017_1'] = all_insp['og2017_1'].drop('Compliance_this_year_ICS', axis=1)\n",
    "all_insp['og2017_1'] = all_insp['og2017_1'].drop('Additional_sanctions_ICS', axis=1)\n",
    "all_insp['og2017_1'] = all_insp['og2017_1'].drop('Compliance_this_year', axis=1)\n",
    "all_insp['og2017_1'] = all_insp['og2017_1'].drop('Overall_comment', axis=1)\n",
    "all_insp['og2017_1'] = all_insp['og2017_1'].drop('last_year_corrective_action', axis=1)\n",
    "all_insp['og2017_1'] = all_insp['og2017_1'].drop('Corrective_action_implemented', axis=1)"
   ]
  },
  {
   "cell_type": "code",
   "execution_count": 17,
   "metadata": {},
   "outputs": [
    {
     "data": {
      "text/plain": [
       "['ID',\n",
       " 'Entered_by',\n",
       " 'Date_entered',\n",
       " 'OG_Nr',\n",
       " 'Date_inspected',\n",
       " 'LU_Internal_Inspector',\n",
       " 'Date_of_birth',\n",
       " 'HH_under_5_years_female',\n",
       " 'HH_under_5_years_male',\n",
       " 'HH_5-17_years_female',\n",
       " 'HH_5-17_years_male',\n",
       " 'HH_18-59_years_female',\n",
       " 'HH_18-59_years_male',\n",
       " 'HH_over_60_years_female',\n",
       " 'HH_over_60_years_male',\n",
       " 'Months_food_lasts']"
      ]
     },
     "execution_count": 17,
     "metadata": {},
     "output_type": "execute_result"
    }
   ],
   "source": [
    "all_insp['og2017_1'].columns.tolist()"
   ]
  },
  {
   "cell_type": "code",
   "execution_count": 18,
   "metadata": {},
   "outputs": [
    {
     "data": {
      "text/plain": [
       "['ID',\n",
       " 'Entered_by',\n",
       " 'Date_entered',\n",
       " 'WC_Nr',\n",
       " 'Date_inspected',\n",
       " 'Internal_Inspector',\n",
       " 'Date_of_birth',\n",
       " 'HH_under_5_years_female',\n",
       " 'HH_under_5_years_male',\n",
       " 'HH_5-17_years_female',\n",
       " 'HH_5-17_years_male',\n",
       " 'HH_18-59_years_female',\n",
       " 'HH_18-59_years_male',\n",
       " 'HH_over_60_years_female',\n",
       " 'HH_over_60_years_male',\n",
       " 'Months_food_lasts',\n",
       " 'Compliance_this_year',\n",
       " 'Recurrent_sanctions',\n",
       " 'Sanctions',\n",
       " 'Compliance_this_year_ICS',\n",
       " 'Additional_sanctions_ICS',\n",
       " 'Overall_comment']"
      ]
     },
     "execution_count": 18,
     "metadata": {},
     "output_type": "execute_result"
    }
   ],
   "source": [
    "all_insp['wc2015_1'].columns.tolist()"
   ]
  },
  {
   "cell_type": "code",
   "execution_count": 19,
   "metadata": {},
   "outputs": [],
   "source": [
    "all_insp['wc2015_1'] = all_insp['wc2015_1'].drop('Recurrent_sanctions', axis=1)\n",
    "all_insp['wc2015_1'] = all_insp['wc2015_1'].drop( 'Sanctions', axis=1)\n",
    "\n",
    "\n",
    "all_insp['wc2015_1'] = all_insp['wc2015_1'].drop('Compliance_this_year_ICS', axis=1)\n",
    "all_insp['wc2015_1'] = all_insp['wc2015_1'].drop('Additional_sanctions_ICS', axis=1)\n",
    "all_insp['wc2015_1'] = all_insp['wc2015_1'].drop('Compliance_this_year', axis=1)\n",
    "all_insp['wc2015_1'] = all_insp['wc2015_1'].drop('Overall_comment', axis=1)\n",
    "##all_insp['og2017_1'] = all_insp['og2017_1'].drop('last_year_corrective_action', axis=1)\n",
    "##all_insp['og2017_1'] = all_insp['og2017_1'].drop('Corrective_action_implemented', axis=1)"
   ]
  },
  {
   "cell_type": "code",
   "execution_count": 20,
   "metadata": {},
   "outputs": [
    {
     "data": {
      "text/plain": [
       "['ID',\n",
       " 'Entered_by',\n",
       " 'Date_entered',\n",
       " 'WC_Nr',\n",
       " 'Date_inspected',\n",
       " 'Internal_Inspector',\n",
       " 'Date_of_birth',\n",
       " 'HH_under_5_years_female',\n",
       " 'HH_under_5_years_male',\n",
       " 'HH_5-17_years_female',\n",
       " 'HH_5-17_years_male',\n",
       " 'HH_18-59_years_female',\n",
       " 'HH_18-59_years_male',\n",
       " 'HH_over_60_years_female',\n",
       " 'HH_over_60_years_male',\n",
       " 'Months_food_lasts',\n",
       " 'Compliance_this_year',\n",
       " 'Recurrent_sanctions',\n",
       " 'Sanctions',\n",
       " 'Compliance_this_year_ICS',\n",
       " 'Additional_sanctions_ICS',\n",
       " 'Overall_comment']"
      ]
     },
     "execution_count": 20,
     "metadata": {},
     "output_type": "execute_result"
    }
   ],
   "source": [
    "all_insp['wc2016_1'].columns.tolist()"
   ]
  },
  {
   "cell_type": "code",
   "execution_count": 21,
   "metadata": {},
   "outputs": [],
   "source": [
    "all_insp['wc2016_1'] = all_insp['wc2016_1'].drop('Recurrent_sanctions', axis=1)\n",
    "all_insp['wc2016_1'] = all_insp['wc2016_1'].drop( 'Sanctions', axis=1)\n",
    "\n",
    "\n",
    "all_insp['wc2016_1'] = all_insp['wc2016_1'].drop('Compliance_this_year_ICS', axis=1)\n",
    "all_insp['wc2016_1'] = all_insp['wc2016_1'].drop('Additional_sanctions_ICS', axis=1)\n",
    "all_insp['wc2016_1'] = all_insp['wc2016_1'].drop('Compliance_this_year', axis=1)\n",
    "all_insp['wc2016_1'] = all_insp['wc2016_1'].drop('Overall_comment', axis=1)\n"
   ]
  },
  {
   "cell_type": "code",
   "execution_count": 22,
   "metadata": {},
   "outputs": [
    {
     "data": {
      "text/plain": [
       "['ID',\n",
       " 'Entered_by',\n",
       " 'Date_entered',\n",
       " 'WC_Nr',\n",
       " 'Date_inspected',\n",
       " 'Internal_Inspector',\n",
       " 'Date_of_birth',\n",
       " 'HH_under_5_years_female',\n",
       " 'HH_under_5_years_male',\n",
       " 'HH_5-17_years_female',\n",
       " 'HH_5-17_years_male',\n",
       " 'HH_18-59_years_female',\n",
       " 'HH_18-59_years_male',\n",
       " 'HH_over_60_years_female',\n",
       " 'HH_over_60_years_male',\n",
       " 'Months_food_lasts',\n",
       " 'Compliance_this_year',\n",
       " 'Recurrent_sanctions',\n",
       " 'Sanctions',\n",
       " 'Compliance_this_year_ICS',\n",
       " 'Additional_sanctions_ICS',\n",
       " 'Overall_comment']"
      ]
     },
     "execution_count": 22,
     "metadata": {},
     "output_type": "execute_result"
    }
   ],
   "source": [
    "all_insp['wc2016_2'].columns.tolist()"
   ]
  },
  {
   "cell_type": "code",
   "execution_count": 23,
   "metadata": {},
   "outputs": [],
   "source": [
    "all_insp['wc2016_2'] = all_insp['wc2016_2'].drop('Recurrent_sanctions', axis=1)\n",
    "all_insp['wc2016_2'] = all_insp['wc2016_2'].drop( 'Sanctions', axis=1)\n",
    "\n",
    "\n",
    "all_insp['wc2016_2'] = all_insp['wc2016_2'].drop('Compliance_this_year_ICS', axis=1)\n",
    "all_insp['wc2016_2'] = all_insp['wc2016_2'].drop('Additional_sanctions_ICS', axis=1)\n",
    "all_insp['wc2016_2'] = all_insp['wc2016_2'].drop('Compliance_this_year', axis=1)\n",
    "all_insp['wc2016_2'] = all_insp['wc2016_2'].drop('Overall_comment', axis=1)\n"
   ]
  },
  {
   "cell_type": "code",
   "execution_count": 24,
   "metadata": {},
   "outputs": [
    {
     "data": {
      "text/plain": [
       "['ID',\n",
       " 'Entered_by',\n",
       " 'Date_entered',\n",
       " 'WC_Nr',\n",
       " 'Date_inspected',\n",
       " 'Internal_Inspector',\n",
       " 'Date_of_birth',\n",
       " 'HH_under_5_years_female',\n",
       " 'HH_under_5_years_male',\n",
       " 'HH_5-17_years_female',\n",
       " 'HH_5-17_years_male',\n",
       " 'HH_18-59_years_female',\n",
       " 'HH_18-59_years_male',\n",
       " 'HH_over_60_years_female',\n",
       " 'HH_over_60_years_male',\n",
       " 'Months_food_lasts',\n",
       " 'Compliance_this_year',\n",
       " 'Recurrent_sanctions',\n",
       " 'Sanctions',\n",
       " 'Compliance_this_year_ICS',\n",
       " 'Additional_sanctions_ICS',\n",
       " 'Overall_comment']"
      ]
     },
     "execution_count": 24,
     "metadata": {},
     "output_type": "execute_result"
    }
   ],
   "source": [
    "all_insp['wc2017_2'].columns.tolist()"
   ]
  },
  {
   "cell_type": "code",
   "execution_count": 25,
   "metadata": {},
   "outputs": [],
   "source": [
    "all_insp['wc2017_2'] = all_insp['wc2017_2'].drop('Recurrent_sanctions', axis=1)\n",
    "all_insp['wc2017_2'] = all_insp['wc2017_2'].drop( 'Sanctions', axis=1)\n",
    "\n",
    "\n",
    "all_insp['wc2017_2'] = all_insp['wc2017_2'].drop('Compliance_this_year_ICS', axis=1)\n",
    "all_insp['wc2017_2'] = all_insp['wc2017_2'].drop('Additional_sanctions_ICS', axis=1)\n",
    "all_insp['wc2017_2'] = all_insp['wc2017_2'].drop('Compliance_this_year', axis=1)\n",
    "all_insp['wc2017_2'] = all_insp['wc2017_2'].drop('Overall_comment', axis=1)\n"
   ]
  },
  {
   "cell_type": "code",
   "execution_count": 26,
   "metadata": {},
   "outputs": [
    {
     "data": {
      "text/plain": [
       "['ID',\n",
       " 'Entered_by',\n",
       " 'Date_entered',\n",
       " 'WC_Nr',\n",
       " 'Date_inspected',\n",
       " 'Internal_Inspector',\n",
       " 'Date_of_birth',\n",
       " 'HH_under_5_years_female',\n",
       " 'HH_under_5_years_male',\n",
       " 'HH_5-17_years_female',\n",
       " 'HH_5-17_years_male',\n",
       " 'HH_18-59_years_female',\n",
       " 'HH_18-59_years_male',\n",
       " 'HH_over_60_years_female',\n",
       " 'HH_over_60_years_male',\n",
       " 'Months_food_lasts',\n",
       " 'Compliance_this_year',\n",
       " 'Recurrent_sanctions',\n",
       " 'Sanctions',\n",
       " 'Compliance_this_year_ICS',\n",
       " 'Additional_sanctions_ICS',\n",
       " 'Overall_comment']"
      ]
     },
     "execution_count": 26,
     "metadata": {},
     "output_type": "execute_result"
    }
   ],
   "source": [
    "all_insp['wc2017_1'].columns.tolist()"
   ]
  },
  {
   "cell_type": "code",
   "execution_count": 27,
   "metadata": {},
   "outputs": [],
   "source": [
    "all_insp['wc2017_1'] = all_insp['wc2017_1'].drop('Recurrent_sanctions', axis=1)\n",
    "all_insp['wc2017_1'] = all_insp['wc2017_1'].drop( 'Sanctions', axis=1)\n",
    "\n",
    "\n",
    "all_insp['wc2017_1'] = all_insp['wc2017_1'].drop('Compliance_this_year_ICS', axis=1)\n",
    "all_insp['wc2017_1'] = all_insp['wc2017_1'].drop('Additional_sanctions_ICS', axis=1)\n",
    "all_insp['wc2017_1'] = all_insp['wc2017_1'].drop('Compliance_this_year', axis=1)\n",
    "all_insp['wc2017_1'] = all_insp['wc2017_1'].drop('Overall_comment', axis=1)\n"
   ]
  },
  {
   "cell_type": "code",
   "execution_count": 28,
   "metadata": {},
   "outputs": [
    {
     "data": {
      "text/plain": [
       "['date_entered',\n",
       " 'og_nr',\n",
       " 'date_inspected',\n",
       " 'area',\n",
       " 'date_of_birth',\n",
       " 'hh_under_5_years_female',\n",
       " 'hh_under_5_years_male',\n",
       " 'hh_5-17_years_female',\n",
       " 'hh_5-17_years_male',\n",
       " 'hh_18-59_years_female',\n",
       " 'hh_18-59_years_male',\n",
       " 'hh_over_60_years_female',\n",
       " 'hh_over_60_years_male',\n",
       " 'months_food_lasts']"
      ]
     },
     "execution_count": 28,
     "metadata": {},
     "output_type": "execute_result"
    }
   ],
   "source": [
    "all_insp['all2018'].columns.tolist()"
   ]
  },
  {
   "cell_type": "code",
   "execution_count": 29,
   "metadata": {},
   "outputs": [],
   "source": [
    "# Convert column names to lowercase in all dataframes\n",
    "all_insp['og2015_1'].rename(columns=str.lower, inplace=True)\n",
    "all_insp['og2015_2'].rename(columns=str.lower, inplace=True)\n",
    "all_insp['og2016_1'].rename(columns=str.lower, inplace=True)\n",
    "all_insp['og2016_2'].rename(columns=str.lower, inplace=True)\n",
    "all_insp['og2017_1'].rename(columns=str.lower, inplace=True)\n",
    "all_insp['wc2015_1'].rename(columns=str.lower, inplace=True)\n",
    "all_insp['wc2016_1'].rename(columns=str.lower, inplace=True)\n",
    "all_insp['wc2016_2'].rename(columns=str.lower, inplace=True)\n",
    "all_insp['wc2017_1'].rename(columns=str.lower, inplace=True)\n",
    "all_insp['wc2017_2'].rename(columns=str.lower, inplace=True)\n",
    "\n",
    "\n",
    "\n"
   ]
  },
  {
   "attachments": {},
   "cell_type": "markdown",
   "metadata": {},
   "source": [
    "Let us have a look at the duplicates, if there are any. "
   ]
  },
  {
   "cell_type": "code",
   "execution_count": 30,
   "metadata": {},
   "outputs": [
    {
     "data": {
      "text/plain": [
       "(0, 16)"
      ]
     },
     "execution_count": 30,
     "metadata": {},
     "output_type": "execute_result"
    }
   ],
   "source": [
    "\n",
    "duplicates = all_insp['og2015_1'][all_insp['og2015_1'].duplicated(['og_nr'], keep=False)]\n",
    "duplicates.shape\n"
   ]
  },
  {
   "cell_type": "code",
   "execution_count": 31,
   "metadata": {},
   "outputs": [
    {
     "data": {
      "text/plain": [
       "(287, 16)"
      ]
     },
     "execution_count": 31,
     "metadata": {},
     "output_type": "execute_result"
    }
   ],
   "source": [
    "all_insp['og2015_1'].shape"
   ]
  },
  {
   "cell_type": "code",
   "execution_count": 92,
   "metadata": {},
   "outputs": [
    {
     "data": {
      "text/plain": [
       "0"
      ]
     },
     "execution_count": 92,
     "metadata": {},
     "output_type": "execute_result"
    }
   ],
   "source": [
    "all_insp['og2015_1']['og_nr'].isnull().sum()"
   ]
  },
  {
   "cell_type": "code",
   "execution_count": 32,
   "metadata": {},
   "outputs": [
    {
     "data": {
      "text/plain": [
       "(0, 16)"
      ]
     },
     "execution_count": 32,
     "metadata": {},
     "output_type": "execute_result"
    }
   ],
   "source": [
    "\n",
    "duplicates = all_insp['og2015_2'][all_insp['og2015_2'].duplicated(['og_nr'], keep=False)]\n",
    "duplicates.shape\n"
   ]
  },
  {
   "cell_type": "code",
   "execution_count": 33,
   "metadata": {},
   "outputs": [
    {
     "data": {
      "text/plain": [
       "(287, 16)"
      ]
     },
     "execution_count": 33,
     "metadata": {},
     "output_type": "execute_result"
    }
   ],
   "source": [
    "all_insp['og2015_2'].shape"
   ]
  },
  {
   "cell_type": "code",
   "execution_count": 93,
   "metadata": {},
   "outputs": [
    {
     "data": {
      "text/plain": [
       "0"
      ]
     },
     "execution_count": 93,
     "metadata": {},
     "output_type": "execute_result"
    }
   ],
   "source": [
    "all_insp['og2015_2']['og_nr'].isnull().sum()"
   ]
  },
  {
   "cell_type": "code",
   "execution_count": 34,
   "metadata": {},
   "outputs": [
    {
     "data": {
      "text/plain": [
       "(0, 16)"
      ]
     },
     "execution_count": 34,
     "metadata": {},
     "output_type": "execute_result"
    }
   ],
   "source": [
    "\n",
    "duplicates = all_insp['og2016_1'][all_insp['og2016_1'].duplicated(['og_nr'], keep=False)]\n",
    "duplicates.shape"
   ]
  },
  {
   "cell_type": "code",
   "execution_count": 35,
   "metadata": {},
   "outputs": [
    {
     "data": {
      "text/plain": [
       "(218, 16)"
      ]
     },
     "execution_count": 35,
     "metadata": {},
     "output_type": "execute_result"
    }
   ],
   "source": [
    "all_insp['og2016_1'].shape"
   ]
  },
  {
   "cell_type": "code",
   "execution_count": 94,
   "metadata": {},
   "outputs": [
    {
     "data": {
      "text/plain": [
       "0"
      ]
     },
     "execution_count": 94,
     "metadata": {},
     "output_type": "execute_result"
    }
   ],
   "source": [
    "all_insp['og2016_1']['og_nr'].isnull().sum()"
   ]
  },
  {
   "cell_type": "code",
   "execution_count": 36,
   "metadata": {},
   "outputs": [
    {
     "data": {
      "text/plain": [
       "(0, 16)"
      ]
     },
     "execution_count": 36,
     "metadata": {},
     "output_type": "execute_result"
    }
   ],
   "source": [
    "duplicates = all_insp['og2016_2'][all_insp['og2016_2'].duplicated(['og_nr'], keep=False)]\n",
    "duplicates.shape"
   ]
  },
  {
   "cell_type": "code",
   "execution_count": 37,
   "metadata": {},
   "outputs": [
    {
     "data": {
      "text/plain": [
       "(218, 16)"
      ]
     },
     "execution_count": 37,
     "metadata": {},
     "output_type": "execute_result"
    }
   ],
   "source": [
    "all_insp['og2016_2'].shape"
   ]
  },
  {
   "cell_type": "code",
   "execution_count": 95,
   "metadata": {},
   "outputs": [
    {
     "data": {
      "text/plain": [
       "0"
      ]
     },
     "execution_count": 95,
     "metadata": {},
     "output_type": "execute_result"
    }
   ],
   "source": [
    "all_insp['og2016_2']['og_nr'].isnull().sum()"
   ]
  },
  {
   "cell_type": "code",
   "execution_count": 38,
   "metadata": {},
   "outputs": [
    {
     "data": {
      "text/plain": [
       "(0, 16)"
      ]
     },
     "execution_count": 38,
     "metadata": {},
     "output_type": "execute_result"
    }
   ],
   "source": [
    "duplicates = all_insp['og2017_1'][all_insp['og2017_1'].duplicated(['og_nr'], keep=False)]\n",
    "duplicates.shape"
   ]
  },
  {
   "cell_type": "code",
   "execution_count": 39,
   "metadata": {},
   "outputs": [
    {
     "data": {
      "text/plain": [
       "(394, 16)"
      ]
     },
     "execution_count": 39,
     "metadata": {},
     "output_type": "execute_result"
    }
   ],
   "source": [
    "all_insp['og2017_1'].shape"
   ]
  },
  {
   "cell_type": "code",
   "execution_count": 96,
   "metadata": {},
   "outputs": [
    {
     "data": {
      "text/plain": [
       "0"
      ]
     },
     "execution_count": 96,
     "metadata": {},
     "output_type": "execute_result"
    }
   ],
   "source": [
    "all_insp['og2017_1']['og_nr'].isnull().sum()"
   ]
  },
  {
   "cell_type": "code",
   "execution_count": 40,
   "metadata": {},
   "outputs": [
    {
     "data": {
      "text/plain": [
       "(0, 16)"
      ]
     },
     "execution_count": 40,
     "metadata": {},
     "output_type": "execute_result"
    }
   ],
   "source": [
    "duplicates = all_insp['wc2017_1'][all_insp['wc2017_1'].duplicated(['wc_nr'], keep=False)]\n",
    "duplicates.shape"
   ]
  },
  {
   "cell_type": "code",
   "execution_count": null,
   "metadata": {},
   "outputs": [],
   "source": [
    "all_insp['wc2017_1']"
   ]
  },
  {
   "cell_type": "code",
   "execution_count": 41,
   "metadata": {},
   "outputs": [
    {
     "data": {
      "text/plain": [
       "(10, 16)"
      ]
     },
     "execution_count": 41,
     "metadata": {},
     "output_type": "execute_result"
    }
   ],
   "source": [
    "all_insp['wc2017_1'].shape"
   ]
  },
  {
   "cell_type": "code",
   "execution_count": 97,
   "metadata": {},
   "outputs": [
    {
     "data": {
      "text/plain": [
       "0"
      ]
     },
     "execution_count": 97,
     "metadata": {},
     "output_type": "execute_result"
    }
   ],
   "source": [
    "all_insp['wc2017_1']['wc_nr'].isnull().sum()"
   ]
  },
  {
   "cell_type": "code",
   "execution_count": 42,
   "metadata": {},
   "outputs": [
    {
     "data": {
      "text/plain": [
       "(0, 16)"
      ]
     },
     "execution_count": 42,
     "metadata": {},
     "output_type": "execute_result"
    }
   ],
   "source": [
    "duplicates = all_insp['wc2017_2'][all_insp['wc2017_2'].duplicated(['wc_nr'], keep=False)]\n",
    "duplicates.shape"
   ]
  },
  {
   "cell_type": "code",
   "execution_count": 43,
   "metadata": {},
   "outputs": [
    {
     "data": {
      "text/plain": [
       "(31, 16)"
      ]
     },
     "execution_count": 43,
     "metadata": {},
     "output_type": "execute_result"
    }
   ],
   "source": [
    "all_insp['wc2017_2'].shape"
   ]
  },
  {
   "cell_type": "code",
   "execution_count": 98,
   "metadata": {},
   "outputs": [
    {
     "data": {
      "text/plain": [
       "0"
      ]
     },
     "execution_count": 98,
     "metadata": {},
     "output_type": "execute_result"
    }
   ],
   "source": [
    "all_insp['wc2017_2']['wc_nr'].isnull().sum()"
   ]
  },
  {
   "cell_type": "code",
   "execution_count": 44,
   "metadata": {},
   "outputs": [
    {
     "data": {
      "text/plain": [
       "(0, 16)"
      ]
     },
     "execution_count": 44,
     "metadata": {},
     "output_type": "execute_result"
    }
   ],
   "source": [
    "duplicates = all_insp['wc2016_1'][all_insp['wc2016_1'].duplicated(['wc_nr'], keep=False)]\n",
    "duplicates.shape"
   ]
  },
  {
   "cell_type": "code",
   "execution_count": 45,
   "metadata": {},
   "outputs": [
    {
     "data": {
      "text/plain": [
       "(40, 16)"
      ]
     },
     "execution_count": 45,
     "metadata": {},
     "output_type": "execute_result"
    }
   ],
   "source": [
    "all_insp['wc2016_1'].shape"
   ]
  },
  {
   "cell_type": "code",
   "execution_count": 99,
   "metadata": {},
   "outputs": [
    {
     "data": {
      "text/plain": [
       "0"
      ]
     },
     "execution_count": 99,
     "metadata": {},
     "output_type": "execute_result"
    }
   ],
   "source": [
    "all_insp['wc2016_1']['wc_nr'].isnull().sum()"
   ]
  },
  {
   "cell_type": "code",
   "execution_count": 46,
   "metadata": {},
   "outputs": [
    {
     "data": {
      "text/plain": [
       "(0, 16)"
      ]
     },
     "execution_count": 46,
     "metadata": {},
     "output_type": "execute_result"
    }
   ],
   "source": [
    "duplicates = all_insp['wc2015_1'][all_insp['wc2015_1'].duplicated(['wc_nr'], keep=False)]\n",
    "duplicates.shape"
   ]
  },
  {
   "cell_type": "code",
   "execution_count": 47,
   "metadata": {},
   "outputs": [
    {
     "data": {
      "text/plain": [
       "(2650, 16)"
      ]
     },
     "execution_count": 47,
     "metadata": {},
     "output_type": "execute_result"
    }
   ],
   "source": [
    "all_insp['wc2015_1'].shape"
   ]
  },
  {
   "cell_type": "code",
   "execution_count": 100,
   "metadata": {},
   "outputs": [
    {
     "data": {
      "text/plain": [
       "1"
      ]
     },
     "execution_count": 100,
     "metadata": {},
     "output_type": "execute_result"
    }
   ],
   "source": [
    "all_insp['wc2015_1']['wc_nr'].isnull().sum()"
   ]
  },
  {
   "attachments": {},
   "cell_type": "markdown",
   "metadata": {},
   "source": [
    "No duplicates, good news, let us now concat. "
   ]
  },
  {
   "cell_type": "code",
   "execution_count": 51,
   "metadata": {},
   "outputs": [],
   "source": [
    "concat_insp_15_18 = pd.concat(all_insp) "
   ]
  },
  {
   "cell_type": "code",
   "execution_count": 52,
   "metadata": {},
   "outputs": [
    {
     "data": {
      "text/html": [
       "<div>\n",
       "<style scoped>\n",
       "    .dataframe tbody tr th:only-of-type {\n",
       "        vertical-align: middle;\n",
       "    }\n",
       "\n",
       "    .dataframe tbody tr th {\n",
       "        vertical-align: top;\n",
       "    }\n",
       "\n",
       "    .dataframe thead th {\n",
       "        text-align: right;\n",
       "    }\n",
       "</style>\n",
       "<table border=\"1\" class=\"dataframe\">\n",
       "  <thead>\n",
       "    <tr style=\"text-align: right;\">\n",
       "      <th></th>\n",
       "      <th></th>\n",
       "      <th>id</th>\n",
       "      <th>entered_by</th>\n",
       "      <th>date_entered</th>\n",
       "      <th>og_nr</th>\n",
       "      <th>date_inspected</th>\n",
       "      <th>internal_inspector</th>\n",
       "      <th>date_of_birth</th>\n",
       "      <th>hh_under_5_years_female</th>\n",
       "      <th>hh_under_5_years_male</th>\n",
       "      <th>hh_5-17_years_female</th>\n",
       "      <th>hh_5-17_years_male</th>\n",
       "      <th>hh_18-59_years_female</th>\n",
       "      <th>hh_18-59_years_male</th>\n",
       "      <th>hh_over_60_years_female</th>\n",
       "      <th>hh_over_60_years_male</th>\n",
       "      <th>months_food_lasts</th>\n",
       "      <th>lu_internal_inspector</th>\n",
       "      <th>area</th>\n",
       "      <th>wc_nr</th>\n",
       "    </tr>\n",
       "  </thead>\n",
       "  <tbody>\n",
       "    <tr>\n",
       "      <th rowspan=\"5\" valign=\"top\">og2015_1</th>\n",
       "      <th>0</th>\n",
       "      <td>1.0</td>\n",
       "      <td>Norman</td>\n",
       "      <td>2015-10-12 00:00:00.000</td>\n",
       "      <td>3037.0</td>\n",
       "      <td>2015-09-21 00:00:00.000</td>\n",
       "      <td>Molliah</td>\n",
       "      <td>None</td>\n",
       "      <td>0.0</td>\n",
       "      <td>2.0</td>\n",
       "      <td>2.0</td>\n",
       "      <td>0.0</td>\n",
       "      <td>1.0</td>\n",
       "      <td>1.0</td>\n",
       "      <td>0.0</td>\n",
       "      <td>0.0</td>\n",
       "      <td>6.0</td>\n",
       "      <td>NaN</td>\n",
       "      <td>NaN</td>\n",
       "      <td>NaN</td>\n",
       "    </tr>\n",
       "    <tr>\n",
       "      <th>1</th>\n",
       "      <td>2.0</td>\n",
       "      <td>Norman</td>\n",
       "      <td>2015-10-12 00:00:00.000</td>\n",
       "      <td>3038.0</td>\n",
       "      <td>2015-09-21 00:00:00.000</td>\n",
       "      <td>Molliah</td>\n",
       "      <td>None</td>\n",
       "      <td>1.0</td>\n",
       "      <td>1.0</td>\n",
       "      <td>1.0</td>\n",
       "      <td>0.0</td>\n",
       "      <td>1.0</td>\n",
       "      <td>0.0</td>\n",
       "      <td>0.0</td>\n",
       "      <td>0.0</td>\n",
       "      <td>4.0</td>\n",
       "      <td>NaN</td>\n",
       "      <td>NaN</td>\n",
       "      <td>NaN</td>\n",
       "    </tr>\n",
       "    <tr>\n",
       "      <th>2</th>\n",
       "      <td>3.0</td>\n",
       "      <td>Norman</td>\n",
       "      <td>2015-10-12 00:00:00.000</td>\n",
       "      <td>3041.0</td>\n",
       "      <td>2015-09-23 00:00:00.000</td>\n",
       "      <td>Missozi</td>\n",
       "      <td>None</td>\n",
       "      <td>0.0</td>\n",
       "      <td>0.0</td>\n",
       "      <td>0.0</td>\n",
       "      <td>1.0</td>\n",
       "      <td>1.0</td>\n",
       "      <td>0.0</td>\n",
       "      <td>1.0</td>\n",
       "      <td>0.0</td>\n",
       "      <td>3.0</td>\n",
       "      <td>NaN</td>\n",
       "      <td>NaN</td>\n",
       "      <td>NaN</td>\n",
       "    </tr>\n",
       "    <tr>\n",
       "      <th>3</th>\n",
       "      <td>4.0</td>\n",
       "      <td>Norman</td>\n",
       "      <td>2015-10-12 00:00:00.000</td>\n",
       "      <td>3043.0</td>\n",
       "      <td>2015-09-22 00:00:00.000</td>\n",
       "      <td>Missozi</td>\n",
       "      <td>None</td>\n",
       "      <td>0.0</td>\n",
       "      <td>1.0</td>\n",
       "      <td>1.0</td>\n",
       "      <td>0.0</td>\n",
       "      <td>2.0</td>\n",
       "      <td>0.0</td>\n",
       "      <td>0.0</td>\n",
       "      <td>1.0</td>\n",
       "      <td>6.0</td>\n",
       "      <td>NaN</td>\n",
       "      <td>NaN</td>\n",
       "      <td>NaN</td>\n",
       "    </tr>\n",
       "    <tr>\n",
       "      <th>4</th>\n",
       "      <td>5.0</td>\n",
       "      <td>Norman</td>\n",
       "      <td>2015-10-12 00:00:00.000</td>\n",
       "      <td>3044.0</td>\n",
       "      <td>2015-09-22 00:00:00.000</td>\n",
       "      <td>Missozi</td>\n",
       "      <td>None</td>\n",
       "      <td>0.0</td>\n",
       "      <td>0.0</td>\n",
       "      <td>1.0</td>\n",
       "      <td>2.0</td>\n",
       "      <td>1.0</td>\n",
       "      <td>1.0</td>\n",
       "      <td>0.0</td>\n",
       "      <td>1.0</td>\n",
       "      <td>6.0</td>\n",
       "      <td>NaN</td>\n",
       "      <td>NaN</td>\n",
       "      <td>NaN</td>\n",
       "    </tr>\n",
       "  </tbody>\n",
       "</table>\n",
       "</div>"
      ],
      "text/plain": [
       "             id entered_by             date_entered   og_nr  \\\n",
       "og2015_1 0  1.0     Norman  2015-10-12 00:00:00.000  3037.0   \n",
       "         1  2.0     Norman  2015-10-12 00:00:00.000  3038.0   \n",
       "         2  3.0     Norman  2015-10-12 00:00:00.000  3041.0   \n",
       "         3  4.0     Norman  2015-10-12 00:00:00.000  3043.0   \n",
       "         4  5.0     Norman  2015-10-12 00:00:00.000  3044.0   \n",
       "\n",
       "                     date_inspected internal_inspector date_of_birth  \\\n",
       "og2015_1 0  2015-09-21 00:00:00.000            Molliah          None   \n",
       "         1  2015-09-21 00:00:00.000            Molliah          None   \n",
       "         2  2015-09-23 00:00:00.000            Missozi          None   \n",
       "         3  2015-09-22 00:00:00.000            Missozi          None   \n",
       "         4  2015-09-22 00:00:00.000            Missozi          None   \n",
       "\n",
       "            hh_under_5_years_female  hh_under_5_years_male  \\\n",
       "og2015_1 0                      0.0                    2.0   \n",
       "         1                      1.0                    1.0   \n",
       "         2                      0.0                    0.0   \n",
       "         3                      0.0                    1.0   \n",
       "         4                      0.0                    0.0   \n",
       "\n",
       "            hh_5-17_years_female  hh_5-17_years_male  hh_18-59_years_female  \\\n",
       "og2015_1 0                   2.0                 0.0                    1.0   \n",
       "         1                   1.0                 0.0                    1.0   \n",
       "         2                   0.0                 1.0                    1.0   \n",
       "         3                   1.0                 0.0                    2.0   \n",
       "         4                   1.0                 2.0                    1.0   \n",
       "\n",
       "            hh_18-59_years_male  hh_over_60_years_female  \\\n",
       "og2015_1 0                  1.0                      0.0   \n",
       "         1                  0.0                      0.0   \n",
       "         2                  0.0                      1.0   \n",
       "         3                  0.0                      0.0   \n",
       "         4                  1.0                      0.0   \n",
       "\n",
       "            hh_over_60_years_male  months_food_lasts lu_internal_inspector  \\\n",
       "og2015_1 0                    0.0                6.0                   NaN   \n",
       "         1                    0.0                4.0                   NaN   \n",
       "         2                    0.0                3.0                   NaN   \n",
       "         3                    1.0                6.0                   NaN   \n",
       "         4                    1.0                6.0                   NaN   \n",
       "\n",
       "           area  wc_nr  \n",
       "og2015_1 0  NaN    NaN  \n",
       "         1  NaN    NaN  \n",
       "         2  NaN    NaN  \n",
       "         3  NaN    NaN  \n",
       "         4  NaN    NaN  "
      ]
     },
     "execution_count": 52,
     "metadata": {},
     "output_type": "execute_result"
    }
   ],
   "source": [
    "concat_insp_15_18.head()"
   ]
  },
  {
   "cell_type": "code",
   "execution_count": 58,
   "metadata": {},
   "outputs": [
    {
     "data": {
      "text/plain": [
       "(5723, 19)"
      ]
     },
     "execution_count": 58,
     "metadata": {},
     "output_type": "execute_result"
    }
   ],
   "source": [
    "concat_insp_15_18.shape"
   ]
  },
  {
   "attachments": {},
   "cell_type": "markdown",
   "metadata": {},
   "source": [
    "Are there any duplicates which might come from adding now different tables? If yes, let us drop them. "
   ]
  },
  {
   "cell_type": "code",
   "execution_count": 60,
   "metadata": {},
   "outputs": [
    {
     "data": {
      "text/plain": [
       "False    5019\n",
       "True      704\n",
       "dtype: int64"
      ]
     },
     "execution_count": 60,
     "metadata": {},
     "output_type": "execute_result"
    }
   ],
   "source": [
    "concat_insp_15_18.duplicated().value_counts()"
   ]
  },
  {
   "cell_type": "code",
   "execution_count": 74,
   "metadata": {},
   "outputs": [],
   "source": [
    "concat_insp_15_18.drop_duplicates(inplace=True)"
   ]
  },
  {
   "cell_type": "code",
   "execution_count": 75,
   "metadata": {},
   "outputs": [
    {
     "data": {
      "text/plain": [
       "2885"
      ]
     },
     "execution_count": 75,
     "metadata": {},
     "output_type": "execute_result"
    }
   ],
   "source": [
    "# how many nulls are there anyway\n",
    "\n",
    "concat_insp_15_18['og_nr'].isnull().sum()\n"
   ]
  },
  {
   "cell_type": "code",
   "execution_count": 76,
   "metadata": {},
   "outputs": [
    {
     "data": {
      "text/plain": [
       "2136"
      ]
     },
     "execution_count": 76,
     "metadata": {},
     "output_type": "execute_result"
    }
   ],
   "source": [
    "concat_insp_15_18['wc_nr'].isnull().sum()"
   ]
  },
  {
   "cell_type": "code",
   "execution_count": 79,
   "metadata": {},
   "outputs": [
    {
     "data": {
      "text/plain": [
       "5021"
      ]
     },
     "execution_count": 79,
     "metadata": {},
     "output_type": "execute_result"
    }
   ],
   "source": [
    "2885+2136"
   ]
  },
  {
   "cell_type": "code",
   "execution_count": 78,
   "metadata": {},
   "outputs": [
    {
     "data": {
      "text/plain": [
       "(5019, 19)"
      ]
     },
     "execution_count": 78,
     "metadata": {},
     "output_type": "execute_result"
    }
   ],
   "source": [
    "concat_insp_15_18.shape ### this means there are just two rows overlapping which have zeros in wc and og"
   ]
  },
  {
   "cell_type": "code",
   "execution_count": 80,
   "metadata": {},
   "outputs": [
    {
     "data": {
      "text/plain": [
       "False    5019\n",
       "dtype: int64"
      ]
     },
     "execution_count": 80,
     "metadata": {},
     "output_type": "execute_result"
    }
   ],
   "source": [
    "concat_insp_15_18.duplicated().value_counts()"
   ]
  },
  {
   "cell_type": "code",
   "execution_count": 85,
   "metadata": {},
   "outputs": [
    {
     "data": {
      "text/html": [
       "<div>\n",
       "<style scoped>\n",
       "    .dataframe tbody tr th:only-of-type {\n",
       "        vertical-align: middle;\n",
       "    }\n",
       "\n",
       "    .dataframe tbody tr th {\n",
       "        vertical-align: top;\n",
       "    }\n",
       "\n",
       "    .dataframe thead th {\n",
       "        text-align: right;\n",
       "    }\n",
       "</style>\n",
       "<table border=\"1\" class=\"dataframe\">\n",
       "  <thead>\n",
       "    <tr style=\"text-align: right;\">\n",
       "      <th></th>\n",
       "      <th></th>\n",
       "      <th>id</th>\n",
       "      <th>entered_by</th>\n",
       "      <th>date_entered</th>\n",
       "      <th>og_nr</th>\n",
       "      <th>date_inspected</th>\n",
       "      <th>internal_inspector</th>\n",
       "      <th>date_of_birth</th>\n",
       "      <th>hh_under_5_years_female</th>\n",
       "      <th>hh_under_5_years_male</th>\n",
       "      <th>hh_5-17_years_female</th>\n",
       "      <th>hh_5-17_years_male</th>\n",
       "      <th>hh_18-59_years_female</th>\n",
       "      <th>hh_18-59_years_male</th>\n",
       "      <th>hh_over_60_years_female</th>\n",
       "      <th>hh_over_60_years_male</th>\n",
       "      <th>months_food_lasts</th>\n",
       "      <th>lu_internal_inspector</th>\n",
       "      <th>area</th>\n",
       "      <th>wc_nr</th>\n",
       "    </tr>\n",
       "  </thead>\n",
       "  <tbody>\n",
       "    <tr>\n",
       "      <th rowspan=\"5\" valign=\"top\">og2015_1</th>\n",
       "      <th>0</th>\n",
       "      <td>1.0</td>\n",
       "      <td>Norman</td>\n",
       "      <td>2015-10-12 00:00:00.000</td>\n",
       "      <td>3037.0</td>\n",
       "      <td>2015-09-21 00:00:00.000</td>\n",
       "      <td>Molliah</td>\n",
       "      <td>None</td>\n",
       "      <td>0.0</td>\n",
       "      <td>2.0</td>\n",
       "      <td>2.0</td>\n",
       "      <td>0.0</td>\n",
       "      <td>1.0</td>\n",
       "      <td>1.0</td>\n",
       "      <td>0.0</td>\n",
       "      <td>0.0</td>\n",
       "      <td>6.0</td>\n",
       "      <td>NaN</td>\n",
       "      <td>NaN</td>\n",
       "      <td>NaN</td>\n",
       "    </tr>\n",
       "    <tr>\n",
       "      <th>1</th>\n",
       "      <td>2.0</td>\n",
       "      <td>Norman</td>\n",
       "      <td>2015-10-12 00:00:00.000</td>\n",
       "      <td>3038.0</td>\n",
       "      <td>2015-09-21 00:00:00.000</td>\n",
       "      <td>Molliah</td>\n",
       "      <td>None</td>\n",
       "      <td>1.0</td>\n",
       "      <td>1.0</td>\n",
       "      <td>1.0</td>\n",
       "      <td>0.0</td>\n",
       "      <td>1.0</td>\n",
       "      <td>0.0</td>\n",
       "      <td>0.0</td>\n",
       "      <td>0.0</td>\n",
       "      <td>4.0</td>\n",
       "      <td>NaN</td>\n",
       "      <td>NaN</td>\n",
       "      <td>NaN</td>\n",
       "    </tr>\n",
       "    <tr>\n",
       "      <th>2</th>\n",
       "      <td>3.0</td>\n",
       "      <td>Norman</td>\n",
       "      <td>2015-10-12 00:00:00.000</td>\n",
       "      <td>3041.0</td>\n",
       "      <td>2015-09-23 00:00:00.000</td>\n",
       "      <td>Missozi</td>\n",
       "      <td>None</td>\n",
       "      <td>0.0</td>\n",
       "      <td>0.0</td>\n",
       "      <td>0.0</td>\n",
       "      <td>1.0</td>\n",
       "      <td>1.0</td>\n",
       "      <td>0.0</td>\n",
       "      <td>1.0</td>\n",
       "      <td>0.0</td>\n",
       "      <td>3.0</td>\n",
       "      <td>NaN</td>\n",
       "      <td>NaN</td>\n",
       "      <td>NaN</td>\n",
       "    </tr>\n",
       "    <tr>\n",
       "      <th>3</th>\n",
       "      <td>4.0</td>\n",
       "      <td>Norman</td>\n",
       "      <td>2015-10-12 00:00:00.000</td>\n",
       "      <td>3043.0</td>\n",
       "      <td>2015-09-22 00:00:00.000</td>\n",
       "      <td>Missozi</td>\n",
       "      <td>None</td>\n",
       "      <td>0.0</td>\n",
       "      <td>1.0</td>\n",
       "      <td>1.0</td>\n",
       "      <td>0.0</td>\n",
       "      <td>2.0</td>\n",
       "      <td>0.0</td>\n",
       "      <td>0.0</td>\n",
       "      <td>1.0</td>\n",
       "      <td>6.0</td>\n",
       "      <td>NaN</td>\n",
       "      <td>NaN</td>\n",
       "      <td>NaN</td>\n",
       "    </tr>\n",
       "    <tr>\n",
       "      <th>4</th>\n",
       "      <td>5.0</td>\n",
       "      <td>Norman</td>\n",
       "      <td>2015-10-12 00:00:00.000</td>\n",
       "      <td>3044.0</td>\n",
       "      <td>2015-09-22 00:00:00.000</td>\n",
       "      <td>Missozi</td>\n",
       "      <td>None</td>\n",
       "      <td>0.0</td>\n",
       "      <td>0.0</td>\n",
       "      <td>1.0</td>\n",
       "      <td>2.0</td>\n",
       "      <td>1.0</td>\n",
       "      <td>1.0</td>\n",
       "      <td>0.0</td>\n",
       "      <td>1.0</td>\n",
       "      <td>6.0</td>\n",
       "      <td>NaN</td>\n",
       "      <td>NaN</td>\n",
       "      <td>NaN</td>\n",
       "    </tr>\n",
       "  </tbody>\n",
       "</table>\n",
       "</div>"
      ],
      "text/plain": [
       "             id entered_by             date_entered   og_nr  \\\n",
       "og2015_1 0  1.0     Norman  2015-10-12 00:00:00.000  3037.0   \n",
       "         1  2.0     Norman  2015-10-12 00:00:00.000  3038.0   \n",
       "         2  3.0     Norman  2015-10-12 00:00:00.000  3041.0   \n",
       "         3  4.0     Norman  2015-10-12 00:00:00.000  3043.0   \n",
       "         4  5.0     Norman  2015-10-12 00:00:00.000  3044.0   \n",
       "\n",
       "                     date_inspected internal_inspector date_of_birth  \\\n",
       "og2015_1 0  2015-09-21 00:00:00.000            Molliah          None   \n",
       "         1  2015-09-21 00:00:00.000            Molliah          None   \n",
       "         2  2015-09-23 00:00:00.000            Missozi          None   \n",
       "         3  2015-09-22 00:00:00.000            Missozi          None   \n",
       "         4  2015-09-22 00:00:00.000            Missozi          None   \n",
       "\n",
       "            hh_under_5_years_female  hh_under_5_years_male  \\\n",
       "og2015_1 0                      0.0                    2.0   \n",
       "         1                      1.0                    1.0   \n",
       "         2                      0.0                    0.0   \n",
       "         3                      0.0                    1.0   \n",
       "         4                      0.0                    0.0   \n",
       "\n",
       "            hh_5-17_years_female  hh_5-17_years_male  hh_18-59_years_female  \\\n",
       "og2015_1 0                   2.0                 0.0                    1.0   \n",
       "         1                   1.0                 0.0                    1.0   \n",
       "         2                   0.0                 1.0                    1.0   \n",
       "         3                   1.0                 0.0                    2.0   \n",
       "         4                   1.0                 2.0                    1.0   \n",
       "\n",
       "            hh_18-59_years_male  hh_over_60_years_female  \\\n",
       "og2015_1 0                  1.0                      0.0   \n",
       "         1                  0.0                      0.0   \n",
       "         2                  0.0                      1.0   \n",
       "         3                  0.0                      0.0   \n",
       "         4                  1.0                      0.0   \n",
       "\n",
       "            hh_over_60_years_male  months_food_lasts lu_internal_inspector  \\\n",
       "og2015_1 0                    0.0                6.0                   NaN   \n",
       "         1                    0.0                4.0                   NaN   \n",
       "         2                    0.0                3.0                   NaN   \n",
       "         3                    1.0                6.0                   NaN   \n",
       "         4                    1.0                6.0                   NaN   \n",
       "\n",
       "           area  wc_nr  \n",
       "og2015_1 0  NaN    NaN  \n",
       "         1  NaN    NaN  \n",
       "         2  NaN    NaN  \n",
       "         3  NaN    NaN  \n",
       "         4  NaN    NaN  "
      ]
     },
     "execution_count": 85,
     "metadata": {},
     "output_type": "execute_result"
    }
   ],
   "source": [
    "concat_insp_15_18.head()"
   ]
  },
  {
   "cell_type": "code",
   "execution_count": 87,
   "metadata": {},
   "outputs": [
    {
     "data": {
      "text/plain": [
       "id                         1004\n",
       "entered_by                 3607\n",
       "date_entered               2601\n",
       "og_nr                      2885\n",
       "date_inspected             2609\n",
       "internal_inspector         4003\n",
       "date_of_birth              3567\n",
       "hh_under_5_years_female      79\n",
       "hh_under_5_years_male        82\n",
       "hh_5-17_years_female         78\n",
       "hh_5-17_years_male           78\n",
       "hh_18-59_years_female        78\n",
       "hh_18-59_years_male          78\n",
       "hh_over_60_years_female      78\n",
       "hh_over_60_years_male        77\n",
       "months_food_lasts            79\n",
       "lu_internal_inspector      4631\n",
       "area                       4025\n",
       "wc_nr                      2136\n",
       "dtype: int64"
      ]
     },
     "execution_count": 87,
     "metadata": {},
     "output_type": "execute_result"
    }
   ],
   "source": [
    "concat_insp_15_18.isnull().sum()"
   ]
  },
  {
   "cell_type": "code",
   "execution_count": 89,
   "metadata": {},
   "outputs": [],
   "source": [
    "concat_insp_15_18.set_index('id', inplace=True) #resetting index to be able to compare \n"
   ]
  },
  {
   "cell_type": "code",
   "execution_count": 90,
   "metadata": {},
   "outputs": [
    {
     "data": {
      "text/html": [
       "<div>\n",
       "<style scoped>\n",
       "    .dataframe tbody tr th:only-of-type {\n",
       "        vertical-align: middle;\n",
       "    }\n",
       "\n",
       "    .dataframe tbody tr th {\n",
       "        vertical-align: top;\n",
       "    }\n",
       "\n",
       "    .dataframe thead th {\n",
       "        text-align: right;\n",
       "    }\n",
       "</style>\n",
       "<table border=\"1\" class=\"dataframe\">\n",
       "  <thead>\n",
       "    <tr style=\"text-align: right;\">\n",
       "      <th></th>\n",
       "      <th>date_entered</th>\n",
       "      <th>og_nr</th>\n",
       "      <th>date_inspected</th>\n",
       "      <th>date_of_birth</th>\n",
       "      <th>hh_under_5_years_female</th>\n",
       "      <th>hh_under_5_years_male</th>\n",
       "      <th>hh_5-17_years_female</th>\n",
       "      <th>hh_5-17_years_male</th>\n",
       "      <th>hh_18-59_years_female</th>\n",
       "      <th>hh_18-59_years_male</th>\n",
       "      <th>hh_over_60_years_female</th>\n",
       "      <th>hh_over_60_years_male</th>\n",
       "      <th>months_food_lasts</th>\n",
       "      <th>area</th>\n",
       "      <th>wc_nr</th>\n",
       "    </tr>\n",
       "    <tr>\n",
       "      <th>id</th>\n",
       "      <th></th>\n",
       "      <th></th>\n",
       "      <th></th>\n",
       "      <th></th>\n",
       "      <th></th>\n",
       "      <th></th>\n",
       "      <th></th>\n",
       "      <th></th>\n",
       "      <th></th>\n",
       "      <th></th>\n",
       "      <th></th>\n",
       "      <th></th>\n",
       "      <th></th>\n",
       "      <th></th>\n",
       "      <th></th>\n",
       "    </tr>\n",
       "  </thead>\n",
       "  <tbody>\n",
       "    <tr>\n",
       "      <th>1.0</th>\n",
       "      <td>2015-10-12 00:00:00.000</td>\n",
       "      <td>3037.0</td>\n",
       "      <td>2015-09-21 00:00:00.000</td>\n",
       "      <td>None</td>\n",
       "      <td>0.0</td>\n",
       "      <td>2.0</td>\n",
       "      <td>2.0</td>\n",
       "      <td>0.0</td>\n",
       "      <td>1.0</td>\n",
       "      <td>1.0</td>\n",
       "      <td>0.0</td>\n",
       "      <td>0.0</td>\n",
       "      <td>6.0</td>\n",
       "      <td>NaN</td>\n",
       "      <td>NaN</td>\n",
       "    </tr>\n",
       "    <tr>\n",
       "      <th>2.0</th>\n",
       "      <td>2015-10-12 00:00:00.000</td>\n",
       "      <td>3038.0</td>\n",
       "      <td>2015-09-21 00:00:00.000</td>\n",
       "      <td>None</td>\n",
       "      <td>1.0</td>\n",
       "      <td>1.0</td>\n",
       "      <td>1.0</td>\n",
       "      <td>0.0</td>\n",
       "      <td>1.0</td>\n",
       "      <td>0.0</td>\n",
       "      <td>0.0</td>\n",
       "      <td>0.0</td>\n",
       "      <td>4.0</td>\n",
       "      <td>NaN</td>\n",
       "      <td>NaN</td>\n",
       "    </tr>\n",
       "    <tr>\n",
       "      <th>3.0</th>\n",
       "      <td>2015-10-12 00:00:00.000</td>\n",
       "      <td>3041.0</td>\n",
       "      <td>2015-09-23 00:00:00.000</td>\n",
       "      <td>None</td>\n",
       "      <td>0.0</td>\n",
       "      <td>0.0</td>\n",
       "      <td>0.0</td>\n",
       "      <td>1.0</td>\n",
       "      <td>1.0</td>\n",
       "      <td>0.0</td>\n",
       "      <td>1.0</td>\n",
       "      <td>0.0</td>\n",
       "      <td>3.0</td>\n",
       "      <td>NaN</td>\n",
       "      <td>NaN</td>\n",
       "    </tr>\n",
       "    <tr>\n",
       "      <th>4.0</th>\n",
       "      <td>2015-10-12 00:00:00.000</td>\n",
       "      <td>3043.0</td>\n",
       "      <td>2015-09-22 00:00:00.000</td>\n",
       "      <td>None</td>\n",
       "      <td>0.0</td>\n",
       "      <td>1.0</td>\n",
       "      <td>1.0</td>\n",
       "      <td>0.0</td>\n",
       "      <td>2.0</td>\n",
       "      <td>0.0</td>\n",
       "      <td>0.0</td>\n",
       "      <td>1.0</td>\n",
       "      <td>6.0</td>\n",
       "      <td>NaN</td>\n",
       "      <td>NaN</td>\n",
       "    </tr>\n",
       "    <tr>\n",
       "      <th>5.0</th>\n",
       "      <td>2015-10-12 00:00:00.000</td>\n",
       "      <td>3044.0</td>\n",
       "      <td>2015-09-22 00:00:00.000</td>\n",
       "      <td>None</td>\n",
       "      <td>0.0</td>\n",
       "      <td>0.0</td>\n",
       "      <td>1.0</td>\n",
       "      <td>2.0</td>\n",
       "      <td>1.0</td>\n",
       "      <td>1.0</td>\n",
       "      <td>0.0</td>\n",
       "      <td>1.0</td>\n",
       "      <td>6.0</td>\n",
       "      <td>NaN</td>\n",
       "      <td>NaN</td>\n",
       "    </tr>\n",
       "    <tr>\n",
       "      <th>...</th>\n",
       "      <td>...</td>\n",
       "      <td>...</td>\n",
       "      <td>...</td>\n",
       "      <td>...</td>\n",
       "      <td>...</td>\n",
       "      <td>...</td>\n",
       "      <td>...</td>\n",
       "      <td>...</td>\n",
       "      <td>...</td>\n",
       "      <td>...</td>\n",
       "      <td>...</td>\n",
       "      <td>...</td>\n",
       "      <td>...</td>\n",
       "      <td>...</td>\n",
       "      <td>...</td>\n",
       "    </tr>\n",
       "    <tr>\n",
       "      <th>27.0</th>\n",
       "      <td>2017-08-17</td>\n",
       "      <td>NaN</td>\n",
       "      <td>2017-08-10</td>\n",
       "      <td>1958-10-15</td>\n",
       "      <td>4.0</td>\n",
       "      <td>1.0</td>\n",
       "      <td>0.0</td>\n",
       "      <td>1.0</td>\n",
       "      <td>4.0</td>\n",
       "      <td>0.0</td>\n",
       "      <td>0.0</td>\n",
       "      <td>1.0</td>\n",
       "      <td>0.0</td>\n",
       "      <td>NaN</td>\n",
       "      <td>40397.0</td>\n",
       "    </tr>\n",
       "    <tr>\n",
       "      <th>28.0</th>\n",
       "      <td>2017-08-17</td>\n",
       "      <td>NaN</td>\n",
       "      <td>2017-08-10</td>\n",
       "      <td>1969-10-06</td>\n",
       "      <td>0.0</td>\n",
       "      <td>2.0</td>\n",
       "      <td>1.0</td>\n",
       "      <td>4.0</td>\n",
       "      <td>1.0</td>\n",
       "      <td>0.0</td>\n",
       "      <td>0.0</td>\n",
       "      <td>0.0</td>\n",
       "      <td>2.0</td>\n",
       "      <td>NaN</td>\n",
       "      <td>42461.0</td>\n",
       "    </tr>\n",
       "    <tr>\n",
       "      <th>29.0</th>\n",
       "      <td>2017-08-17</td>\n",
       "      <td>NaN</td>\n",
       "      <td>2017-08-09</td>\n",
       "      <td>None</td>\n",
       "      <td>0.0</td>\n",
       "      <td>0.0</td>\n",
       "      <td>2.0</td>\n",
       "      <td>2.0</td>\n",
       "      <td>1.0</td>\n",
       "      <td>1.0</td>\n",
       "      <td>0.0</td>\n",
       "      <td>0.0</td>\n",
       "      <td>0.0</td>\n",
       "      <td>NaN</td>\n",
       "      <td>42545.0</td>\n",
       "    </tr>\n",
       "    <tr>\n",
       "      <th>30.0</th>\n",
       "      <td>2017-08-17</td>\n",
       "      <td>NaN</td>\n",
       "      <td>2017-08-11</td>\n",
       "      <td>1957-08-08</td>\n",
       "      <td>0.0</td>\n",
       "      <td>0.0</td>\n",
       "      <td>3.0</td>\n",
       "      <td>1.0</td>\n",
       "      <td>2.0</td>\n",
       "      <td>0.0</td>\n",
       "      <td>0.0</td>\n",
       "      <td>1.0</td>\n",
       "      <td>7.0</td>\n",
       "      <td>NaN</td>\n",
       "      <td>42876.0</td>\n",
       "    </tr>\n",
       "    <tr>\n",
       "      <th>31.0</th>\n",
       "      <td>2017-08-18</td>\n",
       "      <td>NaN</td>\n",
       "      <td>2017-08-02</td>\n",
       "      <td>None</td>\n",
       "      <td>0.0</td>\n",
       "      <td>1.0</td>\n",
       "      <td>1.0</td>\n",
       "      <td>1.0</td>\n",
       "      <td>1.0</td>\n",
       "      <td>1.0</td>\n",
       "      <td>0.0</td>\n",
       "      <td>0.0</td>\n",
       "      <td>9.0</td>\n",
       "      <td>NaN</td>\n",
       "      <td>42902.0</td>\n",
       "    </tr>\n",
       "  </tbody>\n",
       "</table>\n",
       "<p>5019 rows × 15 columns</p>\n",
       "</div>"
      ],
      "text/plain": [
       "                 date_entered   og_nr           date_inspected date_of_birth  \\\n",
       "id                                                                             \n",
       "1.0   2015-10-12 00:00:00.000  3037.0  2015-09-21 00:00:00.000          None   \n",
       "2.0   2015-10-12 00:00:00.000  3038.0  2015-09-21 00:00:00.000          None   \n",
       "3.0   2015-10-12 00:00:00.000  3041.0  2015-09-23 00:00:00.000          None   \n",
       "4.0   2015-10-12 00:00:00.000  3043.0  2015-09-22 00:00:00.000          None   \n",
       "5.0   2015-10-12 00:00:00.000  3044.0  2015-09-22 00:00:00.000          None   \n",
       "...                       ...     ...                      ...           ...   \n",
       "27.0               2017-08-17     NaN               2017-08-10    1958-10-15   \n",
       "28.0               2017-08-17     NaN               2017-08-10    1969-10-06   \n",
       "29.0               2017-08-17     NaN               2017-08-09          None   \n",
       "30.0               2017-08-17     NaN               2017-08-11    1957-08-08   \n",
       "31.0               2017-08-18     NaN               2017-08-02          None   \n",
       "\n",
       "      hh_under_5_years_female  hh_under_5_years_male  hh_5-17_years_female  \\\n",
       "id                                                                           \n",
       "1.0                       0.0                    2.0                   2.0   \n",
       "2.0                       1.0                    1.0                   1.0   \n",
       "3.0                       0.0                    0.0                   0.0   \n",
       "4.0                       0.0                    1.0                   1.0   \n",
       "5.0                       0.0                    0.0                   1.0   \n",
       "...                       ...                    ...                   ...   \n",
       "27.0                      4.0                    1.0                   0.0   \n",
       "28.0                      0.0                    2.0                   1.0   \n",
       "29.0                      0.0                    0.0                   2.0   \n",
       "30.0                      0.0                    0.0                   3.0   \n",
       "31.0                      0.0                    1.0                   1.0   \n",
       "\n",
       "      hh_5-17_years_male  hh_18-59_years_female  hh_18-59_years_male  \\\n",
       "id                                                                     \n",
       "1.0                  0.0                    1.0                  1.0   \n",
       "2.0                  0.0                    1.0                  0.0   \n",
       "3.0                  1.0                    1.0                  0.0   \n",
       "4.0                  0.0                    2.0                  0.0   \n",
       "5.0                  2.0                    1.0                  1.0   \n",
       "...                  ...                    ...                  ...   \n",
       "27.0                 1.0                    4.0                  0.0   \n",
       "28.0                 4.0                    1.0                  0.0   \n",
       "29.0                 2.0                    1.0                  1.0   \n",
       "30.0                 1.0                    2.0                  0.0   \n",
       "31.0                 1.0                    1.0                  1.0   \n",
       "\n",
       "      hh_over_60_years_female  hh_over_60_years_male  months_food_lasts area  \\\n",
       "id                                                                             \n",
       "1.0                       0.0                    0.0                6.0  NaN   \n",
       "2.0                       0.0                    0.0                4.0  NaN   \n",
       "3.0                       1.0                    0.0                3.0  NaN   \n",
       "4.0                       0.0                    1.0                6.0  NaN   \n",
       "5.0                       0.0                    1.0                6.0  NaN   \n",
       "...                       ...                    ...                ...  ...   \n",
       "27.0                      0.0                    1.0                0.0  NaN   \n",
       "28.0                      0.0                    0.0                2.0  NaN   \n",
       "29.0                      0.0                    0.0                0.0  NaN   \n",
       "30.0                      0.0                    1.0                7.0  NaN   \n",
       "31.0                      0.0                    0.0                9.0  NaN   \n",
       "\n",
       "        wc_nr  \n",
       "id             \n",
       "1.0       NaN  \n",
       "2.0       NaN  \n",
       "3.0       NaN  \n",
       "4.0       NaN  \n",
       "5.0       NaN  \n",
       "...       ...  \n",
       "27.0  40397.0  \n",
       "28.0  42461.0  \n",
       "29.0  42545.0  \n",
       "30.0  42876.0  \n",
       "31.0  42902.0  \n",
       "\n",
       "[5019 rows x 15 columns]"
      ]
     },
     "metadata": {},
     "output_type": "display_data"
    }
   ],
   "source": [
    "# Drop multiple columns 2\n",
    "columns_to_drop = ['entered_by', 'lu_internal_inspector','internal_inspector']\n",
    "concat_insp_15_18.drop(columns=columns_to_drop, axis=1, inplace=True)\n",
    "\n",
    "\n",
    "\n",
    "\n",
    "\n",
    "from IPython.display import display\n",
    "# Display the merged DataFrame as a table\n",
    "display(concat_insp_15_18)"
   ]
  },
  {
   "attachments": {},
   "cell_type": "markdown",
   "metadata": {},
   "source": [
    "As far as I see, it is alright, so we can upload it to SQL database"
   ]
  },
  {
   "cell_type": "code",
   "execution_count": 91,
   "metadata": {},
   "outputs": [
    {
     "name": "stdout",
     "output_type": "stream",
     "text": [
      "The all_insp_15_18 table was imported successfully.\n"
     ]
    }
   ],
   "source": [
    "import psycopg2\n",
    "import sqlalchemy \n",
    "from sql_functions import sqlalchemy \n",
    "from sql_functions import get_engine \n",
    "\n",
    "\n",
    "# Write records stored in a dataframe to SQL database\n",
    "engine = get_engine()\n",
    "table_name = 'all_insp_15_18'\n",
    "if engine!=None:\n",
    "    try:\n",
    "        concat_insp_15_18.to_sql(name='all_insp_15_18', # Name of SQL table variable - at the front its the dataframe!! \n",
    "                        con=engine, # Engine or connection\n",
    "                        schema='organic_africa', # your class schema variable\n",
    "                        if_exists='replace', # Drop the table before inserting new values \n",
    "                        index=False, # Write DataFrame index as a column\n",
    "                        chunksize=5000, # Specify the number of rows in each batch to be written at a time\n",
    "                        method='multi') # Pass multiple values in a single INSERT clause\n",
    "        print(f\"The {table_name} table was imported successfully.\")\n",
    "    # Error handling\n",
    "    except (Exception, psycopg2.DatabaseError) as error:\n",
    "        print(error)\n",
    "        engine = None\n",
    "else:\n",
    "    print('No engine')"
   ]
  }
 ],
 "metadata": {
  "kernelspec": {
   "display_name": "nf_sql",
   "language": "python",
   "name": "python3"
  },
  "language_info": {
   "codemirror_mode": {
    "name": "ipython",
    "version": 3
   },
   "file_extension": ".py",
   "mimetype": "text/x-python",
   "name": "python",
   "nbconvert_exporter": "python",
   "pygments_lexer": "ipython3",
   "version": "3.9.16"
  },
  "orig_nbformat": 4
 },
 "nbformat": 4,
 "nbformat_minor": 2
}
