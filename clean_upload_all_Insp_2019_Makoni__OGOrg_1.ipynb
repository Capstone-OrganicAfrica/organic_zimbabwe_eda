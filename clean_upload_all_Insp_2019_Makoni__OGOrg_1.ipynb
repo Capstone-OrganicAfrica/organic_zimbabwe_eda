{
 "cells": [
  {
   "cell_type": "code",
   "execution_count": null,
   "metadata": {},
   "outputs": [],
   "source": [
    "import pandas as pd\n",
    "import sqlalchemy\n",
    "import sql_functions as sf\n"
   ]
  },
  {
   "cell_type": "code",
   "execution_count": null,
   "metadata": {},
   "outputs": [],
   "source": [
    "schema = 'organic_africa'"
   ]
  },
  {
   "cell_type": "code",
   "execution_count": null,
   "metadata": {},
   "outputs": [],
   "source": [
    "df_1= sf.get_dataframe(f'SELECT * FROM {schema}.\"OG_Insp_2019_Makoni__OGOrg_1\"')\n",
    "df_2= sf.get_dataframe(f'SELECT * FROM {schema}.\"Copy_of_OGInsp2019__OGOrg_1\"')\n",
    "df_3= sf.get_dataframe(f'SELECT * FROM {schema}.\"OGInsp2019__OGMB_1\"')\n",
    "df_4= sf.get_dataframe(f'SELECT * FROM {schema}.\"OGInsp20191__OGMB_new\"')\n"
   ]
  },
  {
   "cell_type": "code",
   "execution_count": null,
   "metadata": {},
   "outputs": [],
   "source": [
    "print(df_1['OG_Nr'].dtypes)\n",
    "print(df_2['OG_Nr'].dtypes)\n",
    "print(df_3['OG_Nr'].dtypes)\n",
    "print(df_4['OG_Nr'].dtypes)\n"
   ]
  },
  {
   "cell_type": "code",
   "execution_count": null,
   "metadata": {},
   "outputs": [],
   "source": [
    "print(df_1['OG_Nr'].isnull().sum())\n",
    "print(df_2['OG_Nr'].isnull().sum())\n",
    "print(df_3['OG_Nr'].isnull().sum())\n",
    "print(df_4['OG_Nr'].isnull().sum())\n"
   ]
  },
  {
   "cell_type": "code",
   "execution_count": null,
   "metadata": {},
   "outputs": [],
   "source": [
    "# Convert column names to lowercase in df_1\n",
    "df_1.rename(columns=str.lower, inplace=True)\n",
    "\n",
    "# Convert column names to lowercase in df_2\n",
    "df_2.rename(columns=str.lower, inplace=True)\n",
    "\n",
    "# Convert column names to lowercase in df_3\n",
    "df_3.rename(columns=str.lower, inplace=True)\n",
    "\n",
    "# Convert column names to lowercase in df_4\n",
    "df_4.rename(columns=str.lower, inplace=True)\n"
   ]
  },
  {
   "cell_type": "code",
   "execution_count": null,
   "metadata": {},
   "outputs": [],
   "source": [
    "concatenated_df = pd.concat([df_1, df_2, df_3, df_4], ignore_index=True)\n"
   ]
  },
  {
   "cell_type": "code",
   "execution_count": null,
   "metadata": {},
   "outputs": [],
   "source": [
    "# Drop multiple columns 2\n",
    "columns_to_drop = ['items_not_checked', 'other_orgs','leadership_position_1','leadership_position_2','leadership_position','overall_comment','additional_sanctions_ics','corrective_action_implemented','leadership_position_3','leadership_postion_2','all_items_checked','compliance_this_year_ics','corrective_actions','recurrent_corrective_actions','compliance_this_year','people_of_influence','observation','organisation_3','organisation_2','organisation_1','membership_to_other_organisations']\n",
    "concatenated_df.drop(columns=columns_to_drop, axis=1, inplace=True)\n"
   ]
  },
  {
   "cell_type": "code",
   "execution_count": null,
   "metadata": {},
   "outputs": [],
   "source": [
    "# drop alternative_cereal_2\talternative_cereal_3 marital_status\n",
    "columns_to_drop = ['alternative_cereal_2', 'alternative_cereal_3','marital_status','membership_other_orgs','last_year_corrective_actions']\n",
    "concatenated_df.drop(columns=columns_to_drop, axis=1, inplace=True)\n"
   ]
  },
  {
   "cell_type": "code",
   "execution_count": null,
   "metadata": {},
   "outputs": [],
   "source": [
    "columns_to_drop = ['reason_for_joining_mb_rosella']\n",
    "concatenated_df.drop(columns=columns_to_drop, axis=1, inplace=True)"
   ]
  },
  {
   "cell_type": "code",
   "execution_count": null,
   "metadata": {},
   "outputs": [],
   "source": [
    "columns_to_drop = ['sex','alternative_cereal_source_2','alternative_cereal_source_3']\n",
    "concatenated_df.drop(columns=columns_to_drop, axis=1, inplace=True)\n"
   ]
  },
  {
   "cell_type": "code",
   "execution_count": null,
   "metadata": {},
   "outputs": [],
   "source": [
    "columns_to_drop = ['input_received']\n",
    "concatenated_df.drop(columns=columns_to_drop, axis=1, inplace=True)\n"
   ]
  },
  {
   "cell_type": "code",
   "execution_count": null,
   "metadata": {},
   "outputs": [],
   "source": [
    "#columns_to_update = ['enough_cereal_2018']\n",
    "#concatenated_df[columns_to_update] = concatenated_df[columns_to_update].replace(2, 'no')\n"
   ]
  },
  {
   "cell_type": "code",
   "execution_count": null,
   "metadata": {},
   "outputs": [],
   "source": [
    "#columns_to_update = ['enough_cereal_2018']\n",
    "#concatenated_df[columns_to_update] = concatenated_df[columns_to_update].replace(1, 'yes')\n"
   ]
  },
  {
   "cell_type": "code",
   "execution_count": null,
   "metadata": {},
   "outputs": [],
   "source": [
    "import pandas as pd\n",
    "pd.set_option('display.max_rows', None)  # Show all rows\n",
    "pd.set_option('display.max_columns', None)  # Show all columns\n",
    "\n",
    "# Display the merged DataFrame as a table\n",
    "display(concatenated_df)\n"
   ]
  },
  {
   "cell_type": "code",
   "execution_count": null,
   "metadata": {},
   "outputs": [],
   "source": [
    "from IPython.display import display\n",
    "\n",
    "# Display the merged DataFrame as a table\n",
    "display(concatenated_df)\n"
   ]
  },
  {
   "cell_type": "code",
   "execution_count": null,
   "metadata": {},
   "outputs": [],
   "source": [
    "### added to git 27.06"
   ]
  },
  {
   "cell_type": "code",
   "execution_count": null,
   "metadata": {},
   "outputs": [],
   "source": [
    "# we need psycopg2 for raising possible error message\n",
    "import psycopg2\n",
    "import sqlalchemy\n",
    "from sql_functions import sqlalchemy\n",
    "from sql_functions import get_engine\n",
    "# Write records stored in a dataframe to SQL database\n",
    "engine = get_engine()\n",
    "table_name = 'all_insp_2019'\n",
    "if engine!=None:\n",
    "    try:\n",
    "        concatenated_df.to_sql(name='all_insp_2019', # Name of SQL table variable - at the front its the dataframe!!\n",
    "                        con=engine, # Engine or connection\n",
    "                        schema='organic_africa', # your class schema variable\n",
    "                        if_exists='replace', # Drop the table before inserting new values\n",
    "                        index=False, # Write DataFrame index as a column\n",
    "                        chunksize=5000, # Specify the number of rows in each batch to be written at a time\n",
    "                        method='multi') # Pass multiple values in a single INSERT clause\n",
    "        print(f\"The {table_name} table was imported successfully.\")\n",
    "    # Error handling\n",
    "    except (Exception, psycopg2.DatabaseError) as error:\n",
    "        print(error)\n",
    "        engine = None\n",
    "else:\n",
    "    print('No engine')"
   ]
  }
 ],
 "metadata": {
  "kernelspec": {
   "display_name": "nf_sql",
   "language": "python",
   "name": "python3"
  },
  "language_info": {
   "codemirror_mode": {
    "name": "ipython",
    "version": 3
   },
   "file_extension": ".py",
   "mimetype": "text/x-python",
   "name": "python",
   "nbconvert_exporter": "python",
   "pygments_lexer": "ipython3",
   "version": "3.9.16"
  },
  "orig_nbformat": 4
 },
 "nbformat": 4,
 "nbformat_minor": 2
}
