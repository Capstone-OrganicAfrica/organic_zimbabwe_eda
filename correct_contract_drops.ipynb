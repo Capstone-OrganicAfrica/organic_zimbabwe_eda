{
 "cells": [
  {
   "cell_type": "code",
   "execution_count": 188,
   "metadata": {},
   "outputs": [],
   "source": [
    "import pandas as pd\n",
    "import sql_functions as sf\n",
    "\n",
    "schema = 'organic_africa' # UPDATE 'TABLE_SCHEMA' based on schema used in class \n",
    "engine = sf.get_engine()"
   ]
  },
  {
   "cell_type": "code",
   "execution_count": 189,
   "metadata": {},
   "outputs": [
    {
     "data": {
      "text/plain": [
       "(20610, 22)"
      ]
     },
     "execution_count": 189,
     "metadata": {},
     "output_type": "execute_result"
    }
   ],
   "source": [
    "farmers_df = sf.get_dataframe(f'SELECT * FROM {schema}.all_farmers')\n",
    "farmers_df.shape"
   ]
  },
  {
   "cell_type": "code",
   "execution_count": 190,
   "metadata": {},
   "outputs": [],
   "source": [
    "farmers_df['contract_duration'] = farmers_df['date_dropped_out'] - farmers_df['date_contracted']"
   ]
  },
  {
   "cell_type": "code",
   "execution_count": 191,
   "metadata": {},
   "outputs": [
    {
     "data": {
      "text/html": [
       "<div>\n",
       "<style scoped>\n",
       "    .dataframe tbody tr th:only-of-type {\n",
       "        vertical-align: middle;\n",
       "    }\n",
       "\n",
       "    .dataframe tbody tr th {\n",
       "        vertical-align: top;\n",
       "    }\n",
       "\n",
       "    .dataframe thead th {\n",
       "        text-align: right;\n",
       "    }\n",
       "</style>\n",
       "<table border=\"1\" class=\"dataframe\">\n",
       "  <thead>\n",
       "    <tr style=\"text-align: right;\">\n",
       "      <th></th>\n",
       "      <th>og_nr</th>\n",
       "      <th>wc_nr</th>\n",
       "      <th>date_contracted</th>\n",
       "      <th>date_dropped_out</th>\n",
       "      <th>contract_duration</th>\n",
       "    </tr>\n",
       "  </thead>\n",
       "  <tbody>\n",
       "    <tr>\n",
       "      <th>205</th>\n",
       "      <td>19486.0</td>\n",
       "      <td>NaN</td>\n",
       "      <td>2023-02-24</td>\n",
       "      <td>2019-01-09</td>\n",
       "      <td>-1507 days</td>\n",
       "    </tr>\n",
       "    <tr>\n",
       "      <th>216</th>\n",
       "      <td>5157.0</td>\n",
       "      <td>NaN</td>\n",
       "      <td>2023-02-24</td>\n",
       "      <td>2017-12-04</td>\n",
       "      <td>-1908 days</td>\n",
       "    </tr>\n",
       "    <tr>\n",
       "      <th>314</th>\n",
       "      <td>16059.0</td>\n",
       "      <td>NaN</td>\n",
       "      <td>2023-02-23</td>\n",
       "      <td>2017-10-19</td>\n",
       "      <td>-1953 days</td>\n",
       "    </tr>\n",
       "    <tr>\n",
       "      <th>315</th>\n",
       "      <td>16069.0</td>\n",
       "      <td>NaN</td>\n",
       "      <td>2023-02-23</td>\n",
       "      <td>2017-12-04</td>\n",
       "      <td>-1907 days</td>\n",
       "    </tr>\n",
       "    <tr>\n",
       "      <th>390</th>\n",
       "      <td>19485.0</td>\n",
       "      <td>NaN</td>\n",
       "      <td>2022-12-07</td>\n",
       "      <td>2018-11-15</td>\n",
       "      <td>-1483 days</td>\n",
       "    </tr>\n",
       "    <tr>\n",
       "      <th>...</th>\n",
       "      <td>...</td>\n",
       "      <td>...</td>\n",
       "      <td>...</td>\n",
       "      <td>...</td>\n",
       "      <td>...</td>\n",
       "    </tr>\n",
       "    <tr>\n",
       "      <th>8933</th>\n",
       "      <td>16152.0</td>\n",
       "      <td>NaN</td>\n",
       "      <td>2017-08-31</td>\n",
       "      <td>2017-04-12</td>\n",
       "      <td>-141 days</td>\n",
       "    </tr>\n",
       "    <tr>\n",
       "      <th>8934</th>\n",
       "      <td>16150.0</td>\n",
       "      <td>NaN</td>\n",
       "      <td>2017-08-31</td>\n",
       "      <td>2017-04-12</td>\n",
       "      <td>-141 days</td>\n",
       "    </tr>\n",
       "    <tr>\n",
       "      <th>8935</th>\n",
       "      <td>16148.0</td>\n",
       "      <td>NaN</td>\n",
       "      <td>2017-08-31</td>\n",
       "      <td>2017-04-12</td>\n",
       "      <td>-141 days</td>\n",
       "    </tr>\n",
       "    <tr>\n",
       "      <th>8937</th>\n",
       "      <td>16146.0</td>\n",
       "      <td>NaN</td>\n",
       "      <td>2017-08-31</td>\n",
       "      <td>2017-04-12</td>\n",
       "      <td>-141 days</td>\n",
       "    </tr>\n",
       "    <tr>\n",
       "      <th>20126</th>\n",
       "      <td>NaN</td>\n",
       "      <td>2101.0</td>\n",
       "      <td>2018-10-20</td>\n",
       "      <td>2016-07-11</td>\n",
       "      <td>-831 days</td>\n",
       "    </tr>\n",
       "  </tbody>\n",
       "</table>\n",
       "<p>68 rows × 5 columns</p>\n",
       "</div>"
      ],
      "text/plain": [
       "         og_nr   wc_nr date_contracted date_dropped_out contract_duration\n",
       "205    19486.0     NaN      2023-02-24       2019-01-09        -1507 days\n",
       "216     5157.0     NaN      2023-02-24       2017-12-04        -1908 days\n",
       "314    16059.0     NaN      2023-02-23       2017-10-19        -1953 days\n",
       "315    16069.0     NaN      2023-02-23       2017-12-04        -1907 days\n",
       "390    19485.0     NaN      2022-12-07       2018-11-15        -1483 days\n",
       "...        ...     ...             ...              ...               ...\n",
       "8933   16152.0     NaN      2017-08-31       2017-04-12         -141 days\n",
       "8934   16150.0     NaN      2017-08-31       2017-04-12         -141 days\n",
       "8935   16148.0     NaN      2017-08-31       2017-04-12         -141 days\n",
       "8937   16146.0     NaN      2017-08-31       2017-04-12         -141 days\n",
       "20126      NaN  2101.0      2018-10-20       2016-07-11         -831 days\n",
       "\n",
       "[68 rows x 5 columns]"
      ]
     },
     "execution_count": 191,
     "metadata": {},
     "output_type": "execute_result"
    }
   ],
   "source": [
    "negative_duration = farmers_df[farmers_df['date_contracted'] > farmers_df['date_dropped_out']][['og_nr','wc_nr','date_contracted','date_dropped_out','contract_duration']]\n",
    "negative_duration"
   ]
  },
  {
   "cell_type": "code",
   "execution_count": 192,
   "metadata": {},
   "outputs": [
    {
     "name": "stderr",
     "output_type": "stream",
     "text": [
      "/var/folders/x5/v1d8l9v94679fhr8vd07ys9c0000gn/T/ipykernel_14506/2257917660.py:3: SettingWithCopyWarning: \n",
      "A value is trying to be set on a copy of a slice from a DataFrame.\n",
      "Try using .loc[row_indexer,col_indexer] = value instead\n",
      "\n",
      "See the caveats in the documentation: https://pandas.pydata.org/pandas-docs/stable/user_guide/indexing.html#returning-a-view-versus-a-copy\n",
      "  negative_duration['original_date_contracted'] = None\n"
     ]
    }
   ],
   "source": [
    "# 68 indices\n",
    "negative_duration = negative_duration[['og_nr','wc_nr','date_contracted']]\n",
    "negative_duration['original_date_contracted'] = None"
   ]
  },
  {
   "cell_type": "code",
   "execution_count": 193,
   "metadata": {},
   "outputs": [
    {
     "data": {
      "text/html": [
       "<div>\n",
       "<style scoped>\n",
       "    .dataframe tbody tr th:only-of-type {\n",
       "        vertical-align: middle;\n",
       "    }\n",
       "\n",
       "    .dataframe tbody tr th {\n",
       "        vertical-align: top;\n",
       "    }\n",
       "\n",
       "    .dataframe thead th {\n",
       "        text-align: right;\n",
       "    }\n",
       "</style>\n",
       "<table border=\"1\" class=\"dataframe\">\n",
       "  <thead>\n",
       "    <tr style=\"text-align: right;\">\n",
       "      <th></th>\n",
       "      <th>og_nr</th>\n",
       "      <th>wc_nr</th>\n",
       "      <th>date_contracted</th>\n",
       "      <th>original_date_contracted</th>\n",
       "    </tr>\n",
       "  </thead>\n",
       "  <tbody>\n",
       "    <tr>\n",
       "      <th>205</th>\n",
       "      <td>19486.0</td>\n",
       "      <td>NaN</td>\n",
       "      <td>2023-02-24</td>\n",
       "      <td>None</td>\n",
       "    </tr>\n",
       "    <tr>\n",
       "      <th>216</th>\n",
       "      <td>5157.0</td>\n",
       "      <td>NaN</td>\n",
       "      <td>2023-02-24</td>\n",
       "      <td>None</td>\n",
       "    </tr>\n",
       "    <tr>\n",
       "      <th>314</th>\n",
       "      <td>16059.0</td>\n",
       "      <td>NaN</td>\n",
       "      <td>2023-02-23</td>\n",
       "      <td>None</td>\n",
       "    </tr>\n",
       "    <tr>\n",
       "      <th>315</th>\n",
       "      <td>16069.0</td>\n",
       "      <td>NaN</td>\n",
       "      <td>2023-02-23</td>\n",
       "      <td>None</td>\n",
       "    </tr>\n",
       "    <tr>\n",
       "      <th>390</th>\n",
       "      <td>19485.0</td>\n",
       "      <td>NaN</td>\n",
       "      <td>2022-12-07</td>\n",
       "      <td>None</td>\n",
       "    </tr>\n",
       "    <tr>\n",
       "      <th>...</th>\n",
       "      <td>...</td>\n",
       "      <td>...</td>\n",
       "      <td>...</td>\n",
       "      <td>...</td>\n",
       "    </tr>\n",
       "    <tr>\n",
       "      <th>8933</th>\n",
       "      <td>16152.0</td>\n",
       "      <td>NaN</td>\n",
       "      <td>2017-08-31</td>\n",
       "      <td>None</td>\n",
       "    </tr>\n",
       "    <tr>\n",
       "      <th>8934</th>\n",
       "      <td>16150.0</td>\n",
       "      <td>NaN</td>\n",
       "      <td>2017-08-31</td>\n",
       "      <td>None</td>\n",
       "    </tr>\n",
       "    <tr>\n",
       "      <th>8935</th>\n",
       "      <td>16148.0</td>\n",
       "      <td>NaN</td>\n",
       "      <td>2017-08-31</td>\n",
       "      <td>None</td>\n",
       "    </tr>\n",
       "    <tr>\n",
       "      <th>8937</th>\n",
       "      <td>16146.0</td>\n",
       "      <td>NaN</td>\n",
       "      <td>2017-08-31</td>\n",
       "      <td>None</td>\n",
       "    </tr>\n",
       "    <tr>\n",
       "      <th>20126</th>\n",
       "      <td>NaN</td>\n",
       "      <td>2101.0</td>\n",
       "      <td>2018-10-20</td>\n",
       "      <td>None</td>\n",
       "    </tr>\n",
       "  </tbody>\n",
       "</table>\n",
       "<p>68 rows × 4 columns</p>\n",
       "</div>"
      ],
      "text/plain": [
       "         og_nr   wc_nr date_contracted original_date_contracted\n",
       "205    19486.0     NaN      2023-02-24                     None\n",
       "216     5157.0     NaN      2023-02-24                     None\n",
       "314    16059.0     NaN      2023-02-23                     None\n",
       "315    16069.0     NaN      2023-02-23                     None\n",
       "390    19485.0     NaN      2022-12-07                     None\n",
       "...        ...     ...             ...                      ...\n",
       "8933   16152.0     NaN      2017-08-31                     None\n",
       "8934   16150.0     NaN      2017-08-31                     None\n",
       "8935   16148.0     NaN      2017-08-31                     None\n",
       "8937   16146.0     NaN      2017-08-31                     None\n",
       "20126      NaN  2101.0      2018-10-20                     None\n",
       "\n",
       "[68 rows x 4 columns]"
      ]
     },
     "execution_count": 193,
     "metadata": {},
     "output_type": "execute_result"
    }
   ],
   "source": [
    "negative_duration"
   ]
  },
  {
   "cell_type": "code",
   "execution_count": 194,
   "metadata": {},
   "outputs": [],
   "source": [
    "# original_tables\n",
    "OGInfo__OGMB_1_df = sf.get_dataframe(f'SELECT * FROM {schema}.\"OGInfo__OGMB_1\"') # [205, 216, 314, 315, 390, 466, 846, 6427, 7714, ..] 50 indices\n",
    "OG_Info__OGOrg_1_df = sf.get_dataframe(f'SELECT * FROM {schema}.\"OG_Info__OGOrg_1\"') #[205, 216, 314, 315, 390, 466, 846]\n",
    "wc_info__WCOrg_1_df = sf.get_dataframe(f'SELECT * FROM {schema}.\"wc_info__WCOrg_1\"') #[205, 216, 314, 315, 390, 466]\n",
    "OG_Info_reserve__OGOrg_1_df = sf.get_dataframe(f'SELECT * FROM {schema}.\"OG_Info_reserve__OGOrg_1\"') #[205, 216, 314, 315, 390, 466]"
   ]
  },
  {
   "cell_type": "code",
   "execution_count": 197,
   "metadata": {},
   "outputs": [
    {
     "data": {
      "text/plain": [
       "20126"
      ]
     },
     "execution_count": 197,
     "metadata": {},
     "output_type": "execute_result"
    }
   ],
   "source": [
    "negative_duration.index[67]"
   ]
  },
  {
   "cell_type": "code",
   "execution_count": 199,
   "metadata": {},
   "outputs": [
    {
     "data": {
      "text/plain": [
       "Index(['og_nr', 'wc_nr', 'date_contracted', 'original_date_contracted'], dtype='object')"
      ]
     },
     "execution_count": 199,
     "metadata": {},
     "output_type": "execute_result"
    }
   ],
   "source": [
    "negative_duration.columns"
   ]
  },
  {
   "cell_type": "code",
   "execution_count": 200,
   "metadata": {},
   "outputs": [
    {
     "data": {
      "text/plain": [
       "array(['2147-12-06T00:00:00.000000000'], dtype='datetime64[ns]')"
      ]
     },
     "execution_count": 200,
     "metadata": {},
     "output_type": "execute_result"
    }
   ],
   "source": [
    "OGInfo__OGMB_1_df['date_contracted'].values[OGInfo__OGMB_1_df['OG_Nr']==13190.0]"
   ]
  },
  {
   "cell_type": "code",
   "execution_count": 203,
   "metadata": {},
   "outputs": [],
   "source": [
    "merge_df = pd.merge(negative_duration,OG_Info__OGOrg_1_df[['OG_Nr','Date_contracted']],left_on='og_nr', right_on='OG_Nr', how='left')"
   ]
  },
  {
   "cell_type": "code",
   "execution_count": 207,
   "metadata": {},
   "outputs": [
    {
     "data": {
      "text/html": [
       "<div>\n",
       "<style scoped>\n",
       "    .dataframe tbody tr th:only-of-type {\n",
       "        vertical-align: middle;\n",
       "    }\n",
       "\n",
       "    .dataframe tbody tr th {\n",
       "        vertical-align: top;\n",
       "    }\n",
       "\n",
       "    .dataframe thead th {\n",
       "        text-align: right;\n",
       "    }\n",
       "</style>\n",
       "<table border=\"1\" class=\"dataframe\">\n",
       "  <thead>\n",
       "    <tr style=\"text-align: right;\">\n",
       "      <th></th>\n",
       "      <th>og_nr</th>\n",
       "      <th>wc_nr</th>\n",
       "      <th>date_contracted</th>\n",
       "      <th>original_date_contracted</th>\n",
       "      <th>OG_Nr</th>\n",
       "      <th>Date_contracted</th>\n",
       "    </tr>\n",
       "  </thead>\n",
       "  <tbody>\n",
       "    <tr>\n",
       "      <th>6</th>\n",
       "      <td>13190.0</td>\n",
       "      <td>NaN</td>\n",
       "      <td>2021-07-06</td>\n",
       "      <td>None</td>\n",
       "      <td>NaN</td>\n",
       "      <td>NaN</td>\n",
       "    </tr>\n",
       "    <tr>\n",
       "      <th>7</th>\n",
       "      <td>14304.0</td>\n",
       "      <td>NaN</td>\n",
       "      <td>2018-11-15</td>\n",
       "      <td>None</td>\n",
       "      <td>NaN</td>\n",
       "      <td>NaN</td>\n",
       "    </tr>\n",
       "    <tr>\n",
       "      <th>67</th>\n",
       "      <td>NaN</td>\n",
       "      <td>2101.0</td>\n",
       "      <td>2018-10-20</td>\n",
       "      <td>None</td>\n",
       "      <td>NaN</td>\n",
       "      <td>NaN</td>\n",
       "    </tr>\n",
       "  </tbody>\n",
       "</table>\n",
       "</div>"
      ],
      "text/plain": [
       "      og_nr   wc_nr date_contracted original_date_contracted  OG_Nr  \\\n",
       "6   13190.0     NaN      2021-07-06                     None    NaN   \n",
       "7   14304.0     NaN      2018-11-15                     None    NaN   \n",
       "67      NaN  2101.0      2018-10-20                     None    NaN   \n",
       "\n",
       "   Date_contracted  \n",
       "6              NaN  \n",
       "7              NaN  \n",
       "67             NaN  "
      ]
     },
     "execution_count": 207,
     "metadata": {},
     "output_type": "execute_result"
    }
   ],
   "source": [
    "merge_df[merge_df['Date_contracted'].isna()]"
   ]
  },
  {
   "cell_type": "code",
   "execution_count": null,
   "metadata": {},
   "outputs": [],
   "source": [
    "merge_all_df = pd.merge(merge_df,OG_Info__OGOrg_1_df[['OG_Nr','Date_contracted']],left_on='og_nr', right_on='OG_Nr', how='left')"
   ]
  },
  {
   "cell_type": "code",
   "execution_count": 130,
   "metadata": {},
   "outputs": [
    {
     "data": {
      "text/html": [
       "<div>\n",
       "<style scoped>\n",
       "    .dataframe tbody tr th:only-of-type {\n",
       "        vertical-align: middle;\n",
       "    }\n",
       "\n",
       "    .dataframe tbody tr th {\n",
       "        vertical-align: top;\n",
       "    }\n",
       "\n",
       "    .dataframe thead th {\n",
       "        text-align: right;\n",
       "    }\n",
       "</style>\n",
       "<table border=\"1\" class=\"dataframe\">\n",
       "  <thead>\n",
       "    <tr style=\"text-align: right;\">\n",
       "      <th></th>\n",
       "      <th>ID</th>\n",
       "      <th>OG_Nr</th>\n",
       "      <th>OG_code</th>\n",
       "      <th>Production_Unit</th>\n",
       "      <th>Area</th>\n",
       "      <th>Ward_Nr/Name</th>\n",
       "      <th>Species</th>\n",
       "      <th>Surname</th>\n",
       "      <th>First_names</th>\n",
       "      <th>Sex</th>\n",
       "      <th>...</th>\n",
       "      <th>Certified_EC_only_2015</th>\n",
       "      <th>Inspection_2014</th>\n",
       "      <th>External_Inspection_2014</th>\n",
       "      <th>Certified_Organic_2014</th>\n",
       "      <th>Inspection_2013</th>\n",
       "      <th>Certified_Organic_2013</th>\n",
       "      <th>Inspection_2012</th>\n",
       "      <th>Entered_by</th>\n",
       "      <th>Source</th>\n",
       "      <th>date_contracted</th>\n",
       "    </tr>\n",
       "  </thead>\n",
       "  <tbody>\n",
       "  </tbody>\n",
       "</table>\n",
       "<p>0 rows × 60 columns</p>\n",
       "</div>"
      ],
      "text/plain": [
       "Empty DataFrame\n",
       "Columns: [ID, OG_Nr, OG_code, Production_Unit, Area, Ward_Nr/Name, Species, Surname, First_names, Sex, ID_Number, Date_of_Birth, Date_dropped_out, Reason_dropped_out, Harvesting_2019, Contact_person_y/n, Cluster, Address, GPS_Coordinates, Phone_Number, Contracted_by, Contract, map, Corrective_Actions, OG_Organic_Status, OG_Organic_Status_from_Date, Comment, Fairtrade, Assignment_2021, inspection_2021_A, Inspection_2021, External_inspection_2021, Harvesting_2021, Assignment_2019, Inspection_2019, External_inspection_2019, Assingment_2018, inspection_2018, External_inspection_2018, Certified_EC/NOP_2018, Assigment_2017, Inspection_2017, Assigment_2016, Inspection_2016, External_Inspection_2016, Certified_EC/NOP_2016, Certified_EC_only_2016, Inspection_2015, External_Inspection_2015, Certified_EC/NOP_2015, Certified_EC_only_2015, Inspection_2014, External_Inspection_2014, Certified_Organic_2014, Inspection_2013, Certified_Organic_2013, Inspection_2012, Entered_by, Source, date_contracted]\n",
       "Index: []\n",
       "\n",
       "[0 rows x 60 columns]"
      ]
     },
     "execution_count": 130,
     "metadata": {},
     "output_type": "execute_result"
    }
   ],
   "source": [
    "OGInfo__OGMB_1_df[OGInfo__OGMB_1_df['OG_Nr']==5157.0]"
   ]
  }
 ],
 "metadata": {
  "kernelspec": {
   "display_name": "nf_sql",
   "language": "python",
   "name": "python3"
  },
  "language_info": {
   "codemirror_mode": {
    "name": "ipython",
    "version": 3
   },
   "file_extension": ".py",
   "mimetype": "text/x-python",
   "name": "python",
   "nbconvert_exporter": "python",
   "pygments_lexer": "ipython3",
   "version": "3.9.16"
  },
  "orig_nbformat": 4
 },
 "nbformat": 4,
 "nbformat_minor": 2
}
