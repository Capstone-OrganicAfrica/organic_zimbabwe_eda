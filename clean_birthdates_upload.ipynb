{
 "cells": [
  {
   "cell_type": "code",
   "execution_count": null,
   "metadata": {},
   "outputs": [],
   "source": [
    "import pandas as pd\n",
    "import sql_functions as sf\n",
    "\n",
    "schema = 'organic_africa' \n",
    "engine = sf.get_engine()"
   ]
  },
  {
   "attachments": {},
   "cell_type": "markdown",
   "metadata": {},
   "source": [
    "## Collecting Date of Birth\n",
    "\n",
    "In order to merge with 'wc_info__WCOrg_1_df'"
   ]
  },
  {
   "cell_type": "code",
   "execution_count": null,
   "metadata": {},
   "outputs": [],
   "source": [
    "all_birthdates = {}\n",
    "\n",
    "all_birthdates['wc_insp_2013__WCOrg_df'] = sf.get_dataframe(f'SELECT * FROM {schema}.\"wc_insp_2013__WCOrg\"')\n",
    "all_birthdates['wc_insp_2014__WCOrg_df'] = sf.get_dataframe(f'SELECT * FROM {schema}.\"wc_insp_2014__WCOrg\"')\n",
    "all_birthdates['wc_insp_2015__WCOrg_df'] = sf.get_dataframe(f'SELECT * FROM {schema}.\"wc_insp_2015__WCOrg\"')\n",
    "all_birthdates['wc_insp_2016__WCOrg_df'] = sf.get_dataframe(f'SELECT * FROM {schema}.\"wc_insp_2016__WCOrg\"')\n",
    "all_birthdates['wc_insp_2017__WCOrg_df'] = sf.get_dataframe(f'SELECT * FROM {schema}.\"wc_insp_2017__WCOrg\"')"
   ]
  },
  {
   "cell_type": "code",
   "execution_count": null,
   "metadata": {},
   "outputs": [],
   "source": [
    "# Reduce df to the necessary ~2 columns\n",
    "columns_to_keep = ['WC_Nr', 'Date_of_birth']"
   ]
  }
 ],
 "metadata": {
  "language_info": {
   "name": "python"
  },
  "orig_nbformat": 4
 },
 "nbformat": 4,
 "nbformat_minor": 2
}
