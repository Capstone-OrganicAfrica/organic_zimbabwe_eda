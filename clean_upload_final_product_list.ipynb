{
 "cells": [
  {
   "attachments": {},
   "cell_type": "markdown",
   "metadata": {},
   "source": [
    "Data cleaning - create one product list. "
   ]
  },
  {
   "cell_type": "code",
   "execution_count": 1,
   "metadata": {},
   "outputs": [],
   "source": [
    "# Import get_dataframe function from the sql module\n",
    "import pandas as pd \n",
    "from sql_functions import get_dataframe"
   ]
  },
  {
   "cell_type": "code",
   "execution_count": 2,
   "metadata": {},
   "outputs": [],
   "source": [
    "schema = 'organic_africa'\n",
    "df1 = get_dataframe(f'SELECT * FROM {schema}.\"product_list__WCOrg\"') \n",
    "df2 = get_dataframe(f'SELECT * FROM {schema}.\"product_list__con_bayoba\"') \n",
    "df3 = get_dataframe(f'SELECT * FROM {schema}.\"product_list_bayoba\"')\n",
    "df4 = get_dataframe(f'SELECT * FROM {schema}.\"product_list_con__WCOrg\"')"
   ]
  },
  {
   "cell_type": "code",
   "execution_count": 18,
   "metadata": {},
   "outputs": [
    {
     "data": {
      "text/plain": [
       "['ID',\n",
       " 'Product_Code',\n",
       " 'Product',\n",
       " 'Old_Product_Code',\n",
       " 'Enlish_name',\n",
       " 'Latin_name',\n",
       " 'Plant_part',\n",
       " 'Quality']"
      ]
     },
     "metadata": {},
     "output_type": "display_data"
    },
    {
     "data": {
      "text/plain": [
       "['ID',\n",
       " 'Product_Code',\n",
       " 'Product',\n",
       " 'Old_Product_Code',\n",
       " 'Enlish_name',\n",
       " 'Latin_name',\n",
       " 'Quality',\n",
       " 'Plant_part']"
      ]
     },
     "metadata": {},
     "output_type": "display_data"
    },
    {
     "data": {
      "text/plain": [
       "['ID',\n",
       " 'Product_Code',\n",
       " 'Product',\n",
       " 'Enlish_name',\n",
       " 'Latin_name',\n",
       " 'Plant_part',\n",
       " 'Quality']"
      ]
     },
     "metadata": {},
     "output_type": "display_data"
    },
    {
     "data": {
      "text/plain": [
       "['ID',\n",
       " 'Product_Code',\n",
       " 'Product',\n",
       " 'Old_Product_Code',\n",
       " 'Enlish_name',\n",
       " 'Latin_name',\n",
       " 'Quality',\n",
       " 'Plant_part']"
      ]
     },
     "metadata": {},
     "output_type": "display_data"
    }
   ],
   "source": [
    "pd.set_option('display.max_rows', 20, 'display.max_columns', None)\n",
    "display(df1.columns.to_list(),\n",
    "df2.columns.to_list(),\n",
    "df3.columns.to_list(),\n",
    "df4.columns.to_list())\n"
   ]
  },
  {
   "cell_type": "code",
   "execution_count": 15,
   "metadata": {},
   "outputs": [
    {
     "data": {
      "text/html": [
       "<div>\n",
       "<style scoped>\n",
       "    .dataframe tbody tr th:only-of-type {\n",
       "        vertical-align: middle;\n",
       "    }\n",
       "\n",
       "    .dataframe tbody tr th {\n",
       "        vertical-align: top;\n",
       "    }\n",
       "\n",
       "    .dataframe thead th {\n",
       "        text-align: right;\n",
       "    }\n",
       "</style>\n",
       "<table border=\"1\" class=\"dataframe\">\n",
       "  <thead>\n",
       "    <tr style=\"text-align: right;\">\n",
       "      <th></th>\n",
       "      <th>Product_Code</th>\n",
       "      <th>Old_Product_Code</th>\n",
       "    </tr>\n",
       "  </thead>\n",
       "  <tbody>\n",
       "    <tr>\n",
       "      <th>0</th>\n",
       "      <td>001.2.50</td>\n",
       "      <td>1.0</td>\n",
       "    </tr>\n",
       "    <tr>\n",
       "      <th>1</th>\n",
       "      <td>002.2.10</td>\n",
       "      <td>3.0</td>\n",
       "    </tr>\n",
       "    <tr>\n",
       "      <th>2</th>\n",
       "      <td>003.2.10</td>\n",
       "      <td>5.0</td>\n",
       "    </tr>\n",
       "    <tr>\n",
       "      <th>3</th>\n",
       "      <td>004.2.40</td>\n",
       "      <td>61.0</td>\n",
       "    </tr>\n",
       "    <tr>\n",
       "      <th>4</th>\n",
       "      <td>006.2.10</td>\n",
       "      <td>19.0</td>\n",
       "    </tr>\n",
       "    <tr>\n",
       "      <th>...</th>\n",
       "      <td>...</td>\n",
       "      <td>...</td>\n",
       "    </tr>\n",
       "    <tr>\n",
       "      <th>161</th>\n",
       "      <td>110.2.40</td>\n",
       "      <td>7.0</td>\n",
       "    </tr>\n",
       "    <tr>\n",
       "      <th>162</th>\n",
       "      <td>111.2.34</td>\n",
       "      <td>366.0</td>\n",
       "    </tr>\n",
       "    <tr>\n",
       "      <th>163</th>\n",
       "      <td>112.2.10</td>\n",
       "      <td>372.0</td>\n",
       "    </tr>\n",
       "    <tr>\n",
       "      <th>164</th>\n",
       "      <td>1</td>\n",
       "      <td>NaN</td>\n",
       "    </tr>\n",
       "    <tr>\n",
       "      <th>165</th>\n",
       "      <td>2</td>\n",
       "      <td>NaN</td>\n",
       "    </tr>\n",
       "  </tbody>\n",
       "</table>\n",
       "<p>166 rows × 2 columns</p>\n",
       "</div>"
      ],
      "text/plain": [
       "    Product_Code  Old_Product_Code\n",
       "0       001.2.50               1.0\n",
       "1       002.2.10               3.0\n",
       "2       003.2.10               5.0\n",
       "3       004.2.40              61.0\n",
       "4       006.2.10              19.0\n",
       "..           ...               ...\n",
       "161     110.2.40               7.0\n",
       "162     111.2.34             366.0\n",
       "163     112.2.10             372.0\n",
       "164            1               NaN\n",
       "165            2               NaN\n",
       "\n",
       "[166 rows x 2 columns]"
      ]
     },
     "execution_count": 15,
     "metadata": {},
     "output_type": "execute_result"
    }
   ],
   "source": [
    "df4[['Product_Code','Old_Product_Code']]"
   ]
  },
  {
   "cell_type": "code",
   "execution_count": 23,
   "metadata": {},
   "outputs": [],
   "source": [
    "df1.drop('Old_Product_Code', axis=1, inplace=True)\n",
    "df2.drop('Old_Product_Code', axis=1, inplace=True)\n",
    "df4.drop('Old_Product_Code', axis=1, inplace=True)"
   ]
  },
  {
   "cell_type": "code",
   "execution_count": 24,
   "metadata": {},
   "outputs": [
    {
     "data": {
      "text/plain": [
       "['ID',\n",
       " 'Product_Code',\n",
       " 'Product',\n",
       " 'Enlish_name',\n",
       " 'Latin_name',\n",
       " 'Plant_part',\n",
       " 'Quality']"
      ]
     },
     "metadata": {},
     "output_type": "display_data"
    },
    {
     "data": {
      "text/plain": [
       "['ID',\n",
       " 'Product_Code',\n",
       " 'Product',\n",
       " 'Enlish_name',\n",
       " 'Latin_name',\n",
       " 'Quality',\n",
       " 'Plant_part']"
      ]
     },
     "metadata": {},
     "output_type": "display_data"
    },
    {
     "data": {
      "text/plain": [
       "['ID',\n",
       " 'Product_Code',\n",
       " 'Product',\n",
       " 'Enlish_name',\n",
       " 'Latin_name',\n",
       " 'Plant_part',\n",
       " 'Quality']"
      ]
     },
     "metadata": {},
     "output_type": "display_data"
    },
    {
     "data": {
      "text/plain": [
       "['ID',\n",
       " 'Product_Code',\n",
       " 'Product',\n",
       " 'Enlish_name',\n",
       " 'Latin_name',\n",
       " 'Quality',\n",
       " 'Plant_part']"
      ]
     },
     "metadata": {},
     "output_type": "display_data"
    }
   ],
   "source": [
    "display(df1.columns.to_list(),\n",
    "df2.columns.to_list(),\n",
    "df3.columns.to_list(),\n",
    "df4.columns.to_list())"
   ]
  },
  {
   "cell_type": "code",
   "execution_count": 25,
   "metadata": {},
   "outputs": [],
   "source": [
    "frames = [df1, df2, df3, df4]"
   ]
  },
  {
   "cell_type": "code",
   "execution_count": 33,
   "metadata": {},
   "outputs": [],
   "source": [
    "df_full = pd.concat(frames)"
   ]
  },
  {
   "cell_type": "code",
   "execution_count": 35,
   "metadata": {},
   "outputs": [
    {
     "data": {
      "text/plain": [
       "<bound method NDFrame.describe of       ID Product_Code                              Product        Enlish_name  \\\n",
       "0      1     001.1.50                      Anis seed (org)               Anis   \n",
       "1      2     002.1.10          Artemisia afra leaves (org)     Artemisia afra   \n",
       "2      3     003.1.10         Artemisia annua leaves (org)    Artemisia annua   \n",
       "3      4     004.1.40  Bird's Eye Chilli fruit whole (org)  Bird's Eye Chilli   \n",
       "4     14     006.1.10                   Basil leaves (org)              Basil   \n",
       "..   ...          ...                                  ...                ...   \n",
       "161  171     110.2.40        Bambara nut fruit whole (con)        Bambara nut   \n",
       "162  172     111.2.34             Valerian Root root (con)      Valerian Root   \n",
       "163  173     112.2.10                  Yarrow leaves (con)             Yarrow   \n",
       "164  174            1                 Contact Farmer Bonus               None   \n",
       "165  175            2                         Farmer Bonus               None   \n",
       "\n",
       "               Latin_name   Plant_part Quality  \n",
       "0       Pimpinella anisum         seed     org  \n",
       "1          Artemisia afra       leaves     org  \n",
       "2         Artemisia annua       leaves     org  \n",
       "3         Capsicum annuum  fruit whole     org  \n",
       "4        Ocimum basilicum       leaves     org  \n",
       "..                    ...          ...     ...  \n",
       "161  Voandzai subterrania  fruit whole     con  \n",
       "162                  None         root     con  \n",
       "163                  None       leaves     con  \n",
       "164                  None         None    None  \n",
       "165                  None         None    None  \n",
       "\n",
       "[375 rows x 7 columns]>"
      ]
     },
     "execution_count": 35,
     "metadata": {},
     "output_type": "execute_result"
    }
   ],
   "source": [
    "df_full.describe"
   ]
  },
  {
   "cell_type": "code",
   "execution_count": 42,
   "metadata": {},
   "outputs": [],
   "source": [
    "df_full_373 = df_full.drop_duplicates()"
   ]
  },
  {
   "cell_type": "code",
   "execution_count": 47,
   "metadata": {},
   "outputs": [
    {
     "data": {
      "text/plain": [
       "0      False\n",
       "1      False\n",
       "2      False\n",
       "3      False\n",
       "4      False\n",
       "       ...  \n",
       "159    False\n",
       "160    False\n",
       "161    False\n",
       "162    False\n",
       "163    False\n",
       "Name: Product_Code, Length: 373, dtype: bool"
      ]
     },
     "execution_count": 47,
     "metadata": {},
     "output_type": "execute_result"
    }
   ],
   "source": [
    "df_full_373['Product_Code'].duplicated()\n",
    "\n",
    "\n"
   ]
  },
  {
   "cell_type": "code",
   "execution_count": 49,
   "metadata": {},
   "outputs": [
    {
     "data": {
      "text/plain": [
       "Product_Code\n",
       "001.1.50    1\n",
       "001.2.50    1\n",
       "002.1.10    1\n",
       "002.2.10    1\n",
       "003.1.10    1\n",
       "           ..\n",
       "168.2.60    1\n",
       "169.2.50    1\n",
       "170.2.10    1\n",
       "171.2.10    1\n",
       "2           1\n",
       "Length: 364, dtype: int64"
      ]
     },
     "execution_count": 49,
     "metadata": {},
     "output_type": "execute_result"
    }
   ],
   "source": [
    "df_full_373.pivot_table(columns= ['Product_Code'], aggfunc='size')"
   ]
  },
  {
   "cell_type": "code",
   "execution_count": 51,
   "metadata": {},
   "outputs": [
    {
     "name": "stdout",
     "output_type": "stream",
     "text": [
      "Duplicate value: 1\n",
      "Duplicate value: 2\n",
      "Duplicate value: None\n"
     ]
    }
   ],
   "source": [
    "column_name = 'Product_Code'  # Specify the column name you want to check for duplicate values\n",
    "\n",
    "duplicates = df_full[column_name][df_full[column_name].duplicated(keep=False)].unique()\n",
    "\n",
    "for value in duplicates:\n",
    "    print(f\"Duplicate value: {value}\")"
   ]
  },
  {
   "cell_type": "code",
   "execution_count": 52,
   "metadata": {},
   "outputs": [
    {
     "name": "stdout",
     "output_type": "stream",
     "text": [
      "Duplicate value: Contact Farmer Bonus\n",
      "Duplicate value: Farmer Bonus\n",
      "Duplicate value: Rosella petals (con)\n"
     ]
    }
   ],
   "source": [
    "column_name = 'Product'  # Specify the column name you want to check for duplicate values\n",
    "\n",
    "duplicates = df_full[column_name][df_full[column_name].duplicated(keep=False)].unique()\n",
    "\n",
    "for value in duplicates:\n",
    "    print(f\"Duplicate value: {value}\")"
   ]
  },
  {
   "cell_type": "code",
   "execution_count": 53,
   "metadata": {},
   "outputs": [
    {
     "name": "stdout",
     "output_type": "stream",
     "text": [
      "<class 'pandas.core.frame.DataFrame'>\n",
      "Int64Index: 373 entries, 0 to 163\n",
      "Data columns (total 7 columns):\n",
      " #   Column        Non-Null Count  Dtype \n",
      "---  ------        --------------  ----- \n",
      " 0   ID            373 non-null    int64 \n",
      " 1   Product_Code  364 non-null    object\n",
      " 2   Product       373 non-null    object\n",
      " 3   Enlish_name   370 non-null    object\n",
      " 4   Latin_name    352 non-null    object\n",
      " 5   Plant_part    368 non-null    object\n",
      " 6   Quality       369 non-null    object\n",
      "dtypes: int64(1), object(6)\n",
      "memory usage: 23.3+ KB\n"
     ]
    }
   ],
   "source": [
    "df_full_373.info()"
   ]
  },
  {
   "cell_type": "code",
   "execution_count": 61,
   "metadata": {},
   "outputs": [
    {
     "data": {
      "text/html": [
       "<div>\n",
       "<style scoped>\n",
       "    .dataframe tbody tr th:only-of-type {\n",
       "        vertical-align: middle;\n",
       "    }\n",
       "\n",
       "    .dataframe tbody tr th {\n",
       "        vertical-align: top;\n",
       "    }\n",
       "\n",
       "    .dataframe thead th {\n",
       "        text-align: right;\n",
       "    }\n",
       "</style>\n",
       "<table border=\"1\" class=\"dataframe\">\n",
       "  <thead>\n",
       "    <tr style=\"text-align: right;\">\n",
       "      <th></th>\n",
       "      <th>index</th>\n",
       "      <th>ID</th>\n",
       "      <th>Product_Code</th>\n",
       "      <th>Product</th>\n",
       "      <th>Enlish_name</th>\n",
       "      <th>Latin_name</th>\n",
       "      <th>Plant_part</th>\n",
       "      <th>Quality</th>\n",
       "    </tr>\n",
       "  </thead>\n",
       "  <tbody>\n",
       "    <tr>\n",
       "      <th>0</th>\n",
       "      <td>0</td>\n",
       "      <td>1</td>\n",
       "      <td>001.1.50</td>\n",
       "      <td>Anis seed (org)</td>\n",
       "      <td>Anis</td>\n",
       "      <td>Pimpinella anisum</td>\n",
       "      <td>seed</td>\n",
       "      <td>org</td>\n",
       "    </tr>\n",
       "    <tr>\n",
       "      <th>1</th>\n",
       "      <td>1</td>\n",
       "      <td>2</td>\n",
       "      <td>002.1.10</td>\n",
       "      <td>Artemisia afra leaves (org)</td>\n",
       "      <td>Artemisia afra</td>\n",
       "      <td>Artemisia afra</td>\n",
       "      <td>leaves</td>\n",
       "      <td>org</td>\n",
       "    </tr>\n",
       "    <tr>\n",
       "      <th>2</th>\n",
       "      <td>2</td>\n",
       "      <td>3</td>\n",
       "      <td>003.1.10</td>\n",
       "      <td>Artemisia annua leaves (org)</td>\n",
       "      <td>Artemisia annua</td>\n",
       "      <td>Artemisia annua</td>\n",
       "      <td>leaves</td>\n",
       "      <td>org</td>\n",
       "    </tr>\n",
       "    <tr>\n",
       "      <th>3</th>\n",
       "      <td>3</td>\n",
       "      <td>4</td>\n",
       "      <td>004.1.40</td>\n",
       "      <td>Bird's Eye Chilli fruit whole (org)</td>\n",
       "      <td>Bird's Eye Chilli</td>\n",
       "      <td>Capsicum annuum</td>\n",
       "      <td>fruit whole</td>\n",
       "      <td>org</td>\n",
       "    </tr>\n",
       "    <tr>\n",
       "      <th>4</th>\n",
       "      <td>4</td>\n",
       "      <td>14</td>\n",
       "      <td>006.1.10</td>\n",
       "      <td>Basil leaves (org)</td>\n",
       "      <td>Basil</td>\n",
       "      <td>Ocimum basilicum</td>\n",
       "      <td>leaves</td>\n",
       "      <td>org</td>\n",
       "    </tr>\n",
       "    <tr>\n",
       "      <th>...</th>\n",
       "      <td>...</td>\n",
       "      <td>...</td>\n",
       "      <td>...</td>\n",
       "      <td>...</td>\n",
       "      <td>...</td>\n",
       "      <td>...</td>\n",
       "      <td>...</td>\n",
       "      <td>...</td>\n",
       "    </tr>\n",
       "    <tr>\n",
       "      <th>368</th>\n",
       "      <td>159</td>\n",
       "      <td>169</td>\n",
       "      <td>108.2.20</td>\n",
       "      <td>Elder flowers (con)</td>\n",
       "      <td>Elder</td>\n",
       "      <td>Sambucus nigra</td>\n",
       "      <td>flowers</td>\n",
       "      <td>con</td>\n",
       "    </tr>\n",
       "    <tr>\n",
       "      <th>369</th>\n",
       "      <td>160</td>\n",
       "      <td>170</td>\n",
       "      <td>109.2.10</td>\n",
       "      <td>Muccuna leaves (con)</td>\n",
       "      <td>Muccuna</td>\n",
       "      <td>None</td>\n",
       "      <td>leaves</td>\n",
       "      <td>con</td>\n",
       "    </tr>\n",
       "    <tr>\n",
       "      <th>370</th>\n",
       "      <td>161</td>\n",
       "      <td>171</td>\n",
       "      <td>110.2.40</td>\n",
       "      <td>Bambara nut fruit whole (con)</td>\n",
       "      <td>Bambara nut</td>\n",
       "      <td>Voandzai subterrania</td>\n",
       "      <td>fruit whole</td>\n",
       "      <td>con</td>\n",
       "    </tr>\n",
       "    <tr>\n",
       "      <th>371</th>\n",
       "      <td>162</td>\n",
       "      <td>172</td>\n",
       "      <td>111.2.34</td>\n",
       "      <td>Valerian Root root (con)</td>\n",
       "      <td>Valerian Root</td>\n",
       "      <td>None</td>\n",
       "      <td>root</td>\n",
       "      <td>con</td>\n",
       "    </tr>\n",
       "    <tr>\n",
       "      <th>372</th>\n",
       "      <td>163</td>\n",
       "      <td>173</td>\n",
       "      <td>112.2.10</td>\n",
       "      <td>Yarrow leaves (con)</td>\n",
       "      <td>Yarrow</td>\n",
       "      <td>None</td>\n",
       "      <td>leaves</td>\n",
       "      <td>con</td>\n",
       "    </tr>\n",
       "  </tbody>\n",
       "</table>\n",
       "<p>373 rows × 8 columns</p>\n",
       "</div>"
      ],
      "text/plain": [
       "     index   ID Product_Code                              Product  \\\n",
       "0        0    1     001.1.50                      Anis seed (org)   \n",
       "1        1    2     002.1.10          Artemisia afra leaves (org)   \n",
       "2        2    3     003.1.10         Artemisia annua leaves (org)   \n",
       "3        3    4     004.1.40  Bird's Eye Chilli fruit whole (org)   \n",
       "4        4   14     006.1.10                   Basil leaves (org)   \n",
       "..     ...  ...          ...                                  ...   \n",
       "368    159  169     108.2.20                  Elder flowers (con)   \n",
       "369    160  170     109.2.10                 Muccuna leaves (con)   \n",
       "370    161  171     110.2.40        Bambara nut fruit whole (con)   \n",
       "371    162  172     111.2.34             Valerian Root root (con)   \n",
       "372    163  173     112.2.10                  Yarrow leaves (con)   \n",
       "\n",
       "           Enlish_name            Latin_name   Plant_part Quality  \n",
       "0                 Anis     Pimpinella anisum         seed     org  \n",
       "1       Artemisia afra        Artemisia afra       leaves     org  \n",
       "2      Artemisia annua       Artemisia annua       leaves     org  \n",
       "3    Bird's Eye Chilli       Capsicum annuum  fruit whole     org  \n",
       "4                Basil      Ocimum basilicum       leaves     org  \n",
       "..                 ...                   ...          ...     ...  \n",
       "368              Elder        Sambucus nigra      flowers     con  \n",
       "369            Muccuna                  None       leaves     con  \n",
       "370        Bambara nut  Voandzai subterrania  fruit whole     con  \n",
       "371      Valerian Root                  None         root     con  \n",
       "372             Yarrow                  None       leaves     con  \n",
       "\n",
       "[373 rows x 8 columns]"
      ]
     },
     "execution_count": 61,
     "metadata": {},
     "output_type": "execute_result"
    }
   ],
   "source": [
    "df_full_373.reset_index()"
   ]
  },
  {
   "cell_type": "code",
   "execution_count": 74,
   "metadata": {},
   "outputs": [
    {
     "data": {
      "text/plain": [
       "['Product_Code',\n",
       " 'Product',\n",
       " 'Enlish_name',\n",
       " 'Latin_name',\n",
       " 'Plant_part',\n",
       " 'Quality']"
      ]
     },
     "execution_count": 74,
     "metadata": {},
     "output_type": "execute_result"
    }
   ],
   "source": [
    "df_full_373.columns.to_list()"
   ]
  },
  {
   "cell_type": "code",
   "execution_count": 73,
   "metadata": {},
   "outputs": [
    {
     "ename": "KeyError",
     "evalue": "\"['ID'] not found in axis\"",
     "output_type": "error",
     "traceback": [
      "\u001b[0;31m---------------------------------------------------------------------------\u001b[0m",
      "\u001b[0;31mKeyError\u001b[0m                                  Traceback (most recent call last)",
      "Cell \u001b[0;32mIn[73], line 1\u001b[0m\n\u001b[0;32m----> 1\u001b[0m df_full_373\u001b[39m.\u001b[39;49mdrop(\u001b[39m'\u001b[39;49m\u001b[39mID\u001b[39;49m\u001b[39m'\u001b[39;49m, axis\u001b[39m=\u001b[39;49m\u001b[39m1\u001b[39;49m, inplace\u001b[39m=\u001b[39;49m\u001b[39mTrue\u001b[39;49;00m)\n",
      "File \u001b[0;32m/opt/homebrew/Caskroom/miniconda/base/envs/nf_sql/lib/python3.9/site-packages/pandas/util/_decorators.py:331\u001b[0m, in \u001b[0;36mdeprecate_nonkeyword_arguments.<locals>.decorate.<locals>.wrapper\u001b[0;34m(*args, **kwargs)\u001b[0m\n\u001b[1;32m    325\u001b[0m \u001b[39mif\u001b[39;00m \u001b[39mlen\u001b[39m(args) \u001b[39m>\u001b[39m num_allow_args:\n\u001b[1;32m    326\u001b[0m     warnings\u001b[39m.\u001b[39mwarn(\n\u001b[1;32m    327\u001b[0m         msg\u001b[39m.\u001b[39mformat(arguments\u001b[39m=\u001b[39m_format_argument_list(allow_args)),\n\u001b[1;32m    328\u001b[0m         \u001b[39mFutureWarning\u001b[39;00m,\n\u001b[1;32m    329\u001b[0m         stacklevel\u001b[39m=\u001b[39mfind_stack_level(),\n\u001b[1;32m    330\u001b[0m     )\n\u001b[0;32m--> 331\u001b[0m \u001b[39mreturn\u001b[39;00m func(\u001b[39m*\u001b[39;49margs, \u001b[39m*\u001b[39;49m\u001b[39m*\u001b[39;49mkwargs)\n",
      "File \u001b[0;32m/opt/homebrew/Caskroom/miniconda/base/envs/nf_sql/lib/python3.9/site-packages/pandas/core/frame.py:5399\u001b[0m, in \u001b[0;36mDataFrame.drop\u001b[0;34m(self, labels, axis, index, columns, level, inplace, errors)\u001b[0m\n\u001b[1;32m   5251\u001b[0m \u001b[39m@deprecate_nonkeyword_arguments\u001b[39m(version\u001b[39m=\u001b[39m\u001b[39mNone\u001b[39;00m, allowed_args\u001b[39m=\u001b[39m[\u001b[39m\"\u001b[39m\u001b[39mself\u001b[39m\u001b[39m\"\u001b[39m, \u001b[39m\"\u001b[39m\u001b[39mlabels\u001b[39m\u001b[39m\"\u001b[39m])\n\u001b[1;32m   5252\u001b[0m \u001b[39mdef\u001b[39;00m \u001b[39mdrop\u001b[39m(  \u001b[39m# type: ignore[override]\u001b[39;00m\n\u001b[1;32m   5253\u001b[0m     \u001b[39mself\u001b[39m,\n\u001b[0;32m   (...)\u001b[0m\n\u001b[1;32m   5260\u001b[0m     errors: IgnoreRaise \u001b[39m=\u001b[39m \u001b[39m\"\u001b[39m\u001b[39mraise\u001b[39m\u001b[39m\"\u001b[39m,\n\u001b[1;32m   5261\u001b[0m ) \u001b[39m-\u001b[39m\u001b[39m>\u001b[39m DataFrame \u001b[39m|\u001b[39m \u001b[39mNone\u001b[39;00m:\n\u001b[1;32m   5262\u001b[0m     \u001b[39m\"\"\"\u001b[39;00m\n\u001b[1;32m   5263\u001b[0m \u001b[39m    Drop specified labels from rows or columns.\u001b[39;00m\n\u001b[1;32m   5264\u001b[0m \n\u001b[0;32m   (...)\u001b[0m\n\u001b[1;32m   5397\u001b[0m \u001b[39m            weight  1.0     0.8\u001b[39;00m\n\u001b[1;32m   5398\u001b[0m \u001b[39m    \"\"\"\u001b[39;00m\n\u001b[0;32m-> 5399\u001b[0m     \u001b[39mreturn\u001b[39;00m \u001b[39msuper\u001b[39;49m()\u001b[39m.\u001b[39;49mdrop(\n\u001b[1;32m   5400\u001b[0m         labels\u001b[39m=\u001b[39;49mlabels,\n\u001b[1;32m   5401\u001b[0m         axis\u001b[39m=\u001b[39;49maxis,\n\u001b[1;32m   5402\u001b[0m         index\u001b[39m=\u001b[39;49mindex,\n\u001b[1;32m   5403\u001b[0m         columns\u001b[39m=\u001b[39;49mcolumns,\n\u001b[1;32m   5404\u001b[0m         level\u001b[39m=\u001b[39;49mlevel,\n\u001b[1;32m   5405\u001b[0m         inplace\u001b[39m=\u001b[39;49minplace,\n\u001b[1;32m   5406\u001b[0m         errors\u001b[39m=\u001b[39;49merrors,\n\u001b[1;32m   5407\u001b[0m     )\n",
      "File \u001b[0;32m/opt/homebrew/Caskroom/miniconda/base/envs/nf_sql/lib/python3.9/site-packages/pandas/util/_decorators.py:331\u001b[0m, in \u001b[0;36mdeprecate_nonkeyword_arguments.<locals>.decorate.<locals>.wrapper\u001b[0;34m(*args, **kwargs)\u001b[0m\n\u001b[1;32m    325\u001b[0m \u001b[39mif\u001b[39;00m \u001b[39mlen\u001b[39m(args) \u001b[39m>\u001b[39m num_allow_args:\n\u001b[1;32m    326\u001b[0m     warnings\u001b[39m.\u001b[39mwarn(\n\u001b[1;32m    327\u001b[0m         msg\u001b[39m.\u001b[39mformat(arguments\u001b[39m=\u001b[39m_format_argument_list(allow_args)),\n\u001b[1;32m    328\u001b[0m         \u001b[39mFutureWarning\u001b[39;00m,\n\u001b[1;32m    329\u001b[0m         stacklevel\u001b[39m=\u001b[39mfind_stack_level(),\n\u001b[1;32m    330\u001b[0m     )\n\u001b[0;32m--> 331\u001b[0m \u001b[39mreturn\u001b[39;00m func(\u001b[39m*\u001b[39;49margs, \u001b[39m*\u001b[39;49m\u001b[39m*\u001b[39;49mkwargs)\n",
      "File \u001b[0;32m/opt/homebrew/Caskroom/miniconda/base/envs/nf_sql/lib/python3.9/site-packages/pandas/core/generic.py:4505\u001b[0m, in \u001b[0;36mNDFrame.drop\u001b[0;34m(self, labels, axis, index, columns, level, inplace, errors)\u001b[0m\n\u001b[1;32m   4503\u001b[0m \u001b[39mfor\u001b[39;00m axis, labels \u001b[39min\u001b[39;00m axes\u001b[39m.\u001b[39mitems():\n\u001b[1;32m   4504\u001b[0m     \u001b[39mif\u001b[39;00m labels \u001b[39mis\u001b[39;00m \u001b[39mnot\u001b[39;00m \u001b[39mNone\u001b[39;00m:\n\u001b[0;32m-> 4505\u001b[0m         obj \u001b[39m=\u001b[39m obj\u001b[39m.\u001b[39;49m_drop_axis(labels, axis, level\u001b[39m=\u001b[39;49mlevel, errors\u001b[39m=\u001b[39;49merrors)\n\u001b[1;32m   4507\u001b[0m \u001b[39mif\u001b[39;00m inplace:\n\u001b[1;32m   4508\u001b[0m     \u001b[39mself\u001b[39m\u001b[39m.\u001b[39m_update_inplace(obj)\n",
      "File \u001b[0;32m/opt/homebrew/Caskroom/miniconda/base/envs/nf_sql/lib/python3.9/site-packages/pandas/core/generic.py:4546\u001b[0m, in \u001b[0;36mNDFrame._drop_axis\u001b[0;34m(self, labels, axis, level, errors, only_slice)\u001b[0m\n\u001b[1;32m   4544\u001b[0m         new_axis \u001b[39m=\u001b[39m axis\u001b[39m.\u001b[39mdrop(labels, level\u001b[39m=\u001b[39mlevel, errors\u001b[39m=\u001b[39merrors)\n\u001b[1;32m   4545\u001b[0m     \u001b[39melse\u001b[39;00m:\n\u001b[0;32m-> 4546\u001b[0m         new_axis \u001b[39m=\u001b[39m axis\u001b[39m.\u001b[39;49mdrop(labels, errors\u001b[39m=\u001b[39;49merrors)\n\u001b[1;32m   4547\u001b[0m     indexer \u001b[39m=\u001b[39m axis\u001b[39m.\u001b[39mget_indexer(new_axis)\n\u001b[1;32m   4549\u001b[0m \u001b[39m# Case for non-unique axis\u001b[39;00m\n\u001b[1;32m   4550\u001b[0m \u001b[39melse\u001b[39;00m:\n",
      "File \u001b[0;32m/opt/homebrew/Caskroom/miniconda/base/envs/nf_sql/lib/python3.9/site-packages/pandas/core/indexes/base.py:6934\u001b[0m, in \u001b[0;36mIndex.drop\u001b[0;34m(self, labels, errors)\u001b[0m\n\u001b[1;32m   6932\u001b[0m \u001b[39mif\u001b[39;00m mask\u001b[39m.\u001b[39many():\n\u001b[1;32m   6933\u001b[0m     \u001b[39mif\u001b[39;00m errors \u001b[39m!=\u001b[39m \u001b[39m\"\u001b[39m\u001b[39mignore\u001b[39m\u001b[39m\"\u001b[39m:\n\u001b[0;32m-> 6934\u001b[0m         \u001b[39mraise\u001b[39;00m \u001b[39mKeyError\u001b[39;00m(\u001b[39mf\u001b[39m\u001b[39m\"\u001b[39m\u001b[39m{\u001b[39;00m\u001b[39mlist\u001b[39m(labels[mask])\u001b[39m}\u001b[39;00m\u001b[39m not found in axis\u001b[39m\u001b[39m\"\u001b[39m)\n\u001b[1;32m   6935\u001b[0m     indexer \u001b[39m=\u001b[39m indexer[\u001b[39m~\u001b[39mmask]\n\u001b[1;32m   6936\u001b[0m \u001b[39mreturn\u001b[39;00m \u001b[39mself\u001b[39m\u001b[39m.\u001b[39mdelete(indexer)\n",
      "\u001b[0;31mKeyError\u001b[0m: \"['ID'] not found in axis\""
     ]
    }
   ],
   "source": [
    "df_full_373.drop('ID', axis=1, inplace=True)"
   ]
  },
  {
   "cell_type": "code",
   "execution_count": 76,
   "metadata": {},
   "outputs": [
    {
     "data": {
      "text/html": [
       "<div>\n",
       "<style scoped>\n",
       "    .dataframe tbody tr th:only-of-type {\n",
       "        vertical-align: middle;\n",
       "    }\n",
       "\n",
       "    .dataframe tbody tr th {\n",
       "        vertical-align: top;\n",
       "    }\n",
       "\n",
       "    .dataframe thead th {\n",
       "        text-align: right;\n",
       "    }\n",
       "</style>\n",
       "<table border=\"1\" class=\"dataframe\">\n",
       "  <thead>\n",
       "    <tr style=\"text-align: right;\">\n",
       "      <th></th>\n",
       "      <th>Product_Code</th>\n",
       "      <th>Product</th>\n",
       "      <th>Enlish_name</th>\n",
       "      <th>Latin_name</th>\n",
       "      <th>Plant_part</th>\n",
       "      <th>Quality</th>\n",
       "    </tr>\n",
       "  </thead>\n",
       "  <tbody>\n",
       "    <tr>\n",
       "      <th>0</th>\n",
       "      <td>001.1.50</td>\n",
       "      <td>Anis seed (org)</td>\n",
       "      <td>Anis</td>\n",
       "      <td>Pimpinella anisum</td>\n",
       "      <td>seed</td>\n",
       "      <td>org</td>\n",
       "    </tr>\n",
       "    <tr>\n",
       "      <th>1</th>\n",
       "      <td>002.1.10</td>\n",
       "      <td>Artemisia afra leaves (org)</td>\n",
       "      <td>Artemisia afra</td>\n",
       "      <td>Artemisia afra</td>\n",
       "      <td>leaves</td>\n",
       "      <td>org</td>\n",
       "    </tr>\n",
       "    <tr>\n",
       "      <th>2</th>\n",
       "      <td>003.1.10</td>\n",
       "      <td>Artemisia annua leaves (org)</td>\n",
       "      <td>Artemisia annua</td>\n",
       "      <td>Artemisia annua</td>\n",
       "      <td>leaves</td>\n",
       "      <td>org</td>\n",
       "    </tr>\n",
       "    <tr>\n",
       "      <th>3</th>\n",
       "      <td>004.1.40</td>\n",
       "      <td>Bird's Eye Chilli fruit whole (org)</td>\n",
       "      <td>Bird's Eye Chilli</td>\n",
       "      <td>Capsicum annuum</td>\n",
       "      <td>fruit whole</td>\n",
       "      <td>org</td>\n",
       "    </tr>\n",
       "    <tr>\n",
       "      <th>4</th>\n",
       "      <td>006.1.10</td>\n",
       "      <td>Basil leaves (org)</td>\n",
       "      <td>Basil</td>\n",
       "      <td>Ocimum basilicum</td>\n",
       "      <td>leaves</td>\n",
       "      <td>org</td>\n",
       "    </tr>\n",
       "    <tr>\n",
       "      <th>...</th>\n",
       "      <td>...</td>\n",
       "      <td>...</td>\n",
       "      <td>...</td>\n",
       "      <td>...</td>\n",
       "      <td>...</td>\n",
       "      <td>...</td>\n",
       "    </tr>\n",
       "    <tr>\n",
       "      <th>45</th>\n",
       "      <td>034.1.10</td>\n",
       "      <td>Fenugreek leaves (org)</td>\n",
       "      <td>Fenugreek</td>\n",
       "      <td>Trigonella foenumgraecum</td>\n",
       "      <td>leaves</td>\n",
       "      <td>org</td>\n",
       "    </tr>\n",
       "    <tr>\n",
       "      <th>46</th>\n",
       "      <td>035.1.40</td>\n",
       "      <td>Garlic fruit whole (org)</td>\n",
       "      <td>Garlic</td>\n",
       "      <td>Allium sativum</td>\n",
       "      <td>fruit whole</td>\n",
       "      <td>org</td>\n",
       "    </tr>\n",
       "    <tr>\n",
       "      <th>47</th>\n",
       "      <td>035.1.60</td>\n",
       "      <td>Garlic oil (org)</td>\n",
       "      <td>Garlic</td>\n",
       "      <td>Allium sativum</td>\n",
       "      <td>oil</td>\n",
       "      <td>org</td>\n",
       "    </tr>\n",
       "    <tr>\n",
       "      <th>48</th>\n",
       "      <td>036.1.34</td>\n",
       "      <td>Ginger root (org)</td>\n",
       "      <td>Ginger</td>\n",
       "      <td>Zingiber officinale</td>\n",
       "      <td>root</td>\n",
       "      <td>org</td>\n",
       "    </tr>\n",
       "    <tr>\n",
       "      <th>49</th>\n",
       "      <td>037.1.10</td>\n",
       "      <td>Gotu kola leaves (org)</td>\n",
       "      <td>Gotu kola</td>\n",
       "      <td>Centella asiatica</td>\n",
       "      <td>leaves</td>\n",
       "      <td>org</td>\n",
       "    </tr>\n",
       "  </tbody>\n",
       "</table>\n",
       "<p>50 rows × 6 columns</p>\n",
       "</div>"
      ],
      "text/plain": [
       "   Product_Code                              Product        Enlish_name  \\\n",
       "0      001.1.50                      Anis seed (org)               Anis   \n",
       "1      002.1.10          Artemisia afra leaves (org)     Artemisia afra   \n",
       "2      003.1.10         Artemisia annua leaves (org)    Artemisia annua   \n",
       "3      004.1.40  Bird's Eye Chilli fruit whole (org)  Bird's Eye Chilli   \n",
       "4      006.1.10                   Basil leaves (org)              Basil   \n",
       "..          ...                                  ...                ...   \n",
       "45     034.1.10               Fenugreek leaves (org)          Fenugreek   \n",
       "46     035.1.40             Garlic fruit whole (org)             Garlic   \n",
       "47     035.1.60                     Garlic oil (org)             Garlic   \n",
       "48     036.1.34                    Ginger root (org)             Ginger   \n",
       "49     037.1.10               Gotu kola leaves (org)          Gotu kola   \n",
       "\n",
       "                  Latin_name   Plant_part Quality  \n",
       "0          Pimpinella anisum         seed     org  \n",
       "1             Artemisia afra       leaves     org  \n",
       "2            Artemisia annua       leaves     org  \n",
       "3            Capsicum annuum  fruit whole     org  \n",
       "4           Ocimum basilicum       leaves     org  \n",
       "..                       ...          ...     ...  \n",
       "45  Trigonella foenumgraecum       leaves     org  \n",
       "46            Allium sativum  fruit whole     org  \n",
       "47            Allium sativum          oil     org  \n",
       "48       Zingiber officinale         root     org  \n",
       "49         Centella asiatica       leaves     org  \n",
       "\n",
       "[50 rows x 6 columns]"
      ]
     },
     "execution_count": 76,
     "metadata": {},
     "output_type": "execute_result"
    }
   ],
   "source": [
    "df_full_373.head(50)"
   ]
  },
  {
   "cell_type": "code",
   "execution_count": 77,
   "metadata": {},
   "outputs": [],
   "source": [
    "# we need psycopg2 for raising possible error message\n",
    "import psycopg2\n",
    "import sqlalchemy \n",
    "from sql_functions import sqlalchemy \n",
    "from sql_functions import get_engine \n"
   ]
  },
  {
   "cell_type": "code",
   "execution_count": 78,
   "metadata": {},
   "outputs": [
    {
     "name": "stdout",
     "output_type": "stream",
     "text": [
      "The final_product_list table was imported successfully.\n"
     ]
    }
   ],
   "source": [
    "# Write records stored in a dataframe to SQL database\n",
    "engine = get_engine()\n",
    "table_name = 'final_product_list'\n",
    "if engine!=None:\n",
    "    try:\n",
    "        df_full_373.to_sql(name='final_product_list', # Name of SQL table variable - at the front its the dataframe!! \n",
    "                        con=engine, # Engine or connection\n",
    "                        schema='organic_africa', # your class schema variable\n",
    "                        if_exists='replace', # Drop the table before inserting new values \n",
    "                        index=False, # Write DataFrame index as a column\n",
    "                        chunksize=5000, # Specify the number of rows in each batch to be written at a time\n",
    "                        method='multi') # Pass multiple values in a single INSERT clause\n",
    "        print(f\"The {table_name} table was imported successfully.\")\n",
    "    # Error handling\n",
    "    except (Exception, psycopg2.DatabaseError) as error:\n",
    "        print(error)\n",
    "        engine = None\n",
    "else:\n",
    "    print('No engine')"
   ]
  },
  {
   "cell_type": "code",
   "execution_count": 80,
   "metadata": {},
   "outputs": [
    {
     "data": {
      "text/plain": [
       "array(['Anis seed (org)', 'Artemisia afra leaves (org)',\n",
       "       'Artemisia annua leaves (org)',\n",
       "       \"Bird's Eye Chilli fruit whole (org)\", 'Basil leaves (org)',\n",
       "       'Basil oil (org)', 'Bay Leaf leaves (org)',\n",
       "       'Butternut fruit whole (org)', 'Cabbage plant whole (org)',\n",
       "       'Calendula flowers (org)', 'Calendula petals (org)',\n",
       "       'Calendula seed (org)', 'Camomille leaves (org)',\n",
       "       'Camomille flowers (org)', 'Camphor oil (org)',\n",
       "       'Cape chestnut oil (org)', 'Cardamon seed (org)',\n",
       "       'Carraway seed (org)', 'Carrot plant whole (org)',\n",
       "       'Cayenne Chilli fruit whole (org)', 'Chives leaves (org)',\n",
       "       'Citronella oil  (org)', 'Coriander leaves (org)',\n",
       "       'Coriander seed (org)', 'Cornflower flowers (org)',\n",
       "       'Cornflower petals (org)', 'Cornflower seed (org)',\n",
       "       'Cotton plant part (org)', 'Creeping Thyme leaves (org)',\n",
       "       'Creeping Thyme oil (org)', 'Cumin seed (org)',\n",
       "       'Curry Plant leaves (org)', 'Dandelion leaves (org)',\n",
       "       'Dandelion root (org)', 'Devil’s Claw plant part (org)',\n",
       "       'Devil’s Claw root (org)', 'Devil’s Claw seed (org)',\n",
       "       'Dill leaves (org)', 'Eucalyptus (citrodoria) oil (org)',\n",
       "       'Eucalyptus (globulus) oil (org)', 'Eucalyptus (smitii) oil (org)',\n",
       "       'Evening Primrose oil (org)', 'Fennel leaves (org)',\n",
       "       'Fennel seed (org)', 'Fennel oil (org)', 'Fenugreek leaves (org)',\n",
       "       'Garlic fruit whole (org)', 'Garlic oil (org)',\n",
       "       'Ginger root (org)', 'Gotu kola leaves (org)',\n",
       "       'Granadilla fruit whole (org)',\n",
       "       'Grapefruit (Star Ruby) fruit whole (org)',\n",
       "       'Grapefruit (Star Ruby) oil (org)',\n",
       "       'Grapefruit (White Marsh) fruit whole (org)',\n",
       "       'Grapefruit (White Marsh) oil (org)',\n",
       "       'Kigelia (Sausage tree) leaves (org)',\n",
       "       'Kigelia (Sausage tree) fruit whole (org)',\n",
       "       'Spanish Flag oil (org)', 'Lavender leaves (org)',\n",
       "       'Lavender oil (org)', 'Mustard (Brassica) seed (org)',\n",
       "       'Mustard (Brassica) oil (org)',\n",
       "       'Melissa (lemon balm) leaves (org)', 'Lemon balm oil (org)',\n",
       "       'Lemon grass leaves (org)', 'Lemon grass oil (org)',\n",
       "       'Lemon Thyme leaves (org)', 'Lemon verbena leaves (org)',\n",
       "       'Leonotis leonurus flowers (org)',\n",
       "       'Leonotis leonurus whole plant plant whole (org)',\n",
       "       'Lettuce plant whole (org)', 'Linseed oil (org)',\n",
       "       'Lippia Javanica oil (org)',\n",
       "       'Malva sylvestris (blue)  petals (org)', 'Marjoram leaves (org)',\n",
       "       'Marjoram oil (org)', 'Mint oil (org)', 'Mint leaves (org)',\n",
       "       'Moringa leaves (org)', 'Moringa seed (org)',\n",
       "       'Mustard (Sinapus) seed (org)', 'Onion plant whole (org)',\n",
       "       'Orange flowers (org)', 'Orange fruit whole (org)',\n",
       "       'Orange Oil sweet oil (org)', 'Orange fruit part (org)',\n",
       "       'Oregano leaves (org)', 'Oregano oil (org)', 'Papaya leaves (org)',\n",
       "       'Papaya fruit whole (org)', 'Paprika Coarse fruit whole (org)',\n",
       "       'Paprika Coarse oil (org)', 'Parsley leaves (org)',\n",
       "       'Parsley oil (org)', 'Parsley seed (org)', 'Pea fruit whole (org)',\n",
       "       'Pea, pigeon fruit whole (org)', 'Peanuts fruit whole (org)',\n",
       "       'Pepper seed (org)', 'Peppermint leaves (org)',\n",
       "       'Peppermint oil (org)', 'Pineapple sage leaves (org)',\n",
       "       'Pineapple sage flowers (org)', 'Poppy seed (org)',\n",
       "       'Potato root (org)', 'Rapoco seed (org)',\n",
       "       'Resurrection bush plant part (org)',\n",
       "       'Resurrection bush oil (org)', 'Rose flowers (org)',\n",
       "       'Rose oil (org)', 'Rose Geranium (Bourbon) oil (org)',\n",
       "       'Rose Geranium (Graveolens) oil (org)',\n",
       "       'Rosella (subdariffa) petals (org)',\n",
       "       'Rosella (subdariffa) seed (org)', 'Rosemary leaves (org)',\n",
       "       'Rosemary oil (org)', 'Roundnut fruit whole (org)',\n",
       "       'Safflower flowers (org)', 'Safflower seed (org)',\n",
       "       'Safflower oil (org)', 'Sesame seed (org)', 'Sage leaves (org)',\n",
       "       'Sage oil (org)', 'Soybean fruit whole (org)', 'Soybean oil (org)',\n",
       "       'Stinging nettle leaves (org)', 'Strawberry leaves leaves (org)',\n",
       "       'Strawberry fruit whole (org)', 'Strophanthus (gratus) seed (org)',\n",
       "       'Strophanthus (kombe) seed (org)', 'Sugarbean fruit whole (org)',\n",
       "       'Sunflower petals (org)', 'Sunflower oil (org)',\n",
       "       'Sunflower seed (org)', 'Sunhemp leaves (org)',\n",
       "       'Tagetes flowers (org)', 'Tagetes plant part (org)',\n",
       "       'Tagetes seed (org)', 'Tagetes oil (org)', 'Tarragon leaves (org)',\n",
       "       'Tea Tree oil (org)', 'Tomato fruit whole (org)',\n",
       "       'Tumeric root (org)', 'Basil (French) leaves (org)',\n",
       "       'Burdrock root (org)', 'Basil (French) oil (org)',\n",
       "       'Ghost tree leaves (org)', 'Ghost tree gum (org)',\n",
       "       'Ghost tree fruit whole (org)', 'Ghost tree seed (org)',\n",
       "       'Rosella (abelmoshus) petals (org)',\n",
       "       'Rosella (abelmoshus) seed (org)',\n",
       "       'Sesbania grandiflora flowers (org)', 'Feverfew leaves (org)',\n",
       "       'Horsetail leaves (org)', 'Jasmin flowers (org)',\n",
       "       'Lucern leaves (org)', 'Macademia nut fruit whole (org)',\n",
       "       'Makoni leaves (org)', 'Elder flowers (org)',\n",
       "       'Muccuna leaves (org)', 'Bambara nut fruit whole (org)',\n",
       "       'Valerian Root root (org)', 'Yarrow leaves (org)',\n",
       "       'Contact Farmer Bonus', 'Farmer Bonus',\n",
       "       'Devils claw root (org) wet', 'Devil’s Claw plant part (org) wet',\n",
       "       'Baobab leaves (con)', 'Baobab flowers (con)',\n",
       "       'Baobab fibre (con)', 'Baobab fruit whole (con)',\n",
       "       'Baobab pulp and seed (con)', 'Baobab seed (con)',\n",
       "       'Baobab seed cake (con)', 'Baobab oil (con)',\n",
       "       'Baobab powder (con)', 'Trichillia emetica (con)',\n",
       "       'Rosella petals (con)', 'Baobab leaves (org)',\n",
       "       'Baobab flowers (org)', 'Baobab fibre (org)',\n",
       "       'Baobab fruit whole (org)', 'Baobab pulp and seed (org)',\n",
       "       'Baobab seed (org)', 'Baobab seed cake (org)', 'Baobab oil (org)',\n",
       "       'Baobab powder (org)', 'Ximenia Americana seed (org)',\n",
       "       'Ximenia Americana oil (org)', 'Ximenia Caffra Seed (org)',\n",
       "       'Ximenia Caffra oil (org)', 'Mongongo seed (org)',\n",
       "       'Mongongo oil (org)', 'Marula seed (org)', 'Marula oil (org)',\n",
       "       'Mafura butter seed (org)', 'Mafura butter oil (org)',\n",
       "       'kalahari melon seed (org)', 'kalahari melon oil (org)',\n",
       "       'Mobola plums (org)', 'Lipia Javanica (zumbani)',\n",
       "       'Resurection Bush', 'Trichillia emetica (org)', 'Zumbani leaves',\n",
       "       'Marula Kennels', 'KMS + Ximenia', 'Baobab+KMS+Ximenia (org)',\n",
       "       'Anis seed (con)', 'Artemisia afra leaves (con)',\n",
       "       'Artemisia annua leaves (con)',\n",
       "       \"Bird's Eye Chilli fruit whole (con)\", 'Basil leaves (con)',\n",
       "       'Basil oil (con)', 'Bay Leaf leaves (con)',\n",
       "       'Butternut fruit whole (con)', 'Cabbage plant whole (con)',\n",
       "       'Calendula flowers (con)', 'Calendula petals (con)',\n",
       "       'Calendula seed (con)', 'Camomille leaves (con)',\n",
       "       'Camomille flowers (con)', 'Camphor oil (con)',\n",
       "       'Cape chestnut oil (con)', 'Cardamon seed (con)',\n",
       "       'Carraway seed (con)', 'Carrot plant whole (con)',\n",
       "       'Cayenne Chilli fruit whole (con)', 'Chives leaves (con)',\n",
       "       'Citronella oil  (con)', 'Coriander leaves (con)',\n",
       "       'Coriander seed (con)', 'Cornflower flowers (con)',\n",
       "       'Cornflower petals (con)', 'Cornflower seed (con)',\n",
       "       'Cotton plant part (con)', 'Creeping Thyme leaves (con)',\n",
       "       'Creeping Thyme oil (con)', 'Cumin seed (con)',\n",
       "       'Curry Plant leaves (con)', 'Dandelion leaves (con)',\n",
       "       'Dandelion root (con)', 'Devil’s Claw plant part (con)',\n",
       "       'Devil’s Claw root (con)', 'Devil’s Claw seed (con)',\n",
       "       'Dill leaves (con)', 'Eucalyptus (citrodoria) oil (con)',\n",
       "       'Eucalyptus (globulus) oil (con)', 'Eucalyptus (smitii) oil (con)',\n",
       "       'Evening Primrose oil (con)', 'Fennel leaves (con)',\n",
       "       'Fennel seed (con)', 'Fennel oil (con)', 'Fenugreek leaves (con)',\n",
       "       'Garlic fruit whole (con)', 'Garlic oil (con)',\n",
       "       'Ginger root (con)', 'Gotu kola leaves (con)',\n",
       "       'Granadilla fruit whole (con)',\n",
       "       'Grapefruit (Star Ruby) fruit whole (con)',\n",
       "       'Grapefruit (Star Ruby) oil (con)',\n",
       "       'Grapefruit (White Marsh) fruit whole (con)',\n",
       "       'Grapefruit (White Marsh) oil (con)',\n",
       "       'Kigelia (Sausage tree) leaves (con)',\n",
       "       'Kigelia (Sausage tree) fruit whole (con)',\n",
       "       'Spanish Flag oil (con)', 'Lavender leaves (con)',\n",
       "       'Lavender oil (con)', 'Mustard (Brassica) seed (con)',\n",
       "       'Mustard (Brassica) oil (con)',\n",
       "       'Melissa (lemon balm) leaves (con)', 'Lemon balm oil (con)',\n",
       "       'Lemon grass leaves (con)', 'Lemon grass oil (con)',\n",
       "       'Lemon Thyme leaves (con)', 'Lemon verbena leaves (con)',\n",
       "       'Leonotis leonurus flowers (con)',\n",
       "       'Leonotis leonurus whole plant plant whole (con)',\n",
       "       'Lettuce plant whole (con)', 'Linseed oil (con)',\n",
       "       'Lippia Javanica oil (con)',\n",
       "       'Malva sylvestris (blue)  flowers (con)', 'Marjoram leaves (con)',\n",
       "       'Marjoram oil (con)', 'Mint leaves (con)', 'Mint oil (con)',\n",
       "       'Moringa leaves (con)', 'Moringa seed (con)',\n",
       "       'Mustard (Sinapus) seed (con)', 'Onion plant whole (con)',\n",
       "       'Orange fruit part (con)', 'Orange flowers (con)',\n",
       "       'Orange fruit whole (con)', 'Orange Oil sweet oil (con)',\n",
       "       'Oregano oil (con)', 'Oregano leaves (con)', 'Papaya leaves (con)',\n",
       "       'Papaya fruit whole (con)', 'Paprika Coarse fruit whole (con)',\n",
       "       'Paprika Coarse oil (con)', 'Parsley seed (con)',\n",
       "       'Parsley leaves (con)', 'Parsley oil (con)',\n",
       "       'Pea fruit whole (con)', 'Pea, pigeon fruit whole (con)',\n",
       "       'Peanuts fruit whole (con)', 'Pepper seed (con)',\n",
       "       'Peppermint leaves (con)', 'Peppermint oil (con)',\n",
       "       'Pineapple sage leaves (con)', 'Pineapple sage flowers (con)',\n",
       "       'Poppy seed (con)', 'Potato root (con)', 'Rapoco seed (con)',\n",
       "       'Resurrection bush oil (con)',\n",
       "       'Resurrection bush plant part (con)', 'Rose flowers (con)',\n",
       "       'Rose oil (con)', 'Rose Geranium (Bourbon) oil (con)',\n",
       "       'Rose Geranium (Graveolens) oil (con)',\n",
       "       'Rosella (subdariffa) petals (con)',\n",
       "       'Rosella (subdariffa) seed (con)', 'Rosemary leaves (con)',\n",
       "       'Rosemary oil (con)', 'Roundnut fruit whole (con)',\n",
       "       'Safflower petals (con)', 'Safflower seed (con)',\n",
       "       'Safflower oil (con)', 'Sesame seed (con)', 'Sage leaves (con)',\n",
       "       'Sage oil (con)', 'Soybean fruit whole (con)', 'Soybean oil (con)',\n",
       "       'Stinging nettle leaves (con)', 'Strawberry leaves leaves (con)',\n",
       "       'Strawberry fruit whole (con)', 'Strophanthus (gratus) seed (con)',\n",
       "       'Strophanthus (kombe) seed (con)', 'Sugarbean fruit whole (con)',\n",
       "       'Sunflower seed (con)', 'Sunflower petals (con)',\n",
       "       'Sunflower oil (con)', 'Sunhemp leaves (con)',\n",
       "       'Tagetes flowers (con)', 'Tagetes plant part (con)',\n",
       "       'Tagetes seed (con)', 'Tagetes oil (con)', 'Tarragon leaves (con)',\n",
       "       'Tea Tree oil (con)', 'Tomato fruit whole (con)',\n",
       "       'Tumeric root (con)', 'Basil (French) leaves (con)',\n",
       "       'Burdrock root (con)', 'Basil (French) oil (con)',\n",
       "       'Ghost tree leaves (con)', 'Ghost tree gum (con)',\n",
       "       'Ghost tree fruit whole (con)', 'Ghost tree seed (con)',\n",
       "       'Rosella (abelmoshus) petals (con)',\n",
       "       'Rosella (abelmoshus) seed (con)',\n",
       "       'Sesbania grandiflora flowers (con)', 'Feverfew leaves (con)',\n",
       "       'Horsetail leaves (con)', 'Jasmin flowers (con)',\n",
       "       'Lucern leaves (con)', 'Macademia nut fruit whole (con)',\n",
       "       'Makoni leaves (con)', 'Elder flowers (con)',\n",
       "       'Muccuna leaves (con)', 'Bambara nut fruit whole (con)',\n",
       "       'Valerian Root root (con)', 'Yarrow leaves (con)'], dtype=object)"
      ]
     },
     "execution_count": 80,
     "metadata": {},
     "output_type": "execute_result"
    }
   ],
   "source": [
    "df_full_373['Product'].unique()"
   ]
  }
 ],
 "metadata": {
  "kernelspec": {
   "display_name": "nf_sql",
   "language": "python",
   "name": "python3"
  },
  "language_info": {
   "codemirror_mode": {
    "name": "ipython",
    "version": 3
   },
   "file_extension": ".py",
   "mimetype": "text/x-python",
   "name": "python",
   "nbconvert_exporter": "python",
   "pygments_lexer": "ipython3",
   "version": "3.9.16"
  },
  "orig_nbformat": 4
 },
 "nbformat": 4,
 "nbformat_minor": 2
}
